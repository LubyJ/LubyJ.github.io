{
 "cells": [
  {
   "cell_type": "markdown",
   "id": "fb160e47",
   "metadata": {},
   "source": [
    "영어로 만들었던 챗봇을 한국어 데이터로 바꿔서 훈련시켜봅시다.\n",
    "\n",
    "시작하기 전에 우선 주요 라이브러리 버전을 확인해 봅시다."
   ]
  },
  {
   "cell_type": "code",
   "execution_count": 1,
   "id": "6a72bd34",
   "metadata": {},
   "outputs": [],
   "source": [
    "import tensorflow as tf\n",
    "import pandas as pd\n",
    "import re"
   ]
  },
  {
   "cell_type": "markdown",
   "id": "8d7abb71",
   "metadata": {},
   "source": [
    "## Step 1. 데이터 수집하기\n",
    "---\n",
    "한국어 챗봇 데이터는 송영숙님이 공개한 챗봇 데이터를 사용합니다.\n",
    "\n",
    "이 데이터는 아래의 링크에서 다운로드할 수 있습니다."
   ]
  },
  {
   "cell_type": "code",
   "execution_count": 2,
   "id": "fc5273ca",
   "metadata": {
    "scrolled": true
   },
   "outputs": [
    {
     "data": {
      "text/html": [
       "<div>\n",
       "<style scoped>\n",
       "    .dataframe tbody tr th:only-of-type {\n",
       "        vertical-align: middle;\n",
       "    }\n",
       "\n",
       "    .dataframe tbody tr th {\n",
       "        vertical-align: top;\n",
       "    }\n",
       "\n",
       "    .dataframe thead th {\n",
       "        text-align: right;\n",
       "    }\n",
       "</style>\n",
       "<table border=\"1\" class=\"dataframe\">\n",
       "  <thead>\n",
       "    <tr style=\"text-align: right;\">\n",
       "      <th></th>\n",
       "      <th>Q</th>\n",
       "      <th>A</th>\n",
       "      <th>label</th>\n",
       "    </tr>\n",
       "  </thead>\n",
       "  <tbody>\n",
       "    <tr>\n",
       "      <th>0</th>\n",
       "      <td>12시 땡!</td>\n",
       "      <td>하루가 또 가네요.</td>\n",
       "      <td>0</td>\n",
       "    </tr>\n",
       "    <tr>\n",
       "      <th>1</th>\n",
       "      <td>1지망 학교 떨어졌어</td>\n",
       "      <td>위로해 드립니다.</td>\n",
       "      <td>0</td>\n",
       "    </tr>\n",
       "    <tr>\n",
       "      <th>2</th>\n",
       "      <td>3박4일 놀러가고 싶다</td>\n",
       "      <td>여행은 언제나 좋죠.</td>\n",
       "      <td>0</td>\n",
       "    </tr>\n",
       "    <tr>\n",
       "      <th>3</th>\n",
       "      <td>3박4일 정도 놀러가고 싶다</td>\n",
       "      <td>여행은 언제나 좋죠.</td>\n",
       "      <td>0</td>\n",
       "    </tr>\n",
       "    <tr>\n",
       "      <th>4</th>\n",
       "      <td>PPL 심하네</td>\n",
       "      <td>눈살이 찌푸려지죠.</td>\n",
       "      <td>0</td>\n",
       "    </tr>\n",
       "  </tbody>\n",
       "</table>\n",
       "</div>"
      ],
      "text/plain": [
       "                 Q            A  label\n",
       "0           12시 땡!   하루가 또 가네요.      0\n",
       "1      1지망 학교 떨어졌어    위로해 드립니다.      0\n",
       "2     3박4일 놀러가고 싶다  여행은 언제나 좋죠.      0\n",
       "3  3박4일 정도 놀러가고 싶다  여행은 언제나 좋죠.      0\n",
       "4          PPL 심하네   눈살이 찌푸려지죠.      0"
      ]
     },
     "execution_count": 2,
     "metadata": {},
     "output_type": "execute_result"
    }
   ],
   "source": [
    "file_path = '../transformer_chatbot/data/ChatbotData .csv'\n",
    "data = pd.read_csv(file_path, header=0)\n",
    "data.head()"
   ]
  },
  {
   "cell_type": "code",
   "execution_count": 3,
   "id": "9de2fbd9",
   "metadata": {
    "scrolled": true
   },
   "outputs": [
    {
     "data": {
      "text/plain": [
       "(11823, 3)"
      ]
     },
     "execution_count": 3,
     "metadata": {},
     "output_type": "execute_result"
    }
   ],
   "source": [
    "data.shape"
   ]
  },
  {
   "cell_type": "code",
   "execution_count": 4,
   "id": "fcb6f721",
   "metadata": {},
   "outputs": [
    {
     "data": {
      "text/plain": [
       "Q        0\n",
       "A        0\n",
       "label    0\n",
       "dtype: int64"
      ]
     },
     "execution_count": 4,
     "metadata": {},
     "output_type": "execute_result"
    }
   ],
   "source": [
    "data.isna().sum()"
   ]
  },
  {
   "cell_type": "markdown",
   "id": "702c0717",
   "metadata": {},
   "source": [
    "## Step 2. 데이터 전처리하기\n",
    "---\n",
    "영어 데이터와는 전혀 다른 데이터인 만큼 영어 데이터에 사용했던 전처리와 일부 동일한 전처리도 필요하겠지만 전체적으로는 다른 전처리를 수행해야 할 수도 있습니다."
   ]
  },
  {
   "cell_type": "code",
   "execution_count": 5,
   "id": "5127ad8b",
   "metadata": {},
   "outputs": [],
   "source": [
    "Q = []\n",
    "for sentence in data.Q:\n",
    "    sentence = re.sub(r\"([?.!,])\", r\" \\1 \", sentence)\n",
    "    sentence = sentence.strip()\n",
    "    Q.append(sentence)"
   ]
  },
  {
   "cell_type": "code",
   "execution_count": 6,
   "id": "0cceaa97",
   "metadata": {},
   "outputs": [],
   "source": [
    "A = []\n",
    "for sentence in data.A:\n",
    "    sentence = re.sub(r\"([?.!,])\", r\" \\1 \", sentence)\n",
    "    sentence = sentence.strip()\n",
    "    A.append(sentence)"
   ]
  },
  {
   "cell_type": "code",
   "execution_count": 7,
   "id": "94d4898e",
   "metadata": {
    "scrolled": false
   },
   "outputs": [
    {
     "name": "stdout",
     "output_type": "stream",
     "text": [
      "['12시 땡 !', '1지망 학교 떨어졌어', '3박4일 놀러가고 싶다', '3박4일 정도 놀러가고 싶다', 'PPL 심하네']\n",
      "['하루가 또 가네요 .', '위로해 드립니다 .', '여행은 언제나 좋죠 .', '여행은 언제나 좋죠 .', '눈살이 찌푸려지죠 .']\n"
     ]
    }
   ],
   "source": [
    "print(Q[:5])\n",
    "print(A[:5])"
   ]
  },
  {
   "cell_type": "markdown",
   "id": "1a644b2d",
   "metadata": {},
   "source": [
    "## Step 3. SubwordTextEncoder 사용하기\n",
    "---\n",
    "한국어 데이터는 형태소 분석기를 사용하여 토크나이징을 해야 한다고 많은 분이 알고 있습니다. 하지만 여기서는 형태소 분석기가 아닌 위 실습에서 사용했던 내부 단어 토크나이저인 SubwordTextEncoder를 그대로 사용해보세요."
   ]
  },
  {
   "cell_type": "markdown",
   "id": "0146a68f",
   "metadata": {},
   "source": [
    "### 3.1 단어장 만들기"
   ]
  },
  {
   "cell_type": "code",
   "execution_count": 8,
   "id": "1dda8a75",
   "metadata": {},
   "outputs": [],
   "source": [
    "import tensorflow_datasets as tfds\n",
    "\n",
    "tokenizer = tfds.deprecated.text.SubwordTextEncoder.build_from_corpus(Q + A, target_vocab_size=2**13)"
   ]
  },
  {
   "cell_type": "markdown",
   "id": "099b2417",
   "metadata": {},
   "source": [
    "시작 토큰과 종료 토큰에 고유한 정수 부여"
   ]
  },
  {
   "cell_type": "code",
   "execution_count": 9,
   "id": "1a34a181",
   "metadata": {},
   "outputs": [
    {
     "name": "stdout",
     "output_type": "stream",
     "text": [
      "START_TOKEN의 번호 : [8178]\n",
      "END_TOKEN의 번호 : [8179]\n"
     ]
    }
   ],
   "source": [
    "START_TOKEN, END_TOKEN = [tokenizer.vocab_size], [tokenizer.vocab_size + 1]\n",
    "print('START_TOKEN의 번호 :' ,[tokenizer.vocab_size])\n",
    "print('END_TOKEN의 번호 :' ,[tokenizer.vocab_size + 1])"
   ]
  },
  {
   "cell_type": "markdown",
   "id": "946d9345",
   "metadata": {},
   "source": [
    "시작 토큰과 종료 토큰을 고려하여 +2를 하여 단어장의 크기를 산정"
   ]
  },
  {
   "cell_type": "code",
   "execution_count": 10,
   "id": "65f6b4de",
   "metadata": {},
   "outputs": [
    {
     "name": "stdout",
     "output_type": "stream",
     "text": [
      "8180\n"
     ]
    }
   ],
   "source": [
    "VOCAB_SIZE = tokenizer.vocab_size + 2\n",
    "print(VOCAB_SIZE)"
   ]
  },
  {
   "cell_type": "markdown",
   "id": "1faee0b6",
   "metadata": {},
   "source": [
    "### 3.2 각 단어를 고유 정수로 인코딩 & 패딩"
   ]
  },
  {
   "cell_type": "markdown",
   "id": "7a2e57c0",
   "metadata": {},
   "source": [
    "각 질문과 답변 샘플 한개를 인코딩, 디코딩 해보기"
   ]
  },
  {
   "cell_type": "code",
   "execution_count": 11,
   "id": "5f8e6163",
   "metadata": {},
   "outputs": [
    {
     "name": "stdout",
     "output_type": "stream",
     "text": [
      "정수 인코딩 후의 21번째 질문 샘플: [5766, 611, 2495, 4167]\n",
      "정수 인코딩 후의 21번째 답변 샘플: [2359, 7516, 7, 6279, 97, 1]\n"
     ]
    }
   ],
   "source": [
    "# 임의의 22번째 샘플에 대해서 정수 인코딩 작업을 수행.\n",
    "# 각 토큰을 고유한 정수로 변환\n",
    "tok_question = tokenizer.encode(Q[21])\n",
    "tok_answer = tokenizer.encode(A[21])\n",
    "print('정수 인코딩 후의 21번째 질문 샘플: {}'.format(tokenizer.encode(Q[21])))\n",
    "print('정수 인코딩 후의 21번째 답변 샘플: {}'.format(tokenizer.encode(A[21])))"
   ]
  },
  {
   "cell_type": "code",
   "execution_count": 12,
   "id": "f1645284",
   "metadata": {
    "scrolled": true
   },
   "outputs": [
    {
     "name": "stdout",
     "output_type": "stream",
     "text": [
      "디코딩 후의 21번째 질문 샘플: 가스비 장난 아님\n",
      "디코딩 후의 21번째 답변 샘플: 다음 달에는 더 절약해봐요 .\n"
     ]
    }
   ],
   "source": [
    "print('디코딩 후의 21번째 질문 샘플: {}'.format(tokenizer.decode(tok_question)))\n",
    "print('디코딩 후의 21번째 답변 샘플: {}'.format(tokenizer.decode(tok_answer)))"
   ]
  },
  {
   "cell_type": "markdown",
   "id": "7e238b3f",
   "metadata": {},
   "source": [
    "인코딩한 질문 샘플은 정수가 4개인데 원문의 어절은 3개임. 같은 맥락으로 답변 샘플도 인코딩된 문장은 정수가 6개인 반면, 원문의 어절은 마침표를 포함해서 5개임. 각 정수가 어떤 서브워드를 mapping하고 있는지 출력해보기"
   ]
  },
  {
   "cell_type": "code",
   "execution_count": 13,
   "id": "cbb18186",
   "metadata": {},
   "outputs": [
    {
     "name": "stdout",
     "output_type": "stream",
     "text": [
      "5766 ----> 가스\n",
      "611 ----> 비 \n",
      "2495 ----> 장난 \n",
      "4167 ----> 아님\n"
     ]
    }
   ],
   "source": [
    "for ts in tok_question:\n",
    "    print('{} ----> {}'.format(ts, tokenizer.decode([ts])))"
   ]
  },
  {
   "cell_type": "code",
   "execution_count": 14,
   "id": "e6d5286f",
   "metadata": {
    "scrolled": true
   },
   "outputs": [
    {
     "name": "stdout",
     "output_type": "stream",
     "text": [
      "2359 ----> 다음 \n",
      "7516 ----> 달에는 \n",
      "7 ----> 더 \n",
      "6279 ----> 절약해\n",
      "97 ----> 봐요\n",
      "1 ---->  .\n"
     ]
    }
   ],
   "source": [
    "for ts in tok_answer:\n",
    "    print('{} ----> {}'.format(ts, tokenizer.decode([ts])))"
   ]
  },
  {
   "cell_type": "markdown",
   "id": "bffdc802",
   "metadata": {},
   "source": [
    "가스비가 [가스, 비]로, 절약해봐요는 [절약해, 봐요]로 나뉜상태로 정수 인코딩이 되어있음을 알 수 있음."
   ]
  },
  {
   "cell_type": "code",
   "execution_count": 15,
   "id": "7dc6036c",
   "metadata": {},
   "outputs": [
    {
     "name": "stdout",
     "output_type": "stream",
     "text": [
      "질문 최소 길이 : 1\n",
      "질문 최대 길이 : 16\n",
      "질문 평균 길이 : 3.9402858834475176\n",
      "답변 최소 길이 : 1\n",
      "답변 최대 길이 : 24\n",
      "답변 평균 길이 : 4.71589275141673\n"
     ]
    },
    {
     "data": {
      "image/png": "[encoded data removed]",
      "text/plain": [
       "<Figure size 432x288 with 2 Axes>"
      ]
     },
     "metadata": {
      "needs_background": "light"
     },
     "output_type": "display_data"
    },
    {
     "data": {
      "image/png": "[encoded data removed]",
      "text/plain": [
       "<Figure size 432x288 with 1 Axes>"
      ]
     },
     "metadata": {
      "needs_background": "light"
     },
     "output_type": "display_data"
    },
    {
     "data": {
      "image/png": "[encoded data removed]",
      "text/plain": [
       "<Figure size 432x288 with 1 Axes>"
      ]
     },
     "metadata": {
      "needs_background": "light"
     },
     "output_type": "display_data"
    }
   ],
   "source": [
    "import matplotlib.pyplot as plt\n",
    "import numpy as np\n",
    "\n",
    "Q_len = [len(s.split()) for s in Q]\n",
    "A_len = [len(s.split()) for s in A]\n",
    "\n",
    "print('질문 최소 길이 : {}'.format(np.min(Q_len)))\n",
    "print('질문 최대 길이 : {}'.format(np.max(Q_len)))\n",
    "print('질문 평균 길이 : {}'.format(np.mean(Q_len)))\n",
    "print('답변 최소 길이 : {}'.format(np.min(A_len)))\n",
    "print('답변 최대 길이 : {}'.format(np.max(A_len)))\n",
    "print('답변 평균 길이 : {}'.format(np.mean(A_len)))\n",
    "\n",
    "plt.subplot(1,2,1)\n",
    "plt.boxplot(Q_len)\n",
    "plt.title('Question')\n",
    "plt.subplot(1,2,2)\n",
    "plt.boxplot(A_len)\n",
    "plt.title('Answer')\n",
    "plt.tight_layout()\n",
    "plt.show()\n",
    "\n",
    "plt.title('Question')\n",
    "plt.hist(Q_len, bins = 30)\n",
    "plt.xlabel('length of samples')\n",
    "plt.ylabel('number of samples')\n",
    "plt.show()\n",
    "\n",
    "plt.title('Answer')\n",
    "plt.hist(A_len, bins = 30)\n",
    "plt.xlabel('length of samples')\n",
    "plt.ylabel('number of samples')\n",
    "plt.show()"
   ]
  },
  {
   "cell_type": "markdown",
   "id": "84e2c069",
   "metadata": {},
   "source": [
    "질문과 답변의 최대 길이는 16, 24로 길지 않음. 질문과 답변의 최대 길이는 SOS와 EOS를 고려하여 26을 기준으로 패딩 진행"
   ]
  },
  {
   "cell_type": "code",
   "execution_count": 16,
   "id": "f4e78bb7",
   "metadata": {},
   "outputs": [],
   "source": [
    "MAX_LENGTH = 26\n",
    "\n",
    "def tokenize_and_padding(inputs, outputs):\n",
    "    tokenized_inputs, tokenized_outputs = [], []\n",
    "    \n",
    "    for (sentence1, sentence2) in zip(inputs, outputs):\n",
    "        # 정수 인코딩 과정에서 시작 토큰과 종료 토큰을 추가\n",
    "        sentence1 = START_TOKEN + tokenizer.encode(sentence1) + END_TOKEN\n",
    "        sentence2 = START_TOKEN + tokenizer.encode(sentence2) + END_TOKEN\n",
    "        \n",
    "        tokenized_inputs.append(sentence1)\n",
    "        tokenized_outputs.append(sentence2)\n",
    "        \n",
    "    # 최대 길이 26로 모든 데이터셋을 패딩\n",
    "    tokenized_inputs = tf.keras.preprocessing.sequence.pad_sequences(tokenized_inputs, maxlen=MAX_LENGTH, padding='post')\n",
    "    tokenized_outputs = tf.keras.preprocessing.sequence.pad_sequences(tokenized_outputs, maxlen=MAX_LENGTH, padding='post')\n",
    "        \n",
    "    return tokenized_inputs, tokenized_outputs"
   ]
  },
  {
   "cell_type": "code",
   "execution_count": 17,
   "id": "0195caca",
   "metadata": {},
   "outputs": [],
   "source": [
    "questions, answers = tokenize_and_padding(Q, A)"
   ]
  },
  {
   "cell_type": "code",
   "execution_count": 18,
   "id": "cb39b5d7",
   "metadata": {},
   "outputs": [
    {
     "name": "stdout",
     "output_type": "stream",
     "text": [
      "질문 데이터의 크기(shape) : (11823, 26)\n",
      "답변 데이터의 크기(shape) : (11823, 26)\n"
     ]
    }
   ],
   "source": [
    "print('질문 데이터의 크기(shape) :', questions.shape)\n",
    "print('답변 데이터의 크기(shape) :', answers.shape)"
   ]
  },
  {
   "cell_type": "code",
   "execution_count": 19,
   "id": "0e81e917",
   "metadata": {},
   "outputs": [
    {
     "data": {
      "text/plain": [
       "array([8178, 8005, 7990, 2192,  919,   78,  821, 8179,    0,    0,    0,\n",
       "          0,    0,    0,    0,    0,    0,    0,    0,    0,    0,    0,\n",
       "          0,    0,    0,    0], dtype=int32)"
      ]
     },
     "execution_count": 19,
     "metadata": {},
     "output_type": "execute_result"
    }
   ],
   "source": [
    "questions[5]"
   ]
  },
  {
   "cell_type": "code",
   "execution_count": 20,
   "id": "bd5e8a30",
   "metadata": {},
   "outputs": [
    {
     "data": {
      "text/plain": [
       "array([8178,   69, 2064,  456,    5,  137, 2188,   17,    1, 8179,    0,\n",
       "          0,    0,    0,    0,    0,    0,    0,    0,    0,    0,    0,\n",
       "          0,    0,    0,    0], dtype=int32)"
      ]
     },
     "execution_count": 20,
     "metadata": {},
     "output_type": "execute_result"
    }
   ],
   "source": [
    "answers[5]"
   ]
  },
  {
   "cell_type": "markdown",
   "id": "826d0c0b",
   "metadata": {},
   "source": [
    "## Step 4. 모델 구성하기\n",
    "---"
   ]
  },
  {
   "cell_type": "markdown",
   "id": "6f2160e6",
   "metadata": {},
   "source": [
    "Postional Encoding 구현"
   ]
  },
  {
   "cell_type": "code",
   "execution_count": 21,
   "id": "d17911d8",
   "metadata": {},
   "outputs": [],
   "source": [
    "# 포지셔널 인코딩 레이어\n",
    "class PositionalEncoding(tf.keras.layers.Layer):\n",
    "    \n",
    "    def __init__(self, position, d_model):\n",
    "        super(PositionalEncoding, self).__init__()\n",
    "        self.pos_encoding = self.positional_encoding(position, d_model)\n",
    "        \n",
    "    def get_angles(self, position, i, d_model):\n",
    "        angles = 1 / tf.pow(10000, (2*(i//2)) / tf.cast(d_model, tf.float32))\n",
    "        return position * angles\n",
    "    \n",
    "    def positional_encoding(self, position, d_model):\n",
    "        # 각도 배열 생성\n",
    "        angle_rads = self.get_angles(position=tf.range(position, dtype=tf.float32)[:, tf.newaxis],\n",
    "                                    i=tf.range(d_model, dtype=tf.float32)[tf.newaxis, :],\n",
    "                                    d_model=d_model)\n",
    "        # 배열의 짝수 인덱스에는 sin 함수 적용\n",
    "        sines = tf.math.sin(angle_rads[:, 0::2])\n",
    "        # 배열의 홀수 인덱스에는 cosine 함수 적용\n",
    "        cosines = tf.math.cos(angle_rads[:, 1::2])\n",
    "\n",
    "        # sin과 cosine이 교차되도록 재배열\n",
    "        pos_encoding = tf.stack([sines, cosines], axis=0)\n",
    "        pos_encoding = tf.transpose(pos_encoding,[1, 2, 0]) \n",
    "        pos_encoding = tf.reshape(pos_encoding, [position, d_model])\n",
    "\n",
    "        pos_encoding = pos_encoding[tf.newaxis, ...]\n",
    "        return tf.cast(pos_encoding, tf.float32)\n",
    "\n",
    "    def call(self, inputs):\n",
    "        return inputs + self.pos_encoding[:, :tf.shape(inputs)[1], :]        "
   ]
  },
  {
   "cell_type": "markdown",
   "id": "8f16c452",
   "metadata": {},
   "source": [
    "스케일드 닷 프로덕트 어텐션 구현"
   ]
  },
  {
   "cell_type": "code",
   "execution_count": 22,
   "id": "35bc2f6a",
   "metadata": {},
   "outputs": [],
   "source": [
    "# 스케일드 닷 프로덕트 어텐션 함수\n",
    "def scaled_dot_product_attention(query, key, value, mask):\n",
    "    # 어텐션 가중치는 Q와 K의 닷 프로덕트\n",
    "    matmul_qk = tf.matmul(query, key, transpose_b=True)\n",
    "\n",
    "  # 가중치를 정규화\n",
    "    depth = tf.cast(tf.shape(key)[-1], tf.float32)\n",
    "    logits = matmul_qk / tf.math.sqrt(depth)\n",
    "\n",
    "  # 패딩에 마스크 추가\n",
    "    if mask is not None:\n",
    "        logits += (mask * -1e9)\n",
    "\n",
    "  # softmax적용\n",
    "    attention_weights = tf.nn.softmax(logits, axis=-1)\n",
    "\n",
    "  # 최종 어텐션은 가중치와 V의 닷 프로덕트\n",
    "    output = tf.matmul(attention_weights, value)\n",
    "    return output"
   ]
  },
  {
   "cell_type": "markdown",
   "id": "5d4e2344",
   "metadata": {},
   "source": [
    "멀티헤드어텐션 구현"
   ]
  },
  {
   "cell_type": "code",
   "execution_count": 23,
   "id": "dd219a76",
   "metadata": {},
   "outputs": [],
   "source": [
    "class MultiHeadAttention(tf.keras.layers.Layer):\n",
    "\n",
    "    def __init__(self, d_model, num_heads, name=\"multi_head_attention\"):\n",
    "        super(MultiHeadAttention, self).__init__(name=name)\n",
    "        self.num_heads = num_heads\n",
    "        self.d_model = d_model\n",
    "\n",
    "        assert d_model % self.num_heads == 0\n",
    "\n",
    "        self.depth = d_model // self.num_heads\n",
    "\n",
    "        self.query_dense = tf.keras.layers.Dense(units=d_model)\n",
    "        self.key_dense = tf.keras.layers.Dense(units=d_model)\n",
    "        self.value_dense = tf.keras.layers.Dense(units=d_model)\n",
    "\n",
    "        self.dense = tf.keras.layers.Dense(units=d_model)\n",
    "\n",
    "    def split_heads(self, inputs, batch_size):\n",
    "        inputs = tf.reshape(\n",
    "            inputs, shape=(batch_size, -1, self.num_heads, self.depth))\n",
    "        return tf.transpose(inputs, perm=[0, 2, 1, 3])\n",
    "\n",
    "    def call(self, inputs):\n",
    "        query, key, value, mask = inputs['query'], inputs['key'], inputs[\n",
    "             'value'], inputs['mask']\n",
    "        batch_size = tf.shape(query)[0]\n",
    "\n",
    "        # Q, K, V에 각각 Dense를 적용합니다\n",
    "        query = self.query_dense(query)\n",
    "        key = self.key_dense(key)\n",
    "        value = self.value_dense(value)\n",
    "\n",
    "        # 병렬 연산을 위한 머리를 여러 개 만듭니다\n",
    "        query = self.split_heads(query, batch_size)\n",
    "        key = self.split_heads(key, batch_size)\n",
    "        value = self.split_heads(value, batch_size)\n",
    "\n",
    "        # 스케일드 닷 프로덕트 어텐션 함수\n",
    "        scaled_attention = scaled_dot_product_attention(query, key, value, mask)\n",
    "\n",
    "        scaled_attention = tf.transpose(scaled_attention, perm=[0, 2, 1, 3])\n",
    "\n",
    "        # 어텐션 연산 후에 각 결과를 다시 연결(concatenate)합니다\n",
    "        concat_attention = tf.reshape(scaled_attention,\n",
    "                                  (batch_size, -1, self.d_model))\n",
    "\n",
    "        # 최종 결과에도 Dense를 한 번 더 적용합니다\n",
    "        outputs = self.dense(concat_attention)\n",
    "\n",
    "        return outputs"
   ]
  },
  {
   "cell_type": "markdown",
   "id": "3e0d0dea",
   "metadata": {},
   "source": [
    "교사 강요를 위해 디코더 입력은 END_TOKEN 제외하고 디코더 출력은 START_TOKEN 제거"
   ]
  },
  {
   "cell_type": "code",
   "execution_count": 24,
   "id": "63cd9a76",
   "metadata": {},
   "outputs": [],
   "source": [
    "BATCH_SIZE = 64\n",
    "BUFFER_SIZE = 20000\n",
    "\n",
    "dataset = tf.data.Dataset.from_tensor_slices(({'inputs': questions,\n",
    "                                              'dec_inputs': answers[:, :-1]},\n",
    "                                             {'outputs':answers[:, 1:]}))\n",
    "\n",
    "dataset = dataset.cache()\n",
    "dataset = dataset.shuffle(BUFFER_SIZE)\n",
    "dataset = dataset.batch(BATCH_SIZE)\n",
    "dataset = dataset.prefetch(tf.data.experimental.AUTOTUNE)"
   ]
  },
  {
   "cell_type": "markdown",
   "id": "f95964df",
   "metadata": {},
   "source": [
    "패딩 마스킹 구현"
   ]
  },
  {
   "cell_type": "code",
   "execution_count": 25,
   "id": "392318ed",
   "metadata": {},
   "outputs": [],
   "source": [
    "def create_padding_mask(x):\n",
    "    mask = tf.cast(tf.math.equal(x, 0), tf.float32)\n",
    "    # (batch_size, 1, 1, sequence length)\n",
    "    return mask[:, tf.newaxis, tf.newaxis, :]"
   ]
  },
  {
   "cell_type": "markdown",
   "id": "f75e86ff",
   "metadata": {},
   "source": [
    "Lookahead mask 구현"
   ]
  },
  {
   "cell_type": "code",
   "execution_count": 26,
   "id": "e78a809f",
   "metadata": {},
   "outputs": [],
   "source": [
    "def create_look_ahead_mask(x):\n",
    "    seq_len = tf.shape(x)[1]\n",
    "    look_ahead_mask = 1 - tf.linalg.band_part(tf.ones((seq_len, seq_len)), -1, 0)\n",
    "    padding_mask = create_padding_mask(x)\n",
    "    return tf.maximum(look_ahead_mask, padding_mask)"
   ]
  },
  {
   "cell_type": "markdown",
   "id": "c6eeec90",
   "metadata": {},
   "source": [
    "하나의 인코더 층 구현(self attention과 feed forward 층으로 이루어짐)"
   ]
  },
  {
   "cell_type": "code",
   "execution_count": 27,
   "id": "55da3c9a",
   "metadata": {},
   "outputs": [],
   "source": [
    "# 인코더 하나의 레이어를 함수로 구현.\n",
    "# 이 하나의 레이어 안에는 두 개의 서브 레이어가 존재합니다.\n",
    "def encoder_layer(units, d_model, num_heads, dropout, name=\"encoder_layer\"):\n",
    "    inputs = tf.keras.Input(shape=(None, d_model), name=\"inputs\")\n",
    "\n",
    "    # 패딩 마스크 사용\n",
    "    padding_mask = tf.keras.Input(shape=(1, 1, None), name=\"padding_mask\")\n",
    "\n",
    "    # 첫 번째 서브 레이어 : 멀티 헤드 어텐션 수행 (셀프 어텐션)\n",
    "    attention = MultiHeadAttention(\n",
    "        d_model, num_heads, name=\"attention\")({\n",
    "            'query': inputs,\n",
    "            'key': inputs,\n",
    "            'value': inputs,\n",
    "            'mask': padding_mask})\n",
    "\n",
    "    # 어텐션의 결과는 Dropout과 Layer Normalization이라는 훈련을 돕는 테크닉을 수행\n",
    "    attention = tf.keras.layers.Dropout(rate=dropout)(attention)\n",
    "    attention = tf.keras.layers.LayerNormalization(epsilon=1e-6)(inputs + attention)\n",
    "\n",
    "    # 두 번째 서브 레이어 : 2개의 완전연결층\n",
    "    outputs = tf.keras.layers.Dense(units=units, activation='relu')(attention)\n",
    "    outputs = tf.keras.layers.Dense(units=d_model)(outputs)\n",
    "\n",
    "    # 완전연결층의 결과는 Dropout과 LayerNormalization이라는 훈련을 돕는 테크닉을 수행\n",
    "    outputs = tf.keras.layers.Dropout(rate=dropout)(outputs)\n",
    "    outputs = tf.keras.layers.LayerNormalization(epsilon=1e-6)(attention + outputs)\n",
    "\n",
    "    return tf.keras.Model(\n",
    "        inputs=[inputs, padding_mask], outputs=outputs, name=name)"
   ]
  },
  {
   "cell_type": "markdown",
   "id": "0a8aabe1",
   "metadata": {},
   "source": [
    "인코더 층을 임베딩 층(Embedding layer)과 포지셔널 인코딩(Positional Encoding)을 연결하고, 인코더 층을 원하는 만큼 쌓아 트랜스포머의 인코더 완성"
   ]
  },
  {
   "cell_type": "code",
   "execution_count": 28,
   "id": "34453f0b",
   "metadata": {},
   "outputs": [],
   "source": [
    "def encoder(vocab_size,\n",
    "            num_layers,\n",
    "            units,\n",
    "            d_model,\n",
    "            num_heads,\n",
    "            dropout,\n",
    "            name=\"encoder\"):\n",
    "    inputs = tf.keras.Input(shape=(None,), name=\"inputs\")\n",
    "\n",
    "    # 패딩 마스크 사용\n",
    "    padding_mask = tf.keras.Input(shape=(1, 1, None), name=\"padding_mask\")\n",
    "\n",
    "    # 임베딩 레이어\n",
    "    embeddings = tf.keras.layers.Embedding(vocab_size, d_model)(inputs)\n",
    "    embeddings *= tf.math.sqrt(tf.cast(d_model, tf.float32))\n",
    "  \n",
    "    # 포지셔널 인코딩\n",
    "    embeddings = PositionalEncoding(vocab_size, d_model)(embeddings)\n",
    "\n",
    "    outputs = tf.keras.layers.Dropout(rate=dropout)(embeddings)\n",
    "\n",
    "    # num_layers만큼 쌓아올린 인코더의 층.\n",
    "    for i in range(num_layers):\n",
    "        outputs = encoder_layer(units=units,\n",
    "                                d_model=d_model,\n",
    "                                num_heads=num_heads,\n",
    "                                dropout=dropout,\n",
    "                                name=\"encoder_layer_{}\".format(i))([outputs, padding_mask])\n",
    "\n",
    "    return tf.keras.Model(inputs=[inputs, padding_mask], outputs=outputs, name=name)"
   ]
  },
  {
   "cell_type": "markdown",
   "id": "4cc17e45",
   "metadata": {},
   "source": [
    "하나의 디코더 층 구현(3개의 서브 층으로 구성됨)"
   ]
  },
  {
   "cell_type": "code",
   "execution_count": 29,
   "id": "81171dca",
   "metadata": {},
   "outputs": [],
   "source": [
    "# 디코더 하나의 레이어를 함수로 구현.\n",
    "# 이 하나의 레이어 안에는 세 개의 서브 레이어가 존재합니다.\n",
    "def decoder_layer(units, d_model, num_heads, dropout, name=\"decoder_layer\"):\n",
    "    inputs = tf.keras.Input(shape=(None, d_model), name=\"inputs\")\n",
    "    enc_outputs = tf.keras.Input(shape=(None, d_model), name=\"encoder_outputs\")\n",
    "    look_ahead_mask = tf.keras.Input( shape=(1, None, None), name=\"look_ahead_mask\")\n",
    "    padding_mask = tf.keras.Input(shape=(1, 1, None), name='padding_mask')\n",
    "\n",
    "    # 첫 번째 서브 레이어 : 멀티 헤드 어텐션 수행 (셀프 어텐션)\n",
    "    attention1 = MultiHeadAttention(d_model, \n",
    "                                    num_heads, \n",
    "                                    name=\"attention_1\")(inputs={'query': inputs,\n",
    "                                                                'key': inputs,\n",
    "                                                                'value': inputs,\n",
    "                                                                'mask': look_ahead_mask})\n",
    "\n",
    "    # 멀티 헤드 어텐션의 결과는 LayerNormalization이라는 훈련을 돕는 테크닉을 수행\n",
    "    attention1 = tf.keras.layers.LayerNormalization(epsilon=1e-6)(attention1 + inputs)\n",
    "\n",
    "    # 두 번째 서브 레이어 : 마스크드 멀티 헤드 어텐션 수행 (인코더-디코더 어텐션)\n",
    "    attention2 = MultiHeadAttention(d_model, num_heads, name=\"attention_2\")(inputs={'query': attention1,\n",
    "                                                                                    'key': enc_outputs,\n",
    "                                                                                    'value': enc_outputs,\n",
    "                                                                                    'mask': padding_mask})\n",
    "\n",
    "    # 마스크드 멀티 헤드 어텐션의 결과는\n",
    "    # Dropout과 LayerNormalization이라는 훈련을 돕는 테크닉을 수행\n",
    "    attention2 = tf.keras.layers.Dropout(rate=dropout)(attention2)\n",
    "    attention2 = tf.keras.layers.LayerNormalization(epsilon=1e-6)(attention2 + attention1)\n",
    "\n",
    "    # 세 번째 서브 레이어 : 2개의 완전연결층\n",
    "    outputs = tf.keras.layers.Dense(units=units, activation='relu')(attention2)\n",
    "    outputs = tf.keras.layers.Dense(units=d_model)(outputs)\n",
    "\n",
    "    # 완전연결층의 결과는 Dropout과 LayerNormalization 수행\n",
    "    outputs = tf.keras.layers.Dropout(rate=dropout)(outputs)\n",
    "    outputs = tf.keras.layers.LayerNormalization(epsilon=1e-6)(outputs + attention2)\n",
    "\n",
    "    return tf.keras.Model(inputs=[inputs, enc_outputs, look_ahead_mask, padding_mask],\n",
    "                          outputs=outputs, name=name)"
   ]
  },
  {
   "cell_type": "markdown",
   "id": "064d027e",
   "metadata": {},
   "source": [
    "인코더 층과 마찬가지로 임베딩 층(Embedding layer)과 포지셔널 인코딩(Positional Encoding)을 연결하고, 원하는 만큼 디코더 층을 쌓아 트랜스포머의 디코더 완성"
   ]
  },
  {
   "cell_type": "code",
   "execution_count": 30,
   "id": "063572b7",
   "metadata": {},
   "outputs": [],
   "source": [
    "def decoder(vocab_size,\n",
    "            num_layers,\n",
    "            units,\n",
    "            d_model,\n",
    "            num_heads,\n",
    "            dropout,\n",
    "            name='decoder'):\n",
    "    inputs = tf.keras.Input(shape=(None,), name='inputs')\n",
    "    enc_outputs = tf.keras.Input(shape=(None, d_model), name='encoder_outputs')\n",
    "    look_ahead_mask = tf.keras.Input(shape=(1, None, None), name='look_ahead_mask')\n",
    "\n",
    "    # 패딩 마스크\n",
    "    padding_mask = tf.keras.Input(shape=(1, 1, None), name='padding_mask')\n",
    "  \n",
    "    # 임베딩 레이어\n",
    "    embeddings = tf.keras.layers.Embedding(vocab_size, d_model)(inputs)\n",
    "    embeddings *= tf.math.sqrt(tf.cast(d_model, tf.float32))\n",
    "\n",
    "    # 포지셔널 인코딩\n",
    "    embeddings = PositionalEncoding(vocab_size, d_model)(embeddings)\n",
    "\n",
    "    # Dropout이라는 훈련을 돕는 테크닉을 수행\n",
    "    outputs = tf.keras.layers.Dropout(rate=dropout)(embeddings)\n",
    "\n",
    "    for i in range(num_layers):\n",
    "        outputs = decoder_layer(units=units,\n",
    "                                d_model=d_model,\n",
    "                                num_heads=num_heads,\n",
    "                                dropout=dropout,\n",
    "                                name='decoder_layer_{}'.format(i))(inputs=[outputs, enc_outputs, look_ahead_mask, padding_mask])\n",
    "\n",
    "    return tf.keras.Model(inputs=[inputs, enc_outputs, look_ahead_mask, padding_mask],\n",
    "                          outputs=outputs,name=name)"
   ]
  },
  {
   "cell_type": "code",
   "execution_count": null,
   "id": "0c73345c",
   "metadata": {},
   "outputs": [],
   "source": []
  },
  {
   "cell_type": "markdown",
   "id": "583e3355",
   "metadata": {},
   "source": [
    "트랜스포머 생성"
   ]
  },
  {
   "cell_type": "code",
   "execution_count": 31,
   "id": "bd42271e",
   "metadata": {},
   "outputs": [],
   "source": [
    "def transformer(vocab_size, num_layers, units, d_model, num_heads, dropout, name='transformer'):\n",
    "    inputs = tf.keras.Input(shape=(None,), name='inputs')\n",
    "    dec_inputs = tf.keras.Input(shape=(None,), name='dec_inputs')\n",
    "    \n",
    "    # 인코더에서 패딩을 위한 마스크\n",
    "    enc_padding_mask = tf.keras.layers.Lambda(create_padding_mask,\n",
    "                                             output_shape=(1, 1, None),\n",
    "                                             name='enc_padding_mask')(inputs)\n",
    "    # 디코더에서 미래의 토큰을 마스크 하기 위해 사용\n",
    "    # 내부적으로 패딩 마스크도 포함되어 있음\n",
    "    look_ahead_mask = tf.keras.layers.Lambda(create_look_ahead_mask,\n",
    "                                            output_shape=(1, None, None),\n",
    "                                            name='look_ahead_mask')(dec_inputs)\n",
    "    # 두 번째 어텐션 블록에서 인코더의 벡터들을 마스킹\n",
    "    # 디코더에서 패딩을 위한 마스크\n",
    "    dec_padding_mask = tf.keras.layers.Lambda(create_padding_mask,\n",
    "                                             output_shape=(1, 1, None),\n",
    "                                             name='dec_padding_mask')(inputs)\n",
    "    \n",
    "    # Encoder\n",
    "    enc_outputs = encoder(vocab_size=vocab_size, \n",
    "                          num_layers=num_layers, \n",
    "                          units=units, \n",
    "                          d_model=d_model, \n",
    "                          num_heads=num_heads, \n",
    "                          dropout=dropout)(inputs=[inputs, enc_padding_mask])\n",
    "    \n",
    "    # Decoder\n",
    "    dec_outputs = decoder(vocab_size=vocab_size, \n",
    "                          num_layers=num_layers, \n",
    "                          units=units, \n",
    "                          d_model=d_model, \n",
    "                          num_heads=num_heads, \n",
    "                          dropout=dropout)(inputs=[dec_inputs, enc_outputs,\n",
    "                                                  look_ahead_mask,\n",
    "                                                  dec_padding_mask])\n",
    "    \n",
    "    # 완전 연결층\n",
    "    outputs = tf.keras.layers.Dense(units=vocab_size, name='outputs')(dec_outputs)\n",
    "    \n",
    "    return tf.keras.Model(inputs=[inputs, dec_inputs], outputs=outputs, name=name)"
   ]
  },
  {
   "cell_type": "code",
   "execution_count": 32,
   "id": "5ae11b30",
   "metadata": {
    "scrolled": false
   },
   "outputs": [
    {
     "name": "stdout",
     "output_type": "stream",
     "text": [
      "Model: \"transformer\"\n",
      "__________________________________________________________________________________________________\n",
      "Layer (type)                    Output Shape         Param #     Connected to                     \n",
      "==================================================================================================\n",
      "inputs (InputLayer)             [(None, None)]       0                                            \n",
      "__________________________________________________________________________________________________\n",
      "dec_inputs (InputLayer)         [(None, None)]       0                                            \n",
      "__________________________________________________________________________________________________\n",
      "enc_padding_mask (Lambda)       (None, 1, 1, None)   0           inputs[0][0]                     \n",
      "__________________________________________________________________________________________________\n",
      "encoder (Functional)            (None, None, 256)    3148288     inputs[0][0]                     \n",
      "                                                                 enc_padding_mask[0][0]           \n",
      "__________________________________________________________________________________________________\n",
      "look_ahead_mask (Lambda)        (None, 1, None, None 0           dec_inputs[0][0]                 \n",
      "__________________________________________________________________________________________________\n",
      "dec_padding_mask (Lambda)       (None, 1, 1, None)   0           inputs[0][0]                     \n",
      "__________________________________________________________________________________________________\n",
      "decoder (Functional)            (None, None, 256)    3675648     dec_inputs[0][0]                 \n",
      "                                                                 encoder[0][0]                    \n",
      "                                                                 look_ahead_mask[0][0]            \n",
      "                                                                 dec_padding_mask[0][0]           \n",
      "__________________________________________________________________________________________________\n",
      "outputs (Dense)                 (None, None, 8180)   2102260     decoder[0][0]                    \n",
      "==================================================================================================\n",
      "Total params: 8,926,196\n",
      "Trainable params: 8,926,196\n",
      "Non-trainable params: 0\n",
      "__________________________________________________________________________________________________\n"
     ]
    }
   ],
   "source": [
    "tf.keras.backend.clear_session()\n",
    "\n",
    "# 하이퍼파라미터\n",
    "D_MODEL = 256  # 인코더와 디코어 내부의 입, 출력 차원\n",
    "NUM_LAYERS = 2 # 인코더와 디코더 층의 개수\n",
    "NUM_HEADS= 8  # 멀티헤드 어텐션의 헤드 수\n",
    "UNITS = 512    # feed forward 신경망의 은닉층 크기\n",
    "DROPOUT = 0.1\n",
    "\n",
    "model = transformer(vocab_size = VOCAB_SIZE,\n",
    "                   num_layers = NUM_LAYERS,\n",
    "                   units = UNITS,\n",
    "                   d_model = D_MODEL,\n",
    "                   num_heads = NUM_HEADS,\n",
    "                   dropout = DROPOUT)\n",
    "\n",
    "model.summary()"
   ]
  },
  {
   "cell_type": "markdown",
   "id": "d8f7031d",
   "metadata": {},
   "source": [
    "손실 함수 정의(레이블인 시퀀스에 패딩이 되어있으므로 loss를 계산할 때 패딩 마스크를 적용해야 함)"
   ]
  },
  {
   "cell_type": "code",
   "execution_count": 33,
   "id": "204557ce",
   "metadata": {},
   "outputs": [],
   "source": [
    "def loss_function(y_true, y_pred):\n",
    "    y_true = tf.reshape(y_true, shape=(-1, MAX_LENGTH - 1))\n",
    "  \n",
    "    loss = tf.keras.losses.SparseCategoricalCrossentropy(\n",
    "        from_logits=True, reduction='none')(y_true, y_pred)\n",
    "\n",
    "    mask = tf.cast(tf.not_equal(y_true, 0), tf.float32)\n",
    "    loss = tf.multiply(loss, mask)\n",
    "\n",
    "    return tf.reduce_mean(loss)"
   ]
  },
  {
   "cell_type": "markdown",
   "id": "e6528503",
   "metadata": {},
   "source": [
    "커스텀 학습률(Learning rate) 설계"
   ]
  },
  {
   "cell_type": "code",
   "execution_count": 34,
   "id": "4a1429a5",
   "metadata": {},
   "outputs": [],
   "source": [
    "class CustomSchedule(tf.keras.optimizers.schedules.LearningRateSchedule):\n",
    "\n",
    "    def __init__(self, d_model, warmup_steps=4000):\n",
    "        super(CustomSchedule, self).__init__()\n",
    "\n",
    "        self.d_model = d_model\n",
    "        self.d_model = tf.cast(self.d_model, tf.float32)\n",
    " \n",
    "        self.warmup_steps = warmup_steps\n",
    "\n",
    "    def __call__(self, step):\n",
    "        arg1 = tf.math.rsqrt(step)\n",
    "        arg2 = step * (self.warmup_steps**-1.5)\n",
    "\n",
    "        return tf.math.rsqrt(self.d_model) * tf.math.minimum(arg1, arg2)"
   ]
  },
  {
   "cell_type": "markdown",
   "id": "2b2c4831",
   "metadata": {},
   "source": [
    "모델 컴파일"
   ]
  },
  {
   "cell_type": "code",
   "execution_count": 35,
   "id": "f5753c46",
   "metadata": {},
   "outputs": [],
   "source": [
    "learning_rate = CustomSchedule(D_MODEL)\n",
    "\n",
    "optimizer = tf.keras.optimizers.Adam(\n",
    "    learning_rate, beta_1=0.9, beta_2=0.98, epsilon=1e-9)\n",
    "\n",
    "def accuracy(y_true, y_pred):\n",
    "    y_true = tf.reshape(y_true, shape=(-1, MAX_LENGTH - 1))\n",
    "    return tf.keras.metrics.sparse_categorical_accuracy(y_true, y_pred)\n",
    "\n",
    "model.compile(optimizer=optimizer, loss=loss_function, metrics=[accuracy])"
   ]
  },
  {
   "cell_type": "markdown",
   "id": "1b4b34a9",
   "metadata": {},
   "source": [
    "모델 학습"
   ]
  },
  {
   "cell_type": "code",
   "execution_count": 36,
   "id": "a8a0b517",
   "metadata": {},
   "outputs": [
    {
     "name": "stdout",
     "output_type": "stream",
     "text": [
      "Epoch 1/50\n",
      "185/185 [==============================] - 27s 43ms/step - loss: 2.2660 - accuracy: 0.0457\n",
      "Epoch 2/50\n",
      "185/185 [==============================] - 8s 43ms/step - loss: 1.8354 - accuracy: 0.0773\n",
      "Epoch 3/50\n",
      "185/185 [==============================] - 8s 42ms/step - loss: 1.5675 - accuracy: 0.0792\n",
      "Epoch 4/50\n",
      "185/185 [==============================] - 8s 43ms/step - loss: 1.4492 - accuracy: 0.0849\n",
      "Epoch 5/50\n",
      "185/185 [==============================] - 8s 43ms/step - loss: 1.3572 - accuracy: 0.0901\n",
      "Epoch 6/50\n",
      "185/185 [==============================] - 8s 43ms/step - loss: 1.2649 - accuracy: 0.0966\n",
      "Epoch 7/50\n",
      "185/185 [==============================] - 8s 43ms/step - loss: 1.1641 - accuracy: 0.1055\n",
      "Epoch 8/50\n",
      "185/185 [==============================] - 8s 43ms/step - loss: 1.0518 - accuracy: 0.1170\n",
      "Epoch 9/50\n",
      "185/185 [==============================] - 8s 43ms/step - loss: 0.9277 - accuracy: 0.1307\n",
      "Epoch 10/50\n",
      "185/185 [==============================] - 8s 43ms/step - loss: 0.7987 - accuracy: 0.1458\n",
      "Epoch 11/50\n",
      "185/185 [==============================] - 8s 43ms/step - loss: 0.6683 - accuracy: 0.1623\n",
      "Epoch 12/50\n",
      "185/185 [==============================] - 8s 43ms/step - loss: 0.5405 - accuracy: 0.1799\n",
      "Epoch 13/50\n",
      "185/185 [==============================] - 8s 43ms/step - loss: 0.4241 - accuracy: 0.1962\n",
      "Epoch 14/50\n",
      "185/185 [==============================] - 8s 43ms/step - loss: 0.3220 - accuracy: 0.2122\n",
      "Epoch 15/50\n",
      "185/185 [==============================] - 8s 44ms/step - loss: 0.2379 - accuracy: 0.2263\n",
      "Epoch 16/50\n",
      "185/185 [==============================] - 8s 44ms/step - loss: 0.1726 - accuracy: 0.2385\n",
      "Epoch 17/50\n",
      "185/185 [==============================] - 8s 44ms/step - loss: 0.1262 - accuracy: 0.2470\n",
      "Epoch 18/50\n",
      "185/185 [==============================] - 8s 44ms/step - loss: 0.0976 - accuracy: 0.2520\n",
      "Epoch 19/50\n",
      "185/185 [==============================] - 8s 44ms/step - loss: 0.0800 - accuracy: 0.2551\n",
      "Epoch 20/50\n",
      "185/185 [==============================] - 8s 44ms/step - loss: 0.0715 - accuracy: 0.2565\n",
      "Epoch 21/50\n",
      "185/185 [==============================] - 8s 44ms/step - loss: 0.0647 - accuracy: 0.2576\n",
      "Epoch 22/50\n",
      "185/185 [==============================] - 8s 44ms/step - loss: 0.0634 - accuracy: 0.2576\n",
      "Epoch 23/50\n",
      "185/185 [==============================] - 8s 44ms/step - loss: 0.0580 - accuracy: 0.2589\n",
      "Epoch 24/50\n",
      "185/185 [==============================] - 8s 44ms/step - loss: 0.0495 - accuracy: 0.2608\n",
      "Epoch 25/50\n",
      "185/185 [==============================] - 8s 44ms/step - loss: 0.0448 - accuracy: 0.2618\n",
      "Epoch 26/50\n",
      "185/185 [==============================] - 8s 44ms/step - loss: 0.0384 - accuracy: 0.2635\n",
      "Epoch 27/50\n",
      "185/185 [==============================] - 8s 44ms/step - loss: 0.0343 - accuracy: 0.2646\n",
      "Epoch 28/50\n",
      "185/185 [==============================] - 8s 44ms/step - loss: 0.0319 - accuracy: 0.2651\n",
      "Epoch 29/50\n",
      "185/185 [==============================] - 8s 45ms/step - loss: 0.0285 - accuracy: 0.2661\n",
      "Epoch 30/50\n",
      "185/185 [==============================] - 8s 44ms/step - loss: 0.0261 - accuracy: 0.2667\n",
      "Epoch 31/50\n",
      "185/185 [==============================] - 8s 44ms/step - loss: 0.0236 - accuracy: 0.2671\n",
      "Epoch 32/50\n",
      "185/185 [==============================] - 8s 44ms/step - loss: 0.0223 - accuracy: 0.2676\n",
      "Epoch 33/50\n",
      "185/185 [==============================] - 8s 44ms/step - loss: 0.0204 - accuracy: 0.2682\n",
      "Epoch 34/50\n",
      "185/185 [==============================] - 8s 44ms/step - loss: 0.0192 - accuracy: 0.2683\n",
      "Epoch 35/50\n",
      "185/185 [==============================] - 8s 44ms/step - loss: 0.0185 - accuracy: 0.2685\n",
      "Epoch 36/50\n",
      "185/185 [==============================] - 8s 44ms/step - loss: 0.0161 - accuracy: 0.2692\n",
      "Epoch 37/50\n",
      "185/185 [==============================] - 8s 44ms/step - loss: 0.0161 - accuracy: 0.2693\n",
      "Epoch 38/50\n",
      "185/185 [==============================] - 8s 44ms/step - loss: 0.0145 - accuracy: 0.2696\n",
      "Epoch 39/50\n",
      "185/185 [==============================] - 8s 44ms/step - loss: 0.0150 - accuracy: 0.2695\n",
      "Epoch 40/50\n",
      "185/185 [==============================] - 8s 44ms/step - loss: 0.0134 - accuracy: 0.2699\n",
      "Epoch 41/50\n",
      "185/185 [==============================] - 8s 44ms/step - loss: 0.0124 - accuracy: 0.2702\n",
      "Epoch 42/50\n",
      "185/185 [==============================] - 8s 44ms/step - loss: 0.0120 - accuracy: 0.2702\n",
      "Epoch 43/50\n",
      "185/185 [==============================] - 8s 44ms/step - loss: 0.0116 - accuracy: 0.2704\n",
      "Epoch 44/50\n",
      "185/185 [==============================] - 8s 44ms/step - loss: 0.0111 - accuracy: 0.2703\n",
      "Epoch 45/50\n",
      "185/185 [==============================] - 8s 44ms/step - loss: 0.0112 - accuracy: 0.2704\n",
      "Epoch 46/50\n",
      "185/185 [==============================] - 8s 44ms/step - loss: 0.0106 - accuracy: 0.2706\n",
      "Epoch 47/50\n",
      "185/185 [==============================] - 8s 44ms/step - loss: 0.0096 - accuracy: 0.2708\n",
      "Epoch 48/50\n",
      "185/185 [==============================] - 8s 44ms/step - loss: 0.0093 - accuracy: 0.2709\n",
      "Epoch 49/50\n",
      "185/185 [==============================] - 8s 44ms/step - loss: 0.0096 - accuracy: 0.2708\n",
      "Epoch 50/50\n",
      "185/185 [==============================] - 8s 44ms/step - loss: 0.0086 - accuracy: 0.2710\n"
     ]
    }
   ],
   "source": [
    "EPOCHS = 50\n",
    "history = model.fit(dataset, epochs=EPOCHS)"
   ]
  },
  {
   "cell_type": "markdown",
   "id": "5f99985d",
   "metadata": {},
   "source": [
    "## Step 5. 모델 평가하기\n",
    "---"
   ]
  },
  {
   "cell_type": "code",
   "execution_count": 40,
   "id": "5c098854",
   "metadata": {},
   "outputs": [],
   "source": [
    "def preprocess_sentence(sentence):\n",
    "    sentence = re.sub(r\"([?.!,])\", r\" \\1 \", sentence)\n",
    "    sentence = sentence.strip()\n",
    "    return sentence"
   ]
  },
  {
   "cell_type": "code",
   "execution_count": 41,
   "id": "38d984e0",
   "metadata": {},
   "outputs": [],
   "source": [
    "def decoder_inference(sentence):\n",
    "    sentence = preprocess_sentence(sentence)\n",
    "\n",
    "  # 입력된 문장을 정수 인코딩 후, 시작 토큰과 종료 토큰을 앞뒤로 추가.\n",
    "  # ex) Where have you been? → [[8331   86   30    5 1059    7 8332]]\n",
    "    sentence = tf.expand_dims(\n",
    "      START_TOKEN + tokenizer.encode(sentence) + END_TOKEN, axis=0)\n",
    "\n",
    "  # 디코더의 현재까지의 예측한 출력 시퀀스가 지속적으로 저장되는 변수.\n",
    "  # 처음에는 예측한 내용이 없음으로 시작 토큰만 별도 저장. ex) 8331\n",
    "    output_sequence = tf.expand_dims(START_TOKEN, 0)\n",
    "\n",
    "  # 디코더의 인퍼런스 단계\n",
    "    for i in range(MAX_LENGTH):\n",
    "    # 디코더는 최대 MAX_LENGTH의 길이만큼 다음 단어 예측을 반복합니다.\n",
    "        predictions = model(inputs=[sentence, output_sequence], training=False)\n",
    "        predictions = predictions[:, -1:, :]\n",
    "\n",
    "    # 현재 예측한 단어의 정수\n",
    "        predicted_id = tf.cast(tf.argmax(predictions, axis=-1), tf.int32)\n",
    "\n",
    "    # 만약 현재 예측한 단어가 종료 토큰이라면 for문을 종료\n",
    "        if tf.equal(predicted_id, END_TOKEN[0]):\n",
    "              break\n",
    "\n",
    "    # 예측한 단어들은 지속적으로 output_sequence에 추가됩니다.\n",
    "    # 이 output_sequence는 다시 디코더의 입력이 됩니다.\n",
    "        output_sequence = tf.concat([output_sequence, predicted_id], axis=-1)\n",
    "\n",
    "    return tf.squeeze(output_sequence, axis=0)"
   ]
  },
  {
   "cell_type": "code",
   "execution_count": 42,
   "id": "ccc038cb",
   "metadata": {},
   "outputs": [],
   "source": [
    "def sentence_generation(sentence):\n",
    "  # 입력 문장에 대해서 디코더를 동작 시켜 예측된 정수 시퀀스를 리턴받습니다.\n",
    "    prediction = decoder_inference(sentence)\n",
    "\n",
    "  # 정수 시퀀스를 다시 텍스트 시퀀스로 변환합니다.\n",
    "    predicted_sentence = tokenizer.decode(\n",
    "        [i for i in prediction if i < tokenizer.vocab_size])\n",
    "\n",
    "    print('입력 : {}'.format(sentence))\n",
    "    print('출력 : {}'.format(predicted_sentence))\n",
    "\n",
    "    return predicted_sentence"
   ]
  },
  {
   "cell_type": "code",
   "execution_count": 43,
   "id": "6221e16e",
   "metadata": {},
   "outputs": [
    {
     "name": "stdout",
     "output_type": "stream",
     "text": [
      "입력 : 너무 졸려\n",
      "출력 : 낮잠을 잠깐 자도 괜찮아요 .\n"
     ]
    },
    {
     "data": {
      "text/plain": [
       "'낮잠을 잠깐 자도 괜찮아요 .'"
      ]
     },
     "execution_count": 43,
     "metadata": {},
     "output_type": "execute_result"
    }
   ],
   "source": [
    "sentence_generation(\"너무 졸려\")"
   ]
  },
  {
   "cell_type": "code",
   "execution_count": 47,
   "id": "1b4d7852",
   "metadata": {},
   "outputs": [
    {
     "name": "stdout",
     "output_type": "stream",
     "text": [
      "입력 : 저녁에 뭐 먹지?\n",
      "출력 : 한 번만 더 연락해보는 건 어떨까요 .\n"
     ]
    },
    {
     "data": {
      "text/plain": [
       "'한 번만 더 연락해보는 건 어떨까요 .'"
      ]
     },
     "execution_count": 47,
     "metadata": {},
     "output_type": "execute_result"
    }
   ],
   "source": [
    "sentence_generation(\"저녁에 뭐 먹지?\")"
   ]
  },
  {
   "cell_type": "code",
   "execution_count": 48,
   "id": "35d6070b",
   "metadata": {},
   "outputs": [
    {
     "name": "stdout",
     "output_type": "stream",
     "text": [
      "입력 : 딥러닝은 참 어려워\n",
      "출력 : 구구릿빛 피부 좋죠 !\n"
     ]
    },
    {
     "data": {
      "text/plain": [
       "'구구릿빛 피부 좋죠 !'"
      ]
     },
     "execution_count": 48,
     "metadata": {},
     "output_type": "execute_result"
    }
   ],
   "source": [
    "sentence_generation(\"딥러닝은 참 어려워\")"
   ]
  },
  {
   "cell_type": "code",
   "execution_count": 49,
   "id": "82b72878",
   "metadata": {},
   "outputs": [
    {
     "name": "stdout",
     "output_type": "stream",
     "text": [
      "입력 : 배고파\n",
      "출력 : 뭐 좀 챙겨드세요 .\n"
     ]
    },
    {
     "data": {
      "text/plain": [
       "'뭐 좀 챙겨드세요 .'"
      ]
     },
     "execution_count": 49,
     "metadata": {},
     "output_type": "execute_result"
    }
   ],
   "source": [
    "sentence_generation(\"배고파\")"
   ]
  },
  {
   "cell_type": "code",
   "execution_count": 52,
   "id": "b7543d82",
   "metadata": {},
   "outputs": [
    {
     "name": "stdout",
     "output_type": "stream",
     "text": [
      "입력 : 저녁 추천해줘\n",
      "출력 : 맛있는 거 드세요 .\n"
     ]
    },
    {
     "data": {
      "text/plain": [
       "'맛있는 거 드세요 .'"
      ]
     },
     "execution_count": 52,
     "metadata": {},
     "output_type": "execute_result"
    }
   ],
   "source": [
    "sentence_generation(\"저녁 추천해줘\")"
   ]
  },
  {
   "cell_type": "code",
   "execution_count": 54,
   "id": "de929242",
   "metadata": {},
   "outputs": [
    {
     "name": "stdout",
     "output_type": "stream",
     "text": [
      "입력 : 무슨 노래 좋아해?\n",
      "출력 : 저도 부러워요 .\n"
     ]
    },
    {
     "data": {
      "text/plain": [
       "'저도 부러워요 .'"
      ]
     },
     "execution_count": 54,
     "metadata": {},
     "output_type": "execute_result"
    }
   ],
   "source": [
    "sentence_generation(\"무슨 노래 좋아해?\")"
   ]
  },
  {
   "cell_type": "code",
   "execution_count": 55,
   "id": "45865f82",
   "metadata": {},
   "outputs": [
    {
     "name": "stdout",
     "output_type": "stream",
     "text": [
      "입력 : 대학원 진학에 대해서 어떻게 생각해?\n",
      "출력 : 꿈에 도전하는 건 좋은 거라고 들었어요 .\n"
     ]
    },
    {
     "data": {
      "text/plain": [
       "'꿈에 도전하는 건 좋은 거라고 들었어요 .'"
      ]
     },
     "execution_count": 55,
     "metadata": {},
     "output_type": "execute_result"
    }
   ],
   "source": [
    "sentence_generation(\"대학원 진학에 대해서 어떻게 생각해?\")"
   ]
  },
  {
   "cell_type": "markdown",
   "id": "9706f67e",
   "metadata": {},
   "source": [
    "## 회고 및 정리\n",
    "- 전체적인 과제 실행은 어려움이 없었으나, 트랜스포머 모델 구현에 사용되는 각 층 및 component에 대한 개념이 생소하고 복잡해서 성능 개선보다 이해하고 정리하는데에 초점을 두었다. \n",
    "\n",
    "\n",
    "1. 교사 강요(Teacher Forcing)\n",
    "    - 정의 : __테스트 과정__ 에서 t 시점의 출력이 t+1 시점의 입력으로 사용되는 훈련 기법. __훈련시__ 사용할 경우, 모델이 t 시점에서 예측한 값을 t+1 시점에 입력으로 사용하지 않고, t 시점의 레이블 즉, 실제 알고있는 정답을 t+1 시점의 입력으로 사용함.\n",
    "    - 교사 강요를 하지 않으면 잘못된 예측이 다음 시점의 입력으로 들어가기 때문에 연쇄적으로 예측 정확도에 영향을 미침.\n",
    "    - 즉, 훈련 과정에서 훈련 속도가 느려지고 성능 개선이 어려움.\n",
    "    - __트랜스포머 모델의 디코더에 교사 강요가 적용됨__\n",
    "    \n",
    "    \n",
    "2. tf.data.Dataset API (훈련 프로세스의 속도가 빨라지도록 입력 파이프라인을 구축하는 API)\n",
    "    - __Prefetching(가져오기)__\n",
    "    - 모델이 s 스텝 훈련을 실행하는 동안 입력 파이프라인은 s+1 스텝의 데이터를 읽어서 데이터가 학습되는 시간과 데이터가 생성되는 시간 사이의 간극을 최소화함.\n",
    " > dataset = dataset.prefetch(tf.data.experimental.AUTOTUNE)\n",
    " \n",
    " \n",
    "3. Padding masking과 look-ahead masking\n",
    "    - __Padding masking__\n",
    "    - padding으로 채워진 무의미한 단어를 마스크로 가려서 실제 연산에 방해가 되지 않도록 하는 기법.\n",
    "    - 자연어 처리에서 padding은 문장 길이를 동일하게 해주는 과정해서 특정 길이보다 짧은 문장을 padding으로 채움 (pad_sequences)\n",
    "    - __look-ahead masking__\n",
    "    - RNN은 각 step마다 단어가 순서대로 입력되지만, 트랜스포머는 전체 문장이 문장 행렬로 한꺼번에 들어가기 때문에 어순과 상관없이 모든 단어를 참고해서 다음 단어를 예측할 수 있게됨. \n",
    "    -다음에 나올 단어를 참고하지 않고 이전 단어들로부터 다음 단어를 예측하는 훈련을 할 수 있도록 Query 단어 뒤에 나오는 key 단어에 대해 마스킹을 진행함\n",
    "    \n",
    "    \n",
    "4. 트랜스포머의 인코더 층 (embedding + positional-encoding + Self-attention + feed forward Neural Network)\n",
    "    - __padding mask 사용__\n",
    "    - __positional-encoding__\n",
    "    - embedding layer에 positional encoding 레이어를 더해서 사용.\n",
    "    - positional encoding은 문장 행렬이 입력으로 들어가는 트랜스포머 특성상 단어 위치에따른 정보를 주기 위함.\n",
    "    - __Self-attention__\n",
    "    - 인코더의 입력으로 들어간 문장 내 단어들 사이의 유사도를 구함.\n",
    "    \n",
    "    \n",
    "5. 트랜스포머의 디코더 층 (embedding + positional-encoding + self attention + encoder-decoder attention + feed forward Neural Network)\n",
    "    - __padding mask , look ahead mask 사용__\n",
    "    - __Multihead attention(self attention)__\n",
    "    - 이미 생성된 앞 단어들과의 유사도를 구함.\n",
    "    - __encoder-decoder attention__\n",
    "    - 인코더-디코더 어텐션은 서로 다른 단어 목록(인코더 내 단어와 디코더 내 단어) 사이에서 유사도를 구함.\n",
    "    - Query(시점 t에서 생성된 단어)는 __디코더의 벡터__ 인 반면, Key와 Value는 __인코더의 벡터__ 임.\n",
    "    - 위 과정에 의해 인코더가 디코더에 정보를 전달 할 수 있음.\n",
    "    - __주의__\n",
    "    - 트랜스포머 모델에 사용되는 모든 어텐션 레이어는 스케일드 닷 프로덕트 어텐션을 멀티 헤드 어텐션으로 병렬적으로 수행함.\n",
    "    \n",
    "6. 손실함수\n",
    "    - 문장 시퀀스에 패딩이 되어있는 경우, loss를 계산할 때도 패딩 마스크를 적용해야 함.\n",
    "\n",
    "7. 커스텀 학습률 스케줄링(Custom Learning rate Scheduling)\n",
    "    - 모델학습 초기에 learning rate를 급격히 높였다가, 이후 train step이 진행됨에 따라 서서히 낮추어 가면서 안정적으로 수렴하게 하는 기법\n",
    "    - tf.keras.optimizers.schedules.LearningRateSchedule 클래스를 상속받아 사용 가능함."
   ]
  }
 ],
 "metadata": {
  "kernelspec": {
   "display_name": "Python 3 (ipykernel)",
   "language": "python",
   "name": "python3"
  },
  "language_info": {
   "codemirror_mode": {
    "name": "ipython",
    "version": 3
   },
   "file_extension": ".py",
   "mimetype": "text/x-python",
   "name": "python",
   "nbconvert_exporter": "python",
   "pygments_lexer": "ipython3",
   "version": "3.9.7"
  }
 },
 "nbformat": 4,
 "nbformat_minor": 5
}
