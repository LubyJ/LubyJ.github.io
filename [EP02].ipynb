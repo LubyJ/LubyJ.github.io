{
 "cells": [
  {
   "cell_type": "markdown",
   "id": "8a67c689",
   "metadata": {},
   "source": [
    "# <span style=\"color:blue\"> 프로젝트1 load_diabetes</span>"
   ]
  },
  {
   "cell_type": "markdown",
   "id": "125d1dca",
   "metadata": {},
   "source": [
    "## (1) 데이터 가져오기"
   ]
  },
  {
   "cell_type": "code",
   "execution_count": 1,
   "id": "35c6b37d",
   "metadata": {},
   "outputs": [],
   "source": [
    "import sklearn\n",
    "from sklearn.datasets import load_diabetes\n",
    "from sklearn.model_selection import train_test_split"
   ]
  },
  {
   "cell_type": "code",
   "execution_count": 2,
   "id": "7b96e555",
   "metadata": {},
   "outputs": [],
   "source": [
    "diabetes = load_diabetes()"
   ]
  },
  {
   "cell_type": "code",
   "execution_count": 3,
   "id": "e251a9b9",
   "metadata": {},
   "outputs": [
    {
     "data": {
      "text/plain": [
       "dict_keys(['data', 'target', 'frame', 'DESCR', 'feature_names', 'data_filename', 'target_filename', 'data_module'])"
      ]
     },
     "execution_count": 3,
     "metadata": {},
     "output_type": "execute_result"
    }
   ],
   "source": [
    "diabetes.keys()"
   ]
  },
  {
   "cell_type": "code",
   "execution_count": 4,
   "id": "d8e9be73",
   "metadata": {},
   "outputs": [
    {
     "data": {
      "text/plain": [
       "(442, 10)"
      ]
     },
     "execution_count": 4,
     "metadata": {},
     "output_type": "execute_result"
    }
   ],
   "source": [
    "diabetes.data.shape"
   ]
  },
  {
   "cell_type": "code",
   "execution_count": 5,
   "id": "bd4fe870",
   "metadata": {},
   "outputs": [
    {
     "data": {
      "text/plain": [
       "(442,)"
      ]
     },
     "execution_count": 5,
     "metadata": {},
     "output_type": "execute_result"
    }
   ],
   "source": [
    "diabetes.target.shape"
   ]
  },
  {
   "cell_type": "code",
   "execution_count": 6,
   "id": "afff1b68",
   "metadata": {},
   "outputs": [
    {
     "data": {
      "text/plain": [
       "['age', 'sex', 'bmi', 'bp', 's1', 's2', 's3', 's4', 's5', 's6']"
      ]
     },
     "execution_count": 6,
     "metadata": {},
     "output_type": "execute_result"
    }
   ],
   "source": [
    "diabetes.feature_names"
   ]
  },
  {
   "cell_type": "markdown",
   "id": "7083ac17",
   "metadata": {},
   "source": [
    "## (2), (3) 모델에 입력할 데이터 x, y 준비하기 "
   ]
  },
  {
   "cell_type": "code",
   "execution_count": 7,
   "id": "81dfbc37",
   "metadata": {},
   "outputs": [
    {
     "data": {
      "text/plain": [
       "((442, 10), (442,))"
      ]
     },
     "execution_count": 7,
     "metadata": {},
     "output_type": "execute_result"
    }
   ],
   "source": [
    "df_X = diabetes.data\n",
    "df_y = diabetes.target\n",
    "df_X.shape, df_y.shape"
   ]
  },
  {
   "cell_type": "code",
   "execution_count": 8,
   "id": "e58c3355",
   "metadata": {
    "scrolled": false
   },
   "outputs": [
    {
     "data": {
      "text/plain": [
       "(numpy.ndarray, numpy.ndarray)"
      ]
     },
     "execution_count": 8,
     "metadata": {},
     "output_type": "execute_result"
    }
   ],
   "source": [
    "type(df_X), type(df_y)"
   ]
  },
  {
   "cell_type": "code",
   "execution_count": 9,
   "id": "80b3c782",
   "metadata": {},
   "outputs": [],
   "source": [
    "import pandas as pd\n",
    "df_diabetes = pd.DataFrame(data = df_X, columns = diabetes.feature_names)"
   ]
  },
  {
   "cell_type": "markdown",
   "id": "95e84ddc",
   "metadata": {},
   "source": [
    "<span style=\"color:red\"> __데이터 프레임으로 변환 후 보니 나이와 성별 feature의 값이 이상한데 이는 사이킷런 사이트에서 모든 특성이 -0.2 ~ 0.2 사이에 분포하도록 조정했기 때문__ </span>"
   ]
  },
  {
   "cell_type": "code",
   "execution_count": 10,
   "id": "4e97bd50",
   "metadata": {
    "scrolled": true
   },
   "outputs": [
    {
     "data": {
      "text/html": [
       "<div>\n",
       "<style scoped>\n",
       "    .dataframe tbody tr th:only-of-type {\n",
       "        vertical-align: middle;\n",
       "    }\n",
       "\n",
       "    .dataframe tbody tr th {\n",
       "        vertical-align: top;\n",
       "    }\n",
       "\n",
       "    .dataframe thead th {\n",
       "        text-align: right;\n",
       "    }\n",
       "</style>\n",
       "<table border=\"1\" class=\"dataframe\">\n",
       "  <thead>\n",
       "    <tr style=\"text-align: right;\">\n",
       "      <th></th>\n",
       "      <th>age</th>\n",
       "      <th>sex</th>\n",
       "      <th>bmi</th>\n",
       "      <th>bp</th>\n",
       "      <th>s1</th>\n",
       "      <th>s2</th>\n",
       "      <th>s3</th>\n",
       "      <th>s4</th>\n",
       "      <th>s5</th>\n",
       "      <th>s6</th>\n",
       "    </tr>\n",
       "  </thead>\n",
       "  <tbody>\n",
       "    <tr>\n",
       "      <th>0</th>\n",
       "      <td>0.038076</td>\n",
       "      <td>0.050680</td>\n",
       "      <td>0.061696</td>\n",
       "      <td>0.021872</td>\n",
       "      <td>-0.044223</td>\n",
       "      <td>-0.034821</td>\n",
       "      <td>-0.043401</td>\n",
       "      <td>-0.002592</td>\n",
       "      <td>0.019907</td>\n",
       "      <td>-0.017646</td>\n",
       "    </tr>\n",
       "    <tr>\n",
       "      <th>1</th>\n",
       "      <td>-0.001882</td>\n",
       "      <td>-0.044642</td>\n",
       "      <td>-0.051474</td>\n",
       "      <td>-0.026328</td>\n",
       "      <td>-0.008449</td>\n",
       "      <td>-0.019163</td>\n",
       "      <td>0.074412</td>\n",
       "      <td>-0.039493</td>\n",
       "      <td>-0.068332</td>\n",
       "      <td>-0.092204</td>\n",
       "    </tr>\n",
       "    <tr>\n",
       "      <th>2</th>\n",
       "      <td>0.085299</td>\n",
       "      <td>0.050680</td>\n",
       "      <td>0.044451</td>\n",
       "      <td>-0.005670</td>\n",
       "      <td>-0.045599</td>\n",
       "      <td>-0.034194</td>\n",
       "      <td>-0.032356</td>\n",
       "      <td>-0.002592</td>\n",
       "      <td>0.002861</td>\n",
       "      <td>-0.025930</td>\n",
       "    </tr>\n",
       "    <tr>\n",
       "      <th>3</th>\n",
       "      <td>-0.089063</td>\n",
       "      <td>-0.044642</td>\n",
       "      <td>-0.011595</td>\n",
       "      <td>-0.036656</td>\n",
       "      <td>0.012191</td>\n",
       "      <td>0.024991</td>\n",
       "      <td>-0.036038</td>\n",
       "      <td>0.034309</td>\n",
       "      <td>0.022688</td>\n",
       "      <td>-0.009362</td>\n",
       "    </tr>\n",
       "    <tr>\n",
       "      <th>4</th>\n",
       "      <td>0.005383</td>\n",
       "      <td>-0.044642</td>\n",
       "      <td>-0.036385</td>\n",
       "      <td>0.021872</td>\n",
       "      <td>0.003935</td>\n",
       "      <td>0.015596</td>\n",
       "      <td>0.008142</td>\n",
       "      <td>-0.002592</td>\n",
       "      <td>-0.031988</td>\n",
       "      <td>-0.046641</td>\n",
       "    </tr>\n",
       "  </tbody>\n",
       "</table>\n",
       "</div>"
      ],
      "text/plain": [
       "        age       sex       bmi        bp        s1        s2        s3  \\\n",
       "0  0.038076  0.050680  0.061696  0.021872 -0.044223 -0.034821 -0.043401   \n",
       "1 -0.001882 -0.044642 -0.051474 -0.026328 -0.008449 -0.019163  0.074412   \n",
       "2  0.085299  0.050680  0.044451 -0.005670 -0.045599 -0.034194 -0.032356   \n",
       "3 -0.089063 -0.044642 -0.011595 -0.036656  0.012191  0.024991 -0.036038   \n",
       "4  0.005383 -0.044642 -0.036385  0.021872  0.003935  0.015596  0.008142   \n",
       "\n",
       "         s4        s5        s6  \n",
       "0 -0.002592  0.019907 -0.017646  \n",
       "1 -0.039493 -0.068332 -0.092204  \n",
       "2 -0.002592  0.002861 -0.025930  \n",
       "3  0.034309  0.022688 -0.009362  \n",
       "4 -0.002592 -0.031988 -0.046641  "
      ]
     },
     "execution_count": 10,
     "metadata": {},
     "output_type": "execute_result"
    }
   ],
   "source": [
    "df_diabetes.head()"
   ]
  },
  {
   "cell_type": "code",
   "execution_count": 11,
   "id": "3abf9a53",
   "metadata": {},
   "outputs": [
    {
     "data": {
      "text/html": [
       "<div>\n",
       "<style scoped>\n",
       "    .dataframe tbody tr th:only-of-type {\n",
       "        vertical-align: middle;\n",
       "    }\n",
       "\n",
       "    .dataframe tbody tr th {\n",
       "        vertical-align: top;\n",
       "    }\n",
       "\n",
       "    .dataframe thead th {\n",
       "        text-align: right;\n",
       "    }\n",
       "</style>\n",
       "<table border=\"1\" class=\"dataframe\">\n",
       "  <thead>\n",
       "    <tr style=\"text-align: right;\">\n",
       "      <th></th>\n",
       "      <th>age</th>\n",
       "      <th>sex</th>\n",
       "      <th>bmi</th>\n",
       "      <th>bp</th>\n",
       "      <th>s1</th>\n",
       "      <th>s2</th>\n",
       "      <th>s3</th>\n",
       "      <th>s4</th>\n",
       "      <th>s5</th>\n",
       "      <th>s6</th>\n",
       "    </tr>\n",
       "  </thead>\n",
       "  <tbody>\n",
       "    <tr>\n",
       "      <th>count</th>\n",
       "      <td>4.420000e+02</td>\n",
       "      <td>4.420000e+02</td>\n",
       "      <td>4.420000e+02</td>\n",
       "      <td>4.420000e+02</td>\n",
       "      <td>4.420000e+02</td>\n",
       "      <td>4.420000e+02</td>\n",
       "      <td>4.420000e+02</td>\n",
       "      <td>4.420000e+02</td>\n",
       "      <td>4.420000e+02</td>\n",
       "      <td>4.420000e+02</td>\n",
       "    </tr>\n",
       "    <tr>\n",
       "      <th>mean</th>\n",
       "      <td>-2.511817e-19</td>\n",
       "      <td>1.230790e-17</td>\n",
       "      <td>-2.245564e-16</td>\n",
       "      <td>-4.797570e-17</td>\n",
       "      <td>-1.381499e-17</td>\n",
       "      <td>3.918434e-17</td>\n",
       "      <td>-5.777179e-18</td>\n",
       "      <td>-9.042540e-18</td>\n",
       "      <td>9.293722e-17</td>\n",
       "      <td>1.130318e-17</td>\n",
       "    </tr>\n",
       "    <tr>\n",
       "      <th>std</th>\n",
       "      <td>4.761905e-02</td>\n",
       "      <td>4.761905e-02</td>\n",
       "      <td>4.761905e-02</td>\n",
       "      <td>4.761905e-02</td>\n",
       "      <td>4.761905e-02</td>\n",
       "      <td>4.761905e-02</td>\n",
       "      <td>4.761905e-02</td>\n",
       "      <td>4.761905e-02</td>\n",
       "      <td>4.761905e-02</td>\n",
       "      <td>4.761905e-02</td>\n",
       "    </tr>\n",
       "    <tr>\n",
       "      <th>min</th>\n",
       "      <td>-1.072256e-01</td>\n",
       "      <td>-4.464164e-02</td>\n",
       "      <td>-9.027530e-02</td>\n",
       "      <td>-1.123988e-01</td>\n",
       "      <td>-1.267807e-01</td>\n",
       "      <td>-1.156131e-01</td>\n",
       "      <td>-1.023071e-01</td>\n",
       "      <td>-7.639450e-02</td>\n",
       "      <td>-1.260971e-01</td>\n",
       "      <td>-1.377672e-01</td>\n",
       "    </tr>\n",
       "    <tr>\n",
       "      <th>25%</th>\n",
       "      <td>-3.729927e-02</td>\n",
       "      <td>-4.464164e-02</td>\n",
       "      <td>-3.422907e-02</td>\n",
       "      <td>-3.665608e-02</td>\n",
       "      <td>-3.424784e-02</td>\n",
       "      <td>-3.035840e-02</td>\n",
       "      <td>-3.511716e-02</td>\n",
       "      <td>-3.949338e-02</td>\n",
       "      <td>-3.324559e-02</td>\n",
       "      <td>-3.317903e-02</td>\n",
       "    </tr>\n",
       "    <tr>\n",
       "      <th>50%</th>\n",
       "      <td>5.383060e-03</td>\n",
       "      <td>-4.464164e-02</td>\n",
       "      <td>-7.283766e-03</td>\n",
       "      <td>-5.670422e-03</td>\n",
       "      <td>-4.320866e-03</td>\n",
       "      <td>-3.819065e-03</td>\n",
       "      <td>-6.584468e-03</td>\n",
       "      <td>-2.592262e-03</td>\n",
       "      <td>-1.947171e-03</td>\n",
       "      <td>-1.077698e-03</td>\n",
       "    </tr>\n",
       "    <tr>\n",
       "      <th>75%</th>\n",
       "      <td>3.807591e-02</td>\n",
       "      <td>5.068012e-02</td>\n",
       "      <td>3.124802e-02</td>\n",
       "      <td>3.564379e-02</td>\n",
       "      <td>2.835801e-02</td>\n",
       "      <td>2.984439e-02</td>\n",
       "      <td>2.931150e-02</td>\n",
       "      <td>3.430886e-02</td>\n",
       "      <td>3.243232e-02</td>\n",
       "      <td>2.791705e-02</td>\n",
       "    </tr>\n",
       "    <tr>\n",
       "      <th>max</th>\n",
       "      <td>1.107267e-01</td>\n",
       "      <td>5.068012e-02</td>\n",
       "      <td>1.705552e-01</td>\n",
       "      <td>1.320436e-01</td>\n",
       "      <td>1.539137e-01</td>\n",
       "      <td>1.987880e-01</td>\n",
       "      <td>1.811791e-01</td>\n",
       "      <td>1.852344e-01</td>\n",
       "      <td>1.335973e-01</td>\n",
       "      <td>1.356118e-01</td>\n",
       "    </tr>\n",
       "  </tbody>\n",
       "</table>\n",
       "</div>"
      ],
      "text/plain": [
       "                age           sex           bmi            bp            s1  \\\n",
       "count  4.420000e+02  4.420000e+02  4.420000e+02  4.420000e+02  4.420000e+02   \n",
       "mean  -2.511817e-19  1.230790e-17 -2.245564e-16 -4.797570e-17 -1.381499e-17   \n",
       "std    4.761905e-02  4.761905e-02  4.761905e-02  4.761905e-02  4.761905e-02   \n",
       "min   -1.072256e-01 -4.464164e-02 -9.027530e-02 -1.123988e-01 -1.267807e-01   \n",
       "25%   -3.729927e-02 -4.464164e-02 -3.422907e-02 -3.665608e-02 -3.424784e-02   \n",
       "50%    5.383060e-03 -4.464164e-02 -7.283766e-03 -5.670422e-03 -4.320866e-03   \n",
       "75%    3.807591e-02  5.068012e-02  3.124802e-02  3.564379e-02  2.835801e-02   \n",
       "max    1.107267e-01  5.068012e-02  1.705552e-01  1.320436e-01  1.539137e-01   \n",
       "\n",
       "                 s2            s3            s4            s5            s6  \n",
       "count  4.420000e+02  4.420000e+02  4.420000e+02  4.420000e+02  4.420000e+02  \n",
       "mean   3.918434e-17 -5.777179e-18 -9.042540e-18  9.293722e-17  1.130318e-17  \n",
       "std    4.761905e-02  4.761905e-02  4.761905e-02  4.761905e-02  4.761905e-02  \n",
       "min   -1.156131e-01 -1.023071e-01 -7.639450e-02 -1.260971e-01 -1.377672e-01  \n",
       "25%   -3.035840e-02 -3.511716e-02 -3.949338e-02 -3.324559e-02 -3.317903e-02  \n",
       "50%   -3.819065e-03 -6.584468e-03 -2.592262e-03 -1.947171e-03 -1.077698e-03  \n",
       "75%    2.984439e-02  2.931150e-02  3.430886e-02  3.243232e-02  2.791705e-02  \n",
       "max    1.987880e-01  1.811791e-01  1.852344e-01  1.335973e-01  1.356118e-01  "
      ]
     },
     "execution_count": 11,
     "metadata": {},
     "output_type": "execute_result"
    }
   ],
   "source": [
    "df_diabetes.describe()"
   ]
  },
  {
   "cell_type": "markdown",
   "id": "56e5259a",
   "metadata": {},
   "source": [
    "__pearson상관계수로 feature와 target간의 상관계수 확인__"
   ]
  },
  {
   "cell_type": "code",
   "execution_count": 98,
   "id": "fdccdd48",
   "metadata": {},
   "outputs": [
    {
     "data": {
      "text/plain": [
       "array([[1.        , 0.18788875],\n",
       "       [0.18788875, 1.        ]])"
      ]
     },
     "execution_count": 98,
     "metadata": {},
     "output_type": "execute_result"
    }
   ],
   "source": [
    "np.corrcoef(df_diabetes['age'], diabetes.target)"
   ]
  },
  {
   "cell_type": "code",
   "execution_count": 99,
   "id": "914ecb2a",
   "metadata": {},
   "outputs": [
    {
     "data": {
      "text/plain": [
       "array([[1.      , 0.043062],\n",
       "       [0.043062, 1.      ]])"
      ]
     },
     "execution_count": 99,
     "metadata": {},
     "output_type": "execute_result"
    }
   ],
   "source": [
    "np.corrcoef(df_diabetes['sex'], diabetes.target)"
   ]
  },
  {
   "cell_type": "code",
   "execution_count": 100,
   "id": "0f460ee6",
   "metadata": {},
   "outputs": [
    {
     "data": {
      "text/plain": [
       "array([[1.        , 0.58645013],\n",
       "       [0.58645013, 1.        ]])"
      ]
     },
     "execution_count": 100,
     "metadata": {},
     "output_type": "execute_result"
    }
   ],
   "source": [
    "np.corrcoef(df_diabetes['bmi'], diabetes.target)"
   ]
  },
  {
   "cell_type": "code",
   "execution_count": 108,
   "id": "02f0e992",
   "metadata": {},
   "outputs": [
    {
     "data": {
      "text/plain": [
       "array([[1.        , 0.44148176],\n",
       "       [0.44148176, 1.        ]])"
      ]
     },
     "execution_count": 108,
     "metadata": {},
     "output_type": "execute_result"
    }
   ],
   "source": [
    "np.corrcoef(df_diabetes['bp'], diabetes.target)"
   ]
  },
  {
   "cell_type": "code",
   "execution_count": 109,
   "id": "a6db6f62",
   "metadata": {},
   "outputs": [
    {
     "data": {
      "text/plain": [
       "array([[1.        , 0.21202248],\n",
       "       [0.21202248, 1.        ]])"
      ]
     },
     "execution_count": 109,
     "metadata": {},
     "output_type": "execute_result"
    }
   ],
   "source": [
    "np.corrcoef(df_diabetes['s1'], diabetes.target)"
   ]
  },
  {
   "cell_type": "code",
   "execution_count": 110,
   "id": "c8aaee9b",
   "metadata": {},
   "outputs": [
    {
     "data": {
      "text/plain": [
       "array([[1.        , 0.17405359],\n",
       "       [0.17405359, 1.        ]])"
      ]
     },
     "execution_count": 110,
     "metadata": {},
     "output_type": "execute_result"
    }
   ],
   "source": [
    "np.corrcoef(df_diabetes['s2'], diabetes.target)"
   ]
  },
  {
   "cell_type": "code",
   "execution_count": 111,
   "id": "15337ba7",
   "metadata": {},
   "outputs": [
    {
     "data": {
      "text/plain": [
       "array([[ 1.        , -0.39478925],\n",
       "       [-0.39478925,  1.        ]])"
      ]
     },
     "execution_count": 111,
     "metadata": {},
     "output_type": "execute_result"
    }
   ],
   "source": [
    "np.corrcoef(df_diabetes['s3'], diabetes.target)"
   ]
  },
  {
   "cell_type": "code",
   "execution_count": 112,
   "id": "f458cfe7",
   "metadata": {},
   "outputs": [
    {
     "data": {
      "text/plain": [
       "array([[1.        , 0.43045288],\n",
       "       [0.43045288, 1.        ]])"
      ]
     },
     "execution_count": 112,
     "metadata": {},
     "output_type": "execute_result"
    }
   ],
   "source": [
    "np.corrcoef(df_diabetes['s4'], diabetes.target)"
   ]
  },
  {
   "cell_type": "code",
   "execution_count": 113,
   "id": "f26ec7ff",
   "metadata": {},
   "outputs": [
    {
     "data": {
      "text/plain": [
       "array([[1.        , 0.56588259],\n",
       "       [0.56588259, 1.        ]])"
      ]
     },
     "execution_count": 113,
     "metadata": {},
     "output_type": "execute_result"
    }
   ],
   "source": [
    "np.corrcoef(df_diabetes['s5'], diabetes.target)"
   ]
  },
  {
   "cell_type": "code",
   "execution_count": 114,
   "id": "f43d7820",
   "metadata": {},
   "outputs": [
    {
     "data": {
      "text/plain": [
       "array([[1.        , 0.38248348],\n",
       "       [0.38248348, 1.        ]])"
      ]
     },
     "execution_count": 114,
     "metadata": {},
     "output_type": "execute_result"
    }
   ],
   "source": [
    "np.corrcoef(df_diabetes['s6'], diabetes.target)"
   ]
  },
  {
   "cell_type": "markdown",
   "id": "1a844f11",
   "metadata": {},
   "source": [
    "bmi, bp, s4, s5, s6 항목은 target과 강한 양의 상관관계를 보이고 s3은 강한 음의 상관관계를 보임"
   ]
  },
  {
   "cell_type": "markdown",
   "id": "12a902b5",
   "metadata": {},
   "source": [
    "__feature data 사이의 상관관계 시각화__"
   ]
  },
  {
   "cell_type": "code",
   "execution_count": 116,
   "id": "f5c91e82",
   "metadata": {},
   "outputs": [
    {
     "data": {
      "image/png": "[encoded data removed]",
      "text/plain": [
       "<Figure size 1000x1000 with 2 Axes>"
      ]
     },
     "metadata": {},
     "output_type": "display_data"
    }
   ],
   "source": [
    "import seaborn as sns\n",
    "plt.figure(figsize=(10,10))\n",
    "correlations = df_diabetes[df_diabetes.columns].corr(method='pearson')\n",
    "sns.heatmap(correlations, annot = True)\n",
    "plt.show()"
   ]
  },
  {
   "cell_type": "code",
   "execution_count": null,
   "id": "2782427f",
   "metadata": {},
   "outputs": [],
   "source": []
  },
  {
   "cell_type": "code",
   "execution_count": null,
   "id": "fdeb2f44",
   "metadata": {},
   "outputs": [],
   "source": []
  },
  {
   "cell_type": "code",
   "execution_count": null,
   "id": "73ebd050",
   "metadata": {},
   "outputs": [],
   "source": []
  },
  {
   "cell_type": "markdown",
   "id": "bd76fb40",
   "metadata": {},
   "source": [
    "## (4) train 데이터와 test 데이터로 분리하기"
   ]
  },
  {
   "cell_type": "code",
   "execution_count": 12,
   "id": "0724f583",
   "metadata": {},
   "outputs": [],
   "source": [
    "X_train, X_test, y_train, y_test = train_test_split(df_X, df_y, test_size = 0.2, random_state = 4)"
   ]
  },
  {
   "cell_type": "markdown",
   "id": "6d0deb4b",
   "metadata": {},
   "source": [
    "#### train데이터와 test 데이터 shape 확인"
   ]
  },
  {
   "cell_type": "code",
   "execution_count": 13,
   "id": "5b50a5ea",
   "metadata": {},
   "outputs": [
    {
     "data": {
      "text/plain": [
       "((353, 10), (89, 10))"
      ]
     },
     "execution_count": 13,
     "metadata": {},
     "output_type": "execute_result"
    }
   ],
   "source": [
    "X_train.shape, X_test.shape"
   ]
  },
  {
   "cell_type": "code",
   "execution_count": 14,
   "id": "fca0956b",
   "metadata": {},
   "outputs": [
    {
     "data": {
      "text/plain": [
       "((353,), (89,))"
      ]
     },
     "execution_count": 14,
     "metadata": {},
     "output_type": "execute_result"
    }
   ],
   "source": [
    "y_train.shape, y_test.shape"
   ]
  },
  {
   "cell_type": "markdown",
   "id": "347a3539",
   "metadata": {},
   "source": [
    "## (5) 모델 준비하기"
   ]
  },
  {
   "cell_type": "markdown",
   "id": "a5bea292",
   "metadata": {},
   "source": [
    "#### 가중치 w, b 준비"
   ]
  },
  {
   "cell_type": "markdown",
   "id": "f7f3e992",
   "metadata": {},
   "source": [
    "\"step (12)\"에서 하이퍼 파라미터 조절하여 성능 변화를 테스트함.\n",
    "이때, 매개변수(W, b)의 영향을 배제하기 위해 Randomstate메서드를 이용해 시드값 지정하여 W, b 난수를 새로 생성할때 항상 같은 값이 나오도록 설정함"
   ]
  },
  {
   "cell_type": "code",
   "execution_count": 15,
   "id": "ae27bd6d",
   "metadata": {},
   "outputs": [],
   "source": [
    "import numpy as np\n",
    "random_state = np.random.RandomState(2023)\n",
    "W = random_state.rand(10)\n",
    "b = random_state.rand()"
   ]
  },
  {
   "cell_type": "code",
   "execution_count": 16,
   "id": "b6461eb7",
   "metadata": {},
   "outputs": [
    {
     "data": {
      "text/plain": [
       "(array([0.3219883 , 0.89042245, 0.58805226, 0.12659609, 0.14134122,\n",
       "        0.46789559, 0.02208966, 0.72727471, 0.52438734, 0.54493524]),\n",
       " 0.456373260425773)"
      ]
     },
     "execution_count": 16,
     "metadata": {},
     "output_type": "execute_result"
    }
   ],
   "source": [
    "W, b"
   ]
  },
  {
   "cell_type": "markdown",
   "id": "dec02d4f",
   "metadata": {},
   "source": [
    "#### 모델 함수 구현"
   ]
  },
  {
   "cell_type": "code",
   "execution_count": 17,
   "id": "11dbcf3c",
   "metadata": {},
   "outputs": [],
   "source": [
    "def model(X, W, b):\n",
    "    pred = 0\n",
    "    for i in range(10):\n",
    "        pred += X[:, i] * W[i]\n",
    "    pred += b\n",
    "    return pred"
   ]
  },
  {
   "cell_type": "markdown",
   "id": "5be1d789",
   "metadata": {},
   "source": [
    "## (6) 손실함수 loss 정의하기"
   ]
  },
  {
   "cell_type": "markdown",
   "id": "58497c65",
   "metadata": {},
   "source": [
    "#### Mean Squared error (MSE) 함수 구현"
   ]
  },
  {
   "cell_type": "code",
   "execution_count": 18,
   "id": "993a591f",
   "metadata": {},
   "outputs": [],
   "source": [
    "def MSE(a, b):\n",
    "    mse = ((a - b) ** 2).mean()\n",
    "    return mse"
   ]
  },
  {
   "cell_type": "markdown",
   "id": "5eb65c01",
   "metadata": {},
   "source": [
    "#### loss 함수 구현"
   ]
  },
  {
   "cell_type": "code",
   "execution_count": 19,
   "id": "fd61dd79",
   "metadata": {},
   "outputs": [],
   "source": [
    "def loss(X, W, b, Y):\n",
    "    pred = model(X, W, b)\n",
    "    L = MSE(pred, Y)\n",
    "    return L"
   ]
  },
  {
   "cell_type": "markdown",
   "id": "4794c938",
   "metadata": {},
   "source": [
    "## (7) 기울기를 구하는 gradient 함수 구현하기"
   ]
  },
  {
   "cell_type": "code",
   "execution_count": 20,
   "id": "91ff7f2e",
   "metadata": {},
   "outputs": [],
   "source": [
    "def gradient(X, W, b, Y):\n",
    "    N = len(Y)\n",
    "    \n",
    "    y_pred = model(X, W, b)\n",
    "    \n",
    "    dW = 1/N * 2 * X.T.dot(y_pred - Y)\n",
    "    db = (2 * (y_pred - Y)).mean()\n",
    "    \n",
    "    return dW, db"
   ]
  },
  {
   "cell_type": "markdown",
   "id": "ac673f83",
   "metadata": {},
   "source": [
    "# (8) 하이퍼 파라미터인 학습률 설정하기 "
   ]
  },
  {
   "cell_type": "code",
   "execution_count": 21,
   "id": "3ac320b7",
   "metadata": {},
   "outputs": [],
   "source": [
    "learning_rate = 0.1"
   ]
  },
  {
   "cell_type": "markdown",
   "id": "aef8146e",
   "metadata": {},
   "source": [
    "<span style = \"font-weight : bold\"> learning rate즉, 학습률을 설정하는 기준은?</span>"
   ]
  },
  {
   "cell_type": "markdown",
   "id": "878085c1",
   "metadata": {},
   "source": [
    "# (9) 모델 학습하기"
   ]
  },
  {
   "cell_type": "code",
   "execution_count": 22,
   "id": "fa467fa9",
   "metadata": {},
   "outputs": [
    {
     "name": "stdout",
     "output_type": "stream",
     "text": [
      "Iteration 10 : loss 6377.0602\n",
      "Iteration 20 : loss 5891.8485\n",
      "Iteration 30 : loss 5811.3925\n",
      "Iteration 40 : loss 5737.9887\n",
      "Iteration 50 : loss 5666.9700\n",
      "Iteration 60 : loss 5598.2031\n",
      "Iteration 70 : loss 5531.6100\n",
      "Iteration 80 : loss 5467.1160\n",
      "Iteration 90 : loss 5404.6489\n",
      "Iteration 100 : loss 5344.1393\n",
      "Iteration 110 : loss 5285.5199\n",
      "Iteration 120 : loss 5228.7261\n",
      "Iteration 130 : loss 5173.6953\n",
      "Iteration 140 : loss 5120.3674\n",
      "Iteration 150 : loss 5068.6841\n",
      "Iteration 160 : loss 5018.5894\n",
      "Iteration 170 : loss 4970.0290\n",
      "Iteration 180 : loss 4922.9509\n",
      "Iteration 190 : loss 4877.3046\n",
      "Iteration 200 : loss 4833.0415\n",
      "Iteration 210 : loss 4790.1146\n",
      "Iteration 220 : loss 4748.4787\n",
      "Iteration 230 : loss 4708.0901\n",
      "Iteration 240 : loss 4668.9067\n",
      "Iteration 250 : loss 4630.8878\n",
      "Iteration 260 : loss 4593.9941\n",
      "Iteration 270 : loss 4558.1878\n",
      "Iteration 280 : loss 4523.4324\n",
      "Iteration 290 : loss 4489.6925\n",
      "Iteration 300 : loss 4456.9342\n",
      "Iteration 310 : loss 4425.1246\n",
      "Iteration 320 : loss 4394.2320\n",
      "Iteration 330 : loss 4364.2258\n",
      "Iteration 340 : loss 4335.0765\n",
      "Iteration 350 : loss 4306.7556\n",
      "Iteration 360 : loss 4279.2357\n",
      "Iteration 370 : loss 4252.4901\n",
      "Iteration 380 : loss 4226.4934\n",
      "Iteration 390 : loss 4201.2207\n",
      "Iteration 400 : loss 4176.6483\n",
      "Iteration 410 : loss 4152.7530\n",
      "Iteration 420 : loss 4129.5127\n",
      "Iteration 430 : loss 4106.9059\n",
      "Iteration 440 : loss 4084.9119\n",
      "Iteration 450 : loss 4063.5107\n",
      "Iteration 460 : loss 4042.6830\n",
      "Iteration 470 : loss 4022.4103\n",
      "Iteration 480 : loss 4002.6744\n",
      "Iteration 490 : loss 3983.4581\n",
      "Iteration 500 : loss 3964.7446\n",
      "Iteration 510 : loss 3946.5177\n",
      "Iteration 520 : loss 3928.7619\n",
      "Iteration 530 : loss 3911.4619\n",
      "Iteration 540 : loss 3894.6033\n",
      "Iteration 550 : loss 3878.1720\n",
      "Iteration 560 : loss 3862.1544\n",
      "Iteration 570 : loss 3846.5374\n",
      "Iteration 580 : loss 3831.3084\n",
      "Iteration 590 : loss 3816.4551\n",
      "Iteration 600 : loss 3801.9657\n",
      "Iteration 610 : loss 3787.8289\n",
      "Iteration 620 : loss 3774.0336\n",
      "Iteration 630 : loss 3760.5692\n",
      "Iteration 640 : loss 3747.4254\n",
      "Iteration 650 : loss 3734.5923\n",
      "Iteration 660 : loss 3722.0604\n",
      "Iteration 670 : loss 3709.8203\n",
      "Iteration 680 : loss 3697.8632\n",
      "Iteration 690 : loss 3686.1804\n",
      "Iteration 700 : loss 3674.7636\n",
      "Iteration 710 : loss 3663.6046\n",
      "Iteration 720 : loss 3652.6958\n",
      "Iteration 730 : loss 3642.0296\n",
      "Iteration 740 : loss 3631.5987\n",
      "Iteration 750 : loss 3621.3961\n",
      "Iteration 760 : loss 3611.4151\n",
      "Iteration 770 : loss 3601.6490\n",
      "Iteration 780 : loss 3592.0915\n",
      "Iteration 790 : loss 3582.7366\n",
      "Iteration 800 : loss 3573.5782\n",
      "Iteration 810 : loss 3564.6107\n",
      "Iteration 820 : loss 3555.8286\n",
      "Iteration 830 : loss 3547.2264\n",
      "Iteration 840 : loss 3538.7991\n",
      "Iteration 850 : loss 3530.5416\n",
      "Iteration 860 : loss 3522.4491\n",
      "Iteration 870 : loss 3514.5170\n",
      "Iteration 880 : loss 3506.7406\n",
      "Iteration 890 : loss 3499.1157\n",
      "Iteration 900 : loss 3491.6381\n",
      "Iteration 910 : loss 3484.3035\n",
      "Iteration 920 : loss 3477.1082\n",
      "Iteration 930 : loss 3470.0483\n",
      "Iteration 940 : loss 3463.1200\n",
      "Iteration 950 : loss 3456.3198\n",
      "Iteration 960 : loss 3449.6443\n",
      "Iteration 970 : loss 3443.0901\n",
      "Iteration 980 : loss 3436.6540\n",
      "Iteration 990 : loss 3430.3328\n"
     ]
    }
   ],
   "source": [
    "losses = []\n",
    "\n",
    "for i in range(1, 1000):\n",
    "    y_pred = model(X_train, W, b)\n",
    "    L = loss(X_train, W, b, y_train)\n",
    "    dW, db = gradient(X_train, W, b, y_train)\n",
    "    W -= learning_rate * dW\n",
    "    b -= learning_rate * db\n",
    "    losses.append(L)\n",
    "    if i % 10 ==0:\n",
    "        print('Iteration %d : loss %0.4f' % (i, L))\n"
   ]
  },
  {
   "cell_type": "markdown",
   "id": "1f9c71e1",
   "metadata": {},
   "source": [
    "#### loss 값 변화 추이 확인"
   ]
  },
  {
   "cell_type": "code",
   "execution_count": 23,
   "id": "04963543",
   "metadata": {},
   "outputs": [
    {
     "data": {
      "image/png": "[encoded data removed]",
      "text/plain": [
       "<Figure size 640x480 with 1 Axes>"
      ]
     },
     "metadata": {},
     "output_type": "display_data"
    }
   ],
   "source": [
    "import matplotlib.pyplot as plt\n",
    "plt.plot(losses)\n",
    "plt.xlabel(\"Iteration Number\")\n",
    "plt.ylabel(\"loss\")\n",
    "\n",
    "plt.show()"
   ]
  },
  {
   "cell_type": "markdown",
   "id": "15bcf2a8",
   "metadata": {},
   "source": [
    "- loss 값이 급속도로 감소하다가 특정 값에 천천히 수렴하는 양상을 보임 이는 __옵티마이저로 경사하강법을 채택했기 때문__. 근데 loss 값 자체는 매우 큼\n",
    "- loss 값이 큰 이유는 상대적으로 x 값들에 비해 y값이 매우 크기 때문에 (-0.2 < x <0.2, 25 < y < 346) 일어나는 현상\n",
    "- 데이터셋을 정규화와 같이 전처리를 진행하면 loss 값을 줄일 수 있음"
   ]
  },
  {
   "cell_type": "code",
   "execution_count": 24,
   "id": "30713dd8",
   "metadata": {},
   "outputs": [
    {
     "data": {
      "text/plain": [
       "(array([  61.45477579,  -45.7250949 ,  254.0153362 ,  194.909812  ,\n",
       "          42.05732303,   10.84473869, -143.97486156,  140.91057487,\n",
       "         238.72703084,  118.04799848]),\n",
       " 151.4098274382063)"
      ]
     },
     "execution_count": 24,
     "metadata": {},
     "output_type": "execute_result"
    }
   ],
   "source": [
    "W, b"
   ]
  },
  {
   "cell_type": "markdown",
   "id": "98c828f6",
   "metadata": {},
   "source": [
    "# (10) test 데이터에 대한 성능 확인"
   ]
  },
  {
   "cell_type": "code",
   "execution_count": 25,
   "id": "866f6858",
   "metadata": {},
   "outputs": [
    {
     "data": {
      "text/plain": [
       "3263.0311130280857"
      ]
     },
     "execution_count": 25,
     "metadata": {},
     "output_type": "execute_result"
    }
   ],
   "source": [
    "prediction = model(X_test, W, b)\n",
    "mse = loss(X_test, W, b, y_test)\n",
    "mse"
   ]
  },
  {
   "cell_type": "markdown",
   "id": "b739d658",
   "metadata": {},
   "source": [
    "train하여 얻어진 매개변수 W, b를 이용해 test 데이터에 적용시킴\n",
    " - 1000회 iteration진행한 후 얻은 loss값과 비슷한 값을 가짐"
   ]
  },
  {
   "cell_type": "markdown",
   "id": "a1dfd691",
   "metadata": {},
   "source": [
    "# (11) 정답 데이터와 예측한 데이터 시각화"
   ]
  },
  {
   "cell_type": "code",
   "execution_count": 26,
   "id": "8ea30031",
   "metadata": {},
   "outputs": [
    {
     "data": {
      "image/png": "[encoded data removed]",
      "text/plain": [
       "<Figure size 640x480 with 1 Axes>"
      ]
     },
     "metadata": {},
     "output_type": "display_data"
    }
   ],
   "source": [
    "plt.scatter(X_test[:, 2], y_test)\n",
    "plt.scatter(X_test[:, 2], prediction)\n",
    "\n",
    "plt.show()"
   ]
  },
  {
   "cell_type": "code",
   "execution_count": 27,
   "id": "067b12da",
   "metadata": {},
   "outputs": [
    {
     "data": {
      "text/plain": [
       "((89, 10), (89,))"
      ]
     },
     "execution_count": 27,
     "metadata": {},
     "output_type": "execute_result"
    }
   ],
   "source": [
    "X_test.shape, y_test.shape"
   ]
  },
  {
   "cell_type": "code",
   "execution_count": 28,
   "id": "958d5e1d",
   "metadata": {},
   "outputs": [
    {
     "data": {
      "text/plain": [
       "array([[-4.18399395e-02, -4.46416365e-02, -4.93184371e-02,\n",
       "        -3.66560811e-02, -7.07277125e-03, -2.26079728e-02,\n",
       "         8.54564775e-02, -3.94933829e-02, -6.64901954e-02,\n",
       "         7.20651633e-03],\n",
       "       [ 2.71782911e-02,  5.06801187e-02,  1.75059115e-02,\n",
       "        -3.32132301e-02, -7.07277125e-03,  4.59715403e-02,\n",
       "        -6.54906725e-02,  7.12099798e-02, -9.64349499e-02,\n",
       "        -5.90671943e-02],\n",
       "       [-5.51455498e-03, -4.46416365e-02,  8.88341490e-03,\n",
       "        -5.04274850e-02,  2.59500973e-02,  4.72241342e-02,\n",
       "        -4.34008457e-02,  7.12099798e-02,  1.48209799e-02,\n",
       "         3.06440941e-03],\n",
       "       [-5.63700933e-02, -4.46416365e-02, -8.05749872e-02,\n",
       "        -8.48559947e-02, -3.73437341e-02, -3.70128021e-02,\n",
       "         3.39135482e-02, -3.94933829e-02, -5.61531020e-02,\n",
       "        -1.37767226e-01],\n",
       "       [-9.14709343e-03, -4.46416365e-02,  3.79843409e-02,\n",
       "        -4.00989321e-02, -2.49601584e-02, -3.81906512e-03,\n",
       "        -4.34008457e-02,  1.58582984e-02, -5.14218980e-03,\n",
       "         2.79170509e-02],\n",
       "       [-9.26954778e-02, -4.46416365e-02,  2.82840322e-02,\n",
       "        -1.59989752e-02,  3.69577202e-02,  2.49905934e-02,\n",
       "         5.60033751e-02, -3.94933829e-02, -5.14218980e-03,\n",
       "        -1.07769750e-03],\n",
       "       [ 3.80759064e-02,  5.06801187e-02, -2.99178198e-02,\n",
       "        -4.00989321e-02, -3.32158756e-02, -2.41737151e-02,\n",
       "        -1.02661054e-02, -2.59226200e-03, -1.29086832e-02,\n",
       "         3.06440941e-03],\n",
       "       [-5.51455498e-03,  5.06801187e-02, -4.17737526e-02,\n",
       "        -4.35417830e-02, -7.99982727e-02, -7.61563598e-02,\n",
       "        -3.23559322e-02, -3.94933829e-02,  1.02267162e-02,\n",
       "        -9.36191133e-03],\n",
       "       [-8.17978625e-02, -4.46416365e-02, -8.16527993e-02,\n",
       "        -4.00989321e-02,  2.55889875e-03, -1.85370428e-02,\n",
       "         7.07299263e-02, -3.94933829e-02, -1.09032507e-02,\n",
       "        -9.22040496e-02],\n",
       "       [-1.03593093e-01,  5.06801187e-02, -4.60850009e-02,\n",
       "        -2.63275281e-02, -2.49601584e-02, -2.48000121e-02,\n",
       "         3.02319104e-02, -3.94933829e-02, -3.98088265e-02,\n",
       "        -5.49250874e-02],\n",
       "       [ 3.08108295e-02, -4.46416365e-02, -3.31512560e-02,\n",
       "        -2.28846772e-02, -4.69754041e-02, -8.11667352e-02,\n",
       "         1.03864667e-01, -7.63945038e-02, -3.98088265e-02,\n",
       "        -5.49250874e-02],\n",
       "       [-8.17978625e-02,  5.06801187e-02,  4.22955892e-02,\n",
       "        -1.94418262e-02,  3.97096259e-02,  5.75580334e-02,\n",
       "        -6.91723103e-02,  1.08111101e-01,  4.71904848e-02,\n",
       "        -3.83566597e-02],\n",
       "       [ 7.07687525e-02, -4.46416365e-02,  1.21168511e-02,\n",
       "         4.25294914e-02,  7.13565417e-02,  5.34871034e-02,\n",
       "         5.23217373e-02, -2.59226200e-03,  2.53950789e-02,\n",
       "        -5.21980442e-03],\n",
       "       [ 8.16663678e-02,  5.06801187e-02, -2.97251791e-03,\n",
       "        -3.32132301e-02,  4.24615316e-02,  5.78711819e-02,\n",
       "        -1.02661054e-02,  3.43088589e-02, -6.11735305e-04,\n",
       "        -1.07769750e-03],\n",
       "       [-9.14709343e-03,  5.06801187e-02, -2.77621956e-02,\n",
       "         8.10098161e-03,  4.79653431e-02,  3.72033834e-02,\n",
       "        -2.86742944e-02,  3.43088589e-02,  6.60506666e-02,\n",
       "        -4.24987666e-02],\n",
       "       [ 5.98711371e-02, -4.46416365e-02, -8.16893766e-04,\n",
       "        -8.48559947e-02,  7.54844002e-02,  7.94784257e-02,\n",
       "         4.46044580e-03,  3.43088589e-02,  2.33714152e-02,\n",
       "         2.79170509e-02],\n",
       "       [ 5.38306037e-03,  5.06801187e-02,  3.47509047e-02,\n",
       "        -1.09143049e-03,  1.52537760e-01,  1.98787990e-01,\n",
       "        -6.18090347e-02,  1.85234443e-01,  1.55684593e-02,\n",
       "         7.34802270e-02],\n",
       "       [-1.27796319e-02, -4.46416365e-02, -2.34509473e-02,\n",
       "        -4.00989321e-02, -1.67044413e-02,  4.63594335e-03,\n",
       "        -1.76293810e-02, -2.59226200e-03, -3.84597173e-02,\n",
       "        -3.83566597e-02],\n",
       "       [ 4.53409833e-02, -4.46416365e-02, -2.56065715e-02,\n",
       "        -1.25561242e-02,  1.76943802e-02, -6.12835791e-05,\n",
       "         8.17748397e-02, -3.94933829e-02, -3.19876395e-02,\n",
       "        -7.56356220e-02],\n",
       "       [ 4.53409833e-02,  5.06801187e-02, -2.97251791e-03,\n",
       "         1.07943660e-01,  3.55817674e-02,  2.24854057e-02,\n",
       "         2.65502726e-02, -2.59226200e-03,  2.80203725e-02,\n",
       "         1.96328371e-02],\n",
       "       [ 4.17084449e-02,  5.06801187e-02,  7.13965152e-02,\n",
       "         8.10098161e-03,  3.83336731e-02,  1.59092880e-02,\n",
       "        -1.76293810e-02,  3.43088589e-02,  7.34069579e-02,\n",
       "         8.59065477e-02],\n",
       "       [ 2.71782911e-02,  5.06801187e-02, -6.20595414e-03,\n",
       "         2.87580875e-02, -1.67044413e-02, -1.62702589e-03,\n",
       "        -5.81273969e-02,  3.43088589e-02,  2.92965569e-02,\n",
       "         3.20591578e-02],\n",
       "       [-4.54724779e-02, -4.46416365e-02, -7.30303027e-02,\n",
       "        -8.14131438e-02,  8.37401174e-02,  2.78089295e-02,\n",
       "         1.73815785e-01, -3.94933829e-02, -4.22151394e-03,\n",
       "         3.06440941e-03],\n",
       "       [ 3.08108295e-02,  5.06801187e-02,  3.25952805e-02,\n",
       "         4.94151933e-02, -4.00956398e-02, -4.35889198e-02,\n",
       "        -6.91723103e-02,  3.43088589e-02,  6.30151709e-02,\n",
       "         3.06440941e-03],\n",
       "       [-5.63700933e-02,  5.06801187e-02, -6.00965578e-02,\n",
       "        -3.66560811e-02, -8.82539899e-02, -7.08328359e-02,\n",
       "        -1.39477432e-02, -3.94933829e-02, -7.81399355e-02,\n",
       "        -1.04630370e-01],\n",
       "       [-7.81653240e-02, -4.46416365e-02, -7.30303027e-02,\n",
       "        -5.73131869e-02, -8.41261313e-02, -7.42774690e-02,\n",
       "        -2.49926566e-02, -3.94933829e-02, -1.81136923e-02,\n",
       "        -8.39198358e-02],\n",
       "       [ 1.75052192e-03,  5.06801187e-02,  2.61284081e-02,\n",
       "        -9.11327327e-03,  2.45741445e-02,  3.84559772e-02,\n",
       "        -2.13110188e-02,  3.43088589e-02,  9.43365877e-03,\n",
       "         3.06440941e-03],\n",
       "       [ 1.62806757e-02, -4.46416365e-02, -2.45287594e-02,\n",
       "         3.56437894e-02, -7.07277125e-03, -3.19276820e-03,\n",
       "        -1.39477432e-02, -2.59226200e-03,  1.55684593e-02,\n",
       "         1.54907302e-02],\n",
       "       [-4.18399395e-02,  5.06801187e-02, -5.36296854e-02,\n",
       "        -4.00989321e-02, -8.41261313e-02, -7.17722813e-02,\n",
       "        -2.90282981e-03, -3.94933829e-02, -7.21327534e-02,\n",
       "        -3.00724459e-02],\n",
       "       [-4.54724779e-02,  5.06801187e-02, -4.71628129e-02,\n",
       "        -1.59989752e-02, -4.00956398e-02, -2.48000121e-02,\n",
       "         7.78807997e-04, -3.94933829e-02, -6.29168791e-02,\n",
       "        -3.83566597e-02],\n",
       "       [-7.81653240e-02,  5.06801187e-02,  7.78633876e-02,\n",
       "         5.28580443e-02,  7.82363060e-02,  6.44472995e-02,\n",
       "         2.65502726e-02, -2.59226200e-03,  4.06728289e-02,\n",
       "        -9.36191133e-03],\n",
       "       [-3.45748626e-02, -4.46416365e-02, -5.90187458e-02,\n",
       "         1.21527966e-03, -5.38551684e-02, -7.80352506e-02,\n",
       "         6.70482885e-02, -7.63945038e-02, -2.13953093e-02,\n",
       "         1.54907302e-02],\n",
       "       [-4.91050164e-02, -4.46416365e-02,  1.60854917e-01,\n",
       "        -4.69846340e-02, -2.90880170e-02, -1.97896367e-02,\n",
       "        -4.70824835e-02,  3.43088589e-02,  2.80203725e-02,\n",
       "         1.13486232e-02],\n",
       "       [-3.09423241e-02,  5.06801187e-02,  5.95405824e-02,\n",
       "         1.21527966e-03,  1.21905688e-02,  3.15667111e-02,\n",
       "        -4.34008457e-02,  3.43088589e-02,  1.48209799e-02,\n",
       "         7.20651633e-03],\n",
       "       [-2.73097857e-02,  5.06801187e-02, -5.57853095e-02,\n",
       "         2.53152365e-02, -7.07277125e-03, -2.35474182e-02,\n",
       "         5.23217373e-02, -3.94933829e-02, -5.14218980e-03,\n",
       "        -5.07829805e-02],\n",
       "       [-4.18399395e-02,  5.06801187e-02,  4.57216660e-03,\n",
       "        -5.38703360e-02, -4.42234984e-02, -2.73051998e-02,\n",
       "        -8.02172237e-02,  7.12099798e-02,  3.66437326e-02,\n",
       "         1.96328371e-02],\n",
       "       [ 1.99132142e-02,  5.06801187e-02, -1.26728266e-02,\n",
       "         7.00722992e-02, -1.12006298e-02,  7.14113104e-03,\n",
       "        -3.97192078e-02,  3.43088589e-02,  5.38633121e-03,\n",
       "         3.06440941e-03],\n",
       "       [ 5.98711371e-02,  5.06801187e-02,  4.12177771e-02,\n",
       "         1.15438326e-02,  4.10855788e-02,  7.07102688e-02,\n",
       "        -3.60375700e-02,  3.43088589e-02, -1.09032507e-02,\n",
       "        -3.00724459e-02],\n",
       "       [-9.14709343e-03,  5.06801187e-02, -1.80618869e-02,\n",
       "        -3.32132301e-02, -2.08322998e-02,  1.21515064e-02,\n",
       "        -7.28539481e-02,  7.12099798e-02,  2.72478149e-04,\n",
       "         1.96328371e-02],\n",
       "       [ 6.71362140e-02, -4.46416365e-02,  3.49435453e-03,\n",
       "         3.56437894e-02,  4.93412959e-02,  3.12535626e-02,\n",
       "         7.07299263e-02, -3.94933829e-02, -6.11735305e-04,\n",
       "         1.96328371e-02],\n",
       "       [-1.88201653e-03,  5.06801187e-02,  3.04396564e-02,\n",
       "         5.28580443e-02,  3.97096259e-02,  5.66185880e-02,\n",
       "        -3.97192078e-02,  7.12099798e-02,  2.53950789e-02,\n",
       "         2.79170509e-02],\n",
       "       [ 4.17084449e-02,  5.06801187e-02,  1.21168511e-02,\n",
       "         3.90866404e-02,  5.48451074e-02,  4.44057980e-02,\n",
       "         4.46044580e-03, -2.59226200e-03,  4.56043699e-02,\n",
       "        -1.07769750e-03],\n",
       "       [-4.18399395e-02, -4.46416365e-02,  4.76846496e-02,\n",
       "         5.97437462e-02,  1.27770609e-01,  1.28016437e-01,\n",
       "        -2.49926566e-02,  1.08111101e-01,  6.38902688e-02,\n",
       "         4.03433716e-02],\n",
       "       [-9.63280163e-02, -4.46416365e-02, -7.62637389e-02,\n",
       "        -4.35417830e-02, -4.55994513e-02, -3.48207628e-02,\n",
       "         8.14208361e-03, -3.94933829e-02, -5.94711814e-02,\n",
       "        -8.39198358e-02],\n",
       "       [ 7.44012909e-02, -4.46416365e-02,  3.47509047e-02,\n",
       "         9.41722560e-02,  5.75970131e-02,  2.02933664e-02,\n",
       "         2.28686348e-02, -2.59226200e-03,  7.37989288e-02,\n",
       "        -2.17882321e-02],\n",
       "       [-4.54724779e-02, -4.46416365e-02, -4.82406250e-02,\n",
       "        -1.94418262e-02, -1.93006962e-04, -1.60318551e-02,\n",
       "         6.70482885e-02, -3.94933829e-02, -2.47954290e-02,\n",
       "         1.96328371e-02],\n",
       "       [ 1.10726675e-01,  5.06801187e-02, -3.31512560e-02,\n",
       "        -2.28846772e-02, -4.32086554e-03,  2.02933664e-02,\n",
       "        -6.18090347e-02,  7.12099798e-02,  1.55684593e-02,\n",
       "         4.44854786e-02],\n",
       "       [ 2.35457526e-02,  5.06801187e-02, -3.96181284e-02,\n",
       "        -5.67042229e-03, -4.83513570e-02, -3.32550205e-02,\n",
       "         1.18237214e-02, -3.94933829e-02, -1.01639959e-01,\n",
       "        -6.73514081e-02],\n",
       "       [-1.64121703e-02, -4.46416365e-02,  5.41515220e-02,\n",
       "         7.00722992e-02, -3.32158756e-02, -2.79314967e-02,\n",
       "         8.14208361e-03, -3.94933829e-02, -2.71290233e-02,\n",
       "        -9.36191133e-03],\n",
       "       [-5.27375548e-02, -4.46416365e-02,  3.04396564e-02,\n",
       "        -7.45274418e-02, -2.35842056e-02, -1.13346282e-02,\n",
       "        -2.90282981e-03, -2.59226200e-03, -3.07479175e-02,\n",
       "        -1.07769750e-03],\n",
       "       [ 6.71362140e-02,  5.06801187e-02, -2.56065715e-02,\n",
       "        -4.00989321e-02, -6.34868384e-02, -5.98726398e-02,\n",
       "        -2.90282981e-03, -3.94933829e-02, -1.91984490e-02,\n",
       "         1.13486232e-02],\n",
       "       [-4.18399395e-02, -4.46416365e-02, -3.31512560e-02,\n",
       "        -2.28846772e-02,  4.65893902e-02,  4.15874618e-02,\n",
       "         5.60033751e-02, -2.47329345e-02, -2.59531106e-02,\n",
       "        -3.83566597e-02],\n",
       "       [ 1.75052192e-03,  5.06801187e-02, -6.20595414e-03,\n",
       "        -1.94418262e-02, -9.82467697e-03,  4.94909181e-03,\n",
       "        -3.97192078e-02,  3.43088589e-02,  1.48209799e-02,\n",
       "         9.83328685e-02],\n",
       "       [-3.09423241e-02, -4.46416365e-02,  4.66068375e-02,\n",
       "         1.49866836e-02, -1.67044413e-02, -4.70335528e-02,\n",
       "         7.78807997e-04, -2.59226200e-03,  6.34527198e-02,\n",
       "        -2.59303390e-02],\n",
       "       [ 1.75052192e-03, -4.46416365e-02, -3.96181284e-02,\n",
       "        -1.00934109e-01, -2.90880170e-02, -3.01235359e-02,\n",
       "         4.49584616e-02, -5.01947079e-02, -6.83315471e-02,\n",
       "        -1.29483012e-01],\n",
       "       [ 5.98711371e-02,  5.06801187e-02,  2.28949719e-02,\n",
       "         4.94151933e-02,  1.63184273e-02,  1.18383580e-02,\n",
       "        -1.39477432e-02, -2.59226200e-03,  3.95424942e-02,\n",
       "         1.96328371e-02],\n",
       "       [-2.73097857e-02, -4.46416365e-02, -3.53068801e-02,\n",
       "        -2.97703791e-02, -5.66070741e-02, -5.86200459e-02,\n",
       "         3.02319104e-02, -3.94933829e-02, -4.98724518e-02,\n",
       "        -1.29483012e-01],\n",
       "       [-6.36351702e-02,  5.06801187e-02, -7.94971752e-02,\n",
       "        -5.67042229e-03, -7.17425556e-02, -6.64487575e-02,\n",
       "        -1.02661054e-02, -3.94933829e-02, -1.81136923e-02,\n",
       "        -5.49250874e-02],\n",
       "       [ 5.38306037e-03,  5.06801187e-02,  3.04396564e-02,\n",
       "         8.38437031e-02, -3.73437341e-02, -4.73467013e-02,\n",
       "         1.55053592e-02, -3.94933829e-02,  8.64060134e-03,\n",
       "         1.54907302e-02],\n",
       "       [ 7.44012909e-02, -4.46416365e-02,  1.14508998e-01,\n",
       "         2.87580875e-02,  2.45741445e-02,  2.49905934e-02,\n",
       "         1.91869970e-02, -2.59226200e-03, -6.11735305e-04,\n",
       "        -5.21980442e-03],\n",
       "       [-3.45748626e-02,  5.06801187e-02, -2.56065715e-02,\n",
       "        -1.71351160e-02,  1.18294590e-03, -2.87961974e-03,\n",
       "         8.14208361e-03, -1.55076543e-02,  1.48209799e-02,\n",
       "         4.03433716e-02],\n",
       "       [-3.45748626e-02, -4.46416365e-02, -3.74625043e-02,\n",
       "        -6.07560379e-02,  2.04462859e-02,  4.34663526e-02,\n",
       "        -1.39477432e-02, -2.59226200e-03, -3.07479175e-02,\n",
       "        -7.14935151e-02],\n",
       "       [ 1.62806757e-02, -4.46416365e-02,  1.75059115e-02,\n",
       "        -2.28846772e-02,  6.03489188e-02,  4.44057980e-02,\n",
       "         3.02319104e-02, -2.59226200e-03,  3.72362467e-02,\n",
       "        -1.07769750e-03],\n",
       "       [ 3.44433680e-02,  5.06801187e-02,  1.11275562e-01,\n",
       "         7.69580011e-02, -3.18399227e-02, -3.38813175e-02,\n",
       "        -2.13110188e-02, -2.59226200e-03,  2.80203725e-02,\n",
       "         7.34802270e-02],\n",
       "       [ 3.08108295e-02, -4.46416365e-02, -5.03962492e-02,\n",
       "        -2.22757132e-03, -4.42234984e-02, -8.99348921e-02,\n",
       "         1.18591218e-01, -7.63945038e-02, -1.81136923e-02,\n",
       "         3.06440941e-03],\n",
       "       [ 2.71782911e-02,  5.06801187e-02,  2.50505960e-02,\n",
       "         1.49866836e-02,  2.59500973e-02,  4.84767280e-02,\n",
       "        -3.97192078e-02,  3.43088589e-02,  7.83842831e-03,\n",
       "         2.37749440e-02],\n",
       "       [-1.88201653e-03,  5.06801187e-02, -2.45287594e-02,\n",
       "         5.28580443e-02,  2.73260502e-02,  3.00009688e-02,\n",
       "         3.02319104e-02, -2.59226200e-03, -2.13953093e-02,\n",
       "         3.62012647e-02],\n",
       "       [-3.45748626e-02,  5.06801187e-02, -8.16893766e-04,\n",
       "         7.00722992e-02,  3.97096259e-02,  6.69524872e-02,\n",
       "        -6.54906725e-02,  1.08111101e-01,  2.67168413e-02,\n",
       "         7.34802270e-02],\n",
       "       [ 1.26481373e-02,  5.06801187e-02,  3.58287167e-02,\n",
       "         4.94151933e-02,  5.34691545e-02,  7.41549019e-02,\n",
       "        -6.91723103e-02,  1.45012222e-01,  4.56043699e-02,\n",
       "         4.86275855e-02],\n",
       "       [-2.00447088e-02, -4.46416365e-02,  4.57216660e-03,\n",
       "         9.76151070e-02,  5.31080447e-03, -2.07290821e-02,\n",
       "         6.33666507e-02, -3.94933829e-02,  1.25511949e-02,\n",
       "         1.13486232e-02],\n",
       "       [ 2.71782911e-02, -4.46416365e-02, -7.28376621e-03,\n",
       "        -5.04274850e-02,  7.54844002e-02,  5.66185880e-02,\n",
       "         3.39135482e-02, -2.59226200e-03,  4.34439721e-02,\n",
       "         1.54907302e-02],\n",
       "       [-6.36351702e-02, -4.46416365e-02,  3.58287167e-02,\n",
       "        -2.28846772e-02, -3.04639698e-02, -1.88501913e-02,\n",
       "        -6.58446761e-03, -2.59226200e-03, -2.59531106e-02,\n",
       "        -5.49250874e-02],\n",
       "       [ 5.38306037e-03,  5.06801187e-02, -1.89470584e-03,\n",
       "         8.10098161e-03, -4.32086554e-03, -1.57187067e-02,\n",
       "        -2.90282981e-03, -2.59226200e-03,  3.83939283e-02,\n",
       "        -1.35040182e-02],\n",
       "       [-1.88201653e-03, -4.46416365e-02,  5.41515220e-02,\n",
       "        -6.65055990e-02,  7.27324945e-02,  5.66185880e-02,\n",
       "        -4.34008457e-02,  8.48633945e-02,  8.44915307e-02,\n",
       "         4.86275855e-02],\n",
       "       [ 3.44433680e-02, -4.46416365e-02, -3.85403164e-02,\n",
       "        -1.25561242e-02,  9.43866305e-03,  5.26224027e-03,\n",
       "        -6.58446761e-03, -2.59226200e-03,  3.11926022e-02,\n",
       "         9.83328685e-02],\n",
       "       [ 9.01559883e-03, -4.46416365e-02,  1.64280994e-02,\n",
       "         4.65813063e-03,  9.43866305e-03,  1.05857641e-02,\n",
       "        -2.86742944e-02,  3.43088589e-02,  3.89682112e-02,\n",
       "         1.19043403e-01],\n",
       "       [-4.18399395e-02,  5.06801187e-02, -2.99178198e-02,\n",
       "        -2.22757132e-03,  2.18222388e-02,  3.65770865e-02,\n",
       "         1.18237214e-02, -2.59226200e-03, -4.11761669e-02,\n",
       "         6.51960131e-02],\n",
       "       [ 5.38306037e-03,  5.06801187e-02,  1.75059115e-02,\n",
       "         3.22009384e-02,  1.27770609e-01,  1.27390140e-01,\n",
       "        -2.13110188e-02,  7.12099798e-02,  6.25776220e-02,\n",
       "         1.54907302e-02],\n",
       "       [-6.72677086e-02,  5.06801187e-02, -1.26728266e-02,\n",
       "        -4.00989321e-02, -1.53284884e-02,  4.63594335e-03,\n",
       "        -5.81273969e-02,  3.43088589e-02,  1.91964692e-02,\n",
       "        -3.42145528e-02],\n",
       "       [ 5.38306037e-03, -4.46416365e-02, -2.97251791e-03,\n",
       "         4.94151933e-02,  7.41084474e-02,  7.07102688e-02,\n",
       "         4.49584616e-02, -2.59226200e-03, -1.49594876e-03,\n",
       "        -9.36191133e-03],\n",
       "       [-4.91050164e-02, -4.46416365e-02,  4.57216660e-03,\n",
       "         1.15438326e-02, -3.73437341e-02, -1.85370428e-02,\n",
       "        -1.76293810e-02, -2.59226200e-03, -3.98088265e-02,\n",
       "        -2.17882321e-02],\n",
       "       [ 1.62806757e-02, -4.46416365e-02,  2.39727839e-02,\n",
       "        -2.28846772e-02, -2.49601584e-02, -2.60526059e-02,\n",
       "        -3.23559322e-02, -2.59226200e-03,  3.72362467e-02,\n",
       "         3.20591578e-02],\n",
       "       [ 6.71362140e-02,  5.06801187e-02, -3.09956318e-02,\n",
       "         4.65813063e-03,  2.45741445e-02,  3.56376411e-02,\n",
       "        -2.86742944e-02,  3.43088589e-02,  2.33714152e-02,\n",
       "         8.17644408e-02],\n",
       "       [ 6.35036756e-02,  5.06801187e-02, -4.05032999e-03,\n",
       "        -1.25561242e-02,  1.03003457e-01,  4.87898765e-02,\n",
       "         5.60033751e-02, -2.59226200e-03,  8.44915307e-02,\n",
       "        -1.76461252e-02],\n",
       "       [-2.73097857e-02,  5.06801187e-02, -7.28376621e-03,\n",
       "        -4.00989321e-02, -1.12006298e-02, -1.38398159e-02,\n",
       "         5.96850129e-02, -3.94933829e-02, -8.23786907e-02,\n",
       "        -2.59303390e-02],\n",
       "       [ 9.25639832e-02, -4.46416365e-02,  3.69065288e-02,\n",
       "         2.18723855e-02, -2.49601584e-02, -1.66581521e-02,\n",
       "         7.78807997e-04, -3.94933829e-02, -2.25165284e-02,\n",
       "        -2.17882321e-02],\n",
       "       [ 1.99132142e-02,  5.06801187e-02,  4.55290254e-02,\n",
       "         2.98942283e-02, -6.21108856e-02, -5.58017098e-02,\n",
       "        -7.28539481e-02,  2.69286347e-02,  4.56043699e-02,\n",
       "         4.03433716e-02],\n",
       "       [-9.99605547e-02, -4.46416365e-02, -2.34509473e-02,\n",
       "        -6.41988889e-02, -5.79830270e-02, -6.01857882e-02,\n",
       "         1.18237214e-02, -3.94933829e-02, -1.81136923e-02,\n",
       "        -5.07829805e-02],\n",
       "       [-4.54724779e-02, -4.46416365e-02, -3.85403164e-02,\n",
       "        -2.63275281e-02, -1.53284884e-02,  8.78161806e-04,\n",
       "        -3.23559322e-02, -2.59226200e-03,  1.14757600e-03,\n",
       "        -3.83566597e-02]])"
      ]
     },
     "execution_count": 28,
     "metadata": {},
     "output_type": "execute_result"
    }
   ],
   "source": [
    "X_test"
   ]
  },
  {
   "cell_type": "markdown",
   "id": "173b2f02",
   "metadata": {},
   "source": [
    "## (12) hyper paramter 바꿔가며 loss 값 확인해보기 (learning_rate)"
   ]
  },
  {
   "cell_type": "markdown",
   "id": "973d2dc4",
   "metadata": {},
   "source": [
    "1. learning_rate parater?\n",
    "    - 학습 스텝의 크기를 조정하는 parameter로, 임의의 초기값에서 시작해 학습 스템의 크기만큼 MSE가 감소되는 방향으로 진행함.\n",
    "    - learning_rate가 너무 작으면, 알고리즘이 최소값에 수렴하기까지 오랜 시간이 걸림 (Fig. (a))\n",
    "    - learning_rate가 너무 크면, 점진적으로 하강하지 못하고 더 큰 값으로 발산해 Overflow문제가 발생함 (Fig. (b))"
   ]
  },
  {
   "cell_type": "markdown",
   "id": "82f3113d",
   "metadata": {},
   "source": [
    "<img src='https://user-images.githubusercontent.com/127171630/226838243-35d9b655-f0e1-49c4-a505-9f172015a72b.png'/>"
   ]
  },
  {
   "cell_type": "markdown",
   "id": "bce6ae77",
   "metadata": {},
   "source": [
    "2, learning_rate 초기값 설정\n",
    "    - 최소 0.000001 ~ 최대 1.0 까지 고려하여 테스트\n",
    "    - 대체로 초기값으로 0.1, 0.01, 0.001을 사용한다고 함."
   ]
  },
  {
   "cell_type": "markdown",
   "id": "2b9c8791",
   "metadata": {},
   "source": [
    "---"
   ]
  },
  {
   "cell_type": "markdown",
   "id": "ecf91a79",
   "metadata": {},
   "source": [
    "__learning_rate = 1.0__"
   ]
  },
  {
   "cell_type": "code",
   "execution_count": 29,
   "id": "338d0f87",
   "metadata": {},
   "outputs": [],
   "source": [
    "random_state = np.random.RandomState(2023)\n",
    "W = random_state.rand(10)\n",
    "b = random_state.rand()"
   ]
  },
  {
   "cell_type": "code",
   "execution_count": 30,
   "id": "7707733e",
   "metadata": {},
   "outputs": [
    {
     "data": {
      "text/plain": [
       "(array([0.3219883 , 0.89042245, 0.58805226, 0.12659609, 0.14134122,\n",
       "        0.46789559, 0.02208966, 0.72727471, 0.52438734, 0.54493524]),\n",
       " 0.456373260425773)"
      ]
     },
     "execution_count": 30,
     "metadata": {},
     "output_type": "execute_result"
    }
   ],
   "source": [
    "W, b"
   ]
  },
  {
   "cell_type": "code",
   "execution_count": 31,
   "id": "f9774582",
   "metadata": {},
   "outputs": [],
   "source": [
    "learning_rate = 1.0"
   ]
  },
  {
   "cell_type": "code",
   "execution_count": 32,
   "id": "fdce0663",
   "metadata": {
    "collapsed": true
   },
   "outputs": [
    {
     "name": "stdout",
     "output_type": "stream",
     "text": [
      "Iteration 10 : loss 28257.2126\n",
      "Iteration 20 : loss 27738.6281\n",
      "Iteration 30 : loss 27360.7658\n",
      "Iteration 40 : loss 27082.4643\n",
      "Iteration 50 : loss 26874.9791\n",
      "Iteration 60 : loss 26718.2000\n",
      "Iteration 70 : loss 26598.0237\n",
      "Iteration 80 : loss 26504.5299\n",
      "Iteration 90 : loss 26430.7139\n",
      "Iteration 100 : loss 26371.6062\n",
      "Iteration 110 : loss 26323.6596\n",
      "Iteration 120 : loss 26284.3238\n",
      "Iteration 130 : loss 26251.7490\n",
      "Iteration 140 : loss 26224.5786\n",
      "Iteration 150 : loss 26201.8060\n",
      "Iteration 160 : loss 26182.6731\n",
      "Iteration 170 : loss 26166.6003\n",
      "Iteration 180 : loss 26153.1367\n",
      "Iteration 190 : loss 26141.9256\n",
      "Iteration 200 : loss 26132.6796\n",
      "Iteration 210 : loss 26125.1630\n",
      "Iteration 220 : loss 26119.1799\n",
      "Iteration 230 : loss 26114.5645\n",
      "Iteration 240 : loss 26111.1747\n",
      "Iteration 250 : loss 26108.8878\n",
      "Iteration 260 : loss 26107.5963\n",
      "Iteration 270 : loss 26107.2056\n",
      "Iteration 280 : loss 26107.6316\n",
      "Iteration 290 : loss 26108.7994\n",
      "Iteration 300 : loss 26110.6421\n",
      "Iteration 310 : loss 26113.0992\n",
      "Iteration 320 : loss 26116.1165\n",
      "Iteration 330 : loss 26119.6449\n",
      "Iteration 340 : loss 26123.6399\n",
      "Iteration 350 : loss 26128.0614\n",
      "Iteration 360 : loss 26132.8726\n",
      "Iteration 370 : loss 26138.0405\n",
      "Iteration 380 : loss 26143.5349\n",
      "Iteration 390 : loss 26149.3282\n",
      "Iteration 400 : loss 26155.3955\n",
      "Iteration 410 : loss 26161.7140\n",
      "Iteration 420 : loss 26168.2629\n",
      "Iteration 430 : loss 26175.0232\n",
      "Iteration 440 : loss 26181.9776\n",
      "Iteration 450 : loss 26189.1104\n",
      "Iteration 460 : loss 26196.4072\n",
      "Iteration 470 : loss 26203.8547\n",
      "Iteration 480 : loss 26211.4409\n",
      "Iteration 490 : loss 26219.1549\n",
      "Iteration 500 : loss 26226.9865\n",
      "Iteration 510 : loss 26234.9266\n",
      "Iteration 520 : loss 26242.9666\n",
      "Iteration 530 : loss 26251.0989\n",
      "Iteration 540 : loss 26259.3165\n",
      "Iteration 550 : loss 26267.6127\n",
      "Iteration 560 : loss 26275.9818\n",
      "Iteration 570 : loss 26284.4182\n",
      "Iteration 580 : loss 26292.9170\n",
      "Iteration 590 : loss 26301.4735\n",
      "Iteration 600 : loss 26310.0836\n",
      "Iteration 610 : loss 26318.7434\n",
      "Iteration 620 : loss 26327.4493\n",
      "Iteration 630 : loss 26336.1982\n",
      "Iteration 640 : loss 26344.9869\n",
      "Iteration 650 : loss 26353.8128\n",
      "Iteration 660 : loss 26362.6733\n",
      "Iteration 670 : loss 26371.5661\n",
      "Iteration 680 : loss 26380.4891\n",
      "Iteration 690 : loss 26389.4402\n",
      "Iteration 700 : loss 26398.4177\n",
      "Iteration 710 : loss 26407.4198\n",
      "Iteration 720 : loss 26416.4451\n",
      "Iteration 730 : loss 26425.4921\n",
      "Iteration 740 : loss 26434.5595\n",
      "Iteration 750 : loss 26443.6460\n",
      "Iteration 760 : loss 26452.7507\n",
      "Iteration 770 : loss 26461.8724\n",
      "Iteration 780 : loss 26471.0101\n",
      "Iteration 790 : loss 26480.1631\n",
      "Iteration 800 : loss 26489.3305\n",
      "Iteration 810 : loss 26498.5116\n",
      "Iteration 820 : loss 26507.7055\n",
      "Iteration 830 : loss 26516.9118\n",
      "Iteration 840 : loss 26526.1298\n",
      "Iteration 850 : loss 26535.3590\n",
      "Iteration 860 : loss 26544.5988\n",
      "Iteration 870 : loss 26553.8488\n",
      "Iteration 880 : loss 26563.1086\n",
      "Iteration 890 : loss 26572.3777\n",
      "Iteration 900 : loss 26581.6557\n",
      "Iteration 910 : loss 26590.9424\n",
      "Iteration 920 : loss 26600.2373\n",
      "Iteration 930 : loss 26609.5402\n",
      "Iteration 940 : loss 26618.8509\n",
      "Iteration 950 : loss 26628.1690\n",
      "Iteration 960 : loss 26637.4942\n",
      "Iteration 970 : loss 26646.8265\n",
      "Iteration 980 : loss 26656.1656\n",
      "Iteration 990 : loss 26665.5112\n"
     ]
    }
   ],
   "source": [
    "losses = []\n",
    "\n",
    "for i in range(1, 1000):\n",
    "    y_pred = model(X_train, W, b)\n",
    "    L = loss(X_train, W, b, y_train)\n",
    "    dW, db = gradient(X_train, W, b, y_train)\n",
    "    W -= learning_rate * dW\n",
    "    b -= learning_rate * db\n",
    "    losses.append(L)\n",
    "    if i % 10 ==0:\n",
    "        print('Iteration %d : loss %0.4f' % (i, L))"
   ]
  },
  {
   "cell_type": "code",
   "execution_count": 33,
   "id": "c433b927",
   "metadata": {},
   "outputs": [
    {
     "data": {
      "text/plain": [
       "(array([  41.45482789, -279.46100356,  492.25343213,  357.55522364,\n",
       "         -60.38915486, -110.9861291 , -186.71093529,  146.77912291,\n",
       "         454.19846128,   49.57514788]),\n",
       " 304.9770188023264)"
      ]
     },
     "execution_count": 33,
     "metadata": {},
     "output_type": "execute_result"
    }
   ],
   "source": [
    "W, b"
   ]
  },
  {
   "cell_type": "code",
   "execution_count": 34,
   "id": "a9c2c33e",
   "metadata": {},
   "outputs": [
    {
     "data": {
      "image/png": "[encoded data removed]",
      "text/plain": [
       "<Figure size 640x480 with 1 Axes>"
      ]
     },
     "metadata": {},
     "output_type": "display_data"
    }
   ],
   "source": [
    "import matplotlib.pyplot as plt\n",
    "plt.plot(losses)\n",
    "plt.xlabel(\"Iteration Number\")\n",
    "plt.ylabel(\"loss\")\n",
    "\n",
    "plt.show()"
   ]
  },
  {
   "cell_type": "markdown",
   "id": "d5138d32",
   "metadata": {},
   "source": [
    "<span style=\"color:red\"> __learning_rate를 키운경우 26,000 아래로 하강하는 듯 하다 발산해버림__ </span>"
   ]
  },
  {
   "cell_type": "markdown",
   "id": "4e97bdc6",
   "metadata": {},
   "source": [
    "__learning_rate = 0.01__"
   ]
  },
  {
   "cell_type": "code",
   "execution_count": 35,
   "id": "f04a7153",
   "metadata": {},
   "outputs": [],
   "source": [
    "random_state = np.random.RandomState(2023)\n",
    "W = random_state.rand(10)\n",
    "b = random_state.rand()"
   ]
  },
  {
   "cell_type": "code",
   "execution_count": 36,
   "id": "d2357025",
   "metadata": {},
   "outputs": [
    {
     "data": {
      "text/plain": [
       "(array([0.3219883 , 0.89042245, 0.58805226, 0.12659609, 0.14134122,\n",
       "        0.46789559, 0.02208966, 0.72727471, 0.52438734, 0.54493524]),\n",
       " 0.456373260425773)"
      ]
     },
     "execution_count": 36,
     "metadata": {},
     "output_type": "execute_result"
    }
   ],
   "source": [
    "W, b"
   ]
  },
  {
   "cell_type": "code",
   "execution_count": 37,
   "id": "7cdceeb2",
   "metadata": {},
   "outputs": [],
   "source": [
    "learning_rate = 0.01"
   ]
  },
  {
   "cell_type": "code",
   "execution_count": 38,
   "id": "54d2e252",
   "metadata": {
    "scrolled": true
   },
   "outputs": [
    {
     "name": "stdout",
     "output_type": "stream",
     "text": [
      "Iteration 10 : loss 21917.6014\n",
      "Iteration 20 : loss 16628.7187\n",
      "Iteration 30 : loss 13095.1509\n",
      "Iteration 40 : loss 10733.4492\n",
      "Iteration 50 : loss 9154.1002\n",
      "Iteration 60 : loss 8097.0627\n",
      "Iteration 70 : loss 7388.7318\n",
      "Iteration 80 : loss 6913.2077\n",
      "Iteration 90 : loss 6593.1153\n",
      "Iteration 100 : loss 6376.7984\n",
      "Iteration 110 : loss 6229.7712\n",
      "Iteration 120 : loss 6129.0106\n",
      "Iteration 130 : loss 6059.1462\n",
      "Iteration 140 : loss 6009.9168\n",
      "Iteration 150 : loss 5974.4717\n",
      "Iteration 160 : loss 5948.2375\n",
      "Iteration 170 : loss 5928.1609\n",
      "Iteration 180 : loss 5912.2035\n",
      "Iteration 190 : loss 5899.0042\n",
      "Iteration 200 : loss 5887.6546\n",
      "Iteration 210 : loss 5877.5480\n",
      "Iteration 220 : loss 5868.2795\n",
      "Iteration 230 : loss 5859.5787\n",
      "Iteration 240 : loss 5851.2649\n",
      "Iteration 250 : loss 5843.2177\n",
      "Iteration 260 : loss 5835.3564\n",
      "Iteration 270 : loss 5827.6274\n",
      "Iteration 280 : loss 5819.9947\n",
      "Iteration 290 : loss 5812.4343\n",
      "Iteration 300 : loss 5804.9300\n",
      "Iteration 310 : loss 5797.4712\n",
      "Iteration 320 : loss 5790.0507\n",
      "Iteration 330 : loss 5782.6636\n",
      "Iteration 340 : loss 5775.3066\n",
      "Iteration 350 : loss 5767.9776\n",
      "Iteration 360 : loss 5760.6751\n",
      "Iteration 370 : loss 5753.3980\n",
      "Iteration 380 : loss 5746.1456\n",
      "Iteration 390 : loss 5738.9174\n",
      "Iteration 400 : loss 5731.7130\n",
      "Iteration 410 : loss 5724.5323\n",
      "Iteration 420 : loss 5717.3749\n",
      "Iteration 430 : loss 5710.2408\n",
      "Iteration 440 : loss 5703.1297\n",
      "Iteration 450 : loss 5696.0415\n",
      "Iteration 460 : loss 5688.9763\n",
      "Iteration 470 : loss 5681.9337\n",
      "Iteration 480 : loss 5674.9139\n",
      "Iteration 490 : loss 5667.9166\n",
      "Iteration 500 : loss 5660.9418\n",
      "Iteration 510 : loss 5653.9895\n",
      "Iteration 520 : loss 5647.0594\n",
      "Iteration 530 : loss 5640.1516\n",
      "Iteration 540 : loss 5633.2660\n",
      "Iteration 550 : loss 5626.4025\n",
      "Iteration 560 : loss 5619.5610\n",
      "Iteration 570 : loss 5612.7415\n",
      "Iteration 580 : loss 5605.9438\n",
      "Iteration 590 : loss 5599.1679\n",
      "Iteration 600 : loss 5592.4138\n",
      "Iteration 610 : loss 5585.6812\n",
      "Iteration 620 : loss 5578.9702\n",
      "Iteration 630 : loss 5572.2807\n",
      "Iteration 640 : loss 5565.6127\n",
      "Iteration 650 : loss 5558.9659\n",
      "Iteration 660 : loss 5552.3404\n",
      "Iteration 670 : loss 5545.7361\n",
      "Iteration 680 : loss 5539.1530\n",
      "Iteration 690 : loss 5532.5908\n",
      "Iteration 700 : loss 5526.0496\n",
      "Iteration 710 : loss 5519.5294\n",
      "Iteration 720 : loss 5513.0299\n",
      "Iteration 730 : loss 5506.5512\n",
      "Iteration 740 : loss 5500.0931\n",
      "Iteration 750 : loss 5493.6557\n",
      "Iteration 760 : loss 5487.2388\n",
      "Iteration 770 : loss 5480.8424\n",
      "Iteration 780 : loss 5474.4663\n",
      "Iteration 790 : loss 5468.1106\n",
      "Iteration 800 : loss 5461.7751\n",
      "Iteration 810 : loss 5455.4598\n",
      "Iteration 820 : loss 5449.1646\n",
      "Iteration 830 : loss 5442.8894\n",
      "Iteration 840 : loss 5436.6342\n",
      "Iteration 850 : loss 5430.3989\n",
      "Iteration 860 : loss 5424.1835\n",
      "Iteration 870 : loss 5417.9877\n",
      "Iteration 880 : loss 5411.8117\n",
      "Iteration 890 : loss 5405.6553\n",
      "Iteration 900 : loss 5399.5185\n",
      "Iteration 910 : loss 5393.4011\n",
      "Iteration 920 : loss 5387.3031\n",
      "Iteration 930 : loss 5381.2245\n",
      "Iteration 940 : loss 5375.1652\n",
      "Iteration 950 : loss 5369.1251\n",
      "Iteration 960 : loss 5363.1042\n",
      "Iteration 970 : loss 5357.1023\n",
      "Iteration 980 : loss 5351.1194\n",
      "Iteration 990 : loss 5345.1555\n"
     ]
    }
   ],
   "source": [
    "losses = []\n",
    "\n",
    "for i in range(1, 1000):\n",
    "    y_pred = model(X_train, W, b)\n",
    "    L = loss(X_train, W, b, y_train)\n",
    "    dW, db = gradient(X_train, W, b, y_train)\n",
    "    W -= learning_rate * dW\n",
    "    b -= learning_rate * db\n",
    "    losses.append(L)\n",
    "    if i % 10 ==0:\n",
    "        print('Iteration %d : loss %0.4f' % (i, L))"
   ]
  },
  {
   "cell_type": "code",
   "execution_count": 39,
   "id": "01f0a343",
   "metadata": {},
   "outputs": [
    {
     "data": {
      "text/plain": [
       "(array([ 14.32126282,   1.26484082,  40.76244806,  32.66170012,\n",
       "         14.24107863,  10.63575495, -26.51855339,  30.15759184,\n",
       "         40.94047724,  24.89400848]),\n",
       " 151.6250011975354)"
      ]
     },
     "execution_count": 39,
     "metadata": {},
     "output_type": "execute_result"
    }
   ],
   "source": [
    "W, b"
   ]
  },
  {
   "cell_type": "code",
   "execution_count": 40,
   "id": "451300e9",
   "metadata": {},
   "outputs": [
    {
     "data": {
      "image/png": "[encoded data removed]",
      "text/plain": [
       "<Figure size 640x480 with 1 Axes>"
      ]
     },
     "metadata": {},
     "output_type": "display_data"
    }
   ],
   "source": [
    "import matplotlib.pyplot as plt\n",
    "plt.plot(losses)\n",
    "plt.xlabel(\"Iteration Number\")\n",
    "plt.ylabel(\"loss\")\n",
    "\n",
    "plt.show()"
   ]
  },
  {
   "cell_type": "markdown",
   "id": "3e3a8ced",
   "metadata": {},
   "source": [
    "<span style=\"color:red\"> __0.1로 돌렸을 때보다 learning_size가 작아져서 일정 값으로 수렴하기까지 더 많은 학습량을 필요로 함__ </span>"
   ]
  },
  {
   "cell_type": "markdown",
   "id": "e9998a6e",
   "metadata": {},
   "source": [
    "__learning_rate = 0.001__"
   ]
  },
  {
   "cell_type": "code",
   "execution_count": 41,
   "id": "1c1cf281",
   "metadata": {},
   "outputs": [],
   "source": [
    "random_state = np.random.RandomState(2023)\n",
    "W = random_state.rand(10)\n",
    "b = random_state.rand()"
   ]
  },
  {
   "cell_type": "code",
   "execution_count": 42,
   "id": "7f3116f6",
   "metadata": {},
   "outputs": [
    {
     "data": {
      "text/plain": [
       "(array([0.3219883 , 0.89042245, 0.58805226, 0.12659609, 0.14134122,\n",
       "        0.46789559, 0.02208966, 0.72727471, 0.52438734, 0.54493524]),\n",
       " 0.456373260425773)"
      ]
     },
     "execution_count": 42,
     "metadata": {},
     "output_type": "execute_result"
    }
   ],
   "source": [
    "W, b"
   ]
  },
  {
   "cell_type": "code",
   "execution_count": 43,
   "id": "3bf47eab",
   "metadata": {},
   "outputs": [],
   "source": [
    "learning_rate = 0.001"
   ]
  },
  {
   "cell_type": "code",
   "execution_count": 44,
   "id": "e36ae327",
   "metadata": {
    "scrolled": true
   },
   "outputs": [
    {
     "name": "stdout",
     "output_type": "stream",
     "text": [
      "Iteration 10 : loss 28082.8873\n",
      "Iteration 20 : loss 27216.7919\n",
      "Iteration 30 : loss 26384.6584\n",
      "Iteration 40 : loss 25585.1538\n",
      "Iteration 50 : loss 24816.9975\n",
      "Iteration 60 : loss 24078.9591\n",
      "Iteration 70 : loss 23369.8565\n",
      "Iteration 80 : loss 22688.5539\n",
      "Iteration 90 : loss 22033.9603\n",
      "Iteration 100 : loss 21405.0273\n",
      "Iteration 110 : loss 20800.7479\n",
      "Iteration 120 : loss 20220.1543\n",
      "Iteration 130 : loss 19662.3169\n",
      "Iteration 140 : loss 19126.3426\n",
      "Iteration 150 : loss 18611.3733\n",
      "Iteration 160 : loss 18116.5845\n",
      "Iteration 170 : loss 17641.1842\n",
      "Iteration 180 : loss 17184.4113\n",
      "Iteration 190 : loss 16745.5349\n",
      "Iteration 200 : loss 16323.8525\n",
      "Iteration 210 : loss 15918.6892\n",
      "Iteration 220 : loss 15529.3966\n",
      "Iteration 230 : loss 15155.3520\n",
      "Iteration 240 : loss 14795.9567\n",
      "Iteration 250 : loss 14450.6359\n",
      "Iteration 260 : loss 14118.8371\n",
      "Iteration 270 : loss 13800.0297\n",
      "Iteration 280 : loss 13493.7037\n",
      "Iteration 290 : loss 13199.3692\n",
      "Iteration 300 : loss 12916.5556\n",
      "Iteration 310 : loss 12644.8107\n",
      "Iteration 320 : loss 12383.7001\n",
      "Iteration 330 : loss 12132.8064\n",
      "Iteration 340 : loss 11891.7287\n",
      "Iteration 350 : loss 11660.0815\n",
      "Iteration 360 : loss 11437.4949\n",
      "Iteration 370 : loss 11223.6132\n",
      "Iteration 380 : loss 11018.0948\n",
      "Iteration 390 : loss 10820.6113\n",
      "Iteration 400 : loss 10630.8475\n",
      "Iteration 410 : loss 10448.5004\n",
      "Iteration 420 : loss 10273.2788\n",
      "Iteration 430 : loss 10104.9032\n",
      "Iteration 440 : loss 9943.1048\n",
      "Iteration 450 : loss 9787.6255\n",
      "Iteration 460 : loss 9638.2172\n",
      "Iteration 470 : loss 9494.6418\n",
      "Iteration 480 : loss 9356.6702\n",
      "Iteration 490 : loss 9224.0825\n",
      "Iteration 500 : loss 9096.6675\n",
      "Iteration 510 : loss 8974.2221\n",
      "Iteration 520 : loss 8856.5513\n",
      "Iteration 530 : loss 8743.4676\n",
      "Iteration 540 : loss 8634.7911\n",
      "Iteration 550 : loss 8530.3488\n",
      "Iteration 560 : loss 8429.9745\n",
      "Iteration 570 : loss 8333.5085\n",
      "Iteration 580 : loss 8240.7975\n",
      "Iteration 590 : loss 8151.6941\n",
      "Iteration 600 : loss 8066.0567\n",
      "Iteration 610 : loss 7983.7492\n",
      "Iteration 620 : loss 7904.6410\n",
      "Iteration 630 : loss 7828.6066\n",
      "Iteration 640 : loss 7755.5252\n",
      "Iteration 650 : loss 7685.2811\n",
      "Iteration 660 : loss 7617.7627\n",
      "Iteration 670 : loss 7552.8633\n",
      "Iteration 680 : loss 7490.4799\n",
      "Iteration 690 : loss 7430.5139\n",
      "Iteration 700 : loss 7372.8704\n",
      "Iteration 710 : loss 7317.4582\n",
      "Iteration 720 : loss 7264.1897\n",
      "Iteration 730 : loss 7212.9809\n",
      "Iteration 740 : loss 7163.7509\n",
      "Iteration 750 : loss 7116.4220\n",
      "Iteration 760 : loss 7070.9197\n",
      "Iteration 770 : loss 7027.1722\n",
      "Iteration 780 : loss 6985.1107\n",
      "Iteration 790 : loss 6944.6690\n",
      "Iteration 800 : loss 6905.7836\n",
      "Iteration 810 : loss 6868.3934\n",
      "Iteration 820 : loss 6832.4396\n",
      "Iteration 830 : loss 6797.8661\n",
      "Iteration 840 : loss 6764.6185\n",
      "Iteration 850 : loss 6732.6448\n",
      "Iteration 860 : loss 6701.8951\n",
      "Iteration 870 : loss 6672.3213\n",
      "Iteration 880 : loss 6643.8773\n",
      "Iteration 890 : loss 6616.5188\n",
      "Iteration 900 : loss 6590.2030\n",
      "Iteration 910 : loss 6564.8893\n",
      "Iteration 920 : loss 6540.5381\n",
      "Iteration 930 : loss 6517.1118\n",
      "Iteration 940 : loss 6494.5741\n",
      "Iteration 950 : loss 6472.8900\n",
      "Iteration 960 : loss 6452.0261\n",
      "Iteration 970 : loss 6431.9503\n",
      "Iteration 980 : loss 6412.6315\n",
      "Iteration 990 : loss 6394.0401\n"
     ]
    }
   ],
   "source": [
    "losses = []\n",
    "\n",
    "for i in range(1, 1000):\n",
    "    y_pred = model(X_train, W, b)\n",
    "    L = loss(X_train, W, b, y_train)\n",
    "    dW, db = gradient(X_train, W, b, y_train)\n",
    "    W -= learning_rate * dW\n",
    "    b -= learning_rate * db\n",
    "    losses.append(L)\n",
    "    if i % 10 ==0:\n",
    "        print('Iteration %d : loss %0.4f' % (i, L))"
   ]
  },
  {
   "cell_type": "code",
   "execution_count": 45,
   "id": "a1bb8d7c",
   "metadata": {},
   "outputs": [
    {
     "data": {
      "text/plain": [
       "(array([ 1.98001123,  0.89195414,  4.89358939,  3.70350033,  1.60416659,\n",
       "         1.48952879, -2.83575074,  3.79933904,  4.78018466,  3.3119538 ]),\n",
       " 131.1726803316492)"
      ]
     },
     "execution_count": 45,
     "metadata": {},
     "output_type": "execute_result"
    }
   ],
   "source": [
    "W, b"
   ]
  },
  {
   "cell_type": "code",
   "execution_count": 46,
   "id": "5cf335ba",
   "metadata": {},
   "outputs": [
    {
     "data": {
      "image/png": "[encoded data removed]",
      "text/plain": [
       "<Figure size 640x480 with 1 Axes>"
      ]
     },
     "metadata": {},
     "output_type": "display_data"
    }
   ],
   "source": [
    "import matplotlib.pyplot as plt\n",
    "plt.plot(losses)\n",
    "plt.xlabel(\"Iteration Number\")\n",
    "plt.ylabel(\"loss\")\n",
    "\n",
    "plt.show()"
   ]
  },
  {
   "cell_type": "markdown",
   "id": "806154d3",
   "metadata": {},
   "source": [
    "<span style=\"color:red\"> __loss값 약 6000대에서 수렴하는 양상을 보임__ </span>"
   ]
  },
  {
   "cell_type": "markdown",
   "id": "39a01027",
   "metadata": {},
   "source": [
    "__learning_rate = 0.0001__"
   ]
  },
  {
   "cell_type": "code",
   "execution_count": 47,
   "id": "a3b28c5c",
   "metadata": {},
   "outputs": [],
   "source": [
    "random_state = np.random.RandomState(2023)\n",
    "W = random_state.rand(10)\n",
    "b = random_state.rand()"
   ]
  },
  {
   "cell_type": "code",
   "execution_count": 48,
   "id": "073dc1f5",
   "metadata": {},
   "outputs": [
    {
     "data": {
      "text/plain": [
       "(array([0.3219883 , 0.89042245, 0.58805226, 0.12659609, 0.14134122,\n",
       "        0.46789559, 0.02208966, 0.72727471, 0.52438734, 0.54493524]),\n",
       " 0.456373260425773)"
      ]
     },
     "execution_count": 48,
     "metadata": {},
     "output_type": "execute_result"
    }
   ],
   "source": [
    "W, b"
   ]
  },
  {
   "cell_type": "code",
   "execution_count": 49,
   "id": "0d44cc86",
   "metadata": {},
   "outputs": [],
   "source": [
    "learning_rate = 0.0001"
   ]
  },
  {
   "cell_type": "code",
   "execution_count": 50,
   "id": "a688c207",
   "metadata": {
    "collapsed": true
   },
   "outputs": [
    {
     "name": "stdout",
     "output_type": "stream",
     "text": [
      "Iteration 10 : loss 28810.3451\n",
      "Iteration 20 : loss 28719.3456\n",
      "Iteration 30 : loss 28628.7091\n",
      "Iteration 40 : loss 28538.4342\n",
      "Iteration 50 : loss 28448.5193\n",
      "Iteration 60 : loss 28358.9631\n",
      "Iteration 70 : loss 28269.7641\n",
      "Iteration 80 : loss 28180.9209\n",
      "Iteration 90 : loss 28092.4321\n",
      "Iteration 100 : loss 28004.2963\n",
      "Iteration 110 : loss 27916.5120\n",
      "Iteration 120 : loss 27829.0779\n",
      "Iteration 130 : loss 27741.9925\n",
      "Iteration 140 : loss 27655.2545\n",
      "Iteration 150 : loss 27568.8624\n",
      "Iteration 160 : loss 27482.8149\n",
      "Iteration 170 : loss 27397.1107\n",
      "Iteration 180 : loss 27311.7483\n",
      "Iteration 190 : loss 27226.7264\n",
      "Iteration 200 : loss 27142.0436\n",
      "Iteration 210 : loss 27057.6986\n",
      "Iteration 220 : loss 26973.6900\n",
      "Iteration 230 : loss 26890.0164\n",
      "Iteration 240 : loss 26806.6766\n",
      "Iteration 250 : loss 26723.6692\n",
      "Iteration 260 : loss 26640.9929\n",
      "Iteration 270 : loss 26558.6464\n",
      "Iteration 280 : loss 26476.6283\n",
      "Iteration 290 : loss 26394.9373\n",
      "Iteration 300 : loss 26313.5721\n",
      "Iteration 310 : loss 26232.5315\n",
      "Iteration 320 : loss 26151.8141\n",
      "Iteration 330 : loss 26071.4186\n",
      "Iteration 340 : loss 25991.3438\n",
      "Iteration 350 : loss 25911.5884\n",
      "Iteration 360 : loss 25832.1510\n",
      "Iteration 370 : loss 25753.0305\n",
      "Iteration 380 : loss 25674.2255\n",
      "Iteration 390 : loss 25595.7348\n",
      "Iteration 400 : loss 25517.5572\n",
      "Iteration 410 : loss 25439.6914\n",
      "Iteration 420 : loss 25362.1361\n",
      "Iteration 430 : loss 25284.8902\n",
      "Iteration 440 : loss 25207.9523\n",
      "Iteration 450 : loss 25131.3212\n",
      "Iteration 460 : loss 25054.9958\n",
      "Iteration 470 : loss 24978.9748\n",
      "Iteration 480 : loss 24903.2570\n",
      "Iteration 490 : loss 24827.8411\n",
      "Iteration 500 : loss 24752.7261\n",
      "Iteration 510 : loss 24677.9105\n",
      "Iteration 520 : loss 24603.3934\n",
      "Iteration 530 : loss 24529.1734\n",
      "Iteration 540 : loss 24455.2495\n",
      "Iteration 550 : loss 24381.6203\n",
      "Iteration 560 : loss 24308.2848\n",
      "Iteration 570 : loss 24235.2418\n",
      "Iteration 580 : loss 24162.4900\n",
      "Iteration 590 : loss 24090.0284\n",
      "Iteration 600 : loss 24017.8558\n",
      "Iteration 610 : loss 23945.9710\n",
      "Iteration 620 : loss 23874.3728\n",
      "Iteration 630 : loss 23803.0602\n",
      "Iteration 640 : loss 23732.0320\n",
      "Iteration 650 : loss 23661.2870\n",
      "Iteration 660 : loss 23590.8242\n",
      "Iteration 670 : loss 23520.6423\n",
      "Iteration 680 : loss 23450.7403\n",
      "Iteration 690 : loss 23381.1171\n",
      "Iteration 700 : loss 23311.7715\n",
      "Iteration 710 : loss 23242.7025\n",
      "Iteration 720 : loss 23173.9089\n",
      "Iteration 730 : loss 23105.3896\n",
      "Iteration 740 : loss 23037.1436\n",
      "Iteration 750 : loss 22969.1697\n",
      "Iteration 760 : loss 22901.4668\n",
      "Iteration 770 : loss 22834.0340\n",
      "Iteration 780 : loss 22766.8700\n",
      "Iteration 790 : loss 22699.9739\n",
      "Iteration 800 : loss 22633.3445\n",
      "Iteration 810 : loss 22566.9808\n",
      "Iteration 820 : loss 22500.8817\n",
      "Iteration 830 : loss 22435.0462\n",
      "Iteration 840 : loss 22369.4733\n",
      "Iteration 850 : loss 22304.1618\n",
      "Iteration 860 : loss 22239.1107\n",
      "Iteration 870 : loss 22174.3190\n",
      "Iteration 880 : loss 22109.7857\n",
      "Iteration 890 : loss 22045.5097\n",
      "Iteration 900 : loss 21981.4900\n",
      "Iteration 910 : loss 21917.7256\n",
      "Iteration 920 : loss 21854.2154\n",
      "Iteration 930 : loss 21790.9585\n",
      "Iteration 940 : loss 21727.9538\n",
      "Iteration 950 : loss 21665.2003\n",
      "Iteration 960 : loss 21602.6970\n",
      "Iteration 970 : loss 21540.4430\n",
      "Iteration 980 : loss 21478.4371\n",
      "Iteration 990 : loss 21416.6785\n"
     ]
    }
   ],
   "source": [
    "losses = []\n",
    "\n",
    "for i in range(1, 1000):\n",
    "    y_pred = model(X_train, W, b)\n",
    "    L = loss(X_train, W, b, y_train)\n",
    "    dW, db = gradient(X_train, W, b, y_train)\n",
    "    W -= learning_rate * dW\n",
    "    b -= learning_rate * db\n",
    "    losses.append(L)\n",
    "    if i % 10 ==0:\n",
    "        print('Iteration %d : loss %0.4f' % (i, L))"
   ]
  },
  {
   "cell_type": "code",
   "execution_count": 51,
   "id": "f3b6734a",
   "metadata": {},
   "outputs": [
    {
     "data": {
      "text/plain": [
       "(array([ 0.50469965,  0.87491258,  1.02793759,  0.50081723,  0.2736696 ,\n",
       "         0.55113596, -0.26634475,  1.02037706,  0.94568233,  0.83931299]),\n",
       " 27.83780066259949)"
      ]
     },
     "execution_count": 51,
     "metadata": {},
     "output_type": "execute_result"
    }
   ],
   "source": [
    "W, b"
   ]
  },
  {
   "cell_type": "code",
   "execution_count": 52,
   "id": "0aa701b9",
   "metadata": {},
   "outputs": [
    {
     "data": {
      "image/png": "[encoded data removed]",
      "text/plain": [
       "<Figure size 640x480 with 1 Axes>"
      ]
     },
     "metadata": {},
     "output_type": "display_data"
    }
   ],
   "source": [
    "import matplotlib.pyplot as plt\n",
    "plt.plot(losses)\n",
    "plt.xlabel(\"Iteration Number\")\n",
    "plt.ylabel(\"loss\")\n",
    "\n",
    "plt.show()"
   ]
  },
  {
   "cell_type": "markdown",
   "id": "35338629",
   "metadata": {},
   "source": [
    "<span style=\"color:red\"> __0.0001 이하로 learning_rate가 낮아지면 수렴하기까지 더 많은 학습량과 시간을 필요로 함.__ </span>"
   ]
  },
  {
   "cell_type": "markdown",
   "id": "e1581a1e",
   "metadata": {},
   "source": [
    "__learning_rate = 0.00001__"
   ]
  },
  {
   "cell_type": "code",
   "execution_count": 53,
   "id": "70ceb3cf",
   "metadata": {},
   "outputs": [],
   "source": [
    "random_state = np.random.RandomState(2023)\n",
    "W = random_state.rand(10)\n",
    "b = random_state.rand()"
   ]
  },
  {
   "cell_type": "code",
   "execution_count": 54,
   "id": "6231b292",
   "metadata": {},
   "outputs": [
    {
     "data": {
      "text/plain": [
       "(array([0.3219883 , 0.89042245, 0.58805226, 0.12659609, 0.14134122,\n",
       "        0.46789559, 0.02208966, 0.72727471, 0.52438734, 0.54493524]),\n",
       " 0.456373260425773)"
      ]
     },
     "execution_count": 54,
     "metadata": {},
     "output_type": "execute_result"
    }
   ],
   "source": [
    "W, b"
   ]
  },
  {
   "cell_type": "code",
   "execution_count": 55,
   "id": "12c08314",
   "metadata": {},
   "outputs": [],
   "source": [
    "learning_rate = 0.00001"
   ]
  },
  {
   "cell_type": "code",
   "execution_count": 56,
   "id": "d754d932",
   "metadata": {
    "collapsed": true
   },
   "outputs": [
    {
     "name": "stdout",
     "output_type": "stream",
     "text": [
      "Iteration 10 : loss 28884.3225\n",
      "Iteration 20 : loss 28875.1774\n",
      "Iteration 30 : loss 28866.0360\n",
      "Iteration 40 : loss 28856.8983\n",
      "Iteration 50 : loss 28847.7641\n",
      "Iteration 60 : loss 28838.6337\n",
      "Iteration 70 : loss 28829.5069\n",
      "Iteration 80 : loss 28820.3837\n",
      "Iteration 90 : loss 28811.2642\n",
      "Iteration 100 : loss 28802.1483\n",
      "Iteration 110 : loss 28793.0361\n",
      "Iteration 120 : loss 28783.9275\n",
      "Iteration 130 : loss 28774.8226\n",
      "Iteration 140 : loss 28765.7213\n",
      "Iteration 150 : loss 28756.6236\n",
      "Iteration 160 : loss 28747.5295\n",
      "Iteration 170 : loss 28738.4391\n",
      "Iteration 180 : loss 28729.3524\n",
      "Iteration 190 : loss 28720.2692\n",
      "Iteration 200 : loss 28711.1897\n",
      "Iteration 210 : loss 28702.1138\n",
      "Iteration 220 : loss 28693.0416\n",
      "Iteration 230 : loss 28683.9729\n",
      "Iteration 240 : loss 28674.9079\n",
      "Iteration 250 : loss 28665.8465\n",
      "Iteration 260 : loss 28656.7888\n",
      "Iteration 270 : loss 28647.7346\n",
      "Iteration 280 : loss 28638.6841\n",
      "Iteration 290 : loss 28629.6372\n",
      "Iteration 300 : loss 28620.5939\n",
      "Iteration 310 : loss 28611.5542\n",
      "Iteration 320 : loss 28602.5181\n",
      "Iteration 330 : loss 28593.4857\n",
      "Iteration 340 : loss 28584.4568\n",
      "Iteration 350 : loss 28575.4316\n",
      "Iteration 360 : loss 28566.4099\n",
      "Iteration 370 : loss 28557.3919\n",
      "Iteration 380 : loss 28548.3775\n",
      "Iteration 390 : loss 28539.3666\n",
      "Iteration 400 : loss 28530.3594\n",
      "Iteration 410 : loss 28521.3558\n",
      "Iteration 420 : loss 28512.3557\n",
      "Iteration 430 : loss 28503.3593\n",
      "Iteration 440 : loss 28494.3665\n",
      "Iteration 450 : loss 28485.3772\n",
      "Iteration 460 : loss 28476.3916\n",
      "Iteration 470 : loss 28467.4095\n",
      "Iteration 480 : loss 28458.4310\n",
      "Iteration 490 : loss 28449.4561\n",
      "Iteration 500 : loss 28440.4848\n",
      "Iteration 510 : loss 28431.5171\n",
      "Iteration 520 : loss 28422.5530\n",
      "Iteration 530 : loss 28413.5924\n",
      "Iteration 540 : loss 28404.6354\n",
      "Iteration 550 : loss 28395.6820\n",
      "Iteration 560 : loss 28386.7322\n",
      "Iteration 570 : loss 28377.7860\n",
      "Iteration 580 : loss 28368.8433\n",
      "Iteration 590 : loss 28359.9042\n",
      "Iteration 600 : loss 28350.9687\n",
      "Iteration 610 : loss 28342.0367\n",
      "Iteration 620 : loss 28333.1084\n",
      "Iteration 630 : loss 28324.1835\n",
      "Iteration 640 : loss 28315.2623\n",
      "Iteration 650 : loss 28306.3446\n",
      "Iteration 660 : loss 28297.4305\n",
      "Iteration 670 : loss 28288.5199\n",
      "Iteration 680 : loss 28279.6129\n",
      "Iteration 690 : loss 28270.7095\n",
      "Iteration 700 : loss 28261.8096\n",
      "Iteration 710 : loss 28252.9133\n",
      "Iteration 720 : loss 28244.0205\n",
      "Iteration 730 : loss 28235.1313\n",
      "Iteration 740 : loss 28226.2456\n",
      "Iteration 750 : loss 28217.3635\n",
      "Iteration 760 : loss 28208.4849\n",
      "Iteration 770 : loss 28199.6099\n",
      "Iteration 780 : loss 28190.7384\n",
      "Iteration 790 : loss 28181.8705\n",
      "Iteration 800 : loss 28173.0061\n",
      "Iteration 810 : loss 28164.1453\n",
      "Iteration 820 : loss 28155.2880\n",
      "Iteration 830 : loss 28146.4342\n",
      "Iteration 840 : loss 28137.5840\n",
      "Iteration 850 : loss 28128.7373\n",
      "Iteration 860 : loss 28119.8941\n",
      "Iteration 870 : loss 28111.0545\n",
      "Iteration 880 : loss 28102.2184\n",
      "Iteration 890 : loss 28093.3859\n",
      "Iteration 900 : loss 28084.5568\n",
      "Iteration 910 : loss 28075.7313\n",
      "Iteration 920 : loss 28066.9093\n",
      "Iteration 930 : loss 28058.0909\n",
      "Iteration 940 : loss 28049.2760\n",
      "Iteration 950 : loss 28040.4646\n",
      "Iteration 960 : loss 28031.6567\n",
      "Iteration 970 : loss 28022.8523\n",
      "Iteration 980 : loss 28014.0515\n",
      "Iteration 990 : loss 28005.2541\n"
     ]
    }
   ],
   "source": [
    "losses = []\n",
    "\n",
    "for i in range(1, 1000):\n",
    "    y_pred = model(X_train, W, b)\n",
    "    L = loss(X_train, W, b, y_train)\n",
    "    dW, db = gradient(X_train, W, b, y_train)\n",
    "    W -= learning_rate * dW\n",
    "    b -= learning_rate * db\n",
    "    losses.append(L)\n",
    "    if i % 10 ==0:\n",
    "        print('Iteration %d : loss %0.4f' % (i, L))"
   ]
  },
  {
   "cell_type": "code",
   "execution_count": 57,
   "id": "aa9e79af",
   "metadata": {},
   "outputs": [
    {
     "data": {
      "text/plain": [
       "(array([ 0.34054702,  0.88858712,  0.63218682,  0.16429319,  0.15431326,\n",
       "         0.47587184, -0.00678454,  0.75631476,  0.56641944,  0.5746682 ]),\n",
       " 3.446943954816578)"
      ]
     },
     "execution_count": 57,
     "metadata": {},
     "output_type": "execute_result"
    }
   ],
   "source": [
    "W, b"
   ]
  },
  {
   "cell_type": "code",
   "execution_count": 58,
   "id": "f59c5747",
   "metadata": {},
   "outputs": [
    {
     "data": {
      "image/png": "[encoded data removed]",
      "text/plain": [
       "<Figure size 640x480 with 1 Axes>"
      ]
     },
     "metadata": {},
     "output_type": "display_data"
    }
   ],
   "source": [
    "import matplotlib.pyplot as plt\n",
    "plt.plot(losses)\n",
    "plt.xlabel(\"Iteration Number\")\n",
    "plt.ylabel(\"loss\")\n",
    "\n",
    "plt.show()"
   ]
  },
  {
   "cell_type": "markdown",
   "id": "035624c0",
   "metadata": {},
   "source": [
    "__learning_rate = 0.000001__"
   ]
  },
  {
   "cell_type": "code",
   "execution_count": 129,
   "id": "6f1df2a1",
   "metadata": {},
   "outputs": [],
   "source": [
    "random_state = np.random.RandomState(2023)\n",
    "W = random_state.rand(10)\n",
    "b = random_state.rand()"
   ]
  },
  {
   "cell_type": "code",
   "execution_count": 130,
   "id": "12f598d9",
   "metadata": {},
   "outputs": [
    {
     "data": {
      "text/plain": [
       "(array([0.3219883 , 0.89042245, 0.58805226, 0.12659609, 0.14134122,\n",
       "        0.46789559, 0.02208966, 0.72727471, 0.52438734, 0.54493524]),\n",
       " 0.456373260425773)"
      ]
     },
     "execution_count": 130,
     "metadata": {},
     "output_type": "execute_result"
    }
   ],
   "source": [
    "W, b"
   ]
  },
  {
   "cell_type": "code",
   "execution_count": 131,
   "id": "cfee89cb",
   "metadata": {},
   "outputs": [],
   "source": [
    "learning_rate = 0.000001"
   ]
  },
  {
   "cell_type": "code",
   "execution_count": 132,
   "id": "0de82af1",
   "metadata": {},
   "outputs": [
    {
     "name": "stdout",
     "output_type": "stream",
     "text": [
      "Iteration 10 : loss 28891.7327\n",
      "Iteration 20 : loss 28890.8177\n",
      "Iteration 30 : loss 28889.9028\n",
      "Iteration 40 : loss 28888.9879\n",
      "Iteration 50 : loss 28888.0731\n",
      "Iteration 60 : loss 28887.1582\n",
      "Iteration 70 : loss 28886.2435\n",
      "Iteration 80 : loss 28885.3287\n",
      "Iteration 90 : loss 28884.4140\n",
      "Iteration 100 : loss 28883.4994\n",
      "Iteration 110 : loss 28882.5847\n",
      "Iteration 120 : loss 28881.6701\n",
      "Iteration 130 : loss 28880.7556\n",
      "Iteration 140 : loss 28879.8411\n",
      "Iteration 150 : loss 28878.9266\n",
      "Iteration 160 : loss 28878.0121\n",
      "Iteration 170 : loss 28877.0977\n",
      "Iteration 180 : loss 28876.1833\n",
      "Iteration 190 : loss 28875.2690\n",
      "Iteration 200 : loss 28874.3547\n",
      "Iteration 210 : loss 28873.4404\n",
      "Iteration 220 : loss 28872.5262\n",
      "Iteration 230 : loss 28871.6120\n",
      "Iteration 240 : loss 28870.6979\n",
      "Iteration 250 : loss 28869.7837\n",
      "Iteration 260 : loss 28868.8697\n",
      "Iteration 270 : loss 28867.9556\n",
      "Iteration 280 : loss 28867.0416\n",
      "Iteration 290 : loss 28866.1276\n",
      "Iteration 300 : loss 28865.2137\n",
      "Iteration 310 : loss 28864.2998\n",
      "Iteration 320 : loss 28863.3859\n",
      "Iteration 330 : loss 28862.4721\n",
      "Iteration 340 : loss 28861.5583\n",
      "Iteration 350 : loss 28860.6446\n",
      "Iteration 360 : loss 28859.7309\n",
      "Iteration 370 : loss 28858.8172\n",
      "Iteration 380 : loss 28857.9035\n",
      "Iteration 390 : loss 28856.9899\n",
      "Iteration 400 : loss 28856.0764\n",
      "Iteration 410 : loss 28855.1628\n",
      "Iteration 420 : loss 28854.2493\n",
      "Iteration 430 : loss 28853.3359\n",
      "Iteration 440 : loss 28852.4224\n",
      "Iteration 450 : loss 28851.5091\n",
      "Iteration 460 : loss 28850.5957\n",
      "Iteration 470 : loss 28849.6824\n",
      "Iteration 480 : loss 28848.7691\n",
      "Iteration 490 : loss 28847.8559\n",
      "Iteration 500 : loss 28846.9427\n",
      "Iteration 510 : loss 28846.0295\n",
      "Iteration 520 : loss 28845.1164\n",
      "Iteration 530 : loss 28844.2033\n",
      "Iteration 540 : loss 28843.2902\n",
      "Iteration 550 : loss 28842.3772\n",
      "Iteration 560 : loss 28841.4642\n",
      "Iteration 570 : loss 28840.5513\n",
      "Iteration 580 : loss 28839.6383\n",
      "Iteration 590 : loss 28838.7255\n",
      "Iteration 600 : loss 28837.8126\n",
      "Iteration 610 : loss 28836.8998\n",
      "Iteration 620 : loss 28835.9870\n",
      "Iteration 630 : loss 28835.0743\n",
      "Iteration 640 : loss 28834.1616\n",
      "Iteration 650 : loss 28833.2490\n",
      "Iteration 660 : loss 28832.3363\n",
      "Iteration 670 : loss 28831.4238\n",
      "Iteration 680 : loss 28830.5112\n",
      "Iteration 690 : loss 28829.5987\n",
      "Iteration 700 : loss 28828.6862\n",
      "Iteration 710 : loss 28827.7738\n",
      "Iteration 720 : loss 28826.8614\n",
      "Iteration 730 : loss 28825.9490\n",
      "Iteration 740 : loss 28825.0367\n",
      "Iteration 750 : loss 28824.1244\n",
      "Iteration 760 : loss 28823.2121\n",
      "Iteration 770 : loss 28822.2999\n",
      "Iteration 780 : loss 28821.3877\n",
      "Iteration 790 : loss 28820.4756\n",
      "Iteration 800 : loss 28819.5635\n",
      "Iteration 810 : loss 28818.6514\n",
      "Iteration 820 : loss 28817.7394\n",
      "Iteration 830 : loss 28816.8274\n",
      "Iteration 840 : loss 28815.9154\n",
      "Iteration 850 : loss 28815.0035\n",
      "Iteration 860 : loss 28814.0916\n",
      "Iteration 870 : loss 28813.1797\n",
      "Iteration 880 : loss 28812.2679\n",
      "Iteration 890 : loss 28811.3561\n",
      "Iteration 900 : loss 28810.4444\n",
      "Iteration 910 : loss 28809.5327\n",
      "Iteration 920 : loss 28808.6210\n",
      "Iteration 930 : loss 28807.7093\n",
      "Iteration 940 : loss 28806.7977\n",
      "Iteration 950 : loss 28805.8862\n",
      "Iteration 960 : loss 28804.9747\n",
      "Iteration 970 : loss 28804.0632\n",
      "Iteration 980 : loss 28803.1517\n",
      "Iteration 990 : loss 28802.2403\n"
     ]
    }
   ],
   "source": [
    "losses = []\n",
    "\n",
    "for i in range(1, 1000):\n",
    "    y_pred = model(X_train, W, b)\n",
    "    L = loss(X_train, W, b, y_train)\n",
    "    dW, db = gradient(X_train, W, b, y_train)\n",
    "    W -= learning_rate * dW\n",
    "    b -= learning_rate * db\n",
    "    losses.append(L)\n",
    "    if i % 10 ==0:\n",
    "        print('Iteration %d : loss %0.4f' % (i, L))"
   ]
  },
  {
   "cell_type": "code",
   "execution_count": 133,
   "id": "85c0f250",
   "metadata": {},
   "outputs": [
    {
     "data": {
      "text/plain": [
       "(array([0.32384723, 0.89023588, 0.59246725, 0.13036872, 0.14263563,\n",
       "        0.46868949, 0.01920193, 0.73017582, 0.52858949, 0.54791167]),\n",
       " 0.7581236510369747)"
      ]
     },
     "execution_count": 133,
     "metadata": {},
     "output_type": "execute_result"
    }
   ],
   "source": [
    "W, b"
   ]
  },
  {
   "cell_type": "code",
   "execution_count": 134,
   "id": "9526a8b6",
   "metadata": {},
   "outputs": [
    {
     "data": {
      "image/png": "[encoded data removed]",
      "text/plain": [
       "<Figure size 640x480 with 1 Axes>"
      ]
     },
     "metadata": {},
     "output_type": "display_data"
    }
   ],
   "source": [
    "import matplotlib.pyplot as plt\n",
    "plt.plot(losses)\n",
    "plt.xlabel(\"Iteration Number\")\n",
    "plt.ylabel(\"loss\")\n",
    "\n",
    "plt.show()"
   ]
  },
  {
   "cell_type": "markdown",
   "id": "4d3d73c3",
   "metadata": {},
   "source": [
    "__loss 값 3000 이하로 줄이기__"
   ]
  },
  {
   "cell_type": "markdown",
   "id": "276029d3",
   "metadata": {},
   "source": [
    "* learning_rate 0.1로 돌렸을 때 loss 값이 가장 낮았음\n",
    "* iteration 횟수와 가중치 스케일을 변화시켜 더 낮춰보기"
   ]
  },
  {
   "cell_type": "code",
   "execution_count": 135,
   "id": "36532a86",
   "metadata": {},
   "outputs": [
    {
     "data": {
      "text/plain": [
       "(array([3.21988304, 8.90422452, 5.88052255, 1.26596094, 1.41341223,\n",
       "        4.67895592, 0.22089662, 7.27274713, 5.24387342, 5.44935239]),\n",
       " 0.456373260425773)"
      ]
     },
     "execution_count": 135,
     "metadata": {},
     "output_type": "execute_result"
    }
   ],
   "source": [
    "random_state = np.random.RandomState(2023)\n",
    "W = random_state.rand(10)*10\n",
    "b = random_state.rand()\n",
    "W, b"
   ]
  },
  {
   "cell_type": "code",
   "execution_count": 136,
   "id": "8fb4bf14",
   "metadata": {},
   "outputs": [],
   "source": [
    "learning_rate = 0.1"
   ]
  },
  {
   "cell_type": "code",
   "execution_count": 137,
   "id": "27cbb7a1",
   "metadata": {},
   "outputs": [
    {
     "name": "stdout",
     "output_type": "stream",
     "text": [
      "Iteration 100 : loss 5281.2413\n",
      "Iteration 200 : loss 4790.9358\n",
      "Iteration 300 : loss 4429.1877\n",
      "Iteration 400 : loss 4158.7900\n",
      "Iteration 500 : loss 3953.6692\n",
      "Iteration 600 : loss 3795.5177\n",
      "Iteration 700 : loss 3671.4486\n",
      "Iteration 800 : loss 3572.3616\n",
      "Iteration 900 : loss 3491.8048\n",
      "Iteration 1000 : loss 3425.1808\n",
      "Iteration 1100 : loss 3369.1935\n",
      "Iteration 1200 : loss 3321.4613\n",
      "Iteration 1300 : loss 3280.2483\n",
      "Iteration 1400 : loss 3244.2746\n",
      "Iteration 1500 : loss 3212.5854\n",
      "Iteration 1600 : loss 3184.4576\n",
      "Iteration 1700 : loss 3159.3352\n",
      "Iteration 1800 : loss 3136.7836\n",
      "Iteration 1900 : loss 3116.4569\n",
      "Iteration 2000 : loss 3098.0753\n",
      "Iteration 2100 : loss 3081.4084\n",
      "Iteration 2200 : loss 3066.2637\n",
      "Iteration 2300 : loss 3052.4780\n",
      "Iteration 2400 : loss 3039.9112\n",
      "Iteration 2500 : loss 3028.4415\n",
      "Iteration 2600 : loss 3017.9626\n",
      "Iteration 2700 : loss 3008.3805\n",
      "Iteration 2800 : loss 2999.6115\n",
      "Iteration 2900 : loss 2991.5813\n",
      "Iteration 3000 : loss 2984.2230\n",
      "Iteration 3100 : loss 2977.4764\n",
      "Iteration 3200 : loss 2971.2875\n",
      "Iteration 3300 : loss 2965.6073\n",
      "Iteration 3400 : loss 2960.3912\n",
      "Iteration 3500 : loss 2955.5993\n",
      "Iteration 3600 : loss 2951.1948\n",
      "Iteration 3700 : loss 2947.1447\n",
      "Iteration 3800 : loss 2943.4187\n",
      "Iteration 3900 : loss 2939.9894\n",
      "Iteration 4000 : loss 2936.8316\n",
      "Iteration 4100 : loss 2933.9226\n",
      "Iteration 4200 : loss 2931.2416\n",
      "Iteration 4300 : loss 2928.7696\n",
      "Iteration 4400 : loss 2926.4891\n",
      "Iteration 4500 : loss 2924.3845\n",
      "Iteration 4600 : loss 2922.4412\n",
      "Iteration 4700 : loss 2920.6460\n",
      "Iteration 4800 : loss 2918.9869\n",
      "Iteration 4900 : loss 2917.4527\n",
      "Iteration 5000 : loss 2916.0334\n",
      "Iteration 5100 : loss 2914.7197\n",
      "Iteration 5200 : loss 2913.5032\n",
      "Iteration 5300 : loss 2912.3760\n",
      "Iteration 5400 : loss 2911.3311\n",
      "Iteration 5500 : loss 2910.3618\n",
      "Iteration 5600 : loss 2909.4624\n",
      "Iteration 5700 : loss 2908.6272\n",
      "Iteration 5800 : loss 2907.8513\n",
      "Iteration 5900 : loss 2907.1300\n",
      "Iteration 6000 : loss 2906.4591\n",
      "Iteration 6100 : loss 2905.8348\n",
      "Iteration 6200 : loss 2905.2533\n",
      "Iteration 6300 : loss 2904.7115\n",
      "Iteration 6400 : loss 2904.2063\n",
      "Iteration 6500 : loss 2903.7349\n",
      "Iteration 6600 : loss 2903.2949\n",
      "Iteration 6700 : loss 2902.8837\n",
      "Iteration 6800 : loss 2902.4994\n",
      "Iteration 6900 : loss 2902.1398\n",
      "Iteration 7000 : loss 2901.8031\n",
      "Iteration 7100 : loss 2901.4877\n",
      "Iteration 7200 : loss 2901.1920\n",
      "Iteration 7300 : loss 2900.9145\n",
      "Iteration 7400 : loss 2900.6540\n",
      "Iteration 7500 : loss 2900.4091\n",
      "Iteration 7600 : loss 2900.1788\n",
      "Iteration 7700 : loss 2899.9620\n",
      "Iteration 7800 : loss 2899.7578\n",
      "Iteration 7900 : loss 2899.5652\n",
      "Iteration 8000 : loss 2899.3835\n",
      "Iteration 8100 : loss 2899.2119\n",
      "Iteration 8200 : loss 2899.0496\n",
      "Iteration 8300 : loss 2898.8961\n",
      "Iteration 8400 : loss 2898.7507\n",
      "Iteration 8500 : loss 2898.6128\n",
      "Iteration 8600 : loss 2898.4820\n",
      "Iteration 8700 : loss 2898.3577\n",
      "Iteration 8800 : loss 2898.2396\n",
      "Iteration 8900 : loss 2898.1271\n",
      "Iteration 9000 : loss 2898.0200\n",
      "Iteration 9100 : loss 2897.9178\n",
      "Iteration 9200 : loss 2897.8203\n",
      "Iteration 9300 : loss 2897.7271\n",
      "Iteration 9400 : loss 2897.6380\n",
      "Iteration 9500 : loss 2897.5526\n",
      "Iteration 9600 : loss 2897.4708\n",
      "Iteration 9700 : loss 2897.3922\n",
      "Iteration 9800 : loss 2897.3168\n",
      "Iteration 9900 : loss 2897.2443\n"
     ]
    }
   ],
   "source": [
    "losses = []\n",
    "\n",
    "for i in range(1, 10000):\n",
    "    y_pred = model(X_train, W, b)\n",
    "    L = loss(X_train, W, b, y_train)\n",
    "    dW, db = gradient(X_train, W, b, y_train)\n",
    "    W -= learning_rate * dW\n",
    "    b -= learning_rate * db\n",
    "    losses.append(L)\n",
    "    if i % 100 ==0:\n",
    "        print('Iteration %d : loss %0.4f' % (i, L))"
   ]
  },
  {
   "cell_type": "code",
   "execution_count": 138,
   "id": "ae5ed669",
   "metadata": {},
   "outputs": [
    {
     "data": {
      "text/plain": [
       "(array([  41.26118946, -278.96036363,  492.4826589 ,  357.11803609,\n",
       "         -62.51615702, -109.72889261, -184.49491211,  148.72856085,\n",
       "         454.8426213 ,   49.45197273]),\n",
       " 150.7808162251224)"
      ]
     },
     "execution_count": 138,
     "metadata": {},
     "output_type": "execute_result"
    }
   ],
   "source": [
    "W, b"
   ]
  },
  {
   "cell_type": "code",
   "execution_count": 139,
   "id": "63922a31",
   "metadata": {},
   "outputs": [
    {
     "data": {
      "image/png": "[encoded data removed]",
      "text/plain": [
       "<Figure size 640x480 with 1 Axes>"
      ]
     },
     "metadata": {},
     "output_type": "display_data"
    }
   ],
   "source": [
    "import matplotlib.pyplot as plt\n",
    "plt.plot(losses)\n",
    "plt.xlabel(\"Iteration Number\")\n",
    "plt.ylabel(\"loss\")\n",
    "\n",
    "plt.show()"
   ]
  },
  {
   "cell_type": "markdown",
   "id": "5c8058a2",
   "metadata": {},
   "source": [
    "<span style=\"color:red\"> __loss 2897까지 내려감. 이때의 매개변수 W, b는 아래와 같음__ </span>"
   ]
  },
  {
   "cell_type": "markdown",
   "id": "897188cb",
   "metadata": {},
   "source": [
    "__최적의 매개변수 사용해서 다시 test하고 결과 시각화__"
   ]
  },
  {
   "cell_type": "code",
   "execution_count": 141,
   "id": "e3a66c53",
   "metadata": {},
   "outputs": [
    {
     "data": {
      "text/plain": [
       "(array([  41.26118946, -278.96036363,  492.4826589 ,  357.11803609,\n",
       "         -62.51615702, -109.72889261, -184.49491211,  148.72856085,\n",
       "         454.8426213 ,   49.45197273]),\n",
       " 150.7808162251224)"
      ]
     },
     "execution_count": 141,
     "metadata": {},
     "output_type": "execute_result"
    }
   ],
   "source": [
    "W, b"
   ]
  },
  {
   "cell_type": "code",
   "execution_count": 142,
   "id": "efb51422",
   "metadata": {},
   "outputs": [
    {
     "data": {
      "text/plain": [
       "2889.8257390307663"
      ]
     },
     "execution_count": 142,
     "metadata": {},
     "output_type": "execute_result"
    }
   ],
   "source": [
    "prediction = model(X_test, W, b)\n",
    "mse = loss(X_test, W, b, y_test)\n",
    "mse"
   ]
  },
  {
   "cell_type": "code",
   "execution_count": 143,
   "id": "383ef26e",
   "metadata": {},
   "outputs": [
    {
     "data": {
      "image/png": "[encoded data removed]",
      "text/plain": [
       "<Figure size 640x480 with 1 Axes>"
      ]
     },
     "metadata": {},
     "output_type": "display_data"
    }
   ],
   "source": [
    "plt.scatter(X_test[:, 2], y_test)\n",
    "plt.scatter(X_test[:, 2], prediction)\n",
    "\n",
    "plt.show()"
   ]
  },
  {
   "cell_type": "markdown",
   "id": "f6be270c",
   "metadata": {},
   "source": [
    "최적화 전 W, b를 사용했을 때 보다 mse 값이 11.5 % 내려감(3263->2890)"
   ]
  },
  {
   "cell_type": "markdown",
   "id": "4bfeec80",
   "metadata": {},
   "source": [
    "# <span style=\"color:blue\"> 프로젝트2 자전거</span>"
   ]
  },
  {
   "cell_type": "markdown",
   "id": "e9f978fb",
   "metadata": {},
   "source": [
    "## (1) 데이터 가져오기"
   ]
  },
  {
   "cell_type": "code",
   "execution_count": 64,
   "id": "618d7a60",
   "metadata": {
    "scrolled": true
   },
   "outputs": [
    {
     "data": {
      "text/html": [
       "<div>\n",
       "<style scoped>\n",
       "    .dataframe tbody tr th:only-of-type {\n",
       "        vertical-align: middle;\n",
       "    }\n",
       "\n",
       "    .dataframe tbody tr th {\n",
       "        vertical-align: top;\n",
       "    }\n",
       "\n",
       "    .dataframe thead th {\n",
       "        text-align: right;\n",
       "    }\n",
       "</style>\n",
       "<table border=\"1\" class=\"dataframe\">\n",
       "  <thead>\n",
       "    <tr style=\"text-align: right;\">\n",
       "      <th></th>\n",
       "      <th>datetime</th>\n",
       "      <th>season</th>\n",
       "      <th>holiday</th>\n",
       "      <th>workingday</th>\n",
       "      <th>weather</th>\n",
       "      <th>temp</th>\n",
       "      <th>atemp</th>\n",
       "      <th>humidity</th>\n",
       "      <th>windspeed</th>\n",
       "      <th>casual</th>\n",
       "      <th>registered</th>\n",
       "      <th>count</th>\n",
       "    </tr>\n",
       "  </thead>\n",
       "  <tbody>\n",
       "    <tr>\n",
       "      <th>0</th>\n",
       "      <td>2011-01-01 00:00:00</td>\n",
       "      <td>1</td>\n",
       "      <td>0</td>\n",
       "      <td>0</td>\n",
       "      <td>1</td>\n",
       "      <td>9.84</td>\n",
       "      <td>14.395</td>\n",
       "      <td>81</td>\n",
       "      <td>0.0000</td>\n",
       "      <td>3</td>\n",
       "      <td>13</td>\n",
       "      <td>16</td>\n",
       "    </tr>\n",
       "    <tr>\n",
       "      <th>1</th>\n",
       "      <td>2011-01-01 01:00:00</td>\n",
       "      <td>1</td>\n",
       "      <td>0</td>\n",
       "      <td>0</td>\n",
       "      <td>1</td>\n",
       "      <td>9.02</td>\n",
       "      <td>13.635</td>\n",
       "      <td>80</td>\n",
       "      <td>0.0000</td>\n",
       "      <td>8</td>\n",
       "      <td>32</td>\n",
       "      <td>40</td>\n",
       "    </tr>\n",
       "    <tr>\n",
       "      <th>2</th>\n",
       "      <td>2011-01-01 02:00:00</td>\n",
       "      <td>1</td>\n",
       "      <td>0</td>\n",
       "      <td>0</td>\n",
       "      <td>1</td>\n",
       "      <td>9.02</td>\n",
       "      <td>13.635</td>\n",
       "      <td>80</td>\n",
       "      <td>0.0000</td>\n",
       "      <td>5</td>\n",
       "      <td>27</td>\n",
       "      <td>32</td>\n",
       "    </tr>\n",
       "    <tr>\n",
       "      <th>3</th>\n",
       "      <td>2011-01-01 03:00:00</td>\n",
       "      <td>1</td>\n",
       "      <td>0</td>\n",
       "      <td>0</td>\n",
       "      <td>1</td>\n",
       "      <td>9.84</td>\n",
       "      <td>14.395</td>\n",
       "      <td>75</td>\n",
       "      <td>0.0000</td>\n",
       "      <td>3</td>\n",
       "      <td>10</td>\n",
       "      <td>13</td>\n",
       "    </tr>\n",
       "    <tr>\n",
       "      <th>4</th>\n",
       "      <td>2011-01-01 04:00:00</td>\n",
       "      <td>1</td>\n",
       "      <td>0</td>\n",
       "      <td>0</td>\n",
       "      <td>1</td>\n",
       "      <td>9.84</td>\n",
       "      <td>14.395</td>\n",
       "      <td>75</td>\n",
       "      <td>0.0000</td>\n",
       "      <td>0</td>\n",
       "      <td>1</td>\n",
       "      <td>1</td>\n",
       "    </tr>\n",
       "    <tr>\n",
       "      <th>...</th>\n",
       "      <td>...</td>\n",
       "      <td>...</td>\n",
       "      <td>...</td>\n",
       "      <td>...</td>\n",
       "      <td>...</td>\n",
       "      <td>...</td>\n",
       "      <td>...</td>\n",
       "      <td>...</td>\n",
       "      <td>...</td>\n",
       "      <td>...</td>\n",
       "      <td>...</td>\n",
       "      <td>...</td>\n",
       "    </tr>\n",
       "    <tr>\n",
       "      <th>10881</th>\n",
       "      <td>2012-12-19 19:00:00</td>\n",
       "      <td>4</td>\n",
       "      <td>0</td>\n",
       "      <td>1</td>\n",
       "      <td>1</td>\n",
       "      <td>15.58</td>\n",
       "      <td>19.695</td>\n",
       "      <td>50</td>\n",
       "      <td>26.0027</td>\n",
       "      <td>7</td>\n",
       "      <td>329</td>\n",
       "      <td>336</td>\n",
       "    </tr>\n",
       "    <tr>\n",
       "      <th>10882</th>\n",
       "      <td>2012-12-19 20:00:00</td>\n",
       "      <td>4</td>\n",
       "      <td>0</td>\n",
       "      <td>1</td>\n",
       "      <td>1</td>\n",
       "      <td>14.76</td>\n",
       "      <td>17.425</td>\n",
       "      <td>57</td>\n",
       "      <td>15.0013</td>\n",
       "      <td>10</td>\n",
       "      <td>231</td>\n",
       "      <td>241</td>\n",
       "    </tr>\n",
       "    <tr>\n",
       "      <th>10883</th>\n",
       "      <td>2012-12-19 21:00:00</td>\n",
       "      <td>4</td>\n",
       "      <td>0</td>\n",
       "      <td>1</td>\n",
       "      <td>1</td>\n",
       "      <td>13.94</td>\n",
       "      <td>15.910</td>\n",
       "      <td>61</td>\n",
       "      <td>15.0013</td>\n",
       "      <td>4</td>\n",
       "      <td>164</td>\n",
       "      <td>168</td>\n",
       "    </tr>\n",
       "    <tr>\n",
       "      <th>10884</th>\n",
       "      <td>2012-12-19 22:00:00</td>\n",
       "      <td>4</td>\n",
       "      <td>0</td>\n",
       "      <td>1</td>\n",
       "      <td>1</td>\n",
       "      <td>13.94</td>\n",
       "      <td>17.425</td>\n",
       "      <td>61</td>\n",
       "      <td>6.0032</td>\n",
       "      <td>12</td>\n",
       "      <td>117</td>\n",
       "      <td>129</td>\n",
       "    </tr>\n",
       "    <tr>\n",
       "      <th>10885</th>\n",
       "      <td>2012-12-19 23:00:00</td>\n",
       "      <td>4</td>\n",
       "      <td>0</td>\n",
       "      <td>1</td>\n",
       "      <td>1</td>\n",
       "      <td>13.12</td>\n",
       "      <td>16.665</td>\n",
       "      <td>66</td>\n",
       "      <td>8.9981</td>\n",
       "      <td>4</td>\n",
       "      <td>84</td>\n",
       "      <td>88</td>\n",
       "    </tr>\n",
       "  </tbody>\n",
       "</table>\n",
       "<p>10886 rows × 12 columns</p>\n",
       "</div>"
      ],
      "text/plain": [
       "                  datetime  season  holiday  workingday  weather   temp  \\\n",
       "0      2011-01-01 00:00:00       1        0           0        1   9.84   \n",
       "1      2011-01-01 01:00:00       1        0           0        1   9.02   \n",
       "2      2011-01-01 02:00:00       1        0           0        1   9.02   \n",
       "3      2011-01-01 03:00:00       1        0           0        1   9.84   \n",
       "4      2011-01-01 04:00:00       1        0           0        1   9.84   \n",
       "...                    ...     ...      ...         ...      ...    ...   \n",
       "10881  2012-12-19 19:00:00       4        0           1        1  15.58   \n",
       "10882  2012-12-19 20:00:00       4        0           1        1  14.76   \n",
       "10883  2012-12-19 21:00:00       4        0           1        1  13.94   \n",
       "10884  2012-12-19 22:00:00       4        0           1        1  13.94   \n",
       "10885  2012-12-19 23:00:00       4        0           1        1  13.12   \n",
       "\n",
       "        atemp  humidity  windspeed  casual  registered  count  \n",
       "0      14.395        81     0.0000       3          13     16  \n",
       "1      13.635        80     0.0000       8          32     40  \n",
       "2      13.635        80     0.0000       5          27     32  \n",
       "3      14.395        75     0.0000       3          10     13  \n",
       "4      14.395        75     0.0000       0           1      1  \n",
       "...       ...       ...        ...     ...         ...    ...  \n",
       "10881  19.695        50    26.0027       7         329    336  \n",
       "10882  17.425        57    15.0013      10         231    241  \n",
       "10883  15.910        61    15.0013       4         164    168  \n",
       "10884  17.425        61     6.0032      12         117    129  \n",
       "10885  16.665        66     8.9981       4          84     88  \n",
       "\n",
       "[10886 rows x 12 columns]"
      ]
     },
     "execution_count": 64,
     "metadata": {},
     "output_type": "execute_result"
    }
   ],
   "source": [
    "import pandas as pd\n",
    "\n",
    "data = pd.read_csv(\"./train.csv\")\n",
    "data"
   ]
  },
  {
   "cell_type": "markdown",
   "id": "52d54443",
   "metadata": {},
   "source": [
    "## (2) datetime 컬럼을 datetime 자료형으로 변환하고 연, 월, 일, 시, 분, 초까지 6가지 컬럼 생성하기"
   ]
  },
  {
   "cell_type": "code",
   "execution_count": 65,
   "id": "96973008",
   "metadata": {},
   "outputs": [],
   "source": [
    "import datetime\n",
    "\n",
    "datetime_df = data.loc[:, 'datetime']"
   ]
  },
  {
   "cell_type": "code",
   "execution_count": 66,
   "id": "34904500",
   "metadata": {},
   "outputs": [],
   "source": [
    "datetime_df = pd.DataFrame(data = datetime_df)"
   ]
  },
  {
   "cell_type": "code",
   "execution_count": 67,
   "id": "a723241a",
   "metadata": {},
   "outputs": [
    {
     "data": {
      "text/html": [
       "<div>\n",
       "<style scoped>\n",
       "    .dataframe tbody tr th:only-of-type {\n",
       "        vertical-align: middle;\n",
       "    }\n",
       "\n",
       "    .dataframe tbody tr th {\n",
       "        vertical-align: top;\n",
       "    }\n",
       "\n",
       "    .dataframe thead th {\n",
       "        text-align: right;\n",
       "    }\n",
       "</style>\n",
       "<table border=\"1\" class=\"dataframe\">\n",
       "  <thead>\n",
       "    <tr style=\"text-align: right;\">\n",
       "      <th></th>\n",
       "      <th>datetime</th>\n",
       "    </tr>\n",
       "  </thead>\n",
       "  <tbody>\n",
       "    <tr>\n",
       "      <th>0</th>\n",
       "      <td>2011-01-01 00:00:00</td>\n",
       "    </tr>\n",
       "    <tr>\n",
       "      <th>1</th>\n",
       "      <td>2011-01-01 01:00:00</td>\n",
       "    </tr>\n",
       "    <tr>\n",
       "      <th>2</th>\n",
       "      <td>2011-01-01 02:00:00</td>\n",
       "    </tr>\n",
       "    <tr>\n",
       "      <th>3</th>\n",
       "      <td>2011-01-01 03:00:00</td>\n",
       "    </tr>\n",
       "    <tr>\n",
       "      <th>4</th>\n",
       "      <td>2011-01-01 04:00:00</td>\n",
       "    </tr>\n",
       "    <tr>\n",
       "      <th>...</th>\n",
       "      <td>...</td>\n",
       "    </tr>\n",
       "    <tr>\n",
       "      <th>10881</th>\n",
       "      <td>2012-12-19 19:00:00</td>\n",
       "    </tr>\n",
       "    <tr>\n",
       "      <th>10882</th>\n",
       "      <td>2012-12-19 20:00:00</td>\n",
       "    </tr>\n",
       "    <tr>\n",
       "      <th>10883</th>\n",
       "      <td>2012-12-19 21:00:00</td>\n",
       "    </tr>\n",
       "    <tr>\n",
       "      <th>10884</th>\n",
       "      <td>2012-12-19 22:00:00</td>\n",
       "    </tr>\n",
       "    <tr>\n",
       "      <th>10885</th>\n",
       "      <td>2012-12-19 23:00:00</td>\n",
       "    </tr>\n",
       "  </tbody>\n",
       "</table>\n",
       "<p>10886 rows × 1 columns</p>\n",
       "</div>"
      ],
      "text/plain": [
       "                  datetime\n",
       "0      2011-01-01 00:00:00\n",
       "1      2011-01-01 01:00:00\n",
       "2      2011-01-01 02:00:00\n",
       "3      2011-01-01 03:00:00\n",
       "4      2011-01-01 04:00:00\n",
       "...                    ...\n",
       "10881  2012-12-19 19:00:00\n",
       "10882  2012-12-19 20:00:00\n",
       "10883  2012-12-19 21:00:00\n",
       "10884  2012-12-19 22:00:00\n",
       "10885  2012-12-19 23:00:00\n",
       "\n",
       "[10886 rows x 1 columns]"
      ]
     },
     "execution_count": 67,
     "metadata": {},
     "output_type": "execute_result"
    }
   ],
   "source": [
    "datetime_df"
   ]
  },
  {
   "cell_type": "code",
   "execution_count": 68,
   "id": "6c7b9384",
   "metadata": {},
   "outputs": [
    {
     "data": {
      "text/html": [
       "<div>\n",
       "<style scoped>\n",
       "    .dataframe tbody tr th:only-of-type {\n",
       "        vertical-align: middle;\n",
       "    }\n",
       "\n",
       "    .dataframe tbody tr th {\n",
       "        vertical-align: top;\n",
       "    }\n",
       "\n",
       "    .dataframe thead th {\n",
       "        text-align: right;\n",
       "    }\n",
       "</style>\n",
       "<table border=\"1\" class=\"dataframe\">\n",
       "  <thead>\n",
       "    <tr style=\"text-align: right;\">\n",
       "      <th></th>\n",
       "      <th>datetime</th>\n",
       "      <th>year</th>\n",
       "    </tr>\n",
       "  </thead>\n",
       "  <tbody>\n",
       "    <tr>\n",
       "      <th>10883</th>\n",
       "      <td>2012-12-19 21:00:00</td>\n",
       "      <td>2012</td>\n",
       "    </tr>\n",
       "    <tr>\n",
       "      <th>10884</th>\n",
       "      <td>2012-12-19 22:00:00</td>\n",
       "      <td>2012</td>\n",
       "    </tr>\n",
       "    <tr>\n",
       "      <th>10885</th>\n",
       "      <td>2012-12-19 23:00:00</td>\n",
       "      <td>2012</td>\n",
       "    </tr>\n",
       "  </tbody>\n",
       "</table>\n",
       "</div>"
      ],
      "text/plain": [
       "                  datetime  year\n",
       "10883  2012-12-19 21:00:00  2012\n",
       "10884  2012-12-19 22:00:00  2012\n",
       "10885  2012-12-19 23:00:00  2012"
      ]
     },
     "execution_count": 68,
     "metadata": {},
     "output_type": "execute_result"
    }
   ],
   "source": [
    "datetime_df['year'] = pd.DatetimeIndex(datetime_df['datetime']).year\n",
    "datetime_df.tail(3)"
   ]
  },
  {
   "cell_type": "code",
   "execution_count": 69,
   "id": "36b7e66c",
   "metadata": {},
   "outputs": [
    {
     "data": {
      "text/html": [
       "<div>\n",
       "<style scoped>\n",
       "    .dataframe tbody tr th:only-of-type {\n",
       "        vertical-align: middle;\n",
       "    }\n",
       "\n",
       "    .dataframe tbody tr th {\n",
       "        vertical-align: top;\n",
       "    }\n",
       "\n",
       "    .dataframe thead th {\n",
       "        text-align: right;\n",
       "    }\n",
       "</style>\n",
       "<table border=\"1\" class=\"dataframe\">\n",
       "  <thead>\n",
       "    <tr style=\"text-align: right;\">\n",
       "      <th></th>\n",
       "      <th>datetime</th>\n",
       "      <th>year</th>\n",
       "      <th>month</th>\n",
       "    </tr>\n",
       "  </thead>\n",
       "  <tbody>\n",
       "    <tr>\n",
       "      <th>10883</th>\n",
       "      <td>2012-12-19 21:00:00</td>\n",
       "      <td>2012</td>\n",
       "      <td>12</td>\n",
       "    </tr>\n",
       "    <tr>\n",
       "      <th>10884</th>\n",
       "      <td>2012-12-19 22:00:00</td>\n",
       "      <td>2012</td>\n",
       "      <td>12</td>\n",
       "    </tr>\n",
       "    <tr>\n",
       "      <th>10885</th>\n",
       "      <td>2012-12-19 23:00:00</td>\n",
       "      <td>2012</td>\n",
       "      <td>12</td>\n",
       "    </tr>\n",
       "  </tbody>\n",
       "</table>\n",
       "</div>"
      ],
      "text/plain": [
       "                  datetime  year  month\n",
       "10883  2012-12-19 21:00:00  2012     12\n",
       "10884  2012-12-19 22:00:00  2012     12\n",
       "10885  2012-12-19 23:00:00  2012     12"
      ]
     },
     "execution_count": 69,
     "metadata": {},
     "output_type": "execute_result"
    }
   ],
   "source": [
    "datetime_df['month'] = pd.DatetimeIndex(datetime_df['datetime']).month\n",
    "datetime_df.tail(3)"
   ]
  },
  {
   "cell_type": "code",
   "execution_count": 70,
   "id": "c6f91b94",
   "metadata": {},
   "outputs": [
    {
     "data": {
      "text/html": [
       "<div>\n",
       "<style scoped>\n",
       "    .dataframe tbody tr th:only-of-type {\n",
       "        vertical-align: middle;\n",
       "    }\n",
       "\n",
       "    .dataframe tbody tr th {\n",
       "        vertical-align: top;\n",
       "    }\n",
       "\n",
       "    .dataframe thead th {\n",
       "        text-align: right;\n",
       "    }\n",
       "</style>\n",
       "<table border=\"1\" class=\"dataframe\">\n",
       "  <thead>\n",
       "    <tr style=\"text-align: right;\">\n",
       "      <th></th>\n",
       "      <th>datetime</th>\n",
       "      <th>year</th>\n",
       "      <th>month</th>\n",
       "      <th>day</th>\n",
       "    </tr>\n",
       "  </thead>\n",
       "  <tbody>\n",
       "    <tr>\n",
       "      <th>10883</th>\n",
       "      <td>2012-12-19 21:00:00</td>\n",
       "      <td>2012</td>\n",
       "      <td>12</td>\n",
       "      <td>19</td>\n",
       "    </tr>\n",
       "    <tr>\n",
       "      <th>10884</th>\n",
       "      <td>2012-12-19 22:00:00</td>\n",
       "      <td>2012</td>\n",
       "      <td>12</td>\n",
       "      <td>19</td>\n",
       "    </tr>\n",
       "    <tr>\n",
       "      <th>10885</th>\n",
       "      <td>2012-12-19 23:00:00</td>\n",
       "      <td>2012</td>\n",
       "      <td>12</td>\n",
       "      <td>19</td>\n",
       "    </tr>\n",
       "  </tbody>\n",
       "</table>\n",
       "</div>"
      ],
      "text/plain": [
       "                  datetime  year  month  day\n",
       "10883  2012-12-19 21:00:00  2012     12   19\n",
       "10884  2012-12-19 22:00:00  2012     12   19\n",
       "10885  2012-12-19 23:00:00  2012     12   19"
      ]
     },
     "execution_count": 70,
     "metadata": {},
     "output_type": "execute_result"
    }
   ],
   "source": [
    "datetime_df['day'] = pd.DatetimeIndex(datetime_df['datetime']).day\n",
    "datetime_df.tail(3)"
   ]
  },
  {
   "cell_type": "code",
   "execution_count": 71,
   "id": "936ffc10",
   "metadata": {},
   "outputs": [
    {
     "data": {
      "text/html": [
       "<div>\n",
       "<style scoped>\n",
       "    .dataframe tbody tr th:only-of-type {\n",
       "        vertical-align: middle;\n",
       "    }\n",
       "\n",
       "    .dataframe tbody tr th {\n",
       "        vertical-align: top;\n",
       "    }\n",
       "\n",
       "    .dataframe thead th {\n",
       "        text-align: right;\n",
       "    }\n",
       "</style>\n",
       "<table border=\"1\" class=\"dataframe\">\n",
       "  <thead>\n",
       "    <tr style=\"text-align: right;\">\n",
       "      <th></th>\n",
       "      <th>datetime</th>\n",
       "      <th>year</th>\n",
       "      <th>month</th>\n",
       "      <th>day</th>\n",
       "      <th>hour</th>\n",
       "    </tr>\n",
       "  </thead>\n",
       "  <tbody>\n",
       "    <tr>\n",
       "      <th>10883</th>\n",
       "      <td>2012-12-19 21:00:00</td>\n",
       "      <td>2012</td>\n",
       "      <td>12</td>\n",
       "      <td>19</td>\n",
       "      <td>21</td>\n",
       "    </tr>\n",
       "    <tr>\n",
       "      <th>10884</th>\n",
       "      <td>2012-12-19 22:00:00</td>\n",
       "      <td>2012</td>\n",
       "      <td>12</td>\n",
       "      <td>19</td>\n",
       "      <td>22</td>\n",
       "    </tr>\n",
       "    <tr>\n",
       "      <th>10885</th>\n",
       "      <td>2012-12-19 23:00:00</td>\n",
       "      <td>2012</td>\n",
       "      <td>12</td>\n",
       "      <td>19</td>\n",
       "      <td>23</td>\n",
       "    </tr>\n",
       "  </tbody>\n",
       "</table>\n",
       "</div>"
      ],
      "text/plain": [
       "                  datetime  year  month  day  hour\n",
       "10883  2012-12-19 21:00:00  2012     12   19    21\n",
       "10884  2012-12-19 22:00:00  2012     12   19    22\n",
       "10885  2012-12-19 23:00:00  2012     12   19    23"
      ]
     },
     "execution_count": 71,
     "metadata": {},
     "output_type": "execute_result"
    }
   ],
   "source": [
    "datetime_df['hour'] = pd.DatetimeIndex(datetime_df['datetime']).hour\n",
    "datetime_df.tail(3)"
   ]
  },
  {
   "cell_type": "code",
   "execution_count": 72,
   "id": "7bb8fb91",
   "metadata": {},
   "outputs": [
    {
     "data": {
      "text/html": [
       "<div>\n",
       "<style scoped>\n",
       "    .dataframe tbody tr th:only-of-type {\n",
       "        vertical-align: middle;\n",
       "    }\n",
       "\n",
       "    .dataframe tbody tr th {\n",
       "        vertical-align: top;\n",
       "    }\n",
       "\n",
       "    .dataframe thead th {\n",
       "        text-align: right;\n",
       "    }\n",
       "</style>\n",
       "<table border=\"1\" class=\"dataframe\">\n",
       "  <thead>\n",
       "    <tr style=\"text-align: right;\">\n",
       "      <th></th>\n",
       "      <th>datetime</th>\n",
       "      <th>year</th>\n",
       "      <th>month</th>\n",
       "      <th>day</th>\n",
       "      <th>hour</th>\n",
       "      <th>minute</th>\n",
       "    </tr>\n",
       "  </thead>\n",
       "  <tbody>\n",
       "    <tr>\n",
       "      <th>10883</th>\n",
       "      <td>2012-12-19 21:00:00</td>\n",
       "      <td>2012</td>\n",
       "      <td>12</td>\n",
       "      <td>19</td>\n",
       "      <td>21</td>\n",
       "      <td>0</td>\n",
       "    </tr>\n",
       "    <tr>\n",
       "      <th>10884</th>\n",
       "      <td>2012-12-19 22:00:00</td>\n",
       "      <td>2012</td>\n",
       "      <td>12</td>\n",
       "      <td>19</td>\n",
       "      <td>22</td>\n",
       "      <td>0</td>\n",
       "    </tr>\n",
       "    <tr>\n",
       "      <th>10885</th>\n",
       "      <td>2012-12-19 23:00:00</td>\n",
       "      <td>2012</td>\n",
       "      <td>12</td>\n",
       "      <td>19</td>\n",
       "      <td>23</td>\n",
       "      <td>0</td>\n",
       "    </tr>\n",
       "  </tbody>\n",
       "</table>\n",
       "</div>"
      ],
      "text/plain": [
       "                  datetime  year  month  day  hour  minute\n",
       "10883  2012-12-19 21:00:00  2012     12   19    21       0\n",
       "10884  2012-12-19 22:00:00  2012     12   19    22       0\n",
       "10885  2012-12-19 23:00:00  2012     12   19    23       0"
      ]
     },
     "execution_count": 72,
     "metadata": {},
     "output_type": "execute_result"
    }
   ],
   "source": [
    "datetime_df['minute'] = pd.DatetimeIndex(datetime_df['datetime']).minute\n",
    "datetime_df.tail(3)"
   ]
  },
  {
   "cell_type": "code",
   "execution_count": 73,
   "id": "c475fd29",
   "metadata": {},
   "outputs": [
    {
     "data": {
      "text/html": [
       "<div>\n",
       "<style scoped>\n",
       "    .dataframe tbody tr th:only-of-type {\n",
       "        vertical-align: middle;\n",
       "    }\n",
       "\n",
       "    .dataframe tbody tr th {\n",
       "        vertical-align: top;\n",
       "    }\n",
       "\n",
       "    .dataframe thead th {\n",
       "        text-align: right;\n",
       "    }\n",
       "</style>\n",
       "<table border=\"1\" class=\"dataframe\">\n",
       "  <thead>\n",
       "    <tr style=\"text-align: right;\">\n",
       "      <th></th>\n",
       "      <th>datetime</th>\n",
       "      <th>year</th>\n",
       "      <th>month</th>\n",
       "      <th>day</th>\n",
       "      <th>hour</th>\n",
       "      <th>minute</th>\n",
       "      <th>second</th>\n",
       "    </tr>\n",
       "  </thead>\n",
       "  <tbody>\n",
       "    <tr>\n",
       "      <th>10883</th>\n",
       "      <td>2012-12-19 21:00:00</td>\n",
       "      <td>2012</td>\n",
       "      <td>12</td>\n",
       "      <td>19</td>\n",
       "      <td>21</td>\n",
       "      <td>0</td>\n",
       "      <td>0</td>\n",
       "    </tr>\n",
       "    <tr>\n",
       "      <th>10884</th>\n",
       "      <td>2012-12-19 22:00:00</td>\n",
       "      <td>2012</td>\n",
       "      <td>12</td>\n",
       "      <td>19</td>\n",
       "      <td>22</td>\n",
       "      <td>0</td>\n",
       "      <td>0</td>\n",
       "    </tr>\n",
       "    <tr>\n",
       "      <th>10885</th>\n",
       "      <td>2012-12-19 23:00:00</td>\n",
       "      <td>2012</td>\n",
       "      <td>12</td>\n",
       "      <td>19</td>\n",
       "      <td>23</td>\n",
       "      <td>0</td>\n",
       "      <td>0</td>\n",
       "    </tr>\n",
       "  </tbody>\n",
       "</table>\n",
       "</div>"
      ],
      "text/plain": [
       "                  datetime  year  month  day  hour  minute  second\n",
       "10883  2012-12-19 21:00:00  2012     12   19    21       0       0\n",
       "10884  2012-12-19 22:00:00  2012     12   19    22       0       0\n",
       "10885  2012-12-19 23:00:00  2012     12   19    23       0       0"
      ]
     },
     "execution_count": 73,
     "metadata": {},
     "output_type": "execute_result"
    }
   ],
   "source": [
    "datetime_df['second'] = pd.DatetimeIndex(datetime_df['datetime']).second\n",
    "datetime_df.tail(3)"
   ]
  },
  {
   "cell_type": "markdown",
   "id": "4998053c",
   "metadata": {},
   "source": [
    "__datetime_df에서 \"datetime\" 열 삭제__"
   ]
  },
  {
   "cell_type": "code",
   "execution_count": 74,
   "id": "eaef96ce",
   "metadata": {},
   "outputs": [
    {
     "data": {
      "text/html": [
       "<div>\n",
       "<style scoped>\n",
       "    .dataframe tbody tr th:only-of-type {\n",
       "        vertical-align: middle;\n",
       "    }\n",
       "\n",
       "    .dataframe tbody tr th {\n",
       "        vertical-align: top;\n",
       "    }\n",
       "\n",
       "    .dataframe thead th {\n",
       "        text-align: right;\n",
       "    }\n",
       "</style>\n",
       "<table border=\"1\" class=\"dataframe\">\n",
       "  <thead>\n",
       "    <tr style=\"text-align: right;\">\n",
       "      <th></th>\n",
       "      <th>year</th>\n",
       "      <th>month</th>\n",
       "      <th>day</th>\n",
       "      <th>hour</th>\n",
       "      <th>minute</th>\n",
       "      <th>second</th>\n",
       "    </tr>\n",
       "  </thead>\n",
       "  <tbody>\n",
       "    <tr>\n",
       "      <th>10883</th>\n",
       "      <td>2012</td>\n",
       "      <td>12</td>\n",
       "      <td>19</td>\n",
       "      <td>21</td>\n",
       "      <td>0</td>\n",
       "      <td>0</td>\n",
       "    </tr>\n",
       "    <tr>\n",
       "      <th>10884</th>\n",
       "      <td>2012</td>\n",
       "      <td>12</td>\n",
       "      <td>19</td>\n",
       "      <td>22</td>\n",
       "      <td>0</td>\n",
       "      <td>0</td>\n",
       "    </tr>\n",
       "    <tr>\n",
       "      <th>10885</th>\n",
       "      <td>2012</td>\n",
       "      <td>12</td>\n",
       "      <td>19</td>\n",
       "      <td>23</td>\n",
       "      <td>0</td>\n",
       "      <td>0</td>\n",
       "    </tr>\n",
       "  </tbody>\n",
       "</table>\n",
       "</div>"
      ],
      "text/plain": [
       "       year  month  day  hour  minute  second\n",
       "10883  2012     12   19    21       0       0\n",
       "10884  2012     12   19    22       0       0\n",
       "10885  2012     12   19    23       0       0"
      ]
     },
     "execution_count": 74,
     "metadata": {},
     "output_type": "execute_result"
    }
   ],
   "source": [
    "datetime_df.drop(['datetime'], axis=1, inplace=True)\n",
    "datetime_df.tail(3)"
   ]
  },
  {
   "cell_type": "markdown",
   "id": "33df65a5",
   "metadata": {},
   "source": [
    "## (3) 위 6개 데이터 개수 시각화하기"
   ]
  },
  {
   "cell_type": "code",
   "execution_count": 75,
   "id": "12bc0e58",
   "metadata": {},
   "outputs": [],
   "source": [
    "import seaborn as sns\n",
    "from matplotlib import pyplot as plt"
   ]
  },
  {
   "cell_type": "code",
   "execution_count": 76,
   "id": "e8c80868",
   "metadata": {},
   "outputs": [
    {
     "data": {
      "text/plain": [
       "<Axes: xlabel='second', ylabel='count'>"
      ]
     },
     "execution_count": 76,
     "metadata": {},
     "output_type": "execute_result"
    },
    {
     "data": {
      "image/png": "[encoded data removed]",
      "text/plain": [
       "<Figure size 2000x2000 with 6 Axes>"
      ]
     },
     "metadata": {},
     "output_type": "display_data"
    }
   ],
   "source": [
    "fig, ax = plt.subplots(ncols=2, nrows=3, figsize=(20,20))\n",
    "sns.countplot(data=datetime_df, x=\"year\", ax=ax[0,0])\n",
    "sns.countplot(data=datetime_df, x=\"month\", ax=ax[0,1])\n",
    "sns.countplot(data=datetime_df, x=\"day\", ax=ax[1,0])\n",
    "sns.countplot(data=datetime_df, x=\"hour\", ax=ax[1,1])\n",
    "sns.countplot(data=datetime_df, x=\"minute\", ax=ax[2,0])\n",
    "sns.countplot(data=datetime_df, x=\"second\", ax=ax[2,1])"
   ]
  },
  {
   "cell_type": "markdown",
   "id": "19f8d156",
   "metadata": {},
   "source": [
    "# (4) X, y 컬럼 선택 및 train/test 데이터 분리"
   ]
  },
  {
   "cell_type": "code",
   "execution_count": 77,
   "id": "986dad9b",
   "metadata": {},
   "outputs": [
    {
     "data": {
      "text/html": [
       "<div>\n",
       "<style scoped>\n",
       "    .dataframe tbody tr th:only-of-type {\n",
       "        vertical-align: middle;\n",
       "    }\n",
       "\n",
       "    .dataframe tbody tr th {\n",
       "        vertical-align: top;\n",
       "    }\n",
       "\n",
       "    .dataframe thead th {\n",
       "        text-align: right;\n",
       "    }\n",
       "</style>\n",
       "<table border=\"1\" class=\"dataframe\">\n",
       "  <thead>\n",
       "    <tr style=\"text-align: right;\">\n",
       "      <th></th>\n",
       "      <th>datetime</th>\n",
       "      <th>season</th>\n",
       "      <th>holiday</th>\n",
       "      <th>workingday</th>\n",
       "      <th>weather</th>\n",
       "      <th>temp</th>\n",
       "      <th>atemp</th>\n",
       "      <th>humidity</th>\n",
       "      <th>windspeed</th>\n",
       "      <th>casual</th>\n",
       "      <th>registered</th>\n",
       "      <th>count</th>\n",
       "    </tr>\n",
       "  </thead>\n",
       "  <tbody>\n",
       "    <tr>\n",
       "      <th>0</th>\n",
       "      <td>2011-01-01 00:00:00</td>\n",
       "      <td>1</td>\n",
       "      <td>0</td>\n",
       "      <td>0</td>\n",
       "      <td>1</td>\n",
       "      <td>9.84</td>\n",
       "      <td>14.395</td>\n",
       "      <td>81</td>\n",
       "      <td>0.0</td>\n",
       "      <td>3</td>\n",
       "      <td>13</td>\n",
       "      <td>16</td>\n",
       "    </tr>\n",
       "  </tbody>\n",
       "</table>\n",
       "</div>"
      ],
      "text/plain": [
       "              datetime  season  holiday  workingday  weather  temp   atemp  \\\n",
       "0  2011-01-01 00:00:00       1        0           0        1  9.84  14.395   \n",
       "\n",
       "   humidity  windspeed  casual  registered  count  \n",
       "0        81        0.0       3          13     16  "
      ]
     },
     "execution_count": 77,
     "metadata": {},
     "output_type": "execute_result"
    }
   ],
   "source": [
    "data.head(1)"
   ]
  },
  {
   "cell_type": "markdown",
   "id": "9ee28c4d",
   "metadata": {},
   "source": [
    "__datetime_df를 deepcopy하여 datetime_df2 객체 생성__"
   ]
  },
  {
   "cell_type": "code",
   "execution_count": 78,
   "id": "9af0839c",
   "metadata": {},
   "outputs": [],
   "source": [
    "datetime_df2 = datetime_df.copy(deep=True)"
   ]
  },
  {
   "cell_type": "code",
   "execution_count": 79,
   "id": "1f81265f",
   "metadata": {},
   "outputs": [
    {
     "data": {
      "text/plain": [
       "1787952029072"
      ]
     },
     "execution_count": 79,
     "metadata": {},
     "output_type": "execute_result"
    }
   ],
   "source": [
    "id(datetime_df2)"
   ]
  },
  {
   "cell_type": "code",
   "execution_count": 80,
   "id": "2ca60769",
   "metadata": {
    "scrolled": true
   },
   "outputs": [
    {
     "data": {
      "text/plain": [
       "1787925321424"
      ]
     },
     "execution_count": 80,
     "metadata": {},
     "output_type": "execute_result"
    }
   ],
   "source": [
    "id(datetime_df)"
   ]
  },
  {
   "cell_type": "markdown",
   "id": "2792cf2b",
   "metadata": {},
   "source": [
    "__datetime_df2와 data dataframe 병합_pd.concat() 사용__"
   ]
  },
  {
   "cell_type": "code",
   "execution_count": 81,
   "id": "04693e87",
   "metadata": {},
   "outputs": [],
   "source": [
    "datetime_df2 = pd.concat([datetime_df, data], axis=1)"
   ]
  },
  {
   "cell_type": "code",
   "execution_count": 82,
   "id": "ebe0ae42",
   "metadata": {},
   "outputs": [
    {
     "data": {
      "text/html": [
       "<div>\n",
       "<style scoped>\n",
       "    .dataframe tbody tr th:only-of-type {\n",
       "        vertical-align: middle;\n",
       "    }\n",
       "\n",
       "    .dataframe tbody tr th {\n",
       "        vertical-align: top;\n",
       "    }\n",
       "\n",
       "    .dataframe thead th {\n",
       "        text-align: right;\n",
       "    }\n",
       "</style>\n",
       "<table border=\"1\" class=\"dataframe\">\n",
       "  <thead>\n",
       "    <tr style=\"text-align: right;\">\n",
       "      <th></th>\n",
       "      <th>year</th>\n",
       "      <th>month</th>\n",
       "      <th>day</th>\n",
       "      <th>hour</th>\n",
       "      <th>minute</th>\n",
       "      <th>second</th>\n",
       "      <th>datetime</th>\n",
       "      <th>season</th>\n",
       "      <th>holiday</th>\n",
       "      <th>workingday</th>\n",
       "      <th>weather</th>\n",
       "      <th>temp</th>\n",
       "      <th>atemp</th>\n",
       "      <th>humidity</th>\n",
       "      <th>windspeed</th>\n",
       "      <th>casual</th>\n",
       "      <th>registered</th>\n",
       "      <th>count</th>\n",
       "    </tr>\n",
       "  </thead>\n",
       "  <tbody>\n",
       "    <tr>\n",
       "      <th>0</th>\n",
       "      <td>2011</td>\n",
       "      <td>1</td>\n",
       "      <td>1</td>\n",
       "      <td>0</td>\n",
       "      <td>0</td>\n",
       "      <td>0</td>\n",
       "      <td>2011-01-01 00:00:00</td>\n",
       "      <td>1</td>\n",
       "      <td>0</td>\n",
       "      <td>0</td>\n",
       "      <td>1</td>\n",
       "      <td>9.84</td>\n",
       "      <td>14.395</td>\n",
       "      <td>81</td>\n",
       "      <td>0.0</td>\n",
       "      <td>3</td>\n",
       "      <td>13</td>\n",
       "      <td>16</td>\n",
       "    </tr>\n",
       "    <tr>\n",
       "      <th>1</th>\n",
       "      <td>2011</td>\n",
       "      <td>1</td>\n",
       "      <td>1</td>\n",
       "      <td>1</td>\n",
       "      <td>0</td>\n",
       "      <td>0</td>\n",
       "      <td>2011-01-01 01:00:00</td>\n",
       "      <td>1</td>\n",
       "      <td>0</td>\n",
       "      <td>0</td>\n",
       "      <td>1</td>\n",
       "      <td>9.02</td>\n",
       "      <td>13.635</td>\n",
       "      <td>80</td>\n",
       "      <td>0.0</td>\n",
       "      <td>8</td>\n",
       "      <td>32</td>\n",
       "      <td>40</td>\n",
       "    </tr>\n",
       "    <tr>\n",
       "      <th>2</th>\n",
       "      <td>2011</td>\n",
       "      <td>1</td>\n",
       "      <td>1</td>\n",
       "      <td>2</td>\n",
       "      <td>0</td>\n",
       "      <td>0</td>\n",
       "      <td>2011-01-01 02:00:00</td>\n",
       "      <td>1</td>\n",
       "      <td>0</td>\n",
       "      <td>0</td>\n",
       "      <td>1</td>\n",
       "      <td>9.02</td>\n",
       "      <td>13.635</td>\n",
       "      <td>80</td>\n",
       "      <td>0.0</td>\n",
       "      <td>5</td>\n",
       "      <td>27</td>\n",
       "      <td>32</td>\n",
       "    </tr>\n",
       "    <tr>\n",
       "      <th>3</th>\n",
       "      <td>2011</td>\n",
       "      <td>1</td>\n",
       "      <td>1</td>\n",
       "      <td>3</td>\n",
       "      <td>0</td>\n",
       "      <td>0</td>\n",
       "      <td>2011-01-01 03:00:00</td>\n",
       "      <td>1</td>\n",
       "      <td>0</td>\n",
       "      <td>0</td>\n",
       "      <td>1</td>\n",
       "      <td>9.84</td>\n",
       "      <td>14.395</td>\n",
       "      <td>75</td>\n",
       "      <td>0.0</td>\n",
       "      <td>3</td>\n",
       "      <td>10</td>\n",
       "      <td>13</td>\n",
       "    </tr>\n",
       "    <tr>\n",
       "      <th>4</th>\n",
       "      <td>2011</td>\n",
       "      <td>1</td>\n",
       "      <td>1</td>\n",
       "      <td>4</td>\n",
       "      <td>0</td>\n",
       "      <td>0</td>\n",
       "      <td>2011-01-01 04:00:00</td>\n",
       "      <td>1</td>\n",
       "      <td>0</td>\n",
       "      <td>0</td>\n",
       "      <td>1</td>\n",
       "      <td>9.84</td>\n",
       "      <td>14.395</td>\n",
       "      <td>75</td>\n",
       "      <td>0.0</td>\n",
       "      <td>0</td>\n",
       "      <td>1</td>\n",
       "      <td>1</td>\n",
       "    </tr>\n",
       "  </tbody>\n",
       "</table>\n",
       "</div>"
      ],
      "text/plain": [
       "   year  month  day  hour  minute  second             datetime  season  \\\n",
       "0  2011      1    1     0       0       0  2011-01-01 00:00:00       1   \n",
       "1  2011      1    1     1       0       0  2011-01-01 01:00:00       1   \n",
       "2  2011      1    1     2       0       0  2011-01-01 02:00:00       1   \n",
       "3  2011      1    1     3       0       0  2011-01-01 03:00:00       1   \n",
       "4  2011      1    1     4       0       0  2011-01-01 04:00:00       1   \n",
       "\n",
       "   holiday  workingday  weather  temp   atemp  humidity  windspeed  casual  \\\n",
       "0        0           0        1  9.84  14.395        81        0.0       3   \n",
       "1        0           0        1  9.02  13.635        80        0.0       8   \n",
       "2        0           0        1  9.02  13.635        80        0.0       5   \n",
       "3        0           0        1  9.84  14.395        75        0.0       3   \n",
       "4        0           0        1  9.84  14.395        75        0.0       0   \n",
       "\n",
       "   registered  count  \n",
       "0          13     16  \n",
       "1          32     40  \n",
       "2          27     32  \n",
       "3          10     13  \n",
       "4           1      1  "
      ]
     },
     "execution_count": 82,
     "metadata": {},
     "output_type": "execute_result"
    }
   ],
   "source": [
    "datetime_df2.head()"
   ]
  },
  {
   "cell_type": "markdown",
   "id": "f92a77b9",
   "metadata": {},
   "source": [
    "__\"datetime\", \"casual\", \"registered\" 컬럼 삭제__"
   ]
  },
  {
   "cell_type": "code",
   "execution_count": 83,
   "id": "4244b56d",
   "metadata": {},
   "outputs": [],
   "source": [
    "datetime_df2.drop(labels=[\"datetime\", \"casual\", \"registered\"], axis=1, inplace=True)"
   ]
  },
  {
   "cell_type": "code",
   "execution_count": 84,
   "id": "12b94aa4",
   "metadata": {
    "scrolled": true
   },
   "outputs": [
    {
     "data": {
      "text/html": [
       "<div>\n",
       "<style scoped>\n",
       "    .dataframe tbody tr th:only-of-type {\n",
       "        vertical-align: middle;\n",
       "    }\n",
       "\n",
       "    .dataframe tbody tr th {\n",
       "        vertical-align: top;\n",
       "    }\n",
       "\n",
       "    .dataframe thead th {\n",
       "        text-align: right;\n",
       "    }\n",
       "</style>\n",
       "<table border=\"1\" class=\"dataframe\">\n",
       "  <thead>\n",
       "    <tr style=\"text-align: right;\">\n",
       "      <th></th>\n",
       "      <th>year</th>\n",
       "      <th>month</th>\n",
       "      <th>day</th>\n",
       "      <th>hour</th>\n",
       "      <th>minute</th>\n",
       "      <th>second</th>\n",
       "      <th>season</th>\n",
       "      <th>holiday</th>\n",
       "      <th>workingday</th>\n",
       "      <th>weather</th>\n",
       "      <th>temp</th>\n",
       "      <th>atemp</th>\n",
       "      <th>humidity</th>\n",
       "      <th>windspeed</th>\n",
       "      <th>count</th>\n",
       "    </tr>\n",
       "  </thead>\n",
       "  <tbody>\n",
       "    <tr>\n",
       "      <th>0</th>\n",
       "      <td>2011</td>\n",
       "      <td>1</td>\n",
       "      <td>1</td>\n",
       "      <td>0</td>\n",
       "      <td>0</td>\n",
       "      <td>0</td>\n",
       "      <td>1</td>\n",
       "      <td>0</td>\n",
       "      <td>0</td>\n",
       "      <td>1</td>\n",
       "      <td>9.84</td>\n",
       "      <td>14.395</td>\n",
       "      <td>81</td>\n",
       "      <td>0.0</td>\n",
       "      <td>16</td>\n",
       "    </tr>\n",
       "    <tr>\n",
       "      <th>1</th>\n",
       "      <td>2011</td>\n",
       "      <td>1</td>\n",
       "      <td>1</td>\n",
       "      <td>1</td>\n",
       "      <td>0</td>\n",
       "      <td>0</td>\n",
       "      <td>1</td>\n",
       "      <td>0</td>\n",
       "      <td>0</td>\n",
       "      <td>1</td>\n",
       "      <td>9.02</td>\n",
       "      <td>13.635</td>\n",
       "      <td>80</td>\n",
       "      <td>0.0</td>\n",
       "      <td>40</td>\n",
       "    </tr>\n",
       "    <tr>\n",
       "      <th>2</th>\n",
       "      <td>2011</td>\n",
       "      <td>1</td>\n",
       "      <td>1</td>\n",
       "      <td>2</td>\n",
       "      <td>0</td>\n",
       "      <td>0</td>\n",
       "      <td>1</td>\n",
       "      <td>0</td>\n",
       "      <td>0</td>\n",
       "      <td>1</td>\n",
       "      <td>9.02</td>\n",
       "      <td>13.635</td>\n",
       "      <td>80</td>\n",
       "      <td>0.0</td>\n",
       "      <td>32</td>\n",
       "    </tr>\n",
       "  </tbody>\n",
       "</table>\n",
       "</div>"
      ],
      "text/plain": [
       "   year  month  day  hour  minute  second  season  holiday  workingday  \\\n",
       "0  2011      1    1     0       0       0       1        0           0   \n",
       "1  2011      1    1     1       0       0       1        0           0   \n",
       "2  2011      1    1     2       0       0       1        0           0   \n",
       "\n",
       "   weather  temp   atemp  humidity  windspeed  count  \n",
       "0        1  9.84  14.395        81        0.0     16  \n",
       "1        1  9.02  13.635        80        0.0     40  \n",
       "2        1  9.02  13.635        80        0.0     32  "
      ]
     },
     "execution_count": 84,
     "metadata": {},
     "output_type": "execute_result"
    }
   ],
   "source": [
    "datetime_df2.head(3)"
   ]
  },
  {
   "cell_type": "markdown",
   "id": "8c69f3af",
   "metadata": {},
   "source": [
    "__Train/test 데이터 분리(Feature 데이터는 casual, registered 제외 모두 포함)__"
   ]
  },
  {
   "cell_type": "code",
   "execution_count": 85,
   "id": "c502b116",
   "metadata": {},
   "outputs": [
    {
     "data": {
      "text/plain": [
       "Index(['year', 'month', 'day', 'hour', 'minute', 'second', 'season', 'holiday',\n",
       "       'workingday', 'weather', 'temp', 'atemp', 'humidity', 'windspeed',\n",
       "       'count'],\n",
       "      dtype='object')"
      ]
     },
     "execution_count": 85,
     "metadata": {},
     "output_type": "execute_result"
    }
   ],
   "source": [
    "datetime_df2.columns"
   ]
  },
  {
   "cell_type": "code",
   "execution_count": 86,
   "id": "a0aae907",
   "metadata": {},
   "outputs": [],
   "source": [
    "X = datetime_df2[['year', 'month', 'day', 'hour', 'minute', 'second', 'season', 'holiday',\n",
    "       'workingday', 'weather', 'temp', 'atemp', 'humidity', 'windspeed']].values\n",
    "y = datetime_df2['count'].values"
   ]
  },
  {
   "cell_type": "code",
   "execution_count": 87,
   "id": "360bf6ac",
   "metadata": {},
   "outputs": [
    {
     "data": {
      "text/plain": [
       "((10886, 14), (10886,))"
      ]
     },
     "execution_count": 87,
     "metadata": {},
     "output_type": "execute_result"
    }
   ],
   "source": [
    "X.shape, y.shape"
   ]
  },
  {
   "cell_type": "code",
   "execution_count": 88,
   "id": "7dda63d7",
   "metadata": {},
   "outputs": [],
   "source": [
    "X_train2, X_test2, y_train2, y_test2 = train_test_split(X, y, test_size=0.2, random_state=96)"
   ]
  },
  {
   "cell_type": "code",
   "execution_count": 89,
   "id": "638e3776",
   "metadata": {},
   "outputs": [
    {
     "data": {
      "text/plain": [
       "((8708, 14), (2178, 14))"
      ]
     },
     "execution_count": 89,
     "metadata": {},
     "output_type": "execute_result"
    }
   ],
   "source": [
    "X_train2.shape, X_test2.shape"
   ]
  },
  {
   "cell_type": "code",
   "execution_count": 90,
   "id": "8ca70811",
   "metadata": {},
   "outputs": [
    {
     "data": {
      "text/plain": [
       "((8708,), (2178,))"
      ]
     },
     "execution_count": 90,
     "metadata": {},
     "output_type": "execute_result"
    }
   ],
   "source": [
    "y_train2.shape, y_test2.shape"
   ]
  },
  {
   "cell_type": "markdown",
   "id": "80d14d12",
   "metadata": {},
   "source": [
    "## (5) LinearRegression 모델 학습"
   ]
  },
  {
   "cell_type": "code",
   "execution_count": 91,
   "id": "1cb2c6bd",
   "metadata": {},
   "outputs": [],
   "source": [
    "from sklearn.linear_model import LinearRegression"
   ]
  },
  {
   "cell_type": "code",
   "execution_count": 92,
   "id": "0c8affb8",
   "metadata": {},
   "outputs": [
    {
     "data": {
      "text/html": [
       "<style>#sk-container-id-1 {color: black;background-color: white;}#sk-container-id-1 pre{padding: 0;}#sk-container-id-1 div.sk-toggleable {background-color: white;}#sk-container-id-1 label.sk-toggleable__label {cursor: pointer;display: block;width: 100%;margin-bottom: 0;padding: 0.3em;box-sizing: border-box;text-align: center;}#sk-container-id-1 label.sk-toggleable__label-arrow:before {content: \"▸\";float: left;margin-right: 0.25em;color: #696969;}#sk-container-id-1 label.sk-toggleable__label-arrow:hover:before {color: black;}#sk-container-id-1 div.sk-estimator:hover label.sk-toggleable__label-arrow:before {color: black;}#sk-container-id-1 div.sk-toggleable__content {max-height: 0;max-width: 0;overflow: hidden;text-align: left;background-color: #f0f8ff;}#sk-container-id-1 div.sk-toggleable__content pre {margin: 0.2em;color: black;border-radius: 0.25em;background-color: #f0f8ff;}#sk-container-id-1 input.sk-toggleable__control:checked~div.sk-toggleable__content {max-height: 200px;max-width: 100%;overflow: auto;}#sk-container-id-1 input.sk-toggleable__control:checked~label.sk-toggleable__label-arrow:before {content: \"▾\";}#sk-container-id-1 div.sk-estimator input.sk-toggleable__control:checked~label.sk-toggleable__label {background-color: #d4ebff;}#sk-container-id-1 div.sk-label input.sk-toggleable__control:checked~label.sk-toggleable__label {background-color: #d4ebff;}#sk-container-id-1 input.sk-hidden--visually {border: 0;clip: rect(1px 1px 1px 1px);clip: rect(1px, 1px, 1px, 1px);height: 1px;margin: -1px;overflow: hidden;padding: 0;position: absolute;width: 1px;}#sk-container-id-1 div.sk-estimator {font-family: monospace;background-color: #f0f8ff;border: 1px dotted black;border-radius: 0.25em;box-sizing: border-box;margin-bottom: 0.5em;}#sk-container-id-1 div.sk-estimator:hover {background-color: #d4ebff;}#sk-container-id-1 div.sk-parallel-item::after {content: \"\";width: 100%;border-bottom: 1px solid gray;flex-grow: 1;}#sk-container-id-1 div.sk-label:hover label.sk-toggleable__label {background-color: #d4ebff;}#sk-container-id-1 div.sk-serial::before {content: \"\";position: absolute;border-left: 1px solid gray;box-sizing: border-box;top: 0;bottom: 0;left: 50%;z-index: 0;}#sk-container-id-1 div.sk-serial {display: flex;flex-direction: column;align-items: center;background-color: white;padding-right: 0.2em;padding-left: 0.2em;position: relative;}#sk-container-id-1 div.sk-item {position: relative;z-index: 1;}#sk-container-id-1 div.sk-parallel {display: flex;align-items: stretch;justify-content: center;background-color: white;position: relative;}#sk-container-id-1 div.sk-item::before, #sk-container-id-1 div.sk-parallel-item::before {content: \"\";position: absolute;border-left: 1px solid gray;box-sizing: border-box;top: 0;bottom: 0;left: 50%;z-index: -1;}#sk-container-id-1 div.sk-parallel-item {display: flex;flex-direction: column;z-index: 1;position: relative;background-color: white;}#sk-container-id-1 div.sk-parallel-item:first-child::after {align-self: flex-end;width: 50%;}#sk-container-id-1 div.sk-parallel-item:last-child::after {align-self: flex-start;width: 50%;}#sk-container-id-1 div.sk-parallel-item:only-child::after {width: 0;}#sk-container-id-1 div.sk-dashed-wrapped {border: 1px dashed gray;margin: 0 0.4em 0.5em 0.4em;box-sizing: border-box;padding-bottom: 0.4em;background-color: white;}#sk-container-id-1 div.sk-label label {font-family: monospace;font-weight: bold;display: inline-block;line-height: 1.2em;}#sk-container-id-1 div.sk-label-container {text-align: center;}#sk-container-id-1 div.sk-container {/* jupyter's `normalize.less` sets `[hidden] { display: none; }` but bootstrap.min.css set `[hidden] { display: none !important; }` so we also need the `!important` here to be able to override the default hidden behavior on the sphinx rendered scikit-learn.org. See: https://github.com/scikit-learn/scikit-learn/issues/21755 */display: inline-block !important;position: relative;}#sk-container-id-1 div.sk-text-repr-fallback {display: none;}</style><div id=\"sk-container-id-1\" class=\"sk-top-container\"><div class=\"sk-text-repr-fallback\"><pre>LinearRegression()</pre><b>In a Jupyter environment, please rerun this cell to show the HTML representation or trust the notebook. <br />On GitHub, the HTML representation is unable to render, please try loading this page with nbviewer.org.</b></div><div class=\"sk-container\" hidden><div class=\"sk-item\"><div class=\"sk-estimator sk-toggleable\"><input class=\"sk-toggleable__control sk-hidden--visually\" id=\"sk-estimator-id-1\" type=\"checkbox\" checked><label for=\"sk-estimator-id-1\" class=\"sk-toggleable__label sk-toggleable__label-arrow\">LinearRegression</label><div class=\"sk-toggleable__content\"><pre>LinearRegression()</pre></div></div></div></div></div>"
      ],
      "text/plain": [
       "LinearRegression()"
      ]
     },
     "execution_count": 92,
     "metadata": {},
     "output_type": "execute_result"
    }
   ],
   "source": [
    "model_LR = LinearRegression()\n",
    "model_LR.fit(X_train2, y_train2)"
   ]
  },
  {
   "cell_type": "markdown",
   "id": "0b7ce794",
   "metadata": {},
   "source": [
    "## (6) 학습된 모델로 X_test2에 대한 예측값 출력 및 손실함수 계산"
   ]
  },
  {
   "cell_type": "code",
   "execution_count": 93,
   "id": "5aa0d799",
   "metadata": {},
   "outputs": [],
   "source": [
    "y_pred = model_LR.predict(X_test2)"
   ]
  },
  {
   "cell_type": "code",
   "execution_count": 94,
   "id": "f07427ff",
   "metadata": {},
   "outputs": [
    {
     "data": {
      "text/plain": [
       "(2178,)"
      ]
     },
     "execution_count": 94,
     "metadata": {},
     "output_type": "execute_result"
    }
   ],
   "source": [
    "y_pred.shape"
   ]
  },
  {
   "cell_type": "code",
   "execution_count": 95,
   "id": "46f01371",
   "metadata": {},
   "outputs": [],
   "source": [
    "def loss_function(a, b):\n",
    "    MSE = ((a-b)**2).mean()\n",
    "    RMSE = MSE**0.5\n",
    "    return MSE, RMSE"
   ]
  },
  {
   "cell_type": "code",
   "execution_count": 96,
   "id": "e8b63463",
   "metadata": {},
   "outputs": [
    {
     "data": {
      "text/plain": [
       "(18322.885372403052, 135.3620529262284)"
      ]
     },
     "execution_count": 96,
     "metadata": {},
     "output_type": "execute_result"
    }
   ],
   "source": [
    "loss_function(y_test2, y_pred)"
   ]
  },
  {
   "cell_type": "markdown",
   "id": "4fcb238b",
   "metadata": {},
   "source": [
    "<span style=\"color:red\"> __MSE는 18322, RMSE는 135를 달성함__ </span>"
   ]
  },
  {
   "cell_type": "markdown",
   "id": "0f1d785c",
   "metadata": {},
   "source": [
    "## (7) x축은 temp 또는 humidity로, y축은 count로 예측 결과 시각화하기"
   ]
  },
  {
   "cell_type": "code",
   "execution_count": 97,
   "id": "b745fe2f",
   "metadata": {},
   "outputs": [
    {
     "data": {
      "text/plain": [
       "<matplotlib.legend.Legend at 0x1a04a222fd0>"
      ]
     },
     "execution_count": 97,
     "metadata": {},
     "output_type": "execute_result"
    },
    {
     "data": {
      "image/png": "[encoded data removed]",
      "text/plain": [
       "<Figure size 1000x500 with 2 Axes>"
      ]
     },
     "metadata": {},
     "output_type": "display_data"
    }
   ],
   "source": [
    "fig,axs = plt.subplots(1, 2, figsize=(10, 5))\n",
    "axs[0].scatter(X_test2[:, 10], y_test2, label='answer')\n",
    "axs[0].scatter(X_test2[:, 10], y_pred, label='predicted')\n",
    "axs[0].set_xlabel('temp', fontsize='large')\n",
    "axs[0].set_ylabel('count', fontsize='large')\n",
    "axs[0].legend()\n",
    "\n",
    "axs[1].scatter(X_test2[:, 12], y_test2, label='answer')\n",
    "axs[1].scatter(X_test2[:, 12], y_pred, label='predicted')\n",
    "axs[1].set_xlabel('humidity', fontsize='large')\n",
    "axs[1].set_ylabel('count', fontsize='large')\n",
    "axs[1].legend(loc = 'upper left')"
   ]
  },
  {
   "cell_type": "markdown",
   "id": "76d14b04",
   "metadata": {},
   "source": [
    "# <span style=\"color:blue\"> 회고 </span>"
   ]
  },
  {
   "cell_type": "markdown",
   "id": "48d79dff",
   "metadata": {},
   "source": [
    "* np.corrcoef()함수를 이용해 당뇨병 데이터내의 feature항목과 target 항목 사이의 상관계수를 알아보고 heatmap으로 시각화 함\n",
    "* LinearRegression 모델이 최적의 매개변수를 찾아가는 방식을 직접 구현해보았음. (선형회귀 모델함수, 손실함수, 기울기 함수)\n",
    "* hyperparameter인 W, b, learning_rate를 설정해주고, 해당 값이 데이터 분석의 정확도에 어떤식으로 영향을 끼치는지 mse loss function을 통해 알아봄.\n",
    "* sklearn의 LinearRegression 모델을 불러와 자전거 대여량을 학습하고, 온도와 습도에 따른 예측값을 시각화함."
   ]
  },
  {
   "cell_type": "markdown",
   "id": "5c257abd",
   "metadata": {},
   "source": [
    "# <span style=\"color:blue\"> References </span>\n",
    "[0] [learning_rate란?](https://for-my-wealthy-life.tistory.com/36)<br>\n",
    "[1] [learning_rate 초기값 설정](https://whoishoo.tistory.com/418#:~:text=Learning%20rate%EB%A5%BC%20%EA%B3%B5%EC%8B%9D%EC%9C%BC%EB%A1%9C,%EC%B6%94%EC%A0%95%ED%95%98%EB%8A%94%20%EB%8D%B0%20%EC%82%AC%EC%9A%A9%ED%95%9C%EB%8B%A4.&text=Learning%20rate(%ED%95%99%EC%8A%B5%EB%A5%A0)%EC%9D%98%20%EA%B0%92,%EB%94%B0%EB%9D%BC%EC%84%9C%20ML%20%EA%B2%B0%EA%B3%BC%EA%B0%80%20%EB%8B%AC%EB%9D%BC%EC%A7%84%EB%8B%A4.)<br>\n",
    "[2] [datetime 이용해서 년, 월, 일, 시간, 분, 초 추출 후 컬럼 추가하기](https://www.interviewqs.com/ddi-code-snippets/extract-month-year-pandas)<br>\n",
    "[3] [countplot 시각화](https://seaborn.pydata.org/generated/seaborn.countplot.html)<br>\n",
    "[4] [countplot 시각화2](https://datascienceschool.net/01%20python/05.04%20%EC%8B%9C%EB%B3%B8%EC%9D%84%20%EC%82%AC%EC%9A%A9%ED%95%9C%20%EB%8D%B0%EC%9D%B4%ED%84%B0%20%EB%B6%84%ED%8F%AC%20%EC%8B%9C%EA%B0%81%ED%99%94.html)<br>\n",
    "[5] [두 dataframe 병합](https://western-sky.tistory.com/48)<br>"
   ]
  }
 ],
 "metadata": {
  "kernelspec": {
   "display_name": "Python 3 (ipykernel)",
   "language": "python",
   "name": "python3"
  },
  "language_info": {
   "codemirror_mode": {
    "name": "ipython",
    "version": 3
   },
   "file_extension": ".py",
   "mimetype": "text/x-python",
   "name": "python",
   "nbconvert_exporter": "python",
   "pygments_lexer": "ipython3",
   "version": "3.11.2"
  }
 },
 "nbformat": 4,
 "nbformat_minor": 5
}
