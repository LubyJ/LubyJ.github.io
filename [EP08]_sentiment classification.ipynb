{
 "cells": [
  {
   "cell_type": "code",
   "execution_count": 1,
   "id": "ded2347c",
   "metadata": {},
   "outputs": [
    {
     "name": "stdout",
     "output_type": "stream",
     "text": [
      "1.3.3\n",
      "0.5.2\n",
      "4.1.2\n"
     ]
    }
   ],
   "source": [
    "import pandas\n",
    "import konlpy\n",
    "import gensim\n",
    "\n",
    "print(pandas.__version__)\n",
    "print(konlpy.__version__)\n",
    "print(gensim.__version__)"
   ]
  },
  {
   "cell_type": "markdown",
   "id": "0bc3eae2",
   "metadata": {},
   "source": [
    "## Step 1) 데이터 준비와 확인"
   ]
  },
  {
   "cell_type": "code",
   "execution_count": 2,
   "id": "c4e45803",
   "metadata": {},
   "outputs": [
    {
     "data": {
      "text/html": [
       "<div>\n",
       "<style scoped>\n",
       "    .dataframe tbody tr th:only-of-type {\n",
       "        vertical-align: middle;\n",
       "    }\n",
       "\n",
       "    .dataframe tbody tr th {\n",
       "        vertical-align: top;\n",
       "    }\n",
       "\n",
       "    .dataframe thead th {\n",
       "        text-align: right;\n",
       "    }\n",
       "</style>\n",
       "<table border=\"1\" class=\"dataframe\">\n",
       "  <thead>\n",
       "    <tr style=\"text-align: right;\">\n",
       "      <th></th>\n",
       "      <th>id</th>\n",
       "      <th>document</th>\n",
       "      <th>label</th>\n",
       "    </tr>\n",
       "  </thead>\n",
       "  <tbody>\n",
       "    <tr>\n",
       "      <th>0</th>\n",
       "      <td>9976970</td>\n",
       "      <td>아 더빙.. 진짜 짜증나네요 목소리</td>\n",
       "      <td>0</td>\n",
       "    </tr>\n",
       "    <tr>\n",
       "      <th>1</th>\n",
       "      <td>3819312</td>\n",
       "      <td>흠...포스터보고 초딩영화줄....오버연기조차 가볍지 않구나</td>\n",
       "      <td>1</td>\n",
       "    </tr>\n",
       "    <tr>\n",
       "      <th>2</th>\n",
       "      <td>10265843</td>\n",
       "      <td>너무재밓었다그래서보는것을추천한다</td>\n",
       "      <td>0</td>\n",
       "    </tr>\n",
       "    <tr>\n",
       "      <th>3</th>\n",
       "      <td>9045019</td>\n",
       "      <td>교도소 이야기구먼 ..솔직히 재미는 없다..평점 조정</td>\n",
       "      <td>0</td>\n",
       "    </tr>\n",
       "    <tr>\n",
       "      <th>4</th>\n",
       "      <td>6483659</td>\n",
       "      <td>사이몬페그의 익살스런 연기가 돋보였던 영화!스파이더맨에서 늙어보이기만 했던 커스틴 ...</td>\n",
       "      <td>1</td>\n",
       "    </tr>\n",
       "  </tbody>\n",
       "</table>\n",
       "</div>"
      ],
      "text/plain": [
       "         id                                           document  label\n",
       "0   9976970                                아 더빙.. 진짜 짜증나네요 목소리      0\n",
       "1   3819312                  흠...포스터보고 초딩영화줄....오버연기조차 가볍지 않구나      1\n",
       "2  10265843                                  너무재밓었다그래서보는것을추천한다      0\n",
       "3   9045019                      교도소 이야기구먼 ..솔직히 재미는 없다..평점 조정      0\n",
       "4   6483659  사이몬페그의 익살스런 연기가 돋보였던 영화!스파이더맨에서 늙어보이기만 했던 커스틴 ...      1"
      ]
     },
     "execution_count": 2,
     "metadata": {},
     "output_type": "execute_result"
    }
   ],
   "source": [
    "import pandas as pd\n",
    "\n",
    "train_data = pd.read_table('~/aiffel/sentiment_classification/data/ratings_train.txt')\n",
    "test_data = pd.read_table('~/aiffel/sentiment_classification/data/ratings_test.txt')\n",
    "\n",
    "train_data.head()"
   ]
  },
  {
   "cell_type": "markdown",
   "id": "587d30b6",
   "metadata": {},
   "source": [
    "## Step 2) 데이터로더 구성\n",
    "---\n",
    "* 데이터의 중복 제거\n",
    "* NaN 결측치 제거\n",
    "* 한국어 토크나이저로 토큰화\n",
    "* 불용어(Stopwords) 제거\n",
    "* 사전word_to_index 구성\n",
    "* 텍스트 스트링을 사전 인덱스 스트링으로 변환\n",
    "* X_train, y_train, X_test, y_test, word_to_index 리턴"
   ]
  },
  {
   "cell_type": "code",
   "execution_count": 3,
   "id": "68bf7b1a",
   "metadata": {},
   "outputs": [],
   "source": [
    "from konlpy.tag import Mecab\n",
    "import numpy as np\n",
    "from collections import Counter\n",
    "\n",
    "tokenizer = Mecab()\n",
    "stopwords = ['의','가','이','은','들','는','좀','잘','걍','과','도','를','으로','자','에','와','한','하다']\n",
    "\n",
    "def load_data(train_data, test_data, num_words=10000):\n",
    "    train_data.drop_duplicates(subset=['document'], inplace=True)\n",
    "    train_data = train_data.dropna(how = 'any')\n",
    "    \n",
    "    test_data.drop_duplicates(subset=['document'], inplace=True)\n",
    "    test_data = test_data.dropna(how = 'any') \n",
    "    \n",
    "    X_train = []\n",
    "    for sentence in train_data['document']:\n",
    "        temp_X = tokenizer.morphs(sentence) # 토큰화\n",
    "        temp_X = [word for word in temp_X if not word in stopwords] # 불용어 제거\n",
    "        X_train.append(temp_X)\n",
    "\n",
    "    X_test = []\n",
    "    for sentence in test_data['document']:\n",
    "        temp_X = tokenizer.morphs(sentence) # 토큰화\n",
    "        temp_X = [word for word in temp_X if not word in stopwords] # 불용어 제거\n",
    "        X_test.append(temp_X)\n",
    "    \n",
    "    words = np.concatenate(X_train).tolist()\n",
    "    counter = Counter(words)\n",
    "    counter = counter.most_common(10000-4)\n",
    "    vocab = ['<PAD>', '<BOS>', '<UNK>', '<UNUSED>'] + [key for key, _ in counter]\n",
    "    word_to_index = {word:index for index, word in enumerate(vocab)}\n",
    "        \n",
    "    def wordlist_to_indexlist(wordlist):\n",
    "        return [word_to_index[word] if word in word_to_index else word_to_index['<UNK>'] for word in wordlist]\n",
    "        \n",
    "    X_train = list(map(wordlist_to_indexlist, X_train))\n",
    "    X_test = list(map(wordlist_to_indexlist, X_test))\n",
    "        \n",
    "    return X_train, np.array(list(train_data['label'])), X_test, np.array(list(test_data['label'])), word_to_index\n",
    "    \n",
    "X_train, y_train, X_test, y_test, word_to_index = load_data(train_data, test_data) "
   ]
  },
  {
   "cell_type": "code",
   "execution_count": 4,
   "id": "8f469d5b",
   "metadata": {},
   "outputs": [
    {
     "name": "stdout",
     "output_type": "stream",
     "text": [
      "X_train 개수: 146182, X_test 개수: 49157\n",
      "y_train 개수: 146182, y_test 개수: 49157\n"
     ]
    }
   ],
   "source": [
    "print(f'X_train 개수: {len(X_train)}, X_test 개수: {len(X_test)}')\n",
    "print(f'y_train 개수: {len(y_train)}, y_test 개수: {len(y_test)}')"
   ]
  },
  {
   "cell_type": "code",
   "execution_count": 5,
   "id": "8fa28752",
   "metadata": {},
   "outputs": [],
   "source": [
    "index_to_word = {index:word for word, index in word_to_index.items()}"
   ]
  },
  {
   "cell_type": "code",
   "execution_count": 6,
   "id": "8690d314",
   "metadata": {},
   "outputs": [],
   "source": [
    "# 문장 1개와 딕셔너리와 함께 주면, 단어 인덱스 리스트 벡터로 변환\n",
    "# 단, 모든 문장은 <BOS>로 시작하는 것으로 합니다. \n",
    "def get_encoded_sentence(sentence, word_to_index):\n",
    "    return [word_to_index['<BOS>']]+[word_to_index[word] if word in word_to_index else word_to_index['<UNK>'] for word in sentence.split()]\n",
    "\n",
    "# 여러 개의 문장 리스트를 한꺼번에 단어 인덱스 리스트 벡터로 encode\n",
    "def get_encoded_sentences(sentences, word_to_index):\n",
    "    return [get_encoded_sentence(sentence, word_to_index) for sentence in sentences]\n",
    "\n",
    "# 숫자 벡터로 encode된 문장을 원래대로 decode하는 함수\n",
    "#[1:]를 통해 <BOS>를 제외\n",
    "def get_decoded_sentence(encoded_sentence, index_to_word):\n",
    "    return ' '.join(index_to_word[index] if index in index_to_word else '<UNK>' for index in encoded_sentence[1:])\n",
    "\n",
    "# 여러 개의 숫자 벡터로 encode된 문장을 한꺼번에 원래대로 decode하는 함수 \n",
    "def get_decoded_sentences(encoded_sentences, index_to_word):\n",
    "    return [get_decoded_sentence(encoded_sentence, index_to_word) for encoded_sentence in encoded_sentences]"
   ]
  },
  {
   "cell_type": "code",
   "execution_count": 7,
   "id": "2ed5df16",
   "metadata": {},
   "outputs": [
    {
     "name": "stdout",
     "output_type": "stream",
     "text": [
      "[24, 205, 2]\n",
      "라벨: 0\n",
      "1번째 리뷰 문장 길이:  10\n",
      "2번째 리뷰 문장 길이:  3\n"
     ]
    }
   ],
   "source": [
    "print(X_train[2])\n",
    "print('라벨:', y_train[2])\n",
    "print('1번째 리뷰 문장 길이: ', len(X_train[0]))\n",
    "print('2번째 리뷰 문장 길이: ', len(X_train[2]))"
   ]
  },
  {
   "cell_type": "markdown",
   "id": "2611c06d",
   "metadata": {},
   "source": [
    "2 번째 리뷰는 추천한다는 글로 긍정(1) 인데 라벨링이 0으로 되어있음."
   ]
  },
  {
   "cell_type": "code",
   "execution_count": 8,
   "id": "119f0596",
   "metadata": {},
   "outputs": [
    {
     "name": "stdout",
     "output_type": "stream",
     "text": [
      "더 빙 . . 진짜 짜증 나 네요 목소리\n"
     ]
    }
   ],
   "source": [
    "print(get_decoded_sentence(X_train[0], index_to_word))"
   ]
  },
  {
   "cell_type": "code",
   "execution_count": 9,
   "id": "f920c63d",
   "metadata": {
    "scrolled": true
   },
   "outputs": [
    {
     "name": "stdout",
     "output_type": "stream",
     "text": [
      "[32, 74, 919, 4, 4, 39, 228, 20, 33, 748]\n"
     ]
    }
   ],
   "source": [
    "print(X_train[0])"
   ]
  },
  {
   "cell_type": "markdown",
   "id": "1af321f5",
   "metadata": {},
   "source": [
    "## Step 3) 모델 구성을 위한 데이터 분석 및 가공\n",
    "---\n",
    "* 데이터셋 내 문장 길이 분포\n",
    "* 적절한 최대 문장 길이 지정\n",
    "* keras.preprocessing.sequence.pad_sequences 을 활용한 패딩 추가"
   ]
  },
  {
   "cell_type": "code",
   "execution_count": 10,
   "id": "889d3dde",
   "metadata": {},
   "outputs": [
    {
     "name": "stdout",
     "output_type": "stream",
     "text": [
      "문장길이 평균:  15.96940191154864\n",
      "문장길이 최대:  116\n",
      "문장길이 표준편차:  12.843571191092\n",
      "pad_sequences maxlen: 48\n",
      "전체 문장의 0.9548784420929768%가 maxlen 설정값 이내에 포함.\n"
     ]
    }
   ],
   "source": [
    "total_data_text = list(X_train) + list(X_test)\n",
    "\n",
    "# 텍스트데이터 문장길이의 리스트를 생성한 후\n",
    "num_tokens = [len(tokens) for tokens in total_data_text]\n",
    "num_tokens = np.array(num_tokens)\n",
    "# 문장길이의 평균값, 최대값, 표준편차를 계산해 본다.\n",
    "print('문장길이 평균: ', np.mean(num_tokens))\n",
    "print('문장길이 최대: ', np.max(num_tokens))\n",
    "print('문장길이 표준편차: ', np.std(num_tokens))\n",
    "\n",
    "# 최대 길이를 (평균 + 2*표준편차)로 한다면,\n",
    "max_tokens = np.mean(num_tokens) + 2.5*np.std(num_tokens)\n",
    "maxlen = int(max_tokens)\n",
    "print('pad_sequences maxlen:', maxlen)\n",
    "print('전체 문장의 {}%가 maxlen 설정값 이내에 포함.'.format(np.sum(num_tokens < max_tokens)/len(num_tokens)))"
   ]
  },
  {
   "cell_type": "code",
   "execution_count": 11,
   "id": "21c888e1",
   "metadata": {},
   "outputs": [
    {
     "name": "stdout",
     "output_type": "stream",
     "text": [
      "X_train_pre: (146182, 48)\n",
      "X_test_pre: (49157, 48)\n"
     ]
    }
   ],
   "source": [
    "import tensorflow as tf\n",
    "X_train_pre = tf.keras.preprocessing.sequence.pad_sequences(X_train,\n",
    "                                                       value=word_to_index['<PAD>'],\n",
    "                                                       padding='pre',\n",
    "                                                       maxlen=maxlen)\n",
    "X_test_pre = tf.keras.preprocessing.sequence.pad_sequences(X_test,\n",
    "                                                       value=word_to_index['<PAD>'],\n",
    "                                                       padding='pre',\n",
    "                                                       maxlen=maxlen)\n",
    "print(f'X_train_pre: {X_train_pre.shape}')\n",
    "print(f'X_test_pre: {X_test_pre.shape}')"
   ]
  },
  {
   "cell_type": "code",
   "execution_count": 12,
   "id": "cd716e51",
   "metadata": {},
   "outputs": [
    {
     "name": "stdout",
     "output_type": "stream",
     "text": [
      "X_train_post: (146182, 48)\n",
      "X_test_post: (49157, 48)\n"
     ]
    }
   ],
   "source": [
    "X_train_post = tf.keras.preprocessing.sequence.pad_sequences(X_train,\n",
    "                                                       value=word_to_index['<PAD>'],\n",
    "                                                       padding='post',\n",
    "                                                       maxlen=maxlen)\n",
    "X_test_post = tf.keras.preprocessing.sequence.pad_sequences(X_test,\n",
    "                                                       value=word_to_index['<PAD>'],\n",
    "                                                       padding='post',\n",
    "                                                       maxlen=maxlen)\n",
    "print(f'X_train_post: {X_train_post.shape}')\n",
    "print(f'X_test_post: {X_test_post.shape}')"
   ]
  },
  {
   "cell_type": "code",
   "execution_count": 13,
   "id": "dd4c1524",
   "metadata": {},
   "outputs": [
    {
     "name": "stdout",
     "output_type": "stream",
     "text": [
      "<X_train_pre>\n",
      "\n",
      "label: 0\n",
      "    encode: [  0   0   0   0   0   0   0   0   0   0   0   0   0   0   0   0   0   0\n",
      "   0   0   0   0   0   0   0   0   0   0   0   0   0   0   0   0   0   0\n",
      "   0   0  32  74 919   4   4  39 228  20  33 748]\n",
      "    decode: <PAD> <PAD> <PAD> <PAD> <PAD> <PAD> <PAD> <PAD> <PAD> <PAD> <PAD> <PAD> <PAD> <PAD> <PAD> <PAD> <PAD> <PAD> <PAD> <PAD> <PAD> <PAD> <PAD> <PAD> <PAD> <PAD> <PAD> <PAD> <PAD> <PAD> <PAD> <PAD> <PAD> <PAD> <PAD> <PAD> <PAD> 아 더 빙 . . 진짜 짜증 나 네요 목소리\n",
      "label: 1\n",
      "    encode: [   0    0    0    0    0    0    0    0    0    0    0    0    0    0\n",
      "    0    0    0    0    0    0    0    0    0    0    0    0    0    0\n",
      "    0    0    0 1028    4   11  519  549  687    5  120    4   70 1639\n",
      "   52  925 1006   15   44  391]\n",
      "    decode: <PAD> <PAD> <PAD> <PAD> <PAD> <PAD> <PAD> <PAD> <PAD> <PAD> <PAD> <PAD> <PAD> <PAD> <PAD> <PAD> <PAD> <PAD> <PAD> <PAD> <PAD> <PAD> <PAD> <PAD> <PAD> <PAD> <PAD> <PAD> <PAD> <PAD> 흠 . .. 포스터 보고 초딩 영화 줄 . ... 오버 연기 조차 가볍 지 않 구나\n",
      "label: 0\n",
      "    encode: [  0   0   0   0   0   0   0   0   0   0   0   0   0   0   0   0   0   0\n",
      "   0   0   0   0   0   0   0   0   0   0   0   0   0   0   0   0   0   0\n",
      "   0   0   0   0   0   0   0   0   0  24 205   2]\n",
      "    decode: <PAD> <PAD> <PAD> <PAD> <PAD> <PAD> <PAD> <PAD> <PAD> <PAD> <PAD> <PAD> <PAD> <PAD> <PAD> <PAD> <PAD> <PAD> <PAD> <PAD> <PAD> <PAD> <PAD> <PAD> <PAD> <PAD> <PAD> <PAD> <PAD> <PAD> <PAD> <PAD> <PAD> <PAD> <PAD> <PAD> <PAD> <PAD> <PAD> <PAD> <PAD> <PAD> <PAD> <PAD> 너무 재 <UNK>\n",
      "label: 0\n",
      "    encode: [   0    0    0    0    0    0    0    0    0    0    0    0    0    0\n",
      "    0    0    0    0    0    0    0    0    0    0    0    0    0    0\n",
      "    0    0    0    0    0    0    0 8409  158 3925    4    4  298   94\n",
      "   17    6    4    4   58 3479]\n",
      "    decode: <PAD> <PAD> <PAD> <PAD> <PAD> <PAD> <PAD> <PAD> <PAD> <PAD> <PAD> <PAD> <PAD> <PAD> <PAD> <PAD> <PAD> <PAD> <PAD> <PAD> <PAD> <PAD> <PAD> <PAD> <PAD> <PAD> <PAD> <PAD> <PAD> <PAD> <PAD> <PAD> <PAD> <PAD> 교도소 이야기 구먼 . . 솔직히 재미 없 다 . . 평점 조정\n"
     ]
    }
   ],
   "source": [
    "print('<X_train_pre>\\n')\n",
    "\n",
    "for i in range(4):\n",
    "    label = y_train[i]\n",
    "    encode = X_train_pre[i]\n",
    "    decode = get_decoded_sentence(X_train_pre[i], index_to_word)\n",
    "    print(f'label: {label}\\n\\\n",
    "    encode: {encode}\\n\\\n",
    "    decode: {decode}')"
   ]
  },
  {
   "cell_type": "code",
   "execution_count": 14,
   "id": "3adc9151",
   "metadata": {},
   "outputs": [
    {
     "name": "stdout",
     "output_type": "stream",
     "text": [
      "<X_train_post>\n",
      "\n",
      "label: 0\n",
      "    encode: [ 32  74 919   4   4  39 228  20  33 748   0   0   0   0   0   0   0   0\n",
      "   0   0   0   0   0   0   0   0   0   0   0   0   0   0   0   0   0   0\n",
      "   0   0   0   0   0   0   0   0   0   0   0   0]\n",
      "    decode: 더 빙 . . 진짜 짜증 나 네요 목소리 <PAD> <PAD> <PAD> <PAD> <PAD> <PAD> <PAD> <PAD> <PAD> <PAD> <PAD> <PAD> <PAD> <PAD> <PAD> <PAD> <PAD> <PAD> <PAD> <PAD> <PAD> <PAD> <PAD> <PAD> <PAD> <PAD> <PAD> <PAD> <PAD> <PAD> <PAD> <PAD> <PAD> <PAD> <PAD> <PAD> <PAD> <PAD>\n",
      "label: 1\n",
      "    encode: [1028    4   11  519  549  687    5  120    4   70 1639   52  925 1006\n",
      "   15   44  391    0    0    0    0    0    0    0    0    0    0    0\n",
      "    0    0    0    0    0    0    0    0    0    0    0    0    0    0\n",
      "    0    0    0    0    0    0]\n",
      "    decode: . .. 포스터 보고 초딩 영화 줄 . ... 오버 연기 조차 가볍 지 않 구나 <PAD> <PAD> <PAD> <PAD> <PAD> <PAD> <PAD> <PAD> <PAD> <PAD> <PAD> <PAD> <PAD> <PAD> <PAD> <PAD> <PAD> <PAD> <PAD> <PAD> <PAD> <PAD> <PAD> <PAD> <PAD> <PAD> <PAD> <PAD> <PAD> <PAD> <PAD>\n",
      "label: 0\n",
      "    encode: [ 24 205   2   0   0   0   0   0   0   0   0   0   0   0   0   0   0   0\n",
      "   0   0   0   0   0   0   0   0   0   0   0   0   0   0   0   0   0   0\n",
      "   0   0   0   0   0   0   0   0   0   0   0   0]\n",
      "    decode: 재 <UNK> <PAD> <PAD> <PAD> <PAD> <PAD> <PAD> <PAD> <PAD> <PAD> <PAD> <PAD> <PAD> <PAD> <PAD> <PAD> <PAD> <PAD> <PAD> <PAD> <PAD> <PAD> <PAD> <PAD> <PAD> <PAD> <PAD> <PAD> <PAD> <PAD> <PAD> <PAD> <PAD> <PAD> <PAD> <PAD> <PAD> <PAD> <PAD> <PAD> <PAD> <PAD> <PAD> <PAD> <PAD> <PAD>\n",
      "label: 0\n",
      "    encode: [8409  158 3925    4    4  298   94   17    6    4    4   58 3479    0\n",
      "    0    0    0    0    0    0    0    0    0    0    0    0    0    0\n",
      "    0    0    0    0    0    0    0    0    0    0    0    0    0    0\n",
      "    0    0    0    0    0    0]\n",
      "    decode: 이야기 구먼 . . 솔직히 재미 없 다 . . 평점 조정 <PAD> <PAD> <PAD> <PAD> <PAD> <PAD> <PAD> <PAD> <PAD> <PAD> <PAD> <PAD> <PAD> <PAD> <PAD> <PAD> <PAD> <PAD> <PAD> <PAD> <PAD> <PAD> <PAD> <PAD> <PAD> <PAD> <PAD> <PAD> <PAD> <PAD> <PAD> <PAD> <PAD> <PAD> <PAD>\n"
     ]
    }
   ],
   "source": [
    "print('<X_train_post>\\n')\n",
    "\n",
    "for i in range(4):\n",
    "    label = y_train[i]\n",
    "    encode = X_train_post[i]\n",
    "    decode = get_decoded_sentence(X_train_post[i], index_to_word)\n",
    "    print(f'label: {label}\\n\\\n",
    "    encode: {encode}\\n\\\n",
    "    decode: {decode}')"
   ]
  },
  {
   "cell_type": "markdown",
   "id": "2407e644",
   "metadata": {},
   "source": [
    "## Step 4) 모델 구성 및 validation set 구성\n",
    "* train set(80 %)과 val set(20%) 구분\n",
    "* 3가지 모델 사용\n",
    "    1. Recurrent Neural Network(RNN)\n",
    "    2. 1-D Convolution Neural Network(1-D CNN)\n",
    "    3. GlobalMaxPooling1D"
   ]
  },
  {
   "cell_type": "code",
   "execution_count": 15,
   "id": "3c65eda9",
   "metadata": {},
   "outputs": [
    {
     "name": "stdout",
     "output_type": "stream",
     "text": [
      "29236.4 9831.400000000001\n"
     ]
    }
   ],
   "source": [
    "print(len(X_train_post)*0.2, len(X_test_pre)*0.2)"
   ]
  },
  {
   "cell_type": "code",
   "execution_count": 16,
   "id": "1f66c7d7",
   "metadata": {},
   "outputs": [
    {
     "name": "stdout",
     "output_type": "stream",
     "text": [
      "23389 23389 122793 122793\n"
     ]
    }
   ],
   "source": [
    "X_val_post = X_train_post[:23389]\n",
    "X_val_pre = X_train_pre[:23389]\n",
    "X_train_post = X_train_post[23389:]\n",
    "X_train_pre = X_train_pre[23389:]\n",
    "\n",
    "print(len(X_val_post), len(X_val_pre), len(X_train_post), len(X_train_pre))"
   ]
  },
  {
   "cell_type": "code",
   "execution_count": 17,
   "id": "e88e4e12",
   "metadata": {},
   "outputs": [
    {
     "name": "stdout",
     "output_type": "stream",
     "text": [
      "23389 122793\n"
     ]
    }
   ],
   "source": [
    "y_val = y_train[:23389]\n",
    "y_train = y_train[23389:]\n",
    "print(len(y_val), len(y_train))"
   ]
  },
  {
   "cell_type": "code",
   "execution_count": 18,
   "id": "4ec30d53",
   "metadata": {},
   "outputs": [
    {
     "name": "stdout",
     "output_type": "stream",
     "text": [
      "Model: \"sequential\"\n",
      "_________________________________________________________________\n",
      "Layer (type)                 Output Shape              Param #   \n",
      "=================================================================\n",
      "embedding (Embedding)        (None, None, 4)           40000     \n",
      "_________________________________________________________________\n",
      "lstm (LSTM)                  (None, 8)                 416       \n",
      "_________________________________________________________________\n",
      "dense (Dense)                (None, 8)                 72        \n",
      "_________________________________________________________________\n",
      "dense_1 (Dense)              (None, 1)                 9         \n",
      "=================================================================\n",
      "Total params: 40,497\n",
      "Trainable params: 40,497\n",
      "Non-trainable params: 0\n",
      "_________________________________________________________________\n"
     ]
    }
   ],
   "source": [
    "# RNN\n",
    "vocab_size = 10000\n",
    "word_vector_dim = 4\n",
    "\n",
    "model_rnn = tf.keras.Sequential()\n",
    "model_rnn.add(tf.keras.layers.Embedding(vocab_size, word_vector_dim, input_shape=(None, )))\n",
    "model_rnn.add(tf.keras.layers.LSTM(8))\n",
    "model_rnn.add(tf.keras.layers.Dense(8, activation='relu'))\n",
    "model_rnn.add(tf.keras.layers.Dense(1, activation='sigmoid'))\n",
    "\n",
    "model_rnn.summary()"
   ]
  },
  {
   "cell_type": "code",
   "execution_count": 19,
   "id": "345cc758",
   "metadata": {},
   "outputs": [
    {
     "name": "stdout",
     "output_type": "stream",
     "text": [
      "Model: \"sequential_1\"\n",
      "_________________________________________________________________\n",
      "Layer (type)                 Output Shape              Param #   \n",
      "=================================================================\n",
      "embedding_1 (Embedding)      (None, None, 4)           40000     \n",
      "_________________________________________________________________\n",
      "conv1d (Conv1D)              (None, None, 16)          464       \n",
      "_________________________________________________________________\n",
      "max_pooling1d (MaxPooling1D) (None, None, 16)          0         \n",
      "_________________________________________________________________\n",
      "conv1d_1 (Conv1D)            (None, None, 16)          1808      \n",
      "_________________________________________________________________\n",
      "global_max_pooling1d (Global (None, 16)                0         \n",
      "_________________________________________________________________\n",
      "dense_2 (Dense)              (None, 8)                 136       \n",
      "_________________________________________________________________\n",
      "dense_3 (Dense)              (None, 1)                 9         \n",
      "=================================================================\n",
      "Total params: 42,417\n",
      "Trainable params: 42,417\n",
      "Non-trainable params: 0\n",
      "_________________________________________________________________\n"
     ]
    }
   ],
   "source": [
    "# 1D CNN\n",
    "vocab_size = 10000\n",
    "word_vector_dim = 4\n",
    "\n",
    "model_1dcnn = tf.keras.Sequential()\n",
    "model_1dcnn.add(tf.keras.layers.Embedding(vocab_size, word_vector_dim, input_shape=(None, )))\n",
    "model_1dcnn.add(tf.keras.layers.Conv1D(16,7, activation='relu'))\n",
    "model_1dcnn.add(tf.keras.layers.MaxPooling1D(5))\n",
    "model_1dcnn.add(tf.keras.layers.Conv1D(16,7, activation='relu'))\n",
    "model_1dcnn.add(tf.keras.layers.GlobalMaxPooling1D())\n",
    "model_1dcnn.add(tf.keras.layers.Dense(8, activation='relu'))\n",
    "model_1dcnn.add(tf.keras.layers.Dense(1, activation='sigmoid'))\n",
    "\n",
    "model_1dcnn.summary()"
   ]
  },
  {
   "cell_type": "code",
   "execution_count": 20,
   "id": "c0d922c0",
   "metadata": {},
   "outputs": [
    {
     "name": "stdout",
     "output_type": "stream",
     "text": [
      "Model: \"sequential_2\"\n",
      "_________________________________________________________________\n",
      "Layer (type)                 Output Shape              Param #   \n",
      "=================================================================\n",
      "embedding_2 (Embedding)      (None, None, 4)           40000     \n",
      "_________________________________________________________________\n",
      "global_max_pooling1d_1 (Glob (None, 4)                 0         \n",
      "_________________________________________________________________\n",
      "dense_4 (Dense)              (None, 8)                 40        \n",
      "_________________________________________________________________\n",
      "dense_5 (Dense)              (None, 1)                 9         \n",
      "=================================================================\n",
      "Total params: 40,049\n",
      "Trainable params: 40,049\n",
      "Non-trainable params: 0\n",
      "_________________________________________________________________\n"
     ]
    }
   ],
   "source": [
    "# GlobalMaxPooling1D\n",
    "\n",
    "vocab_size = 10000 \n",
    "word_vector_dim = 4  \n",
    "\n",
    "model_g = tf.keras.Sequential()\n",
    "model_g.add(tf.keras.layers.Embedding(vocab_size, word_vector_dim, input_shape=(None,)))\n",
    "model_g.add(tf.keras.layers.GlobalMaxPooling1D())\n",
    "model_g.add(tf.keras.layers.Dense(8, activation='relu'))\n",
    "model_g.add(tf.keras.layers.Dense(1, activation='sigmoid'))\n",
    "\n",
    "model_g.summary()"
   ]
  },
  {
   "cell_type": "markdown",
   "id": "7c3a2c68",
   "metadata": {},
   "source": [
    "RNN, 1D-CNN, Globalmaxpooling 모두 파라미터 개수 비슷함"
   ]
  },
  {
   "cell_type": "markdown",
   "id": "cc404060",
   "metadata": {},
   "source": [
    "## Step 5) 모델 훈련 개시"
   ]
  },
  {
   "cell_type": "markdown",
   "id": "ad0661ce",
   "metadata": {},
   "source": [
    "__RNN_post padding__"
   ]
  },
  {
   "cell_type": "code",
   "execution_count": 21,
   "id": "2e8864d1",
   "metadata": {},
   "outputs": [
    {
     "name": "stdout",
     "output_type": "stream",
     "text": [
      "Epoch 1/20\n",
      "240/240 [==============================] - 21s 8ms/step - loss: 0.5948 - accuracy: 0.6548 - val_loss: 0.4131 - val_accuracy: 0.8282\n",
      "Epoch 2/20\n",
      "240/240 [==============================] - 1s 6ms/step - loss: 0.3678 - accuracy: 0.8444 - val_loss: 0.3617 - val_accuracy: 0.8450\n",
      "Epoch 3/20\n",
      "240/240 [==============================] - 1s 6ms/step - loss: 0.3318 - accuracy: 0.8611 - val_loss: 0.3597 - val_accuracy: 0.8412\n",
      "Epoch 4/20\n",
      "240/240 [==============================] - 1s 6ms/step - loss: 0.3205 - accuracy: 0.8661 - val_loss: 0.3570 - val_accuracy: 0.8463\n",
      "Epoch 5/20\n",
      "240/240 [==============================] - 1s 6ms/step - loss: 0.3147 - accuracy: 0.8685 - val_loss: 0.3608 - val_accuracy: 0.8442\n",
      "Epoch 6/20\n",
      "240/240 [==============================] - 1s 6ms/step - loss: 0.3083 - accuracy: 0.8711 - val_loss: 0.3598 - val_accuracy: 0.8429\n",
      "Epoch 7/20\n",
      "240/240 [==============================] - 1s 6ms/step - loss: 0.3048 - accuracy: 0.8729 - val_loss: 0.3590 - val_accuracy: 0.8430\n",
      "Epoch 8/20\n",
      "240/240 [==============================] - 1s 6ms/step - loss: 0.3041 - accuracy: 0.8732 - val_loss: 0.3596 - val_accuracy: 0.8426\n",
      "Epoch 9/20\n",
      "240/240 [==============================] - 1s 6ms/step - loss: 0.3007 - accuracy: 0.8753 - val_loss: 0.3636 - val_accuracy: 0.8439\n",
      "Epoch 10/20\n",
      "240/240 [==============================] - 1s 6ms/step - loss: 0.2977 - accuracy: 0.8761 - val_loss: 0.3674 - val_accuracy: 0.8433\n",
      "Epoch 11/20\n",
      "240/240 [==============================] - 1s 6ms/step - loss: 0.2963 - accuracy: 0.8767 - val_loss: 0.3664 - val_accuracy: 0.8426\n",
      "Epoch 12/20\n",
      "240/240 [==============================] - 1s 6ms/step - loss: 0.2961 - accuracy: 0.8776 - val_loss: 0.3629 - val_accuracy: 0.8433\n",
      "Epoch 13/20\n",
      "240/240 [==============================] - 1s 6ms/step - loss: 0.2932 - accuracy: 0.8786 - val_loss: 0.3658 - val_accuracy: 0.8412\n",
      "Epoch 14/20\n",
      "240/240 [==============================] - 1s 6ms/step - loss: 0.2923 - accuracy: 0.8791 - val_loss: 0.3689 - val_accuracy: 0.8408\n",
      "Epoch 15/20\n",
      "240/240 [==============================] - 1s 6ms/step - loss: 0.2890 - accuracy: 0.8802 - val_loss: 0.3711 - val_accuracy: 0.8421\n",
      "Epoch 16/20\n",
      "240/240 [==============================] - 1s 6ms/step - loss: 0.2881 - accuracy: 0.8805 - val_loss: 0.3664 - val_accuracy: 0.8438\n",
      "Epoch 17/20\n",
      "240/240 [==============================] - 1s 6ms/step - loss: 0.2854 - accuracy: 0.8820 - val_loss: 0.3674 - val_accuracy: 0.8449\n",
      "Epoch 18/20\n",
      "240/240 [==============================] - 1s 6ms/step - loss: 0.2844 - accuracy: 0.8825 - val_loss: 0.3692 - val_accuracy: 0.8403\n",
      "Epoch 19/20\n",
      "240/240 [==============================] - 1s 6ms/step - loss: 0.2820 - accuracy: 0.8838 - val_loss: 0.3690 - val_accuracy: 0.8437\n",
      "Epoch 20/20\n",
      "240/240 [==============================] - 1s 6ms/step - loss: 0.2803 - accuracy: 0.8851 - val_loss: 0.3713 - val_accuracy: 0.8448\n"
     ]
    }
   ],
   "source": [
    "model_rnn.compile(optimizer='adam',\n",
    "              loss='binary_crossentropy',\n",
    "              metrics=['accuracy'])\n",
    "epochs=20\n",
    "history_rnn_post = model_rnn.fit(X_train_post,\n",
    "                    y_train,\n",
    "                    epochs=epochs,\n",
    "                    batch_size=512,\n",
    "                    validation_data=(X_val_post, y_val),\n",
    "                    verbose=1)"
   ]
  },
  {
   "cell_type": "code",
   "execution_count": 22,
   "id": "200898a3",
   "metadata": {},
   "outputs": [
    {
     "name": "stdout",
     "output_type": "stream",
     "text": [
      "1537/1537 - 3s - loss: 0.3773 - accuracy: 0.8420\n",
      "[0.37727755308151245, 0.8420367240905762]\n"
     ]
    }
   ],
   "source": [
    "# 테스트셋으로 평가\n",
    "\n",
    "results = model_rnn.evaluate(X_test_post,  y_test, verbose=2)\n",
    "\n",
    "print(results)"
   ]
  },
  {
   "cell_type": "markdown",
   "id": "840ab31c",
   "metadata": {},
   "source": [
    "__RNN_pre padding__"
   ]
  },
  {
   "cell_type": "code",
   "execution_count": 23,
   "id": "938c217c",
   "metadata": {},
   "outputs": [
    {
     "name": "stdout",
     "output_type": "stream",
     "text": [
      "Epoch 1/20\n",
      "240/240 [==============================] - 1s 6ms/step - loss: 0.2958 - accuracy: 0.8818 - val_loss: 0.3693 - val_accuracy: 0.8454\n",
      "Epoch 2/20\n",
      "240/240 [==============================] - 1s 6ms/step - loss: 0.2802 - accuracy: 0.8858 - val_loss: 0.3759 - val_accuracy: 0.8448\n",
      "Epoch 3/20\n",
      "240/240 [==============================] - 1s 6ms/step - loss: 0.2752 - accuracy: 0.8874 - val_loss: 0.3720 - val_accuracy: 0.8472\n",
      "Epoch 4/20\n",
      "240/240 [==============================] - 1s 6ms/step - loss: 0.2709 - accuracy: 0.8888 - val_loss: 0.3749 - val_accuracy: 0.8463\n",
      "Epoch 5/20\n",
      "240/240 [==============================] - 1s 6ms/step - loss: 0.2669 - accuracy: 0.8902 - val_loss: 0.3758 - val_accuracy: 0.8473\n",
      "Epoch 6/20\n",
      "240/240 [==============================] - 1s 6ms/step - loss: 0.2631 - accuracy: 0.8906 - val_loss: 0.3859 - val_accuracy: 0.8463\n",
      "Epoch 7/20\n",
      "240/240 [==============================] - 1s 6ms/step - loss: 0.2593 - accuracy: 0.8931 - val_loss: 0.3914 - val_accuracy: 0.8472\n",
      "Epoch 8/20\n",
      "240/240 [==============================] - 1s 6ms/step - loss: 0.2554 - accuracy: 0.8947 - val_loss: 0.3958 - val_accuracy: 0.8463\n",
      "Epoch 9/20\n",
      "240/240 [==============================] - 1s 6ms/step - loss: 0.2525 - accuracy: 0.8953 - val_loss: 0.3921 - val_accuracy: 0.8445\n",
      "Epoch 10/20\n",
      "240/240 [==============================] - 1s 6ms/step - loss: 0.2499 - accuracy: 0.8969 - val_loss: 0.4029 - val_accuracy: 0.8464\n",
      "Epoch 11/20\n",
      "240/240 [==============================] - 2s 7ms/step - loss: 0.2456 - accuracy: 0.8989 - val_loss: 0.4190 - val_accuracy: 0.8453\n",
      "Epoch 12/20\n",
      "240/240 [==============================] - 1s 6ms/step - loss: 0.2422 - accuracy: 0.9008 - val_loss: 0.4209 - val_accuracy: 0.8451\n",
      "Epoch 13/20\n",
      "240/240 [==============================] - 1s 6ms/step - loss: 0.2398 - accuracy: 0.9009 - val_loss: 0.4161 - val_accuracy: 0.8445\n",
      "Epoch 14/20\n",
      "240/240 [==============================] - 1s 6ms/step - loss: 0.2360 - accuracy: 0.9027 - val_loss: 0.4375 - val_accuracy: 0.8440\n",
      "Epoch 15/20\n",
      "240/240 [==============================] - 1s 6ms/step - loss: 0.2339 - accuracy: 0.9038 - val_loss: 0.4494 - val_accuracy: 0.8445\n",
      "Epoch 16/20\n",
      "240/240 [==============================] - 1s 6ms/step - loss: 0.2311 - accuracy: 0.9041 - val_loss: 0.4505 - val_accuracy: 0.8430\n",
      "Epoch 17/20\n",
      "240/240 [==============================] - 1s 6ms/step - loss: 0.2286 - accuracy: 0.9056 - val_loss: 0.4468 - val_accuracy: 0.8433\n",
      "Epoch 18/20\n",
      "240/240 [==============================] - 1s 6ms/step - loss: 0.2245 - accuracy: 0.9070 - val_loss: 0.4578 - val_accuracy: 0.8431\n",
      "Epoch 19/20\n",
      "240/240 [==============================] - 1s 6ms/step - loss: 0.2216 - accuracy: 0.9085 - val_loss: 0.4555 - val_accuracy: 0.8436\n",
      "Epoch 20/20\n",
      "240/240 [==============================] - 1s 6ms/step - loss: 0.2189 - accuracy: 0.9089 - val_loss: 0.4725 - val_accuracy: 0.8419\n"
     ]
    }
   ],
   "source": [
    "history_rnn_pre = model_rnn.fit(X_train_pre,\n",
    "                    y_train,\n",
    "                    epochs=epochs,\n",
    "                    batch_size=512,\n",
    "                    validation_data=(X_val_pre, y_val),\n",
    "                    verbose=1)"
   ]
  },
  {
   "cell_type": "code",
   "execution_count": 24,
   "id": "058993df",
   "metadata": {},
   "outputs": [
    {
     "name": "stdout",
     "output_type": "stream",
     "text": [
      "1537/1537 - 3s - loss: 0.4715 - accuracy: 0.8383\n",
      "[0.47150397300720215, 0.838334321975708]\n"
     ]
    }
   ],
   "source": [
    "# 테스트셋으로 평가\n",
    "\n",
    "results = model_rnn.evaluate(X_test_pre,  y_test, verbose=2)\n",
    "\n",
    "print(results)"
   ]
  },
  {
   "cell_type": "markdown",
   "id": "47b53dcb",
   "metadata": {},
   "source": [
    "__1DCNN_post padding__"
   ]
  },
  {
   "cell_type": "code",
   "execution_count": 25,
   "id": "3eaf4b4a",
   "metadata": {},
   "outputs": [
    {
     "name": "stdout",
     "output_type": "stream",
     "text": [
      "Epoch 1/20\n",
      "240/240 [==============================] - 20s 6ms/step - loss: 0.5414 - accuracy: 0.7143 - val_loss: 0.3765 - val_accuracy: 0.8374\n",
      "Epoch 2/20\n",
      "240/240 [==============================] - 1s 5ms/step - loss: 0.3481 - accuracy: 0.8519 - val_loss: 0.3466 - val_accuracy: 0.8521\n",
      "Epoch 3/20\n",
      "240/240 [==============================] - 1s 5ms/step - loss: 0.3155 - accuracy: 0.8686 - val_loss: 0.3423 - val_accuracy: 0.8521\n",
      "Epoch 4/20\n",
      "240/240 [==============================] - 1s 5ms/step - loss: 0.2986 - accuracy: 0.8767 - val_loss: 0.3440 - val_accuracy: 0.8530\n",
      "Epoch 5/20\n",
      "240/240 [==============================] - 1s 5ms/step - loss: 0.2860 - accuracy: 0.8824 - val_loss: 0.3489 - val_accuracy: 0.8495\n",
      "Epoch 6/20\n",
      "240/240 [==============================] - 1s 5ms/step - loss: 0.2760 - accuracy: 0.8872 - val_loss: 0.3592 - val_accuracy: 0.8481\n",
      "Epoch 7/20\n",
      "240/240 [==============================] - 1s 5ms/step - loss: 0.2676 - accuracy: 0.8908 - val_loss: 0.3631 - val_accuracy: 0.8465\n",
      "Epoch 8/20\n",
      "240/240 [==============================] - 1s 5ms/step - loss: 0.2587 - accuracy: 0.8957 - val_loss: 0.3667 - val_accuracy: 0.8487\n",
      "Epoch 9/20\n",
      "240/240 [==============================] - 1s 5ms/step - loss: 0.2497 - accuracy: 0.8998 - val_loss: 0.3727 - val_accuracy: 0.8482\n",
      "Epoch 10/20\n",
      "240/240 [==============================] - 1s 5ms/step - loss: 0.2417 - accuracy: 0.9038 - val_loss: 0.3770 - val_accuracy: 0.8468\n",
      "Epoch 11/20\n",
      "240/240 [==============================] - 1s 5ms/step - loss: 0.2336 - accuracy: 0.9080 - val_loss: 0.3868 - val_accuracy: 0.8466\n",
      "Epoch 12/20\n",
      "240/240 [==============================] - 1s 5ms/step - loss: 0.2253 - accuracy: 0.9123 - val_loss: 0.3950 - val_accuracy: 0.8440\n",
      "Epoch 13/20\n",
      "240/240 [==============================] - 1s 5ms/step - loss: 0.2179 - accuracy: 0.9157 - val_loss: 0.4050 - val_accuracy: 0.8441\n",
      "Epoch 14/20\n",
      "240/240 [==============================] - 1s 5ms/step - loss: 0.2111 - accuracy: 0.9192 - val_loss: 0.4182 - val_accuracy: 0.8426\n",
      "Epoch 15/20\n",
      "240/240 [==============================] - 1s 5ms/step - loss: 0.2042 - accuracy: 0.9223 - val_loss: 0.4266 - val_accuracy: 0.8400\n",
      "Epoch 16/20\n",
      "240/240 [==============================] - 1s 5ms/step - loss: 0.1975 - accuracy: 0.9253 - val_loss: 0.4431 - val_accuracy: 0.8384\n",
      "Epoch 17/20\n",
      "240/240 [==============================] - 1s 5ms/step - loss: 0.1917 - accuracy: 0.9287 - val_loss: 0.4607 - val_accuracy: 0.8373\n",
      "Epoch 18/20\n",
      "240/240 [==============================] - 1s 5ms/step - loss: 0.1872 - accuracy: 0.9308 - val_loss: 0.4730 - val_accuracy: 0.8363\n",
      "Epoch 19/20\n",
      "240/240 [==============================] - 1s 5ms/step - loss: 0.1821 - accuracy: 0.9329 - val_loss: 0.4833 - val_accuracy: 0.8336\n",
      "Epoch 20/20\n",
      "240/240 [==============================] - 1s 5ms/step - loss: 0.1764 - accuracy: 0.9357 - val_loss: 0.4956 - val_accuracy: 0.8302\n"
     ]
    }
   ],
   "source": [
    "model_1dcnn.compile(optimizer='adam',\n",
    "              loss='binary_crossentropy',\n",
    "              metrics=['accuracy'])\n",
    "epochs=20\n",
    "history_1dcnn_post = model_1dcnn.fit(X_train_post,\n",
    "                    y_train,\n",
    "                    epochs=epochs,\n",
    "                    batch_size=512,\n",
    "                    validation_data=(X_val_post, y_val),\n",
    "                    verbose=1)"
   ]
  },
  {
   "cell_type": "code",
   "execution_count": 26,
   "id": "a447140a",
   "metadata": {},
   "outputs": [
    {
     "name": "stdout",
     "output_type": "stream",
     "text": [
      "1537/1537 - 3s - loss: 0.7191 - accuracy: 0.5769\n",
      "[0.7191404700279236, 0.5768862962722778]\n"
     ]
    }
   ],
   "source": [
    "# 테스트셋으로 평가\n",
    "\n",
    "results = model_rnn.evaluate(X_test_post,  y_test, verbose=2)\n",
    "\n",
    "print(results)"
   ]
  },
  {
   "cell_type": "markdown",
   "id": "2af4105e",
   "metadata": {},
   "source": [
    "__1DCNN_pre padding__"
   ]
  },
  {
   "cell_type": "code",
   "execution_count": 27,
   "id": "e40547ee",
   "metadata": {},
   "outputs": [
    {
     "name": "stdout",
     "output_type": "stream",
     "text": [
      "Epoch 1/20\n",
      "240/240 [==============================] - 1s 5ms/step - loss: 0.3616 - accuracy: 0.8353 - val_loss: 0.4504 - val_accuracy: 0.8056\n",
      "Epoch 2/20\n",
      "240/240 [==============================] - 1s 5ms/step - loss: 0.2992 - accuracy: 0.8671 - val_loss: 0.4567 - val_accuracy: 0.8094\n",
      "Epoch 3/20\n",
      "240/240 [==============================] - 1s 5ms/step - loss: 0.2783 - accuracy: 0.8786 - val_loss: 0.4710 - val_accuracy: 0.8097\n",
      "Epoch 4/20\n",
      "240/240 [==============================] - 1s 5ms/step - loss: 0.2653 - accuracy: 0.8844 - val_loss: 0.4817 - val_accuracy: 0.8082\n",
      "Epoch 5/20\n",
      "240/240 [==============================] - 1s 5ms/step - loss: 0.2547 - accuracy: 0.8904 - val_loss: 0.4995 - val_accuracy: 0.8046\n",
      "Epoch 6/20\n",
      "240/240 [==============================] - 1s 5ms/step - loss: 0.2448 - accuracy: 0.8957 - val_loss: 0.5126 - val_accuracy: 0.8050\n",
      "Epoch 7/20\n",
      "240/240 [==============================] - 1s 5ms/step - loss: 0.2370 - accuracy: 0.8995 - val_loss: 0.5259 - val_accuracy: 0.8038\n",
      "Epoch 8/20\n",
      "240/240 [==============================] - 1s 5ms/step - loss: 0.2300 - accuracy: 0.9029 - val_loss: 0.5428 - val_accuracy: 0.8031\n",
      "Epoch 9/20\n",
      "240/240 [==============================] - 1s 5ms/step - loss: 0.2239 - accuracy: 0.9058 - val_loss: 0.5725 - val_accuracy: 0.8047\n",
      "Epoch 10/20\n",
      "240/240 [==============================] - 1s 5ms/step - loss: 0.2188 - accuracy: 0.9086 - val_loss: 0.5841 - val_accuracy: 0.8002\n",
      "Epoch 11/20\n",
      "240/240 [==============================] - 1s 5ms/step - loss: 0.2130 - accuracy: 0.9116 - val_loss: 0.5961 - val_accuracy: 0.7982\n",
      "Epoch 12/20\n",
      "240/240 [==============================] - 1s 5ms/step - loss: 0.2087 - accuracy: 0.9136 - val_loss: 0.6127 - val_accuracy: 0.7983\n",
      "Epoch 13/20\n",
      "240/240 [==============================] - 1s 5ms/step - loss: 0.2039 - accuracy: 0.9155 - val_loss: 0.6354 - val_accuracy: 0.7975\n",
      "Epoch 14/20\n",
      "240/240 [==============================] - 1s 5ms/step - loss: 0.1998 - accuracy: 0.9170 - val_loss: 0.6598 - val_accuracy: 0.7955\n",
      "Epoch 15/20\n",
      "240/240 [==============================] - 1s 5ms/step - loss: 0.1960 - accuracy: 0.9187 - val_loss: 0.6739 - val_accuracy: 0.7966\n",
      "Epoch 16/20\n",
      "240/240 [==============================] - 1s 5ms/step - loss: 0.1932 - accuracy: 0.9208 - val_loss: 0.6896 - val_accuracy: 0.7918\n",
      "Epoch 17/20\n",
      "240/240 [==============================] - 1s 5ms/step - loss: 0.1898 - accuracy: 0.9219 - val_loss: 0.6996 - val_accuracy: 0.7937\n",
      "Epoch 18/20\n",
      "240/240 [==============================] - 1s 5ms/step - loss: 0.1861 - accuracy: 0.9237 - val_loss: 0.7349 - val_accuracy: 0.7936\n",
      "Epoch 19/20\n",
      "240/240 [==============================] - 1s 5ms/step - loss: 0.1831 - accuracy: 0.9257 - val_loss: 0.7371 - val_accuracy: 0.7915\n",
      "Epoch 20/20\n",
      "240/240 [==============================] - 1s 5ms/step - loss: 0.1817 - accuracy: 0.9264 - val_loss: 0.7539 - val_accuracy: 0.7887\n"
     ]
    }
   ],
   "source": [
    "history_1dcnn_pre = model_1dcnn.fit(X_train_pre,\n",
    "                    y_train,\n",
    "                    epochs=epochs,\n",
    "                    batch_size=512,\n",
    "                    validation_data=(X_val_pre, y_val),\n",
    "                    verbose=1)"
   ]
  },
  {
   "cell_type": "code",
   "execution_count": 28,
   "id": "63fd6d97",
   "metadata": {},
   "outputs": [
    {
     "name": "stdout",
     "output_type": "stream",
     "text": [
      "1537/1537 - 3s - loss: 0.4715 - accuracy: 0.8383\n",
      "[0.47150397300720215, 0.838334321975708]\n"
     ]
    }
   ],
   "source": [
    "# 테스트셋으로 평가\n",
    "\n",
    "results = model_rnn.evaluate(X_test_pre,  y_test, verbose=2)\n",
    "\n",
    "print(results)"
   ]
  },
  {
   "cell_type": "markdown",
   "id": "9518d534",
   "metadata": {},
   "source": [
    "__GlobalMaxpooling_post padding__"
   ]
  },
  {
   "cell_type": "code",
   "execution_count": 29,
   "id": "a5b1cf0d",
   "metadata": {},
   "outputs": [
    {
     "name": "stdout",
     "output_type": "stream",
     "text": [
      "Epoch 1/20\n",
      "240/240 [==============================] - 1s 4ms/step - loss: 0.6465 - accuracy: 0.6827 - val_loss: 0.5591 - val_accuracy: 0.7620\n",
      "Epoch 2/20\n",
      "240/240 [==============================] - 1s 4ms/step - loss: 0.4804 - accuracy: 0.7921 - val_loss: 0.4283 - val_accuracy: 0.8086\n",
      "Epoch 3/20\n",
      "240/240 [==============================] - 1s 4ms/step - loss: 0.3952 - accuracy: 0.8286 - val_loss: 0.3925 - val_accuracy: 0.8236\n",
      "Epoch 4/20\n",
      "240/240 [==============================] - 1s 4ms/step - loss: 0.3625 - accuracy: 0.8444 - val_loss: 0.3829 - val_accuracy: 0.8270\n",
      "Epoch 5/20\n",
      "240/240 [==============================] - 1s 4ms/step - loss: 0.3442 - accuracy: 0.8526 - val_loss: 0.3803 - val_accuracy: 0.8305\n",
      "Epoch 6/20\n",
      "240/240 [==============================] - 1s 4ms/step - loss: 0.3316 - accuracy: 0.8586 - val_loss: 0.3815 - val_accuracy: 0.8311\n",
      "Epoch 7/20\n",
      "240/240 [==============================] - 1s 4ms/step - loss: 0.3222 - accuracy: 0.8634 - val_loss: 0.3836 - val_accuracy: 0.8314\n",
      "Epoch 8/20\n",
      "240/240 [==============================] - 1s 4ms/step - loss: 0.3149 - accuracy: 0.8664 - val_loss: 0.3863 - val_accuracy: 0.8309\n",
      "Epoch 9/20\n",
      "240/240 [==============================] - 1s 4ms/step - loss: 0.3090 - accuracy: 0.8695 - val_loss: 0.3894 - val_accuracy: 0.8309\n",
      "Epoch 10/20\n",
      "240/240 [==============================] - 1s 4ms/step - loss: 0.3043 - accuracy: 0.8712 - val_loss: 0.3924 - val_accuracy: 0.8299\n",
      "Epoch 11/20\n",
      "240/240 [==============================] - 1s 4ms/step - loss: 0.3007 - accuracy: 0.8734 - val_loss: 0.3962 - val_accuracy: 0.8296\n",
      "Epoch 12/20\n",
      "240/240 [==============================] - 1s 4ms/step - loss: 0.2974 - accuracy: 0.8748 - val_loss: 0.3989 - val_accuracy: 0.8288\n",
      "Epoch 13/20\n",
      "240/240 [==============================] - 1s 4ms/step - loss: 0.2949 - accuracy: 0.8756 - val_loss: 0.4023 - val_accuracy: 0.8277\n",
      "Epoch 14/20\n",
      "240/240 [==============================] - 1s 4ms/step - loss: 0.2926 - accuracy: 0.8771 - val_loss: 0.4052 - val_accuracy: 0.8279\n",
      "Epoch 15/20\n",
      "240/240 [==============================] - 1s 4ms/step - loss: 0.2905 - accuracy: 0.8784 - val_loss: 0.4082 - val_accuracy: 0.8277\n",
      "Epoch 16/20\n",
      "240/240 [==============================] - 1s 4ms/step - loss: 0.2888 - accuracy: 0.8786 - val_loss: 0.4103 - val_accuracy: 0.8278\n",
      "Epoch 17/20\n",
      "240/240 [==============================] - 1s 4ms/step - loss: 0.2872 - accuracy: 0.8800 - val_loss: 0.4128 - val_accuracy: 0.8277\n",
      "Epoch 18/20\n",
      "240/240 [==============================] - 1s 4ms/step - loss: 0.2858 - accuracy: 0.8808 - val_loss: 0.4141 - val_accuracy: 0.8277\n",
      "Epoch 19/20\n",
      "240/240 [==============================] - 1s 4ms/step - loss: 0.2847 - accuracy: 0.8816 - val_loss: 0.4162 - val_accuracy: 0.8272\n",
      "Epoch 20/20\n",
      "240/240 [==============================] - 1s 4ms/step - loss: 0.2835 - accuracy: 0.8821 - val_loss: 0.4186 - val_accuracy: 0.8273\n"
     ]
    }
   ],
   "source": [
    "model_g.compile(optimizer='adam',\n",
    "              loss='binary_crossentropy',\n",
    "              metrics=['accuracy'])\n",
    "epochs=20\n",
    "history_g_post = model_g.fit(X_train_post,\n",
    "                    y_train,\n",
    "                    epochs=epochs,\n",
    "                    batch_size=512,\n",
    "                    validation_data=(X_val_post, y_val),\n",
    "                    verbose=1)"
   ]
  },
  {
   "cell_type": "code",
   "execution_count": 30,
   "id": "36efe160",
   "metadata": {},
   "outputs": [
    {
     "name": "stdout",
     "output_type": "stream",
     "text": [
      "1537/1537 - 2s - loss: 0.4234 - accuracy: 0.8217\n",
      "[0.42344000935554504, 0.8216733932495117]\n"
     ]
    }
   ],
   "source": [
    "# 테스트셋으로 평가\n",
    "\n",
    "results = model_g.evaluate(X_test_post,  y_test, verbose=2)\n",
    "\n",
    "print(results)"
   ]
  },
  {
   "cell_type": "markdown",
   "id": "08349f27",
   "metadata": {},
   "source": [
    "__GlobalMaxpooling_pre padding__"
   ]
  },
  {
   "cell_type": "code",
   "execution_count": 31,
   "id": "4098c6cf",
   "metadata": {},
   "outputs": [
    {
     "name": "stdout",
     "output_type": "stream",
     "text": [
      "Epoch 1/20\n",
      "240/240 [==============================] - 1s 5ms/step - loss: 0.2826 - accuracy: 0.8822 - val_loss: 0.4200 - val_accuracy: 0.8271\n",
      "Epoch 2/20\n",
      "240/240 [==============================] - 1s 4ms/step - loss: 0.2817 - accuracy: 0.8828 - val_loss: 0.4220 - val_accuracy: 0.8268\n",
      "Epoch 3/20\n",
      "240/240 [==============================] - 1s 4ms/step - loss: 0.2808 - accuracy: 0.8830 - val_loss: 0.4244 - val_accuracy: 0.8262\n",
      "Epoch 4/20\n",
      "240/240 [==============================] - 1s 4ms/step - loss: 0.2802 - accuracy: 0.8838 - val_loss: 0.4270 - val_accuracy: 0.8258\n",
      "Epoch 5/20\n",
      "240/240 [==============================] - 1s 4ms/step - loss: 0.2794 - accuracy: 0.8836 - val_loss: 0.4274 - val_accuracy: 0.8253\n",
      "Epoch 6/20\n",
      "240/240 [==============================] - 1s 4ms/step - loss: 0.2788 - accuracy: 0.8842 - val_loss: 0.4287 - val_accuracy: 0.8259\n",
      "Epoch 7/20\n",
      "240/240 [==============================] - 1s 4ms/step - loss: 0.2781 - accuracy: 0.8846 - val_loss: 0.4297 - val_accuracy: 0.8245\n",
      "Epoch 8/20\n",
      "240/240 [==============================] - 1s 4ms/step - loss: 0.2776 - accuracy: 0.8848 - val_loss: 0.4311 - val_accuracy: 0.8246\n",
      "Epoch 9/20\n",
      "240/240 [==============================] - 1s 4ms/step - loss: 0.2770 - accuracy: 0.8847 - val_loss: 0.4323 - val_accuracy: 0.8248\n",
      "Epoch 10/20\n",
      "240/240 [==============================] - 1s 4ms/step - loss: 0.2765 - accuracy: 0.8853 - val_loss: 0.4332 - val_accuracy: 0.8243\n",
      "Epoch 11/20\n",
      "240/240 [==============================] - 1s 4ms/step - loss: 0.2759 - accuracy: 0.8858 - val_loss: 0.4359 - val_accuracy: 0.8234\n",
      "Epoch 12/20\n",
      "240/240 [==============================] - 1s 4ms/step - loss: 0.2755 - accuracy: 0.8858 - val_loss: 0.4364 - val_accuracy: 0.8241\n",
      "Epoch 13/20\n",
      "240/240 [==============================] - 1s 4ms/step - loss: 0.2751 - accuracy: 0.8864 - val_loss: 0.4375 - val_accuracy: 0.8241\n",
      "Epoch 14/20\n",
      "240/240 [==============================] - 1s 4ms/step - loss: 0.2747 - accuracy: 0.8864 - val_loss: 0.4391 - val_accuracy: 0.8247\n",
      "Epoch 15/20\n",
      "240/240 [==============================] - 1s 4ms/step - loss: 0.2743 - accuracy: 0.8864 - val_loss: 0.4395 - val_accuracy: 0.8238\n",
      "Epoch 16/20\n",
      "240/240 [==============================] - 1s 4ms/step - loss: 0.2738 - accuracy: 0.8870 - val_loss: 0.4409 - val_accuracy: 0.8226\n",
      "Epoch 17/20\n",
      "240/240 [==============================] - 1s 4ms/step - loss: 0.2734 - accuracy: 0.8869 - val_loss: 0.4419 - val_accuracy: 0.8232\n",
      "Epoch 18/20\n",
      "240/240 [==============================] - 1s 4ms/step - loss: 0.2729 - accuracy: 0.8872 - val_loss: 0.4417 - val_accuracy: 0.8233\n",
      "Epoch 19/20\n",
      "240/240 [==============================] - 1s 4ms/step - loss: 0.2726 - accuracy: 0.8875 - val_loss: 0.4429 - val_accuracy: 0.8240\n",
      "Epoch 20/20\n",
      "240/240 [==============================] - 1s 4ms/step - loss: 0.2721 - accuracy: 0.8877 - val_loss: 0.4440 - val_accuracy: 0.8227\n"
     ]
    }
   ],
   "source": [
    "history_g_pre = model_g.fit(X_train_pre,\n",
    "                    y_train,\n",
    "                    epochs=epochs,\n",
    "                    batch_size=512,\n",
    "                    validation_data=(X_val_pre, y_val),\n",
    "                    verbose=1)"
   ]
  },
  {
   "cell_type": "code",
   "execution_count": 32,
   "id": "e2f56a75",
   "metadata": {},
   "outputs": [
    {
     "name": "stdout",
     "output_type": "stream",
     "text": [
      "1537/1537 - 2s - loss: 0.4470 - accuracy: 0.8179\n",
      "[0.44704344868659973, 0.8178896307945251]\n"
     ]
    }
   ],
   "source": [
    "# 테스트셋으로 평가\n",
    "\n",
    "results = model_g.evaluate(X_test_pre,  y_test, verbose=2)\n",
    "\n",
    "print(results)"
   ]
  },
  {
   "cell_type": "markdown",
   "id": "1a449568",
   "metadata": {},
   "source": [
    "## Step 6) Loss, Accuracy 그래프 시각화"
   ]
  },
  {
   "cell_type": "markdown",
   "id": "8a41940e",
   "metadata": {},
   "source": [
    "__RNN_post__"
   ]
  },
  {
   "cell_type": "code",
   "execution_count": 33,
   "id": "5be62f09",
   "metadata": {},
   "outputs": [
    {
     "name": "stdout",
     "output_type": "stream",
     "text": [
      "dict_keys(['loss', 'accuracy', 'val_loss', 'val_accuracy'])\n"
     ]
    }
   ],
   "source": [
    "history_dict = history_rnn_post.history\n",
    "print(history_dict.keys())"
   ]
  },
  {
   "cell_type": "code",
   "execution_count": 34,
   "id": "00871211",
   "metadata": {},
   "outputs": [
    {
     "data": {
      "image/png": "[encoded data removed]",
      "text/plain": [
       "<Figure size 432x288 with 1 Axes>"
      ]
     },
     "metadata": {
      "needs_background": "light"
     },
     "output_type": "display_data"
    }
   ],
   "source": [
    "import matplotlib.pyplot as plt\n",
    "\n",
    "acc = history_dict['accuracy']\n",
    "val_acc = history_dict['val_accuracy']\n",
    "loss = history_dict['loss']\n",
    "val_loss = history_dict['val_loss']\n",
    "\n",
    "epochs = range(1, len(acc) + 1)\n",
    "\n",
    "# \"bo\"는 \"파란색 점\"입니다\n",
    "plt.plot(epochs, loss, 'bo', label='Training loss')\n",
    "# b는 \"파란 실선\"입니다\n",
    "plt.plot(epochs, val_loss, 'b', label='Validation loss')\n",
    "plt.title('Training and validation loss of RNN_post')\n",
    "plt.xlabel('Epochs')\n",
    "plt.ylabel('Loss')\n",
    "plt.legend()\n",
    "\n",
    "plt.show()"
   ]
  },
  {
   "cell_type": "markdown",
   "id": "efb9d1c8",
   "metadata": {},
   "source": [
    "__RNN_pre__"
   ]
  },
  {
   "cell_type": "code",
   "execution_count": 35,
   "id": "f203daa9",
   "metadata": {},
   "outputs": [
    {
     "data": {
      "image/png": "[encoded data removed]",
      "text/plain": [
       "<Figure size 432x288 with 1 Axes>"
      ]
     },
     "metadata": {
      "needs_background": "light"
     },
     "output_type": "display_data"
    }
   ],
   "source": [
    "history_dict = history_rnn_pre.history\n",
    "acc = history_dict['accuracy']\n",
    "val_acc = history_dict['val_accuracy']\n",
    "loss = history_dict['loss']\n",
    "val_loss = history_dict['val_loss']\n",
    "\n",
    "epochs = range(1, len(acc) + 1)\n",
    "\n",
    "# \"bo\"는 \"파란색 점\"입니다\n",
    "plt.plot(epochs, loss, 'bo', label='Training loss')\n",
    "# b는 \"파란 실선\"입니다\n",
    "plt.plot(epochs, val_loss, 'b', label='Validation loss')\n",
    "plt.title('Training and validation loss of RNN_pre')\n",
    "plt.xlabel('Epochs')\n",
    "plt.ylabel('Loss')\n",
    "plt.legend()\n",
    "\n",
    "plt.show()"
   ]
  },
  {
   "cell_type": "markdown",
   "id": "69f3c545",
   "metadata": {},
   "source": [
    "__1D-CNN_post__"
   ]
  },
  {
   "cell_type": "code",
   "execution_count": 36,
   "id": "c548840b",
   "metadata": {},
   "outputs": [
    {
     "data": {
      "image/png": "[encoded data removed]",
      "text/plain": [
       "<Figure size 432x288 with 1 Axes>"
      ]
     },
     "metadata": {
      "needs_background": "light"
     },
     "output_type": "display_data"
    }
   ],
   "source": [
    "history_dict = history_1dcnn_post.history\n",
    "acc = history_dict['accuracy']\n",
    "val_acc = history_dict['val_accuracy']\n",
    "loss = history_dict['loss']\n",
    "val_loss = history_dict['val_loss']\n",
    "\n",
    "epochs = range(1, len(acc) + 1)\n",
    "\n",
    "# \"bo\"는 \"파란색 점\"입니다\n",
    "plt.plot(epochs, loss, 'bo', label='Training loss')\n",
    "# b는 \"파란 실선\"입니다\n",
    "plt.plot(epochs, val_loss, 'b', label='Validation loss')\n",
    "plt.title('Training and validation loss of 1DCNN_post')\n",
    "plt.xlabel('Epochs')\n",
    "plt.ylabel('Loss')\n",
    "plt.legend()\n",
    "\n",
    "plt.show()"
   ]
  },
  {
   "cell_type": "markdown",
   "id": "782c62b8",
   "metadata": {},
   "source": [
    "__1D-CNN_pre__"
   ]
  },
  {
   "cell_type": "code",
   "execution_count": 37,
   "id": "6cbb8222",
   "metadata": {},
   "outputs": [
    {
     "data": {
      "image/png": "[encoded data removed]",
      "text/plain": [
       "<Figure size 432x288 with 1 Axes>"
      ]
     },
     "metadata": {
      "needs_background": "light"
     },
     "output_type": "display_data"
    }
   ],
   "source": [
    "history_dict = history_1dcnn_pre.history\n",
    "acc = history_dict['accuracy']\n",
    "val_acc = history_dict['val_accuracy']\n",
    "loss = history_dict['loss']\n",
    "val_loss = history_dict['val_loss']\n",
    "\n",
    "epochs = range(1, len(acc) + 1)\n",
    "\n",
    "# \"bo\"는 \"파란색 점\"입니다\n",
    "plt.plot(epochs, loss, 'bo', label='Training loss')\n",
    "# b는 \"파란 실선\"입니다\n",
    "plt.plot(epochs, val_loss, 'b', label='Validation loss')\n",
    "plt.title('Training and validation loss of 1DCNN_pre')\n",
    "plt.xlabel('Epochs')\n",
    "plt.ylabel('Loss')\n",
    "plt.legend()\n",
    "\n",
    "plt.show()"
   ]
  },
  {
   "cell_type": "markdown",
   "id": "547307c9",
   "metadata": {},
   "source": [
    "__Global Maxpooling_post__"
   ]
  },
  {
   "cell_type": "code",
   "execution_count": 38,
   "id": "9518abc4",
   "metadata": {},
   "outputs": [
    {
     "data": {
      "image/png": "[encoded data removed]",
      "text/plain": [
       "<Figure size 432x288 with 1 Axes>"
      ]
     },
     "metadata": {
      "needs_background": "light"
     },
     "output_type": "display_data"
    }
   ],
   "source": [
    "history_dict = history_g_post.history\n",
    "acc = history_dict['accuracy']\n",
    "val_acc = history_dict['val_accuracy']\n",
    "loss = history_dict['loss']\n",
    "val_loss = history_dict['val_loss']\n",
    "\n",
    "epochs = range(1, len(acc) + 1)\n",
    "\n",
    "# \"bo\"는 \"파란색 점\"입니다\n",
    "plt.plot(epochs, loss, 'bo', label='Training loss')\n",
    "# b는 \"파란 실선\"입니다\n",
    "plt.plot(epochs, val_loss, 'b', label='Validation loss')\n",
    "plt.title('Training and validation loss of GlobalMaxPooling_post')\n",
    "plt.xlabel('Epochs')\n",
    "plt.ylabel('Loss')\n",
    "plt.legend()\n",
    "\n",
    "plt.show()"
   ]
  },
  {
   "cell_type": "markdown",
   "id": "a0253337",
   "metadata": {},
   "source": [
    "__Global Maxpooling_pre__"
   ]
  },
  {
   "cell_type": "code",
   "execution_count": 39,
   "id": "dd60ff6c",
   "metadata": {},
   "outputs": [
    {
     "data": {
      "image/png": "[encoded data removed]",
      "text/plain": [
       "<Figure size 432x288 with 1 Axes>"
      ]
     },
     "metadata": {
      "needs_background": "light"
     },
     "output_type": "display_data"
    }
   ],
   "source": [
    "history_dict = history_g_pre.history\n",
    "acc = history_dict['accuracy']\n",
    "val_acc = history_dict['val_accuracy']\n",
    "loss = history_dict['loss']\n",
    "val_loss = history_dict['val_loss']\n",
    "\n",
    "epochs = range(1, len(acc) + 1)\n",
    "\n",
    "# \"bo\"는 \"파란색 점\"입니다\n",
    "plt.plot(epochs, loss, 'bo', label='Training loss')\n",
    "# b는 \"파란 실선\"입니다\n",
    "plt.plot(epochs, val_loss, 'b', label='Validation loss')\n",
    "plt.title('Training and validation loss of GlobalMaxPooling_pre')\n",
    "plt.xlabel('Epochs')\n",
    "plt.ylabel('Loss')\n",
    "plt.legend()\n",
    "\n",
    "plt.show()"
   ]
  },
  {
   "cell_type": "markdown",
   "id": "d7ff0785",
   "metadata": {},
   "source": [
    "* 대체로 post padding이 pre padding보다 과적합되는 경향이 약하고\n",
    "* "
   ]
  },
  {
   "cell_type": "markdown",
   "id": "31f457f1",
   "metadata": {},
   "source": [
    "## Step 7) Embedding 레이어 분석"
   ]
  },
  {
   "cell_type": "markdown",
   "id": "69a86da1",
   "metadata": {},
   "source": [
    "__RNN__"
   ]
  },
  {
   "cell_type": "code",
   "execution_count": 40,
   "id": "038ce0b0",
   "metadata": {},
   "outputs": [
    {
     "name": "stdout",
     "output_type": "stream",
     "text": [
      "(10000, 4)\n"
     ]
    }
   ],
   "source": [
    "embedding_layer = model_rnn.layers[0]\n",
    "weights = embedding_layer.get_weights()[0]\n",
    "print(weights.shape)"
   ]
  },
  {
   "cell_type": "code",
   "execution_count": 41,
   "id": "b54b43a1",
   "metadata": {},
   "outputs": [],
   "source": [
    "import os\n",
    "# 학습한 Embedding 파라미터를 파일에 써서 저장합니다. \n",
    "word2vec_file_path = os.getenv('HOME')+'/aiffel/sentiment_classification/data/word2vec_rnn.txt'\n",
    "f = open(word2vec_file_path, 'w')\n",
    "f.write('{} {}\\n'.format(vocab_size-4, word_vector_dim))  # 몇개의 벡터를 얼마 사이즈로 기재할지.\n",
    "\n",
    "# 단어 개수(에서 특수문자 4개는 제외하고)만큼의 워드 벡터를 파일에 기록. \n",
    "vectors = model_rnn.get_weights()[0]\n",
    "for i in range(4,vocab_size):\n",
    "    f.write('{} {}\\n'.format(index_to_word[i], ' '.join(map(str, list(vectors[i, :])))))\n",
    "f.close()"
   ]
  },
  {
   "cell_type": "markdown",
   "id": "97505f0e",
   "metadata": {},
   "source": [
    "gensim에서 제공하는 패키지를 이용해, 위에 남긴 임베딩 파라미터를 읽어서 word vector로 활용"
   ]
  },
  {
   "cell_type": "code",
   "execution_count": 42,
   "id": "09be6e84",
   "metadata": {},
   "outputs": [
    {
     "data": {
      "text/plain": [
       "array([-0.5551682 ,  0.36296365,  0.9383114 , -0.29103965], dtype=float32)"
      ]
     },
     "execution_count": 42,
     "metadata": {},
     "output_type": "execute_result"
    }
   ],
   "source": [
    "from gensim.models.keyedvectors import Word2VecKeyedVectors\n",
    "\n",
    "word_vectors = Word2VecKeyedVectors.load_word2vec_format(word2vec_file_path, binary=False)\n",
    "vector = word_vectors['love']\n",
    "vector"
   ]
  },
  {
   "cell_type": "code",
   "execution_count": 43,
   "id": "eea8c908",
   "metadata": {},
   "outputs": [
    {
     "data": {
      "text/plain": [
       "[('이럼', 0.9999022483825684),\n",
       " ('룡', 0.9999018311500549),\n",
       " ('톰크루즈', 0.999813437461853),\n",
       " ('들어온', 0.9996839761734009),\n",
       " ('흠뻑', 0.9996685981750488),\n",
       " ('들어야', 0.9996529817581177),\n",
       " ('한꺼번에', 0.999643087387085),\n",
       " ('톡', 0.9995490908622742),\n",
       " ('쿠바', 0.9994935989379883),\n",
       " ('졸이', 0.999473512172699)]"
      ]
     },
     "execution_count": 43,
     "metadata": {},
     "output_type": "execute_result"
    }
   ],
   "source": [
    "word_vectors.similar_by_word(\"love\")"
   ]
  },
  {
   "cell_type": "markdown",
   "id": "1f784ee3",
   "metadata": {},
   "source": [
    "__1D-CNN__"
   ]
  },
  {
   "cell_type": "code",
   "execution_count": 44,
   "id": "222c777f",
   "metadata": {},
   "outputs": [
    {
     "name": "stdout",
     "output_type": "stream",
     "text": [
      "(10000, 4)\n"
     ]
    }
   ],
   "source": [
    "embedding_layer = model_1dcnn.layers[0]\n",
    "weights = embedding_layer.get_weights()[0]\n",
    "print(weights.shape)"
   ]
  },
  {
   "cell_type": "code",
   "execution_count": 45,
   "id": "bd310c13",
   "metadata": {},
   "outputs": [],
   "source": [
    "# 학습한 Embedding 파라미터를 파일에 써서 저장합니다. \n",
    "word2vec_file_path = os.getenv('HOME')+'/aiffel/sentiment_classification/data/word2vec_1dcnn.txt'\n",
    "f = open(word2vec_file_path, 'w')\n",
    "f.write('{} {}\\n'.format(vocab_size-4, word_vector_dim))  # 몇개의 벡터를 얼마 사이즈로 기재할지.\n",
    "\n",
    "# 단어 개수(에서 특수문자 4개는 제외하고)만큼의 워드 벡터를 파일에 기록. \n",
    "vectors = model_1dcnn.get_weights()[0]\n",
    "for i in range(4,vocab_size):\n",
    "    f.write('{} {}\\n'.format(index_to_word[i], ' '.join(map(str, list(vectors[i, :])))))\n",
    "f.close()"
   ]
  },
  {
   "cell_type": "code",
   "execution_count": 46,
   "id": "f4c1c6b3",
   "metadata": {},
   "outputs": [
    {
     "data": {
      "text/plain": [
       "array([-0.38105103,  0.26466984, -0.02340504, -0.3324726 ], dtype=float32)"
      ]
     },
     "execution_count": 46,
     "metadata": {},
     "output_type": "execute_result"
    }
   ],
   "source": [
    "word_vectors = Word2VecKeyedVectors.load_word2vec_format(word2vec_file_path, binary=False)\n",
    "vector = word_vectors['love']\n",
    "vector"
   ]
  },
  {
   "cell_type": "code",
   "execution_count": 47,
   "id": "c888a801",
   "metadata": {},
   "outputs": [
    {
     "data": {
      "text/plain": [
       "[('위력', 0.9973259568214417),\n",
       " ('브라이언', 0.9969950318336487),\n",
       " ('있', 0.9968870878219604),\n",
       " ('봣어요', 0.9965648651123047),\n",
       " ('두려워', 0.9961284399032593),\n",
       " ('영상미', 0.9960184693336487),\n",
       " ('만하다', 0.9958329200744629),\n",
       " ('호랑이', 0.9956813454627991),\n",
       " ('미래', 0.9949573278427124),\n",
       " ('삽입곡', 0.994900107383728)]"
      ]
     },
     "execution_count": 47,
     "metadata": {},
     "output_type": "execute_result"
    }
   ],
   "source": [
    "word_vectors.similar_by_word(\"love\")"
   ]
  },
  {
   "cell_type": "markdown",
   "id": "e1b5e34d",
   "metadata": {},
   "source": [
    "__Global maxpooling__"
   ]
  },
  {
   "cell_type": "code",
   "execution_count": 48,
   "id": "c590902c",
   "metadata": {},
   "outputs": [
    {
     "name": "stdout",
     "output_type": "stream",
     "text": [
      "(10000, 4)\n"
     ]
    }
   ],
   "source": [
    "embedding_layer = model_1dcnn.layers[0]\n",
    "weights = embedding_layer.get_weights()[0]\n",
    "print(weights.shape)"
   ]
  },
  {
   "cell_type": "code",
   "execution_count": 49,
   "id": "17b4107a",
   "metadata": {},
   "outputs": [],
   "source": [
    "# 학습한 Embedding 파라미터를 파일에 써서 저장합니다. \n",
    "word2vec_file_path = os.getenv('HOME')+'/aiffel/sentiment_classification/data/word2vec_global.txt'\n",
    "f = open(word2vec_file_path, 'w')\n",
    "f.write('{} {}\\n'.format(vocab_size-4, word_vector_dim))  # 몇개의 벡터를 얼마 사이즈로 기재할지.\n",
    "\n",
    "# 단어 개수(에서 특수문자 4개는 제외하고)만큼의 워드 벡터를 파일에 기록. \n",
    "vectors = model_g.get_weights()[0]\n",
    "for i in range(4,vocab_size):\n",
    "    f.write('{} {}\\n'.format(index_to_word[i], ' '.join(map(str, list(vectors[i, :])))))\n",
    "f.close()"
   ]
  },
  {
   "cell_type": "code",
   "execution_count": 50,
   "id": "f9834323",
   "metadata": {},
   "outputs": [
    {
     "data": {
      "text/plain": [
       "array([ 0.19742286, -0.28961915,  0.2828887 ,  0.05673553], dtype=float32)"
      ]
     },
     "execution_count": 50,
     "metadata": {},
     "output_type": "execute_result"
    }
   ],
   "source": [
    "word_vectors = Word2VecKeyedVectors.load_word2vec_format(word2vec_file_path, binary=False)\n",
    "vector = word_vectors['love']\n",
    "vector"
   ]
  },
  {
   "cell_type": "code",
   "execution_count": 51,
   "id": "f333277b",
   "metadata": {},
   "outputs": [
    {
     "data": {
      "text/plain": [
       "[('이여', 0.9985957145690918),\n",
       " ('생각났', 0.9962134957313538),\n",
       " ('이색', 0.9949657320976257),\n",
       " ('주의자', 0.993149995803833),\n",
       " ('입가', 0.992662787437439),\n",
       " ('황홀', 0.9924983382225037),\n",
       " ('흐뭇', 0.9922102093696594),\n",
       " ('자격', 0.99138343334198),\n",
       " ('눈시울', 0.9913116097450256),\n",
       " ('각인', 0.9911538362503052)]"
      ]
     },
     "execution_count": 51,
     "metadata": {},
     "output_type": "execute_result"
    }
   ],
   "source": [
    "word_vectors.similar_by_word(\"love\")"
   ]
  },
  {
   "cell_type": "markdown",
   "id": "5539cd47",
   "metadata": {},
   "source": [
    "## Step 8) Word2Vec 임베딩 활용하여 성능 개선"
   ]
  },
  {
   "cell_type": "code",
   "execution_count": 69,
   "id": "f95a0424",
   "metadata": {},
   "outputs": [
    {
     "data": {
      "text/plain": [
       "array([ 0.10302734, -0.15234375,  0.02587891,  0.16503906, -0.16503906,\n",
       "        0.06689453,  0.29296875, -0.26367188, -0.140625  ,  0.20117188,\n",
       "       -0.02624512, -0.08203125, -0.02770996, -0.04394531, -0.23535156,\n",
       "        0.16992188,  0.12890625,  0.15722656,  0.00756836, -0.06982422,\n",
       "       -0.03857422,  0.07958984,  0.22949219, -0.14355469,  0.16796875,\n",
       "       -0.03515625,  0.05517578,  0.10693359,  0.11181641, -0.16308594,\n",
       "       -0.11181641,  0.13964844,  0.01556396,  0.12792969,  0.15429688,\n",
       "        0.07714844,  0.26171875,  0.08642578, -0.02514648,  0.33398438,\n",
       "        0.18652344, -0.20996094,  0.07080078,  0.02600098, -0.10644531,\n",
       "       -0.10253906,  0.12304688,  0.04711914,  0.02209473,  0.05834961,\n",
       "       -0.10986328,  0.14941406, -0.10693359,  0.01556396,  0.08984375,\n",
       "        0.11230469, -0.04370117, -0.11376953, -0.0037384 , -0.01818848,\n",
       "        0.24316406,  0.08447266, -0.07080078,  0.18066406,  0.03515625,\n",
       "       -0.09667969, -0.21972656, -0.00328064, -0.03198242,  0.18457031,\n",
       "        0.28515625, -0.0859375 , -0.11181641,  0.0213623 , -0.30664062,\n",
       "       -0.09228516, -0.18945312,  0.01513672,  0.18554688,  0.34375   ,\n",
       "       -0.31054688,  0.22558594,  0.08740234, -0.2265625 , -0.29492188,\n",
       "        0.08251953, -0.38476562,  0.25390625,  0.26953125,  0.06298828,\n",
       "       -0.00958252,  0.23632812, -0.17871094, -0.12451172, -0.17285156,\n",
       "       -0.11767578,  0.19726562, -0.03466797, -0.10400391, -0.1640625 ,\n",
       "       -0.19726562,  0.19824219,  0.09521484,  0.00561523,  0.12597656,\n",
       "        0.00073624, -0.0402832 , -0.03063965,  0.01623535, -0.1640625 ,\n",
       "       -0.22167969,  0.171875  ,  0.12011719, -0.01965332,  0.4453125 ,\n",
       "        0.06494141,  0.05932617, -0.1640625 , -0.01367188,  0.18945312,\n",
       "        0.05566406, -0.05004883, -0.01422119,  0.15917969,  0.07421875,\n",
       "       -0.31640625, -0.0534668 , -0.02355957, -0.16992188,  0.0625    ,\n",
       "       -0.140625  , -0.13183594, -0.12792969,  0.12060547,  0.05883789,\n",
       "       -0.00055695,  0.05761719, -0.08447266,  0.16992188,  0.13671875,\n",
       "       -0.09375   ,  0.08056641, -0.04003906, -0.03759766, -0.26367188,\n",
       "        0.00662231, -0.01928711,  0.09423828, -0.13183594, -0.27929688,\n",
       "        0.27734375,  0.31835938,  0.10058594,  0.11425781, -0.27734375,\n",
       "        0.11035156, -0.06982422, -0.0859375 , -0.11132812, -0.27929688,\n",
       "       -0.07763672,  0.05102539, -0.06176758,  0.44921875,  0.01867676,\n",
       "       -0.15039062,  0.13671875, -0.15039062, -0.2265625 ,  0.11914062,\n",
       "        0.06005859, -0.0390625 , -0.10839844,  0.02905273,  0.02331543,\n",
       "        0.13183594,  0.01000977,  0.03149414, -0.12597656, -0.13671875,\n",
       "       -0.30664062, -0.28515625,  0.09863281, -0.00564575, -0.08398438,\n",
       "       -0.16015625, -0.14453125, -0.18261719,  0.10009766,  0.04345703,\n",
       "        0.10644531,  0.16503906,  0.06298828,  0.17578125,  0.15820312,\n",
       "        0.125     ,  0.171875  , -0.05664062, -0.09033203, -0.21289062,\n",
       "       -0.0390625 , -0.03320312, -0.18652344, -0.18945312, -0.01818848,\n",
       "       -0.03051758, -0.17675781,  0.15234375,  0.01953125,  0.01696777,\n",
       "       -0.10839844,  0.18066406,  0.00497437, -0.11621094, -0.19824219,\n",
       "       -0.19140625,  0.21386719,  0.08984375, -0.16308594, -0.00325012,\n",
       "       -0.07128906,  0.08251953,  0.02160645,  0.10107422, -0.29101562,\n",
       "       -0.04785156, -0.03369141, -0.14453125, -0.06396484, -0.12451172,\n",
       "       -0.24804688,  0.09277344,  0.01165771,  0.24707031,  0.3828125 ,\n",
       "        0.02429199, -0.12255859,  0.00259399, -0.015625  ,  0.00540161,\n",
       "        0.04736328, -0.00744629, -0.18261719,  0.21972656, -0.16601562,\n",
       "        0.359375  ,  0.05297852, -0.03808594, -0.10400391, -0.18457031,\n",
       "        0.07470703,  0.2734375 ,  0.28320312,  0.15234375,  0.05126953,\n",
       "       -0.15429688, -0.15722656, -0.21582031, -0.19824219,  0.09960938,\n",
       "       -0.09179688,  0.07519531, -0.02441406,  0.17382812, -0.11279297,\n",
       "        0.00219727,  0.07470703, -0.02307129,  0.08642578,  0.16601562,\n",
       "        0.07763672,  0.14746094,  0.15429688,  0.11425781,  0.14550781,\n",
       "       -0.24023438, -0.2109375 ,  0.07421875, -0.14746094, -0.08642578,\n",
       "        0.16113281, -0.07128906,  0.109375  ,  0.17675781,  0.18554688,\n",
       "       -0.15820312, -0.2265625 ,  0.15039062, -0.08544922,  0.09130859,\n",
       "       -0.03198242,  0.13476562, -0.15136719, -0.42773438, -0.03442383,\n",
       "       -0.27929688,  0.125     , -0.19824219, -0.12304688,  0.06494141],\n",
       "      dtype=float32)"
      ]
     },
     "execution_count": 69,
     "metadata": {},
     "output_type": "execute_result"
    }
   ],
   "source": [
    "from gensim.models import KeyedVectors\n",
    "\n",
    "word2vec_path = os.getenv('HOME')+'/aiffel/sentiment_classification/data/GoogleNews-vectors-negative300.bin.gz'\n",
    "word2vec = KeyedVectors.load_word2vec_format(word2vec_path, binary=True, limit=1000000)\n",
    "vector = word2vec['love']\n",
    "vector     # 300dim의 워드 벡터"
   ]
  },
  {
   "cell_type": "markdown",
   "id": "ae05e57e",
   "metadata": {},
   "source": [
    " 이전 스텝에서 학습했던 모델의 임베딩 레이어를 Word2Vec의 것으로 교체하여 다시 학습"
   ]
  },
  {
   "cell_type": "code",
   "execution_count": null,
   "id": "02459048",
   "metadata": {},
   "outputs": [],
   "source": [
    "word2vec.similar_by_word['사랑']"
   ]
  },
  {
   "cell_type": "markdown",
   "id": "3ca3d1b7",
   "metadata": {},
   "source": [
    "__RNN__"
   ]
  },
  {
   "cell_type": "code",
   "execution_count": null,
   "id": "30356a33",
   "metadata": {},
   "outputs": [],
   "source": [
    "from tensorflow.keras.initializers import Constant\n",
    "\n",
    "vocab_size = 10000    # 어휘 사전의 크기입니다(10,000개의 단어)\n",
    "word_vector_dim = 300  # 워드 벡터의 차원 수 \n",
    "\n",
    "# 모델 구성\n",
    "model_rnn = tf.keras.Sequential()\n",
    "model_rnn.add(tf.keras.layers.Embedding(vocab_size, \n",
    "                                        word_vector_dim, \n",
    "                                        # 카피한 임베딩을 여기서 활용\n",
    "                                        embeddings_initializer=Constant(embedding_matrix),\n",
    "                                        input_length=maxlen,\n",
    "                                        # trainable을 True로 주면 Fine-tuning\n",
    "                                        trainable=True))\n",
    "model_rnn.add(tf.keras.layers.LSTM(8))\n",
    "model_rnn.add(tf.keras.layers.Dense(8, activation='relu'))\n",
    "model_rnn.add(tf.keras.layers.Dense(1, activation='sigmoid'))\n",
    "\n",
    "model_rnn.summary()"
   ]
  },
  {
   "cell_type": "code",
   "execution_count": null,
   "id": "50e3d856",
   "metadata": {},
   "outputs": [],
   "source": [
    "# 학습 진행\n",
    "model_rnn.compile(optimizer='adam',\n",
    "              loss='binary_crossentropy',\n",
    "              metrics=['accuracy'])\n",
    "              \n",
    "epochs=20\n",
    "\n",
    "history = model_rnn.fit(X_train_post,\n",
    "                    y_train,\n",
    "                    epochs=epochs,\n",
    "                    batch_size=512,\n",
    "                    validation_data=(X_val_post, y_val),\n",
    "                    verbose=1)"
   ]
  },
  {
   "cell_type": "code",
   "execution_count": null,
   "id": "87c34eff",
   "metadata": {},
   "outputs": [],
   "source": [
    "# 테스트셋을 통한 모델 평가\n",
    "results = model_rnn.evaluate(X_test_post,  y_test, verbose=2)\n",
    "\n",
    "print(results)"
   ]
  },
  {
   "cell_type": "markdown",
   "id": "db814cc4",
   "metadata": {},
   "source": [
    "__1D CNN__"
   ]
  },
  {
   "cell_type": "code",
   "execution_count": null,
   "id": "8303da4b",
   "metadata": {},
   "outputs": [],
   "source": [
    "vocab_size = 10000\n",
    "word_vector_dim = 4\n",
    "\n",
    "model_1dcnn = tf.keras.Sequential()\n",
    "model_1dcnn.add(tf.keras.layers.Embedding(vocab_size, \n",
    "                                        word_vector_dim, \n",
    "                                        embeddings_initializer=Constant(embedding_matrix),\n",
    "                                        input_length=maxlen,\n",
    "                                        trainable=True))\n",
    "model_1dcnn.add(tf.keras.layers.Conv1D(16,7, activation='relu'))\n",
    "model_1dcnn.add(tf.keras.layers.MaxPooling1D(5))\n",
    "model_1dcnn.add(tf.keras.layers.Conv1D(16,7, activation='relu'))\n",
    "model_1dcnn.add(tf.keras.layers.GlobalMaxPooling1D())\n",
    "model_1dcnn.add(tf.keras.layers.Dense(8, activation='relu'))\n",
    "model_1dcnn.add(tf.keras.layers.Dense(1, activation='sigmoid'))\n",
    "\n",
    "model_1dcnn.summary()"
   ]
  },
  {
   "cell_type": "code",
   "execution_count": null,
   "id": "cd01e1ba",
   "metadata": {},
   "outputs": [],
   "source": [
    "# 학습 진행\n",
    "model_1dcnn.compile(optimizer='adam',\n",
    "              loss='binary_crossentropy',\n",
    "              metrics=['accuracy'])\n",
    "              \n",
    "epochs=20\n",
    "\n",
    "history = model_1dcnn.fit(X_train_post,\n",
    "                    y_train,\n",
    "                    epochs=epochs,\n",
    "                    batch_size=512,\n",
    "                    validation_data=(X_val_post, y_val),\n",
    "                    verbose=1)"
   ]
  },
  {
   "cell_type": "code",
   "execution_count": null,
   "id": "9c22b6ae",
   "metadata": {},
   "outputs": [],
   "source": [
    "# 테스트셋을 통한 모델 평가\n",
    "results = model_1dcnn.evaluate(X_test_post,  y_test, verbose=2)\n",
    "\n",
    "print(results)"
   ]
  },
  {
   "cell_type": "markdown",
   "id": "caa966ab",
   "metadata": {},
   "source": [
    "__Global MaxPooling__"
   ]
  },
  {
   "cell_type": "code",
   "execution_count": null,
   "id": "bd520d27",
   "metadata": {},
   "outputs": [],
   "source": [
    "vocab_size = 10000 \n",
    "word_vector_dim = 4  \n",
    "\n",
    "model_g = tf.keras.Sequential()\n",
    "model_g.add(tf.keras.layers.Embedding(vocab_size, \n",
    "                                        word_vector_dim, \n",
    "                                        embeddings_initializer=Constant(embedding_matrix),\n",
    "                                        input_length=maxlen,\n",
    "                                        trainable=True))\n",
    "model_g.add(tf.keras.layers.GlobalMaxPooling1D())\n",
    "model_g.add(tf.keras.layers.Dense(8, activation='relu'))\n",
    "model_g.add(tf.keras.layers.Dense(1, activation='sigmoid'))\n",
    "\n",
    "model_g.summary()"
   ]
  },
  {
   "cell_type": "code",
   "execution_count": null,
   "id": "2214b953",
   "metadata": {},
   "outputs": [],
   "source": [
    "# 학습 진행\n",
    "model_g.compile(optimizer='adam',\n",
    "              loss='binary_crossentropy',\n",
    "              metrics=['accuracy'])\n",
    "              \n",
    "epochs=20\n",
    "\n",
    "history = model_g.fit(X_train_post,\n",
    "                    y_train,\n",
    "                    epochs=epochs,\n",
    "                    batch_size=512,\n",
    "                    validation_data=(X_val_post, y_val),\n",
    "                    verbose=1)"
   ]
  },
  {
   "cell_type": "code",
   "execution_count": null,
   "id": "4f52dc8f",
   "metadata": {},
   "outputs": [],
   "source": [
    "# 테스트셋을 통한 모델 평가\n",
    "results = model_g.evaluate(X_test_post,  y_test, verbose=2)\n",
    "\n",
    "print(results)"
   ]
  },
  {
   "cell_type": "markdown",
   "id": "0e354dd5",
   "metadata": {},
   "source": [
    "* post padding의 overfitting 정도가 낮았기 때문에 모두 post padding된 데이터 셋을 활용해서 평가하였음"
   ]
  },
  {
   "cell_type": "markdown",
   "id": "06580d09",
   "metadata": {},
   "source": [
    "### RNN 모델 성능 향상시도\n",
    "\n",
    "* 단어를 표현하는 워드벡터 차원수 증가시켜서 더 많은 정보 담아보기\n",
    "* 은닉층과 출력층 사이에 Dropout layer 추가해보기\n",
    "* Bidirectional LSTM 사용해보기"
   ]
  },
  {
   "cell_type": "code",
   "execution_count": 62,
   "id": "6f0a6610",
   "metadata": {
    "scrolled": true
   },
   "outputs": [],
   "source": [
    "from gensim.models.keyedvectors import Word2VecKeyedVectors\n",
    "word2vec_file_path = os.getenv('HOME')+'/data/word2vec_ko.model'\n",
    "word_vectors = Word2VecKeyedVectors.load(word2vec_file_path)\n"
   ]
  },
  {
   "cell_type": "code",
   "execution_count": 66,
   "id": "f7b1a359",
   "metadata": {},
   "outputs": [
    {
     "data": {
      "text/plain": [
       "(100,)"
      ]
     },
     "execution_count": 66,
     "metadata": {},
     "output_type": "execute_result"
    }
   ],
   "source": [
    "vector = word_vectors.wv['사랑']\n",
    "vector.shape"
   ]
  },
  {
   "cell_type": "code",
   "execution_count": 70,
   "id": "cbe1a9bb",
   "metadata": {},
   "outputs": [],
   "source": [
    "vocab_size=10000\n",
    "word_vector_dim = 100\n",
    "embedding_matrix=np.random.rand(vocab_size, word_vector_dim)\n",
    "\n",
    "for i in range(4,vocab_size):\n",
    "    if index_to_word[i] in word_vectors.wv:\n",
    "        embedding_matrix[i] = word_vectors.wv[index_to_word[i]]"
   ]
  },
  {
   "cell_type": "code",
   "execution_count": 72,
   "id": "7934dd67",
   "metadata": {},
   "outputs": [
    {
     "name": "stdout",
     "output_type": "stream",
     "text": [
      "Model: \"sequential_6\"\n",
      "_________________________________________________________________\n",
      "Layer (type)                 Output Shape              Param #   \n",
      "=================================================================\n",
      "embedding_5 (Embedding)      (None, 48, 100)           1000000   \n",
      "_________________________________________________________________\n",
      "bidirectional (Bidirectional (None, 48, 20)            8880      \n",
      "_________________________________________________________________\n",
      "bidirectional_1 (Bidirection (None, 20)                2480      \n",
      "_________________________________________________________________\n",
      "dense_6 (Dense)              (None, 8)                 168       \n",
      "_________________________________________________________________\n",
      "dropout (Dropout)            (None, 8)                 0         \n",
      "_________________________________________________________________\n",
      "dense_7 (Dense)              (None, 1)                 9         \n",
      "=================================================================\n",
      "Total params: 1,011,537\n",
      "Trainable params: 1,011,537\n",
      "Non-trainable params: 0\n",
      "_________________________________________________________________\n"
     ]
    }
   ],
   "source": [
    "from tensorflow.keras.initializers import Constant\n",
    "from tensorflow.keras import layers\n",
    "vocab_size=10000\n",
    "word_vector_dim=100\n",
    "\n",
    "# 모델 구성\n",
    "model_rnn = tf.keras.Sequential()\n",
    "model_rnn.add(tf.keras.layers.Embedding(vocab_size,\n",
    "                                        word_vector_dim, \n",
    "                                        embeddings_initializer=Constant(embedding_matrix),\n",
    "                                        input_length=maxlen,\n",
    "                                        trainable=True))\n",
    "model_rnn.add(tf.keras.layers.Bidirectional(layers.LSTM(10, return_sequences=True),\n",
    "                             input_shape=(5, 10)))\n",
    "model_rnn.add(tf.keras.layers.Bidirectional(layers.LSTM(10)))\n",
    "model_rnn.add(tf.keras.layers.Dense(8, activation='relu'))\n",
    "model_rnn.add(tf.keras.layers.Dropout(.2))\n",
    "model_rnn.add(tf.keras.layers.Dense(1, activation='sigmoid'))\n",
    "\n",
    "model_rnn.summary()"
   ]
  },
  {
   "cell_type": "code",
   "execution_count": 73,
   "id": "8555a0ed",
   "metadata": {
    "scrolled": true
   },
   "outputs": [
    {
     "name": "stdout",
     "output_type": "stream",
     "text": [
      "Epoch 1/10\n",
      "240/240 [==============================] - 9s 20ms/step - loss: 0.5590 - accuracy: 0.7040 - val_loss: 0.4294 - val_accuracy: 0.8085\n",
      "Epoch 2/10\n",
      "240/240 [==============================] - 4s 15ms/step - loss: 0.4091 - accuracy: 0.8216 - val_loss: 0.3744 - val_accuracy: 0.8327\n",
      "Epoch 3/10\n",
      "240/240 [==============================] - 4s 16ms/step - loss: 0.3635 - accuracy: 0.8469 - val_loss: 0.3508 - val_accuracy: 0.8453\n",
      "Epoch 4/10\n",
      "240/240 [==============================] - 4s 16ms/step - loss: 0.3353 - accuracy: 0.8607 - val_loss: 0.3435 - val_accuracy: 0.8483\n",
      "Epoch 5/10\n",
      "240/240 [==============================] - 4s 15ms/step - loss: 0.3153 - accuracy: 0.8707 - val_loss: 0.3390 - val_accuracy: 0.8509\n",
      "Epoch 6/10\n",
      "240/240 [==============================] - 4s 15ms/step - loss: 0.2995 - accuracy: 0.8774 - val_loss: 0.3404 - val_accuracy: 0.8523\n",
      "Epoch 7/10\n",
      "240/240 [==============================] - 4s 15ms/step - loss: 0.2890 - accuracy: 0.8837 - val_loss: 0.3399 - val_accuracy: 0.8539\n",
      "Epoch 8/10\n",
      "240/240 [==============================] - 4s 15ms/step - loss: 0.2771 - accuracy: 0.8889 - val_loss: 0.3471 - val_accuracy: 0.8553\n",
      "Epoch 9/10\n",
      "240/240 [==============================] - 4s 15ms/step - loss: 0.2670 - accuracy: 0.8939 - val_loss: 0.3503 - val_accuracy: 0.8555\n",
      "Epoch 10/10\n",
      "240/240 [==============================] - 4s 15ms/step - loss: 0.2583 - accuracy: 0.8973 - val_loss: 0.3544 - val_accuracy: 0.8545\n"
     ]
    }
   ],
   "source": [
    "# 학습 진행\n",
    "model_rnn.compile(optimizer='adam',\n",
    "              loss='binary_crossentropy',\n",
    "              metrics=['accuracy'])\n",
    "              \n",
    "epochs=10\n",
    "\n",
    "history = model_rnn.fit(X_train_post,\n",
    "                    y_train,\n",
    "                    epochs=epochs,\n",
    "                    batch_size=512,\n",
    "                    validation_data=(X_val_post, y_val),\n",
    "                    verbose=1)"
   ]
  },
  {
   "cell_type": "code",
   "execution_count": 74,
   "id": "688cb81c",
   "metadata": {},
   "outputs": [
    {
     "name": "stdout",
     "output_type": "stream",
     "text": [
      "dict_keys(['loss', 'accuracy', 'val_loss', 'val_accuracy'])\n"
     ]
    },
    {
     "data": {
      "image/png": "[encoded data removed]",
      "text/plain": [
       "<Figure size 432x288 with 1 Axes>"
      ]
     },
     "metadata": {
      "needs_background": "light"
     },
     "output_type": "display_data"
    }
   ],
   "source": [
    "history_dict = history.history\n",
    "print(history_dict.keys())\n",
    "\n",
    "acc = history_dict['accuracy']\n",
    "val_acc = history_dict['val_accuracy']\n",
    "loss = history_dict['loss']\n",
    "val_loss = history_dict['val_loss']\n",
    "\n",
    "epochs = range(1, len(acc) + 1)\n",
    "\n",
    "# \"bo\"는 \"파란색 점\"입니다\n",
    "plt.plot(epochs, loss, 'bo', label='Training loss')\n",
    "# b는 \"파란 실선\"입니다\n",
    "plt.plot(epochs, val_loss, 'b', label='Validation loss')\n",
    "plt.title('Training and validation loss of RNN')\n",
    "plt.xlabel('Epochs')\n",
    "plt.ylabel('Loss')\n",
    "plt.legend()\n",
    "\n",
    "plt.show()"
   ]
  },
  {
   "cell_type": "code",
   "execution_count": 75,
   "id": "33a1464f",
   "metadata": {},
   "outputs": [
    {
     "name": "stdout",
     "output_type": "stream",
     "text": [
      "1537/1537 - 7s - loss: 0.3587 - accuracy: 0.8508\n",
      "[0.358653724193573, 0.8507842421531677]\n"
     ]
    }
   ],
   "source": [
    "# 테스트셋을 통한 모델 평가\n",
    "results = model_rnn.evaluate(X_test_post,  y_test, verbose=2)\n",
    "\n",
    "print(results)"
   ]
  }
 ],
 "metadata": {
  "kernelspec": {
   "display_name": "Python 3 (ipykernel)",
   "language": "python",
   "name": "python3"
  },
  "language_info": {
   "codemirror_mode": {
    "name": "ipython",
    "version": 3
   },
   "file_extension": ".py",
   "mimetype": "text/x-python",
   "name": "python",
   "nbconvert_exporter": "python",
   "pygments_lexer": "ipython3",
   "version": "3.9.7"
  }
 },
 "nbformat": 4,
 "nbformat_minor": 5
}
