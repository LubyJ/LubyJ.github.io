{
 "cells": [
  {
   "cell_type": "markdown",
   "id": "64889da8",
   "metadata": {},
   "source": [
    "* 한국어 데이터셋 이용\n",
    "* GLUE benchmark의 한국어 버전 [KLUE benchmark](), GLUE와 마찬가지로 한국어 자연어처리에 대한 이해도를 높이기 위해 만들어진 데이터셋 benchmark\n",
    "* KLUE의 dataset을 활용하는 것이 아닌, model(klue/ber-base)를 활용하여 NSMC(Naver Sentiment Movie Corpus) task를 도전"
   ]
  },
  {
   "cell_type": "code",
   "execution_count": 1,
   "id": "5083510c",
   "metadata": {},
   "outputs": [],
   "source": [
    "import tensorflow\n",
    "import numpy\n",
    "import transformers\n",
    "import datasets\n",
    "from datasets import load_dataset"
   ]
  },
  {
   "cell_type": "markdown",
   "id": "2927d833",
   "metadata": {},
   "source": [
    "### STEP 1. NSMC 데이터 분석 및 Huggingface dataset 구성\n"
   ]
  },
  {
   "cell_type": "code",
   "execution_count": 2,
   "id": "cda488e8",
   "metadata": {},
   "outputs": [
    {
     "data": {
      "application/vnd.jupyter.widget-view+json": {
       "model_id": "4b92dd11508545a5a2cb5cb91c511cc4",
       "version_major": 2,
       "version_minor": 0
      },
      "text/plain": [
       "Downloading:   0%|          | 0.00/1.36k [00:00<?, ?B/s]"
      ]
     },
     "metadata": {},
     "output_type": "display_data"
    },
    {
     "data": {
      "application/vnd.jupyter.widget-view+json": {
       "model_id": "743af813b066429eb738a7c5fe3df973",
       "version_major": 2,
       "version_minor": 0
      },
      "text/plain": [
       "Downloading:   0%|          | 0.00/807 [00:00<?, ?B/s]"
      ]
     },
     "metadata": {},
     "output_type": "display_data"
    },
    {
     "name": "stderr",
     "output_type": "stream",
     "text": [
      "Using custom data configuration default\n"
     ]
    },
    {
     "name": "stdout",
     "output_type": "stream",
     "text": [
      "Downloading and preparing dataset nsmc/default (download: 18.62 MiB, generated: 20.90 MiB, post-processed: Unknown size, total: 39.52 MiB) to /aiffel/.cache/huggingface/datasets/nsmc/default/1.1.0/bfd4729bf1a67114e5267e6916b9e4807010aeb238e4a3c2b95fbfa3a014b5f3...\n"
     ]
    },
    {
     "data": {
      "application/vnd.jupyter.widget-view+json": {
       "model_id": "bfcb4c3600bc48fe8e8fd695bc14a5b5",
       "version_major": 2,
       "version_minor": 0
      },
      "text/plain": [
       "  0%|          | 0/2 [00:00<?, ?it/s]"
      ]
     },
     "metadata": {},
     "output_type": "display_data"
    },
    {
     "data": {
      "application/vnd.jupyter.widget-view+json": {
       "model_id": "8ce1b878ef704a7aafb73ecb14e12b84",
       "version_major": 2,
       "version_minor": 0
      },
      "text/plain": [
       "Downloading:   0%|          | 0.00/6.33M [00:00<?, ?B/s]"
      ]
     },
     "metadata": {},
     "output_type": "display_data"
    },
    {
     "data": {
      "application/vnd.jupyter.widget-view+json": {
       "model_id": "398824ac43864e4896fe2171f2d13889",
       "version_major": 2,
       "version_minor": 0
      },
      "text/plain": [
       "Downloading:   0%|          | 0.00/2.12M [00:00<?, ?B/s]"
      ]
     },
     "metadata": {},
     "output_type": "display_data"
    },
    {
     "data": {
      "application/vnd.jupyter.widget-view+json": {
       "model_id": "b3260503835e42738a1f3e945871c32b",
       "version_major": 2,
       "version_minor": 0
      },
      "text/plain": [
       "  0%|          | 0/2 [00:00<?, ?it/s]"
      ]
     },
     "metadata": {},
     "output_type": "display_data"
    },
    {
     "data": {
      "application/vnd.jupyter.widget-view+json": {
       "model_id": "",
       "version_major": 2,
       "version_minor": 0
      },
      "text/plain": [
       "0 examples [00:00, ? examples/s]"
      ]
     },
     "metadata": {},
     "output_type": "display_data"
    },
    {
     "data": {
      "application/vnd.jupyter.widget-view+json": {
       "model_id": "",
       "version_major": 2,
       "version_minor": 0
      },
      "text/plain": [
       "0 examples [00:00, ? examples/s]"
      ]
     },
     "metadata": {},
     "output_type": "display_data"
    },
    {
     "name": "stdout",
     "output_type": "stream",
     "text": [
      "Dataset nsmc downloaded and prepared to /aiffel/.cache/huggingface/datasets/nsmc/default/1.1.0/bfd4729bf1a67114e5267e6916b9e4807010aeb238e4a3c2b95fbfa3a014b5f3. Subsequent calls will reuse this data.\n"
     ]
    },
    {
     "name": "stderr",
     "output_type": "stream",
     "text": [
      "Using custom data configuration default\n",
      "Reusing dataset nsmc (/aiffel/.cache/huggingface/datasets/nsmc/default/1.1.0/bfd4729bf1a67114e5267e6916b9e4807010aeb238e4a3c2b95fbfa3a014b5f3)\n",
      "Using custom data configuration default\n",
      "Reusing dataset nsmc (/aiffel/.cache/huggingface/datasets/nsmc/default/1.1.0/bfd4729bf1a67114e5267e6916b9e4807010aeb238e4a3c2b95fbfa3a014b5f3)\n"
     ]
    }
   ],
   "source": [
    "val_nsmc = load_dataset('nsmc', split='train[:50000]')\n",
    "train_nsmc = load_dataset('nsmc', split='train[50000:]')\n",
    "test_nsmc = load_dataset('nsmc', split='test')"
   ]
  },
  {
   "cell_type": "markdown",
   "id": "35f7b8f5",
   "metadata": {},
   "source": [
    "### STEP 2. klue/bert-base model 및 tokenizer 불러오기"
   ]
  },
  {
   "cell_type": "code",
   "execution_count": 3,
   "id": "de8bdb0c",
   "metadata": {},
   "outputs": [
    {
     "data": {
      "application/vnd.jupyter.widget-view+json": {
       "model_id": "df4810712c1c42cd855dd02f08fc2884",
       "version_major": 2,
       "version_minor": 0
      },
      "text/plain": [
       "Downloading:   0%|          | 0.00/545 [00:00<?, ?B/s]"
      ]
     },
     "metadata": {},
     "output_type": "display_data"
    },
    {
     "data": {
      "application/vnd.jupyter.widget-view+json": {
       "model_id": "c4641b1f7358412a9f2d6fd9c4f065e7",
       "version_major": 2,
       "version_minor": 0
      },
      "text/plain": [
       "Downloading:   0%|          | 0.00/260M [00:00<?, ?B/s]"
      ]
     },
     "metadata": {},
     "output_type": "display_data"
    },
    {
     "name": "stderr",
     "output_type": "stream",
     "text": [
      "Some weights of the model checkpoint at klue/roberta-small were not used when initializing RobertaForSequenceClassification: ['lm_head.layer_norm.weight', 'lm_head.layer_norm.bias', 'lm_head.dense.bias', 'lm_head.decoder.weight', 'lm_head.dense.weight', 'lm_head.decoder.bias', 'lm_head.bias']\n",
      "- This IS expected if you are initializing RobertaForSequenceClassification from the checkpoint of a model trained on another task or with another architecture (e.g. initializing a BertForSequenceClassification model from a BertForPreTraining model).\n",
      "- This IS NOT expected if you are initializing RobertaForSequenceClassification from the checkpoint of a model that you expect to be exactly identical (initializing a BertForSequenceClassification model from a BertForSequenceClassification model).\n",
      "Some weights of RobertaForSequenceClassification were not initialized from the model checkpoint at klue/roberta-small and are newly initialized: ['classifier.out_proj.weight', 'classifier.dense.weight', 'classifier.dense.bias', 'classifier.out_proj.bias']\n",
      "You should probably TRAIN this model on a down-stream task to be able to use it for predictions and inference.\n"
     ]
    },
    {
     "data": {
      "application/vnd.jupyter.widget-view+json": {
       "model_id": "6b7629a82084464c9cb8967ec6ed4891",
       "version_major": 2,
       "version_minor": 0
      },
      "text/plain": [
       "Downloading:   0%|          | 0.00/375 [00:00<?, ?B/s]"
      ]
     },
     "metadata": {},
     "output_type": "display_data"
    },
    {
     "data": {
      "application/vnd.jupyter.widget-view+json": {
       "model_id": "981086dd3f1545748b7ede3753f8d44b",
       "version_major": 2,
       "version_minor": 0
      },
      "text/plain": [
       "Downloading: 0.00B [00:00, ?B/s]"
      ]
     },
     "metadata": {},
     "output_type": "display_data"
    },
    {
     "data": {
      "application/vnd.jupyter.widget-view+json": {
       "model_id": "8fc7e73ef60440b49a1d79301e783d12",
       "version_major": 2,
       "version_minor": 0
      },
      "text/plain": [
       "Downloading: 0.00B [00:00, ?B/s]"
      ]
     },
     "metadata": {},
     "output_type": "display_data"
    },
    {
     "data": {
      "application/vnd.jupyter.widget-view+json": {
       "model_id": "00b56f63aaac4c059aa9d82bf0de45f9",
       "version_major": 2,
       "version_minor": 0
      },
      "text/plain": [
       "Downloading:   0%|          | 0.00/173 [00:00<?, ?B/s]"
      ]
     },
     "metadata": {},
     "output_type": "display_data"
    }
   ],
   "source": [
    "from transformers import AutoModelForSequenceClassification, AutoTokenizer\n",
    "\n",
    "model = AutoModelForSequenceClassification.from_pretrained(\"klue/roberta-small\", num_labels=2)\n",
    "tokenizer = AutoTokenizer.from_pretrained(\"klue/roberta-small\")\n"
   ]
  },
  {
   "cell_type": "code",
   "execution_count": 4,
   "id": "21ae01d6",
   "metadata": {},
   "outputs": [
    {
     "data": {
      "text/plain": [
       "['재미',\n",
       " '##가',\n",
       " '없',\n",
       " '##으면',\n",
       " '길',\n",
       " '##게',\n",
       " '##만',\n",
       " '##들',\n",
       " '##지도',\n",
       " '마',\n",
       " '.',\n",
       " '.',\n",
       " '.',\n",
       " '샬',\n",
       " '##리',\n",
       " '##즈',\n",
       " '##테',\n",
       " '##론',\n",
       " '내내',\n",
       " '##버',\n",
       " '##럭',\n",
       " '##하고',\n",
       " '틴',\n",
       " '##에이',\n",
       " '##저',\n",
       " '##퀸',\n",
       " '스튜어트',\n",
       " '##는',\n",
       " '앞',\n",
       " '##니',\n",
       " '##만',\n",
       " '##보이',\n",
       " '##고',\n",
       " '몰입',\n",
       " '##감',\n",
       " '##도',\n",
       " '없',\n",
       " '##고',\n",
       " '토르',\n",
       " '##는',\n",
       " '내내',\n",
       " '지저분',\n",
       " '##해서',\n",
       " '정도',\n",
       " '안',\n",
       " '##가',\n",
       " '##는데',\n",
       " '김보',\n",
       " '##성',\n",
       " '##느',\n",
       " '##낌',\n",
       " '##나',\n",
       " '##고',\n",
       " '애매',\n",
       " '##한',\n",
       " '캐릭터',\n",
       " '윌리엄',\n",
       " '##에',\n",
       " '무의미',\n",
       " '##한',\n",
       " '전투',\n",
       " '##씬',\n",
       " '##들',\n",
       " '.',\n",
       " '.',\n",
       " '억지로',\n",
       " '끼워',\n",
       " '##넣',\n",
       " '##은',\n",
       " '난장',\n",
       " '##이',\n",
       " '##들',\n",
       " '.',\n",
       " '대체',\n",
       " '뭘',\n",
       " '##위',\n",
       " '##해서',\n",
       " '?']"
      ]
     },
     "execution_count": 4,
     "metadata": {},
     "output_type": "execute_result"
    }
   ],
   "source": [
    "tokenizer.tokenize(train_nsmc['document'][0])\n"
   ]
  },
  {
   "cell_type": "markdown",
   "id": "a6fbbc48",
   "metadata": {},
   "source": [
    "### STEP 3. 위에서 불러온 tokenizer으로 데이터셋 전처리 및 model 학습 \n",
    "\n",
    "### STEP 4. Fine-tuning을 통해 모델 성능(accuracy) 향상시키기\n",
    "- 모델과 토크나이저를 klue/bert-base'에서 'klue/roberta-small'로 변경"
   ]
  },
  {
   "cell_type": "code",
   "execution_count": 5,
   "id": "e5e309fc",
   "metadata": {},
   "outputs": [],
   "source": [
    "def transform(data):\n",
    "    return tokenizer(\n",
    "        data['document'],\n",
    "        truncation = True,\n",
    "        padding = 'max_length',\n",
    "        return_token_type_ids = True,\n",
    "        )"
   ]
  },
  {
   "cell_type": "code",
   "execution_count": 6,
   "id": "e1cd052d",
   "metadata": {},
   "outputs": [
    {
     "data": {
      "application/vnd.jupyter.widget-view+json": {
       "model_id": "59899e06250f469988d65724e5bfa3f0",
       "version_major": 2,
       "version_minor": 0
      },
      "text/plain": [
       "  0%|          | 0/100 [00:00<?, ?ba/s]"
      ]
     },
     "metadata": {},
     "output_type": "display_data"
    },
    {
     "data": {
      "application/vnd.jupyter.widget-view+json": {
       "model_id": "de7d870d6b4d4fbd8e00f90d9328e1b7",
       "version_major": 2,
       "version_minor": 0
      },
      "text/plain": [
       "  0%|          | 0/50 [00:00<?, ?ba/s]"
      ]
     },
     "metadata": {},
     "output_type": "display_data"
    },
    {
     "data": {
      "application/vnd.jupyter.widget-view+json": {
       "model_id": "9a2c410aab1f497c80caf9a94309ec9e",
       "version_major": 2,
       "version_minor": 0
      },
      "text/plain": [
       "  0%|          | 0/50 [00:00<?, ?ba/s]"
      ]
     },
     "metadata": {},
     "output_type": "display_data"
    }
   ],
   "source": [
    "train_dataset = train_nsmc.map(transform, batched=True)\n",
    "val_dataset = val_nsmc.map(transform, batched=True)\n",
    "test_dataset = test_nsmc.map(transform, batched=True)"
   ]
  },
  {
   "cell_type": "markdown",
   "id": "593e732e",
   "metadata": {},
   "source": [
    "hf_dataset = huggingface_nsmc_dataset.map(transform, batched=True)\n",
    "\n",
    "hf_train_dataset = hf_dataset['train']\n",
    "#hf_val_dataset = hf_dataset['validation']\n",
    "hf_test_dataset = hf_dataset['test']"
   ]
  },
  {
   "cell_type": "markdown",
   "id": "da417613",
   "metadata": {},
   "source": [
    "__Trainer를 활용한 학습__"
   ]
  },
  {
   "cell_type": "code",
   "execution_count": 7,
   "id": "658702e6",
   "metadata": {},
   "outputs": [],
   "source": [
    "import os\n",
    "import numpy as np\n",
    "from transformers import Trainer, TrainingArguments\n",
    "\n",
    "output_dir = os.getenv('HOME')+'/aiffel/[GN08]_HuggingFace'\n",
    "\n",
    "training_arguments = TrainingArguments(\n",
    "    output_dir,                                         # output이 저장될 경로\n",
    "    evaluation_strategy=\"epoch\",           #evaluation하는 빈도\n",
    "    learning_rate = 2e-5,                         #learning_rate\n",
    "    per_device_train_batch_size = 16,   # 각 device 당 batch size\n",
    "    per_device_eval_batch_size = 16,    # evaluation 시에 batch size\n",
    "    num_train_epochs = 3,                     # train 시킬 총 epochs\n",
    "    weight_decay = 0.01,                        # weight decay\n",
    ")"
   ]
  },
  {
   "cell_type": "code",
   "execution_count": 8,
   "id": "096ab5ab",
   "metadata": {},
   "outputs": [],
   "source": [
    "from datasets import load_metric\n",
    "#metric = load_metric('glue', 'mrpc')\n",
    "\n",
    "#def compute_metrics(eval_pred):    \n",
    "#    predictions,labels = eval_pred\n",
    "#    predictions = np.argmax(predictions, axis=1)\n",
    "#    return metric.compute(predictions=predictions, references = labels)\n",
    "\n",
    "def compute_metrics(pred):\n",
    "    labels = pred.label_ids\n",
    "    preds = pred.predictions.argmax(-1)\n",
    "\n",
    "    m1 = load_metric('accuracy')\n",
    "    m2 = load_metric('f1')\n",
    "\n",
    "    acc = m1.compute(predictions=preds, references=labels)['accuracy']\n",
    "    f1 = m2.compute(predictions=preds, references=labels)['f1']\n",
    "\n",
    "    return {'accuracy':acc, 'f1':f1}"
   ]
  },
  {
   "cell_type": "code",
   "execution_count": 9,
   "id": "f07660bf",
   "metadata": {},
   "outputs": [
    {
     "name": "stderr",
     "output_type": "stream",
     "text": [
      "The following columns in the training set  don't have a corresponding argument in `RobertaForSequenceClassification.forward` and have been ignored: id, document.\n",
      "***** Running training *****\n",
      "  Num examples = 100000\n",
      "  Num Epochs = 3\n",
      "  Instantaneous batch size per device = 16\n",
      "  Total train batch size (w. parallel, distributed & accumulation) = 16\n",
      "  Gradient Accumulation steps = 1\n",
      "  Total optimization steps = 18750\n"
     ]
    },
    {
     "data": {
      "text/html": [
       "\n",
       "    <div>\n",
       "      \n",
       "      <progress value='18750' max='18750' style='width:300px; height:20px; vertical-align: middle;'></progress>\n",
       "      [18750/18750 4:45:14, Epoch 3/3]\n",
       "    </div>\n",
       "    <table border=\"1\" class=\"dataframe\">\n",
       "  <thead>\n",
       "    <tr style=\"text-align: left;\">\n",
       "      <th>Epoch</th>\n",
       "      <th>Training Loss</th>\n",
       "      <th>Validation Loss</th>\n",
       "      <th>Accuracy</th>\n",
       "      <th>F1</th>\n",
       "    </tr>\n",
       "  </thead>\n",
       "  <tbody>\n",
       "    <tr>\n",
       "      <td>1</td>\n",
       "      <td>0.287600</td>\n",
       "      <td>0.267173</td>\n",
       "      <td>0.893180</td>\n",
       "      <td>0.891679</td>\n",
       "    </tr>\n",
       "    <tr>\n",
       "      <td>2</td>\n",
       "      <td>0.228900</td>\n",
       "      <td>0.275799</td>\n",
       "      <td>0.895800</td>\n",
       "      <td>0.898043</td>\n",
       "    </tr>\n",
       "    <tr>\n",
       "      <td>3</td>\n",
       "      <td>0.174200</td>\n",
       "      <td>0.347173</td>\n",
       "      <td>0.900480</td>\n",
       "      <td>0.900979</td>\n",
       "    </tr>\n",
       "  </tbody>\n",
       "</table><p>"
      ],
      "text/plain": [
       "<IPython.core.display.HTML object>"
      ]
     },
     "metadata": {},
     "output_type": "display_data"
    },
    {
     "name": "stderr",
     "output_type": "stream",
     "text": [
      "Saving model checkpoint to /aiffel/aiffel/[GN08]_HuggingFace/checkpoint-500\n",
      "Configuration saved in /aiffel/aiffel/[GN08]_HuggingFace/checkpoint-500/config.json\n",
      "Model weights saved in /aiffel/aiffel/[GN08]_HuggingFace/checkpoint-500/pytorch_model.bin\n",
      "Saving model checkpoint to /aiffel/aiffel/[GN08]_HuggingFace/checkpoint-1000\n",
      "Configuration saved in /aiffel/aiffel/[GN08]_HuggingFace/checkpoint-1000/config.json\n",
      "Model weights saved in /aiffel/aiffel/[GN08]_HuggingFace/checkpoint-1000/pytorch_model.bin\n",
      "Saving model checkpoint to /aiffel/aiffel/[GN08]_HuggingFace/checkpoint-1500\n",
      "Configuration saved in /aiffel/aiffel/[GN08]_HuggingFace/checkpoint-1500/config.json\n",
      "Model weights saved in /aiffel/aiffel/[GN08]_HuggingFace/checkpoint-1500/pytorch_model.bin\n",
      "Saving model checkpoint to /aiffel/aiffel/[GN08]_HuggingFace/checkpoint-2000\n",
      "Configuration saved in /aiffel/aiffel/[GN08]_HuggingFace/checkpoint-2000/config.json\n",
      "Model weights saved in /aiffel/aiffel/[GN08]_HuggingFace/checkpoint-2000/pytorch_model.bin\n",
      "Saving model checkpoint to /aiffel/aiffel/[GN08]_HuggingFace/checkpoint-2500\n",
      "Configuration saved in /aiffel/aiffel/[GN08]_HuggingFace/checkpoint-2500/config.json\n",
      "Model weights saved in /aiffel/aiffel/[GN08]_HuggingFace/checkpoint-2500/pytorch_model.bin\n",
      "Saving model checkpoint to /aiffel/aiffel/[GN08]_HuggingFace/checkpoint-3000\n",
      "Configuration saved in /aiffel/aiffel/[GN08]_HuggingFace/checkpoint-3000/config.json\n",
      "Model weights saved in /aiffel/aiffel/[GN08]_HuggingFace/checkpoint-3000/pytorch_model.bin\n",
      "Saving model checkpoint to /aiffel/aiffel/[GN08]_HuggingFace/checkpoint-3500\n",
      "Configuration saved in /aiffel/aiffel/[GN08]_HuggingFace/checkpoint-3500/config.json\n",
      "Model weights saved in /aiffel/aiffel/[GN08]_HuggingFace/checkpoint-3500/pytorch_model.bin\n",
      "Saving model checkpoint to /aiffel/aiffel/[GN08]_HuggingFace/checkpoint-4000\n",
      "Configuration saved in /aiffel/aiffel/[GN08]_HuggingFace/checkpoint-4000/config.json\n",
      "Model weights saved in /aiffel/aiffel/[GN08]_HuggingFace/checkpoint-4000/pytorch_model.bin\n",
      "Saving model checkpoint to /aiffel/aiffel/[GN08]_HuggingFace/checkpoint-4500\n",
      "Configuration saved in /aiffel/aiffel/[GN08]_HuggingFace/checkpoint-4500/config.json\n",
      "Model weights saved in /aiffel/aiffel/[GN08]_HuggingFace/checkpoint-4500/pytorch_model.bin\n",
      "Saving model checkpoint to /aiffel/aiffel/[GN08]_HuggingFace/checkpoint-5000\n",
      "Configuration saved in /aiffel/aiffel/[GN08]_HuggingFace/checkpoint-5000/config.json\n",
      "Model weights saved in /aiffel/aiffel/[GN08]_HuggingFace/checkpoint-5000/pytorch_model.bin\n",
      "Saving model checkpoint to /aiffel/aiffel/[GN08]_HuggingFace/checkpoint-5500\n",
      "Configuration saved in /aiffel/aiffel/[GN08]_HuggingFace/checkpoint-5500/config.json\n",
      "Model weights saved in /aiffel/aiffel/[GN08]_HuggingFace/checkpoint-5500/pytorch_model.bin\n",
      "Saving model checkpoint to /aiffel/aiffel/[GN08]_HuggingFace/checkpoint-6000\n",
      "Configuration saved in /aiffel/aiffel/[GN08]_HuggingFace/checkpoint-6000/config.json\n",
      "Model weights saved in /aiffel/aiffel/[GN08]_HuggingFace/checkpoint-6000/pytorch_model.bin\n",
      "The following columns in the evaluation set  don't have a corresponding argument in `RobertaForSequenceClassification.forward` and have been ignored: id, document.\n",
      "***** Running Evaluation *****\n",
      "  Num examples = 50000\n",
      "  Batch size = 16\n"
     ]
    },
    {
     "data": {
      "application/vnd.jupyter.widget-view+json": {
       "model_id": "547408775cda46d0b179944508d0e120",
       "version_major": 2,
       "version_minor": 0
      },
      "text/plain": [
       "Downloading:   0%|          | 0.00/1.42k [00:00<?, ?B/s]"
      ]
     },
     "metadata": {},
     "output_type": "display_data"
    },
    {
     "data": {
      "application/vnd.jupyter.widget-view+json": {
       "model_id": "f13b5cdc029b4100bb487645fedac8a5",
       "version_major": 2,
       "version_minor": 0
      },
      "text/plain": [
       "Downloading:   0%|          | 0.00/2.07k [00:00<?, ?B/s]"
      ]
     },
     "metadata": {},
     "output_type": "display_data"
    },
    {
     "name": "stderr",
     "output_type": "stream",
     "text": [
      "Saving model checkpoint to /aiffel/aiffel/[GN08]_HuggingFace/checkpoint-6500\n",
      "Configuration saved in /aiffel/aiffel/[GN08]_HuggingFace/checkpoint-6500/config.json\n",
      "Model weights saved in /aiffel/aiffel/[GN08]_HuggingFace/checkpoint-6500/pytorch_model.bin\n",
      "Saving model checkpoint to /aiffel/aiffel/[GN08]_HuggingFace/checkpoint-7000\n",
      "Configuration saved in /aiffel/aiffel/[GN08]_HuggingFace/checkpoint-7000/config.json\n",
      "Model weights saved in /aiffel/aiffel/[GN08]_HuggingFace/checkpoint-7000/pytorch_model.bin\n",
      "Saving model checkpoint to /aiffel/aiffel/[GN08]_HuggingFace/checkpoint-7500\n",
      "Configuration saved in /aiffel/aiffel/[GN08]_HuggingFace/checkpoint-7500/config.json\n",
      "Model weights saved in /aiffel/aiffel/[GN08]_HuggingFace/checkpoint-7500/pytorch_model.bin\n",
      "Saving model checkpoint to /aiffel/aiffel/[GN08]_HuggingFace/checkpoint-8000\n",
      "Configuration saved in /aiffel/aiffel/[GN08]_HuggingFace/checkpoint-8000/config.json\n",
      "Model weights saved in /aiffel/aiffel/[GN08]_HuggingFace/checkpoint-8000/pytorch_model.bin\n",
      "Saving model checkpoint to /aiffel/aiffel/[GN08]_HuggingFace/checkpoint-8500\n",
      "Configuration saved in /aiffel/aiffel/[GN08]_HuggingFace/checkpoint-8500/config.json\n",
      "Model weights saved in /aiffel/aiffel/[GN08]_HuggingFace/checkpoint-8500/pytorch_model.bin\n",
      "Saving model checkpoint to /aiffel/aiffel/[GN08]_HuggingFace/checkpoint-9000\n",
      "Configuration saved in /aiffel/aiffel/[GN08]_HuggingFace/checkpoint-9000/config.json\n",
      "Model weights saved in /aiffel/aiffel/[GN08]_HuggingFace/checkpoint-9000/pytorch_model.bin\n",
      "Saving model checkpoint to /aiffel/aiffel/[GN08]_HuggingFace/checkpoint-9500\n",
      "Configuration saved in /aiffel/aiffel/[GN08]_HuggingFace/checkpoint-9500/config.json\n",
      "Model weights saved in /aiffel/aiffel/[GN08]_HuggingFace/checkpoint-9500/pytorch_model.bin\n",
      "Saving model checkpoint to /aiffel/aiffel/[GN08]_HuggingFace/checkpoint-10000\n",
      "Configuration saved in /aiffel/aiffel/[GN08]_HuggingFace/checkpoint-10000/config.json\n",
      "Model weights saved in /aiffel/aiffel/[GN08]_HuggingFace/checkpoint-10000/pytorch_model.bin\n",
      "Saving model checkpoint to /aiffel/aiffel/[GN08]_HuggingFace/checkpoint-10500\n",
      "Configuration saved in /aiffel/aiffel/[GN08]_HuggingFace/checkpoint-10500/config.json\n",
      "Model weights saved in /aiffel/aiffel/[GN08]_HuggingFace/checkpoint-10500/pytorch_model.bin\n",
      "Saving model checkpoint to /aiffel/aiffel/[GN08]_HuggingFace/checkpoint-11000\n",
      "Configuration saved in /aiffel/aiffel/[GN08]_HuggingFace/checkpoint-11000/config.json\n",
      "Model weights saved in /aiffel/aiffel/[GN08]_HuggingFace/checkpoint-11000/pytorch_model.bin\n",
      "Saving model checkpoint to /aiffel/aiffel/[GN08]_HuggingFace/checkpoint-11500\n",
      "Configuration saved in /aiffel/aiffel/[GN08]_HuggingFace/checkpoint-11500/config.json\n",
      "Model weights saved in /aiffel/aiffel/[GN08]_HuggingFace/checkpoint-11500/pytorch_model.bin\n",
      "Saving model checkpoint to /aiffel/aiffel/[GN08]_HuggingFace/checkpoint-12000\n",
      "Configuration saved in /aiffel/aiffel/[GN08]_HuggingFace/checkpoint-12000/config.json\n",
      "Model weights saved in /aiffel/aiffel/[GN08]_HuggingFace/checkpoint-12000/pytorch_model.bin\n",
      "Saving model checkpoint to /aiffel/aiffel/[GN08]_HuggingFace/checkpoint-12500\n",
      "Configuration saved in /aiffel/aiffel/[GN08]_HuggingFace/checkpoint-12500/config.json\n",
      "Model weights saved in /aiffel/aiffel/[GN08]_HuggingFace/checkpoint-12500/pytorch_model.bin\n",
      "The following columns in the evaluation set  don't have a corresponding argument in `RobertaForSequenceClassification.forward` and have been ignored: id, document.\n",
      "***** Running Evaluation *****\n",
      "  Num examples = 50000\n",
      "  Batch size = 16\n",
      "Saving model checkpoint to /aiffel/aiffel/[GN08]_HuggingFace/checkpoint-13000\n",
      "Configuration saved in /aiffel/aiffel/[GN08]_HuggingFace/checkpoint-13000/config.json\n",
      "Model weights saved in /aiffel/aiffel/[GN08]_HuggingFace/checkpoint-13000/pytorch_model.bin\n",
      "Saving model checkpoint to /aiffel/aiffel/[GN08]_HuggingFace/checkpoint-13500\n",
      "Configuration saved in /aiffel/aiffel/[GN08]_HuggingFace/checkpoint-13500/config.json\n",
      "Model weights saved in /aiffel/aiffel/[GN08]_HuggingFace/checkpoint-13500/pytorch_model.bin\n",
      "Saving model checkpoint to /aiffel/aiffel/[GN08]_HuggingFace/checkpoint-14000\n",
      "Configuration saved in /aiffel/aiffel/[GN08]_HuggingFace/checkpoint-14000/config.json\n",
      "Model weights saved in /aiffel/aiffel/[GN08]_HuggingFace/checkpoint-14000/pytorch_model.bin\n",
      "Saving model checkpoint to /aiffel/aiffel/[GN08]_HuggingFace/checkpoint-14500\n",
      "Configuration saved in /aiffel/aiffel/[GN08]_HuggingFace/checkpoint-14500/config.json\n",
      "Model weights saved in /aiffel/aiffel/[GN08]_HuggingFace/checkpoint-14500/pytorch_model.bin\n",
      "Saving model checkpoint to /aiffel/aiffel/[GN08]_HuggingFace/checkpoint-15000\n",
      "Configuration saved in /aiffel/aiffel/[GN08]_HuggingFace/checkpoint-15000/config.json\n",
      "Model weights saved in /aiffel/aiffel/[GN08]_HuggingFace/checkpoint-15000/pytorch_model.bin\n",
      "Saving model checkpoint to /aiffel/aiffel/[GN08]_HuggingFace/checkpoint-15500\n",
      "Configuration saved in /aiffel/aiffel/[GN08]_HuggingFace/checkpoint-15500/config.json\n",
      "Model weights saved in /aiffel/aiffel/[GN08]_HuggingFace/checkpoint-15500/pytorch_model.bin\n",
      "Saving model checkpoint to /aiffel/aiffel/[GN08]_HuggingFace/checkpoint-16000\n",
      "Configuration saved in /aiffel/aiffel/[GN08]_HuggingFace/checkpoint-16000/config.json\n",
      "Model weights saved in /aiffel/aiffel/[GN08]_HuggingFace/checkpoint-16000/pytorch_model.bin\n",
      "Saving model checkpoint to /aiffel/aiffel/[GN08]_HuggingFace/checkpoint-16500\n",
      "Configuration saved in /aiffel/aiffel/[GN08]_HuggingFace/checkpoint-16500/config.json\n",
      "Model weights saved in /aiffel/aiffel/[GN08]_HuggingFace/checkpoint-16500/pytorch_model.bin\n",
      "Saving model checkpoint to /aiffel/aiffel/[GN08]_HuggingFace/checkpoint-17000\n",
      "Configuration saved in /aiffel/aiffel/[GN08]_HuggingFace/checkpoint-17000/config.json\n",
      "Model weights saved in /aiffel/aiffel/[GN08]_HuggingFace/checkpoint-17000/pytorch_model.bin\n",
      "Saving model checkpoint to /aiffel/aiffel/[GN08]_HuggingFace/checkpoint-17500\n",
      "Configuration saved in /aiffel/aiffel/[GN08]_HuggingFace/checkpoint-17500/config.json\n",
      "Model weights saved in /aiffel/aiffel/[GN08]_HuggingFace/checkpoint-17500/pytorch_model.bin\n",
      "Saving model checkpoint to /aiffel/aiffel/[GN08]_HuggingFace/checkpoint-18000\n",
      "Configuration saved in /aiffel/aiffel/[GN08]_HuggingFace/checkpoint-18000/config.json\n",
      "Model weights saved in /aiffel/aiffel/[GN08]_HuggingFace/checkpoint-18000/pytorch_model.bin\n",
      "Saving model checkpoint to /aiffel/aiffel/[GN08]_HuggingFace/checkpoint-18500\n",
      "Configuration saved in /aiffel/aiffel/[GN08]_HuggingFace/checkpoint-18500/config.json\n",
      "Model weights saved in /aiffel/aiffel/[GN08]_HuggingFace/checkpoint-18500/pytorch_model.bin\n",
      "The following columns in the evaluation set  don't have a corresponding argument in `RobertaForSequenceClassification.forward` and have been ignored: id, document.\n",
      "***** Running Evaluation *****\n",
      "  Num examples = 50000\n",
      "  Batch size = 16\n",
      "\n",
      "\n",
      "Training completed. Do not forget to share your model on huggingface.co/models =)\n",
      "\n",
      "\n"
     ]
    },
    {
     "data": {
      "text/plain": [
       "TrainOutput(global_step=18750, training_loss=0.23769442647298178, metrics={'train_runtime': 17116.5177, 'train_samples_per_second': 17.527, 'train_steps_per_second': 1.095, 'total_flos': 3.97402195968e+16, 'train_loss': 0.23769442647298178, 'epoch': 3.0})"
      ]
     },
     "execution_count": 9,
     "metadata": {},
     "output_type": "execute_result"
    }
   ],
   "source": [
    "trainer = Trainer(\n",
    "    model=model,           # 학습시킬 model\n",
    "    args=training_arguments,           # TrainingArguments을 통해 설정한 arguments\n",
    "    train_dataset=train_dataset,    # training dataset\n",
    "    eval_dataset=val_dataset,       # evaluation dataset\n",
    "    compute_metrics=compute_metrics,\n",
    ")\n",
    "trainer.train()"
   ]
  },
  {
   "cell_type": "markdown",
   "id": "03017bd8",
   "metadata": {},
   "source": [
    "* Accuracy와 F1이 약 90%에 도달함"
   ]
  },
  {
   "attachments": {
    "image.png": {
     "image/png": "[encoded data removed]"
    }
   },
   "cell_type": "markdown",
   "id": "939dc650",
   "metadata": {},
   "source": [
    "![image.png](attachment:image.png)"
   ]
  },
  {
   "cell_type": "code",
   "execution_count": 10,
   "id": "4a332279",
   "metadata": {},
   "outputs": [
    {
     "name": "stderr",
     "output_type": "stream",
     "text": [
      "The following columns in the evaluation set  don't have a corresponding argument in `RobertaForSequenceClassification.forward` and have been ignored: id, document.\n",
      "***** Running Evaluation *****\n",
      "  Num examples = 50000\n",
      "  Batch size = 16\n"
     ]
    },
    {
     "data": {
      "text/html": [
       "\n",
       "    <div>\n",
       "      \n",
       "      <progress value='3125' max='3125' style='width:300px; height:20px; vertical-align: middle;'></progress>\n",
       "      [3125/3125 13:48]\n",
       "    </div>\n",
       "    "
      ],
      "text/plain": [
       "<IPython.core.display.HTML object>"
      ]
     },
     "metadata": {},
     "output_type": "display_data"
    },
    {
     "data": {
      "application/vnd.jupyter.widget-view+json": {
       "model_id": "9aaad27e5b0b4adfa882588adaa9d187",
       "version_major": 2,
       "version_minor": 0
      },
      "text/plain": [
       "Downloading:   0%|          | 0.00/1.42k [00:00<?, ?B/s]"
      ]
     },
     "metadata": {},
     "output_type": "display_data"
    },
    {
     "data": {
      "application/vnd.jupyter.widget-view+json": {
       "model_id": "c33165a1aef142b5b776680f1672bb4e",
       "version_major": 2,
       "version_minor": 0
      },
      "text/plain": [
       "Downloading:   0%|          | 0.00/2.07k [00:00<?, ?B/s]"
      ]
     },
     "metadata": {},
     "output_type": "display_data"
    },
    {
     "name": "stdout",
     "output_type": "stream",
     "text": [
      "{'eval_loss': 0.3624119460582733, 'eval_accuracy': 0.89664, 'eval_f1': 0.8975700638205097, 'eval_runtime': 831.7183, 'eval_samples_per_second': 60.117, 'eval_steps_per_second': 3.757}\n"
     ]
    }
   ],
   "source": [
    "from transformers import Trainer, TrainingArguments, AutoModelForSequenceClassification\n",
    "import torch\n",
    "\n",
    "chck_dir = os.getenv('HOME')+'/aiffel/[GN08]_HuggingFace/checkpoint-18500'\n",
    "save_dir = os.getenv('HOME')+'/aiffel/[GN08]_HuggingFace/checkpoint-18500/eval'\n",
    "\n",
    "# Load the saved checkpoints\n",
    "model = AutoModelForSequenceClassification.from_pretrained(chck_dir)\n",
    "\n",
    "# Create a new Trainer instance for evaluation\n",
    "evaluation_args = TrainingArguments(\n",
    "    output_dir=save_dir,               # Same output directory as during training\n",
    "    per_device_eval_batch_size=16,       # Evaluation batch size\n",
    ")\n",
    "eval_trainer = Trainer(\n",
    "    model=model,\n",
    "    args=evaluation_args,\n",
    "    compute_metrics=compute_metrics,\n",
    ")\n",
    "\n",
    "# Evaluate the model on the test_dataset\n",
    "eval_result = eval_trainer.evaluate(test_dataset)\n",
    "\n",
    "# Print the evaluation result\n",
    "print(eval_result)"
   ]
  },
  {
   "cell_type": "markdown",
   "id": "f3663c52",
   "metadata": {},
   "source": [
    "학습시 저장된 checkpoint를 불러와서 test_dataset 평가"
   ]
  },
  {
   "cell_type": "code",
   "execution_count": 11,
   "id": "54e66d8c",
   "metadata": {},
   "outputs": [
    {
     "name": "stderr",
     "output_type": "stream",
     "text": [
      "loading configuration file /aiffel/aiffel/[GN08]_HuggingFace/checkpoint-18000/config.json\n",
      "Model config RobertaConfig {\n",
      "  \"_name_or_path\": \"klue/roberta-small\",\n",
      "  \"architectures\": [\n",
      "    \"RobertaForSequenceClassification\"\n",
      "  ],\n",
      "  \"attention_probs_dropout_prob\": 0.1,\n",
      "  \"bos_token_id\": 0,\n",
      "  \"classifier_dropout\": null,\n",
      "  \"eos_token_id\": 2,\n",
      "  \"gradient_checkpointing\": false,\n",
      "  \"hidden_act\": \"gelu\",\n",
      "  \"hidden_dropout_prob\": 0.1,\n",
      "  \"hidden_size\": 768,\n",
      "  \"initializer_range\": 0.02,\n",
      "  \"intermediate_size\": 3072,\n",
      "  \"layer_norm_eps\": 1e-05,\n",
      "  \"max_position_embeddings\": 514,\n",
      "  \"model_type\": \"roberta\",\n",
      "  \"num_attention_heads\": 12,\n",
      "  \"num_hidden_layers\": 6,\n",
      "  \"pad_token_id\": 1,\n",
      "  \"position_embedding_type\": \"absolute\",\n",
      "  \"problem_type\": \"single_label_classification\",\n",
      "  \"tokenizer_class\": \"BertTokenizer\",\n",
      "  \"torch_dtype\": \"float32\",\n",
      "  \"transformers_version\": \"4.11.3\",\n",
      "  \"type_vocab_size\": 1,\n",
      "  \"use_cache\": true,\n",
      "  \"vocab_size\": 32000\n",
      "}\n",
      "\n",
      "loading weights file /aiffel/aiffel/[GN08]_HuggingFace/checkpoint-18000/pytorch_model.bin\n",
      "All model checkpoint weights were used when initializing RobertaForSequenceClassification.\n",
      "\n",
      "All the weights of RobertaForSequenceClassification were initialized from the model checkpoint at /aiffel/aiffel/[GN08]_HuggingFace/checkpoint-18000.\n",
      "If your task is similar to the task the model of the checkpoint was trained on, you can already use RobertaForSequenceClassification for predictions without further training.\n",
      "PyTorch: setting up devices\n",
      "The default value for the training argument `--report_to` will change in v5 (from all installed integrations to none). In v5, you will need to use `--report_to all` to get the same behavior as now. You should start updating your code and make this info disappear :-).\n",
      "The following columns in the evaluation set  don't have a corresponding argument in `RobertaForSequenceClassification.forward` and have been ignored: id, document.\n",
      "***** Running Evaluation *****\n",
      "  Num examples = 50000\n",
      "  Batch size = 16\n"
     ]
    },
    {
     "data": {
      "text/html": [
       "\n",
       "    <div>\n",
       "      \n",
       "      <progress value='3125' max='3125' style='width:300px; height:20px; vertical-align: middle;'></progress>\n",
       "      [3125/3125 13:55]\n",
       "    </div>\n",
       "    "
      ],
      "text/plain": [
       "<IPython.core.display.HTML object>"
      ]
     },
     "metadata": {},
     "output_type": "display_data"
    },
    {
     "name": "stdout",
     "output_type": "stream",
     "text": [
      "{'eval_loss': 0.36268582940101624, 'eval_accuracy': 0.8959, 'eval_f1': 0.897456608680234, 'eval_runtime': 837.598, 'eval_samples_per_second': 59.695, 'eval_steps_per_second': 3.731}\n"
     ]
    }
   ],
   "source": [
    "chck_dir = os.getenv('HOME')+'/aiffel/[GN08]_HuggingFace/checkpoint-18000'\n",
    "save_dir = os.getenv('HOME')+'/aiffel/[GN08]_HuggingFace/checkpoint-18000/eval'\n",
    "\n",
    "# Load the saved checkpoints\n",
    "model = AutoModelForSequenceClassification.from_pretrained(chck_dir)\n",
    "\n",
    "# Create a new Trainer instance for evaluation\n",
    "evaluation_args = TrainingArguments(\n",
    "    output_dir=save_dir,               # Same output directory as during training\n",
    "    per_device_eval_batch_size=16,       # Evaluation batch size\n",
    ")\n",
    "eval_trainer = Trainer(\n",
    "    model=model,\n",
    "    args=evaluation_args,\n",
    "    compute_metrics=compute_metrics,\n",
    ")\n",
    "\n",
    "# Evaluate the model on the test_dataset\n",
    "eval_result = eval_trainer.evaluate(test_dataset)\n",
    "\n",
    "# Print the evaluation result\n",
    "print(eval_result)"
   ]
  },
  {
   "cell_type": "markdown",
   "id": "c58864be",
   "metadata": {},
   "source": [
    "### STEP 5. Bucketing을 적용하여 학습시키고, STEP 4의 결과와의 비교"
   ]
  },
  {
   "cell_type": "code",
   "execution_count": 14,
   "id": "969ab758",
   "metadata": {
    "scrolled": false
   },
   "outputs": [
    {
     "name": "stderr",
     "output_type": "stream",
     "text": [
      "PyTorch: setting up devices\n",
      "The default value for the training argument `--report_to` will change in v5 (from all installed integrations to none). In v5, you will need to use `--report_to all` to get the same behavior as now. You should start updating your code and make this info disappear :-).\n",
      "The following columns in the training set  don't have a corresponding argument in `RobertaForSequenceClassification.forward` and have been ignored: id, document.\n",
      "***** Running training *****\n",
      "  Num examples = 100000\n",
      "  Num Epochs = 3\n",
      "  Instantaneous batch size per device = 16\n",
      "  Total train batch size (w. parallel, distributed & accumulation) = 16\n",
      "  Gradient Accumulation steps = 1\n",
      "  Total optimization steps = 18750\n"
     ]
    },
    {
     "name": "stdout",
     "output_type": "stream",
     "text": [
      "huggingface/tokenizers: The current process just got forked, after parallelism has already been used. Disabling parallelism to avoid deadlocks...\n",
      "To disable this warning, you can either:\n",
      "\t- Avoid using `tokenizers` before the fork if possible\n",
      "\t- Explicitly set the environment variable TOKENIZERS_PARALLELISM=(true | false)\n",
      "huggingface/tokenizers: The current process just got forked, after parallelism has already been used. Disabling parallelism to avoid deadlocks...\n",
      "To disable this warning, you can either:\n",
      "\t- Avoid using `tokenizers` before the fork if possible\n",
      "\t- Explicitly set the environment variable TOKENIZERS_PARALLELISM=(true | false)\n",
      "huggingface/tokenizers: The current process just got forked, after parallelism has already been used. Disabling parallelism to avoid deadlocks...\n",
      "To disable this warning, you can either:\n",
      "\t- Avoid using `tokenizers` before the fork if possible\n",
      "\t- Explicitly set the environment variable TOKENIZERS_PARALLELISM=(true | false)\n",
      "huggingface/tokenizers: The current process just got forked, after parallelism has already been used. Disabling parallelism to avoid deadlocks...\n",
      "To disable this warning, you can either:\n",
      "\t- Avoid using `tokenizers` before the fork if possible\n",
      "\t- Explicitly set the environment variable TOKENIZERS_PARALLELISM=(true | false)\n"
     ]
    },
    {
     "data": {
      "text/html": [
       "\n",
       "    <div>\n",
       "      \n",
       "      <progress value='18750' max='18750' style='width:300px; height:20px; vertical-align: middle;'></progress>\n",
       "      [18750/18750 4:42:44, Epoch 3/3]\n",
       "    </div>\n",
       "    <table border=\"1\" class=\"dataframe\">\n",
       "  <thead>\n",
       "    <tr style=\"text-align: left;\">\n",
       "      <th>Epoch</th>\n",
       "      <th>Training Loss</th>\n",
       "      <th>Validation Loss</th>\n",
       "      <th>Accuracy</th>\n",
       "      <th>F1</th>\n",
       "    </tr>\n",
       "  </thead>\n",
       "  <tbody>\n",
       "    <tr>\n",
       "      <td>1</td>\n",
       "      <td>0.090900</td>\n",
       "      <td>0.546226</td>\n",
       "      <td>0.887940</td>\n",
       "      <td>0.890329</td>\n",
       "    </tr>\n",
       "    <tr>\n",
       "      <td>2</td>\n",
       "      <td>0.123300</td>\n",
       "      <td>0.508087</td>\n",
       "      <td>0.891680</td>\n",
       "      <td>0.893310</td>\n",
       "    </tr>\n",
       "    <tr>\n",
       "      <td>3</td>\n",
       "      <td>0.114800</td>\n",
       "      <td>0.585833</td>\n",
       "      <td>0.894700</td>\n",
       "      <td>0.895455</td>\n",
       "    </tr>\n",
       "  </tbody>\n",
       "</table><p>"
      ],
      "text/plain": [
       "<IPython.core.display.HTML object>"
      ]
     },
     "metadata": {},
     "output_type": "display_data"
    },
    {
     "name": "stderr",
     "output_type": "stream",
     "text": [
      "Saving model checkpoint to /aiffel/aiffel/[GN08]_HuggingFace/Bucketing/checkpoint-500\n",
      "Configuration saved in /aiffel/aiffel/[GN08]_HuggingFace/Bucketing/checkpoint-500/config.json\n",
      "Model weights saved in /aiffel/aiffel/[GN08]_HuggingFace/Bucketing/checkpoint-500/pytorch_model.bin\n",
      "Saving model checkpoint to /aiffel/aiffel/[GN08]_HuggingFace/Bucketing/checkpoint-1000\n",
      "Configuration saved in /aiffel/aiffel/[GN08]_HuggingFace/Bucketing/checkpoint-1000/config.json\n",
      "Model weights saved in /aiffel/aiffel/[GN08]_HuggingFace/Bucketing/checkpoint-1000/pytorch_model.bin\n",
      "Saving model checkpoint to /aiffel/aiffel/[GN08]_HuggingFace/Bucketing/checkpoint-1500\n",
      "Configuration saved in /aiffel/aiffel/[GN08]_HuggingFace/Bucketing/checkpoint-1500/config.json\n",
      "Model weights saved in /aiffel/aiffel/[GN08]_HuggingFace/Bucketing/checkpoint-1500/pytorch_model.bin\n",
      "Saving model checkpoint to /aiffel/aiffel/[GN08]_HuggingFace/Bucketing/checkpoint-2000\n",
      "Configuration saved in /aiffel/aiffel/[GN08]_HuggingFace/Bucketing/checkpoint-2000/config.json\n",
      "Model weights saved in /aiffel/aiffel/[GN08]_HuggingFace/Bucketing/checkpoint-2000/pytorch_model.bin\n",
      "Saving model checkpoint to /aiffel/aiffel/[GN08]_HuggingFace/Bucketing/checkpoint-2500\n",
      "Configuration saved in /aiffel/aiffel/[GN08]_HuggingFace/Bucketing/checkpoint-2500/config.json\n",
      "Model weights saved in /aiffel/aiffel/[GN08]_HuggingFace/Bucketing/checkpoint-2500/pytorch_model.bin\n",
      "Saving model checkpoint to /aiffel/aiffel/[GN08]_HuggingFace/Bucketing/checkpoint-3000\n",
      "Configuration saved in /aiffel/aiffel/[GN08]_HuggingFace/Bucketing/checkpoint-3000/config.json\n",
      "Model weights saved in /aiffel/aiffel/[GN08]_HuggingFace/Bucketing/checkpoint-3000/pytorch_model.bin\n",
      "Saving model checkpoint to /aiffel/aiffel/[GN08]_HuggingFace/Bucketing/checkpoint-3500\n",
      "Configuration saved in /aiffel/aiffel/[GN08]_HuggingFace/Bucketing/checkpoint-3500/config.json\n",
      "Model weights saved in /aiffel/aiffel/[GN08]_HuggingFace/Bucketing/checkpoint-3500/pytorch_model.bin\n",
      "Saving model checkpoint to /aiffel/aiffel/[GN08]_HuggingFace/Bucketing/checkpoint-4000\n",
      "Configuration saved in /aiffel/aiffel/[GN08]_HuggingFace/Bucketing/checkpoint-4000/config.json\n",
      "Model weights saved in /aiffel/aiffel/[GN08]_HuggingFace/Bucketing/checkpoint-4000/pytorch_model.bin\n",
      "Saving model checkpoint to /aiffel/aiffel/[GN08]_HuggingFace/Bucketing/checkpoint-4500\n",
      "Configuration saved in /aiffel/aiffel/[GN08]_HuggingFace/Bucketing/checkpoint-4500/config.json\n",
      "Model weights saved in /aiffel/aiffel/[GN08]_HuggingFace/Bucketing/checkpoint-4500/pytorch_model.bin\n",
      "Saving model checkpoint to /aiffel/aiffel/[GN08]_HuggingFace/Bucketing/checkpoint-5000\n",
      "Configuration saved in /aiffel/aiffel/[GN08]_HuggingFace/Bucketing/checkpoint-5000/config.json\n",
      "Model weights saved in /aiffel/aiffel/[GN08]_HuggingFace/Bucketing/checkpoint-5000/pytorch_model.bin\n",
      "Saving model checkpoint to /aiffel/aiffel/[GN08]_HuggingFace/Bucketing/checkpoint-5500\n",
      "Configuration saved in /aiffel/aiffel/[GN08]_HuggingFace/Bucketing/checkpoint-5500/config.json\n",
      "Model weights saved in /aiffel/aiffel/[GN08]_HuggingFace/Bucketing/checkpoint-5500/pytorch_model.bin\n",
      "Saving model checkpoint to /aiffel/aiffel/[GN08]_HuggingFace/Bucketing/checkpoint-6000\n",
      "Configuration saved in /aiffel/aiffel/[GN08]_HuggingFace/Bucketing/checkpoint-6000/config.json\n",
      "Model weights saved in /aiffel/aiffel/[GN08]_HuggingFace/Bucketing/checkpoint-6000/pytorch_model.bin\n"
     ]
    },
    {
     "name": "stdout",
     "output_type": "stream",
     "text": [
      "huggingface/tokenizers: The current process just got forked, after parallelism has already been used. Disabling parallelism to avoid deadlocks...\n",
      "To disable this warning, you can either:\n",
      "\t- Avoid using `tokenizers` before the fork if possible\n",
      "\t- Explicitly set the environment variable TOKENIZERS_PARALLELISM=(true | false)\n",
      "huggingface/tokenizers: The current process just got forked, after parallelism has already been used. Disabling parallelism to avoid deadlocks...\n",
      "To disable this warning, you can either:\n",
      "\t- Avoid using `tokenizers` before the fork if possible\n",
      "\t- Explicitly set the environment variable TOKENIZERS_PARALLELISM=(true | false)\n",
      "huggingface/tokenizers: The current process just got forked, after parallelism has already been used. Disabling parallelism to avoid deadlocks...\n",
      "To disable this warning, you can either:\n",
      "\t- Avoid using `tokenizers` before the fork if possible\n",
      "\t- Explicitly set the environment variable TOKENIZERS_PARALLELISM=(true | false)\n"
     ]
    },
    {
     "name": "stderr",
     "output_type": "stream",
     "text": [
      "The following columns in the evaluation set  don't have a corresponding argument in `RobertaForSequenceClassification.forward` and have been ignored: id, document.\n",
      "***** Running Evaluation *****\n",
      "  Num examples = 50000\n",
      "  Batch size = 16\n"
     ]
    },
    {
     "name": "stdout",
     "output_type": "stream",
     "text": [
      "huggingface/tokenizers: The current process just got forked, after parallelism has already been used. Disabling parallelism to avoid deadlocks...\n",
      "To disable this warning, you can either:\n",
      "\t- Avoid using `tokenizers` before the fork if possible\n",
      "\t- Explicitly set the environment variable TOKENIZERS_PARALLELISM=(true | false)\n",
      "huggingface/tokenizers: The current process just got forked, after parallelism has already been used. Disabling parallelism to avoid deadlocks...\n",
      "To disable this warning, you can either:\n",
      "\t- Avoid using `tokenizers` before the fork if possible\n",
      "\t- Explicitly set the environment variable TOKENIZERS_PARALLELISM=(true | false)\n",
      "huggingface/tokenizers: The current process just got forked, after parallelism has already been used. Disabling parallelism to avoid deadlocks...\n",
      "To disable this warning, you can either:\n",
      "\t- Avoid using `tokenizers` before the fork if possible\n",
      "\t- Explicitly set the environment variable TOKENIZERS_PARALLELISM=(true | false)\n",
      "huggingface/tokenizers: The current process just got forked, after parallelism has already been used. Disabling parallelism to avoid deadlocks...\n",
      "To disable this warning, you can either:\n",
      "\t- Avoid using `tokenizers` before the fork if possible\n",
      "\t- Explicitly set the environment variable TOKENIZERS_PARALLELISM=(true | false)\n",
      "huggingface/tokenizers: The current process just got forked, after parallelism has already been used. Disabling parallelism to avoid deadlocks...\n",
      "To disable this warning, you can either:\n",
      "\t- Avoid using `tokenizers` before the fork if possible\n",
      "\t- Explicitly set the environment variable TOKENIZERS_PARALLELISM=(true | false)\n",
      "huggingface/tokenizers: The current process just got forked, after parallelism has already been used. Disabling parallelism to avoid deadlocks...\n",
      "To disable this warning, you can either:\n",
      "\t- Avoid using `tokenizers` before the fork if possible\n",
      "\t- Explicitly set the environment variable TOKENIZERS_PARALLELISM=(true | false)\n",
      "huggingface/tokenizers: The current process just got forked, after parallelism has already been used. Disabling parallelism to avoid deadlocks...\n",
      "To disable this warning, you can either:\n",
      "\t- Avoid using `tokenizers` before the fork if possible\n",
      "\t- Explicitly set the environment variable TOKENIZERS_PARALLELISM=(true | false)\n",
      "huggingface/tokenizers: The current process just got forked, after parallelism has already been used. Disabling parallelism to avoid deadlocks...\n",
      "To disable this warning, you can either:\n",
      "\t- Avoid using `tokenizers` before the fork if possible\n",
      "\t- Explicitly set the environment variable TOKENIZERS_PARALLELISM=(true | false)\n",
      "huggingface/tokenizers: The current process just got forked, after parallelism has already been used. Disabling parallelism to avoid deadlocks...\n",
      "To disable this warning, you can either:\n",
      "\t- Avoid using `tokenizers` before the fork if possible\n",
      "\t- Explicitly set the environment variable TOKENIZERS_PARALLELISM=(true | false)\n",
      "huggingface/tokenizers: The current process just got forked, after parallelism has already been used. Disabling parallelism to avoid deadlocks...\n",
      "To disable this warning, you can either:\n",
      "\t- Avoid using `tokenizers` before the fork if possible\n",
      "\t- Explicitly set the environment variable TOKENIZERS_PARALLELISM=(true | false)\n",
      "huggingface/tokenizers: The current process just got forked, after parallelism has already been used. Disabling parallelism to avoid deadlocks...\n",
      "To disable this warning, you can either:\n",
      "\t- Avoid using `tokenizers` before the fork if possible\n",
      "\t- Explicitly set the environment variable TOKENIZERS_PARALLELISM=(true | false)\n"
     ]
    },
    {
     "name": "stderr",
     "output_type": "stream",
     "text": [
      "Saving model checkpoint to /aiffel/aiffel/[GN08]_HuggingFace/Bucketing/checkpoint-6500\n",
      "Configuration saved in /aiffel/aiffel/[GN08]_HuggingFace/Bucketing/checkpoint-6500/config.json\n",
      "Model weights saved in /aiffel/aiffel/[GN08]_HuggingFace/Bucketing/checkpoint-6500/pytorch_model.bin\n",
      "Saving model checkpoint to /aiffel/aiffel/[GN08]_HuggingFace/Bucketing/checkpoint-7000\n",
      "Configuration saved in /aiffel/aiffel/[GN08]_HuggingFace/Bucketing/checkpoint-7000/config.json\n",
      "Model weights saved in /aiffel/aiffel/[GN08]_HuggingFace/Bucketing/checkpoint-7000/pytorch_model.bin\n",
      "Saving model checkpoint to /aiffel/aiffel/[GN08]_HuggingFace/Bucketing/checkpoint-7500\n",
      "Configuration saved in /aiffel/aiffel/[GN08]_HuggingFace/Bucketing/checkpoint-7500/config.json\n",
      "Model weights saved in /aiffel/aiffel/[GN08]_HuggingFace/Bucketing/checkpoint-7500/pytorch_model.bin\n",
      "Saving model checkpoint to /aiffel/aiffel/[GN08]_HuggingFace/Bucketing/checkpoint-8000\n",
      "Configuration saved in /aiffel/aiffel/[GN08]_HuggingFace/Bucketing/checkpoint-8000/config.json\n",
      "Model weights saved in /aiffel/aiffel/[GN08]_HuggingFace/Bucketing/checkpoint-8000/pytorch_model.bin\n",
      "Saving model checkpoint to /aiffel/aiffel/[GN08]_HuggingFace/Bucketing/checkpoint-8500\n",
      "Configuration saved in /aiffel/aiffel/[GN08]_HuggingFace/Bucketing/checkpoint-8500/config.json\n",
      "Model weights saved in /aiffel/aiffel/[GN08]_HuggingFace/Bucketing/checkpoint-8500/pytorch_model.bin\n",
      "Saving model checkpoint to /aiffel/aiffel/[GN08]_HuggingFace/Bucketing/checkpoint-9000\n",
      "Configuration saved in /aiffel/aiffel/[GN08]_HuggingFace/Bucketing/checkpoint-9000/config.json\n",
      "Model weights saved in /aiffel/aiffel/[GN08]_HuggingFace/Bucketing/checkpoint-9000/pytorch_model.bin\n",
      "Saving model checkpoint to /aiffel/aiffel/[GN08]_HuggingFace/Bucketing/checkpoint-9500\n",
      "Configuration saved in /aiffel/aiffel/[GN08]_HuggingFace/Bucketing/checkpoint-9500/config.json\n",
      "Model weights saved in /aiffel/aiffel/[GN08]_HuggingFace/Bucketing/checkpoint-9500/pytorch_model.bin\n",
      "Saving model checkpoint to /aiffel/aiffel/[GN08]_HuggingFace/Bucketing/checkpoint-10000\n",
      "Configuration saved in /aiffel/aiffel/[GN08]_HuggingFace/Bucketing/checkpoint-10000/config.json\n",
      "Model weights saved in /aiffel/aiffel/[GN08]_HuggingFace/Bucketing/checkpoint-10000/pytorch_model.bin\n",
      "Saving model checkpoint to /aiffel/aiffel/[GN08]_HuggingFace/Bucketing/checkpoint-10500\n",
      "Configuration saved in /aiffel/aiffel/[GN08]_HuggingFace/Bucketing/checkpoint-10500/config.json\n",
      "Model weights saved in /aiffel/aiffel/[GN08]_HuggingFace/Bucketing/checkpoint-10500/pytorch_model.bin\n",
      "Saving model checkpoint to /aiffel/aiffel/[GN08]_HuggingFace/Bucketing/checkpoint-11000\n",
      "Configuration saved in /aiffel/aiffel/[GN08]_HuggingFace/Bucketing/checkpoint-11000/config.json\n",
      "Model weights saved in /aiffel/aiffel/[GN08]_HuggingFace/Bucketing/checkpoint-11000/pytorch_model.bin\n",
      "Saving model checkpoint to /aiffel/aiffel/[GN08]_HuggingFace/Bucketing/checkpoint-11500\n",
      "Configuration saved in /aiffel/aiffel/[GN08]_HuggingFace/Bucketing/checkpoint-11500/config.json\n",
      "Model weights saved in /aiffel/aiffel/[GN08]_HuggingFace/Bucketing/checkpoint-11500/pytorch_model.bin\n",
      "Saving model checkpoint to /aiffel/aiffel/[GN08]_HuggingFace/Bucketing/checkpoint-12000\n",
      "Configuration saved in /aiffel/aiffel/[GN08]_HuggingFace/Bucketing/checkpoint-12000/config.json\n",
      "Model weights saved in /aiffel/aiffel/[GN08]_HuggingFace/Bucketing/checkpoint-12000/pytorch_model.bin\n",
      "Saving model checkpoint to /aiffel/aiffel/[GN08]_HuggingFace/Bucketing/checkpoint-12500\n",
      "Configuration saved in /aiffel/aiffel/[GN08]_HuggingFace/Bucketing/checkpoint-12500/config.json\n",
      "Model weights saved in /aiffel/aiffel/[GN08]_HuggingFace/Bucketing/checkpoint-12500/pytorch_model.bin\n"
     ]
    },
    {
     "name": "stdout",
     "output_type": "stream",
     "text": [
      "huggingface/tokenizers: The current process just got forked, after parallelism has already been used. Disabling parallelism to avoid deadlocks...\n",
      "To disable this warning, you can either:\n",
      "\t- Avoid using `tokenizers` before the fork if possible\n",
      "\t- Explicitly set the environment variable TOKENIZERS_PARALLELISM=(true | false)\n",
      "huggingface/tokenizers: The current process just got forked, after parallelism has already been used. Disabling parallelism to avoid deadlocks...\n",
      "To disable this warning, you can either:\n",
      "\t- Avoid using `tokenizers` before the fork if possible\n",
      "\t- Explicitly set the environment variable TOKENIZERS_PARALLELISM=(true | false)\n"
     ]
    },
    {
     "name": "stderr",
     "output_type": "stream",
     "text": [
      "The following columns in the evaluation set  don't have a corresponding argument in `RobertaForSequenceClassification.forward` and have been ignored: id, document.\n",
      "***** Running Evaluation *****\n",
      "  Num examples = 50000\n",
      "  Batch size = 16\n"
     ]
    },
    {
     "name": "stdout",
     "output_type": "stream",
     "text": [
      "huggingface/tokenizers: The current process just got forked, after parallelism has already been used. Disabling parallelism to avoid deadlocks...\n",
      "To disable this warning, you can either:\n",
      "\t- Avoid using `tokenizers` before the fork if possible\n",
      "\t- Explicitly set the environment variable TOKENIZERS_PARALLELISM=(true | false)\n",
      "huggingface/tokenizers: The current process just got forked, after parallelism has already been used. Disabling parallelism to avoid deadlocks...\n",
      "To disable this warning, you can either:\n",
      "\t- Avoid using `tokenizers` before the fork if possible\n",
      "\t- Explicitly set the environment variable TOKENIZERS_PARALLELISM=(true | false)\n",
      "huggingface/tokenizers: The current process just got forked, after parallelism has already been used. Disabling parallelism to avoid deadlocks...\n",
      "To disable this warning, you can either:\n",
      "\t- Avoid using `tokenizers` before the fork if possible\n",
      "\t- Explicitly set the environment variable TOKENIZERS_PARALLELISM=(true | false)\n",
      "huggingface/tokenizers: The current process just got forked, after parallelism has already been used. Disabling parallelism to avoid deadlocks...\n",
      "To disable this warning, you can either:\n",
      "\t- Avoid using `tokenizers` before the fork if possible\n",
      "\t- Explicitly set the environment variable TOKENIZERS_PARALLELISM=(true | false)\n",
      "huggingface/tokenizers: The current process just got forked, after parallelism has already been used. Disabling parallelism to avoid deadlocks...\n",
      "To disable this warning, you can either:\n",
      "\t- Avoid using `tokenizers` before the fork if possible\n",
      "\t- Explicitly set the environment variable TOKENIZERS_PARALLELISM=(true | false)\n",
      "huggingface/tokenizers: The current process just got forked, after parallelism has already been used. Disabling parallelism to avoid deadlocks...\n",
      "To disable this warning, you can either:\n",
      "\t- Avoid using `tokenizers` before the fork if possible\n",
      "\t- Explicitly set the environment variable TOKENIZERS_PARALLELISM=(true | false)\n",
      "huggingface/tokenizers: The current process just got forked, after parallelism has already been used. Disabling parallelism to avoid deadlocks...\n",
      "To disable this warning, you can either:\n",
      "\t- Avoid using `tokenizers` before the fork if possible\n",
      "\t- Explicitly set the environment variable TOKENIZERS_PARALLELISM=(true | false)\n",
      "huggingface/tokenizers: The current process just got forked, after parallelism has already been used. Disabling parallelism to avoid deadlocks...\n",
      "To disable this warning, you can either:\n",
      "\t- Avoid using `tokenizers` before the fork if possible\n",
      "\t- Explicitly set the environment variable TOKENIZERS_PARALLELISM=(true | false)\n",
      "huggingface/tokenizers: The current process just got forked, after parallelism has already been used. Disabling parallelism to avoid deadlocks...\n",
      "To disable this warning, you can either:\n",
      "\t- Avoid using `tokenizers` before the fork if possible\n",
      "\t- Explicitly set the environment variable TOKENIZERS_PARALLELISM=(true | false)\n",
      "huggingface/tokenizers: The current process just got forked, after parallelism has already been used. Disabling parallelism to avoid deadlocks...\n",
      "To disable this warning, you can either:\n",
      "\t- Avoid using `tokenizers` before the fork if possible\n",
      "\t- Explicitly set the environment variable TOKENIZERS_PARALLELISM=(true | false)\n",
      "huggingface/tokenizers: The current process just got forked, after parallelism has already been used. Disabling parallelism to avoid deadlocks...\n",
      "To disable this warning, you can either:\n",
      "\t- Avoid using `tokenizers` before the fork if possible\n",
      "\t- Explicitly set the environment variable TOKENIZERS_PARALLELISM=(true | false)\n"
     ]
    },
    {
     "name": "stderr",
     "output_type": "stream",
     "text": [
      "Saving model checkpoint to /aiffel/aiffel/[GN08]_HuggingFace/Bucketing/checkpoint-13000\n",
      "Configuration saved in /aiffel/aiffel/[GN08]_HuggingFace/Bucketing/checkpoint-13000/config.json\n",
      "Model weights saved in /aiffel/aiffel/[GN08]_HuggingFace/Bucketing/checkpoint-13000/pytorch_model.bin\n",
      "Saving model checkpoint to /aiffel/aiffel/[GN08]_HuggingFace/Bucketing/checkpoint-13500\n",
      "Configuration saved in /aiffel/aiffel/[GN08]_HuggingFace/Bucketing/checkpoint-13500/config.json\n",
      "Model weights saved in /aiffel/aiffel/[GN08]_HuggingFace/Bucketing/checkpoint-13500/pytorch_model.bin\n",
      "Saving model checkpoint to /aiffel/aiffel/[GN08]_HuggingFace/Bucketing/checkpoint-14000\n",
      "Configuration saved in /aiffel/aiffel/[GN08]_HuggingFace/Bucketing/checkpoint-14000/config.json\n",
      "Model weights saved in /aiffel/aiffel/[GN08]_HuggingFace/Bucketing/checkpoint-14000/pytorch_model.bin\n",
      "Saving model checkpoint to /aiffel/aiffel/[GN08]_HuggingFace/Bucketing/checkpoint-14500\n",
      "Configuration saved in /aiffel/aiffel/[GN08]_HuggingFace/Bucketing/checkpoint-14500/config.json\n",
      "Model weights saved in /aiffel/aiffel/[GN08]_HuggingFace/Bucketing/checkpoint-14500/pytorch_model.bin\n",
      "Saving model checkpoint to /aiffel/aiffel/[GN08]_HuggingFace/Bucketing/checkpoint-15000\n",
      "Configuration saved in /aiffel/aiffel/[GN08]_HuggingFace/Bucketing/checkpoint-15000/config.json\n",
      "Model weights saved in /aiffel/aiffel/[GN08]_HuggingFace/Bucketing/checkpoint-15000/pytorch_model.bin\n",
      "Saving model checkpoint to /aiffel/aiffel/[GN08]_HuggingFace/Bucketing/checkpoint-15500\n",
      "Configuration saved in /aiffel/aiffel/[GN08]_HuggingFace/Bucketing/checkpoint-15500/config.json\n",
      "Model weights saved in /aiffel/aiffel/[GN08]_HuggingFace/Bucketing/checkpoint-15500/pytorch_model.bin\n",
      "Saving model checkpoint to /aiffel/aiffel/[GN08]_HuggingFace/Bucketing/checkpoint-16000\n",
      "Configuration saved in /aiffel/aiffel/[GN08]_HuggingFace/Bucketing/checkpoint-16000/config.json\n",
      "Model weights saved in /aiffel/aiffel/[GN08]_HuggingFace/Bucketing/checkpoint-16000/pytorch_model.bin\n",
      "Saving model checkpoint to /aiffel/aiffel/[GN08]_HuggingFace/Bucketing/checkpoint-16500\n",
      "Configuration saved in /aiffel/aiffel/[GN08]_HuggingFace/Bucketing/checkpoint-16500/config.json\n",
      "Model weights saved in /aiffel/aiffel/[GN08]_HuggingFace/Bucketing/checkpoint-16500/pytorch_model.bin\n",
      "Saving model checkpoint to /aiffel/aiffel/[GN08]_HuggingFace/Bucketing/checkpoint-17000\n",
      "Configuration saved in /aiffel/aiffel/[GN08]_HuggingFace/Bucketing/checkpoint-17000/config.json\n",
      "Model weights saved in /aiffel/aiffel/[GN08]_HuggingFace/Bucketing/checkpoint-17000/pytorch_model.bin\n",
      "Saving model checkpoint to /aiffel/aiffel/[GN08]_HuggingFace/Bucketing/checkpoint-17500\n",
      "Configuration saved in /aiffel/aiffel/[GN08]_HuggingFace/Bucketing/checkpoint-17500/config.json\n",
      "Model weights saved in /aiffel/aiffel/[GN08]_HuggingFace/Bucketing/checkpoint-17500/pytorch_model.bin\n",
      "Saving model checkpoint to /aiffel/aiffel/[GN08]_HuggingFace/Bucketing/checkpoint-18000\n",
      "Configuration saved in /aiffel/aiffel/[GN08]_HuggingFace/Bucketing/checkpoint-18000/config.json\n",
      "Model weights saved in /aiffel/aiffel/[GN08]_HuggingFace/Bucketing/checkpoint-18000/pytorch_model.bin\n",
      "Saving model checkpoint to /aiffel/aiffel/[GN08]_HuggingFace/Bucketing/checkpoint-18500\n",
      "Configuration saved in /aiffel/aiffel/[GN08]_HuggingFace/Bucketing/checkpoint-18500/config.json\n",
      "Model weights saved in /aiffel/aiffel/[GN08]_HuggingFace/Bucketing/checkpoint-18500/pytorch_model.bin\n"
     ]
    },
    {
     "name": "stdout",
     "output_type": "stream",
     "text": [
      "huggingface/tokenizers: The current process just got forked, after parallelism has already been used. Disabling parallelism to avoid deadlocks...\n",
      "To disable this warning, you can either:\n",
      "\t- Avoid using `tokenizers` before the fork if possible\n",
      "\t- Explicitly set the environment variable TOKENIZERS_PARALLELISM=(true | false)\n",
      "huggingface/tokenizers: The current process just got forked, after parallelism has already been used. Disabling parallelism to avoid deadlocks...\n",
      "To disable this warning, you can either:\n",
      "\t- Avoid using `tokenizers` before the fork if possible\n",
      "\t- Explicitly set the environment variable TOKENIZERS_PARALLELISM=(true | false)\n",
      "huggingface/tokenizers: The current process just got forked, after parallelism has already been used. Disabling parallelism to avoid deadlocks...\n",
      "To disable this warning, you can either:\n",
      "\t- Avoid using `tokenizers` before the fork if possible\n",
      "\t- Explicitly set the environment variable TOKENIZERS_PARALLELISM=(true | false)\n"
     ]
    },
    {
     "name": "stderr",
     "output_type": "stream",
     "text": [
      "The following columns in the evaluation set  don't have a corresponding argument in `RobertaForSequenceClassification.forward` and have been ignored: id, document.\n",
      "***** Running Evaluation *****\n",
      "  Num examples = 50000\n",
      "  Batch size = 16\n"
     ]
    },
    {
     "name": "stdout",
     "output_type": "stream",
     "text": [
      "huggingface/tokenizers: The current process just got forked, after parallelism has already been used. Disabling parallelism to avoid deadlocks...\n",
      "To disable this warning, you can either:\n",
      "\t- Avoid using `tokenizers` before the fork if possible\n",
      "\t- Explicitly set the environment variable TOKENIZERS_PARALLELISM=(true | false)\n",
      "huggingface/tokenizers: The current process just got forked, after parallelism has already been used. Disabling parallelism to avoid deadlocks...\n",
      "To disable this warning, you can either:\n",
      "\t- Avoid using `tokenizers` before the fork if possible\n",
      "\t- Explicitly set the environment variable TOKENIZERS_PARALLELISM=(true | false)\n",
      "huggingface/tokenizers: The current process just got forked, after parallelism has already been used. Disabling parallelism to avoid deadlocks...\n",
      "To disable this warning, you can either:\n",
      "\t- Avoid using `tokenizers` before the fork if possible\n",
      "\t- Explicitly set the environment variable TOKENIZERS_PARALLELISM=(true | false)\n",
      "huggingface/tokenizers: The current process just got forked, after parallelism has already been used. Disabling parallelism to avoid deadlocks...\n",
      "To disable this warning, you can either:\n",
      "\t- Avoid using `tokenizers` before the fork if possible\n",
      "\t- Explicitly set the environment variable TOKENIZERS_PARALLELISM=(true | false)\n",
      "huggingface/tokenizers: The current process just got forked, after parallelism has already been used. Disabling parallelism to avoid deadlocks...\n",
      "To disable this warning, you can either:\n",
      "\t- Avoid using `tokenizers` before the fork if possible\n",
      "\t- Explicitly set the environment variable TOKENIZERS_PARALLELISM=(true | false)\n",
      "huggingface/tokenizers: The current process just got forked, after parallelism has already been used. Disabling parallelism to avoid deadlocks...\n",
      "To disable this warning, you can either:\n",
      "\t- Avoid using `tokenizers` before the fork if possible\n",
      "\t- Explicitly set the environment variable TOKENIZERS_PARALLELISM=(true | false)\n"
     ]
    },
    {
     "name": "stderr",
     "output_type": "stream",
     "text": [
      "\n",
      "\n",
      "Training completed. Do not forget to share your model on huggingface.co/models =)\n",
      "\n",
      "\n"
     ]
    },
    {
     "data": {
      "text/plain": [
       "TrainOutput(global_step=18750, training_loss=0.0984495556640625, metrics={'train_runtime': 16965.7088, 'train_samples_per_second': 17.683, 'train_steps_per_second': 1.105, 'total_flos': 3.97402195968e+16, 'train_loss': 0.0984495556640625, 'epoch': 3.0})"
      ]
     },
     "execution_count": 14,
     "metadata": {},
     "output_type": "execute_result"
    }
   ],
   "source": [
    "from transformers import DataCollatorWithPadding\n",
    "\n",
    "output_dir = os.getenv('HOME')+'/aiffel/[GN08]_HuggingFace/Bucketing'\n",
    "\n",
    "\"\"\"custom bucket_batch_size를 지정하고 싶으면 아래와 같이 쓰면 됨\"\"\"\n",
    "# bucket_batch_sizes = [8, 16, 32]\n",
    "# bucket_batch_sizes=bucket_batch_sizes in 'training_args = TrainingArguments()'\n",
    "\n",
    "# Define the TrainingArguments\n",
    "training_args = TrainingArguments(\n",
    "    output_dir=output_dir,\n",
    "    evaluation_strategy=\"epoch\",\n",
    "    learning_rate=2e-5,\n",
    "    per_device_train_batch_size=16,\n",
    "    per_device_eval_batch_size=16,\n",
    "    num_train_epochs=3,\n",
    "    weight_decay=0.01,\n",
    "    group_by_length=True,  # Enable grouping by sequence length\n",
    "    dataloader_num_workers=4,\n",
    ")\n",
    "\n",
    "# Create a DataCollator\n",
    "data_collator = DataCollatorWithPadding(tokenizer)\n",
    "\n",
    "# Create the Trainer\n",
    "trainer = Trainer(\n",
    "    model=model,\n",
    "    args=training_args,\n",
    "    train_dataset=train_dataset,\n",
    "    eval_dataset=val_dataset,\n",
    "    data_collator=data_collator,\n",
    "    compute_metrics=compute_metrics,\n",
    ")\n",
    "\n",
    "# Train the model\n",
    "trainer.train()"
   ]
  },
  {
   "cell_type": "code",
   "execution_count": 15,
   "id": "49bda216",
   "metadata": {},
   "outputs": [
    {
     "name": "stderr",
     "output_type": "stream",
     "text": [
      "loading configuration file /aiffel/aiffel/[GN08]_HuggingFace/Bucketing/checkpoint-18500/config.json\n",
      "Model config RobertaConfig {\n",
      "  \"_name_or_path\": \"/aiffel/aiffel/[GN08]_HuggingFace/checkpoint-18000\",\n",
      "  \"architectures\": [\n",
      "    \"RobertaForSequenceClassification\"\n",
      "  ],\n",
      "  \"attention_probs_dropout_prob\": 0.1,\n",
      "  \"bos_token_id\": 0,\n",
      "  \"classifier_dropout\": null,\n",
      "  \"eos_token_id\": 2,\n",
      "  \"gradient_checkpointing\": false,\n",
      "  \"hidden_act\": \"gelu\",\n",
      "  \"hidden_dropout_prob\": 0.1,\n",
      "  \"hidden_size\": 768,\n",
      "  \"initializer_range\": 0.02,\n",
      "  \"intermediate_size\": 3072,\n",
      "  \"layer_norm_eps\": 1e-05,\n",
      "  \"max_position_embeddings\": 514,\n",
      "  \"model_type\": \"roberta\",\n",
      "  \"num_attention_heads\": 12,\n",
      "  \"num_hidden_layers\": 6,\n",
      "  \"pad_token_id\": 1,\n",
      "  \"position_embedding_type\": \"absolute\",\n",
      "  \"problem_type\": \"single_label_classification\",\n",
      "  \"tokenizer_class\": \"BertTokenizer\",\n",
      "  \"torch_dtype\": \"float32\",\n",
      "  \"transformers_version\": \"4.11.3\",\n",
      "  \"type_vocab_size\": 1,\n",
      "  \"use_cache\": true,\n",
      "  \"vocab_size\": 32000\n",
      "}\n",
      "\n",
      "loading weights file /aiffel/aiffel/[GN08]_HuggingFace/Bucketing/checkpoint-18500/pytorch_model.bin\n",
      "All model checkpoint weights were used when initializing RobertaForSequenceClassification.\n",
      "\n",
      "All the weights of RobertaForSequenceClassification were initialized from the model checkpoint at /aiffel/aiffel/[GN08]_HuggingFace/Bucketing/checkpoint-18500.\n",
      "If your task is similar to the task the model of the checkpoint was trained on, you can already use RobertaForSequenceClassification for predictions without further training.\n",
      "PyTorch: setting up devices\n",
      "The default value for the training argument `--report_to` will change in v5 (from all installed integrations to none). In v5, you will need to use `--report_to all` to get the same behavior as now. You should start updating your code and make this info disappear :-).\n",
      "The following columns in the evaluation set  don't have a corresponding argument in `RobertaForSequenceClassification.forward` and have been ignored: id, document.\n",
      "***** Running Evaluation *****\n",
      "  Num examples = 50000\n",
      "  Batch size = 16\n"
     ]
    },
    {
     "data": {
      "text/html": [
       "\n",
       "    <div>\n",
       "      \n",
       "      <progress value='3125' max='3125' style='width:300px; height:20px; vertical-align: middle;'></progress>\n",
       "      [3125/3125 13:55]\n",
       "    </div>\n",
       "    "
      ],
      "text/plain": [
       "<IPython.core.display.HTML object>"
      ]
     },
     "metadata": {},
     "output_type": "display_data"
    },
    {
     "name": "stdout",
     "output_type": "stream",
     "text": [
      "{'eval_loss': 0.6123278737068176, 'eval_accuracy': 0.89036, 'eval_f1': 0.8915357524435122, 'eval_runtime': 837.003, 'eval_samples_per_second': 59.737, 'eval_steps_per_second': 3.734}\n"
     ]
    }
   ],
   "source": [
    "chck_dir = os.getenv('HOME')+'/aiffel/[GN08]_HuggingFace/Bucketing/checkpoint-18500'\n",
    "save_dir = os.getenv('HOME')+'/aiffel/[GN08]_HuggingFace/Bucketing/checkpoint-18500/eval'\n",
    "\n",
    "# Load the saved checkpoints\n",
    "model = AutoModelForSequenceClassification.from_pretrained(chck_dir)\n",
    "\n",
    "# Create a new Trainer instance for evaluation\n",
    "evaluation_args = TrainingArguments(\n",
    "    output_dir=save_dir,               # Same output directory as during training\n",
    "    per_device_eval_batch_size=16,       # Evaluation batch size\n",
    ")\n",
    "eval_trainer = Trainer(\n",
    "    model=model,\n",
    "    args=evaluation_args,\n",
    "    compute_metrics=compute_metrics,\n",
    ")\n",
    "\n",
    "# Evaluate the model on the test_dataset\n",
    "eval_result = eval_trainer.evaluate(test_dataset)\n",
    "\n",
    "# Print the evaluation result\n",
    "print(eval_result)"
   ]
  },
  {
   "cell_type": "markdown",
   "id": "089778cf",
   "metadata": {},
   "source": [
    "# 회고"
   ]
  },
  {
   "cell_type": "markdown",
   "id": "50f904ef",
   "metadata": {},
   "source": [
    "* 기존의 __'klue/bert-base'__ 모델을 사용했을 땐, __1 epoch당 12시간__ 이 걸려서 도중에 포기하고 상대적으로 파라미터 수가 적고 모델이 가벼운 __'klue/roberta-small'__ 모델을 이용함. 해당 모델을 사용할 경우 __1 epoch당 약 4시간__ 가량 소요됨.\n",
    "\n",
    "* 데이터 개수를 줄이지 않고 __klue/roberta-small__ 모델을 사용해 __3epoch__ 학습 시, __accuracy 와 f1 score 모두 90 %__ 에 달함.\n",
    "\n",
    "* Bucketing Task는 시퀀스 길이가 비슷한 데이터끼리 뭉쳐서 적절한 최대 길이만큼 패딩을 진행한 후 학습하는 방식임. 패딩 토큰 양을 최소화함으로써 메모리를 효율적으로 사용할 수 있게 되어 학습 속도를 향상시키며 모델 성능 또한 개선시킬 수 있다고 함.\n",
    "\n",
    "* __Bucketing Task__ 를 실제로 돌려보았을 때 학습속도가 조금 개선됨. __3 에폭__ 돌릴 때 __약 7시간__ 정도 걸렸으나 __성능이 크게 개선되지는 않음.__"
   ]
  },
  {
   "cell_type": "markdown",
   "id": "7b3337d9",
   "metadata": {},
   "source": [
    "https://nkw011.github.io/nlp/tutorial4_Fine-tune_a_pretrained_model/\n"
   ]
  }
 ],
 "metadata": {
  "kernelspec": {
   "display_name": "Python 3 (ipykernel)",
   "language": "python",
   "name": "python3"
  },
  "language_info": {
   "codemirror_mode": {
    "name": "ipython",
    "version": 3
   },
   "file_extension": ".py",
   "mimetype": "text/x-python",
   "name": "python",
   "nbconvert_exporter": "python",
   "pygments_lexer": "ipython3",
   "version": "3.9.7"
  }
 },
 "nbformat": 4,
 "nbformat_minor": 5
}
