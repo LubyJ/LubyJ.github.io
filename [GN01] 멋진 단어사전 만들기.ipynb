{
 "cells": [
  {
   "cell_type": "markdown",
   "id": "5a347ada",
   "metadata": {},
   "source": [
    "### Step1. 데이터 준비 및 확인"
   ]
  },
  {
   "cell_type": "code",
   "execution_count": 1,
   "id": "8c94534e",
   "metadata": {},
   "outputs": [],
   "source": [
    "import tensorflow as tf\n",
    "import numpy as np\n",
    "import matplotlib.pyplot as plt\n",
    "import konlpy"
   ]
  },
  {
   "cell_type": "code",
   "execution_count": 2,
   "id": "c83211ca",
   "metadata": {
    "scrolled": true
   },
   "outputs": [
    {
     "name": "stdout",
     "output_type": "stream",
     "text": [
      "train data 개수:  150000\n",
      "test data 개수:  50000\n"
     ]
    },
    {
     "data": {
      "text/html": [
       "<div>\n",
       "<style scoped>\n",
       "    .dataframe tbody tr th:only-of-type {\n",
       "        vertical-align: middle;\n",
       "    }\n",
       "\n",
       "    .dataframe tbody tr th {\n",
       "        vertical-align: top;\n",
       "    }\n",
       "\n",
       "    .dataframe thead th {\n",
       "        text-align: right;\n",
       "    }\n",
       "</style>\n",
       "<table border=\"1\" class=\"dataframe\">\n",
       "  <thead>\n",
       "    <tr style=\"text-align: right;\">\n",
       "      <th></th>\n",
       "      <th>id</th>\n",
       "      <th>document</th>\n",
       "      <th>label</th>\n",
       "    </tr>\n",
       "  </thead>\n",
       "  <tbody>\n",
       "    <tr>\n",
       "      <th>0</th>\n",
       "      <td>9976970</td>\n",
       "      <td>아 더빙.. 진짜 짜증나네요 목소리</td>\n",
       "      <td>0</td>\n",
       "    </tr>\n",
       "    <tr>\n",
       "      <th>1</th>\n",
       "      <td>3819312</td>\n",
       "      <td>흠...포스터보고 초딩영화줄....오버연기조차 가볍지 않구나</td>\n",
       "      <td>1</td>\n",
       "    </tr>\n",
       "    <tr>\n",
       "      <th>2</th>\n",
       "      <td>10265843</td>\n",
       "      <td>너무재밓었다그래서보는것을추천한다</td>\n",
       "      <td>0</td>\n",
       "    </tr>\n",
       "    <tr>\n",
       "      <th>3</th>\n",
       "      <td>9045019</td>\n",
       "      <td>교도소 이야기구먼 ..솔직히 재미는 없다..평점 조정</td>\n",
       "      <td>0</td>\n",
       "    </tr>\n",
       "    <tr>\n",
       "      <th>4</th>\n",
       "      <td>6483659</td>\n",
       "      <td>사이몬페그의 익살스런 연기가 돋보였던 영화!스파이더맨에서 늙어보이기만 했던 커스틴 ...</td>\n",
       "      <td>1</td>\n",
       "    </tr>\n",
       "  </tbody>\n",
       "</table>\n",
       "</div>"
      ],
      "text/plain": [
       "         id                                           document  label\n",
       "0   9976970                                아 더빙.. 진짜 짜증나네요 목소리      0\n",
       "1   3819312                  흠...포스터보고 초딩영화줄....오버연기조차 가볍지 않구나      1\n",
       "2  10265843                                  너무재밓었다그래서보는것을추천한다      0\n",
       "3   9045019                      교도소 이야기구먼 ..솔직히 재미는 없다..평점 조정      0\n",
       "4   6483659  사이몬페그의 익살스런 연기가 돋보였던 영화!스파이더맨에서 늙어보이기만 했던 커스틴 ...      1"
      ]
     },
     "execution_count": 2,
     "metadata": {},
     "output_type": "execute_result"
    }
   ],
   "source": [
    "import pandas as pd\n",
    "train_data = pd.read_table('./data/ratings_train.txt')\n",
    "test_data = pd.read_table('./data/ratings_test.txt')\n",
    "print('train data 개수: ', len(train_data))\n",
    "print('test data 개수: ', len(test_data))\n",
    "train_data.head()"
   ]
  },
  {
   "cell_type": "markdown",
   "id": "516c2549",
   "metadata": {},
   "source": [
    "__train, test 데이터 전처리 및 중복&결측치 제거__"
   ]
  },
  {
   "cell_type": "code",
   "execution_count": 3,
   "id": "31eb49c6",
   "metadata": {},
   "outputs": [
    {
     "name": "stdout",
     "output_type": "stream",
     "text": [
      "train data 개수 : 146182\n"
     ]
    }
   ],
   "source": [
    "train_data.drop_duplicates(subset = ['document'], inplace=True) # document 열에서 중복인 내용이 있다면 중복 제거\n",
    "train_data['document'] = train_data['document'].str.replace(\"[^ㄱ-ㅎㅏ-ㅣ가-힣]\",\"\") # 정규 표현식 수행\n",
    "train_data['document'] = train_data['document'].str.replace('^ +', \"\") # 공백은 empty 값으로 변경\n",
    "train_data['document'].replace('', np.nan, inplace=True) # 공백은 Null 값으로 변경\n",
    "train_data = train_data.dropna(how='any') # Null 값 제거\n",
    "print('train data 개수 :',len(train_data))"
   ]
  },
  {
   "cell_type": "code",
   "execution_count": 4,
   "id": "3b46ad7a",
   "metadata": {},
   "outputs": [
    {
     "name": "stdout",
     "output_type": "stream",
     "text": [
      "test data 개수 : 49157\n"
     ]
    }
   ],
   "source": [
    "test_data.drop_duplicates(subset = ['document'], inplace=True) # document 열에서 중복인 내용이 있다면 중복 제거\n",
    "test_data['document'] = test_data['document'].str.replace(\"[^ㄱ-ㅎㅏ-ㅣ가-힣]\",\"\") # 정규 표현식 수행\n",
    "test_data['document'] = test_data['document'].str.replace('^ +', \"\") # 공백은 empty 값으로 변경\n",
    "test_data['document'].replace('', np.nan, inplace=True) # 공백은 Null 값으로 변경\n",
    "test_data = test_data.dropna(how='any') # Null 값 제거\n",
    "print('test data 개수 :',len(test_data))"
   ]
  },
  {
   "cell_type": "code",
   "execution_count": 5,
   "id": "67c7c6c4",
   "metadata": {},
   "outputs": [
    {
     "data": {
      "text/plain": [
       "0                                       아 더빙.. 진짜 짜증나네요 목소리\n",
       "1                         흠...포스터보고 초딩영화줄....오버연기조차 가볍지 않구나\n",
       "2                                         너무재밓었다그래서보는것을추천한다\n",
       "3                             교도소 이야기구먼 ..솔직히 재미는 없다..평점 조정\n",
       "4         사이몬페그의 익살스런 연기가 돋보였던 영화!스파이더맨에서 늙어보이기만 했던 커스틴 ...\n",
       "                                ...                        \n",
       "149995                                  인간이 문제지.. 소는 뭔죄인가..\n",
       "149996                                        평점이 너무 낮아서...\n",
       "149997                      이게 뭐요? 한국인은 거들먹거리고 필리핀 혼혈은 착하다?\n",
       "149998                          청춘 영화의 최고봉.방황과 우울했던 날들의 자화상\n",
       "149999                             한국 영화 최초로 수간하는 내용이 담긴 영화\n",
       "Name: document, Length: 146182, dtype: object"
      ]
     },
     "execution_count": 5,
     "metadata": {},
     "output_type": "execute_result"
    }
   ],
   "source": [
    "train_data['document']"
   ]
  },
  {
   "cell_type": "code",
   "execution_count": 6,
   "id": "bc7e105a",
   "metadata": {},
   "outputs": [
    {
     "data": {
      "text/plain": [
       "0                                                      굳 ㅋ\n",
       "1                                     GDNTOPCLASSINTHECLUB\n",
       "2                   뭐야 이 평점들은.... 나쁘진 않지만 10점 짜리는 더더욱 아니잖아\n",
       "3                         지루하지는 않은데 완전 막장임... 돈주고 보기에는....\n",
       "4        3D만 아니었어도 별 다섯 개 줬을텐데.. 왜 3D로 나와서 제 심기를 불편하게 하죠??\n",
       "                               ...                        \n",
       "49995            오랜만에 평점 로긴했네ㅋㅋ 킹왕짱 쌈뽕한 영화를 만났습니다 강렬하게 육쾌함\n",
       "49996         의지 박약들이나 하는거다 탈영은 일단 주인공 김대희 닮았고 이등병 찐따 OOOO\n",
       "49997                   그림도 좋고 완성도도 높았지만... 보는 내내 불안하게 만든다\n",
       "49998       절대 봐서는 안 될 영화.. 재미도 없고 기분만 잡치고.. 한 세트장에서 다 해먹네\n",
       "49999                                           마무리는 또 왜이래\n",
       "Name: document, Length: 49157, dtype: object"
      ]
     },
     "execution_count": 6,
     "metadata": {},
     "output_type": "execute_result"
    }
   ],
   "source": [
    "test_data['document']"
   ]
  },
  {
   "cell_type": "markdown",
   "id": "a26e65fb",
   "metadata": {},
   "source": [
    "__문장 길이 분포 확인__"
   ]
  },
  {
   "cell_type": "code",
   "execution_count": 7,
   "id": "263e8c69",
   "metadata": {},
   "outputs": [
    {
     "name": "stdout",
     "output_type": "stream",
     "text": [
      "min_len of sentence: 1\n",
      "max_len of sentence: 146\n",
      "mean_len of sentence: 35\n"
     ]
    },
    {
     "data": {
      "image/png": "[encoded data removed]",
      "text/plain": [
       "<Figure size 640x480 with 1 Axes>"
      ]
     },
     "metadata": {},
     "output_type": "display_data"
    }
   ],
   "source": [
    "min_len = 999\n",
    "max_len = 0\n",
    "sum_len = 0\n",
    "\n",
    "for sen in train_data['document']:\n",
    "    length = len(sen)\n",
    "    if min_len > length: min_len = length\n",
    "    if max_len < length: max_len = length\n",
    "    sum_len += length\n",
    "\n",
    "print('min_len of sentence:', min_len)\n",
    "print('max_len of sentence:', max_len)\n",
    "print('mean_len of sentence:', sum_len // len(train_data['document']))\n",
    "\n",
    "sentence_length = np.zeros((max_len), dtype=int)\n",
    "\n",
    "for sen in train_data['document']:\n",
    "    sentence_length[len(sen)-1] += 1\n",
    "    \n",
    "plt.bar(range(max_len), sentence_length, width=1.0)\n",
    "plt.title('sentence length distribution')\n",
    "plt.show()"
   ]
  },
  {
   "cell_type": "code",
   "execution_count": 8,
   "id": "890e3de5",
   "metadata": {},
   "outputs": [
    {
     "name": "stdout",
     "output_type": "stream",
     "text": [
      "아\n",
      "잼\n",
      "1\n",
      "4\n",
      "굿\n",
      "짱\n",
      "휴\n",
      ".\n",
      "음\n",
      "?\n",
      "ㅎ\n",
      "ㅋ\n",
      "즐\n",
      "♥\n",
      "굳\n",
      "네\n",
      "ㅇ\n",
      "k\n",
      "ㅠ\n",
      "쒯\n",
      "♬\n"
     ]
    }
   ],
   "source": [
    "# 길이 1인 문장 확인\n",
    "\n",
    "document = train_data['document']\n",
    "\n",
    "def check_sentence_with_length(document, length):\n",
    "    count = 0\n",
    "    \n",
    "    for sen in document:\n",
    "        if len(sen)==length:\n",
    "            print(sen)\n",
    "            count += 1\n",
    "            if count > 20: return\n",
    "check_sentence_with_length(document, 1)"
   ]
  },
  {
   "cell_type": "markdown",
   "id": "ebaccfc3",
   "metadata": {},
   "source": [
    "한글자로도 충분한 의미전달이 되고 문장 길이는 대체로 0~60 사이에 많이 분포하므로 최대 길이 제한은 60으로 함."
   ]
  },
  {
   "cell_type": "code",
   "execution_count": 9,
   "id": "25e0aae4",
   "metadata": {
    "scrolled": false
   },
   "outputs": [
    {
     "name": "stdout",
     "output_type": "stream",
     "text": [
      "사용 train data 개수:  125132\n"
     ]
    },
    {
     "data": {
      "image/png": "[encoded data removed]",
      "text/plain": [
       "<Figure size 640x480 with 1 Axes>"
      ]
     },
     "metadata": {},
     "output_type": "display_data"
    }
   ],
   "source": [
    "max_len = 60\n",
    "min_len = 1\n",
    "\n",
    "# 길이 조건에 맞는 문장만 선택\n",
    "filtered_corpus = [s for s in document if (len(s) < max_len) & (len(s) >= min_len)]\n",
    "print('사용 train data 개수: ', len(filtered_corpus))\n",
    "\n",
    "# 분포도 시각화\n",
    "sentence_length = np.zeros((max_len), dtype=int)\n",
    "\n",
    "for sen in filtered_corpus:\n",
    "    sentence_length[len(sen)-1] += 1\n",
    "    \n",
    "plt.bar(range(max_len), sentence_length, width=1.0)\n",
    "plt.title('Sentence Length Distribution')\n",
    "plt.show()"
   ]
  },
  {
   "cell_type": "markdown",
   "id": "c8ff1669",
   "metadata": {},
   "source": [
    "### Step 2. SentencePiece를 사용해 모델 학습하기 \n",
    "- SentencePiece 모델의 __model_type, vocab_size__ 등을 변경해 성능 개선 여부 확인"
   ]
  },
  {
   "cell_type": "markdown",
   "id": "2cca4660",
   "metadata": {},
   "source": [
    "__SentencePiece Model Train__"
   ]
  },
  {
   "cell_type": "code",
   "execution_count": 10,
   "id": "00a758ab",
   "metadata": {},
   "outputs": [],
   "source": [
    "import sentencepiece as spm\n",
    "import os\n",
    "\n",
    "temp_file = './data/train_data.temp'\n",
    "\n",
    "with open(temp_file, 'w', encoding='UTF8') as f:\n",
    "    for row in filtered_corpus:\n",
    "        f.write(str(row) + '\\n')"
   ]
  },
  {
   "cell_type": "code",
   "execution_count": 11,
   "id": "4778096a",
   "metadata": {},
   "outputs": [],
   "source": [
    "# Unigram model, vocab_size 8000\n",
    "spm.SentencePieceTrainer.Train('--input={} --model_prefix=uni8000 --vocab_size=8000'.format(temp_file))\n",
    "\n",
    "# Unigram model, vocab_size 4000\n",
    "spm.SentencePieceTrainer.Train('--input={} --model_prefix=uni4000 --vocab_size=4000'.format(temp_file))\n",
    "\n",
    "# BPE model, vocab_size 8000\n",
    "spm.SentencePieceTrainer.Train('--input={} --model_prefix=bpe8000 --vocab_size=8000 --model_type=bpe'.format(temp_file))\n",
    "\n",
    "# BPE model, vocab_size 4000\n",
    "spm.SentencePieceTrainer.Train('--input={} --model_prefix=bpe4000 --vocab_size=4000 --model_type=bpe'.format(temp_file))\n"
   ]
  },
  {
   "cell_type": "markdown",
   "id": "4c5b1c5a",
   "metadata": {},
   "source": [
    "* --input: one-sentence-per-line raw corpus file. __No need to run tokenizer, normalizer or preprocessor.__ By default, SentencePiece normalizes the input with __Unicode [NFKC](https://wodonggun.github.io/study/%ED%95%9C%EA%B8%80-%EC%9D%B8%EC%BD%94%EB%94%A9%EC%9D%B4%EB%9E%80.html)__. You can pass a __comma-separated list__ of files.\n",
    "* --model_prefix: output model name prefix. __<model_name>.model and <model_name>.vocab are generated.__\n",
    "* --vocab_size: vocabulary size, e.g., 8000, 16000, or 32000\n",
    "* --character_coverage: amount of characters covered by the model, __good defaults are: 0.9995__ for languages with rich character set like Japanese or Chinese and 1.0 for other languages with small character set.\n",
    "* --model_type: model type. Choose from __[unigram](https://process-mining.tistory.com/190) (default), bpe, char, or word.__ The input sentence must be pretokenized when using word type."
   ]
  },
  {
   "cell_type": "markdown",
   "id": "82069643",
   "metadata": {},
   "source": [
    "### Step 3. 학습된 모델로 sp_tokenize() 메소드 구현 & train, test 데이터셋 생성"
   ]
  },
  {
   "cell_type": "code",
   "execution_count": 16,
   "id": "d3717ffe",
   "metadata": {},
   "outputs": [],
   "source": [
    "# 승현님 코드를 참고함\n",
    "\n",
    "def sp_tokenize(model_name, vocab, train, test):\n",
    "    \n",
    "    s = spm.SentencePieceProcessor()\n",
    "    s.Load(model_name)\n",
    "    \n",
    "    train_list = []\n",
    "    test_list = []\n",
    "    \n",
    "    for sen in train['document']:\n",
    "        train_list.append(s.EncodeAsIds(sen))\n",
    "        \n",
    "    for sen in test['document']:\n",
    "        test_list.append(s.EncodeAsIds(sen))\n",
    "        \n",
    "    with open('./{}'.format(vocab), 'r', encoding='UTF8') as f:\n",
    "        vocab = f.readlines()\n",
    "        \n",
    "    word_index = {}\n",
    "    index_word = {}\n",
    "    \n",
    "    for idx, line in enumerate(vocab):\n",
    "        word = line.split('\\t')[0]\n",
    "        \n",
    "        word_index.update({word:idx})\n",
    "        index_word.update({idx:word})\n",
    "        \n",
    "    train_tensor = tf.keras.preprocessing.sequence.pad_sequences(train_list, maxlen=60, padding='post')\n",
    "    test_tensor = tf.keras.preprocessing.sequence.pad_sequences(test_list, maxlen=60, padding='post')\n",
    "    \n",
    "    train_label = np.array(train['label'])\n",
    "    test_label = np.array(test['label'])\n",
    "    \n",
    "    return train_tensor, train_label, test_tensor, test_label, word_index, index_word"
   ]
  },
  {
   "cell_type": "code",
   "execution_count": 18,
   "id": "3d198691",
   "metadata": {},
   "outputs": [],
   "source": [
    "train_uni8, train_label_uni8, test_uni8, test_label_uni8, word_index_uni8, index_word_uni8 = sp_tokenize('./uni8000.model', 'uni8000.vocab', train_data, test_data)\n",
    "train_uni4, train_label_uni4, test_uni4, test_label_uni4, word_index_uni4, index_word_uni4 = sp_tokenize('./uni4000.model', 'uni4000.vocab', train_data, test_data)\n",
    "train_bpe8, train_label_bpe8, test_bpe8, test_label_bpe8, word_index_bpe8, index_word_bpe8 = sp_tokenize('./bpe8000.model', 'bpe8000.vocab', train_data, test_data)\n",
    "train_bpe4, train_label_bpe4, test_bpe4, test_label_bpe4, word_index_bpe4, index_word_bpe4 = sp_tokenize('./bpe4000.model', 'bpe4000.vocab', train_data, test_data)"
   ]
  },
  {
   "cell_type": "markdown",
   "id": "b47e88b4",
   "metadata": {},
   "source": [
    "### Step 4. 구현된 토크나이저를 적용하여 네이버 영화리뷰 감정 분석 모델 재학습하기"
   ]
  },
  {
   "cell_type": "markdown",
   "id": "19b724c6",
   "metadata": {},
   "source": [
    "__train 80%, validation 20% 비율로 분리__"
   ]
  },
  {
   "cell_type": "code",
   "execution_count": 21,
   "id": "af53b275",
   "metadata": {},
   "outputs": [
    {
     "name": "stdout",
     "output_type": "stream",
     "text": [
      "29236\n"
     ]
    }
   ],
   "source": [
    "print(int(len(train_bpe4)*0.2))"
   ]
  },
  {
   "cell_type": "code",
   "execution_count": 22,
   "id": "19a51b53",
   "metadata": {},
   "outputs": [],
   "source": [
    "def train_val_split(train_data, train_label):\n",
    "    x_train = train_data[29236:]\n",
    "    y_train = train_label[29236:]\n",
    "    \n",
    "    x_val = train_data[:29236]\n",
    "    y_val = train_label[:29236]\n",
    "    \n",
    "    print('train 데이터셋 개수:', {len(x_train)})\n",
    "    print('validation 데이터셋 개수:', {len(x_val)})\n",
    "    \n",
    "    return x_train, y_train, x_val, y_val"
   ]
  },
  {
   "cell_type": "code",
   "execution_count": 23,
   "id": "40fe39db",
   "metadata": {},
   "outputs": [
    {
     "name": "stdout",
     "output_type": "stream",
     "text": [
      "train 데이터셋 개수: {116946}\n",
      "validation 데이터셋 개수: {29236}\n",
      "train 데이터셋 개수: {116946}\n",
      "validation 데이터셋 개수: {29236}\n",
      "train 데이터셋 개수: {116946}\n",
      "validation 데이터셋 개수: {29236}\n",
      "train 데이터셋 개수: {116946}\n",
      "validation 데이터셋 개수: {29236}\n"
     ]
    }
   ],
   "source": [
    "x_train_uni8, y_train_uni8, x_val_uni8, y_val_uni8 = train_val_split(train_uni8, train_label_uni8)\n",
    "x_train_uni4, y_train_uni4, x_val_uni4, y_val_uni4 = train_val_split(train_uni4, train_label_uni4)\n",
    "x_train_bpe8, y_train_bpe8, x_val_bpe8, y_val_bpe8 = train_val_split(train_bpe8, train_label_bpe8)\n",
    "x_train_bpe4, y_train_bpe4, x_val_bpe4, y_val_bpe4 = train_val_split(train_bpe4, train_label_bpe4)"
   ]
  },
  {
   "cell_type": "markdown",
   "id": "a5270815",
   "metadata": {},
   "source": [
    "__RNN(LSTM) 모델 생성__"
   ]
  },
  {
   "cell_type": "code",
   "execution_count": 25,
   "id": "6a379cf7",
   "metadata": {},
   "outputs": [
    {
     "name": "stdout",
     "output_type": "stream",
     "text": [
      "Model: \"sequential\"\n",
      "_________________________________________________________________\n",
      "Layer (type)                 Output Shape              Param #   \n",
      "=================================================================\n",
      "embedding (Embedding)        (None, None, 16)          128000    \n",
      "_________________________________________________________________\n",
      "lstm (LSTM)                  (None, 8)                 800       \n",
      "_________________________________________________________________\n",
      "dense (Dense)                (None, 8)                 72        \n",
      "_________________________________________________________________\n",
      "dense_1 (Dense)              (None, 1)                 9         \n",
      "=================================================================\n",
      "Total params: 128,881\n",
      "Trainable params: 128,881\n",
      "Non-trainable params: 0\n",
      "_________________________________________________________________\n"
     ]
    }
   ],
   "source": [
    "vocab_size = 8000\n",
    "\n",
    "# 단어 하나를 표현하는 임베딩 벡터의 차원수\n",
    "word_vector_dim = 16\n",
    "\n",
    "model_rnn = tf.keras.Sequential()\n",
    "model_rnn.add(tf.keras.layers.Embedding(vocab_size, word_vector_dim, input_shape=(None, )))\n",
    "model_rnn.add(tf.keras.layers.LSTM(8))\n",
    "model_rnn.add(tf.keras.layers.Dense(8, activation='relu'))\n",
    "# 최종 출력은 긍정/부정을 나타내는 1dim\n",
    "model_rnn.add(tf.keras.layers.Dense(1, activation='sigmoid'))\n",
    "\n",
    "model_rnn.summary()"
   ]
  },
  {
   "cell_type": "markdown",
   "id": "963c3efc",
   "metadata": {},
   "source": [
    "__모델 훈련__"
   ]
  },
  {
   "cell_type": "code",
   "execution_count": 49,
   "id": "a89d5736",
   "metadata": {},
   "outputs": [],
   "source": [
    "model_rnn.compile(optimizer='adam',\n",
    "              loss='binary_crossentropy',\n",
    "              metrics=['accuracy'])\n",
    "epochs=10"
   ]
  },
  {
   "cell_type": "code",
   "execution_count": 27,
   "id": "7649d6e5",
   "metadata": {},
   "outputs": [],
   "source": [
    "def run_rnn(x_train, y_train, x_val, y_val):\n",
    "    history = model_rnn.fit(x_train, y_train,\n",
    "                    epochs=epochs, batch_size=256,\n",
    "                    validation_data=(x_val, y_val),\n",
    "                    verbose=1)\n",
    "    return history"
   ]
  },
  {
   "cell_type": "code",
   "execution_count": 50,
   "id": "aad27707",
   "metadata": {
    "collapsed": true
   },
   "outputs": [
    {
     "name": "stdout",
     "output_type": "stream",
     "text": [
      "Epoch 1/10\n",
      "457/457 [==============================] - 6s 10ms/step - loss: 0.5538 - accuracy: 0.7450 - val_loss: 0.4211 - val_accuracy: 0.8157\n",
      "Epoch 2/10\n",
      "457/457 [==============================] - 4s 8ms/step - loss: 0.3506 - accuracy: 0.8535 - val_loss: 0.3784 - val_accuracy: 0.8403\n",
      "Epoch 3/10\n",
      "457/457 [==============================] - 4s 8ms/step - loss: 0.3048 - accuracy: 0.8749 - val_loss: 0.3654 - val_accuracy: 0.8434\n",
      "Epoch 4/10\n",
      "457/457 [==============================] - 4s 8ms/step - loss: 0.2810 - accuracy: 0.8857 - val_loss: 0.3683 - val_accuracy: 0.8479\n",
      "Epoch 5/10\n",
      "457/457 [==============================] - 4s 8ms/step - loss: 0.2630 - accuracy: 0.8930 - val_loss: 0.3697 - val_accuracy: 0.8479\n",
      "Epoch 6/10\n",
      "457/457 [==============================] - 4s 8ms/step - loss: 0.2468 - accuracy: 0.8998 - val_loss: 0.3824 - val_accuracy: 0.8487\n",
      "Epoch 7/10\n",
      "457/457 [==============================] - 4s 8ms/step - loss: 0.2312 - accuracy: 0.9059 - val_loss: 0.3926 - val_accuracy: 0.8479\n",
      "Epoch 8/10\n",
      "457/457 [==============================] - 4s 8ms/step - loss: 0.2171 - accuracy: 0.9117 - val_loss: 0.4134 - val_accuracy: 0.8468\n",
      "Epoch 9/10\n",
      "457/457 [==============================] - 4s 8ms/step - loss: 0.2039 - accuracy: 0.9166 - val_loss: 0.4405 - val_accuracy: 0.8470\n",
      "Epoch 10/10\n",
      "457/457 [==============================] - 4s 8ms/step - loss: 0.1933 - accuracy: 0.9204 - val_loss: 0.4517 - val_accuracy: 0.8458\n"
     ]
    }
   ],
   "source": [
    "history_uni8 = run_rnn(x_train_uni8, y_train_uni8, x_val_uni8, y_val_uni8)"
   ]
  },
  {
   "cell_type": "code",
   "execution_count": 51,
   "id": "4fa426ed",
   "metadata": {
    "collapsed": true
   },
   "outputs": [
    {
     "name": "stdout",
     "output_type": "stream",
     "text": [
      "Epoch 1/10\n",
      "457/457 [==============================] - 4s 9ms/step - loss: 0.7040 - accuracy: 0.5169 - val_loss: 0.6902 - val_accuracy: 0.5209\n",
      "Epoch 2/10\n",
      "457/457 [==============================] - 4s 8ms/step - loss: 0.6698 - accuracy: 0.5802 - val_loss: 0.5313 - val_accuracy: 0.7479\n",
      "Epoch 3/10\n",
      "457/457 [==============================] - 4s 8ms/step - loss: 0.4164 - accuracy: 0.8167 - val_loss: 0.3888 - val_accuracy: 0.8291\n",
      "Epoch 4/10\n",
      "457/457 [==============================] - 4s 8ms/step - loss: 0.3497 - accuracy: 0.8514 - val_loss: 0.3669 - val_accuracy: 0.8384\n",
      "Epoch 5/10\n",
      "457/457 [==============================] - 4s 8ms/step - loss: 0.3264 - accuracy: 0.8613 - val_loss: 0.3614 - val_accuracy: 0.8418\n",
      "Epoch 6/10\n",
      "457/457 [==============================] - 4s 8ms/step - loss: 0.3098 - accuracy: 0.8684 - val_loss: 0.3597 - val_accuracy: 0.8450\n",
      "Epoch 7/10\n",
      "457/457 [==============================] - 4s 8ms/step - loss: 0.2939 - accuracy: 0.8757 - val_loss: 0.3581 - val_accuracy: 0.8436\n",
      "Epoch 8/10\n",
      "457/457 [==============================] - 4s 8ms/step - loss: 0.2802 - accuracy: 0.8822 - val_loss: 0.3605 - val_accuracy: 0.8452\n",
      "Epoch 9/10\n",
      "457/457 [==============================] - 4s 8ms/step - loss: 0.2672 - accuracy: 0.8889 - val_loss: 0.3690 - val_accuracy: 0.8459\n",
      "Epoch 10/10\n",
      "457/457 [==============================] - 4s 8ms/step - loss: 0.2547 - accuracy: 0.8945 - val_loss: 0.3791 - val_accuracy: 0.8444\n"
     ]
    }
   ],
   "source": [
    "history_uni4 = run_rnn(x_train_uni4, y_train_uni4, x_val_uni4, y_val_uni4)"
   ]
  },
  {
   "cell_type": "code",
   "execution_count": 52,
   "id": "1ca7720c",
   "metadata": {
    "collapsed": true
   },
   "outputs": [
    {
     "name": "stdout",
     "output_type": "stream",
     "text": [
      "Epoch 1/10\n",
      "457/457 [==============================] - 4s 10ms/step - loss: 0.3798 - accuracy: 0.8283 - val_loss: 0.3838 - val_accuracy: 0.8356\n",
      "Epoch 2/10\n",
      "457/457 [==============================] - 4s 8ms/step - loss: 0.2581 - accuracy: 0.8946 - val_loss: 0.3907 - val_accuracy: 0.8429\n",
      "Epoch 3/10\n",
      "457/457 [==============================] - 4s 8ms/step - loss: 0.2132 - accuracy: 0.9166 - val_loss: 0.4030 - val_accuracy: 0.8400\n",
      "Epoch 4/10\n",
      "457/457 [==============================] - 4s 8ms/step - loss: 0.1809 - accuracy: 0.9337 - val_loss: 0.4553 - val_accuracy: 0.8424\n",
      "Epoch 5/10\n",
      "457/457 [==============================] - 4s 8ms/step - loss: 0.1555 - accuracy: 0.9461 - val_loss: 0.4513 - val_accuracy: 0.8403\n",
      "Epoch 6/10\n",
      "457/457 [==============================] - 4s 8ms/step - loss: 0.1358 - accuracy: 0.9556 - val_loss: 0.5081 - val_accuracy: 0.8364\n",
      "Epoch 7/10\n",
      "457/457 [==============================] - 4s 8ms/step - loss: 0.1208 - accuracy: 0.9624 - val_loss: 0.5433 - val_accuracy: 0.8335\n",
      "Epoch 8/10\n",
      "457/457 [==============================] - 4s 8ms/step - loss: 0.1087 - accuracy: 0.9683 - val_loss: 0.5584 - val_accuracy: 0.8343\n",
      "Epoch 9/10\n",
      "457/457 [==============================] - 4s 8ms/step - loss: 0.0993 - accuracy: 0.9721 - val_loss: 0.5814 - val_accuracy: 0.8307\n",
      "Epoch 10/10\n",
      "457/457 [==============================] - 4s 8ms/step - loss: 0.0925 - accuracy: 0.9752 - val_loss: 0.5981 - val_accuracy: 0.8319\n"
     ]
    }
   ],
   "source": [
    "history_bpe8 = run_rnn(x_train_bpe8, y_train_bpe8, x_val_bpe8, y_val_bpe8)"
   ]
  },
  {
   "cell_type": "code",
   "execution_count": 53,
   "id": "56961ea2",
   "metadata": {
    "collapsed": true
   },
   "outputs": [
    {
     "name": "stdout",
     "output_type": "stream",
     "text": [
      "Epoch 1/10\n",
      "457/457 [==============================] - 4s 8ms/step - loss: 0.3554 - accuracy: 0.8461 - val_loss: 0.3769 - val_accuracy: 0.8334\n",
      "Epoch 2/10\n",
      "457/457 [==============================] - 4s 8ms/step - loss: 0.2754 - accuracy: 0.8850 - val_loss: 0.3776 - val_accuracy: 0.8372\n",
      "Epoch 3/10\n",
      "457/457 [==============================] - 4s 8ms/step - loss: 0.2448 - accuracy: 0.9003 - val_loss: 0.3822 - val_accuracy: 0.8383\n",
      "Epoch 4/10\n",
      "457/457 [==============================] - 4s 8ms/step - loss: 0.2249 - accuracy: 0.9113 - val_loss: 0.3911 - val_accuracy: 0.8386\n",
      "Epoch 5/10\n",
      "457/457 [==============================] - 4s 8ms/step - loss: 0.2073 - accuracy: 0.9205 - val_loss: 0.4167 - val_accuracy: 0.8395\n",
      "Epoch 6/10\n",
      "457/457 [==============================] - 4s 8ms/step - loss: 0.1942 - accuracy: 0.9278 - val_loss: 0.4352 - val_accuracy: 0.8378\n",
      "Epoch 7/10\n",
      "457/457 [==============================] - 4s 8ms/step - loss: 0.1828 - accuracy: 0.9334 - val_loss: 0.4422 - val_accuracy: 0.8351\n",
      "Epoch 8/10\n",
      "457/457 [==============================] - 4s 8ms/step - loss: 0.1736 - accuracy: 0.9385 - val_loss: 0.4641 - val_accuracy: 0.8352\n",
      "Epoch 9/10\n",
      "457/457 [==============================] - 4s 8ms/step - loss: 0.1656 - accuracy: 0.9421 - val_loss: 0.4897 - val_accuracy: 0.8339\n",
      "Epoch 10/10\n",
      "457/457 [==============================] - 4s 8ms/step - loss: 0.1601 - accuracy: 0.9452 - val_loss: 0.4920 - val_accuracy: 0.8314\n"
     ]
    }
   ],
   "source": [
    "history_bpe4 = run_rnn(x_train_bpe4, y_train_bpe4, x_val_bpe4, y_val_bpe4)"
   ]
  },
  {
   "cell_type": "code",
   "execution_count": 54,
   "id": "6b0dcf4a",
   "metadata": {
    "scrolled": false
   },
   "outputs": [
    {
     "data": {
      "image/png": "[encoded data removed]",
      "text/plain": [
       "<Figure size 1000x1000 with 2 Axes>"
      ]
     },
     "metadata": {},
     "output_type": "display_data"
    },
    {
     "data": {
      "image/png": "[encoded data removed]",
      "text/plain": [
       "<Figure size 1000x1000 with 2 Axes>"
      ]
     },
     "metadata": {},
     "output_type": "display_data"
    },
    {
     "data": {
      "image/png": "[encoded data removed]",
      "text/plain": [
       "<Figure size 1000x1000 with 2 Axes>"
      ]
     },
     "metadata": {},
     "output_type": "display_data"
    },
    {
     "data": {
      "image/png": "[encoded data removed]",
      "text/plain": [
       "<Figure size 1000x1000 with 2 Axes>"
      ]
     },
     "metadata": {},
     "output_type": "display_data"
    }
   ],
   "source": [
    "history_list = [(history_uni8, 'Uni8000'), (history_uni4, 'Uni4000'), \n",
    "                (history_bpe8, 'BPE8000'), (history_bpe4, 'BPE4000')]\n",
    "\n",
    "for i, (history, name) in enumerate(history_list):\n",
    "    plt.figure(figsize=(10,10))\n",
    "    plt.subplot(4, 2, i*2+1)\n",
    "    plt.plot(history.history['accuracy'])\n",
    "    plt.plot(history.history['val_accuracy'])\n",
    "    plt.title('{} accuracy'.format(name))\n",
    "    plt.ylabel('accuracy')\n",
    "    plt.xlabel('epoch')\n",
    "    plt.legend(['train','val'], loc='upper left')\n",
    "    \n",
    "    plt.subplot(4, 2, i*2+2)\n",
    "    plt.plot(history.history['loss'])\n",
    "    plt.plot(history.history['val_loss'])\n",
    "    plt.title('{} loss'.format(name))\n",
    "    plt.ylabel('loss')\n",
    "    plt.xlabel('epoch')\n",
    "    plt.legend(['train', 'val'], loc='upper left')\n",
    "    \n",
    "plt.show()"
   ]
  },
  {
   "cell_type": "markdown",
   "id": "511dc74a",
   "metadata": {},
   "source": [
    "BPE보다 Unigram model을 썼을 때, vocab size는 8000개 보다 4000개로 지정했을 때 과적합 되는 경향이 약함. \n",
    "\n",
    "10 epoch이후 Unigram model의 loss는 약 0.2 정도로 근사하며, BPE model의 loss는 약 0.1로 근사함."
   ]
  },
  {
   "cell_type": "code",
   "execution_count": 62,
   "id": "26ea4405",
   "metadata": {},
   "outputs": [],
   "source": [
    "# 테스트셋을 통한 모델 평가\n",
    "def test_evalute(x_test, y_test, tok_name):\n",
    "    results = model_rnn.evaluate(x_test,  y_test, verbose=3)\n",
    "    print('{}의 loss와 accuracy: '.format(tok_name), results)\n",
    "    return results"
   ]
  },
  {
   "cell_type": "code",
   "execution_count": 63,
   "id": "06a4fd0a",
   "metadata": {
    "scrolled": true
   },
   "outputs": [
    {
     "name": "stdout",
     "output_type": "stream",
     "text": [
      "uni8의 loss와 accuracy:  [2.0149545669555664, 0.5035905241966248]\n",
      "uni4의 loss와 accuracy:  [1.8943583965301514, 0.5131720900535583]\n",
      "bpe8의 loss와 accuracy:  [0.6538125872612, 0.8092438578605652]\n",
      "bpe4의 loss와 accuracy:  [0.5048642158508301, 0.8300547003746033]\n"
     ]
    }
   ],
   "source": [
    "results_uni8 = test_evalute(test_uni8, test_label_uni8, 'uni8')\n",
    "results_uni4 = test_evalute(test_uni4, test_label_uni4, 'uni4')\n",
    "results_bpe8 = test_evalute(test_bpe8, test_label_bpe8, 'bpe8')\n",
    "results_bpe4 = test_evalute(test_bpe4, test_label_bpe4, 'bpe4')"
   ]
  },
  {
   "cell_type": "markdown",
   "id": "4080f22f",
   "metadata": {},
   "source": [
    "과적합되는 경향으로 보아 Unigram의 범용성이 더 좋을 것이라 생각했으나, __BPE__ 를 사용했을 때 loss가 약 0.6 정도이며 __accuracy는 80 % 이상__ 으로 BPE의 성능이 더 우수함."
   ]
  },
  {
   "cell_type": "markdown",
   "id": "43a88579",
   "metadata": {},
   "source": [
    "### Step 5. KoNLPy 형태소 분석기를 사용한 모델과 성능 비교하기\n",
    "\n",
    "* 본 프로젝트의 목적은 Tokenizer 종류의 성능 비교이므로, [EP08] 에서 진행한 전처리 과정을 그대로 사용함."
   ]
  },
  {
   "cell_type": "code",
   "execution_count": 84,
   "id": "9d1d01ae",
   "metadata": {},
   "outputs": [
    {
     "name": "stdout",
     "output_type": "stream",
     "text": [
      "[Komoran] \n",
      "[('코로나바이러스', 'NNP'), ('는', 'JX'), ('2019', 'SN'), ('년', 'NNB'), ('12월', 'NNP'), ('중국', 'NNP'), ('우', 'NNP'), ('한', 'NNP'), ('에서', 'JKB'), ('처음', 'NNG'), ('발생', 'NNG'), ('하', 'XSV'), ('ㄴ', 'ETM'), ('뒤', 'NNG'), ('전', 'MM'), ('세계로', 'NNP'), ('확산', 'NNG'), ('되', 'XSV'), ('ㄴ', 'ETM'), (',', 'SP'), ('새롭', 'VA'), ('ㄴ', 'ETM'), ('유형', 'NNP'), ('의', 'JKG'), ('호흡기', 'NNG'), ('감염', 'NNP'), ('질환', 'NNG'), ('이', 'VCP'), ('ㅂ니다', 'EF'), ('.', 'SF')]\n",
      "[Mecab] \n",
      "[('코로나', 'NNP'), ('바이러스', 'NNG'), ('는', 'JX'), ('2019', 'SN'), ('년', 'NNBC'), ('12', 'SN'), ('월', 'NNBC'), ('중국', 'NNP'), ('우한', 'NNP'), ('에서', 'JKB'), ('처음', 'NNG'), ('발생', 'NNG'), ('한', 'XSV+ETM'), ('뒤', 'NNG'), ('전', 'NNG'), ('세계', 'NNG'), ('로', 'JKB'), ('확산', 'NNG'), ('된', 'XSV+ETM'), (',', 'SC'), ('새로운', 'VA+ETM'), ('유형', 'NNG'), ('의', 'JKG'), ('호흡기', 'NNG'), ('감염', 'NNG'), ('질환', 'NNG'), ('입니다', 'VCP+EF'), ('.', 'SF')]\n",
      "[Okt] \n",
      "[('코로나바이러스', 'Noun'), ('는', 'Josa'), ('2019년', 'Number'), ('12월', 'Number'), ('중국', 'Noun'), ('우한', 'Noun'), ('에서', 'Josa'), ('처음', 'Noun'), ('발생', 'Noun'), ('한', 'Josa'), ('뒤', 'Noun'), ('전', 'Noun'), ('세계', 'Noun'), ('로', 'Josa'), ('확산', 'Noun'), ('된', 'Verb'), (',', 'Punctuation'), ('새로운', 'Adjective'), ('유형', 'Noun'), ('의', 'Josa'), ('호흡기', 'Noun'), ('감염', 'Noun'), ('질환', 'Noun'), ('입니다', 'Adjective'), ('.', 'Punctuation')]\n"
     ]
    }
   ],
   "source": [
    "from konlpy.tag import Komoran,Mecab,Okt\n",
    "tokenizer_list = [Komoran(),Mecab('C:\\mecab\\mecab-ko-dic'),Okt()]\n",
    "\n",
    "kor_text = '코로나바이러스는 2019년 12월 중국 우한에서 처음 발생한 뒤 전 세계로 확산된, 새로운 유형의 호흡기 감염 질환입니다.'\n",
    "\n",
    "for tokenizer in tokenizer_list:\n",
    "    print('[{}] \\n{}'.format(tokenizer.__class__.__name__, tokenizer.pos(kor_text)))"
   ]
  },
  {
   "cell_type": "markdown",
   "id": "c4291962",
   "metadata": {},
   "source": [
    "__data load__"
   ]
  },
  {
   "cell_type": "code",
   "execution_count": 71,
   "id": "1c9fc1a1",
   "metadata": {
    "scrolled": false
   },
   "outputs": [
    {
     "name": "stdout",
     "output_type": "stream",
     "text": [
      "train data 개수:  150000\n",
      "test data 개수:  50000\n"
     ]
    }
   ],
   "source": [
    "train_data = pd.read_table('./data/ratings_train.txt')\n",
    "test_data = pd.read_table('./data/ratings_test.txt')\n",
    "print('train data 개수: ', len(train_data))\n",
    "print('test data 개수: ', len(test_data))"
   ]
  },
  {
   "cell_type": "markdown",
   "id": "2f8b1373",
   "metadata": {},
   "source": [
    "__data preprocessing__"
   ]
  },
  {
   "cell_type": "code",
   "execution_count": 72,
   "id": "9dc1d33a",
   "metadata": {},
   "outputs": [],
   "source": [
    "from konlpy.tag import Komoran,Mecab,Okt\n",
    "from collections import Counter\n",
    "\n",
    "stopwords = ['의','가','이','은','들','는','좀','잘','걍','과','도','를','으로','자','에','와','한','하다']"
   ]
  },
  {
   "cell_type": "code",
   "execution_count": 73,
   "id": "d6e2e98b",
   "metadata": {},
   "outputs": [],
   "source": [
    "def preprocess(train_data, test_data):\n",
    "    train_data.drop_duplicates(subset=['document'], inplace=True)\n",
    "    train_data = train_data.dropna(how = 'any')\n",
    "    \n",
    "    test_data.drop_duplicates(subset=['document'], inplace=True)\n",
    "    test_data = test_data.dropna(how = 'any')\n",
    "    \n",
    "    return train_data, test_data"
   ]
  },
  {
   "cell_type": "code",
   "execution_count": 74,
   "id": "741e913f",
   "metadata": {},
   "outputs": [
    {
     "name": "stdout",
     "output_type": "stream",
     "text": [
      "train data 개수:  146182\n",
      "test data 개수:  49157\n"
     ]
    }
   ],
   "source": [
    "train_data, test_data = preprocess(train_data, test_data)\n",
    "print('train data 개수: ', len(train_data))\n",
    "print('test data 개수: ', len(test_data))"
   ]
  },
  {
   "cell_type": "code",
   "execution_count": 78,
   "id": "8e1ddd9b",
   "metadata": {},
   "outputs": [],
   "source": [
    "def konlpy_tokenize(train_data, test_data, tokenizer, num_words=4000):\n",
    "    tok = tokenizer\n",
    "    \n",
    "    X_train = []\n",
    "    for sentence in train_data['document']:\n",
    "        temp_X = tok.morphs(sentence) # 토큰화\n",
    "        temp_X = [word for word in temp_X if not word in stopwords] # 불용어 제거\n",
    "        X_train.append(temp_X)\n",
    "\n",
    "    X_test = []\n",
    "    for sentence in test_data['document']:\n",
    "        temp_X = tok.morphs(sentence) # 토큰화\n",
    "        temp_X = [word for word in temp_X if not word in stopwords] # 불용어 제거\n",
    "        X_test.append(temp_X)\n",
    "    \n",
    "    words = np.concatenate(X_train).tolist()\n",
    "    counter = Counter(words)\n",
    "    counter = counter.most_common(num_words-4)\n",
    "    vocab = ['<PAD>', '<BOS>', '<UNK>', '<UNUSED>'] + [key for key, _ in counter]\n",
    "    word_to_index = {word:index for index, word in enumerate(vocab)}\n",
    "        \n",
    "    def wordlist_to_indexlist(wordlist):\n",
    "        return [word_to_index[word] if word in word_to_index else word_to_index['<UNK>'] for word in wordlist]\n",
    "        \n",
    "    X_train = list(map(wordlist_to_indexlist, X_train))\n",
    "    X_test = list(map(wordlist_to_indexlist, X_test))\n",
    "        \n",
    "    return X_train, np.array(list(train_data['label'])), X_test, np.array(list(test_data['label'])), word_to_index\n",
    "  "
   ]
  },
  {
   "cell_type": "markdown",
   "id": "15ab651f",
   "metadata": {},
   "source": [
    "__Komoran, Mecab, Okt 형태소 분석기를 사용해 데이터셋과 word_to_index & index_to_word 생성__"
   ]
  },
  {
   "cell_type": "code",
   "execution_count": 81,
   "id": "81df0098",
   "metadata": {},
   "outputs": [],
   "source": [
    "x_train_Kmrn, y_train_Kmrn, X_test_Kmrn, y_test_Kmrn, word_to_index_Kmrn = konlpy_tokenize(train_data, test_data, Komoran()) "
   ]
  },
  {
   "cell_type": "code",
   "execution_count": 88,
   "id": "c3916d3a",
   "metadata": {},
   "outputs": [],
   "source": [
    "index_to_word_Kmrn = {index:word for word, index in word_to_index_Kmrn.items()}"
   ]
  },
  {
   "cell_type": "code",
   "execution_count": 80,
   "id": "4700ba48",
   "metadata": {},
   "outputs": [],
   "source": [
    "x_train_Mcb, y_train_Mcb, X_test_Mcb, y_test_Mcb, word_to_index_Mcb = konlpy_tokenize(train_data, test_data, Mecab('C:\\mecab\\mecab-ko-dic')) "
   ]
  },
  {
   "cell_type": "code",
   "execution_count": 89,
   "id": "6bb08ab7",
   "metadata": {},
   "outputs": [],
   "source": [
    "index_to_word_Mcb = {index:word for word, index in word_to_index_Mcb.items()}"
   ]
  },
  {
   "cell_type": "code",
   "execution_count": 83,
   "id": "b989659f",
   "metadata": {},
   "outputs": [],
   "source": [
    "x_train_Okt, y_train_Okt, X_test_Okt, y_test_Okt, word_to_index_Okt = konlpy_tokenize(train_data, test_data, Okt()) "
   ]
  },
  {
   "cell_type": "code",
   "execution_count": 90,
   "id": "e68e4e58",
   "metadata": {},
   "outputs": [],
   "source": [
    "index_to_word_Okt = {index:word for word, index in word_to_index_Okt.items()}"
   ]
  },
  {
   "cell_type": "markdown",
   "id": "0fcec908",
   "metadata": {},
   "source": [
    "train, test 데이터 개수 확인"
   ]
  },
  {
   "cell_type": "code",
   "execution_count": 85,
   "id": "3c4f2b3a",
   "metadata": {},
   "outputs": [
    {
     "name": "stdout",
     "output_type": "stream",
     "text": [
      "x_train_Kmrn 개수: 146182, X_test_Kmrn 개수: 49157\n",
      "y_train_Kmrn 개수: 146182, y_test_Kmrn 개수: 49157\n"
     ]
    }
   ],
   "source": [
    "print(f'x_train_Kmrn 개수: {len(x_train_Kmrn)}, X_test_Kmrn 개수: {len(X_test_Kmrn)}')\n",
    "print(f'y_train_Kmrn 개수: {len(y_train_Kmrn)}, y_test_Kmrn 개수: {len(y_test_Kmrn)}')"
   ]
  },
  {
   "cell_type": "code",
   "execution_count": 91,
   "id": "852e6ad7",
   "metadata": {},
   "outputs": [],
   "source": [
    "# 문장 1개와 딕셔너리를 함께 주면, 단어 인덱스 리스트 벡터로 변환\n",
    "\n",
    "# 단, 모든 문장은 <SOS>로 시작\n",
    "def get_encoded_sentence(sentence, word_to_index):\n",
    "    return [word_to_index['<SOS>']]+[word_to_index[word] if word in word_to_index else word_to_index['<UNK>'] for word in sentence.split()]\n",
    "\n",
    "# 여러 개의 문장 리스트를 한꺼번에 단어 인덱스 리스트 벡터로 encode\n",
    "def get_encoded_sentences(sentences, word_to_index):\n",
    "    return [get_encoded_sentence(sentence, word_to_index) for sentence in sentences]\n",
    "\n",
    "# 숫자 벡터로 encode된 문장을 원래대로 decode하는 함수\n",
    "\n",
    "#[1:]를 통해 <SOS>를 제외\n",
    "def get_decoded_sentence(encoded_sentence, index_to_word):\n",
    "    return ' '.join(index_to_word[index] if index in index_to_word else '<UNK>' for index in encoded_sentence[1:])\n",
    "\n",
    "# 여러 개의 숫자 벡터로 encode된 문장을 한꺼번에 원래대로 decode하는 함수 \n",
    "def get_decoded_sentences(encoded_sentences, index_to_word):\n",
    "    return [get_decoded_sentence(encoded_sentence, index_to_word) for encoded_sentence in encoded_sentences]"
   ]
  },
  {
   "cell_type": "markdown",
   "id": "ffd8dd23",
   "metadata": {},
   "source": [
    "Komoran, Mecab, Okt 샘플 확인"
   ]
  },
  {
   "cell_type": "code",
   "execution_count": 93,
   "id": "d78cc536",
   "metadata": {},
   "outputs": [
    {
     "name": "stdout",
     "output_type": "stream",
     "text": [
      "[20, 520, 4, 4, 47, 233, 23, 51, 751]\n",
      "라벨: 0\n",
      "1번째 리뷰 문장 길이:  9\n",
      "더빙 . . 진짜 짜증 나 네요 목소리\n"
     ]
    }
   ],
   "source": [
    "print(x_train_Kmrn[0])\n",
    "print('라벨:', y_train_Kmrn[0])\n",
    "print('1번째 리뷰 문장 길이: ', len(x_train_Kmrn[0]))\n",
    "print(get_decoded_sentence(x_train_Kmrn[0], index_to_word_Kmrn))"
   ]
  },
  {
   "cell_type": "code",
   "execution_count": 94,
   "id": "849f9b21",
   "metadata": {},
   "outputs": [
    {
     "name": "stdout",
     "output_type": "stream",
     "text": [
      "[32, 74, 919, 4, 4, 39, 228, 20, 33, 748]\n",
      "라벨: 0\n",
      "1번째 리뷰 문장 길이:  10\n",
      "더 빙 . . 진짜 짜증 나 네요 목소리\n"
     ]
    }
   ],
   "source": [
    "print(x_train_Mcb[0])\n",
    "print('라벨:', y_train_Mcb[0])\n",
    "print('1번째 리뷰 문장 길이: ', len(x_train_Mcb[0]))\n",
    "print(get_decoded_sentence(x_train_Mcb[0], index_to_word_Mcb))"
   ]
  },
  {
   "cell_type": "code",
   "execution_count": 95,
   "id": "90d42bb2",
   "metadata": {},
   "outputs": [
    {
     "name": "stdout",
     "output_type": "stream",
     "text": [
      "[49, 451, 6, 16, 2, 670]\n",
      "라벨: 0\n",
      "1번째 리뷰 문장 길이:  6\n",
      "더빙 .. 진짜 <UNK> 목소리\n"
     ]
    }
   ],
   "source": [
    "print(x_train_Okt[0])\n",
    "print('라벨:', y_train_Okt[0])\n",
    "print('1번째 리뷰 문장 길이: ', len(x_train_Okt[0]))\n",
    "print(get_decoded_sentence(x_train_Okt[0], index_to_word_Okt))"
   ]
  },
  {
   "cell_type": "markdown",
   "id": "a27c68ef",
   "metadata": {},
   "source": [
    "__데이터 분석 및 가공__\n",
    "1. 데이터셋의 문장 길이 분포 확인\n",
    "2. 최대 문장 길이 지정\n",
    "3. padding 추가"
   ]
  },
  {
   "cell_type": "markdown",
   "id": "a5813b97",
   "metadata": {},
   "source": [
    "__Komoran__ 형태소 분석기로 encoding한 데이터셋 분석 및 가공"
   ]
  },
  {
   "cell_type": "code",
   "execution_count": 101,
   "id": "a4932e55",
   "metadata": {},
   "outputs": [
    {
     "name": "stdout",
     "output_type": "stream",
     "text": [
      "문장길이 평균:  16.814082185329095\n",
      "문장길이 최대:  140\n",
      "문장길이 표준편차:  13.858521612445328\n",
      "pad_sequences maxlen: 60\n",
      "전체 문장의 0.9749205227834687%가 maxlen 설정값 이내에 포함.\n",
      "x_train_Kmrn_pad: (146182, 60)\n",
      "X_test_Kmrn_pad: (49157, 60)\n"
     ]
    }
   ],
   "source": [
    "total_data_text = list(x_train_Kmrn) + list(X_test_Kmrn)\n",
    "\n",
    "# 각 텍스트의 문장길이 정보를 담은 리스트 생성\n",
    "num_tokens = [len(tokens) for tokens in total_data_text]\n",
    "num_tokens = np.array(num_tokens)\n",
    "# 문장길이의 평균값, 최대값, 표준편차 확인\n",
    "print('문장길이 평균: ', np.mean(num_tokens))\n",
    "print('문장길이 최대: ', np.max(num_tokens))\n",
    "print('문장길이 표준편차: ', np.std(num_tokens))\n",
    "\n",
    "# 최대 길이를 위 sentencepiece와 동일한 60 으로 한다면, 몇 %의 데이터가 포함되는지 확인\n",
    "maxlen = 60\n",
    "print('pad_sequences maxlen:', maxlen)\n",
    "print('전체 문장의 {}%가 maxlen 설정값 이내에 포함.'.format(np.sum(num_tokens < 60)/len(num_tokens)))\n",
    "\n",
    "# 패딩 추가\n",
    "x_train_Kmrn_pad = tf.keras.preprocessing.sequence.pad_sequences(x_train_Kmrn,\n",
    "                                                       value=word_to_index_Kmrn['<PAD>'],\n",
    "                                                       padding='post',\n",
    "                                                       maxlen=maxlen)\n",
    "X_test_Kmrn_pad = tf.keras.preprocessing.sequence.pad_sequences(X_test_Kmrn,\n",
    "                                                       value=word_to_index_Kmrn['<PAD>'],\n",
    "                                                       padding='post',\n",
    "                                                       maxlen=maxlen)\n",
    "print(f'x_train_Kmrn_pad: {x_train_Kmrn_pad.shape}')\n",
    "print(f'X_test_Kmrn_pad: {X_test_Kmrn_pad.shape}')"
   ]
  },
  {
   "cell_type": "code",
   "execution_count": 102,
   "id": "ef1f2b8e",
   "metadata": {},
   "outputs": [
    {
     "name": "stdout",
     "output_type": "stream",
     "text": [
      "label: 0\n",
      "    encode: [ 20 520   4   4  47 233  23  51 751   0   0   0   0   0   0   0   0   0\n",
      "   0   0   0   0   0   0   0   0   0   0   0   0   0   0   0   0   0   0\n",
      "   0   0   0   0   0   0   0   0   0   0   0   0   0   0   0   0   0   0\n",
      "   0   0   0   0   0   0]\n",
      "    decode: 더빙 . . 진짜 짜증 나 네요 목소리 <PAD> <PAD> <PAD> <PAD> <PAD> <PAD> <PAD> <PAD> <PAD> <PAD> <PAD> <PAD> <PAD> <PAD> <PAD> <PAD> <PAD> <PAD> <PAD> <PAD> <PAD> <PAD> <PAD> <PAD> <PAD> <PAD> <PAD> <PAD> <PAD> <PAD> <PAD> <PAD> <PAD> <PAD> <PAD> <PAD> <PAD> <PAD> <PAD> <PAD> <PAD> <PAD> <PAD> <PAD> <PAD> <PAD> <PAD> <PAD> <PAD> <PAD> <PAD>\n",
      "label: 1\n",
      "    encode: [1031   14  541  230  699    7  200  149 1529   59  850  756   19   53\n",
      "  404    0    0    0    0    0    0    0    0    0    0    0    0    0\n",
      "    0    0    0    0    0    0    0    0    0    0    0    0    0    0\n",
      "    0    0    0    0    0    0    0    0    0    0    0    0    0    0\n",
      "    0    0    0    0]\n",
      "    decode: ... 포스터 보고 초딩 영화 줄 .... 오버 연기 조차 가볍 지 않 구나 <PAD> <PAD> <PAD> <PAD> <PAD> <PAD> <PAD> <PAD> <PAD> <PAD> <PAD> <PAD> <PAD> <PAD> <PAD> <PAD> <PAD> <PAD> <PAD> <PAD> <PAD> <PAD> <PAD> <PAD> <PAD> <PAD> <PAD> <PAD> <PAD> <PAD> <PAD> <PAD> <PAD> <PAD> <PAD> <PAD> <PAD> <PAD> <PAD> <PAD> <PAD> <PAD> <PAD> <PAD> <PAD>\n"
     ]
    }
   ],
   "source": [
    "for i in range(2):\n",
    "    label = y_train_Kmrn[i]\n",
    "    encode = x_train_Kmrn_pad[i]\n",
    "    decode = get_decoded_sentence(x_train_Kmrn_pad[i], index_to_word_Kmrn)\n",
    "    print(f'label: {label}\\n\\\n",
    "    encode: {encode}\\n\\\n",
    "    decode: {decode}')"
   ]
  },
  {
   "cell_type": "markdown",
   "id": "60144dd0",
   "metadata": {},
   "source": [
    "__Mecab__ 형태소 분석기로 encoding한 데이터셋 분석 및 가공"
   ]
  },
  {
   "cell_type": "code",
   "execution_count": 104,
   "id": "3d44b5cd",
   "metadata": {},
   "outputs": [
    {
     "name": "stdout",
     "output_type": "stream",
     "text": [
      "문장길이 평균:  15.969376315021577\n",
      "문장길이 최대:  116\n",
      "문장길이 표준편차:  12.843535456326455\n",
      "pad_sequences maxlen: 60\n",
      "전체 문장의 0.9859833417801873%가 maxlen 설정값 이내에 포함.\n",
      "x_train_Kmrn_pad: (146182, 60)\n",
      "X_test_Kmrn_pad: (49157, 60)\n"
     ]
    }
   ],
   "source": [
    "total_data_text = list(x_train_Mcb) + list(X_test_Mcb)\n",
    "\n",
    "# 각 텍스트의 문장길이 정보를 담은 리스트 생성\n",
    "num_tokens = [len(tokens) for tokens in total_data_text]\n",
    "num_tokens = np.array(num_tokens)\n",
    "# 문장길이의 평균값, 최대값, 표준편차 확인\n",
    "print('문장길이 평균: ', np.mean(num_tokens))\n",
    "print('문장길이 최대: ', np.max(num_tokens))\n",
    "print('문장길이 표준편차: ', np.std(num_tokens))\n",
    "\n",
    "# 최대 길이를 위 sentencepiece와 동일한 60 으로 한다면, 몇 %의 데이터가 포함되는지 확인\n",
    "maxlen = 60\n",
    "print('pad_sequences maxlen:', maxlen)\n",
    "print('전체 문장의 {}%가 maxlen 설정값 이내에 포함.'.format(np.sum(num_tokens < 60)/len(num_tokens)))\n",
    "\n",
    "# 패딩 추가\n",
    "x_train_Mcb_pad = tf.keras.preprocessing.sequence.pad_sequences(x_train_Mcb,\n",
    "                                                       value=word_to_index_Mcb['<PAD>'],\n",
    "                                                       padding='post',\n",
    "                                                       maxlen=maxlen)\n",
    "X_test_Mcb_pad = tf.keras.preprocessing.sequence.pad_sequences(X_test_Mcb,\n",
    "                                                       value=word_to_index_Mcb['<PAD>'],\n",
    "                                                       padding='post',\n",
    "                                                       maxlen=maxlen)\n",
    "print(f'x_train_Kmrn_pad: {x_train_Mcb_pad.shape}')\n",
    "print(f'X_test_Kmrn_pad: {X_test_Mcb_pad.shape}')"
   ]
  },
  {
   "cell_type": "code",
   "execution_count": 105,
   "id": "63853264",
   "metadata": {},
   "outputs": [
    {
     "name": "stdout",
     "output_type": "stream",
     "text": [
      "label: 0\n",
      "    encode: [ 32  74 919   4   4  39 228  20  33 748   0   0   0   0   0   0   0   0\n",
      "   0   0   0   0   0   0   0   0   0   0   0   0   0   0   0   0   0   0\n",
      "   0   0   0   0   0   0   0   0   0   0   0   0   0   0   0   0   0   0\n",
      "   0   0   0   0   0   0]\n",
      "    decode: 더 빙 . . 진짜 짜증 나 네요 목소리 <PAD> <PAD> <PAD> <PAD> <PAD> <PAD> <PAD> <PAD> <PAD> <PAD> <PAD> <PAD> <PAD> <PAD> <PAD> <PAD> <PAD> <PAD> <PAD> <PAD> <PAD> <PAD> <PAD> <PAD> <PAD> <PAD> <PAD> <PAD> <PAD> <PAD> <PAD> <PAD> <PAD> <PAD> <PAD> <PAD> <PAD> <PAD> <PAD> <PAD> <PAD> <PAD> <PAD> <PAD> <PAD> <PAD> <PAD> <PAD> <PAD> <PAD>\n",
      "label: 1\n",
      "    encode: [1028    4   11  519  549  687    5  120    4   70 1639   52  925 1006\n",
      "   15   44  391    0    0    0    0    0    0    0    0    0    0    0\n",
      "    0    0    0    0    0    0    0    0    0    0    0    0    0    0\n",
      "    0    0    0    0    0    0    0    0    0    0    0    0    0    0\n",
      "    0    0    0    0]\n",
      "    decode: . .. 포스터 보고 초딩 영화 줄 . ... 오버 연기 조차 가볍 지 않 구나 <PAD> <PAD> <PAD> <PAD> <PAD> <PAD> <PAD> <PAD> <PAD> <PAD> <PAD> <PAD> <PAD> <PAD> <PAD> <PAD> <PAD> <PAD> <PAD> <PAD> <PAD> <PAD> <PAD> <PAD> <PAD> <PAD> <PAD> <PAD> <PAD> <PAD> <PAD> <PAD> <PAD> <PAD> <PAD> <PAD> <PAD> <PAD> <PAD> <PAD> <PAD> <PAD> <PAD>\n"
     ]
    }
   ],
   "source": [
    "for i in range(2):\n",
    "    label = y_train_Mcb[i]\n",
    "    encode = x_train_Mcb_pad[i]\n",
    "    decode = get_decoded_sentence(x_train_Mcb_pad[i], index_to_word_Mcb)\n",
    "    print(f'label: {label}\\n\\\n",
    "    encode: {encode}\\n\\\n",
    "    decode: {decode}')"
   ]
  },
  {
   "cell_type": "markdown",
   "id": "02f1924c",
   "metadata": {},
   "source": [
    "__Okt__ 형태소 분석기로 encoding한 데이터셋 분석 및 가공"
   ]
  },
  {
   "cell_type": "code",
   "execution_count": 106,
   "id": "5e694bde",
   "metadata": {},
   "outputs": [
    {
     "name": "stdout",
     "output_type": "stream",
     "text": [
      "문장길이 평균:  12.806930515667634\n",
      "문장길이 최대:  95\n",
      "문장길이 표준편차:  10.399093335789471\n",
      "pad_sequences maxlen: 60\n",
      "전체 문장의 0.9992474621043417%가 maxlen 설정값 이내에 포함.\n",
      "x_train_Kmrn_pad: (146182, 60)\n",
      "X_test_Kmrn_pad: (49157, 60)\n"
     ]
    }
   ],
   "source": [
    "total_data_text = list(x_train_Okt) + list(X_test_Okt)\n",
    "\n",
    "# 각 텍스트의 문장길이 정보를 담은 리스트 생성\n",
    "num_tokens = [len(tokens) for tokens in total_data_text]\n",
    "num_tokens = np.array(num_tokens)\n",
    "# 문장길이의 평균값, 최대값, 표준편차 확인\n",
    "print('문장길이 평균: ', np.mean(num_tokens))\n",
    "print('문장길이 최대: ', np.max(num_tokens))\n",
    "print('문장길이 표준편차: ', np.std(num_tokens))\n",
    "\n",
    "# 최대 길이를 위 sentencepiece와 동일한 60 으로 한다면, 몇 %의 데이터가 포함되는지 확인\n",
    "maxlen = 60\n",
    "print('pad_sequences maxlen:', maxlen)\n",
    "print('전체 문장의 {}%가 maxlen 설정값 이내에 포함.'.format(np.sum(num_tokens < 60)/len(num_tokens)))\n",
    "\n",
    "# 패딩 추가\n",
    "x_train_Okt_pad = tf.keras.preprocessing.sequence.pad_sequences(x_train_Okt,\n",
    "                                                       value=word_to_index_Okt['<PAD>'],\n",
    "                                                       padding='post',\n",
    "                                                       maxlen=maxlen)\n",
    "X_test_Okt_pad = tf.keras.preprocessing.sequence.pad_sequences(X_test_Okt,\n",
    "                                                       value=word_to_index_Okt['<PAD>'],\n",
    "                                                       padding='post',\n",
    "                                                       maxlen=maxlen)\n",
    "print(f'x_train_Kmrn_pad: {x_train_Okt_pad.shape}')\n",
    "print(f'X_test_Kmrn_pad: {X_test_Okt_pad.shape}')"
   ]
  },
  {
   "cell_type": "code",
   "execution_count": 107,
   "id": "3f6ffd1f",
   "metadata": {},
   "outputs": [
    {
     "name": "stdout",
     "output_type": "stream",
     "text": [
      "label: 0\n",
      "    encode: [ 49 451   6  16   2 670   0   0   0   0   0   0   0   0   0   0   0   0\n",
      "   0   0   0   0   0   0   0   0   0   0   0   0   0   0   0   0   0   0\n",
      "   0   0   0   0   0   0   0   0   0   0   0   0   0   0   0   0   0   0\n",
      "   0   0   0   0   0   0]\n",
      "    decode: 더빙 .. 진짜 <UNK> 목소리 <PAD> <PAD> <PAD> <PAD> <PAD> <PAD> <PAD> <PAD> <PAD> <PAD> <PAD> <PAD> <PAD> <PAD> <PAD> <PAD> <PAD> <PAD> <PAD> <PAD> <PAD> <PAD> <PAD> <PAD> <PAD> <PAD> <PAD> <PAD> <PAD> <PAD> <PAD> <PAD> <PAD> <PAD> <PAD> <PAD> <PAD> <PAD> <PAD> <PAD> <PAD> <PAD> <PAD> <PAD> <PAD> <PAD> <PAD> <PAD> <PAD> <PAD> <PAD> <PAD> <PAD> <PAD>\n",
      "label: 1\n",
      "    encode: [ 936    8  452   44  618    5  204   35 1602   21  996    2    2    0\n",
      "    0    0    0    0    0    0    0    0    0    0    0    0    0    0\n",
      "    0    0    0    0    0    0    0    0    0    0    0    0    0    0\n",
      "    0    0    0    0    0    0    0    0    0    0    0    0    0    0\n",
      "    0    0    0    0]\n",
      "    decode: ... 포스터 보고 초딩 영화 줄 .... 오버 연기 조차 <UNK> <UNK> <PAD> <PAD> <PAD> <PAD> <PAD> <PAD> <PAD> <PAD> <PAD> <PAD> <PAD> <PAD> <PAD> <PAD> <PAD> <PAD> <PAD> <PAD> <PAD> <PAD> <PAD> <PAD> <PAD> <PAD> <PAD> <PAD> <PAD> <PAD> <PAD> <PAD> <PAD> <PAD> <PAD> <PAD> <PAD> <PAD> <PAD> <PAD> <PAD> <PAD> <PAD> <PAD> <PAD> <PAD> <PAD> <PAD> <PAD>\n"
     ]
    }
   ],
   "source": [
    "for i in range(2):\n",
    "    label = y_train_Okt[i]\n",
    "    encode = x_train_Okt_pad[i]\n",
    "    decode = get_decoded_sentence(x_train_Okt_pad[i], index_to_word_Okt)\n",
    "    print(f'label: {label}\\n\\\n",
    "    encode: {encode}\\n\\\n",
    "    decode: {decode}')"
   ]
  },
  {
   "cell_type": "markdown",
   "id": "3a2f834c",
   "metadata": {},
   "source": [
    "__train(80%), validation(20%) set 구성__"
   ]
  },
  {
   "cell_type": "code",
   "execution_count": 108,
   "id": "471d2d6f",
   "metadata": {},
   "outputs": [
    {
     "name": "stdout",
     "output_type": "stream",
     "text": [
      "29236\n"
     ]
    }
   ],
   "source": [
    "print(int(len(x_train_Okt_pad)*0.2))"
   ]
  },
  {
   "cell_type": "code",
   "execution_count": 109,
   "id": "e99fcef8",
   "metadata": {},
   "outputs": [],
   "source": [
    "def train_val_split(train_data, train_label):\n",
    "    x_train = train_data[29236:]\n",
    "    y_train = train_label[29236:]\n",
    "    \n",
    "    x_val = train_data[:29236]\n",
    "    y_val = train_label[:29236]\n",
    "    \n",
    "    print('train 데이터셋 개수:', {len(x_train)})\n",
    "    print('validation 데이터셋 개수:', {len(x_val)})\n",
    "    \n",
    "    return x_train, y_train, x_val, y_val"
   ]
  },
  {
   "cell_type": "code",
   "execution_count": 110,
   "id": "5286678f",
   "metadata": {},
   "outputs": [
    {
     "name": "stdout",
     "output_type": "stream",
     "text": [
      "train 데이터셋 개수: {116946}\n",
      "validation 데이터셋 개수: {29236}\n",
      "train 데이터셋 개수: {116946}\n",
      "validation 데이터셋 개수: {29236}\n",
      "train 데이터셋 개수: {116946}\n",
      "validation 데이터셋 개수: {29236}\n"
     ]
    }
   ],
   "source": [
    "x_train_Kmrn, y_train_Kmrn, x_val_Kmrn, y_val_Kmrn = train_val_split(x_train_Kmrn_pad, y_train_Kmrn)\n",
    "x_train_Mcb, y_train_Mcb, x_val_Mcb, y_val_Mcb = train_val_split(x_train_Mcb_pad, y_train_Mcb)\n",
    "x_train_Okt, y_train_Okt, x_val_Okt, y_val_Okt = train_val_split(x_train_Okt_pad, y_train_Okt)"
   ]
  },
  {
   "cell_type": "markdown",
   "id": "f58598ca",
   "metadata": {},
   "source": [
    "__RNN(LSTM) 모델 생성__"
   ]
  },
  {
   "cell_type": "code",
   "execution_count": 112,
   "id": "cd5d14ad",
   "metadata": {},
   "outputs": [
    {
     "name": "stdout",
     "output_type": "stream",
     "text": [
      "Model: \"sequential_2\"\n",
      "_________________________________________________________________\n",
      "Layer (type)                 Output Shape              Param #   \n",
      "=================================================================\n",
      "embedding_2 (Embedding)      (None, None, 16)          128000    \n",
      "_________________________________________________________________\n",
      "lstm_2 (LSTM)                (None, 8)                 800       \n",
      "_________________________________________________________________\n",
      "dense_4 (Dense)              (None, 8)                 72        \n",
      "_________________________________________________________________\n",
      "dense_5 (Dense)              (None, 1)                 9         \n",
      "=================================================================\n",
      "Total params: 128,881\n",
      "Trainable params: 128,881\n",
      "Non-trainable params: 0\n",
      "_________________________________________________________________\n"
     ]
    }
   ],
   "source": [
    "vocab_size = 8000\n",
    "\n",
    "# 단어 하나를 표현하는 임베딩 벡터의 차원수\n",
    "word_vector_dim = 16\n",
    "\n",
    "model_rnn = tf.keras.Sequential()\n",
    "model_rnn.add(tf.keras.layers.Embedding(vocab_size, word_vector_dim, input_shape=(None, )))\n",
    "model_rnn.add(tf.keras.layers.LSTM(8))\n",
    "model_rnn.add(tf.keras.layers.Dense(8, activation='relu'))\n",
    "# 최종 출력은 긍정/부정을 나타내는 1dim\n",
    "model_rnn.add(tf.keras.layers.Dense(1, activation='sigmoid'))\n",
    "\n",
    "model_rnn.summary()"
   ]
  },
  {
   "cell_type": "markdown",
   "id": "e370230f",
   "metadata": {},
   "source": [
    "__모델 훈련__"
   ]
  },
  {
   "cell_type": "code",
   "execution_count": 113,
   "id": "6c03a838",
   "metadata": {},
   "outputs": [],
   "source": [
    "model_rnn.compile(optimizer='adam',\n",
    "              loss='binary_crossentropy',\n",
    "              metrics=['accuracy'])\n",
    "epochs=10"
   ]
  },
  {
   "cell_type": "code",
   "execution_count": 114,
   "id": "8d903cb6",
   "metadata": {},
   "outputs": [],
   "source": [
    "def run_rnn(x_train, y_train, x_val, y_val):\n",
    "    history = model_rnn.fit(x_train, y_train,\n",
    "                    epochs=epochs, batch_size=256,\n",
    "                    validation_data=(x_val, y_val),\n",
    "                    verbose=1)\n",
    "    return history"
   ]
  },
  {
   "cell_type": "code",
   "execution_count": 115,
   "id": "1c25cb44",
   "metadata": {
    "collapsed": true
   },
   "outputs": [
    {
     "name": "stdout",
     "output_type": "stream",
     "text": [
      "Epoch 1/10\n",
      "457/457 [==============================] - 6s 9ms/step - loss: 0.5630 - accuracy: 0.7110 - val_loss: 0.4210 - val_accuracy: 0.8187\n",
      "Epoch 2/10\n",
      "457/457 [==============================] - 4s 8ms/step - loss: 0.3891 - accuracy: 0.8276 - val_loss: 0.3723 - val_accuracy: 0.8348\n",
      "Epoch 3/10\n",
      "457/457 [==============================] - 3s 7ms/step - loss: 0.3648 - accuracy: 0.8370 - val_loss: 0.3661 - val_accuracy: 0.8337\n",
      "Epoch 4/10\n",
      "457/457 [==============================] - 3s 8ms/step - loss: 0.3530 - accuracy: 0.8405 - val_loss: 0.3659 - val_accuracy: 0.8323\n",
      "Epoch 5/10\n",
      "457/457 [==============================] - 3s 8ms/step - loss: 0.3455 - accuracy: 0.8436 - val_loss: 0.3657 - val_accuracy: 0.8376\n",
      "Epoch 6/10\n",
      "457/457 [==============================] - 3s 8ms/step - loss: 0.3375 - accuracy: 0.8452 - val_loss: 0.3632 - val_accuracy: 0.8377\n",
      "Epoch 7/10\n",
      "457/457 [==============================] - 3s 8ms/step - loss: 0.3309 - accuracy: 0.8483 - val_loss: 0.3667 - val_accuracy: 0.8395\n",
      "Epoch 8/10\n",
      "457/457 [==============================] - 4s 8ms/step - loss: 0.3250 - accuracy: 0.8511 - val_loss: 0.3675 - val_accuracy: 0.8350\n",
      "Epoch 9/10\n",
      "457/457 [==============================] - 4s 8ms/step - loss: 0.3201 - accuracy: 0.8527 - val_loss: 0.3702 - val_accuracy: 0.8405\n",
      "Epoch 10/10\n",
      "457/457 [==============================] - 4s 8ms/step - loss: 0.3145 - accuracy: 0.8551 - val_loss: 0.3809 - val_accuracy: 0.8414\n"
     ]
    }
   ],
   "source": [
    "history_Kmrn = run_rnn(x_train_Kmrn, y_train_Kmrn, x_val_Kmrn, y_val_Kmrn)"
   ]
  },
  {
   "cell_type": "code",
   "execution_count": 116,
   "id": "f83b22e1",
   "metadata": {
    "collapsed": true
   },
   "outputs": [
    {
     "name": "stdout",
     "output_type": "stream",
     "text": [
      "Epoch 1/10\n",
      "457/457 [==============================] - 4s 8ms/step - loss: 0.6971 - accuracy: 0.5026 - val_loss: 0.6928 - val_accuracy: 0.5016\n",
      "Epoch 2/10\n",
      "457/457 [==============================] - 4s 8ms/step - loss: 0.6924 - accuracy: 0.5097 - val_loss: 0.6922 - val_accuracy: 0.5036\n",
      "Epoch 3/10\n",
      "457/457 [==============================] - 3s 8ms/step - loss: 0.6624 - accuracy: 0.5669 - val_loss: 0.4751 - val_accuracy: 0.7793\n",
      "Epoch 4/10\n",
      "457/457 [==============================] - 4s 8ms/step - loss: 0.3816 - accuracy: 0.8306 - val_loss: 0.3559 - val_accuracy: 0.8423\n",
      "Epoch 5/10\n",
      "457/457 [==============================] - 3s 8ms/step - loss: 0.3404 - accuracy: 0.8506 - val_loss: 0.3473 - val_accuracy: 0.8470\n",
      "Epoch 6/10\n",
      "457/457 [==============================] - 4s 8ms/step - loss: 0.3262 - accuracy: 0.8575 - val_loss: 0.3423 - val_accuracy: 0.8496\n",
      "Epoch 7/10\n",
      "457/457 [==============================] - 3s 8ms/step - loss: 0.3149 - accuracy: 0.8629 - val_loss: 0.3410 - val_accuracy: 0.8474\n",
      "Epoch 8/10\n",
      "457/457 [==============================] - 4s 8ms/step - loss: 0.3047 - accuracy: 0.8666 - val_loss: 0.3388 - val_accuracy: 0.8503\n",
      "Epoch 9/10\n",
      "457/457 [==============================] - 4s 8ms/step - loss: 0.2958 - accuracy: 0.8708 - val_loss: 0.3391 - val_accuracy: 0.8547\n",
      "Epoch 10/10\n",
      "457/457 [==============================] - 3s 7ms/step - loss: 0.2865 - accuracy: 0.8758 - val_loss: 0.3458 - val_accuracy: 0.8522\n"
     ]
    }
   ],
   "source": [
    "history_Mcb = run_rnn(x_train_Mcb, y_train_Mcb, x_val_Mcb, y_val_Mcb)"
   ]
  },
  {
   "cell_type": "code",
   "execution_count": 117,
   "id": "0219fd2f",
   "metadata": {
    "collapsed": true
   },
   "outputs": [
    {
     "name": "stdout",
     "output_type": "stream",
     "text": [
      "Epoch 1/10\n",
      "457/457 [==============================] - 4s 8ms/step - loss: 0.6971 - accuracy: 0.4968 - val_loss: 0.6932 - val_accuracy: 0.5021\n",
      "Epoch 2/10\n",
      "457/457 [==============================] - 3s 7ms/step - loss: 0.6932 - accuracy: 0.5015 - val_loss: 0.6932 - val_accuracy: 0.5019\n",
      "Epoch 3/10\n",
      "457/457 [==============================] - 4s 8ms/step - loss: 0.6931 - accuracy: 0.5026 - val_loss: 0.6928 - val_accuracy: 0.5040\n",
      "Epoch 4/10\n",
      "457/457 [==============================] - 4s 8ms/step - loss: 0.6924 - accuracy: 0.5108 - val_loss: 0.6924 - val_accuracy: 0.5104\n",
      "Epoch 5/10\n",
      "457/457 [==============================] - 4s 8ms/step - loss: 0.5140 - accuracy: 0.7245 - val_loss: 0.3815 - val_accuracy: 0.8268\n",
      "Epoch 6/10\n",
      "457/457 [==============================] - 4s 8ms/step - loss: 0.3634 - accuracy: 0.8361 - val_loss: 0.3598 - val_accuracy: 0.8361\n",
      "Epoch 7/10\n",
      "457/457 [==============================] - 4s 8ms/step - loss: 0.3449 - accuracy: 0.8435 - val_loss: 0.3660 - val_accuracy: 0.8345\n",
      "Epoch 8/10\n",
      "457/457 [==============================] - 4s 8ms/step - loss: 0.3353 - accuracy: 0.8486 - val_loss: 0.3580 - val_accuracy: 0.8348\n",
      "Epoch 9/10\n",
      "457/457 [==============================] - 3s 8ms/step - loss: 0.3251 - accuracy: 0.8518 - val_loss: 0.3551 - val_accuracy: 0.8369\n",
      "Epoch 10/10\n",
      "457/457 [==============================] - 4s 8ms/step - loss: 0.3171 - accuracy: 0.8564 - val_loss: 0.3545 - val_accuracy: 0.8389\n"
     ]
    }
   ],
   "source": [
    "history_Okt = run_rnn(x_train_Okt, y_train_Okt, x_val_Okt, y_val_Okt)"
   ]
  },
  {
   "cell_type": "code",
   "execution_count": 118,
   "id": "c456a649",
   "metadata": {},
   "outputs": [
    {
     "data": {
      "image/png": "[encoded data removed]",
      "text/plain": [
       "<Figure size 1000x1000 with 2 Axes>"
      ]
     },
     "metadata": {},
     "output_type": "display_data"
    },
    {
     "data": {
      "image/png": "[encoded data removed]",
      "text/plain": [
       "<Figure size 1000x1000 with 2 Axes>"
      ]
     },
     "metadata": {},
     "output_type": "display_data"
    },
    {
     "data": {
      "image/png": "[encoded data removed]",
      "text/plain": [
       "<Figure size 1000x1000 with 2 Axes>"
      ]
     },
     "metadata": {},
     "output_type": "display_data"
    }
   ],
   "source": [
    "history_list = [(history_Kmrn, 'Komoran'), (history_Mcb, 'Mecab'), \n",
    "                (history_Okt, 'Okt')]\n",
    "\n",
    "for i, (history, name) in enumerate(history_list):\n",
    "    plt.figure(figsize=(10,10))\n",
    "    plt.subplot(4, 2, i*2+1)\n",
    "    plt.plot(history.history['accuracy'])\n",
    "    plt.plot(history.history['val_accuracy'])\n",
    "    plt.title('{} accuracy'.format(name))\n",
    "    plt.ylabel('accuracy')\n",
    "    plt.xlabel('epoch')\n",
    "    plt.legend(['train','val'], loc='upper left')\n",
    "    \n",
    "    plt.subplot(4, 2, i*2+2)\n",
    "    plt.plot(history.history['loss'])\n",
    "    plt.plot(history.history['val_loss'])\n",
    "    plt.title('{} loss'.format(name))\n",
    "    plt.ylabel('loss')\n",
    "    plt.xlabel('epoch')\n",
    "    plt.legend(['train', 'val'], loc='upper left')\n",
    "    \n",
    "plt.show()"
   ]
  },
  {
   "cell_type": "code",
   "execution_count": 119,
   "id": "dde28500",
   "metadata": {},
   "outputs": [],
   "source": [
    "# 테스트셋을 통한 모델 평가\n",
    "def test_evalute(x_test, y_test, tok_name):\n",
    "    results = model_rnn.evaluate(x_test,  y_test, verbose=3)\n",
    "    print('{}의 loss와 accuracy: '.format(tok_name), results)\n",
    "    return results"
   ]
  },
  {
   "cell_type": "code",
   "execution_count": 128,
   "id": "2ead7d79",
   "metadata": {},
   "outputs": [
    {
     "name": "stdout",
     "output_type": "stream",
     "text": [
      "Komoran의 loss와 accuracy:  [1.216315746307373, 0.4956974685192108]\n",
      "Mecab의 loss와 accuracy:  [1.059517741203308, 0.5438696146011353]\n",
      "Okt의 loss와 accuracy:  [0.368734210729599, 0.8329840898513794]\n"
     ]
    }
   ],
   "source": [
    "results_Komoran = test_evalute(X_test_Kmrn_pad, y_test_Kmrn, 'Komoran')\n",
    "results_Mecab = test_evalute(X_test_Mcb_pad, y_test_Mcb, 'Mecab')\n",
    "results_Okt = test_evalute(X_test_Okt_pad, y_test_Okt, 'Okt')"
   ]
  },
  {
   "cell_type": "markdown",
   "id": "8e74b06f",
   "metadata": {},
   "source": [
    "Konlpy에서 제공하는 다양한 종류의 형태소 분석기 중 Komoran, Mecab, Okt를 사용해보았음. 이때 __Okt의 accuracy만 83%__ 에 근사했으며 Komoran 과 Mecab은 Sentencepiece의 Unigram 모델과 비슷한 정확도와 함께 미진한 성능을 보임 (약 50%)."
   ]
  },
  {
   "cell_type": "markdown",
   "id": "8197ddcc",
   "metadata": {},
   "source": [
    "Konlpy의 형태소 분석기는 Sentencepiece보다 더 많은 전처리 과정을 필요로 함. 특히나, Konlpy 사용시 불용어 제거과정까지 거쳤지만, Okt를 제외하고 성능이 충분치 못함."
   ]
  }
 ],
 "metadata": {
  "kernelspec": {
   "display_name": "mecab",
   "language": "python",
   "name": "mecab"
  },
  "language_info": {
   "codemirror_mode": {
    "name": "ipython",
    "version": 3
   },
   "file_extension": ".py",
   "mimetype": "text/x-python",
   "name": "python",
   "nbconvert_exporter": "python",
   "pygments_lexer": "ipython3",
   "version": "3.8.16"
  }
 },
 "nbformat": 4,
 "nbformat_minor": 5
}
