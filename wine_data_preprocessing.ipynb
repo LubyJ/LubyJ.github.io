{
 "cells": [
  {
   "cell_type": "code",
   "execution_count": 1,
   "id": "1109d973",
   "metadata": {},
   "outputs": [],
   "source": [
    "import numpy as np\n",
    "import sklearn\n",
    "from sklearn.model_selection import train_test_split\n",
    "import pandas as pd\n",
    "\n",
    "# 평가지표 로드\n",
    "from sklearn.metrics import classification_report, accuracy_score, roc_auc_score,precision_score, recall_score, f1_score, confusion_matrix\n",
    "\n",
    "# 학습 모델 로드\n",
    "from sklearn.tree import DecisionTreeClassifier\n",
    "from sklearn.ensemble import RandomForestClassifier\n",
    "from sklearn import svm\n",
    "from sklearn.linear_model import SGDClassifier\n",
    "from sklearn.linear_model import LogisticRegression\n",
    "\n",
    "# 분석 데이터 로드\n",
    "from sklearn.datasets import load_wine"
   ]
  },
  {
   "cell_type": "code",
   "execution_count": 2,
   "id": "ff2692e9",
   "metadata": {},
   "outputs": [],
   "source": [
    "def evaluate_classifier(y_test, y_pred, roc = False):\n",
    "    \n",
    "    print(f\"Accuracy: {accuracy_score(y_test, y_pred): .4f}\")\n",
    "    print(f\"Precision: {precision_score(y_test, y_pred, average = 'macro'): .4f}\")\n",
    "    print(f\"Recall: {recall_score(y_test, y_pred, average = 'macro'): .4f}\")\n",
    "    print(f\"F_SCORE: {f1_score(y_test, y_pred, average = 'macro'): .4f}\")\n",
    "    if roc:\n",
    "        print(f\"ROC_AUC: {roc_auc_score(y_test, y_pred, average = 'macro', multi_class = 'ovr'): .4f}\")\n",
    "    print(classification_report(y_test, y_pred))"
   ]
  },
  {
   "cell_type": "code",
   "execution_count": 3,
   "id": "29984ef3",
   "metadata": {},
   "outputs": [
    {
     "data": {
      "text/html": [
       "<div>\n",
       "<style scoped>\n",
       "    .dataframe tbody tr th:only-of-type {\n",
       "        vertical-align: middle;\n",
       "    }\n",
       "\n",
       "    .dataframe tbody tr th {\n",
       "        vertical-align: top;\n",
       "    }\n",
       "\n",
       "    .dataframe thead th {\n",
       "        text-align: right;\n",
       "    }\n",
       "</style>\n",
       "<table border=\"1\" class=\"dataframe\">\n",
       "  <thead>\n",
       "    <tr style=\"text-align: right;\">\n",
       "      <th></th>\n",
       "      <th>alcohol</th>\n",
       "      <th>malic_acid</th>\n",
       "      <th>ash</th>\n",
       "      <th>alcalinity_of_ash</th>\n",
       "      <th>magnesium</th>\n",
       "      <th>total_phenols</th>\n",
       "      <th>flavanoids</th>\n",
       "      <th>nonflavanoid_phenols</th>\n",
       "      <th>proanthocyanins</th>\n",
       "      <th>color_intensity</th>\n",
       "      <th>hue</th>\n",
       "      <th>od280/od315_of_diluted_wines</th>\n",
       "      <th>proline</th>\n",
       "    </tr>\n",
       "  </thead>\n",
       "  <tbody>\n",
       "    <tr>\n",
       "      <th>0</th>\n",
       "      <td>14.23</td>\n",
       "      <td>1.71</td>\n",
       "      <td>2.43</td>\n",
       "      <td>15.6</td>\n",
       "      <td>127.0</td>\n",
       "      <td>2.80</td>\n",
       "      <td>3.06</td>\n",
       "      <td>0.28</td>\n",
       "      <td>2.29</td>\n",
       "      <td>5.64</td>\n",
       "      <td>1.04</td>\n",
       "      <td>3.92</td>\n",
       "      <td>1065.0</td>\n",
       "    </tr>\n",
       "    <tr>\n",
       "      <th>1</th>\n",
       "      <td>13.20</td>\n",
       "      <td>1.78</td>\n",
       "      <td>2.14</td>\n",
       "      <td>11.2</td>\n",
       "      <td>100.0</td>\n",
       "      <td>2.65</td>\n",
       "      <td>2.76</td>\n",
       "      <td>0.26</td>\n",
       "      <td>1.28</td>\n",
       "      <td>4.38</td>\n",
       "      <td>1.05</td>\n",
       "      <td>3.40</td>\n",
       "      <td>1050.0</td>\n",
       "    </tr>\n",
       "  </tbody>\n",
       "</table>\n",
       "</div>"
      ],
      "text/plain": [
       "   alcohol  malic_acid   ash  alcalinity_of_ash  magnesium  total_phenols  \\\n",
       "0    14.23        1.71  2.43               15.6      127.0           2.80   \n",
       "1    13.20        1.78  2.14               11.2      100.0           2.65   \n",
       "\n",
       "   flavanoids  nonflavanoid_phenols  proanthocyanins  color_intensity   hue  \\\n",
       "0        3.06                  0.28             2.29             5.64  1.04   \n",
       "1        2.76                  0.26             1.28             4.38  1.05   \n",
       "\n",
       "   od280/od315_of_diluted_wines  proline  \n",
       "0                          3.92   1065.0  \n",
       "1                          3.40   1050.0  "
      ]
     },
     "execution_count": 3,
     "metadata": {},
     "output_type": "execute_result"
    }
   ],
   "source": [
    "wine = load_wine()\n",
    "wine_df = pd.DataFrame(data=wine.data, columns = wine.feature_names)\n",
    "wine_df.head(2)"
   ]
  },
  {
   "cell_type": "code",
   "execution_count": 4,
   "id": "4d027e2e",
   "metadata": {},
   "outputs": [
    {
     "data": {
      "text/plain": [
       "array([[1.423e+01, 1.710e+00, 2.430e+00, ..., 1.040e+00, 3.920e+00,\n",
       "        1.065e+03],\n",
       "       [1.320e+01, 1.780e+00, 2.140e+00, ..., 1.050e+00, 3.400e+00,\n",
       "        1.050e+03],\n",
       "       [1.316e+01, 2.360e+00, 2.670e+00, ..., 1.030e+00, 3.170e+00,\n",
       "        1.185e+03],\n",
       "       ...,\n",
       "       [1.327e+01, 4.280e+00, 2.260e+00, ..., 5.900e-01, 1.560e+00,\n",
       "        8.350e+02],\n",
       "       [1.317e+01, 2.590e+00, 2.370e+00, ..., 6.000e-01, 1.620e+00,\n",
       "        8.400e+02],\n",
       "       [1.413e+01, 4.100e+00, 2.740e+00, ..., 6.100e-01, 1.600e+00,\n",
       "        5.600e+02]])"
      ]
     },
     "execution_count": 4,
     "metadata": {},
     "output_type": "execute_result"
    }
   ],
   "source": [
    "wine.data"
   ]
  },
  {
   "cell_type": "code",
   "execution_count": null,
   "id": "bbbaef22",
   "metadata": {},
   "outputs": [],
   "source": []
  },
  {
   "cell_type": "code",
   "execution_count": 5,
   "id": "2ad1cbad",
   "metadata": {},
   "outputs": [
    {
     "data": {
      "text/html": [
       "<div>\n",
       "<style scoped>\n",
       "    .dataframe tbody tr th:only-of-type {\n",
       "        vertical-align: middle;\n",
       "    }\n",
       "\n",
       "    .dataframe tbody tr th {\n",
       "        vertical-align: top;\n",
       "    }\n",
       "\n",
       "    .dataframe thead th {\n",
       "        text-align: right;\n",
       "    }\n",
       "</style>\n",
       "<table border=\"1\" class=\"dataframe\">\n",
       "  <thead>\n",
       "    <tr style=\"text-align: right;\">\n",
       "      <th></th>\n",
       "      <th>alcohol</th>\n",
       "      <th>malic_acid</th>\n",
       "      <th>ash</th>\n",
       "      <th>alcalinity_of_ash</th>\n",
       "      <th>magnesium</th>\n",
       "      <th>total_phenols</th>\n",
       "      <th>flavanoids</th>\n",
       "      <th>nonflavanoid_phenols</th>\n",
       "      <th>proanthocyanins</th>\n",
       "      <th>color_intensity</th>\n",
       "      <th>hue</th>\n",
       "      <th>od280/od315_of_diluted_wines</th>\n",
       "      <th>proline</th>\n",
       "      <th>label</th>\n",
       "    </tr>\n",
       "  </thead>\n",
       "  <tbody>\n",
       "    <tr>\n",
       "      <th>0</th>\n",
       "      <td>14.23</td>\n",
       "      <td>1.71</td>\n",
       "      <td>2.43</td>\n",
       "      <td>15.6</td>\n",
       "      <td>127.0</td>\n",
       "      <td>2.80</td>\n",
       "      <td>3.06</td>\n",
       "      <td>0.28</td>\n",
       "      <td>2.29</td>\n",
       "      <td>5.64</td>\n",
       "      <td>1.04</td>\n",
       "      <td>3.92</td>\n",
       "      <td>1065.0</td>\n",
       "      <td>0</td>\n",
       "    </tr>\n",
       "    <tr>\n",
       "      <th>1</th>\n",
       "      <td>13.20</td>\n",
       "      <td>1.78</td>\n",
       "      <td>2.14</td>\n",
       "      <td>11.2</td>\n",
       "      <td>100.0</td>\n",
       "      <td>2.65</td>\n",
       "      <td>2.76</td>\n",
       "      <td>0.26</td>\n",
       "      <td>1.28</td>\n",
       "      <td>4.38</td>\n",
       "      <td>1.05</td>\n",
       "      <td>3.40</td>\n",
       "      <td>1050.0</td>\n",
       "      <td>0</td>\n",
       "    </tr>\n",
       "  </tbody>\n",
       "</table>\n",
       "</div>"
      ],
      "text/plain": [
       "   alcohol  malic_acid   ash  alcalinity_of_ash  magnesium  total_phenols  \\\n",
       "0    14.23        1.71  2.43               15.6      127.0           2.80   \n",
       "1    13.20        1.78  2.14               11.2      100.0           2.65   \n",
       "\n",
       "   flavanoids  nonflavanoid_phenols  proanthocyanins  color_intensity   hue  \\\n",
       "0        3.06                  0.28             2.29             5.64  1.04   \n",
       "1        2.76                  0.26             1.28             4.38  1.05   \n",
       "\n",
       "   od280/od315_of_diluted_wines  proline  label  \n",
       "0                          3.92   1065.0      0  \n",
       "1                          3.40   1050.0      0  "
      ]
     },
     "execution_count": 5,
     "metadata": {},
     "output_type": "execute_result"
    }
   ],
   "source": [
    "wine_df[\"label\"] = wine.target\n",
    "wine_df.head(2)"
   ]
  },
  {
   "cell_type": "code",
   "execution_count": 6,
   "id": "9ae3bc6f",
   "metadata": {},
   "outputs": [
    {
     "data": {
      "text/html": [
       "<div>\n",
       "<style scoped>\n",
       "    .dataframe tbody tr th:only-of-type {\n",
       "        vertical-align: middle;\n",
       "    }\n",
       "\n",
       "    .dataframe tbody tr th {\n",
       "        vertical-align: top;\n",
       "    }\n",
       "\n",
       "    .dataframe thead th {\n",
       "        text-align: right;\n",
       "    }\n",
       "</style>\n",
       "<table border=\"1\" class=\"dataframe\">\n",
       "  <thead>\n",
       "    <tr style=\"text-align: right;\">\n",
       "      <th></th>\n",
       "      <th>alcohol</th>\n",
       "      <th>malic_acid</th>\n",
       "      <th>ash</th>\n",
       "      <th>alcalinity_of_ash</th>\n",
       "      <th>magnesium</th>\n",
       "      <th>total_phenols</th>\n",
       "      <th>flavanoids</th>\n",
       "      <th>nonflavanoid_phenols</th>\n",
       "      <th>proanthocyanins</th>\n",
       "      <th>color_intensity</th>\n",
       "      <th>hue</th>\n",
       "      <th>od280/od315_of_diluted_wines</th>\n",
       "      <th>proline</th>\n",
       "      <th>label</th>\n",
       "    </tr>\n",
       "  </thead>\n",
       "  <tbody>\n",
       "    <tr>\n",
       "      <th>count</th>\n",
       "      <td>178.000000</td>\n",
       "      <td>178.000000</td>\n",
       "      <td>178.000000</td>\n",
       "      <td>178.000000</td>\n",
       "      <td>178.000000</td>\n",
       "      <td>178.000000</td>\n",
       "      <td>178.000000</td>\n",
       "      <td>178.000000</td>\n",
       "      <td>178.000000</td>\n",
       "      <td>178.000000</td>\n",
       "      <td>178.000000</td>\n",
       "      <td>178.000000</td>\n",
       "      <td>178.000000</td>\n",
       "      <td>178.000000</td>\n",
       "    </tr>\n",
       "    <tr>\n",
       "      <th>mean</th>\n",
       "      <td>13.000618</td>\n",
       "      <td>2.336348</td>\n",
       "      <td>2.366517</td>\n",
       "      <td>19.494944</td>\n",
       "      <td>99.741573</td>\n",
       "      <td>2.295112</td>\n",
       "      <td>2.029270</td>\n",
       "      <td>0.361854</td>\n",
       "      <td>1.590899</td>\n",
       "      <td>5.058090</td>\n",
       "      <td>0.957449</td>\n",
       "      <td>2.611685</td>\n",
       "      <td>746.893258</td>\n",
       "      <td>0.938202</td>\n",
       "    </tr>\n",
       "    <tr>\n",
       "      <th>std</th>\n",
       "      <td>0.811827</td>\n",
       "      <td>1.117146</td>\n",
       "      <td>0.274344</td>\n",
       "      <td>3.339564</td>\n",
       "      <td>14.282484</td>\n",
       "      <td>0.625851</td>\n",
       "      <td>0.998859</td>\n",
       "      <td>0.124453</td>\n",
       "      <td>0.572359</td>\n",
       "      <td>2.318286</td>\n",
       "      <td>0.228572</td>\n",
       "      <td>0.709990</td>\n",
       "      <td>314.907474</td>\n",
       "      <td>0.775035</td>\n",
       "    </tr>\n",
       "    <tr>\n",
       "      <th>min</th>\n",
       "      <td>11.030000</td>\n",
       "      <td>0.740000</td>\n",
       "      <td>1.360000</td>\n",
       "      <td>10.600000</td>\n",
       "      <td>70.000000</td>\n",
       "      <td>0.980000</td>\n",
       "      <td>0.340000</td>\n",
       "      <td>0.130000</td>\n",
       "      <td>0.410000</td>\n",
       "      <td>1.280000</td>\n",
       "      <td>0.480000</td>\n",
       "      <td>1.270000</td>\n",
       "      <td>278.000000</td>\n",
       "      <td>0.000000</td>\n",
       "    </tr>\n",
       "    <tr>\n",
       "      <th>25%</th>\n",
       "      <td>12.362500</td>\n",
       "      <td>1.602500</td>\n",
       "      <td>2.210000</td>\n",
       "      <td>17.200000</td>\n",
       "      <td>88.000000</td>\n",
       "      <td>1.742500</td>\n",
       "      <td>1.205000</td>\n",
       "      <td>0.270000</td>\n",
       "      <td>1.250000</td>\n",
       "      <td>3.220000</td>\n",
       "      <td>0.782500</td>\n",
       "      <td>1.937500</td>\n",
       "      <td>500.500000</td>\n",
       "      <td>0.000000</td>\n",
       "    </tr>\n",
       "    <tr>\n",
       "      <th>50%</th>\n",
       "      <td>13.050000</td>\n",
       "      <td>1.865000</td>\n",
       "      <td>2.360000</td>\n",
       "      <td>19.500000</td>\n",
       "      <td>98.000000</td>\n",
       "      <td>2.355000</td>\n",
       "      <td>2.135000</td>\n",
       "      <td>0.340000</td>\n",
       "      <td>1.555000</td>\n",
       "      <td>4.690000</td>\n",
       "      <td>0.965000</td>\n",
       "      <td>2.780000</td>\n",
       "      <td>673.500000</td>\n",
       "      <td>1.000000</td>\n",
       "    </tr>\n",
       "    <tr>\n",
       "      <th>75%</th>\n",
       "      <td>13.677500</td>\n",
       "      <td>3.082500</td>\n",
       "      <td>2.557500</td>\n",
       "      <td>21.500000</td>\n",
       "      <td>107.000000</td>\n",
       "      <td>2.800000</td>\n",
       "      <td>2.875000</td>\n",
       "      <td>0.437500</td>\n",
       "      <td>1.950000</td>\n",
       "      <td>6.200000</td>\n",
       "      <td>1.120000</td>\n",
       "      <td>3.170000</td>\n",
       "      <td>985.000000</td>\n",
       "      <td>2.000000</td>\n",
       "    </tr>\n",
       "    <tr>\n",
       "      <th>max</th>\n",
       "      <td>14.830000</td>\n",
       "      <td>5.800000</td>\n",
       "      <td>3.230000</td>\n",
       "      <td>30.000000</td>\n",
       "      <td>162.000000</td>\n",
       "      <td>3.880000</td>\n",
       "      <td>5.080000</td>\n",
       "      <td>0.660000</td>\n",
       "      <td>3.580000</td>\n",
       "      <td>13.000000</td>\n",
       "      <td>1.710000</td>\n",
       "      <td>4.000000</td>\n",
       "      <td>1680.000000</td>\n",
       "      <td>2.000000</td>\n",
       "    </tr>\n",
       "  </tbody>\n",
       "</table>\n",
       "</div>"
      ],
      "text/plain": [
       "          alcohol  malic_acid         ash  alcalinity_of_ash   magnesium  \\\n",
       "count  178.000000  178.000000  178.000000         178.000000  178.000000   \n",
       "mean    13.000618    2.336348    2.366517          19.494944   99.741573   \n",
       "std      0.811827    1.117146    0.274344           3.339564   14.282484   \n",
       "min     11.030000    0.740000    1.360000          10.600000   70.000000   \n",
       "25%     12.362500    1.602500    2.210000          17.200000   88.000000   \n",
       "50%     13.050000    1.865000    2.360000          19.500000   98.000000   \n",
       "75%     13.677500    3.082500    2.557500          21.500000  107.000000   \n",
       "max     14.830000    5.800000    3.230000          30.000000  162.000000   \n",
       "\n",
       "       total_phenols  flavanoids  nonflavanoid_phenols  proanthocyanins  \\\n",
       "count     178.000000  178.000000            178.000000       178.000000   \n",
       "mean        2.295112    2.029270              0.361854         1.590899   \n",
       "std         0.625851    0.998859              0.124453         0.572359   \n",
       "min         0.980000    0.340000              0.130000         0.410000   \n",
       "25%         1.742500    1.205000              0.270000         1.250000   \n",
       "50%         2.355000    2.135000              0.340000         1.555000   \n",
       "75%         2.800000    2.875000              0.437500         1.950000   \n",
       "max         3.880000    5.080000              0.660000         3.580000   \n",
       "\n",
       "       color_intensity         hue  od280/od315_of_diluted_wines      proline  \\\n",
       "count       178.000000  178.000000                    178.000000   178.000000   \n",
       "mean          5.058090    0.957449                      2.611685   746.893258   \n",
       "std           2.318286    0.228572                      0.709990   314.907474   \n",
       "min           1.280000    0.480000                      1.270000   278.000000   \n",
       "25%           3.220000    0.782500                      1.937500   500.500000   \n",
       "50%           4.690000    0.965000                      2.780000   673.500000   \n",
       "75%           6.200000    1.120000                      3.170000   985.000000   \n",
       "max          13.000000    1.710000                      4.000000  1680.000000   \n",
       "\n",
       "            label  \n",
       "count  178.000000  \n",
       "mean     0.938202  \n",
       "std      0.775035  \n",
       "min      0.000000  \n",
       "25%      0.000000  \n",
       "50%      1.000000  \n",
       "75%      2.000000  \n",
       "max      2.000000  "
      ]
     },
     "execution_count": 6,
     "metadata": {},
     "output_type": "execute_result"
    }
   ],
   "source": [
    "wine_df.describe()"
   ]
  },
  {
   "cell_type": "markdown",
   "id": "96c51b1f",
   "metadata": {},
   "source": [
    "* 대부분 feature 항목들의 min-max 편차가 큰 것으로 보아 이상치가 존재할 것으로 예상됨\n",
    "* proline, magnesium 항목이 다른 컬럼값에 비해 스케일이 큼. 특히나 proline!\n",
    "* 스케일 차이가 많이나는 경우 linear regression을 할 때 모델의 파라미터를 업데이트하는 과정에서 범위가 큰 컬럼 B의 파라미터만 집중적으로 업데이트하는 문제 발생 가능\n",
    "* 정규화 과정이 필요할 것으로 보임."
   ]
  },
  {
   "cell_type": "markdown",
   "id": "8233db80",
   "metadata": {},
   "source": [
    "---"
   ]
  },
  {
   "cell_type": "markdown",
   "id": "bb4715b4",
   "metadata": {},
   "source": [
    "# A_data visualization"
   ]
  },
  {
   "cell_type": "markdown",
   "id": "aa0914b1",
   "metadata": {},
   "source": [
    "### 1. histogram\n",
    "* histogram을 통해 데이터 분포 파악"
   ]
  },
  {
   "cell_type": "code",
   "execution_count": 7,
   "id": "c202c135",
   "metadata": {},
   "outputs": [
    {
     "data": {
      "image/png": "[encoded data removed]",
      "text/plain": [
       "<Figure size 2000x5000 with 12 Axes>"
      ]
     },
     "metadata": {},
     "output_type": "display_data"
    }
   ],
   "source": [
    "import matplotlib.pyplot as plt\n",
    "\n",
    "plt.style.use('default')\n",
    "colors = ['blue','green','red','cyan','magenta','yellow','blue','green','red','magenta','cyan','yellow']\n",
    "plt.figure(figsize=(20, 50))\n",
    "for i in range(1,13):\n",
    "    plt.subplot(6, 6, i)\n",
    "    plt.hist(wine_df[wine_df.columns[i-1]], color = colors[i-1])\n",
    "    plt.xlabel(wine_df.columns[i-1])\n",
    "plt.show()"
   ]
  },
  {
   "cell_type": "markdown",
   "id": "f2edd654",
   "metadata": {},
   "source": [
    "### 2. heatmap\n",
    "* heatmap을 통해 인자간 상관관계 파악"
   ]
  },
  {
   "cell_type": "code",
   "execution_count": 8,
   "id": "cfa3959c",
   "metadata": {
    "scrolled": false
   },
   "outputs": [
    {
     "data": {
      "image/png": "[encoded data removed]",
      "text/plain": [
       "<Figure size 1000x1000 with 2 Axes>"
      ]
     },
     "metadata": {},
     "output_type": "display_data"
    }
   ],
   "source": [
    "import seaborn as sns\n",
    "plt.figure(figsize=(10,10))\n",
    "correlations = wine_df[wine_df.columns].corr(method='pearson')\n",
    "sns.heatmap(correlations, annot = True)\n",
    "plt.show()"
   ]
  },
  {
   "cell_type": "markdown",
   "id": "f742f6fc",
   "metadata": {},
   "source": [
    "# B_이상치 확인해보기"
   ]
  },
  {
   "cell_type": "markdown",
   "id": "f619c29c",
   "metadata": {},
   "source": [
    "## (1) z-score method  \n",
    "* 값-평균/표준편차로 z-score를 계산한 뒤 특정 기준을 넘는 데이터를 이상치라 판단\n",
    "* 즉, __데이터 값이 \"평균\"과 얼마나 차이가 나는지__ 보여줌\n",
    "* 한계점 \n",
    "    1. 평균과 표준편차 자체가 이미 이상치의 영향을 받은 지표인데 이 값을 이용함.\n",
    "    2. 데이터셋이 작은 경우 신뢰도가 떨어짐."
   ]
  },
  {
   "cell_type": "code",
   "execution_count": 9,
   "id": "246fd634",
   "metadata": {},
   "outputs": [
    {
     "data": {
      "text/plain": [
       "['alcohol',\n",
       " 'malic_acid',\n",
       " 'ash',\n",
       " 'alcalinity_of_ash',\n",
       " 'magnesium',\n",
       " 'total_phenols',\n",
       " 'flavanoids',\n",
       " 'nonflavanoid_phenols',\n",
       " 'proanthocyanins',\n",
       " 'color_intensity',\n",
       " 'hue',\n",
       " 'od280/od315_of_diluted_wines',\n",
       " 'proline']"
      ]
     },
     "execution_count": 9,
     "metadata": {},
     "output_type": "execute_result"
    }
   ],
   "source": [
    "wine.feature_names"
   ]
  },
  {
   "cell_type": "markdown",
   "id": "ccc30bc4",
   "metadata": {},
   "source": [
    "### 이상치인 데이터의 인덱스를 리턴하는 outlier 함수 생성"
   ]
  },
  {
   "cell_type": "code",
   "execution_count": 10,
   "id": "1adba6c5",
   "metadata": {},
   "outputs": [],
   "source": [
    "def outlier(df, col, z):\n",
    "    return df[abs(df[col] - np.mean(df[col]))/np.std(df[col])>z].index"
   ]
  },
  {
   "cell_type": "code",
   "execution_count": 11,
   "id": "7108dd0b",
   "metadata": {},
   "outputs": [
    {
     "data": {
      "text/html": [
       "<div>\n",
       "<style scoped>\n",
       "    .dataframe tbody tr th:only-of-type {\n",
       "        vertical-align: middle;\n",
       "    }\n",
       "\n",
       "    .dataframe tbody tr th {\n",
       "        vertical-align: top;\n",
       "    }\n",
       "\n",
       "    .dataframe thead th {\n",
       "        text-align: right;\n",
       "    }\n",
       "</style>\n",
       "<table border=\"1\" class=\"dataframe\">\n",
       "  <thead>\n",
       "    <tr style=\"text-align: right;\">\n",
       "      <th></th>\n",
       "      <th>alcohol</th>\n",
       "      <th>malic_acid</th>\n",
       "      <th>ash</th>\n",
       "      <th>alcalinity_of_ash</th>\n",
       "      <th>magnesium</th>\n",
       "      <th>total_phenols</th>\n",
       "      <th>flavanoids</th>\n",
       "      <th>nonflavanoid_phenols</th>\n",
       "      <th>proanthocyanins</th>\n",
       "      <th>color_intensity</th>\n",
       "      <th>hue</th>\n",
       "      <th>od280/od315_of_diluted_wines</th>\n",
       "      <th>proline</th>\n",
       "      <th>label</th>\n",
       "    </tr>\n",
       "  </thead>\n",
       "  <tbody>\n",
       "    <tr>\n",
       "      <th>8</th>\n",
       "      <td>14.83</td>\n",
       "      <td>1.64</td>\n",
       "      <td>2.17</td>\n",
       "      <td>14.0</td>\n",
       "      <td>97.0</td>\n",
       "      <td>2.80</td>\n",
       "      <td>2.98</td>\n",
       "      <td>0.29</td>\n",
       "      <td>1.98</td>\n",
       "      <td>5.2</td>\n",
       "      <td>1.08</td>\n",
       "      <td>2.85</td>\n",
       "      <td>1045.0</td>\n",
       "      <td>0</td>\n",
       "    </tr>\n",
       "    <tr>\n",
       "      <th>13</th>\n",
       "      <td>14.75</td>\n",
       "      <td>1.73</td>\n",
       "      <td>2.39</td>\n",
       "      <td>11.4</td>\n",
       "      <td>91.0</td>\n",
       "      <td>3.10</td>\n",
       "      <td>3.69</td>\n",
       "      <td>0.43</td>\n",
       "      <td>2.81</td>\n",
       "      <td>5.4</td>\n",
       "      <td>1.25</td>\n",
       "      <td>2.73</td>\n",
       "      <td>1150.0</td>\n",
       "      <td>0</td>\n",
       "    </tr>\n",
       "    <tr>\n",
       "      <th>115</th>\n",
       "      <td>11.03</td>\n",
       "      <td>1.51</td>\n",
       "      <td>2.20</td>\n",
       "      <td>21.5</td>\n",
       "      <td>85.0</td>\n",
       "      <td>2.46</td>\n",
       "      <td>2.17</td>\n",
       "      <td>0.52</td>\n",
       "      <td>2.01</td>\n",
       "      <td>1.9</td>\n",
       "      <td>1.71</td>\n",
       "      <td>2.87</td>\n",
       "      <td>407.0</td>\n",
       "      <td>1</td>\n",
       "    </tr>\n",
       "  </tbody>\n",
       "</table>\n",
       "</div>"
      ],
      "text/plain": [
       "     alcohol  malic_acid   ash  alcalinity_of_ash  magnesium  total_phenols  \\\n",
       "8      14.83        1.64  2.17               14.0       97.0           2.80   \n",
       "13     14.75        1.73  2.39               11.4       91.0           3.10   \n",
       "115    11.03        1.51  2.20               21.5       85.0           2.46   \n",
       "\n",
       "     flavanoids  nonflavanoid_phenols  proanthocyanins  color_intensity   hue  \\\n",
       "8          2.98                  0.29             1.98              5.2  1.08   \n",
       "13         3.69                  0.43             2.81              5.4  1.25   \n",
       "115        2.17                  0.52             2.01              1.9  1.71   \n",
       "\n",
       "     od280/od315_of_diluted_wines  proline  label  \n",
       "8                            2.85   1045.0      0  \n",
       "13                           2.73   1150.0      0  \n",
       "115                          2.87    407.0      1  "
      ]
     },
     "execution_count": 11,
     "metadata": {},
     "output_type": "execute_result"
    }
   ],
   "source": [
    "wine_df.loc[outlier(wine_df, 'alcohol', 2)]"
   ]
  },
  {
   "cell_type": "markdown",
   "id": "4db1d0d1",
   "metadata": {},
   "source": [
    "### 비이상치인 데이터 추출"
   ]
  },
  {
   "cell_type": "code",
   "execution_count": 12,
   "id": "aeb395cc",
   "metadata": {},
   "outputs": [],
   "source": [
    "def not_outlier(df, col, z):\n",
    "    return df[abs(df[col] - np.mean(df[col]))/np.std(df[col]) <=z ].index"
   ]
  },
  {
   "cell_type": "code",
   "execution_count": 13,
   "id": "1f14cc5d",
   "metadata": {},
   "outputs": [
    {
     "data": {
      "text/html": [
       "<div>\n",
       "<style scoped>\n",
       "    .dataframe tbody tr th:only-of-type {\n",
       "        vertical-align: middle;\n",
       "    }\n",
       "\n",
       "    .dataframe tbody tr th {\n",
       "        vertical-align: top;\n",
       "    }\n",
       "\n",
       "    .dataframe thead th {\n",
       "        text-align: right;\n",
       "    }\n",
       "</style>\n",
       "<table border=\"1\" class=\"dataframe\">\n",
       "  <thead>\n",
       "    <tr style=\"text-align: right;\">\n",
       "      <th></th>\n",
       "      <th>alcohol</th>\n",
       "      <th>malic_acid</th>\n",
       "      <th>ash</th>\n",
       "      <th>alcalinity_of_ash</th>\n",
       "      <th>magnesium</th>\n",
       "      <th>total_phenols</th>\n",
       "      <th>flavanoids</th>\n",
       "      <th>nonflavanoid_phenols</th>\n",
       "      <th>proanthocyanins</th>\n",
       "      <th>color_intensity</th>\n",
       "      <th>hue</th>\n",
       "      <th>od280/od315_of_diluted_wines</th>\n",
       "      <th>proline</th>\n",
       "      <th>label</th>\n",
       "    </tr>\n",
       "  </thead>\n",
       "  <tbody>\n",
       "    <tr>\n",
       "      <th>0</th>\n",
       "      <td>14.23</td>\n",
       "      <td>1.71</td>\n",
       "      <td>2.43</td>\n",
       "      <td>15.6</td>\n",
       "      <td>127.0</td>\n",
       "      <td>2.80</td>\n",
       "      <td>3.06</td>\n",
       "      <td>0.28</td>\n",
       "      <td>2.29</td>\n",
       "      <td>5.64</td>\n",
       "      <td>1.04</td>\n",
       "      <td>3.92</td>\n",
       "      <td>1065.0</td>\n",
       "      <td>0</td>\n",
       "    </tr>\n",
       "    <tr>\n",
       "      <th>1</th>\n",
       "      <td>13.20</td>\n",
       "      <td>1.78</td>\n",
       "      <td>2.14</td>\n",
       "      <td>11.2</td>\n",
       "      <td>100.0</td>\n",
       "      <td>2.65</td>\n",
       "      <td>2.76</td>\n",
       "      <td>0.26</td>\n",
       "      <td>1.28</td>\n",
       "      <td>4.38</td>\n",
       "      <td>1.05</td>\n",
       "      <td>3.40</td>\n",
       "      <td>1050.0</td>\n",
       "      <td>0</td>\n",
       "    </tr>\n",
       "    <tr>\n",
       "      <th>2</th>\n",
       "      <td>13.16</td>\n",
       "      <td>2.36</td>\n",
       "      <td>2.67</td>\n",
       "      <td>18.6</td>\n",
       "      <td>101.0</td>\n",
       "      <td>2.80</td>\n",
       "      <td>3.24</td>\n",
       "      <td>0.30</td>\n",
       "      <td>2.81</td>\n",
       "      <td>5.68</td>\n",
       "      <td>1.03</td>\n",
       "      <td>3.17</td>\n",
       "      <td>1185.0</td>\n",
       "      <td>0</td>\n",
       "    </tr>\n",
       "  </tbody>\n",
       "</table>\n",
       "</div>"
      ],
      "text/plain": [
       "   alcohol  malic_acid   ash  alcalinity_of_ash  magnesium  total_phenols  \\\n",
       "0    14.23        1.71  2.43               15.6      127.0           2.80   \n",
       "1    13.20        1.78  2.14               11.2      100.0           2.65   \n",
       "2    13.16        2.36  2.67               18.6      101.0           2.80   \n",
       "\n",
       "   flavanoids  nonflavanoid_phenols  proanthocyanins  color_intensity   hue  \\\n",
       "0        3.06                  0.28             2.29             5.64  1.04   \n",
       "1        2.76                  0.26             1.28             4.38  1.05   \n",
       "2        3.24                  0.30             2.81             5.68  1.03   \n",
       "\n",
       "   od280/od315_of_diluted_wines  proline  label  \n",
       "0                          3.92   1065.0      0  \n",
       "1                          3.40   1050.0      0  \n",
       "2                          3.17   1185.0      0  "
      ]
     },
     "execution_count": 13,
     "metadata": {},
     "output_type": "execute_result"
    }
   ],
   "source": [
    "wine_df.loc[not_outlier(wine_df, 'alcohol', 2)].head(3)"
   ]
  },
  {
   "cell_type": "markdown",
   "id": "faee7084",
   "metadata": {},
   "source": [
    "* wine 분류 데이터는 데이터셋이 적기 때문에 z-score에 따른 이상치 처리는 하지 않음"
   ]
  },
  {
   "cell_type": "markdown",
   "id": "430a2682",
   "metadata": {},
   "source": []
  },
  {
   "cell_type": "markdown",
   "id": "0c984a39",
   "metadata": {},
   "source": [
    "## (2) IQR (Interquartile range) method \n",
    "* IQR = Q3(제 3사분위수) - Q1(제 1사분위수)로, 데이터의 중간 50% 범위.\n",
    "* X < (Q1 - 1.5 x IQR) or X > (Q3 + 1.5 x IQR) 에 해당하는 X를 이상치라 판단"
   ]
  },
  {
   "cell_type": "code",
   "execution_count": 14,
   "id": "080603d6",
   "metadata": {},
   "outputs": [],
   "source": [
    "import matplotlib.pyplot as plt"
   ]
  },
  {
   "cell_type": "markdown",
   "id": "0728065e",
   "metadata": {},
   "source": [
    "### box plot으로 전체 feature data의 이상치 여부 확인"
   ]
  },
  {
   "cell_type": "code",
   "execution_count": 15,
   "id": "9bdf8df4",
   "metadata": {},
   "outputs": [
    {
     "data": {
      "image/png": "[encoded data removed]",
      "text/plain": [
       "<Figure size 2500x5000 with 12 Axes>"
      ]
     },
     "metadata": {},
     "output_type": "display_data"
    }
   ],
   "source": [
    "plt.style.use('default')\n",
    "plt.figure(figsize=(25, 50))\n",
    "for i in range(1,13):\n",
    "    plt.subplot(6, 6, i)\n",
    "    plt.boxplot(wine_df[wine_df.columns[i-1]])\n",
    "    plt.ylabel(wine_df.columns[i-1])\n",
    "plt.show()"
   ]
  },
  {
   "cell_type": "markdown",
   "id": "3d7984bb",
   "metadata": {},
   "source": [
    "#### 이상치를 갖는 인자는 : malic_acid, ash, alcalinity_of_ash, magnesium, proanthocyanins, color_intensity, hue 총 7가지"
   ]
  },
  {
   "cell_type": "markdown",
   "id": "b2f4c38a",
   "metadata": {},
   "source": [
    "#### 이상치 판단 후 해야할 일\n",
    "    1. 이상치 삭제 (or 이상치끼리 따로 분석)\n",
    "    2. 이상치 다른 값으로 대체 (데이터양이 적은 경우 방안) \n",
    "        ex) 최댓값과 최솟값을 설정해 데이터 범위 제한\n",
    "    3. 결측치처럼 다른 데이터를 활용하여 예측 모델 만들어서 예측값 활용\n",
    "        ex) malic_acid는 heatmap 상으로 label과 가장 상관관계가 높으므로, \n",
    "            각 라벨별 malic_acid의 평균치를 구하여 대체\n",
    "    4. binning을 통해 수치형 데이터를 범주형 데이터로 전환"
   ]
  },
  {
   "cell_type": "markdown",
   "id": "01272a9a",
   "metadata": {},
   "source": [
    "# C_ 정규화(Normalization)\n",
    "* 위에서 언급했듯, proline, magnesium 항목이 다른 컬럼값에 비해 스케일이 커서 정규화를 진행함"
   ]
  },
  {
   "cell_type": "markdown",
   "id": "2e0c8c14",
   "metadata": {},
   "source": [
    "## (1) 표준화(Standardization)\n",
    "* 데이터의 평균은 0, 분산은 1로 변환\n",
    "* 표준화 방식은 보통 평균이 0이고 표준편차가 1인 즉, 피처가 가우시안 분포인 경우 유용"
   ]
  },
  {
   "cell_type": "code",
   "execution_count": 16,
   "id": "bf90f08d",
   "metadata": {},
   "outputs": [
    {
     "data": {
      "text/html": [
       "<div>\n",
       "<style scoped>\n",
       "    .dataframe tbody tr th:only-of-type {\n",
       "        vertical-align: middle;\n",
       "    }\n",
       "\n",
       "    .dataframe tbody tr th {\n",
       "        vertical-align: top;\n",
       "    }\n",
       "\n",
       "    .dataframe thead th {\n",
       "        text-align: right;\n",
       "    }\n",
       "</style>\n",
       "<table border=\"1\" class=\"dataframe\">\n",
       "  <thead>\n",
       "    <tr style=\"text-align: right;\">\n",
       "      <th></th>\n",
       "      <th>alcohol</th>\n",
       "      <th>malic_acid</th>\n",
       "      <th>ash</th>\n",
       "      <th>alcalinity_of_ash</th>\n",
       "      <th>magnesium</th>\n",
       "      <th>total_phenols</th>\n",
       "      <th>flavanoids</th>\n",
       "      <th>nonflavanoid_phenols</th>\n",
       "      <th>proanthocyanins</th>\n",
       "      <th>color_intensity</th>\n",
       "      <th>hue</th>\n",
       "      <th>od280/od315_of_diluted_wines</th>\n",
       "      <th>proline</th>\n",
       "    </tr>\n",
       "  </thead>\n",
       "  <tbody>\n",
       "    <tr>\n",
       "      <th>0</th>\n",
       "      <td>1.514341</td>\n",
       "      <td>-0.560668</td>\n",
       "      <td>0.231400</td>\n",
       "      <td>-1.166303</td>\n",
       "      <td>1.908522</td>\n",
       "      <td>0.806722</td>\n",
       "      <td>1.031908</td>\n",
       "      <td>-0.657708</td>\n",
       "      <td>1.221438</td>\n",
       "      <td>0.251009</td>\n",
       "      <td>0.361158</td>\n",
       "      <td>1.842721</td>\n",
       "      <td>1.010159</td>\n",
       "    </tr>\n",
       "    <tr>\n",
       "      <th>1</th>\n",
       "      <td>0.245597</td>\n",
       "      <td>-0.498009</td>\n",
       "      <td>-0.825667</td>\n",
       "      <td>-2.483841</td>\n",
       "      <td>0.018094</td>\n",
       "      <td>0.567048</td>\n",
       "      <td>0.731565</td>\n",
       "      <td>-0.818411</td>\n",
       "      <td>-0.543189</td>\n",
       "      <td>-0.292496</td>\n",
       "      <td>0.404908</td>\n",
       "      <td>1.110317</td>\n",
       "      <td>0.962526</td>\n",
       "    </tr>\n",
       "    <tr>\n",
       "      <th>2</th>\n",
       "      <td>0.196325</td>\n",
       "      <td>0.021172</td>\n",
       "      <td>1.106214</td>\n",
       "      <td>-0.267982</td>\n",
       "      <td>0.088110</td>\n",
       "      <td>0.806722</td>\n",
       "      <td>1.212114</td>\n",
       "      <td>-0.497005</td>\n",
       "      <td>2.129959</td>\n",
       "      <td>0.268263</td>\n",
       "      <td>0.317409</td>\n",
       "      <td>0.786369</td>\n",
       "      <td>1.391224</td>\n",
       "    </tr>\n",
       "    <tr>\n",
       "      <th>3</th>\n",
       "      <td>1.686791</td>\n",
       "      <td>-0.345835</td>\n",
       "      <td>0.486554</td>\n",
       "      <td>-0.806975</td>\n",
       "      <td>0.928300</td>\n",
       "      <td>2.484437</td>\n",
       "      <td>1.462399</td>\n",
       "      <td>-0.979113</td>\n",
       "      <td>1.029251</td>\n",
       "      <td>1.182732</td>\n",
       "      <td>-0.426341</td>\n",
       "      <td>1.180741</td>\n",
       "      <td>2.328007</td>\n",
       "    </tr>\n",
       "    <tr>\n",
       "      <th>4</th>\n",
       "      <td>0.294868</td>\n",
       "      <td>0.227053</td>\n",
       "      <td>1.835226</td>\n",
       "      <td>0.450674</td>\n",
       "      <td>1.278379</td>\n",
       "      <td>0.806722</td>\n",
       "      <td>0.661485</td>\n",
       "      <td>0.226158</td>\n",
       "      <td>0.400275</td>\n",
       "      <td>-0.318377</td>\n",
       "      <td>0.361158</td>\n",
       "      <td>0.448336</td>\n",
       "      <td>-0.037767</td>\n",
       "    </tr>\n",
       "  </tbody>\n",
       "</table>\n",
       "</div>"
      ],
      "text/plain": [
       "    alcohol  malic_acid       ash  alcalinity_of_ash  magnesium  \\\n",
       "0  1.514341   -0.560668  0.231400          -1.166303   1.908522   \n",
       "1  0.245597   -0.498009 -0.825667          -2.483841   0.018094   \n",
       "2  0.196325    0.021172  1.106214          -0.267982   0.088110   \n",
       "3  1.686791   -0.345835  0.486554          -0.806975   0.928300   \n",
       "4  0.294868    0.227053  1.835226           0.450674   1.278379   \n",
       "\n",
       "   total_phenols  flavanoids  nonflavanoid_phenols  proanthocyanins  \\\n",
       "0       0.806722    1.031908             -0.657708         1.221438   \n",
       "1       0.567048    0.731565             -0.818411        -0.543189   \n",
       "2       0.806722    1.212114             -0.497005         2.129959   \n",
       "3       2.484437    1.462399             -0.979113         1.029251   \n",
       "4       0.806722    0.661485              0.226158         0.400275   \n",
       "\n",
       "   color_intensity       hue  od280/od315_of_diluted_wines   proline  \n",
       "0         0.251009  0.361158                      1.842721  1.010159  \n",
       "1        -0.292496  0.404908                      1.110317  0.962526  \n",
       "2         0.268263  0.317409                      0.786369  1.391224  \n",
       "3         1.182732 -0.426341                      1.180741  2.328007  \n",
       "4        -0.318377  0.361158                      0.448336 -0.037767  "
      ]
     },
     "execution_count": 16,
     "metadata": {},
     "output_type": "execute_result"
    }
   ],
   "source": [
    "cols = wine.feature_names\n",
    "wine_data_standardization = (wine_df[cols]-wine_df[cols].mean())/wine_df[cols].std()\n",
    "wine_data_standardization.head()"
   ]
  },
  {
   "cell_type": "markdown",
   "id": "582424d2",
   "metadata": {},
   "source": [
    "### 표준화를 진행한 데이터를 describe해보면 std가 1인것을 알 수 있음"
   ]
  },
  {
   "cell_type": "code",
   "execution_count": 17,
   "id": "0428aa35",
   "metadata": {},
   "outputs": [
    {
     "data": {
      "text/html": [
       "<div>\n",
       "<style scoped>\n",
       "    .dataframe tbody tr th:only-of-type {\n",
       "        vertical-align: middle;\n",
       "    }\n",
       "\n",
       "    .dataframe tbody tr th {\n",
       "        vertical-align: top;\n",
       "    }\n",
       "\n",
       "    .dataframe thead th {\n",
       "        text-align: right;\n",
       "    }\n",
       "</style>\n",
       "<table border=\"1\" class=\"dataframe\">\n",
       "  <thead>\n",
       "    <tr style=\"text-align: right;\">\n",
       "      <th></th>\n",
       "      <th>alcohol</th>\n",
       "      <th>malic_acid</th>\n",
       "      <th>ash</th>\n",
       "      <th>alcalinity_of_ash</th>\n",
       "      <th>magnesium</th>\n",
       "      <th>total_phenols</th>\n",
       "      <th>flavanoids</th>\n",
       "      <th>nonflavanoid_phenols</th>\n",
       "      <th>proanthocyanins</th>\n",
       "      <th>color_intensity</th>\n",
       "      <th>hue</th>\n",
       "      <th>od280/od315_of_diluted_wines</th>\n",
       "      <th>proline</th>\n",
       "    </tr>\n",
       "  </thead>\n",
       "  <tbody>\n",
       "    <tr>\n",
       "      <th>count</th>\n",
       "      <td>1.780000e+02</td>\n",
       "      <td>1.780000e+02</td>\n",
       "      <td>1.780000e+02</td>\n",
       "      <td>1.780000e+02</td>\n",
       "      <td>1.780000e+02</td>\n",
       "      <td>1.780000e+02</td>\n",
       "      <td>1.780000e+02</td>\n",
       "      <td>1.780000e+02</td>\n",
       "      <td>1.780000e+02</td>\n",
       "      <td>1.780000e+02</td>\n",
       "      <td>1.780000e+02</td>\n",
       "      <td>1.780000e+02</td>\n",
       "      <td>1.780000e+02</td>\n",
       "    </tr>\n",
       "    <tr>\n",
       "      <th>mean</th>\n",
       "      <td>7.863872e-15</td>\n",
       "      <td>3.193450e-16</td>\n",
       "      <td>-4.067907e-15</td>\n",
       "      <td>-7.983626e-17</td>\n",
       "      <td>-1.995907e-17</td>\n",
       "      <td>3.991813e-17</td>\n",
       "      <td>9.181170e-16</td>\n",
       "      <td>-4.790176e-16</td>\n",
       "      <td>-1.676562e-15</td>\n",
       "      <td>-3.393041e-16</td>\n",
       "      <td>1.676562e-15</td>\n",
       "      <td>2.195497e-15</td>\n",
       "      <td>-7.983626e-17</td>\n",
       "    </tr>\n",
       "    <tr>\n",
       "      <th>std</th>\n",
       "      <td>1.000000e+00</td>\n",
       "      <td>1.000000e+00</td>\n",
       "      <td>1.000000e+00</td>\n",
       "      <td>1.000000e+00</td>\n",
       "      <td>1.000000e+00</td>\n",
       "      <td>1.000000e+00</td>\n",
       "      <td>1.000000e+00</td>\n",
       "      <td>1.000000e+00</td>\n",
       "      <td>1.000000e+00</td>\n",
       "      <td>1.000000e+00</td>\n",
       "      <td>1.000000e+00</td>\n",
       "      <td>1.000000e+00</td>\n",
       "      <td>1.000000e+00</td>\n",
       "    </tr>\n",
       "    <tr>\n",
       "      <th>min</th>\n",
       "      <td>-2.427388e+00</td>\n",
       "      <td>-1.428952e+00</td>\n",
       "      <td>-3.668813e+00</td>\n",
       "      <td>-2.663505e+00</td>\n",
       "      <td>-2.082381e+00</td>\n",
       "      <td>-2.101318e+00</td>\n",
       "      <td>-1.691200e+00</td>\n",
       "      <td>-1.862979e+00</td>\n",
       "      <td>-2.063214e+00</td>\n",
       "      <td>-1.629691e+00</td>\n",
       "      <td>-2.088840e+00</td>\n",
       "      <td>-1.889723e+00</td>\n",
       "      <td>-1.488987e+00</td>\n",
       "    </tr>\n",
       "    <tr>\n",
       "      <th>25%</th>\n",
       "      <td>-7.860275e-01</td>\n",
       "      <td>-6.568956e-01</td>\n",
       "      <td>-5.705131e-01</td>\n",
       "      <td>-6.871987e-01</td>\n",
       "      <td>-8.220960e-01</td>\n",
       "      <td>-8.829774e-01</td>\n",
       "      <td>-8.252115e-01</td>\n",
       "      <td>-7.380592e-01</td>\n",
       "      <td>-5.956034e-01</td>\n",
       "      <td>-7.928659e-01</td>\n",
       "      <td>-7.654033e-01</td>\n",
       "      <td>-9.495697e-01</td>\n",
       "      <td>-7.824306e-01</td>\n",
       "    </tr>\n",
       "    <tr>\n",
       "      <th>50%</th>\n",
       "      <td>6.082829e-02</td>\n",
       "      <td>-4.219218e-01</td>\n",
       "      <td>-2.375431e-02</td>\n",
       "      <td>1.514024e-03</td>\n",
       "      <td>-1.219377e-01</td>\n",
       "      <td>9.568993e-02</td>\n",
       "      <td>1.058511e-01</td>\n",
       "      <td>-1.755994e-01</td>\n",
       "      <td>-6.272092e-02</td>\n",
       "      <td>-1.587767e-01</td>\n",
       "      <td>3.303369e-02</td>\n",
       "      <td>2.370660e-01</td>\n",
       "      <td>-2.330629e-01</td>\n",
       "    </tr>\n",
       "    <tr>\n",
       "      <th>75%</th>\n",
       "      <td>8.337767e-01</td>\n",
       "      <td>6.679088e-01</td>\n",
       "      <td>6.961448e-01</td>\n",
       "      <td>6.003946e-01</td>\n",
       "      <td>5.082048e-01</td>\n",
       "      <td>8.067217e-01</td>\n",
       "      <td>8.466967e-01</td>\n",
       "      <td>6.078267e-01</td>\n",
       "      <td>6.274055e-01</td>\n",
       "      <td>4.925666e-01</td>\n",
       "      <td>7.111583e-01</td>\n",
       "      <td>7.863692e-01</td>\n",
       "      <td>7.561165e-01</td>\n",
       "    </tr>\n",
       "    <tr>\n",
       "      <th>max</th>\n",
       "      <td>2.253415e+00</td>\n",
       "      <td>3.100446e+00</td>\n",
       "      <td>3.147447e+00</td>\n",
       "      <td>3.145637e+00</td>\n",
       "      <td>4.359076e+00</td>\n",
       "      <td>2.532372e+00</td>\n",
       "      <td>3.054216e+00</td>\n",
       "      <td>2.395645e+00</td>\n",
       "      <td>3.475269e+00</td>\n",
       "      <td>3.425768e+00</td>\n",
       "      <td>3.292407e+00</td>\n",
       "      <td>1.955399e+00</td>\n",
       "      <td>2.963114e+00</td>\n",
       "    </tr>\n",
       "  </tbody>\n",
       "</table>\n",
       "</div>"
      ],
      "text/plain": [
       "            alcohol    malic_acid           ash  alcalinity_of_ash  \\\n",
       "count  1.780000e+02  1.780000e+02  1.780000e+02       1.780000e+02   \n",
       "mean   7.863872e-15  3.193450e-16 -4.067907e-15      -7.983626e-17   \n",
       "std    1.000000e+00  1.000000e+00  1.000000e+00       1.000000e+00   \n",
       "min   -2.427388e+00 -1.428952e+00 -3.668813e+00      -2.663505e+00   \n",
       "25%   -7.860275e-01 -6.568956e-01 -5.705131e-01      -6.871987e-01   \n",
       "50%    6.082829e-02 -4.219218e-01 -2.375431e-02       1.514024e-03   \n",
       "75%    8.337767e-01  6.679088e-01  6.961448e-01       6.003946e-01   \n",
       "max    2.253415e+00  3.100446e+00  3.147447e+00       3.145637e+00   \n",
       "\n",
       "          magnesium  total_phenols    flavanoids  nonflavanoid_phenols  \\\n",
       "count  1.780000e+02   1.780000e+02  1.780000e+02          1.780000e+02   \n",
       "mean  -1.995907e-17   3.991813e-17  9.181170e-16         -4.790176e-16   \n",
       "std    1.000000e+00   1.000000e+00  1.000000e+00          1.000000e+00   \n",
       "min   -2.082381e+00  -2.101318e+00 -1.691200e+00         -1.862979e+00   \n",
       "25%   -8.220960e-01  -8.829774e-01 -8.252115e-01         -7.380592e-01   \n",
       "50%   -1.219377e-01   9.568993e-02  1.058511e-01         -1.755994e-01   \n",
       "75%    5.082048e-01   8.067217e-01  8.466967e-01          6.078267e-01   \n",
       "max    4.359076e+00   2.532372e+00  3.054216e+00          2.395645e+00   \n",
       "\n",
       "       proanthocyanins  color_intensity           hue  \\\n",
       "count     1.780000e+02     1.780000e+02  1.780000e+02   \n",
       "mean     -1.676562e-15    -3.393041e-16  1.676562e-15   \n",
       "std       1.000000e+00     1.000000e+00  1.000000e+00   \n",
       "min      -2.063214e+00    -1.629691e+00 -2.088840e+00   \n",
       "25%      -5.956034e-01    -7.928659e-01 -7.654033e-01   \n",
       "50%      -6.272092e-02    -1.587767e-01  3.303369e-02   \n",
       "75%       6.274055e-01     4.925666e-01  7.111583e-01   \n",
       "max       3.475269e+00     3.425768e+00  3.292407e+00   \n",
       "\n",
       "       od280/od315_of_diluted_wines       proline  \n",
       "count                  1.780000e+02  1.780000e+02  \n",
       "mean                   2.195497e-15 -7.983626e-17  \n",
       "std                    1.000000e+00  1.000000e+00  \n",
       "min                   -1.889723e+00 -1.488987e+00  \n",
       "25%                   -9.495697e-01 -7.824306e-01  \n",
       "50%                    2.370660e-01 -2.330629e-01  \n",
       "75%                    7.863692e-01  7.561165e-01  \n",
       "max                    1.955399e+00  2.963114e+00  "
      ]
     },
     "execution_count": 17,
     "metadata": {},
     "output_type": "execute_result"
    }
   ],
   "source": [
    "wine_data_standardization.describe()"
   ]
  },
  {
   "cell_type": "markdown",
   "id": "85cb0e31",
   "metadata": {},
   "source": [
    "### 표준화 전, 후 proline의 분포 변화 양상 보기"
   ]
  },
  {
   "cell_type": "markdown",
   "id": "90bc8e5e",
   "metadata": {},
   "source": [
    "#### * 히스토그램상 proline과 가장 상관관계가 높았던 alcohol(x axis) 항목과 함께 도시화"
   ]
  },
  {
   "cell_type": "code",
   "execution_count": 18,
   "id": "396e0806",
   "metadata": {},
   "outputs": [
    {
     "data": {
      "text/plain": [
       "Text(0.5, 1.0, 'Normalized Data')"
      ]
     },
     "execution_count": 18,
     "metadata": {},
     "output_type": "execute_result"
    },
    {
     "data": {
      "image/png": "[encoded data removed]",
      "text/plain": [
       "<Figure size 1200x400 with 2 Axes>"
      ]
     },
     "metadata": {},
     "output_type": "display_data"
    }
   ],
   "source": [
    "fig, axs = plt.subplots(1, 2, figsize=(12,4), gridspec_kw={'width_ratios': [2,1]})\n",
    "\n",
    "axs[0].scatter(wine_df['alcohol'], wine_df['proline'])\n",
    "axs[0].set_title('Original Data')\n",
    "\n",
    "axs[1].scatter(wine_data_standardization['alcohol'], wine_data_standardization['proline'])\n",
    "axs[1].set_title('Normalized Data')"
   ]
  },
  {
   "cell_type": "markdown",
   "id": "5b62edd1",
   "metadata": {},
   "source": [
    "#### * 히스토그램상 proline과 가장 상관관계가 낮았던 label(x axis) 항목과 함께 도시화"
   ]
  },
  {
   "cell_type": "code",
   "execution_count": 19,
   "id": "9dd27262",
   "metadata": {},
   "outputs": [
    {
     "data": {
      "text/html": [
       "<div>\n",
       "<style scoped>\n",
       "    .dataframe tbody tr th:only-of-type {\n",
       "        vertical-align: middle;\n",
       "    }\n",
       "\n",
       "    .dataframe tbody tr th {\n",
       "        vertical-align: top;\n",
       "    }\n",
       "\n",
       "    .dataframe thead th {\n",
       "        text-align: right;\n",
       "    }\n",
       "</style>\n",
       "<table border=\"1\" class=\"dataframe\">\n",
       "  <thead>\n",
       "    <tr style=\"text-align: right;\">\n",
       "      <th></th>\n",
       "      <th>alcohol</th>\n",
       "      <th>malic_acid</th>\n",
       "      <th>ash</th>\n",
       "      <th>alcalinity_of_ash</th>\n",
       "      <th>magnesium</th>\n",
       "      <th>total_phenols</th>\n",
       "      <th>flavanoids</th>\n",
       "      <th>nonflavanoid_phenols</th>\n",
       "      <th>proanthocyanins</th>\n",
       "      <th>color_intensity</th>\n",
       "      <th>hue</th>\n",
       "      <th>od280/od315_of_diluted_wines</th>\n",
       "      <th>proline</th>\n",
       "      <th>label</th>\n",
       "    </tr>\n",
       "  </thead>\n",
       "  <tbody>\n",
       "    <tr>\n",
       "      <th>0</th>\n",
       "      <td>1.514341</td>\n",
       "      <td>-0.560668</td>\n",
       "      <td>0.231400</td>\n",
       "      <td>-1.166303</td>\n",
       "      <td>1.908522</td>\n",
       "      <td>0.806722</td>\n",
       "      <td>1.031908</td>\n",
       "      <td>-0.657708</td>\n",
       "      <td>1.221438</td>\n",
       "      <td>0.251009</td>\n",
       "      <td>0.361158</td>\n",
       "      <td>1.842721</td>\n",
       "      <td>1.010159</td>\n",
       "      <td>0</td>\n",
       "    </tr>\n",
       "    <tr>\n",
       "      <th>1</th>\n",
       "      <td>0.245597</td>\n",
       "      <td>-0.498009</td>\n",
       "      <td>-0.825667</td>\n",
       "      <td>-2.483841</td>\n",
       "      <td>0.018094</td>\n",
       "      <td>0.567048</td>\n",
       "      <td>0.731565</td>\n",
       "      <td>-0.818411</td>\n",
       "      <td>-0.543189</td>\n",
       "      <td>-0.292496</td>\n",
       "      <td>0.404908</td>\n",
       "      <td>1.110317</td>\n",
       "      <td>0.962526</td>\n",
       "      <td>0</td>\n",
       "    </tr>\n",
       "    <tr>\n",
       "      <th>2</th>\n",
       "      <td>0.196325</td>\n",
       "      <td>0.021172</td>\n",
       "      <td>1.106214</td>\n",
       "      <td>-0.267982</td>\n",
       "      <td>0.088110</td>\n",
       "      <td>0.806722</td>\n",
       "      <td>1.212114</td>\n",
       "      <td>-0.497005</td>\n",
       "      <td>2.129959</td>\n",
       "      <td>0.268263</td>\n",
       "      <td>0.317409</td>\n",
       "      <td>0.786369</td>\n",
       "      <td>1.391224</td>\n",
       "      <td>0</td>\n",
       "    </tr>\n",
       "    <tr>\n",
       "      <th>3</th>\n",
       "      <td>1.686791</td>\n",
       "      <td>-0.345835</td>\n",
       "      <td>0.486554</td>\n",
       "      <td>-0.806975</td>\n",
       "      <td>0.928300</td>\n",
       "      <td>2.484437</td>\n",
       "      <td>1.462399</td>\n",
       "      <td>-0.979113</td>\n",
       "      <td>1.029251</td>\n",
       "      <td>1.182732</td>\n",
       "      <td>-0.426341</td>\n",
       "      <td>1.180741</td>\n",
       "      <td>2.328007</td>\n",
       "      <td>0</td>\n",
       "    </tr>\n",
       "    <tr>\n",
       "      <th>4</th>\n",
       "      <td>0.294868</td>\n",
       "      <td>0.227053</td>\n",
       "      <td>1.835226</td>\n",
       "      <td>0.450674</td>\n",
       "      <td>1.278379</td>\n",
       "      <td>0.806722</td>\n",
       "      <td>0.661485</td>\n",
       "      <td>0.226158</td>\n",
       "      <td>0.400275</td>\n",
       "      <td>-0.318377</td>\n",
       "      <td>0.361158</td>\n",
       "      <td>0.448336</td>\n",
       "      <td>-0.037767</td>\n",
       "      <td>0</td>\n",
       "    </tr>\n",
       "    <tr>\n",
       "      <th>...</th>\n",
       "      <td>...</td>\n",
       "      <td>...</td>\n",
       "      <td>...</td>\n",
       "      <td>...</td>\n",
       "      <td>...</td>\n",
       "      <td>...</td>\n",
       "      <td>...</td>\n",
       "      <td>...</td>\n",
       "      <td>...</td>\n",
       "      <td>...</td>\n",
       "      <td>...</td>\n",
       "      <td>...</td>\n",
       "      <td>...</td>\n",
       "      <td>...</td>\n",
       "    </tr>\n",
       "    <tr>\n",
       "      <th>173</th>\n",
       "      <td>0.873810</td>\n",
       "      <td>2.966176</td>\n",
       "      <td>0.304301</td>\n",
       "      <td>0.300954</td>\n",
       "      <td>-0.331985</td>\n",
       "      <td>-0.982841</td>\n",
       "      <td>-1.420891</td>\n",
       "      <td>1.270726</td>\n",
       "      <td>-0.927563</td>\n",
       "      <td>1.139596</td>\n",
       "      <td>-1.388840</td>\n",
       "      <td>-1.227742</td>\n",
       "      <td>-0.021890</td>\n",
       "      <td>2</td>\n",
       "    </tr>\n",
       "    <tr>\n",
       "      <th>174</th>\n",
       "      <td>0.491955</td>\n",
       "      <td>1.408636</td>\n",
       "      <td>0.413653</td>\n",
       "      <td>1.049555</td>\n",
       "      <td>0.158126</td>\n",
       "      <td>-0.791103</td>\n",
       "      <td>-1.280731</td>\n",
       "      <td>0.547563</td>\n",
       "      <td>-0.316058</td>\n",
       "      <td>0.967055</td>\n",
       "      <td>-1.126341</td>\n",
       "      <td>-1.481267</td>\n",
       "      <td>0.009866</td>\n",
       "      <td>2</td>\n",
       "    </tr>\n",
       "    <tr>\n",
       "      <th>175</th>\n",
       "      <td>0.331822</td>\n",
       "      <td>1.739837</td>\n",
       "      <td>-0.388260</td>\n",
       "      <td>0.151234</td>\n",
       "      <td>1.418411</td>\n",
       "      <td>-1.126646</td>\n",
       "      <td>-1.340800</td>\n",
       "      <td>0.547563</td>\n",
       "      <td>-0.420888</td>\n",
       "      <td>2.217979</td>\n",
       "      <td>-1.607590</td>\n",
       "      <td>-1.481267</td>\n",
       "      <td>0.279786</td>\n",
       "      <td>2</td>\n",
       "    </tr>\n",
       "    <tr>\n",
       "      <th>176</th>\n",
       "      <td>0.208643</td>\n",
       "      <td>0.227053</td>\n",
       "      <td>0.012696</td>\n",
       "      <td>0.151234</td>\n",
       "      <td>1.418411</td>\n",
       "      <td>-1.030776</td>\n",
       "      <td>-1.350811</td>\n",
       "      <td>1.351077</td>\n",
       "      <td>-0.228701</td>\n",
       "      <td>1.829761</td>\n",
       "      <td>-1.563840</td>\n",
       "      <td>-1.396759</td>\n",
       "      <td>0.295664</td>\n",
       "      <td>2</td>\n",
       "    </tr>\n",
       "    <tr>\n",
       "      <th>177</th>\n",
       "      <td>1.391162</td>\n",
       "      <td>1.578712</td>\n",
       "      <td>1.361368</td>\n",
       "      <td>1.498716</td>\n",
       "      <td>-0.261969</td>\n",
       "      <td>-0.391646</td>\n",
       "      <td>-1.270720</td>\n",
       "      <td>1.592131</td>\n",
       "      <td>-0.420888</td>\n",
       "      <td>1.786626</td>\n",
       "      <td>-1.520090</td>\n",
       "      <td>-1.424928</td>\n",
       "      <td>-0.593486</td>\n",
       "      <td>2</td>\n",
       "    </tr>\n",
       "  </tbody>\n",
       "</table>\n",
       "<p>178 rows × 14 columns</p>\n",
       "</div>"
      ],
      "text/plain": [
       "      alcohol  malic_acid       ash  alcalinity_of_ash  magnesium  \\\n",
       "0    1.514341   -0.560668  0.231400          -1.166303   1.908522   \n",
       "1    0.245597   -0.498009 -0.825667          -2.483841   0.018094   \n",
       "2    0.196325    0.021172  1.106214          -0.267982   0.088110   \n",
       "3    1.686791   -0.345835  0.486554          -0.806975   0.928300   \n",
       "4    0.294868    0.227053  1.835226           0.450674   1.278379   \n",
       "..        ...         ...       ...                ...        ...   \n",
       "173  0.873810    2.966176  0.304301           0.300954  -0.331985   \n",
       "174  0.491955    1.408636  0.413653           1.049555   0.158126   \n",
       "175  0.331822    1.739837 -0.388260           0.151234   1.418411   \n",
       "176  0.208643    0.227053  0.012696           0.151234   1.418411   \n",
       "177  1.391162    1.578712  1.361368           1.498716  -0.261969   \n",
       "\n",
       "     total_phenols  flavanoids  nonflavanoid_phenols  proanthocyanins  \\\n",
       "0         0.806722    1.031908             -0.657708         1.221438   \n",
       "1         0.567048    0.731565             -0.818411        -0.543189   \n",
       "2         0.806722    1.212114             -0.497005         2.129959   \n",
       "3         2.484437    1.462399             -0.979113         1.029251   \n",
       "4         0.806722    0.661485              0.226158         0.400275   \n",
       "..             ...         ...                   ...              ...   \n",
       "173      -0.982841   -1.420891              1.270726        -0.927563   \n",
       "174      -0.791103   -1.280731              0.547563        -0.316058   \n",
       "175      -1.126646   -1.340800              0.547563        -0.420888   \n",
       "176      -1.030776   -1.350811              1.351077        -0.228701   \n",
       "177      -0.391646   -1.270720              1.592131        -0.420888   \n",
       "\n",
       "     color_intensity       hue  od280/od315_of_diluted_wines   proline  label  \n",
       "0           0.251009  0.361158                      1.842721  1.010159      0  \n",
       "1          -0.292496  0.404908                      1.110317  0.962526      0  \n",
       "2           0.268263  0.317409                      0.786369  1.391224      0  \n",
       "3           1.182732 -0.426341                      1.180741  2.328007      0  \n",
       "4          -0.318377  0.361158                      0.448336 -0.037767      0  \n",
       "..               ...       ...                           ...       ...    ...  \n",
       "173         1.139596 -1.388840                     -1.227742 -0.021890      2  \n",
       "174         0.967055 -1.126341                     -1.481267  0.009866      2  \n",
       "175         2.217979 -1.607590                     -1.481267  0.279786      2  \n",
       "176         1.829761 -1.563840                     -1.396759  0.295664      2  \n",
       "177         1.786626 -1.520090                     -1.424928 -0.593486      2  \n",
       "\n",
       "[178 rows x 14 columns]"
      ]
     },
     "execution_count": 19,
     "metadata": {},
     "output_type": "execute_result"
    }
   ],
   "source": [
    "wine_data_standardization['label'] = wine.target\n",
    "wine_data_standardization"
   ]
  },
  {
   "cell_type": "code",
   "execution_count": 20,
   "id": "c2283c33",
   "metadata": {},
   "outputs": [
    {
     "data": {
      "text/plain": [
       "Text(0.5, 1.0, 'Normalized Data')"
      ]
     },
     "execution_count": 20,
     "metadata": {},
     "output_type": "execute_result"
    },
    {
     "data": {
      "image/png": "[encoded data removed]",
      "text/plain": [
       "<Figure size 1200x400 with 2 Axes>"
      ]
     },
     "metadata": {},
     "output_type": "display_data"
    }
   ],
   "source": [
    "fig, axs = plt.subplots(1, 2, figsize=(12,4), gridspec_kw={'width_ratios': [2,1]})\n",
    "\n",
    "axs[0].scatter(wine_df['label'], wine_df['proline'])\n",
    "axs[0].set_title('Original Data')\n",
    "\n",
    "axs[1].scatter(wine_data_standardization['label'], wine_data_standardization['proline'])\n",
    "axs[1].set_title('Normalized Data')"
   ]
  },
  {
   "cell_type": "markdown",
   "id": "d444a258",
   "metadata": {},
   "source": [
    "## (2) Min-Max Scaling\n",
    "* 데이터의 최솟값은 0, 최댓값은 1로 변환\n",
    "* 피처 크기가 다르거나, 데이터 분포에 대해 모를 경우 유용"
   ]
  },
  {
   "cell_type": "code",
   "execution_count": 82,
   "id": "3b63565b",
   "metadata": {},
   "outputs": [
    {
     "data": {
      "text/html": [
       "<div>\n",
       "<style scoped>\n",
       "    .dataframe tbody tr th:only-of-type {\n",
       "        vertical-align: middle;\n",
       "    }\n",
       "\n",
       "    .dataframe tbody tr th {\n",
       "        vertical-align: top;\n",
       "    }\n",
       "\n",
       "    .dataframe thead th {\n",
       "        text-align: right;\n",
       "    }\n",
       "</style>\n",
       "<table border=\"1\" class=\"dataframe\">\n",
       "  <thead>\n",
       "    <tr style=\"text-align: right;\">\n",
       "      <th></th>\n",
       "      <th>alcohol</th>\n",
       "      <th>malic_acid</th>\n",
       "      <th>ash</th>\n",
       "      <th>alcalinity_of_ash</th>\n",
       "      <th>magnesium</th>\n",
       "      <th>total_phenols</th>\n",
       "      <th>flavanoids</th>\n",
       "      <th>nonflavanoid_phenols</th>\n",
       "      <th>proanthocyanins</th>\n",
       "      <th>color_intensity</th>\n",
       "      <th>hue</th>\n",
       "      <th>od280/od315_of_diluted_wines</th>\n",
       "      <th>proline</th>\n",
       "      <th>label</th>\n",
       "    </tr>\n",
       "  </thead>\n",
       "  <tbody>\n",
       "    <tr>\n",
       "      <th>0</th>\n",
       "      <td>0.842105</td>\n",
       "      <td>0.191700</td>\n",
       "      <td>0.572193</td>\n",
       "      <td>0.257732</td>\n",
       "      <td>0.619565</td>\n",
       "      <td>0.627586</td>\n",
       "      <td>0.573840</td>\n",
       "      <td>0.283019</td>\n",
       "      <td>0.593060</td>\n",
       "      <td>0.372014</td>\n",
       "      <td>0.455285</td>\n",
       "      <td>0.970696</td>\n",
       "      <td>0.561341</td>\n",
       "      <td>0</td>\n",
       "    </tr>\n",
       "    <tr>\n",
       "      <th>1</th>\n",
       "      <td>0.571053</td>\n",
       "      <td>0.205534</td>\n",
       "      <td>0.417112</td>\n",
       "      <td>0.030928</td>\n",
       "      <td>0.326087</td>\n",
       "      <td>0.575862</td>\n",
       "      <td>0.510549</td>\n",
       "      <td>0.245283</td>\n",
       "      <td>0.274448</td>\n",
       "      <td>0.264505</td>\n",
       "      <td>0.463415</td>\n",
       "      <td>0.780220</td>\n",
       "      <td>0.550642</td>\n",
       "      <td>0</td>\n",
       "    </tr>\n",
       "    <tr>\n",
       "      <th>2</th>\n",
       "      <td>0.560526</td>\n",
       "      <td>0.320158</td>\n",
       "      <td>0.700535</td>\n",
       "      <td>0.412371</td>\n",
       "      <td>0.336957</td>\n",
       "      <td>0.627586</td>\n",
       "      <td>0.611814</td>\n",
       "      <td>0.320755</td>\n",
       "      <td>0.757098</td>\n",
       "      <td>0.375427</td>\n",
       "      <td>0.447154</td>\n",
       "      <td>0.695971</td>\n",
       "      <td>0.646933</td>\n",
       "      <td>0</td>\n",
       "    </tr>\n",
       "    <tr>\n",
       "      <th>3</th>\n",
       "      <td>0.878947</td>\n",
       "      <td>0.239130</td>\n",
       "      <td>0.609626</td>\n",
       "      <td>0.319588</td>\n",
       "      <td>0.467391</td>\n",
       "      <td>0.989655</td>\n",
       "      <td>0.664557</td>\n",
       "      <td>0.207547</td>\n",
       "      <td>0.558360</td>\n",
       "      <td>0.556314</td>\n",
       "      <td>0.308943</td>\n",
       "      <td>0.798535</td>\n",
       "      <td>0.857347</td>\n",
       "      <td>0</td>\n",
       "    </tr>\n",
       "    <tr>\n",
       "      <th>4</th>\n",
       "      <td>0.581579</td>\n",
       "      <td>0.365613</td>\n",
       "      <td>0.807487</td>\n",
       "      <td>0.536082</td>\n",
       "      <td>0.521739</td>\n",
       "      <td>0.627586</td>\n",
       "      <td>0.495781</td>\n",
       "      <td>0.490566</td>\n",
       "      <td>0.444795</td>\n",
       "      <td>0.259386</td>\n",
       "      <td>0.455285</td>\n",
       "      <td>0.608059</td>\n",
       "      <td>0.325963</td>\n",
       "      <td>0</td>\n",
       "    </tr>\n",
       "    <tr>\n",
       "      <th>...</th>\n",
       "      <td>...</td>\n",
       "      <td>...</td>\n",
       "      <td>...</td>\n",
       "      <td>...</td>\n",
       "      <td>...</td>\n",
       "      <td>...</td>\n",
       "      <td>...</td>\n",
       "      <td>...</td>\n",
       "      <td>...</td>\n",
       "      <td>...</td>\n",
       "      <td>...</td>\n",
       "      <td>...</td>\n",
       "      <td>...</td>\n",
       "      <td>...</td>\n",
       "    </tr>\n",
       "    <tr>\n",
       "      <th>173</th>\n",
       "      <td>0.705263</td>\n",
       "      <td>0.970356</td>\n",
       "      <td>0.582888</td>\n",
       "      <td>0.510309</td>\n",
       "      <td>0.271739</td>\n",
       "      <td>0.241379</td>\n",
       "      <td>0.056962</td>\n",
       "      <td>0.735849</td>\n",
       "      <td>0.205047</td>\n",
       "      <td>0.547782</td>\n",
       "      <td>0.130081</td>\n",
       "      <td>0.172161</td>\n",
       "      <td>0.329529</td>\n",
       "      <td>2</td>\n",
       "    </tr>\n",
       "    <tr>\n",
       "      <th>174</th>\n",
       "      <td>0.623684</td>\n",
       "      <td>0.626482</td>\n",
       "      <td>0.598930</td>\n",
       "      <td>0.639175</td>\n",
       "      <td>0.347826</td>\n",
       "      <td>0.282759</td>\n",
       "      <td>0.086498</td>\n",
       "      <td>0.566038</td>\n",
       "      <td>0.315457</td>\n",
       "      <td>0.513652</td>\n",
       "      <td>0.178862</td>\n",
       "      <td>0.106227</td>\n",
       "      <td>0.336662</td>\n",
       "      <td>2</td>\n",
       "    </tr>\n",
       "    <tr>\n",
       "      <th>175</th>\n",
       "      <td>0.589474</td>\n",
       "      <td>0.699605</td>\n",
       "      <td>0.481283</td>\n",
       "      <td>0.484536</td>\n",
       "      <td>0.543478</td>\n",
       "      <td>0.210345</td>\n",
       "      <td>0.073840</td>\n",
       "      <td>0.566038</td>\n",
       "      <td>0.296530</td>\n",
       "      <td>0.761092</td>\n",
       "      <td>0.089431</td>\n",
       "      <td>0.106227</td>\n",
       "      <td>0.397290</td>\n",
       "      <td>2</td>\n",
       "    </tr>\n",
       "    <tr>\n",
       "      <th>176</th>\n",
       "      <td>0.563158</td>\n",
       "      <td>0.365613</td>\n",
       "      <td>0.540107</td>\n",
       "      <td>0.484536</td>\n",
       "      <td>0.543478</td>\n",
       "      <td>0.231034</td>\n",
       "      <td>0.071730</td>\n",
       "      <td>0.754717</td>\n",
       "      <td>0.331230</td>\n",
       "      <td>0.684300</td>\n",
       "      <td>0.097561</td>\n",
       "      <td>0.128205</td>\n",
       "      <td>0.400856</td>\n",
       "      <td>2</td>\n",
       "    </tr>\n",
       "    <tr>\n",
       "      <th>177</th>\n",
       "      <td>0.815789</td>\n",
       "      <td>0.664032</td>\n",
       "      <td>0.737968</td>\n",
       "      <td>0.716495</td>\n",
       "      <td>0.282609</td>\n",
       "      <td>0.368966</td>\n",
       "      <td>0.088608</td>\n",
       "      <td>0.811321</td>\n",
       "      <td>0.296530</td>\n",
       "      <td>0.675768</td>\n",
       "      <td>0.105691</td>\n",
       "      <td>0.120879</td>\n",
       "      <td>0.201141</td>\n",
       "      <td>2</td>\n",
       "    </tr>\n",
       "  </tbody>\n",
       "</table>\n",
       "<p>178 rows × 14 columns</p>\n",
       "</div>"
      ],
      "text/plain": [
       "      alcohol  malic_acid       ash  alcalinity_of_ash  magnesium  \\\n",
       "0    0.842105    0.191700  0.572193           0.257732   0.619565   \n",
       "1    0.571053    0.205534  0.417112           0.030928   0.326087   \n",
       "2    0.560526    0.320158  0.700535           0.412371   0.336957   \n",
       "3    0.878947    0.239130  0.609626           0.319588   0.467391   \n",
       "4    0.581579    0.365613  0.807487           0.536082   0.521739   \n",
       "..        ...         ...       ...                ...        ...   \n",
       "173  0.705263    0.970356  0.582888           0.510309   0.271739   \n",
       "174  0.623684    0.626482  0.598930           0.639175   0.347826   \n",
       "175  0.589474    0.699605  0.481283           0.484536   0.543478   \n",
       "176  0.563158    0.365613  0.540107           0.484536   0.543478   \n",
       "177  0.815789    0.664032  0.737968           0.716495   0.282609   \n",
       "\n",
       "     total_phenols  flavanoids  nonflavanoid_phenols  proanthocyanins  \\\n",
       "0         0.627586    0.573840              0.283019         0.593060   \n",
       "1         0.575862    0.510549              0.245283         0.274448   \n",
       "2         0.627586    0.611814              0.320755         0.757098   \n",
       "3         0.989655    0.664557              0.207547         0.558360   \n",
       "4         0.627586    0.495781              0.490566         0.444795   \n",
       "..             ...         ...                   ...              ...   \n",
       "173       0.241379    0.056962              0.735849         0.205047   \n",
       "174       0.282759    0.086498              0.566038         0.315457   \n",
       "175       0.210345    0.073840              0.566038         0.296530   \n",
       "176       0.231034    0.071730              0.754717         0.331230   \n",
       "177       0.368966    0.088608              0.811321         0.296530   \n",
       "\n",
       "     color_intensity       hue  od280/od315_of_diluted_wines   proline  label  \n",
       "0           0.372014  0.455285                      0.970696  0.561341      0  \n",
       "1           0.264505  0.463415                      0.780220  0.550642      0  \n",
       "2           0.375427  0.447154                      0.695971  0.646933      0  \n",
       "3           0.556314  0.308943                      0.798535  0.857347      0  \n",
       "4           0.259386  0.455285                      0.608059  0.325963      0  \n",
       "..               ...       ...                           ...       ...    ...  \n",
       "173         0.547782  0.130081                      0.172161  0.329529      2  \n",
       "174         0.513652  0.178862                      0.106227  0.336662      2  \n",
       "175         0.761092  0.089431                      0.106227  0.397290      2  \n",
       "176         0.684300  0.097561                      0.128205  0.400856      2  \n",
       "177         0.675768  0.105691                      0.120879  0.201141      2  \n",
       "\n",
       "[178 rows x 14 columns]"
      ]
     },
     "execution_count": 82,
     "metadata": {},
     "output_type": "execute_result"
    }
   ],
   "source": [
    "wine_df[cols] = (wine_df[cols]-wine_df[cols].min())/(wine_df[cols].max()-wine_df[cols].min())\n",
    "minmax_wine = wine_df\n",
    "minmax_wine"
   ]
  },
  {
   "cell_type": "markdown",
   "id": "6cecc886",
   "metadata": {},
   "source": [
    "# D_다양한 모델로 학습"
   ]
  },
  {
   "cell_type": "markdown",
   "id": "38de9b96",
   "metadata": {},
   "source": [
    "## D-0) 데이터 준비"
   ]
  },
  {
   "cell_type": "markdown",
   "id": "57037d2d",
   "metadata": {},
   "source": [
    "### D-01)표준화(normalization)한 데이터프레임 X, y 분류"
   ]
  },
  {
   "cell_type": "code",
   "execution_count": 45,
   "id": "b8434e55",
   "metadata": {
    "scrolled": true
   },
   "outputs": [
    {
     "data": {
      "text/html": [
       "<div>\n",
       "<style scoped>\n",
       "    .dataframe tbody tr th:only-of-type {\n",
       "        vertical-align: middle;\n",
       "    }\n",
       "\n",
       "    .dataframe tbody tr th {\n",
       "        vertical-align: top;\n",
       "    }\n",
       "\n",
       "    .dataframe thead th {\n",
       "        text-align: right;\n",
       "    }\n",
       "</style>\n",
       "<table border=\"1\" class=\"dataframe\">\n",
       "  <thead>\n",
       "    <tr style=\"text-align: right;\">\n",
       "      <th></th>\n",
       "      <th>alcohol</th>\n",
       "      <th>malic_acid</th>\n",
       "      <th>ash</th>\n",
       "      <th>alcalinity_of_ash</th>\n",
       "      <th>magnesium</th>\n",
       "      <th>total_phenols</th>\n",
       "      <th>flavanoids</th>\n",
       "      <th>nonflavanoid_phenols</th>\n",
       "      <th>proanthocyanins</th>\n",
       "      <th>color_intensity</th>\n",
       "      <th>hue</th>\n",
       "      <th>od280/od315_of_diluted_wines</th>\n",
       "      <th>proline</th>\n",
       "      <th>label</th>\n",
       "    </tr>\n",
       "  </thead>\n",
       "  <tbody>\n",
       "    <tr>\n",
       "      <th>0</th>\n",
       "      <td>1.514341</td>\n",
       "      <td>-0.560668</td>\n",
       "      <td>0.231400</td>\n",
       "      <td>-1.166303</td>\n",
       "      <td>1.908522</td>\n",
       "      <td>0.806722</td>\n",
       "      <td>1.031908</td>\n",
       "      <td>-0.657708</td>\n",
       "      <td>1.221438</td>\n",
       "      <td>0.251009</td>\n",
       "      <td>0.361158</td>\n",
       "      <td>1.842721</td>\n",
       "      <td>1.010159</td>\n",
       "      <td>0</td>\n",
       "    </tr>\n",
       "    <tr>\n",
       "      <th>1</th>\n",
       "      <td>0.245597</td>\n",
       "      <td>-0.498009</td>\n",
       "      <td>-0.825667</td>\n",
       "      <td>-2.483841</td>\n",
       "      <td>0.018094</td>\n",
       "      <td>0.567048</td>\n",
       "      <td>0.731565</td>\n",
       "      <td>-0.818411</td>\n",
       "      <td>-0.543189</td>\n",
       "      <td>-0.292496</td>\n",
       "      <td>0.404908</td>\n",
       "      <td>1.110317</td>\n",
       "      <td>0.962526</td>\n",
       "      <td>0</td>\n",
       "    </tr>\n",
       "    <tr>\n",
       "      <th>2</th>\n",
       "      <td>0.196325</td>\n",
       "      <td>0.021172</td>\n",
       "      <td>1.106214</td>\n",
       "      <td>-0.267982</td>\n",
       "      <td>0.088110</td>\n",
       "      <td>0.806722</td>\n",
       "      <td>1.212114</td>\n",
       "      <td>-0.497005</td>\n",
       "      <td>2.129959</td>\n",
       "      <td>0.268263</td>\n",
       "      <td>0.317409</td>\n",
       "      <td>0.786369</td>\n",
       "      <td>1.391224</td>\n",
       "      <td>0</td>\n",
       "    </tr>\n",
       "    <tr>\n",
       "      <th>3</th>\n",
       "      <td>1.686791</td>\n",
       "      <td>-0.345835</td>\n",
       "      <td>0.486554</td>\n",
       "      <td>-0.806975</td>\n",
       "      <td>0.928300</td>\n",
       "      <td>2.484437</td>\n",
       "      <td>1.462399</td>\n",
       "      <td>-0.979113</td>\n",
       "      <td>1.029251</td>\n",
       "      <td>1.182732</td>\n",
       "      <td>-0.426341</td>\n",
       "      <td>1.180741</td>\n",
       "      <td>2.328007</td>\n",
       "      <td>0</td>\n",
       "    </tr>\n",
       "    <tr>\n",
       "      <th>4</th>\n",
       "      <td>0.294868</td>\n",
       "      <td>0.227053</td>\n",
       "      <td>1.835226</td>\n",
       "      <td>0.450674</td>\n",
       "      <td>1.278379</td>\n",
       "      <td>0.806722</td>\n",
       "      <td>0.661485</td>\n",
       "      <td>0.226158</td>\n",
       "      <td>0.400275</td>\n",
       "      <td>-0.318377</td>\n",
       "      <td>0.361158</td>\n",
       "      <td>0.448336</td>\n",
       "      <td>-0.037767</td>\n",
       "      <td>0</td>\n",
       "    </tr>\n",
       "    <tr>\n",
       "      <th>...</th>\n",
       "      <td>...</td>\n",
       "      <td>...</td>\n",
       "      <td>...</td>\n",
       "      <td>...</td>\n",
       "      <td>...</td>\n",
       "      <td>...</td>\n",
       "      <td>...</td>\n",
       "      <td>...</td>\n",
       "      <td>...</td>\n",
       "      <td>...</td>\n",
       "      <td>...</td>\n",
       "      <td>...</td>\n",
       "      <td>...</td>\n",
       "      <td>...</td>\n",
       "    </tr>\n",
       "    <tr>\n",
       "      <th>173</th>\n",
       "      <td>0.873810</td>\n",
       "      <td>2.966176</td>\n",
       "      <td>0.304301</td>\n",
       "      <td>0.300954</td>\n",
       "      <td>-0.331985</td>\n",
       "      <td>-0.982841</td>\n",
       "      <td>-1.420891</td>\n",
       "      <td>1.270726</td>\n",
       "      <td>-0.927563</td>\n",
       "      <td>1.139596</td>\n",
       "      <td>-1.388840</td>\n",
       "      <td>-1.227742</td>\n",
       "      <td>-0.021890</td>\n",
       "      <td>2</td>\n",
       "    </tr>\n",
       "    <tr>\n",
       "      <th>174</th>\n",
       "      <td>0.491955</td>\n",
       "      <td>1.408636</td>\n",
       "      <td>0.413653</td>\n",
       "      <td>1.049555</td>\n",
       "      <td>0.158126</td>\n",
       "      <td>-0.791103</td>\n",
       "      <td>-1.280731</td>\n",
       "      <td>0.547563</td>\n",
       "      <td>-0.316058</td>\n",
       "      <td>0.967055</td>\n",
       "      <td>-1.126341</td>\n",
       "      <td>-1.481267</td>\n",
       "      <td>0.009866</td>\n",
       "      <td>2</td>\n",
       "    </tr>\n",
       "    <tr>\n",
       "      <th>175</th>\n",
       "      <td>0.331822</td>\n",
       "      <td>1.739837</td>\n",
       "      <td>-0.388260</td>\n",
       "      <td>0.151234</td>\n",
       "      <td>1.418411</td>\n",
       "      <td>-1.126646</td>\n",
       "      <td>-1.340800</td>\n",
       "      <td>0.547563</td>\n",
       "      <td>-0.420888</td>\n",
       "      <td>2.217979</td>\n",
       "      <td>-1.607590</td>\n",
       "      <td>-1.481267</td>\n",
       "      <td>0.279786</td>\n",
       "      <td>2</td>\n",
       "    </tr>\n",
       "    <tr>\n",
       "      <th>176</th>\n",
       "      <td>0.208643</td>\n",
       "      <td>0.227053</td>\n",
       "      <td>0.012696</td>\n",
       "      <td>0.151234</td>\n",
       "      <td>1.418411</td>\n",
       "      <td>-1.030776</td>\n",
       "      <td>-1.350811</td>\n",
       "      <td>1.351077</td>\n",
       "      <td>-0.228701</td>\n",
       "      <td>1.829761</td>\n",
       "      <td>-1.563840</td>\n",
       "      <td>-1.396759</td>\n",
       "      <td>0.295664</td>\n",
       "      <td>2</td>\n",
       "    </tr>\n",
       "    <tr>\n",
       "      <th>177</th>\n",
       "      <td>1.391162</td>\n",
       "      <td>1.578712</td>\n",
       "      <td>1.361368</td>\n",
       "      <td>1.498716</td>\n",
       "      <td>-0.261969</td>\n",
       "      <td>-0.391646</td>\n",
       "      <td>-1.270720</td>\n",
       "      <td>1.592131</td>\n",
       "      <td>-0.420888</td>\n",
       "      <td>1.786626</td>\n",
       "      <td>-1.520090</td>\n",
       "      <td>-1.424928</td>\n",
       "      <td>-0.593486</td>\n",
       "      <td>2</td>\n",
       "    </tr>\n",
       "  </tbody>\n",
       "</table>\n",
       "<p>178 rows × 14 columns</p>\n",
       "</div>"
      ],
      "text/plain": [
       "      alcohol  malic_acid       ash  alcalinity_of_ash  magnesium  \\\n",
       "0    1.514341   -0.560668  0.231400          -1.166303   1.908522   \n",
       "1    0.245597   -0.498009 -0.825667          -2.483841   0.018094   \n",
       "2    0.196325    0.021172  1.106214          -0.267982   0.088110   \n",
       "3    1.686791   -0.345835  0.486554          -0.806975   0.928300   \n",
       "4    0.294868    0.227053  1.835226           0.450674   1.278379   \n",
       "..        ...         ...       ...                ...        ...   \n",
       "173  0.873810    2.966176  0.304301           0.300954  -0.331985   \n",
       "174  0.491955    1.408636  0.413653           1.049555   0.158126   \n",
       "175  0.331822    1.739837 -0.388260           0.151234   1.418411   \n",
       "176  0.208643    0.227053  0.012696           0.151234   1.418411   \n",
       "177  1.391162    1.578712  1.361368           1.498716  -0.261969   \n",
       "\n",
       "     total_phenols  flavanoids  nonflavanoid_phenols  proanthocyanins  \\\n",
       "0         0.806722    1.031908             -0.657708         1.221438   \n",
       "1         0.567048    0.731565             -0.818411        -0.543189   \n",
       "2         0.806722    1.212114             -0.497005         2.129959   \n",
       "3         2.484437    1.462399             -0.979113         1.029251   \n",
       "4         0.806722    0.661485              0.226158         0.400275   \n",
       "..             ...         ...                   ...              ...   \n",
       "173      -0.982841   -1.420891              1.270726        -0.927563   \n",
       "174      -0.791103   -1.280731              0.547563        -0.316058   \n",
       "175      -1.126646   -1.340800              0.547563        -0.420888   \n",
       "176      -1.030776   -1.350811              1.351077        -0.228701   \n",
       "177      -0.391646   -1.270720              1.592131        -0.420888   \n",
       "\n",
       "     color_intensity       hue  od280/od315_of_diluted_wines   proline  label  \n",
       "0           0.251009  0.361158                      1.842721  1.010159      0  \n",
       "1          -0.292496  0.404908                      1.110317  0.962526      0  \n",
       "2           0.268263  0.317409                      0.786369  1.391224      0  \n",
       "3           1.182732 -0.426341                      1.180741  2.328007      0  \n",
       "4          -0.318377  0.361158                      0.448336 -0.037767      0  \n",
       "..               ...       ...                           ...       ...    ...  \n",
       "173         1.139596 -1.388840                     -1.227742 -0.021890      2  \n",
       "174         0.967055 -1.126341                     -1.481267  0.009866      2  \n",
       "175         2.217979 -1.607590                     -1.481267  0.279786      2  \n",
       "176         1.829761 -1.563840                     -1.396759  0.295664      2  \n",
       "177         1.786626 -1.520090                     -1.424928 -0.593486      2  \n",
       "\n",
       "[178 rows x 14 columns]"
      ]
     },
     "execution_count": 45,
     "metadata": {},
     "output_type": "execute_result"
    }
   ],
   "source": [
    "wine_data_standardization"
   ]
  },
  {
   "cell_type": "markdown",
   "id": "d7df7ef3",
   "metadata": {},
   "source": [
    "* dataframe으로 되어있는 데이터를 ndarray타입의 X, y로 나누는 방법"
   ]
  },
  {
   "cell_type": "code",
   "execution_count": 57,
   "id": "5ee2f30e",
   "metadata": {},
   "outputs": [
    {
     "data": {
      "text/plain": [
       "(178, 13)"
      ]
     },
     "execution_count": 57,
     "metadata": {},
     "output_type": "execute_result"
    }
   ],
   "source": [
    "X = wine_data_standardization[['alcohol', 'malic_acid', 'ash', 'alcalinity_of_ash', \n",
    "                              'magnesium', 'total_phenols','flavanoids', 'nonflavanoid_phenols',\n",
    "                              'proanthocyanins', 'color_intensity', 'hue', \n",
    "                              'od280/od315_of_diluted_wines', 'proline']].values\n",
    "X.shape"
   ]
  },
  {
   "cell_type": "code",
   "execution_count": 49,
   "id": "13e8a39e",
   "metadata": {},
   "outputs": [
    {
     "data": {
      "text/plain": [
       "(178,)"
      ]
     },
     "execution_count": 49,
     "metadata": {},
     "output_type": "execute_result"
    }
   ],
   "source": [
    "y = wine_data_standardization['label'].values\n",
    "y.shape"
   ]
  },
  {
   "cell_type": "code",
   "execution_count": 52,
   "id": "49886cc0",
   "metadata": {},
   "outputs": [],
   "source": [
    "X_train, X_test, y_train, y_test = train_test_split(X, y, test_size=0.2, random_state=4)"
   ]
  },
  {
   "cell_type": "code",
   "execution_count": 58,
   "id": "a8100912",
   "metadata": {},
   "outputs": [
    {
     "data": {
      "text/plain": [
       "((142, 13), (36, 13))"
      ]
     },
     "execution_count": 58,
     "metadata": {},
     "output_type": "execute_result"
    }
   ],
   "source": [
    "X_train.shape, X_test.shape"
   ]
  },
  {
   "cell_type": "code",
   "execution_count": 59,
   "id": "32055cba",
   "metadata": {},
   "outputs": [
    {
     "data": {
      "text/plain": [
       "((142,), (36,))"
      ]
     },
     "execution_count": 59,
     "metadata": {},
     "output_type": "execute_result"
    }
   ],
   "source": [
    "y_train.shape, y_test.shape"
   ]
  },
  {
   "cell_type": "markdown",
   "id": "65b6cf0f",
   "metadata": {},
   "source": [
    "### D-02) min_max scaling한 데이터프레임 X, y 분류"
   ]
  },
  {
   "cell_type": "code",
   "execution_count": 85,
   "id": "606803c9",
   "metadata": {},
   "outputs": [
    {
     "data": {
      "text/plain": [
       "(178, 13)"
      ]
     },
     "execution_count": 85,
     "metadata": {},
     "output_type": "execute_result"
    }
   ],
   "source": [
    "X_mm = minmax_wine[['alcohol', 'malic_acid', 'ash', 'alcalinity_of_ash', \n",
    "                              'magnesium', 'total_phenols','flavanoids', 'nonflavanoid_phenols',\n",
    "                              'proanthocyanins', 'color_intensity', 'hue', \n",
    "                              'od280/od315_of_diluted_wines', 'proline']].values\n",
    "X_mm.shape"
   ]
  },
  {
   "cell_type": "code",
   "execution_count": 86,
   "id": "9072798a",
   "metadata": {},
   "outputs": [
    {
     "data": {
      "text/plain": [
       "(178,)"
      ]
     },
     "execution_count": 86,
     "metadata": {},
     "output_type": "execute_result"
    }
   ],
   "source": [
    "y_mm = minmax_wine['label'].values\n",
    "y_mm.shape"
   ]
  },
  {
   "cell_type": "code",
   "execution_count": 87,
   "id": "9b00aa02",
   "metadata": {},
   "outputs": [],
   "source": [
    "X_mm_train, X_mm_test, y_mm_train, y_mm_test = train_test_split(X_mm, y_mm, test_size=0.1, random_state=4)"
   ]
  },
  {
   "cell_type": "code",
   "execution_count": 88,
   "id": "dd3c1e0b",
   "metadata": {},
   "outputs": [
    {
     "data": {
      "text/plain": [
       "((160, 13), (18, 13))"
      ]
     },
     "execution_count": 88,
     "metadata": {},
     "output_type": "execute_result"
    }
   ],
   "source": [
    "X_mm_train.shape, X_mm_test.shape"
   ]
  },
  {
   "cell_type": "code",
   "execution_count": 89,
   "id": "5f5e32b3",
   "metadata": {},
   "outputs": [
    {
     "data": {
      "text/plain": [
       "((160,), (18,))"
      ]
     },
     "execution_count": 89,
     "metadata": {},
     "output_type": "execute_result"
    }
   ],
   "source": [
    "y_mm_train.shape, y_mm_test.shape"
   ]
  },
  {
   "cell_type": "markdown",
   "id": "45f7888d",
   "metadata": {},
   "source": [
    "## D-1) 표준화한 데이터로 학습"
   ]
  },
  {
   "cell_type": "markdown",
   "id": "5e56455a",
   "metadata": {},
   "source": [
    "### 1. Decision tree model"
   ]
  },
  {
   "cell_type": "code",
   "execution_count": 61,
   "id": "d07f359f",
   "metadata": {},
   "outputs": [],
   "source": [
    "decision_tree = DecisionTreeClassifier(random_state = 15)"
   ]
  },
  {
   "cell_type": "code",
   "execution_count": 62,
   "id": "6d6d02ce",
   "metadata": {},
   "outputs": [],
   "source": [
    "decision_tree.fit(X_train, y_train)\n",
    "y_DTpred = decision_tree.predict(X_test)"
   ]
  },
  {
   "cell_type": "code",
   "execution_count": 63,
   "id": "5c633daa",
   "metadata": {},
   "outputs": [
    {
     "name": "stdout",
     "output_type": "stream",
     "text": [
      "Accuracy:  0.8889\n",
      "Precision:  0.9030\n",
      "Recall:  0.8974\n",
      "F_SCORE:  0.8930\n",
      "              precision    recall  f1-score   support\n",
      "\n",
      "           0       0.91      1.00      0.95        10\n",
      "           1       0.80      0.92      0.86        13\n",
      "           2       1.00      0.77      0.87        13\n",
      "\n",
      "    accuracy                           0.89        36\n",
      "   macro avg       0.90      0.90      0.89        36\n",
      "weighted avg       0.90      0.89      0.89        36\n",
      "\n"
     ]
    }
   ],
   "source": [
    "evaluate_classifier(y_test, y_DTpred)"
   ]
  },
  {
   "cell_type": "code",
   "execution_count": 64,
   "id": "b8cd9d93",
   "metadata": {},
   "outputs": [
    {
     "data": {
      "text/plain": [
       "array([[10,  0,  0],\n",
       "       [ 1, 12,  0],\n",
       "       [ 0,  3, 10]], dtype=int64)"
      ]
     },
     "execution_count": 64,
     "metadata": {},
     "output_type": "execute_result"
    }
   ],
   "source": [
    "confusion_matrix(y_test, y_DTpred)"
   ]
  },
  {
   "cell_type": "markdown",
   "id": "77fa7695",
   "metadata": {},
   "source": [
    "### 2. Random forest model"
   ]
  },
  {
   "cell_type": "code",
   "execution_count": 65,
   "id": "35a3ecf6",
   "metadata": {},
   "outputs": [],
   "source": [
    "random_forest = RandomForestClassifier(n_estimators=100, random_state=15)"
   ]
  },
  {
   "cell_type": "code",
   "execution_count": 66,
   "id": "02e3b085",
   "metadata": {},
   "outputs": [],
   "source": [
    "random_forest.fit(X_train, y_train)\n",
    "y_RFpred = random_forest.predict(X_test)"
   ]
  },
  {
   "cell_type": "code",
   "execution_count": 67,
   "id": "2152ecfe",
   "metadata": {},
   "outputs": [
    {
     "name": "stdout",
     "output_type": "stream",
     "text": [
      "Accuracy:  1.0000\n",
      "Precision:  1.0000\n",
      "Recall:  1.0000\n",
      "F_SCORE:  1.0000\n",
      "              precision    recall  f1-score   support\n",
      "\n",
      "           0       1.00      1.00      1.00        10\n",
      "           1       1.00      1.00      1.00        13\n",
      "           2       1.00      1.00      1.00        13\n",
      "\n",
      "    accuracy                           1.00        36\n",
      "   macro avg       1.00      1.00      1.00        36\n",
      "weighted avg       1.00      1.00      1.00        36\n",
      "\n"
     ]
    }
   ],
   "source": [
    "evaluate_classifier(y_test, y_RFpred)"
   ]
  },
  {
   "cell_type": "code",
   "execution_count": 68,
   "id": "be1e93ba",
   "metadata": {},
   "outputs": [
    {
     "data": {
      "text/plain": [
       "array([[10,  0,  0],\n",
       "       [ 0, 13,  0],\n",
       "       [ 0,  0, 13]], dtype=int64)"
      ]
     },
     "execution_count": 68,
     "metadata": {},
     "output_type": "execute_result"
    }
   ],
   "source": [
    "confusion_matrix(y_test, y_RFpred)"
   ]
  },
  {
   "cell_type": "markdown",
   "id": "d4fbd827",
   "metadata": {},
   "source": [
    "### 3. SVM"
   ]
  },
  {
   "cell_type": "code",
   "execution_count": 69,
   "id": "48f3d97d",
   "metadata": {},
   "outputs": [],
   "source": [
    "from sklearn import svm\n",
    "svm_model = svm.SVC()"
   ]
  },
  {
   "cell_type": "code",
   "execution_count": 70,
   "id": "f7e7c1e5",
   "metadata": {},
   "outputs": [],
   "source": [
    "svm_model.fit(X_train, y_train)\n",
    "y_SVMpred = svm_model.predict(X_test)"
   ]
  },
  {
   "cell_type": "code",
   "execution_count": 71,
   "id": "e4adccfd",
   "metadata": {},
   "outputs": [
    {
     "name": "stdout",
     "output_type": "stream",
     "text": [
      "Accuracy:  1.0000\n",
      "Precision:  1.0000\n",
      "Recall:  1.0000\n",
      "F_SCORE:  1.0000\n",
      "              precision    recall  f1-score   support\n",
      "\n",
      "           0       1.00      1.00      1.00        10\n",
      "           1       1.00      1.00      1.00        13\n",
      "           2       1.00      1.00      1.00        13\n",
      "\n",
      "    accuracy                           1.00        36\n",
      "   macro avg       1.00      1.00      1.00        36\n",
      "weighted avg       1.00      1.00      1.00        36\n",
      "\n"
     ]
    }
   ],
   "source": [
    "evaluate_classifier(y_test, y_SVMpred)"
   ]
  },
  {
   "cell_type": "code",
   "execution_count": 72,
   "id": "9f027d68",
   "metadata": {},
   "outputs": [
    {
     "data": {
      "text/plain": [
       "array([[10,  0,  0],\n",
       "       [ 0, 13,  0],\n",
       "       [ 0,  0, 13]], dtype=int64)"
      ]
     },
     "execution_count": 72,
     "metadata": {},
     "output_type": "execute_result"
    }
   ],
   "source": [
    "confusion_matrix(y_test, y_RFpred)"
   ]
  },
  {
   "cell_type": "markdown",
   "id": "8e281552",
   "metadata": {},
   "source": [
    "### 4. SGD"
   ]
  },
  {
   "cell_type": "code",
   "execution_count": 73,
   "id": "a672b16d",
   "metadata": {},
   "outputs": [],
   "source": [
    "from sklearn.linear_model import SGDClassifier\n",
    "sgd_model = SGDClassifier()"
   ]
  },
  {
   "cell_type": "code",
   "execution_count": 74,
   "id": "70653ea9",
   "metadata": {},
   "outputs": [],
   "source": [
    "sgd_model.fit(X_train, y_train)\n",
    "y_SGDpred = sgd_model.predict(X_test)"
   ]
  },
  {
   "cell_type": "code",
   "execution_count": 75,
   "id": "9411140c",
   "metadata": {},
   "outputs": [
    {
     "name": "stdout",
     "output_type": "stream",
     "text": [
      "Accuracy:  1.0000\n",
      "Precision:  1.0000\n",
      "Recall:  1.0000\n",
      "F_SCORE:  1.0000\n",
      "              precision    recall  f1-score   support\n",
      "\n",
      "           0       1.00      1.00      1.00        10\n",
      "           1       1.00      1.00      1.00        13\n",
      "           2       1.00      1.00      1.00        13\n",
      "\n",
      "    accuracy                           1.00        36\n",
      "   macro avg       1.00      1.00      1.00        36\n",
      "weighted avg       1.00      1.00      1.00        36\n",
      "\n"
     ]
    }
   ],
   "source": [
    "evaluate_classifier(y_test, y_SGDpred)"
   ]
  },
  {
   "cell_type": "code",
   "execution_count": 76,
   "id": "81d45141",
   "metadata": {},
   "outputs": [
    {
     "data": {
      "text/plain": [
       "array([[10,  0,  0],\n",
       "       [ 0, 13,  0],\n",
       "       [ 0,  0, 13]], dtype=int64)"
      ]
     },
     "execution_count": 76,
     "metadata": {},
     "output_type": "execute_result"
    }
   ],
   "source": [
    "confusion_matrix(y_test, y_RFpred)"
   ]
  },
  {
   "cell_type": "markdown",
   "id": "c311455c",
   "metadata": {},
   "source": [
    "### 5. Logistic Regression"
   ]
  },
  {
   "cell_type": "code",
   "execution_count": 77,
   "id": "cfeb36dd",
   "metadata": {},
   "outputs": [],
   "source": [
    "from sklearn.linear_model import LogisticRegression\n",
    "logistic_model = LogisticRegression()"
   ]
  },
  {
   "cell_type": "code",
   "execution_count": 78,
   "id": "977eb1b5",
   "metadata": {},
   "outputs": [],
   "source": [
    "logistic_model.fit(X_train, y_train)\n",
    "y_LRpred = logistic_model.predict(X_test)"
   ]
  },
  {
   "cell_type": "code",
   "execution_count": 79,
   "id": "a5cfccf8",
   "metadata": {},
   "outputs": [
    {
     "name": "stdout",
     "output_type": "stream",
     "text": [
      "Accuracy:  0.9722\n",
      "Precision:  0.9762\n",
      "Recall:  0.9744\n",
      "F_SCORE:  0.9743\n",
      "              precision    recall  f1-score   support\n",
      "\n",
      "           0       1.00      1.00      1.00        10\n",
      "           1       0.93      1.00      0.96        13\n",
      "           2       1.00      0.92      0.96        13\n",
      "\n",
      "    accuracy                           0.97        36\n",
      "   macro avg       0.98      0.97      0.97        36\n",
      "weighted avg       0.97      0.97      0.97        36\n",
      "\n"
     ]
    }
   ],
   "source": [
    "evaluate_classifier(y_test, y_LRpred)"
   ]
  },
  {
   "cell_type": "code",
   "execution_count": 80,
   "id": "a027cfd5",
   "metadata": {},
   "outputs": [
    {
     "data": {
      "text/plain": [
       "array([[10,  0,  0],\n",
       "       [ 0, 13,  0],\n",
       "       [ 0,  0, 13]], dtype=int64)"
      ]
     },
     "execution_count": 80,
     "metadata": {},
     "output_type": "execute_result"
    }
   ],
   "source": [
    "confusion_matrix(y_test, y_RFpred)"
   ]
  },
  {
   "cell_type": "markdown",
   "id": "5cbaac29",
   "metadata": {},
   "source": [
    "## D-2) Min-Max scaling한 데이터로 학습"
   ]
  },
  {
   "cell_type": "markdown",
   "id": "856b5e49",
   "metadata": {},
   "source": [
    "### 1. Decision tree model"
   ]
  },
  {
   "cell_type": "code",
   "execution_count": 90,
   "id": "248946fb",
   "metadata": {},
   "outputs": [
    {
     "name": "stdout",
     "output_type": "stream",
     "text": [
      "Accuracy:  0.9444\n",
      "Precision:  0.9583\n",
      "Recall:  0.9444\n",
      "F_SCORE:  0.9475\n",
      "              precision    recall  f1-score   support\n",
      "\n",
      "           0       0.88      1.00      0.93         7\n",
      "           1       1.00      0.83      0.91         6\n",
      "           2       1.00      1.00      1.00         5\n",
      "\n",
      "    accuracy                           0.94        18\n",
      "   macro avg       0.96      0.94      0.95        18\n",
      "weighted avg       0.95      0.94      0.94        18\n",
      "\n"
     ]
    }
   ],
   "source": [
    "decision_tree.fit(X_mm_train, y_mm_train)\n",
    "y_DTpred2 = decision_tree.predict(X_mm_test)\n",
    "evaluate_classifier(y_mm_test, y_DTpred2)"
   ]
  },
  {
   "cell_type": "code",
   "execution_count": 91,
   "id": "3efabe86",
   "metadata": {},
   "outputs": [
    {
     "data": {
      "text/plain": [
       "array([[7, 0, 0],\n",
       "       [1, 5, 0],\n",
       "       [0, 0, 5]], dtype=int64)"
      ]
     },
     "execution_count": 91,
     "metadata": {},
     "output_type": "execute_result"
    }
   ],
   "source": [
    "confusion_matrix(y_mm_test, y_DTpred2)"
   ]
  },
  {
   "cell_type": "markdown",
   "id": "7a04cf16",
   "metadata": {},
   "source": [
    "### 2. Random forest model"
   ]
  },
  {
   "cell_type": "code",
   "execution_count": 92,
   "id": "4af465e3",
   "metadata": {},
   "outputs": [
    {
     "name": "stdout",
     "output_type": "stream",
     "text": [
      "Accuracy:  1.0000\n",
      "Precision:  1.0000\n",
      "Recall:  1.0000\n",
      "F_SCORE:  1.0000\n",
      "              precision    recall  f1-score   support\n",
      "\n",
      "           0       1.00      1.00      1.00         7\n",
      "           1       1.00      1.00      1.00         6\n",
      "           2       1.00      1.00      1.00         5\n",
      "\n",
      "    accuracy                           1.00        18\n",
      "   macro avg       1.00      1.00      1.00        18\n",
      "weighted avg       1.00      1.00      1.00        18\n",
      "\n"
     ]
    }
   ],
   "source": [
    "random_forest.fit(X_mm_train, y_mm_train)\n",
    "y_RFpred2 = random_forest.predict(X_mm_test)\n",
    "evaluate_classifier(y_mm_test, y_RFpred2)"
   ]
  },
  {
   "cell_type": "code",
   "execution_count": 93,
   "id": "50a285a5",
   "metadata": {},
   "outputs": [
    {
     "data": {
      "text/plain": [
       "array([[7, 0, 0],\n",
       "       [0, 6, 0],\n",
       "       [0, 0, 5]], dtype=int64)"
      ]
     },
     "execution_count": 93,
     "metadata": {},
     "output_type": "execute_result"
    }
   ],
   "source": [
    "confusion_matrix(y_mm_test, y_RFpred2)"
   ]
  },
  {
   "cell_type": "markdown",
   "id": "099536aa",
   "metadata": {},
   "source": [
    "### 3. SVM"
   ]
  },
  {
   "cell_type": "code",
   "execution_count": 95,
   "id": "36e447bf",
   "metadata": {},
   "outputs": [
    {
     "name": "stdout",
     "output_type": "stream",
     "text": [
      "Accuracy:  1.0000\n",
      "Precision:  1.0000\n",
      "Recall:  1.0000\n",
      "F_SCORE:  1.0000\n",
      "              precision    recall  f1-score   support\n",
      "\n",
      "           0       1.00      1.00      1.00         7\n",
      "           1       1.00      1.00      1.00         6\n",
      "           2       1.00      1.00      1.00         5\n",
      "\n",
      "    accuracy                           1.00        18\n",
      "   macro avg       1.00      1.00      1.00        18\n",
      "weighted avg       1.00      1.00      1.00        18\n",
      "\n"
     ]
    }
   ],
   "source": [
    "svm_model.fit(X_mm_train, y_mm_train)\n",
    "y_SVMpred2 = svm_model.predict(X_mm_test)\n",
    "evaluate_classifier(y_mm_test, y_SVMpred2)"
   ]
  },
  {
   "cell_type": "code",
   "execution_count": 96,
   "id": "6b1e062d",
   "metadata": {},
   "outputs": [
    {
     "data": {
      "text/plain": [
       "array([[7, 0, 0],\n",
       "       [0, 6, 0],\n",
       "       [0, 0, 5]], dtype=int64)"
      ]
     },
     "execution_count": 96,
     "metadata": {},
     "output_type": "execute_result"
    }
   ],
   "source": [
    "confusion_matrix(y_mm_test, y_SVMpred2)"
   ]
  },
  {
   "cell_type": "markdown",
   "id": "d23abec1",
   "metadata": {},
   "source": [
    "### 4. SGD"
   ]
  },
  {
   "cell_type": "code",
   "execution_count": 97,
   "id": "5da9b15e",
   "metadata": {},
   "outputs": [
    {
     "name": "stdout",
     "output_type": "stream",
     "text": [
      "Accuracy:  1.0000\n",
      "Precision:  1.0000\n",
      "Recall:  1.0000\n",
      "F_SCORE:  1.0000\n",
      "              precision    recall  f1-score   support\n",
      "\n",
      "           0       1.00      1.00      1.00         7\n",
      "           1       1.00      1.00      1.00         6\n",
      "           2       1.00      1.00      1.00         5\n",
      "\n",
      "    accuracy                           1.00        18\n",
      "   macro avg       1.00      1.00      1.00        18\n",
      "weighted avg       1.00      1.00      1.00        18\n",
      "\n"
     ]
    }
   ],
   "source": [
    "sgd_model.fit(X_mm_train, y_mm_train)\n",
    "y_SGDpred2 = sgd_model.predict(X_mm_test)\n",
    "evaluate_classifier(y_mm_test, y_SGDpred2)"
   ]
  },
  {
   "cell_type": "code",
   "execution_count": 98,
   "id": "7a171dc3",
   "metadata": {},
   "outputs": [
    {
     "data": {
      "text/plain": [
       "array([[7, 0, 0],\n",
       "       [0, 6, 0],\n",
       "       [0, 0, 5]], dtype=int64)"
      ]
     },
     "execution_count": 98,
     "metadata": {},
     "output_type": "execute_result"
    }
   ],
   "source": [
    "confusion_matrix(y_mm_test, y_SGDpred2)"
   ]
  },
  {
   "cell_type": "markdown",
   "id": "f2dbe060",
   "metadata": {},
   "source": [
    "### 5. Logistic Regression "
   ]
  },
  {
   "cell_type": "code",
   "execution_count": 99,
   "id": "abc0eb7b",
   "metadata": {},
   "outputs": [
    {
     "name": "stdout",
     "output_type": "stream",
     "text": [
      "Accuracy:  1.0000\n",
      "Precision:  1.0000\n",
      "Recall:  1.0000\n",
      "F_SCORE:  1.0000\n",
      "              precision    recall  f1-score   support\n",
      "\n",
      "           0       1.00      1.00      1.00         7\n",
      "           1       1.00      1.00      1.00         6\n",
      "           2       1.00      1.00      1.00         5\n",
      "\n",
      "    accuracy                           1.00        18\n",
      "   macro avg       1.00      1.00      1.00        18\n",
      "weighted avg       1.00      1.00      1.00        18\n",
      "\n"
     ]
    }
   ],
   "source": [
    "logistic_model.fit(X_mm_train, y_mm_train)\n",
    "y_LRpred2 = logistic_model.predict(X_mm_test)\n",
    "evaluate_classifier(y_mm_test, y_LRpred2)"
   ]
  },
  {
   "cell_type": "code",
   "execution_count": 100,
   "id": "bbad6a85",
   "metadata": {},
   "outputs": [
    {
     "data": {
      "text/plain": [
       "array([[7, 0, 0],\n",
       "       [0, 6, 0],\n",
       "       [0, 0, 5]], dtype=int64)"
      ]
     },
     "execution_count": 100,
     "metadata": {},
     "output_type": "execute_result"
    }
   ],
   "source": [
    "confusion_matrix(y_mm_test, y_LRpred2)"
   ]
  },
  {
   "cell_type": "markdown",
   "id": "29902fd7",
   "metadata": {},
   "source": [
    "<span style=\"color: Orange; font-size: 15px; font-weight: bold\">표준화 이전 데이터와 비교</span>"
   ]
  },
  {
   "cell_type": "markdown",
   "id": "7b0b0b98",
   "metadata": {},
   "source": [
    "데이터 정규화 이전 데이터를 SVM, SGD 모델로 학습했을때 평가지표 수치가 매우 낮았으나, 정규화 이후에 평가하니 수치가 대폭 상승했을 뿐 아니라, 평가지표 수치가 대체로 1.00 즉, 100% 에 달했다."
   ]
  },
  {
   "cell_type": "markdown",
   "id": "8909e944",
   "metadata": {},
   "source": [
    "# 회고"
   ]
  },
  {
   "cell_type": "markdown",
   "id": "271e1a97",
   "metadata": {},
   "source": [
    "* 3가지 와인 카테고리 내의 데이터 개수를 확인해 봤을 때, 최소 10개, 최대 20개 까지 차이가 났다.\n",
    "* 각 카테고리에 포함된 데이터 수가 50~70개밖에 안되기 때문에 데이터 10개 혹은 20개 차이는 편향된 정도가 크다. 학습데이터가 적은경우 과소적합 문제가 발생하기도 하고 편향이 되어있으면 학습 모델이 예측한 결과를 신뢰하기 어렵다. 해결방법은.. 차차 생각해봐야겠다.\n",
    "* 5개의 모델을 이용해 학습한 결과 대체로 평가지표 수치가 매우 낮다. 이를 해결해보고자 데이터 전처리 과정을 진행했다.\n",
    "<br>\n",
    "1. 이상치 확인\n",
    "    - 데이터 개수가 많지 않아 Z-score method대신 IQR method를 사용했다.\n",
    "    - box plot 그래프로 확인해봤을 때, 이상치를 갖는 인자는 : malic_acid, ash, alcalinity_of_ash, magnesium, proanthocyanins, color_intensity, hue 총 7가지였다.\n",
    "    - 데이터 개수가 많아서 이상치를 삭제하기보단, 다른 값으로 대체하는게 좋을 것 같다.\n",
    "    - 이상치를 제외한 dataframe을 생성하고, 상관계수를 도출해(heatmap으로 도시화 가능) 예측 모델을 만들어서 예측값을 넣는 방식으로 해도 될 것 같다.\n",
    "    - 그러나, 아직은 시도해볼 엄두가 안나서 이상치 처리는 하지 않았다.\n",
    "<br>\n",
    "<br>\n",
    "2. 데이터 정규화(표준화, min-max scaling 사용)\n",
    "    - wine의 feature항목 중, proline과 magnesium항목의 스케일이 다른 요소보다 크다.\n",
    "    - 스케일 차이가 크면 linear regression을 할 때 모델의 파라미터를 업데이트하는 과정에서 범위가 큰 컬럼의 파라미터만 집중적으로 업데이트하는 문제가 발생할 가능성이 있다고 한다.\n",
    "    - 기존 데이터를 두가지 정규화 방식을 이용해 정규화한 뒤, 5가지 학습모델로 학습을 진행했다.  \n",
    "<br>\n",
    "<br>\n",
    " 3. 데이터 평가\n",
    "    - 데이터 정규화 이전 데이터를 SVM, SGD 모델로 학습했을때 평가지표 수치가 매우 낮았으나, 정규화 이후에 평가하니 수치가 대폭 상승했을 뿐 아니라, 평가지표 수치가 대체로 1.00 즉, 100% 에 달했다.  \n",
    "<br>\n",
    "<br>\n",
    "4. 의문점\n",
    "    - 평가지표의 수치가 1.00이 나왔다면, 이게 정말 분류가 잘 된건지 혹은 overfitting이 된건지 확인하는 방법은 어떤게 있을까.\n",
    "    -  정규화를 진행할 경우, training set과 test set을 분리하기 전, 혹은 후 중 언제 하는게 신뢰도 있는 결과를 도출할 수 있을까.  "
   ]
  },
  {
   "cell_type": "code",
   "execution_count": null,
   "id": "73093bd3",
   "metadata": {},
   "outputs": [],
   "source": []
  }
 ],
 "metadata": {
  "kernelspec": {
   "display_name": "Python 3 (ipykernel)",
   "language": "python",
   "name": "python3"
  },
  "language_info": {
   "codemirror_mode": {
    "name": "ipython",
    "version": 3
   },
   "file_extension": ".py",
   "mimetype": "text/x-python",
   "name": "python",
   "nbconvert_exporter": "python",
   "pygments_lexer": "ipython3",
   "version": "3.11.2"
  }
 },
 "nbformat": 4,
 "nbformat_minor": 5
}
