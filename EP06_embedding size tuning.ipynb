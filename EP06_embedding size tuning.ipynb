{
 "cells": [
  {
   "cell_type": "markdown",
   "id": "bc9bebd4",
   "metadata": {},
   "source": [
    "### 데이터 읽어오기"
   ]
  },
  {
   "cell_type": "code",
   "execution_count": 1,
   "id": "8624f892",
   "metadata": {},
   "outputs": [],
   "source": [
    "import glob\n",
    "import os, re\n",
    "txt_file_path = os.getenv('HOME')+'/aiffel/lyricist/data/lyrics/*' \n",
    "txt_list = glob.glob(txt_file_path)\n",
    "\n",
    "raw_corpus = []\n",
    "\n",
    "for txt_file in txt_list:\n",
    "    with open(txt_file, \"r\") as f:\n",
    "        raw = f.read().splitlines()\n",
    "        raw_corpus.extend(raw)"
   ]
  },
  {
   "cell_type": "markdown",
   "id": "2ed31514",
   "metadata": {},
   "source": [
    "### 데이터 정제"
   ]
  },
  {
   "cell_type": "code",
   "execution_count": 2,
   "id": "393180cb",
   "metadata": {},
   "outputs": [
    {
     "data": {
      "text/plain": [
       "['<start> you ever want something <end>',\n",
       " '<start> that you know you shouldn t have <end>',\n",
       " '<start> the more you know you shouldn t have it , <end>',\n",
       " '<start> the more you want it <end>',\n",
       " '<start> and then one day you get it , <end>']"
      ]
     },
     "execution_count": 2,
     "metadata": {},
     "output_type": "execute_result"
    }
   ],
   "source": [
    "def preprocess_sentence(sentence):\n",
    "    sentence = sentence.lower().strip()\n",
    "    sentence = re.sub(f\"([?.!,¿])\", r\" \\1 \", sentence)\n",
    "    sentence = re.sub(r'[\" \"]+', \" \", sentence) # 3\n",
    "    sentence = re.sub(r\"[^a-zA-Z?.!,¿]+\", \" \", sentence) # 4\n",
    "    sentence = sentence.strip() # 5\n",
    "    sentence = '<start> ' + sentence + ' <end>' # 6\n",
    "    return sentence\n",
    "\n",
    "corpus = []\n",
    "\n",
    "for sentence in raw_corpus:\n",
    "    if len(sentence) == 0: continue\n",
    "    if sentence[-1] == \"]\": continue\n",
    "        \n",
    "    preprocessed_sentence = preprocess_sentence(sentence)\n",
    "    corpus.append(preprocessed_sentence)\n",
    "    \n",
    "corpus[:5]"
   ]
  },
  {
   "cell_type": "markdown",
   "id": "c1519169",
   "metadata": {},
   "source": [
    "### 데이터셋 토큰화"
   ]
  },
  {
   "cell_type": "code",
   "execution_count": 3,
   "id": "427ec963",
   "metadata": {},
   "outputs": [
    {
     "name": "stdout",
     "output_type": "stream",
     "text": [
      "[[  2   7 156 ...   0   0   0]\n",
      " [  2  17   7 ...   0   0   0]\n",
      " [  2   6  98 ...   0   0   0]\n",
      " ...\n",
      " [  2 310   1 ...   0   0   0]\n",
      " [  2 729   5 ...   0   0   0]\n",
      " [  2 729   5 ...   0   0   0]] <keras_preprocessing.text.Tokenizer object at 0x7f25ffd89850>\n"
     ]
    }
   ],
   "source": [
    "import tensorflow as tf\n",
    "def tokenize(corpus):\n",
    "    tokenizer = tf.keras.preprocessing.text.Tokenizer(num_words=12000,\n",
    "                                                     filters=' ',\n",
    "                                                     oov_token='<unk>')\n",
    "    tokenizer.fit_on_texts(corpus)\n",
    "    tensor = tokenizer.texts_to_sequences(corpus)\n",
    "    tensor = tf.keras.preprocessing.sequence.pad_sequences(tensor,\n",
    "                                                          padding='post',\n",
    "                                                          maxlen=20)\n",
    "    print(tensor, tokenizer)\n",
    "    return tensor, tokenizer\n",
    "\n",
    "tensor, tokenizer = tokenize(corpus)"
   ]
  },
  {
   "cell_type": "markdown",
   "id": "719d5fa2",
   "metadata": {},
   "source": [
    "### 평가 데이터셋 분리"
   ]
  },
  {
   "cell_type": "code",
   "execution_count": 4,
   "id": "4da5f282",
   "metadata": {},
   "outputs": [],
   "source": [
    "# source, target input 생성\n",
    "src_input = tensor[:,:-1]\n",
    "tgt_input = tensor[:, 1:]\n",
    "\n",
    "from sklearn.model_selection import train_test_split\n",
    "enc_train, enc_val, dec_train, dec_val = train_test_split(src_input, tgt_input, \n",
    "                                                          test_size=0.2,\n",
    "                                                         random_state=2023)"
   ]
  },
  {
   "cell_type": "markdown",
   "id": "8f090f5a",
   "metadata": {},
   "source": [
    "### train_dataset 객체 생성"
   ]
  },
  {
   "cell_type": "code",
   "execution_count": 5,
   "id": "753414ff",
   "metadata": {},
   "outputs": [
    {
     "data": {
      "text/plain": [
       "<BatchDataset shapes: ((256, 19), (256, 19)), types: (tf.int32, tf.int32)>"
      ]
     },
     "execution_count": 5,
     "metadata": {},
     "output_type": "execute_result"
    }
   ],
   "source": [
    "BUFFER_SIZE=len(src_input)\n",
    "BATCH_SIZE = 256\n",
    "steps_per_epoch = len(src_input) // BATCH_SIZE\n",
    "\n",
    "VOCAB_SIZE = tokenizer.num_words + 1   \n",
    "\n",
    "train_dataset = tf.data.Dataset.from_tensor_slices((enc_train, dec_train))\n",
    "train_dataset = train_dataset.shuffle(BUFFER_SIZE)\n",
    "train_dataset = train_dataset.batch(BATCH_SIZE, drop_remainder=True)\n",
    "train_dataset"
   ]
  },
  {
   "cell_type": "markdown",
   "id": "b8446cd7",
   "metadata": {},
   "source": [
    "### val_dataset 객체 생성"
   ]
  },
  {
   "cell_type": "code",
   "execution_count": 6,
   "id": "68088022",
   "metadata": {},
   "outputs": [
    {
     "data": {
      "text/plain": [
       "<BatchDataset shapes: ((256, 19), (256, 19)), types: (tf.int32, tf.int32)>"
      ]
     },
     "execution_count": 6,
     "metadata": {},
     "output_type": "execute_result"
    }
   ],
   "source": [
    "BUFFER_SIZE = len(src_input)\n",
    "BATCH_SIZE = 256\n",
    "steps_per_epoch = len(src_input) // BATCH_SIZE\n",
    "\n",
    "VOCAB_SIZE = tokenizer.num_words + 1   \n",
    "\n",
    "val_dataset = tf.data.Dataset.from_tensor_slices((enc_val, dec_val))\n",
    "val_dataset = val_dataset.shuffle(BUFFER_SIZE)\n",
    "val_dataset = val_dataset.batch(BATCH_SIZE, drop_remainder=True)\n",
    "val_dataset"
   ]
  },
  {
   "cell_type": "markdown",
   "id": "810f2074",
   "metadata": {},
   "source": [
    "### 모델 생성"
   ]
  },
  {
   "cell_type": "code",
   "execution_count": 7,
   "id": "ad45902c",
   "metadata": {},
   "outputs": [],
   "source": [
    "class TextGenerator(tf.keras.Model):\n",
    "    def __init__(self, vocab_size, embedding_size, hidden_size):\n",
    "        super().__init__()\n",
    "        self.embedding = tf.keras.layers.Embedding(vocab_size, embedding_size)\n",
    "        self.rnn_1 = tf.keras.layers.LSTM(hidden_size, return_sequences=True)\n",
    "        self.rnn_2 = tf.keras.layers.LSTM(hidden_size, return_sequences=True)\n",
    "        self.linear = tf.keras.layers.Dense(vocab_size)\n",
    "        \n",
    "    def call(self,x):\n",
    "        out = self.embedding(x)\n",
    "        out = self.rnn_1(out)\n",
    "        out = self.rnn_2(out)\n",
    "        out = self.linear(out)\n",
    "        \n",
    "        return out"
   ]
  },
  {
   "cell_type": "markdown",
   "id": "3fa2b8cc",
   "metadata": {},
   "source": [
    "### <span style='color:red'> __embedding_size 조절__ </span>\n",
    "---\n",
    "1. 512\n",
    "2. 300\n",
    "3. 128"
   ]
  },
  {
   "cell_type": "markdown",
   "id": "e2533593",
   "metadata": {},
   "source": [
    "#### 1. embeddingsize=512"
   ]
  },
  {
   "cell_type": "code",
   "execution_count": 8,
   "id": "5ced50b2",
   "metadata": {},
   "outputs": [],
   "source": [
    "embedding_size = 512\n",
    "hidden_size = 1024 \n",
    "model = TextGenerator(tokenizer.num_words + 1, embedding_size , hidden_size) "
   ]
  },
  {
   "cell_type": "code",
   "execution_count": 12,
   "id": "763d8ff5",
   "metadata": {},
   "outputs": [
    {
     "name": "stdout",
     "output_type": "stream",
     "text": [
      "Epoch 1/10\n",
      "546/546 [==============================] - 313s 559ms/step - loss: 2.8446 - val_loss: 2.5464\n",
      "Epoch 2/10\n",
      "546/546 [==============================] - 398s 729ms/step - loss: 2.4467 - val_loss: 2.3870\n",
      "Epoch 3/10\n",
      "546/546 [==============================] - 438s 802ms/step - loss: 2.3016 - val_loss: 2.2879\n",
      "Epoch 4/10\n",
      "546/546 [==============================] - 437s 800ms/step - loss: 2.1925 - val_loss: 2.2189\n",
      "Epoch 5/10\n",
      "546/546 [==============================] - 438s 802ms/step - loss: 2.1001 - val_loss: 2.1604\n",
      "Epoch 6/10\n",
      "546/546 [==============================] - 437s 801ms/step - loss: 2.0176 - val_loss: 2.1173\n",
      "Epoch 7/10\n",
      "546/546 [==============================] - 435s 797ms/step - loss: 1.9411 - val_loss: 2.0808\n",
      "Epoch 8/10\n",
      "546/546 [==============================] - 298s 545ms/step - loss: 1.8697 - val_loss: 2.0484\n",
      "Epoch 9/10\n",
      "546/546 [==============================] - 298s 546ms/step - loss: 1.8023 - val_loss: 2.0235\n",
      "Epoch 10/10\n",
      "546/546 [==============================] - 298s 546ms/step - loss: 1.7375 - val_loss: 1.9992\n"
     ]
    }
   ],
   "source": [
    "optimizer = tf.keras.optimizers.Adam()\n",
    "loss = tf.keras.losses.SparseCategoricalCrossentropy(from_logits=True,\n",
    "                                                    reduction='none')\n",
    "model.compile(loss=loss, optimizer=optimizer)\n",
    "history = model.fit(train_dataset, epochs=10, validation_data=val_dataset)"
   ]
  },
  {
   "cell_type": "code",
   "execution_count": 13,
   "id": "b8b1d676",
   "metadata": {},
   "outputs": [
    {
     "data": {
      "image/png": "[encoded data removed]",
      "text/plain": [
       "<Figure size 432x288 with 2 Axes>"
      ]
     },
     "metadata": {
      "needs_background": "light"
     },
     "output_type": "display_data"
    }
   ],
   "source": [
    "import matplotlib.pyplot as plt\n",
    "\n",
    "fig, loss_ax = plt.subplots()\n",
    "\n",
    "acc_ax = loss_ax.twinx()\n",
    "\n",
    "loss_ax.plot(history.history['loss'], 'y', label='train loss')\n",
    "loss_ax.plot(history.history['val_loss'], 'r', label='val loss')\n",
    "loss_ax.set_xlabel('epoch')\n",
    "loss_ax.set_ylabel('loss')\n",
    "loss_ax.legend(loc='best')\n",
    "plt.show()"
   ]
  },
  {
   "cell_type": "code",
   "execution_count": null,
   "id": "b19de800",
   "metadata": {},
   "outputs": [],
   "source": []
  },
  {
   "cell_type": "markdown",
   "id": "99fd8c42",
   "metadata": {},
   "source": [
    "#### 2. embeddingsize=300"
   ]
  },
  {
   "cell_type": "code",
   "execution_count": 13,
   "id": "82b4e181",
   "metadata": {},
   "outputs": [],
   "source": [
    "embedding_size = 300\n",
    "hidden_size = 1024 \n",
    "model = TextGenerator(tokenizer.num_words + 1, embedding_size , hidden_size) "
   ]
  },
  {
   "cell_type": "code",
   "execution_count": 14,
   "id": "1c14c06d",
   "metadata": {},
   "outputs": [
    {
     "name": "stdout",
     "output_type": "stream",
     "text": [
      "Epoch 1/10\n",
      "546/546 [==============================] - 261s 433ms/step - loss: 2.8837 - val_loss: 2.5709\n",
      "Epoch 2/10\n",
      "546/546 [==============================] - 318s 581ms/step - loss: 2.4766 - val_loss: 2.4114\n",
      "Epoch 3/10\n",
      "546/546 [==============================] - 317s 580ms/step - loss: 2.3308 - val_loss: 2.3127\n",
      "Epoch 4/10\n",
      "546/546 [==============================] - 318s 583ms/step - loss: 2.2244 - val_loss: 2.2432\n",
      "Epoch 5/10\n",
      "546/546 [==============================] - 319s 583ms/step - loss: 2.1352 - val_loss: 2.1881\n",
      "Epoch 6/10\n",
      "546/546 [==============================] - 319s 584ms/step - loss: 2.0539 - val_loss: 2.1422\n",
      "Epoch 7/10\n",
      "546/546 [==============================] - 319s 583ms/step - loss: 1.9793 - val_loss: 2.1046\n",
      "Epoch 8/10\n",
      "546/546 [==============================] - 319s 584ms/step - loss: 1.9092 - val_loss: 2.0731\n",
      "Epoch 9/10\n",
      "546/546 [==============================] - 319s 583ms/step - loss: 1.8424 - val_loss: 2.0459\n",
      "Epoch 10/10\n",
      "546/546 [==============================] - 319s 584ms/step - loss: 1.7786 - val_loss: 2.0231\n"
     ]
    }
   ],
   "source": [
    "optimizer = tf.keras.optimizers.Adam()\n",
    "loss = tf.keras.losses.SparseCategoricalCrossentropy(from_logits=True,\n",
    "                                                    reduction='none')\n",
    "model.compile(loss=loss, optimizer=optimizer)\n",
    "history = model.fit(train_dataset, epochs=10, validation_data=val_dataset)"
   ]
  },
  {
   "cell_type": "code",
   "execution_count": 15,
   "id": "221142de",
   "metadata": {},
   "outputs": [
    {
     "data": {
      "image/png": "[encoded data removed]",
      "text/plain": [
       "<Figure size 432x288 with 2 Axes>"
      ]
     },
     "metadata": {
      "needs_background": "light"
     },
     "output_type": "display_data"
    }
   ],
   "source": [
    "import matplotlib.pyplot as plt\n",
    "\n",
    "fig, loss_ax = plt.subplots()\n",
    "\n",
    "acc_ax = loss_ax.twinx()\n",
    "\n",
    "loss_ax.plot(history.history['loss'], 'y', label='train loss')\n",
    "loss_ax.plot(history.history['val_loss'], 'r', label='val loss')\n",
    "loss_ax.set_xlabel('epoch')\n",
    "loss_ax.set_ylabel('loss')\n",
    "loss_ax.legend(loc='best')\n",
    "plt.show()"
   ]
  },
  {
   "cell_type": "code",
   "execution_count": null,
   "id": "3c30f1d0",
   "metadata": {},
   "outputs": [],
   "source": []
  },
  {
   "cell_type": "markdown",
   "id": "89d6c999",
   "metadata": {},
   "source": [
    "#### 3. embeddingsize=128"
   ]
  },
  {
   "cell_type": "code",
   "execution_count": 16,
   "id": "c00e0aed",
   "metadata": {},
   "outputs": [],
   "source": [
    "embedding_size = 128\n",
    "hidden_size = 1024 \n",
    "model = TextGenerator(tokenizer.num_words + 1, embedding_size , hidden_size) "
   ]
  },
  {
   "cell_type": "code",
   "execution_count": 17,
   "id": "081cb8ed",
   "metadata": {},
   "outputs": [
    {
     "name": "stdout",
     "output_type": "stream",
     "text": [
      "Epoch 1/10\n",
      "546/546 [==============================] - 311s 562ms/step - loss: 2.9343 - val_loss: 2.6261\n",
      "Epoch 2/10\n",
      "546/546 [==============================] - 308s 564ms/step - loss: 2.5228 - val_loss: 2.4658\n",
      "Epoch 3/10\n",
      "546/546 [==============================] - 307s 562ms/step - loss: 2.3938 - val_loss: 2.3734\n",
      "Epoch 4/10\n",
      "546/546 [==============================] - 308s 563ms/step - loss: 2.2930 - val_loss: 2.3036\n",
      "Epoch 5/10\n",
      "546/546 [==============================] - 308s 564ms/step - loss: 2.2106 - val_loss: 2.2500\n",
      "Epoch 6/10\n",
      "546/546 [==============================] - 306s 561ms/step - loss: 2.1376 - val_loss: 2.2060\n",
      "Epoch 7/10\n",
      "546/546 [==============================] - 308s 563ms/step - loss: 2.0699 - val_loss: 2.1691\n",
      "Epoch 8/10\n",
      "546/546 [==============================] - 308s 564ms/step - loss: 2.0066 - val_loss: 2.1345\n",
      "Epoch 9/10\n",
      "546/546 [==============================] - 308s 564ms/step - loss: 1.9469 - val_loss: 2.1084\n",
      "Epoch 10/10\n",
      "546/546 [==============================] - 308s 564ms/step - loss: 1.8909 - val_loss: 2.0850\n"
     ]
    }
   ],
   "source": [
    "optimizer = tf.keras.optimizers.Adam()\n",
    "loss = tf.keras.losses.SparseCategoricalCrossentropy(from_logits=True,\n",
    "                                                    reduction='none')\n",
    "model.compile(loss=loss, optimizer=optimizer)\n",
    "history = model.fit(train_dataset, epochs=10, validation_data=val_dataset)"
   ]
  },
  {
   "cell_type": "code",
   "execution_count": 18,
   "id": "d8de70d0",
   "metadata": {},
   "outputs": [
    {
     "data": {
      "image/png": "[encoded data removed]",
      "text/plain": [
       "<Figure size 432x288 with 2 Axes>"
      ]
     },
     "metadata": {
      "needs_background": "light"
     },
     "output_type": "display_data"
    }
   ],
   "source": [
    "import matplotlib.pyplot as plt\n",
    "\n",
    "fig, loss_ax = plt.subplots()\n",
    "\n",
    "acc_ax = loss_ax.twinx()\n",
    "\n",
    "loss_ax.plot(history.history['loss'], 'y', label='train loss')\n",
    "loss_ax.plot(history.history['val_loss'], 'r', label='val loss')\n",
    "loss_ax.set_xlabel('epoch')\n",
    "loss_ax.set_ylabel('loss')\n",
    "loss_ax.legend(loc='best')\n",
    "plt.show()"
   ]
  },
  {
   "cell_type": "code",
   "execution_count": null,
   "id": "9fec3a0a",
   "metadata": {},
   "outputs": [],
   "source": []
  },
  {
   "cell_type": "code",
   "execution_count": null,
   "id": "6b4f4f9b",
   "metadata": {},
   "outputs": [],
   "source": []
  },
  {
   "cell_type": "code",
   "execution_count": null,
   "id": "d7b59860",
   "metadata": {},
   "outputs": [],
   "source": []
  }
 ],
 "metadata": {
  "kernelspec": {
   "display_name": "Python 3 (ipykernel)",
   "language": "python",
   "name": "python3"
  },
  "language_info": {
   "codemirror_mode": {
    "name": "ipython",
    "version": 3
   },
   "file_extension": ".py",
   "mimetype": "text/x-python",
   "name": "python",
   "nbconvert_exporter": "python",
   "pygments_lexer": "ipython3",
   "version": "3.9.7"
  }
 },
 "nbformat": 4,
 "nbformat_minor": 5
}
