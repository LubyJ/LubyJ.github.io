{
 "cells": [
  {
   "cell_type": "markdown",
   "id": "dd033134",
   "metadata": {},
   "source": [
    "### 데이터 읽어오기"
   ]
  },
  {
   "cell_type": "code",
   "execution_count": 1,
   "id": "a8437eda",
   "metadata": {},
   "outputs": [],
   "source": [
    "import glob\n",
    "import os, re\n",
    "txt_file_path = os.getenv('HOME')+'/aiffel/lyricist/data/lyrics/*' \n",
    "txt_list = glob.glob(txt_file_path)\n",
    "\n",
    "raw_corpus = []\n",
    "\n",
    "for txt_file in txt_list:\n",
    "    with open(txt_file, \"r\") as f:\n",
    "        raw = f.read().splitlines()\n",
    "        raw_corpus.extend(raw)"
   ]
  },
  {
   "cell_type": "markdown",
   "id": "a15e294d",
   "metadata": {},
   "source": [
    "### 데이터 정제"
   ]
  },
  {
   "cell_type": "code",
   "execution_count": 2,
   "id": "f03201e2",
   "metadata": {},
   "outputs": [
    {
     "data": {
      "text/plain": [
       "['<start> you ever want something <end>',\n",
       " '<start> that you know you shouldn t have <end>',\n",
       " '<start> the more you know you shouldn t have it , <end>',\n",
       " '<start> the more you want it <end>',\n",
       " '<start> and then one day you get it , <end>']"
      ]
     },
     "execution_count": 2,
     "metadata": {},
     "output_type": "execute_result"
    }
   ],
   "source": [
    "def preprocess_sentence(sentence):\n",
    "    sentence = sentence.lower().strip()\n",
    "    sentence = re.sub(f\"([?.!,¿])\", r\" \\1 \", sentence)\n",
    "    sentence = re.sub(r'[\" \"]+', \" \", sentence) # 3\n",
    "    sentence = re.sub(r\"[^a-zA-Z?.!,¿]+\", \" \", sentence) # 4\n",
    "    sentence = sentence.strip() # 5\n",
    "    sentence = '<start> ' + sentence + ' <end>' # 6\n",
    "    return sentence\n",
    "\n",
    "corpus = []\n",
    "\n",
    "for sentence in raw_corpus:\n",
    "    if len(sentence) == 0: continue\n",
    "    if sentence[-1] == \"]\": continue\n",
    "        \n",
    "    preprocessed_sentence = preprocess_sentence(sentence)\n",
    "    corpus.append(preprocessed_sentence)\n",
    "    \n",
    "corpus[:5]"
   ]
  },
  {
   "cell_type": "markdown",
   "id": "04f4ff0a",
   "metadata": {},
   "source": [
    "### 데이터셋 토큰화"
   ]
  },
  {
   "cell_type": "code",
   "execution_count": 3,
   "id": "4ef2d53e",
   "metadata": {},
   "outputs": [
    {
     "name": "stdout",
     "output_type": "stream",
     "text": [
      "[[  2   7 156 ...   0   0   0]\n",
      " [  2  17   7 ...   0   0   0]\n",
      " [  2   6  98 ...   0   0   0]\n",
      " ...\n",
      " [  2 310   1 ...   0   0   0]\n",
      " [  2 729   5 ...   0   0   0]\n",
      " [  2 729   5 ...   0   0   0]] <keras_preprocessing.text.Tokenizer object at 0x7f46947353d0>\n"
     ]
    }
   ],
   "source": [
    "import tensorflow as tf\n",
    "def tokenize(corpus):\n",
    "    tokenizer = tf.keras.preprocessing.text.Tokenizer(num_words=12000,\n",
    "                                                     filters=' ',\n",
    "                                                     oov_token='<unk>')\n",
    "    tokenizer.fit_on_texts(corpus)\n",
    "    tensor = tokenizer.texts_to_sequences(corpus)\n",
    "    tensor = tf.keras.preprocessing.sequence.pad_sequences(tensor,\n",
    "                                                          padding='post',\n",
    "                                                          maxlen=20)\n",
    "    print(tensor, tokenizer)\n",
    "    return tensor, tokenizer\n",
    "\n",
    "tensor, tokenizer = tokenize(corpus)"
   ]
  },
  {
   "cell_type": "markdown",
   "id": "53c2eada",
   "metadata": {},
   "source": [
    "### 평가 데이터셋 분리"
   ]
  },
  {
   "cell_type": "code",
   "execution_count": 4,
   "id": "d68826d2",
   "metadata": {},
   "outputs": [],
   "source": [
    "# source, target input 생성\n",
    "src_input = tensor[:,:-1]\n",
    "tgt_input = tensor[:, 1:]\n",
    "\n",
    "from sklearn.model_selection import train_test_split\n",
    "enc_train, enc_val, dec_train, dec_val = train_test_split(src_input, tgt_input, \n",
    "                                                          test_size=0.2,\n",
    "                                                         random_state=2023)"
   ]
  },
  {
   "cell_type": "markdown",
   "id": "175dab82",
   "metadata": {},
   "source": [
    "### dataset 객체 생성"
   ]
  },
  {
   "cell_type": "code",
   "execution_count": 5,
   "id": "64882d52",
   "metadata": {},
   "outputs": [],
   "source": [
    "BUFFER_SIZE=len(src_input)\n",
    "BATCH_SIZE = 256\n",
    "steps_per_epoch = len(src_input) // BATCH_SIZE\n",
    "\n",
    "VOCAB_SIZE = tokenizer.num_words + 1   \n",
    "\n",
    "train_dataset = tf.data.Dataset.from_tensor_slices((enc_train, dec_train))\n",
    "train_dataset = train_dataset.shuffle(BUFFER_SIZE)\n",
    "train_dataset = train_dataset.batch(BATCH_SIZE, drop_remainder=True)\n",
    "\n",
    "val_dataset = tf.data.Dataset.from_tensor_slices((enc_val, dec_val))\n",
    "val_dataset = val_dataset.shuffle(BUFFER_SIZE)\n",
    "val_dataset = val_dataset.batch(BATCH_SIZE, drop_remainder=True)"
   ]
  },
  {
   "cell_type": "markdown",
   "id": "fcc92fe3",
   "metadata": {},
   "source": [
    "### 모델 생성"
   ]
  },
  {
   "cell_type": "code",
   "execution_count": 6,
   "id": "eae3ec61",
   "metadata": {},
   "outputs": [],
   "source": [
    "class TextGenerator(tf.keras.Model):\n",
    "    def __init__(self, vocab_size, embedding_size, hidden_size):\n",
    "        super().__init__()\n",
    "        self.embedding = tf.keras.layers.Embedding(vocab_size, embedding_size)\n",
    "        self.rnn_1 = tf.keras.layers.LSTM(hidden_size, return_sequences=True)\n",
    "        self.rnn_2 = tf.keras.layers.LSTM(hidden_size, return_sequences=True)\n",
    "        self.linear = tf.keras.layers.Dense(vocab_size)\n",
    "        \n",
    "    def call(self,x):\n",
    "        out = self.embedding(x)\n",
    "        out = self.rnn_1(out)\n",
    "        out = self.rnn_2(out)\n",
    "        out = self.linear(out)\n",
    "        \n",
    "        return out"
   ]
  },
  {
   "cell_type": "markdown",
   "id": "aba9a35c",
   "metadata": {},
   "source": [
    "### <span style='color:red'> __hidden_size 조절__ </span>\n",
    "---\n",
    "1. 2048\n",
    "2. 512"
   ]
  },
  {
   "cell_type": "markdown",
   "id": "82f7d90a",
   "metadata": {},
   "source": [
    "#### 1. hidden_size=2048"
   ]
  },
  {
   "cell_type": "code",
   "execution_count": 7,
   "id": "7edfc876",
   "metadata": {},
   "outputs": [],
   "source": [
    "embedding_size = 256\n",
    "hidden_size = 2048\n",
    "model = TextGenerator(tokenizer.num_words + 1, embedding_size , hidden_size) "
   ]
  },
  {
   "cell_type": "code",
   "execution_count": 8,
   "id": "54382b48",
   "metadata": {},
   "outputs": [
    {
     "name": "stdout",
     "output_type": "stream",
     "text": [
      "Epoch 1/10\n",
      "546/546 [==============================] - 420s 730ms/step - loss: 2.7668 - val_loss: 2.4407\n",
      "Epoch 2/10\n",
      "546/546 [==============================] - 867s 2s/step - loss: 2.3028 - val_loss: 2.2204\n",
      "Epoch 3/10\n",
      "546/546 [==============================] - 868s 2s/step - loss: 2.0508 - val_loss: 2.0650\n",
      "Epoch 4/10\n",
      "546/546 [==============================] - 860s 2s/step - loss: 1.8060 - val_loss: 1.9537\n",
      "Epoch 5/10\n",
      "546/546 [==============================] - 632s 1s/step - loss: 1.5749 - val_loss: 1.8719\n",
      "Epoch 6/10\n",
      "546/546 [==============================] - 404s 740ms/step - loss: 1.3667 - val_loss: 1.8222\n",
      "Epoch 7/10\n",
      "546/546 [==============================] - 405s 741ms/step - loss: 1.1883 - val_loss: 1.7913\n",
      "Epoch 8/10\n",
      "546/546 [==============================] - 405s 742ms/step - loss: 1.0406 - val_loss: 1.7829\n",
      "Epoch 9/10\n",
      "546/546 [==============================] - 407s 745ms/step - loss: 0.9240 - val_loss: 1.7868\n",
      "Epoch 10/10\n",
      "546/546 [==============================] - 407s 746ms/step - loss: 0.8418 - val_loss: 1.8051\n"
     ]
    }
   ],
   "source": [
    "optimizer = tf.keras.optimizers.Adam()\n",
    "loss = tf.keras.losses.SparseCategoricalCrossentropy(from_logits=True,\n",
    "                                                    reduction='none')\n",
    "model.compile(loss=loss, optimizer=optimizer)\n",
    "history = model.fit(train_dataset, epochs=10, validation_data=val_dataset)"
   ]
  },
  {
   "cell_type": "code",
   "execution_count": 9,
   "id": "44a3c032",
   "metadata": {},
   "outputs": [
    {
     "data": {
      "image/png": "[encoded data removed]",
      "text/plain": [
       "<Figure size 432x288 with 2 Axes>"
      ]
     },
     "metadata": {
      "needs_background": "light"
     },
     "output_type": "display_data"
    }
   ],
   "source": [
    "import matplotlib.pyplot as plt\n",
    "\n",
    "fig, loss_ax = plt.subplots()\n",
    "\n",
    "acc_ax = loss_ax.twinx()\n",
    "\n",
    "loss_ax.plot(history.history['loss'], 'y', label='train loss')\n",
    "loss_ax.plot(history.history['val_loss'], 'r', label='val loss')\n",
    "loss_ax.set_xlabel('epoch')\n",
    "loss_ax.set_ylabel('loss')\n",
    "loss_ax.legend(loc='best')\n",
    "plt.show()"
   ]
  },
  {
   "cell_type": "markdown",
   "id": "87fc7439",
   "metadata": {},
   "source": [
    "* hidden_size가 클수록 데이터 내의 더 복잡한 패턴을 학습할 수 있음. 그러나, 너무 큰 값을 설정해 overfitting 문제를 야기함. 뿐만 아니라, 학습 속도가 매우 느림."
   ]
  },
  {
   "cell_type": "markdown",
   "id": "16c8c34a",
   "metadata": {},
   "source": [
    "#### 2. hidden_size=512"
   ]
  },
  {
   "cell_type": "code",
   "execution_count": 10,
   "id": "e9f52e47",
   "metadata": {},
   "outputs": [],
   "source": [
    "embedding_size = 256\n",
    "hidden_size = 512\n",
    "model = TextGenerator(tokenizer.num_words + 1, embedding_size , hidden_size) "
   ]
  },
  {
   "cell_type": "code",
   "execution_count": 11,
   "id": "8635596b",
   "metadata": {},
   "outputs": [
    {
     "name": "stdout",
     "output_type": "stream",
     "text": [
      "Epoch 1/10\n",
      "546/546 [==============================] - 64s 112ms/step - loss: 3.1297 - val_loss: 2.7859\n",
      "Epoch 2/10\n",
      "546/546 [==============================] - 60s 110ms/step - loss: 2.6685 - val_loss: 2.5689\n",
      "Epoch 3/10\n",
      "546/546 [==============================] - 61s 111ms/step - loss: 2.4944 - val_loss: 2.4587\n",
      "Epoch 4/10\n",
      "546/546 [==============================] - 61s 112ms/step - loss: 2.3969 - val_loss: 2.3850\n",
      "Epoch 5/10\n",
      "546/546 [==============================] - 61s 112ms/step - loss: 2.3171 - val_loss: 2.3221\n",
      "Epoch 6/10\n",
      "546/546 [==============================] - 61s 112ms/step - loss: 2.2446 - val_loss: 2.2690\n",
      "Epoch 7/10\n",
      "546/546 [==============================] - 61s 112ms/step - loss: 2.1818 - val_loss: 2.2259\n",
      "Epoch 8/10\n",
      "546/546 [==============================] - 61s 112ms/step - loss: 2.1249 - val_loss: 2.1911\n",
      "Epoch 9/10\n",
      "546/546 [==============================] - 61s 112ms/step - loss: 2.0717 - val_loss: 2.1575\n",
      "Epoch 10/10\n",
      "546/546 [==============================] - 61s 112ms/step - loss: 2.0200 - val_loss: 2.1290\n"
     ]
    }
   ],
   "source": [
    "optimizer = tf.keras.optimizers.Adam()\n",
    "loss = tf.keras.losses.SparseCategoricalCrossentropy(from_logits=True,\n",
    "                                                    reduction='none')\n",
    "model.compile(loss=loss, optimizer=optimizer)\n",
    "history = model.fit(train_dataset, epochs=10, validation_data=val_dataset)"
   ]
  },
  {
   "cell_type": "code",
   "execution_count": 12,
   "id": "99e04b7b",
   "metadata": {},
   "outputs": [
    {
     "data": {
      "image/png": "[encoded data removed]",
      "text/plain": [
       "<Figure size 432x288 with 2 Axes>"
      ]
     },
     "metadata": {
      "needs_background": "light"
     },
     "output_type": "display_data"
    }
   ],
   "source": [
    "import matplotlib.pyplot as plt\n",
    "\n",
    "fig, loss_ax = plt.subplots()\n",
    "\n",
    "acc_ax = loss_ax.twinx()\n",
    "\n",
    "loss_ax.plot(history.history['loss'], 'y', label='train loss')\n",
    "loss_ax.plot(history.history['val_loss'], 'r', label='val loss')\n",
    "loss_ax.set_xlabel('epoch')\n",
    "loss_ax.set_ylabel('loss')\n",
    "loss_ax.legend(loc='best')\n",
    "plt.show()"
   ]
  },
  {
   "cell_type": "markdown",
   "id": "76c80d42",
   "metadata": {},
   "source": [
    "* loss와 val_loss 차이가 0.1밖에 나지 않음. overfitting을 효과적으로 방지함과 동시에 학습 속도가 매우 빠름"
   ]
  },
  {
   "cell_type": "code",
   "execution_count": null,
   "id": "8993aeef",
   "metadata": {},
   "outputs": [],
   "source": []
  },
  {
   "cell_type": "code",
   "execution_count": null,
   "id": "2890c25f",
   "metadata": {},
   "outputs": [],
   "source": []
  }
 ],
 "metadata": {
  "kernelspec": {
   "display_name": "Python 3 (ipykernel)",
   "language": "python",
   "name": "python3"
  },
  "language_info": {
   "codemirror_mode": {
    "name": "ipython",
    "version": 3
   },
   "file_extension": ".py",
   "mimetype": "text/x-python",
   "name": "python",
   "nbconvert_exporter": "python",
   "pygments_lexer": "ipython3",
   "version": "3.9.7"
  }
 },
 "nbformat": 4,
 "nbformat_minor": 5
}
