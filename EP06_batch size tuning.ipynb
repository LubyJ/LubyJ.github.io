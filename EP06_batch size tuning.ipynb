{
 "cells": [
  {
   "cell_type": "markdown",
   "id": "4b201eb5",
   "metadata": {},
   "source": [
    "### 데이터 읽어오기"
   ]
  },
  {
   "cell_type": "code",
   "execution_count": 1,
   "id": "9d82bcc5",
   "metadata": {},
   "outputs": [],
   "source": [
    "import glob\n",
    "import os, re\n",
    "txt_file_path = os.getenv('HOME')+'/aiffel/lyricist/data/lyrics/*' \n",
    "txt_list = glob.glob(txt_file_path)\n",
    "\n",
    "raw_corpus = []\n",
    "\n",
    "for txt_file in txt_list:\n",
    "    with open(txt_file, \"r\") as f:\n",
    "        raw = f.read().splitlines()\n",
    "        raw_corpus.extend(raw)"
   ]
  },
  {
   "cell_type": "markdown",
   "id": "5427fb9f",
   "metadata": {},
   "source": [
    "### 데이터 정제"
   ]
  },
  {
   "cell_type": "code",
   "execution_count": 2,
   "id": "36fa04d0",
   "metadata": {},
   "outputs": [
    {
     "data": {
      "text/plain": [
       "['<start> you ever want something <end>',\n",
       " '<start> that you know you shouldn t have <end>',\n",
       " '<start> the more you know you shouldn t have it , <end>',\n",
       " '<start> the more you want it <end>',\n",
       " '<start> and then one day you get it , <end>']"
      ]
     },
     "execution_count": 2,
     "metadata": {},
     "output_type": "execute_result"
    }
   ],
   "source": [
    "def preprocess_sentence(sentence):\n",
    "    sentence = sentence.lower().strip()\n",
    "    sentence = re.sub(f\"([?.!,¿])\", r\" \\1 \", sentence)\n",
    "    sentence = re.sub(r'[\" \"]+', \" \", sentence) # 3\n",
    "    sentence = re.sub(r\"[^a-zA-Z?.!,¿]+\", \" \", sentence) # 4\n",
    "    sentence = sentence.strip() # 5\n",
    "    sentence = '<start> ' + sentence + ' <end>' # 6\n",
    "    return sentence\n",
    "\n",
    "corpus = []\n",
    "\n",
    "for sentence in raw_corpus:\n",
    "    if len(sentence) == 0: continue\n",
    "    if sentence[-1] == \"]\": continue\n",
    "        \n",
    "    preprocessed_sentence = preprocess_sentence(sentence)\n",
    "    corpus.append(preprocessed_sentence)\n",
    "    \n",
    "corpus[:5]"
   ]
  },
  {
   "cell_type": "markdown",
   "id": "8dffc6fa",
   "metadata": {},
   "source": [
    "### 데이터셋 토큰화"
   ]
  },
  {
   "cell_type": "code",
   "execution_count": 3,
   "id": "e65705b8",
   "metadata": {},
   "outputs": [
    {
     "name": "stdout",
     "output_type": "stream",
     "text": [
      "[[  2   7 156 ...   0   0   0]\n",
      " [  2  17   7 ...   0   0   0]\n",
      " [  2   6  98 ...   0   0   0]\n",
      " ...\n",
      " [  2 310   1 ...   0   0   0]\n",
      " [  2 729   5 ...   0   0   0]\n",
      " [  2 729   5 ...   0   0   0]] <keras_preprocessing.text.Tokenizer object at 0x7f80a0b55100>\n"
     ]
    }
   ],
   "source": [
    "import tensorflow as tf\n",
    "def tokenize(corpus):\n",
    "    tokenizer = tf.keras.preprocessing.text.Tokenizer(num_words=12000,\n",
    "                                                     filters=' ',\n",
    "                                                     oov_token='<unk>')\n",
    "    tokenizer.fit_on_texts(corpus)\n",
    "    tensor = tokenizer.texts_to_sequences(corpus)\n",
    "    tensor = tf.keras.preprocessing.sequence.pad_sequences(tensor,\n",
    "                                                          padding='post',\n",
    "                                                          maxlen=20)\n",
    "    print(tensor, tokenizer)\n",
    "    return tensor, tokenizer\n",
    "\n",
    "tensor, tokenizer = tokenize(corpus)"
   ]
  },
  {
   "cell_type": "markdown",
   "id": "7724baf4",
   "metadata": {},
   "source": [
    "### 평가 데이터셋 분리"
   ]
  },
  {
   "cell_type": "code",
   "execution_count": 4,
   "id": "1d7dc4de",
   "metadata": {},
   "outputs": [],
   "source": [
    "# source, target input 생성\n",
    "src_input = tensor[:,:-1]\n",
    "tgt_input = tensor[:, 1:]\n",
    "\n",
    "from sklearn.model_selection import train_test_split\n",
    "enc_train, enc_val, dec_train, dec_val = train_test_split(src_input, tgt_input, \n",
    "                                                          test_size=0.2,\n",
    "                                                         random_state=2023)"
   ]
  },
  {
   "cell_type": "markdown",
   "id": "1d551929",
   "metadata": {},
   "source": [
    "### 모델 생성"
   ]
  },
  {
   "cell_type": "code",
   "execution_count": 5,
   "id": "fcc986d4",
   "metadata": {},
   "outputs": [],
   "source": [
    "class TextGenerator(tf.keras.Model):\n",
    "    def __init__(self, vocab_size, embedding_size, hidden_size):\n",
    "        super().__init__()\n",
    "        self.embedding = tf.keras.layers.Embedding(vocab_size, embedding_size)\n",
    "        self.rnn_1 = tf.keras.layers.LSTM(hidden_size, return_sequences=True)\n",
    "        self.rnn_2 = tf.keras.layers.LSTM(hidden_size, return_sequences=True)\n",
    "        self.linear = tf.keras.layers.Dense(vocab_size)\n",
    "        \n",
    "    def call(self,x):\n",
    "        out = self.embedding(x)\n",
    "        out = self.rnn_1(out)\n",
    "        out = self.rnn_2(out)\n",
    "        out = self.linear(out)\n",
    "        \n",
    "        return out\n",
    "    \n",
    "embedding_size = 256\n",
    "hidden_size = 1024 \n",
    "model = TextGenerator(tokenizer.num_words + 1, embedding_size , hidden_size) "
   ]
  },
  {
   "cell_type": "markdown",
   "id": "2707c581",
   "metadata": {},
   "source": [
    "### train_dataset 객체 생성\n",
    "---\n",
    "<span style='color:red'> __BATCH_SIZE 조절__ </span>\n",
    "1. 512\n",
    "2. 256\n",
    "3. 128\n",
    "\n",
    "* train_dataset과 val_dataset 모두 바꿈"
   ]
  },
  {
   "cell_type": "markdown",
   "id": "a7bd0057",
   "metadata": {},
   "source": [
    "#### 1. BATCH_SIZE = 512"
   ]
  },
  {
   "cell_type": "code",
   "execution_count": 8,
   "id": "7b630b3c",
   "metadata": {},
   "outputs": [],
   "source": [
    "BUFFER_SIZE = 139790\n",
    "BATCH_SIZE = 512\n",
    "\n",
    "VOCAB_SIZE = tokenizer.num_words + 1   \n",
    "\n",
    "train_dataset = tf.data.Dataset.from_tensor_slices((enc_train, dec_train))\n",
    "train_dataset = train_dataset.shuffle(BUFFER_SIZE)\n",
    "train_dataset = train_dataset.batch(BATCH_SIZE, drop_remainder=True)\n",
    "\n",
    "val_dataset = tf.data.Dataset.from_tensor_slices((enc_val, dec_val))\n",
    "val_dataset = val_dataset.shuffle(BUFFER_SIZE)\n",
    "val_dataset = val_dataset.batch(BATCH_SIZE, drop_remainder=True)"
   ]
  },
  {
   "cell_type": "code",
   "execution_count": 9,
   "id": "d2c75720",
   "metadata": {},
   "outputs": [
    {
     "name": "stdout",
     "output_type": "stream",
     "text": [
      "Epoch 1/10\n",
      "273/273 [==============================] - 295s 1s/step - loss: 2.9543 - val_loss: 2.6764\n",
      "Epoch 2/10\n",
      "273/273 [==============================] - 294s 1s/step - loss: 2.5587 - val_loss: 2.4963\n",
      "Epoch 3/10\n",
      "273/273 [==============================] - 294s 1s/step - loss: 2.4202 - val_loss: 2.3999\n",
      "Epoch 4/10\n",
      "273/273 [==============================] - 294s 1s/step - loss: 2.3114 - val_loss: 2.3220\n",
      "Epoch 5/10\n",
      "273/273 [==============================] - 294s 1s/step - loss: 2.2103 - val_loss: 2.2540\n",
      "Epoch 6/10\n",
      "273/273 [==============================] - 294s 1s/step - loss: 2.1192 - val_loss: 2.2012\n",
      "Epoch 7/10\n",
      "273/273 [==============================] - 294s 1s/step - loss: 2.0370 - val_loss: 2.1553\n",
      "Epoch 8/10\n",
      "273/273 [==============================] - 262s 959ms/step - loss: 1.9608 - val_loss: 2.1152\n",
      "Epoch 9/10\n",
      "273/273 [==============================] - 251s 918ms/step - loss: 1.8902 - val_loss: 2.0861\n",
      "Epoch 10/10\n",
      "273/273 [==============================] - 205s 751ms/step - loss: 1.8251 - val_loss: 2.0575\n"
     ]
    }
   ],
   "source": [
    "optimizer = tf.keras.optimizers.Adam()\n",
    "loss = tf.keras.losses.SparseCategoricalCrossentropy(from_logits=True,\n",
    "                                                    reduction='none')\n",
    "model.compile(loss=loss, optimizer=optimizer)\n",
    "history = model.fit(train_dataset, epochs=10, validation_data=val_dataset)"
   ]
  },
  {
   "cell_type": "code",
   "execution_count": 10,
   "id": "da5a4c35",
   "metadata": {},
   "outputs": [
    {
     "data": {
      "image/png": "[encoded data removed]",
      "text/plain": [
       "<Figure size 432x288 with 2 Axes>"
      ]
     },
     "metadata": {
      "needs_background": "light"
     },
     "output_type": "display_data"
    }
   ],
   "source": [
    "import matplotlib.pyplot as plt\n",
    "\n",
    "fig, loss_ax = plt.subplots()\n",
    "\n",
    "acc_ax = loss_ax.twinx()\n",
    "\n",
    "loss_ax.plot(history.history['loss'], 'y', label='train loss')\n",
    "loss_ax.plot(history.history['val_loss'], 'r', label='val loss')\n",
    "loss_ax.set_xlabel('epoch')\n",
    "loss_ax.set_ylabel('loss')\n",
    "loss_ax.legend(loc='best')\n",
    "plt.show()"
   ]
  },
  {
   "cell_type": "markdown",
   "id": "3c15229b",
   "metadata": {},
   "source": [
    "* 너어어어무 오래걸림 1step에 1초"
   ]
  },
  {
   "cell_type": "markdown",
   "id": "4306bf4e",
   "metadata": {},
   "source": [
    "#### 2. BATCH_SIZE = 256"
   ]
  },
  {
   "cell_type": "code",
   "execution_count": 14,
   "id": "99ee7a82",
   "metadata": {},
   "outputs": [],
   "source": [
    "BUFFER_SIZE = 139790\n",
    "BATCH_SIZE = 256\n",
    "\n",
    "VOCAB_SIZE = tokenizer.num_words + 1   \n",
    "\n",
    "train_dataset2 = tf.data.Dataset.from_tensor_slices((enc_train, dec_train))\n",
    "train_dataset2 = train_dataset2.shuffle(BUFFER_SIZE)\n",
    "train_dataset2 = train_dataset2.batch(BATCH_SIZE, drop_remainder=True)\n",
    "\n",
    "val_dataset2 = tf.data.Dataset.from_tensor_slices((enc_val, dec_val))\n",
    "val_dataset2 = val_dataset2.shuffle(BUFFER_SIZE)\n",
    "val_dataset2 = val_dataset2.batch(BATCH_SIZE, drop_remainder=True)"
   ]
  },
  {
   "cell_type": "code",
   "execution_count": 15,
   "id": "6edb5f5e",
   "metadata": {},
   "outputs": [
    {
     "name": "stdout",
     "output_type": "stream",
     "text": [
      "Epoch 1/10\n",
      "546/546 [==============================] - 131s 238ms/step - loss: 1.1456 - val_loss: 1.9500\n",
      "Epoch 2/10\n",
      "546/546 [==============================] - 133s 243ms/step - loss: 1.0802 - val_loss: 1.9515\n",
      "Epoch 3/10\n",
      "546/546 [==============================] - 184s 337ms/step - loss: 1.0302 - val_loss: 1.9552\n",
      "Epoch 4/10\n",
      "546/546 [==============================] - 256s 468ms/step - loss: 0.9878 - val_loss: 1.9632\n",
      "Epoch 5/10\n",
      "546/546 [==============================] - 401s 734ms/step - loss: 0.9501 - val_loss: 1.9736\n",
      "Epoch 6/10\n",
      "546/546 [==============================] - 435s 797ms/step - loss: 0.9165 - val_loss: 1.9834\n",
      "Epoch 7/10\n",
      "546/546 [==============================] - 439s 804ms/step - loss: 0.8860 - val_loss: 1.9952\n",
      "Epoch 8/10\n",
      "546/546 [==============================] - 440s 806ms/step - loss: 0.8578 - val_loss: 2.0099\n",
      "Epoch 9/10\n",
      "546/546 [==============================] - 439s 804ms/step - loss: 0.8333 - val_loss: 2.0220\n",
      "Epoch 10/10\n",
      "546/546 [==============================] - 439s 803ms/step - loss: 0.8106 - val_loss: 2.0389\n"
     ]
    }
   ],
   "source": [
    "history = model.fit(train_dataset2, epochs=10, validation_data=val_dataset2)"
   ]
  },
  {
   "cell_type": "code",
   "execution_count": 16,
   "id": "18ce4450",
   "metadata": {},
   "outputs": [
    {
     "data": {
      "image/png": "[encoded data removed]",
      "text/plain": [
       "<Figure size 432x288 with 2 Axes>"
      ]
     },
     "metadata": {
      "needs_background": "light"
     },
     "output_type": "display_data"
    }
   ],
   "source": [
    "import matplotlib.pyplot as plt\n",
    "\n",
    "fig, loss_ax = plt.subplots()\n",
    "\n",
    "acc_ax = loss_ax.twinx()\n",
    "\n",
    "loss_ax.plot(history.history['loss'], 'y', label='train loss')\n",
    "loss_ax.plot(history.history['val_loss'], 'r', label='val loss')\n",
    "loss_ax.set_xlabel('epoch')\n",
    "loss_ax.set_ylabel('loss')\n",
    "loss_ax.legend(loc='best')\n",
    "plt.show()"
   ]
  },
  {
   "cell_type": "code",
   "execution_count": null,
   "id": "5173d09f",
   "metadata": {},
   "outputs": [],
   "source": []
  },
  {
   "cell_type": "code",
   "execution_count": null,
   "id": "47dc5014",
   "metadata": {},
   "outputs": [],
   "source": []
  },
  {
   "cell_type": "markdown",
   "id": "6e1ec2d1",
   "metadata": {},
   "source": [
    "#### 3. BATCH_SIZE = 128"
   ]
  },
  {
   "cell_type": "code",
   "execution_count": 11,
   "id": "00a057e2",
   "metadata": {},
   "outputs": [],
   "source": [
    "BUFFER_SIZE = 139790\n",
    "BATCH_SIZE = 128\n",
    "\n",
    "VOCAB_SIZE = tokenizer.num_words + 1   \n",
    "\n",
    "train_dataset3 = tf.data.Dataset.from_tensor_slices((enc_train, dec_train))\n",
    "train_dataset3 = train_dataset3.shuffle(BUFFER_SIZE)\n",
    "train_dataset3 = train_dataset3.batch(BATCH_SIZE, drop_remainder=True)\n",
    "\n",
    "val_dataset3 = tf.data.Dataset.from_tensor_slices((enc_val, dec_val))\n",
    "val_dataset3 = val_dataset3.shuffle(BUFFER_SIZE)\n",
    "val_dataset3 = val_dataset3.batch(BATCH_SIZE, drop_remainder=True)"
   ]
  },
  {
   "cell_type": "code",
   "execution_count": 12,
   "id": "77916f51",
   "metadata": {},
   "outputs": [
    {
     "name": "stdout",
     "output_type": "stream",
     "text": [
      "Epoch 1/10\n",
      "1092/1092 [==============================] - 300s 274ms/step - loss: 1.7734 - val_loss: 2.0432\n",
      "Epoch 2/10\n",
      "1092/1092 [==============================] - 299s 274ms/step - loss: 1.7265 - val_loss: 2.0240\n",
      "Epoch 3/10\n",
      "1092/1092 [==============================] - 298s 273ms/step - loss: 1.6647 - val_loss: 2.0041\n",
      "Epoch 4/10\n",
      "1092/1092 [==============================] - 299s 273ms/step - loss: 1.5958 - val_loss: 1.9887\n",
      "Epoch 5/10\n",
      "1092/1092 [==============================] - 313s 287ms/step - loss: 1.5260 - val_loss: 1.9748\n",
      "Epoch 6/10\n",
      "1092/1092 [==============================] - 298s 273ms/step - loss: 1.4575 - val_loss: 1.9679\n",
      "Epoch 7/10\n",
      "1092/1092 [==============================] - 298s 273ms/step - loss: 1.3922 - val_loss: 1.9584\n",
      "Epoch 8/10\n",
      "1092/1092 [==============================] - 298s 273ms/step - loss: 1.3294 - val_loss: 1.9538\n",
      "Epoch 9/10\n",
      "1092/1092 [==============================] - 196s 179ms/step - loss: 1.2693 - val_loss: 1.9553\n",
      "Epoch 10/10\n",
      "1092/1092 [==============================] - 137s 126ms/step - loss: 1.2120 - val_loss: 1.9561\n"
     ]
    }
   ],
   "source": [
    "history = model.fit(train_dataset3, epochs=10, validation_data=val_dataset3)"
   ]
  },
  {
   "cell_type": "code",
   "execution_count": 13,
   "id": "6bf90264",
   "metadata": {},
   "outputs": [
    {
     "data": {
      "image/png": "[encoded data removed]",
      "text/plain": [
       "<Figure size 432x288 with 2 Axes>"
      ]
     },
     "metadata": {
      "needs_background": "light"
     },
     "output_type": "display_data"
    }
   ],
   "source": [
    "import matplotlib.pyplot as plt\n",
    "\n",
    "fig, loss_ax = plt.subplots()\n",
    "\n",
    "acc_ax = loss_ax.twinx()\n",
    "\n",
    "loss_ax.plot(history.history['loss'], 'y', label='train loss')\n",
    "loss_ax.plot(history.history['val_loss'], 'r', label='val loss')\n",
    "loss_ax.set_xlabel('epoch')\n",
    "loss_ax.set_ylabel('loss')\n",
    "loss_ax.legend(loc='best')\n",
    "plt.show()"
   ]
  },
  {
   "cell_type": "markdown",
   "id": "8cec7df9",
   "metadata": {},
   "source": [
    "batch_size가 너무 작을 경우 overfitting 발생"
   ]
  },
  {
   "cell_type": "code",
   "execution_count": null,
   "id": "3c5d703b",
   "metadata": {},
   "outputs": [],
   "source": []
  },
  {
   "cell_type": "code",
   "execution_count": null,
   "id": "51b7f8e1",
   "metadata": {},
   "outputs": [],
   "source": []
  }
 ],
 "metadata": {
  "kernelspec": {
   "display_name": "Python 3 (ipykernel)",
   "language": "python",
   "name": "python3"
  },
  "language_info": {
   "codemirror_mode": {
    "name": "ipython",
    "version": 3
   },
   "file_extension": ".py",
   "mimetype": "text/x-python",
   "name": "python",
   "nbconvert_exporter": "python",
   "pygments_lexer": "ipython3",
   "version": "3.9.7"
  }
 },
 "nbformat": 4,
 "nbformat_minor": 5
}
