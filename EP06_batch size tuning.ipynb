{
 "cells": [
  {
   "cell_type": "markdown",
   "id": "70ccd756",
   "metadata": {},
   "source": [
    "### 데이터 읽어오기"
   ]
  },
  {
   "cell_type": "code",
   "execution_count": 1,
   "id": "5d30771b",
   "metadata": {},
   "outputs": [],
   "source": [
    "import glob\n",
    "import os, re\n",
    "txt_file_path = os.getenv('HOME')+'/aiffel/lyricist/data/lyrics/*' \n",
    "txt_list = glob.glob(txt_file_path)\n",
    "\n",
    "raw_corpus = []\n",
    "\n",
    "for txt_file in txt_list:\n",
    "    with open(txt_file, \"r\") as f:\n",
    "        raw = f.read().splitlines()\n",
    "        raw_corpus.extend(raw)"
   ]
  },
  {
   "cell_type": "markdown",
   "id": "839a6676",
   "metadata": {},
   "source": [
    "### 데이터 정제"
   ]
  },
  {
   "cell_type": "code",
   "execution_count": 2,
   "id": "5ec812b3",
   "metadata": {},
   "outputs": [
    {
     "data": {
      "text/plain": [
       "['<start> you ever want something <end>',\n",
       " '<start> that you know you shouldn t have <end>',\n",
       " '<start> the more you know you shouldn t have it , <end>',\n",
       " '<start> the more you want it <end>',\n",
       " '<start> and then one day you get it , <end>']"
      ]
     },
     "execution_count": 2,
     "metadata": {},
     "output_type": "execute_result"
    }
   ],
   "source": [
    "def preprocess_sentence(sentence):\n",
    "    sentence = sentence.lower().strip()\n",
    "    sentence = re.sub(f\"([?.!,¿])\", r\" \\1 \", sentence)\n",
    "    sentence = re.sub(r'[\" \"]+', \" \", sentence) # 3\n",
    "    sentence = re.sub(r\"[^a-zA-Z?.!,¿]+\", \" \", sentence) # 4\n",
    "    sentence = sentence.strip() # 5\n",
    "    sentence = '<start> ' + sentence + ' <end>' # 6\n",
    "    return sentence\n",
    "\n",
    "corpus = []\n",
    "\n",
    "for sentence in raw_corpus:\n",
    "    if len(sentence) == 0: continue\n",
    "    if sentence[-1] == \"]\": continue\n",
    "        \n",
    "    preprocessed_sentence = preprocess_sentence(sentence)\n",
    "    corpus.append(preprocessed_sentence)\n",
    "    \n",
    "corpus[:5]"
   ]
  },
  {
   "cell_type": "markdown",
   "id": "c77f4362",
   "metadata": {},
   "source": [
    "### 데이터셋 토큰화"
   ]
  },
  {
   "cell_type": "code",
   "execution_count": 3,
   "id": "813cdb29",
   "metadata": {},
   "outputs": [
    {
     "name": "stdout",
     "output_type": "stream",
     "text": [
      "[[  2   7 156 ...   0   0   0]\n",
      " [  2  17   7 ...   0   0   0]\n",
      " [  2   6  98 ...   0   0   0]\n",
      " ...\n",
      " [  2 310   1 ...   0   0   0]\n",
      " [  2 729   5 ...   0   0   0]\n",
      " [  2 729   5 ...   0   0   0]] <keras_preprocessing.text.Tokenizer object at 0x7fd894267370>\n"
     ]
    }
   ],
   "source": [
    "import tensorflow as tf\n",
    "def tokenize(corpus):\n",
    "    tokenizer = tf.keras.preprocessing.text.Tokenizer(num_words=12000,\n",
    "                                                     filters=' ',\n",
    "                                                     oov_token='<unk>')\n",
    "    tokenizer.fit_on_texts(corpus)\n",
    "    tensor = tokenizer.texts_to_sequences(corpus)\n",
    "    tensor = tf.keras.preprocessing.sequence.pad_sequences(tensor,\n",
    "                                                          padding='post',\n",
    "                                                          maxlen=20)\n",
    "    print(tensor, tokenizer)\n",
    "    return tensor, tokenizer\n",
    "\n",
    "tensor, tokenizer = tokenize(corpus)"
   ]
  },
  {
   "cell_type": "markdown",
   "id": "91250e31",
   "metadata": {},
   "source": [
    "### 평가 데이터셋 분리"
   ]
  },
  {
   "cell_type": "code",
   "execution_count": 4,
   "id": "9371cabd",
   "metadata": {},
   "outputs": [],
   "source": [
    "# source, target input 생성\n",
    "src_input = tensor[:,:-1]\n",
    "tgt_input = tensor[:, 1:]\n",
    "\n",
    "from sklearn.model_selection import train_test_split\n",
    "enc_train, enc_val, dec_train, dec_val = train_test_split(src_input, tgt_input, \n",
    "                                                          test_size=0.2,\n",
    "                                                         random_state=2023)"
   ]
  },
  {
   "cell_type": "markdown",
   "id": "f623f7ff",
   "metadata": {},
   "source": [
    "### 모델 생성"
   ]
  },
  {
   "cell_type": "code",
   "execution_count": 5,
   "id": "a95393a7",
   "metadata": {},
   "outputs": [],
   "source": [
    "class TextGenerator(tf.keras.Model):\n",
    "    def __init__(self, vocab_size, embedding_size, hidden_size):\n",
    "        super().__init__()\n",
    "        self.embedding = tf.keras.layers.Embedding(vocab_size, embedding_size)\n",
    "        self.rnn_1 = tf.keras.layers.LSTM(hidden_size, return_sequences=True)\n",
    "        self.rnn_2 = tf.keras.layers.LSTM(hidden_size, return_sequences=True)\n",
    "        self.linear = tf.keras.layers.Dense(vocab_size)\n",
    "        \n",
    "    def call(self,x):\n",
    "        out = self.embedding(x)\n",
    "        out = self.rnn_1(out)\n",
    "        out = self.rnn_2(out)\n",
    "        out = self.linear(out)\n",
    "        \n",
    "        return out\n",
    "    \n",
    "embedding_size = 256\n",
    "hidden_size = 1024 \n",
    "model = TextGenerator(tokenizer.num_words + 1, embedding_size , hidden_size) "
   ]
  },
  {
   "cell_type": "markdown",
   "id": "efe00fd8",
   "metadata": {},
   "source": [
    "### train_dataset 객체 생성\n",
    "---\n",
    "<span style='color:red'> __BATCH_SIZE 조절__ </span>\n",
    "1. 512\n",
    "2. 256\n",
    "3. 128\n",
    "\n",
    "* train_dataset과 val_dataset 모두 바꿈\n",
    "* buffer_size를 train_dataset 크기로 설정했으나, buffer_size 파라미터 조절 실험시 train_dataset과 같은 크기를 사용할 경우 overfitting이 발생함.\n",
    "* 그래서인지 batchsize를 기존 값인 256을 사용해도 overfitting 문제가 발생함.\n",
    "* 이에, buffersize를 len(src_input)으로 변경해 다시 돌림"
   ]
  },
  {
   "cell_type": "markdown",
   "id": "b0c20039",
   "metadata": {},
   "source": [
    "#### 1. BATCH_SIZE = 512"
   ]
  },
  {
   "cell_type": "code",
   "execution_count": 6,
   "id": "db909fb8",
   "metadata": {},
   "outputs": [],
   "source": [
    "BUFFER_SIZE = len(src_input)\n",
    "BATCH_SIZE = 512\n",
    "\n",
    "VOCAB_SIZE = tokenizer.num_words + 1   \n",
    "\n",
    "train_dataset = tf.data.Dataset.from_tensor_slices((enc_train, dec_train))\n",
    "train_dataset = train_dataset.shuffle(BUFFER_SIZE)\n",
    "train_dataset = train_dataset.batch(BATCH_SIZE, drop_remainder=True)\n",
    "\n",
    "val_dataset = tf.data.Dataset.from_tensor_slices((enc_val, dec_val))\n",
    "val_dataset = val_dataset.shuffle(BUFFER_SIZE)\n",
    "val_dataset = val_dataset.batch(BATCH_SIZE, drop_remainder=True)"
   ]
  },
  {
   "cell_type": "code",
   "execution_count": 7,
   "id": "95a8ad0e",
   "metadata": {},
   "outputs": [
    {
     "name": "stdout",
     "output_type": "stream",
     "text": [
      "Epoch 1/10\n",
      "273/273 [==============================] - 166s 587ms/step - loss: 3.1437 - val_loss: 2.7443\n",
      "Epoch 2/10\n",
      "273/273 [==============================] - 159s 584ms/step - loss: 2.6545 - val_loss: 2.5818\n",
      "Epoch 3/10\n",
      "273/273 [==============================] - 160s 586ms/step - loss: 2.5143 - val_loss: 2.4783\n",
      "Epoch 4/10\n",
      "273/273 [==============================] - 160s 586ms/step - loss: 2.4181 - val_loss: 2.4083\n",
      "Epoch 5/10\n",
      "273/273 [==============================] - 159s 583ms/step - loss: 2.3395 - val_loss: 2.3487\n",
      "Epoch 6/10\n",
      "273/273 [==============================] - 160s 586ms/step - loss: 2.2716 - val_loss: 2.3018\n",
      "Epoch 7/10\n",
      "273/273 [==============================] - 161s 588ms/step - loss: 2.2116 - val_loss: 2.2600\n",
      "Epoch 8/10\n",
      "273/273 [==============================] - 160s 586ms/step - loss: 2.1565 - val_loss: 2.2249\n",
      "Epoch 9/10\n",
      "273/273 [==============================] - 160s 587ms/step - loss: 2.1051 - val_loss: 2.1931\n",
      "Epoch 10/10\n",
      "273/273 [==============================] - 159s 583ms/step - loss: 2.0567 - val_loss: 2.1673\n"
     ]
    }
   ],
   "source": [
    "optimizer = tf.keras.optimizers.Adam()\n",
    "loss = tf.keras.losses.SparseCategoricalCrossentropy(from_logits=True,\n",
    "                                                    reduction='none')\n",
    "model.compile(loss=loss, optimizer=optimizer)\n",
    "history = model.fit(train_dataset, epochs=10, validation_data=val_dataset)"
   ]
  },
  {
   "cell_type": "code",
   "execution_count": 8,
   "id": "2b44c4fa",
   "metadata": {},
   "outputs": [
    {
     "data": {
      "image/png": "[encoded data removed]",
      "text/plain": [
       "<Figure size 432x288 with 2 Axes>"
      ]
     },
     "metadata": {
      "needs_background": "light"
     },
     "output_type": "display_data"
    }
   ],
   "source": [
    "import matplotlib.pyplot as plt\n",
    "\n",
    "fig, loss_ax = plt.subplots()\n",
    "\n",
    "acc_ax = loss_ax.twinx()\n",
    "\n",
    "loss_ax.plot(history.history['loss'], 'y', label='train loss')\n",
    "loss_ax.plot(history.history['val_loss'], 'r', label='val loss')\n",
    "loss_ax.set_xlabel('epoch')\n",
    "loss_ax.set_ylabel('loss')\n",
    "loss_ax.legend(loc='best')\n",
    "plt.show()"
   ]
  },
  {
   "cell_type": "markdown",
   "id": "54f2101a",
   "metadata": {},
   "source": [
    "* loss와 val_loss 값 차이는 0.11\n",
    "* overfitting을 억제하기는 했지만 학습 속도가 느림 (약 27분 소요)"
   ]
  },
  {
   "cell_type": "markdown",
   "id": "343b374e",
   "metadata": {},
   "source": [
    "#### 2. BATCH_SIZE = 256"
   ]
  },
  {
   "cell_type": "code",
   "execution_count": 9,
   "id": "34a3914d",
   "metadata": {},
   "outputs": [],
   "source": [
    "BUFFER_SIZE = len(src_input)\n",
    "BATCH_SIZE = 256\n",
    "\n",
    "VOCAB_SIZE = tokenizer.num_words + 1   \n",
    "\n",
    "train_dataset2 = tf.data.Dataset.from_tensor_slices((enc_train, dec_train))\n",
    "train_dataset2 = train_dataset2.shuffle(BUFFER_SIZE)\n",
    "train_dataset2 = train_dataset2.batch(BATCH_SIZE, drop_remainder=True)\n",
    "\n",
    "val_dataset2 = tf.data.Dataset.from_tensor_slices((enc_val, dec_val))\n",
    "val_dataset2 = val_dataset2.shuffle(BUFFER_SIZE)\n",
    "val_dataset2 = val_dataset2.batch(BATCH_SIZE, drop_remainder=True)"
   ]
  },
  {
   "cell_type": "code",
   "execution_count": 10,
   "id": "f382bc07",
   "metadata": {},
   "outputs": [
    {
     "name": "stdout",
     "output_type": "stream",
     "text": [
      "Epoch 1/10\n",
      "546/546 [==============================] - 151s 274ms/step - loss: 2.0113 - val_loss: 2.1427\n",
      "Epoch 2/10\n",
      "546/546 [==============================] - 150s 274ms/step - loss: 1.9671 - val_loss: 2.1169\n",
      "Epoch 3/10\n",
      "546/546 [==============================] - 150s 274ms/step - loss: 1.9204 - val_loss: 2.0930\n",
      "Epoch 4/10\n",
      "546/546 [==============================] - 150s 274ms/step - loss: 1.8715 - val_loss: 2.0747\n",
      "Epoch 5/10\n",
      "546/546 [==============================] - 150s 275ms/step - loss: 1.8228 - val_loss: 2.0587\n",
      "Epoch 6/10\n",
      "546/546 [==============================] - 149s 273ms/step - loss: 1.7744 - val_loss: 2.0391\n",
      "Epoch 7/10\n",
      "546/546 [==============================] - 150s 274ms/step - loss: 1.7265 - val_loss: 2.0224\n",
      "Epoch 8/10\n",
      "546/546 [==============================] - 149s 272ms/step - loss: 1.6799 - val_loss: 2.0109\n",
      "Epoch 9/10\n",
      "546/546 [==============================] - 150s 274ms/step - loss: 1.6343 - val_loss: 1.9994\n",
      "Epoch 10/10\n",
      "546/546 [==============================] - 150s 274ms/step - loss: 1.5901 - val_loss: 1.9908\n"
     ]
    }
   ],
   "source": [
    "history = model.fit(train_dataset2, epochs=10, validation_data=val_dataset2)"
   ]
  },
  {
   "cell_type": "code",
   "execution_count": 11,
   "id": "c7e21216",
   "metadata": {},
   "outputs": [
    {
     "data": {
      "image/png": "[encoded data removed]",
      "text/plain": [
       "<Figure size 432x288 with 2 Axes>"
      ]
     },
     "metadata": {
      "needs_background": "light"
     },
     "output_type": "display_data"
    }
   ],
   "source": [
    "import matplotlib.pyplot as plt\n",
    "\n",
    "fig, loss_ax = plt.subplots()\n",
    "\n",
    "acc_ax = loss_ax.twinx()\n",
    "\n",
    "loss_ax.plot(history.history['loss'], 'y', label='train loss')\n",
    "loss_ax.plot(history.history['val_loss'], 'r', label='val loss')\n",
    "loss_ax.set_xlabel('epoch')\n",
    "loss_ax.set_ylabel('loss')\n",
    "loss_ax.legend(loc='best')\n",
    "plt.show()"
   ]
  },
  {
   "cell_type": "markdown",
   "id": "c9875ba1",
   "metadata": {},
   "source": [
    "기존 하이퍼파라미터와 동일한데 왜 overfitting이 발생했지? val_loss값이 2정도로 loss값이랑 0.4 차이남. 이정도면 큰 값은 아니지만 이 batch_size를 사용할거면 다른 정규화 방식을 사용해봐야 할 것 같음. dropout or weight decay"
   ]
  },
  {
   "cell_type": "markdown",
   "id": "219d92b7",
   "metadata": {},
   "source": [
    "#### 3. BATCH_SIZE = 128"
   ]
  },
  {
   "cell_type": "code",
   "execution_count": 12,
   "id": "0db5dd44",
   "metadata": {},
   "outputs": [],
   "source": [
    "BUFFER_SIZE = len(src_input)\n",
    "BATCH_SIZE = 128\n",
    "\n",
    "VOCAB_SIZE = tokenizer.num_words + 1   \n",
    "\n",
    "train_dataset3 = tf.data.Dataset.from_tensor_slices((enc_train, dec_train))\n",
    "train_dataset3 = train_dataset3.shuffle(BUFFER_SIZE)\n",
    "train_dataset3 = train_dataset3.batch(BATCH_SIZE, drop_remainder=True)\n",
    "\n",
    "val_dataset3 = tf.data.Dataset.from_tensor_slices((enc_val, dec_val))\n",
    "val_dataset3 = val_dataset3.shuffle(BUFFER_SIZE)\n",
    "val_dataset3 = val_dataset3.batch(BATCH_SIZE, drop_remainder=True)"
   ]
  },
  {
   "cell_type": "code",
   "execution_count": 13,
   "id": "cbf1dbdf",
   "metadata": {},
   "outputs": [
    {
     "name": "stdout",
     "output_type": "stream",
     "text": [
      "Epoch 1/10\n",
      "1092/1092 [==============================] - 158s 143ms/step - loss: 1.5538 - val_loss: 1.9912\n",
      "Epoch 2/10\n",
      "1092/1092 [==============================] - 156s 143ms/step - loss: 1.5199 - val_loss: 1.9892\n",
      "Epoch 3/10\n",
      "1092/1092 [==============================] - 156s 143ms/step - loss: 1.4764 - val_loss: 1.9880\n",
      "Epoch 4/10\n",
      "1092/1092 [==============================] - 157s 143ms/step - loss: 1.3819 - val_loss: 1.9878\n",
      "Epoch 6/10\n",
      "1092/1092 [==============================] - 157s 143ms/step - loss: 1.3356 - val_loss: 1.9950\n",
      "Epoch 7/10\n",
      "1092/1092 [==============================] - 155s 142ms/step - loss: 1.2948 - val_loss: 1.9985\n",
      "Epoch 8/10\n",
      "1092/1092 [==============================] - 156s 143ms/step - loss: 1.2495 - val_loss: 2.0061\n",
      "Epoch 9/10\n",
      "1092/1092 [==============================] - 156s 143ms/step - loss: 1.2083 - val_loss: 2.0128\n",
      "Epoch 10/10\n",
      "1092/1092 [==============================] - 155s 142ms/step - loss: 1.1693 - val_loss: 2.0192\n"
     ]
    }
   ],
   "source": [
    "history = model.fit(train_dataset3, epochs=10, validation_data=val_dataset3)"
   ]
  },
  {
   "cell_type": "code",
   "execution_count": 14,
   "id": "19d62d2c",
   "metadata": {},
   "outputs": [
    {
     "data": {
      "image/png": "[encoded data removed]",
      "text/plain": [
       "<Figure size 432x288 with 2 Axes>"
      ]
     },
     "metadata": {
      "needs_background": "light"
     },
     "output_type": "display_data"
    }
   ],
   "source": [
    "import matplotlib.pyplot as plt\n",
    "\n",
    "fig, loss_ax = plt.subplots()\n",
    "\n",
    "acc_ax = loss_ax.twinx()\n",
    "\n",
    "loss_ax.plot(history.history['loss'], 'y', label='train loss')\n",
    "loss_ax.plot(history.history['val_loss'], 'r', label='val loss')\n",
    "loss_ax.set_xlabel('epoch')\n",
    "loss_ax.set_ylabel('loss')\n",
    "loss_ax.legend(loc='best')\n",
    "plt.show()"
   ]
  },
  {
   "cell_type": "markdown",
   "id": "8fcc684c",
   "metadata": {},
   "source": [
    "batch_size가 너무 작을 경우 overfitting 발생"
   ]
  },
  {
   "cell_type": "code",
   "execution_count": null,
   "id": "9ba3b9bd",
   "metadata": {},
   "outputs": [],
   "source": []
  },
  {
   "cell_type": "code",
   "execution_count": null,
   "id": "874d0caf",
   "metadata": {},
   "outputs": [],
   "source": []
  }
 ],
 "metadata": {
  "kernelspec": {
   "display_name": "Python 3 (ipykernel)",
   "language": "python",
   "name": "python3"
  },
  "language_info": {
   "codemirror_mode": {
    "name": "ipython",
    "version": 3
   },
   "file_extension": ".py",
   "mimetype": "text/x-python",
   "name": "python",
   "nbconvert_exporter": "python",
   "pygments_lexer": "ipython3",
   "version": "3.9.7"
  }
 },
 "nbformat": 4,
 "nbformat_minor": 5
}
