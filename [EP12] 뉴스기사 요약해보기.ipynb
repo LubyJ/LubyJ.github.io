{
 "cells": [
  {
   "cell_type": "code",
   "execution_count": 1,
   "id": "480d4f66",
   "metadata": {
    "scrolled": true
   },
   "outputs": [
    {
     "name": "stderr",
     "output_type": "stream",
     "text": [
      "[nltk_data] Downloading package stopwords to /aiffel/nltk_data...\n",
      "[nltk_data]   Unzipping corpora/stopwords.zip.\n"
     ]
    }
   ],
   "source": [
    "import nltk\n",
    "nltk.download('stopwords')\n",
    "\n",
    "import numpy as np\n",
    "import pandas as pd\n",
    "import os\n",
    "import re\n",
    "import matplotlib.pyplot as plt\n",
    "from nltk.corpus import stopwords\n",
    "from bs4 import BeautifulSoup \n",
    "from tensorflow.keras.preprocessing.text import Tokenizer \n",
    "from tensorflow.keras.preprocessing.sequence import pad_sequences\n",
    "import urllib.request\n",
    "import warnings\n",
    "warnings.filterwarnings(\"ignore\", category=UserWarning, module='bs4')"
   ]
  },
  {
   "cell_type": "markdown",
   "id": "9d7d8b4b",
   "metadata": {},
   "source": [
    "## Step 1. 데이터 수집하기"
   ]
  },
  {
   "cell_type": "code",
   "execution_count": 2,
   "id": "0ed0f961",
   "metadata": {
    "scrolled": true
   },
   "outputs": [],
   "source": [
    "import urllib.request\n",
    "urllib.request.urlretrieve(\"https://raw.githubusercontent.com/sunnysai12345/News_Summary/master/news_summary_more.csv\", filename=\"news_summary_more.csv\")\n",
    "data = pd.read_csv('news_summary_more.csv', encoding='iso-8859-1')"
   ]
  },
  {
   "cell_type": "code",
   "execution_count": 3,
   "id": "87df845a",
   "metadata": {},
   "outputs": [
    {
     "name": "stdout",
     "output_type": "stream",
     "text": [
      "전체 샘플수 : 98401\n"
     ]
    }
   ],
   "source": [
    "print('전체 샘플수 :', (len(data)))"
   ]
  },
  {
   "cell_type": "code",
   "execution_count": 4,
   "id": "61a8f599",
   "metadata": {
    "scrolled": true
   },
   "outputs": [
    {
     "data": {
      "text/html": [
       "<div>\n",
       "<style scoped>\n",
       "    .dataframe tbody tr th:only-of-type {\n",
       "        vertical-align: middle;\n",
       "    }\n",
       "\n",
       "    .dataframe tbody tr th {\n",
       "        vertical-align: top;\n",
       "    }\n",
       "\n",
       "    .dataframe thead th {\n",
       "        text-align: right;\n",
       "    }\n",
       "</style>\n",
       "<table border=\"1\" class=\"dataframe\">\n",
       "  <thead>\n",
       "    <tr style=\"text-align: right;\">\n",
       "      <th></th>\n",
       "      <th>headlines</th>\n",
       "      <th>text</th>\n",
       "    </tr>\n",
       "  </thead>\n",
       "  <tbody>\n",
       "    <tr>\n",
       "      <th>59382</th>\n",
       "      <td>Haryana CM responds as Ex-CM slams him over Ma...</td>\n",
       "      <td>Haryana CM Manohar Lal Khattar has responded t...</td>\n",
       "    </tr>\n",
       "    <tr>\n",
       "      <th>86740</th>\n",
       "      <td>Women led camels in past: Saudi Prince against...</td>\n",
       "      <td>Saudi Prince Faisal Bin Abdullah has denounced...</td>\n",
       "    </tr>\n",
       "    <tr>\n",
       "      <th>28423</th>\n",
       "      <td>Woman footballer accuses coach of buying playe...</td>\n",
       "      <td>A woman footballer in Rajasthan slapped her co...</td>\n",
       "    </tr>\n",
       "    <tr>\n",
       "      <th>4153</th>\n",
       "      <td>Seal pup with umbilical cord naps on plastic b...</td>\n",
       "      <td>An amateur photographer named John Evered has ...</td>\n",
       "    </tr>\n",
       "    <tr>\n",
       "      <th>37655</th>\n",
       "      <td>Javed slams Muslim cleric for cow slaughter on...</td>\n",
       "      <td>Slamming Muslim cleric Tanveer Hashim for sayi...</td>\n",
       "    </tr>\n",
       "    <tr>\n",
       "      <th>55277</th>\n",
       "      <td>Skull-shaped asteroid to fly past Earth again ...</td>\n",
       "      <td>Spain-based astronomers estimate that the skul...</td>\n",
       "    </tr>\n",
       "    <tr>\n",
       "      <th>84719</th>\n",
       "      <td>Important to tell today's generation about Eme...</td>\n",
       "      <td>Filmmaker Madhur Bhandarkar has said that it i...</td>\n",
       "    </tr>\n",
       "    <tr>\n",
       "      <th>88384</th>\n",
       "      <td>Boy tries pranking father for more cash with W...</td>\n",
       "      <td>A Chinese boy tried pranking his father for mo...</td>\n",
       "    </tr>\n",
       "    <tr>\n",
       "      <th>7272</th>\n",
       "      <td>Revival of Italy's Pininfarina an 'unfinished ...</td>\n",
       "      <td>Italian car designer Pininfarina's turnaround ...</td>\n",
       "    </tr>\n",
       "    <tr>\n",
       "      <th>75120</th>\n",
       "      <td>Iran can't hold world hostage with nuclear dea...</td>\n",
       "      <td>US Ambassador to the UN Nikki Haley has said t...</td>\n",
       "    </tr>\n",
       "  </tbody>\n",
       "</table>\n",
       "</div>"
      ],
      "text/plain": [
       "                                               headlines  \\\n",
       "59382  Haryana CM responds as Ex-CM slams him over Ma...   \n",
       "86740  Women led camels in past: Saudi Prince against...   \n",
       "28423  Woman footballer accuses coach of buying playe...   \n",
       "4153   Seal pup with umbilical cord naps on plastic b...   \n",
       "37655  Javed slams Muslim cleric for cow slaughter on...   \n",
       "55277  Skull-shaped asteroid to fly past Earth again ...   \n",
       "84719  Important to tell today's generation about Eme...   \n",
       "88384  Boy tries pranking father for more cash with W...   \n",
       "7272   Revival of Italy's Pininfarina an 'unfinished ...   \n",
       "75120  Iran can't hold world hostage with nuclear dea...   \n",
       "\n",
       "                                                    text  \n",
       "59382  Haryana CM Manohar Lal Khattar has responded t...  \n",
       "86740  Saudi Prince Faisal Bin Abdullah has denounced...  \n",
       "28423  A woman footballer in Rajasthan slapped her co...  \n",
       "4153   An amateur photographer named John Evered has ...  \n",
       "37655  Slamming Muslim cleric Tanveer Hashim for sayi...  \n",
       "55277  Spain-based astronomers estimate that the skul...  \n",
       "84719  Filmmaker Madhur Bhandarkar has said that it i...  \n",
       "88384  A Chinese boy tried pranking his father for mo...  \n",
       "7272   Italian car designer Pininfarina's turnaround ...  \n",
       "75120  US Ambassador to the UN Nikki Haley has said t...  "
      ]
     },
     "execution_count": 4,
     "metadata": {},
     "output_type": "execute_result"
    }
   ],
   "source": [
    "data.sample(10)"
   ]
  },
  {
   "cell_type": "markdown",
   "id": "4cef58a1",
   "metadata": {},
   "source": [
    "* 추상적 요약시 : text를 본문, headlines를 요약 데이터로 사용\n",
    "* 추출적 요약시 : text열만 사용"
   ]
  },
  {
   "cell_type": "markdown",
   "id": "3a00517a",
   "metadata": {},
   "source": [
    "## Step 2. 데이터 전처리하기 (추상적 요약)"
   ]
  },
  {
   "cell_type": "markdown",
   "id": "73fbb245",
   "metadata": {},
   "source": [
    "실습에서 사용된 전처리를 참고하여 각자 필요하다고 생각하는 전처리를 추가 사용하여 텍스트를 정규화 또는 정제해 보세요. 만약, 불용어 제거를 선택한다면 상대적으로 길이가 짧은 요약 데이터에 대해서도 불용어를 제거하는 것이 좋을지 고민해 보세요."
   ]
  },
  {
   "cell_type": "markdown",
   "id": "50a2d3d1",
   "metadata": {},
   "source": [
    "__1. 중복 샘플 확인 후 제거__"
   ]
  },
  {
   "cell_type": "code",
   "execution_count": 5,
   "id": "ac2fc443",
   "metadata": {},
   "outputs": [
    {
     "name": "stdout",
     "output_type": "stream",
     "text": [
      "headlines 중복 제외 샘플 수: 98280\n",
      "text 중복 제외 샘플 수: 98360\n"
     ]
    }
   ],
   "source": [
    "print('headlines 중복 제외 샘플 수:',  data['headlines'].nunique())\n",
    "print('text 중복 제외 샘플 수:', data['text'].nunique())"
   ]
  },
  {
   "cell_type": "code",
   "execution_count": 6,
   "id": "caa91c97",
   "metadata": {},
   "outputs": [
    {
     "name": "stdout",
     "output_type": "stream",
     "text": [
      "중복 데이터 제거 후 text 데이터 수: 98360\n"
     ]
    }
   ],
   "source": [
    "# text 중복 샘플 drop\n",
    "data.drop_duplicates(subset=['text'], inplace=True)\n",
    "print('중복 데이터 제거 후 text 데이터 수:', len(data))"
   ]
  },
  {
   "cell_type": "markdown",
   "id": "238a75d4",
   "metadata": {},
   "source": [
    "__2. Null 값 확인 후 제거__"
   ]
  },
  {
   "cell_type": "code",
   "execution_count": 7,
   "id": "49dd48fe",
   "metadata": {},
   "outputs": [
    {
     "name": "stdout",
     "output_type": "stream",
     "text": [
      "headlines    0\n",
      "text         0\n",
      "dtype: int64\n"
     ]
    }
   ],
   "source": [
    "print(data.isna().sum())"
   ]
  },
  {
   "cell_type": "markdown",
   "id": "db1ba5b9",
   "metadata": {},
   "source": [
    "__3. 텍스트 정규화 준비__"
   ]
  },
  {
   "cell_type": "code",
   "execution_count": 8,
   "id": "b7b6dde7",
   "metadata": {},
   "outputs": [
    {
     "name": "stdout",
     "output_type": "stream",
     "text": [
      "정규화 사전의 수:  120\n"
     ]
    }
   ],
   "source": [
    "# 정규화 사전 생성\n",
    "contractions = {\"ain't\": \"is not\", \"aren't\": \"are not\",\"can't\": \"cannot\", \"'cause\": \"because\", \"could've\": \"could have\", \"couldn't\": \"could not\",\n",
    "                           \"didn't\": \"did not\",  \"doesn't\": \"does not\", \"don't\": \"do not\", \"hadn't\": \"had not\", \"hasn't\": \"has not\", \"haven't\": \"have not\",\n",
    "                           \"he'd\": \"he would\",\"he'll\": \"he will\", \"he's\": \"he is\", \"how'd\": \"how did\", \"how'd'y\": \"how do you\", \"how'll\": \"how will\", \"how's\": \"how is\",\n",
    "                           \"I'd\": \"I would\", \"I'd've\": \"I would have\", \"I'll\": \"I will\", \"I'll've\": \"I will have\",\"I'm\": \"I am\", \"I've\": \"I have\", \"i'd\": \"i would\",\n",
    "                           \"i'd've\": \"i would have\", \"i'll\": \"i will\",  \"i'll've\": \"i will have\",\"i'm\": \"i am\", \"i've\": \"i have\", \"isn't\": \"is not\", \"it'd\": \"it would\",\n",
    "                           \"it'd've\": \"it would have\", \"it'll\": \"it will\", \"it'll've\": \"it will have\",\"it's\": \"it is\", \"let's\": \"let us\", \"ma'am\": \"madam\",\n",
    "                           \"mayn't\": \"may not\", \"might've\": \"might have\",\"mightn't\": \"might not\",\"mightn't've\": \"might not have\", \"must've\": \"must have\",\n",
    "                           \"mustn't\": \"must not\", \"mustn't've\": \"must not have\", \"needn't\": \"need not\", \"needn't've\": \"need not have\",\"o'clock\": \"of the clock\",\n",
    "                           \"oughtn't\": \"ought not\", \"oughtn't've\": \"ought not have\", \"shan't\": \"shall not\", \"sha'n't\": \"shall not\", \"shan't've\": \"shall not have\",\n",
    "                           \"she'd\": \"she would\", \"she'd've\": \"she would have\", \"she'll\": \"she will\", \"she'll've\": \"she will have\", \"she's\": \"she is\",\n",
    "                           \"should've\": \"should have\", \"shouldn't\": \"should not\", \"shouldn't've\": \"should not have\", \"so've\": \"so have\",\"so's\": \"so as\",\n",
    "                           \"this's\": \"this is\",\"that'd\": \"that would\", \"that'd've\": \"that would have\", \"that's\": \"that is\", \"there'd\": \"there would\",\n",
    "                           \"there'd've\": \"there would have\", \"there's\": \"there is\", \"here's\": \"here is\",\"they'd\": \"they would\", \"they'd've\": \"they would have\",\n",
    "                           \"they'll\": \"they will\", \"they'll've\": \"they will have\", \"they're\": \"they are\", \"they've\": \"they have\", \"to've\": \"to have\",\n",
    "                           \"wasn't\": \"was not\", \"we'd\": \"we would\", \"we'd've\": \"we would have\", \"we'll\": \"we will\", \"we'll've\": \"we will have\", \"we're\": \"we are\",\n",
    "                           \"we've\": \"we have\", \"weren't\": \"were not\", \"what'll\": \"what will\", \"what'll've\": \"what will have\", \"what're\": \"what are\",\n",
    "                           \"what's\": \"what is\", \"what've\": \"what have\", \"when's\": \"when is\", \"when've\": \"when have\", \"where'd\": \"where did\", \"where's\": \"where is\",\n",
    "                           \"where've\": \"where have\", \"who'll\": \"who will\", \"who'll've\": \"who will have\", \"who's\": \"who is\", \"who've\": \"who have\",\n",
    "                           \"why's\": \"why is\", \"why've\": \"why have\", \"will've\": \"will have\", \"won't\": \"will not\", \"won't've\": \"will not have\",\n",
    "                           \"would've\": \"would have\", \"wouldn't\": \"would not\", \"wouldn't've\": \"would not have\", \"y'all\": \"you all\",\n",
    "                           \"y'all'd\": \"you all would\",\"y'all'd've\": \"you all would have\",\"y'all're\": \"you all are\",\"y'all've\": \"you all have\",\n",
    "                           \"you'd\": \"you would\", \"you'd've\": \"you would have\", \"you'll\": \"you will\", \"you'll've\": \"you will have\",\n",
    "                           \"you're\": \"you are\", \"you've\": \"you have\"}\n",
    "\n",
    "print(\"정규화 사전의 수: \", len(contractions))"
   ]
  },
  {
   "cell_type": "markdown",
   "id": "23636808",
   "metadata": {},
   "source": [
    "__4. text에서 불용어 제거__"
   ]
  },
  {
   "cell_type": "code",
   "execution_count": 9,
   "id": "7d7761d1",
   "metadata": {},
   "outputs": [
    {
     "name": "stdout",
     "output_type": "stream",
     "text": [
      "불용어 개수: 179\n",
      "['i', 'me', 'my', 'myself', 'we', 'our', 'ours', 'ourselves', 'you', \"you're\", \"you've\", \"you'll\", \"you'd\", 'your', 'yours', 'yourself', 'yourselves', 'he', 'him', 'his', 'himself', 'she', \"she's\", 'her', 'hers', 'herself', 'it', \"it's\", 'its', 'itself', 'they', 'them', 'their', 'theirs', 'themselves', 'what', 'which', 'who', 'whom', 'this', 'that', \"that'll\", 'these', 'those', 'am', 'is', 'are', 'was', 'were', 'be', 'been', 'being', 'have', 'has', 'had', 'having', 'do', 'does', 'did', 'doing', 'a', 'an', 'the', 'and', 'but', 'if', 'or', 'because', 'as', 'until', 'while', 'of', 'at', 'by', 'for', 'with', 'about', 'against', 'between', 'into', 'through', 'during', 'before', 'after', 'above', 'below', 'to', 'from', 'up', 'down', 'in', 'out', 'on', 'off', 'over', 'under', 'again', 'further', 'then', 'once', 'here', 'there', 'when', 'where', 'why', 'how', 'all', 'any', 'both', 'each', 'few', 'more', 'most', 'other', 'some', 'such', 'no', 'nor', 'not', 'only', 'own', 'same', 'so', 'than', 'too', 'very', 's', 't', 'can', 'will', 'just', 'don', \"don't\", 'should', \"should've\", 'now', 'd', 'll', 'm', 'o', 're', 've', 'y', 'ain', 'aren', \"aren't\", 'couldn', \"couldn't\", 'didn', \"didn't\", 'doesn', \"doesn't\", 'hadn', \"hadn't\", 'hasn', \"hasn't\", 'haven', \"haven't\", 'isn', \"isn't\", 'ma', 'mightn', \"mightn't\", 'mustn', \"mustn't\", 'needn', \"needn't\", 'shan', \"shan't\", 'shouldn', \"shouldn't\", 'wasn', \"wasn't\", 'weren', \"weren't\", 'won', \"won't\", 'wouldn', \"wouldn't\"]\n"
     ]
    }
   ],
   "source": [
    "print('불용어 개수:', len(stopwords.words('english')))\n",
    "print(stopwords.words('english'))"
   ]
  },
  {
   "cell_type": "code",
   "execution_count": 10,
   "id": "914988e5",
   "metadata": {},
   "outputs": [],
   "source": [
    "# 데이터 전처리 함수\n",
    "def preprocess_sentence(sentence, remove_stopwords=True):\n",
    "    sentence = sentence.lower() # 텍스트 소문자화\n",
    "    sentence = BeautifulSoup(sentence, \"lxml\").text # <br />, <a href = ...> 등의 html 태그 제거\n",
    "    sentence = re.sub(r'\\([^)]*\\)', '', sentence) # 괄호로 닫힌 문자열 (...) 제거 Ex) my husband (and myself!) for => my husband for\n",
    "    sentence = re.sub('\"','', sentence) # 쌍따옴표 \" 제거\n",
    "    sentence = ' '.join([contractions[t] if t in contractions else t for t in sentence.split(\" \")]) # 약어 정규화\n",
    "    sentence = re.sub(r\"'s\\b\",\"\", sentence) # 소유격 제거. Ex) roland's -> roland\n",
    "    sentence = re.sub(\"[^a-zA-Z]\", \" \", sentence) # 영어 외 문자(숫자, 특수문자 등) 공백으로 변환\n",
    "    sentence = re.sub('[m]{2,}', 'mm', sentence) # m이 3개 이상이면 2개로 변경. Ex) ummmmmmm yeah -> umm yeah\n",
    "    \n",
    "    # 불용어 제거 (Text)\n",
    "    if remove_stopwords:\n",
    "        tokens = ' '.join(word for word in sentence.split() if not word in stopwords.words('english') if len(word) > 1)\n",
    "    # 불용어 미제거 (Summary)\n",
    "    else:\n",
    "        tokens = ' '.join(word for word in sentence.split() if len(word) > 1)\n",
    "    return tokens"
   ]
  },
  {
   "cell_type": "markdown",
   "id": "9428af6c",
   "metadata": {},
   "source": [
    "전처리 전, 후의 결과물 확인해보기"
   ]
  },
  {
   "cell_type": "code",
   "execution_count": 11,
   "id": "d3244a3f",
   "metadata": {},
   "outputs": [
    {
     "name": "stdout",
     "output_type": "stream",
     "text": [
      "text:  everything bought great infact ordered twice third ordered wasfor mother father\n",
      "title: great way to start the day\n"
     ]
    }
   ],
   "source": [
    "temp_text = 'Everything I bought was great, infact I ordered twice and the third ordered was<br />for my mother and father.'\n",
    "temp_title = 'Great way to start (or finish) the day!!!'\n",
    "\n",
    "print('text: ', preprocess_sentence(temp_text))\n",
    "print('title:', preprocess_sentence(temp_title, False))"
   ]
  },
  {
   "cell_type": "markdown",
   "id": "d1345cae",
   "metadata": {},
   "source": [
    "__전체 text 데이터 전처리__"
   ]
  },
  {
   "cell_type": "code",
   "execution_count": 12,
   "id": "02fb2671",
   "metadata": {},
   "outputs": [
    {
     "name": "stdout",
     "output_type": "stream",
     "text": [
      "text 전처리 후: ['saurav kant alumnus upgrad iiit pg program machine learning artificial intelligence sr systems engineer infosys almost years work experience program upgrad degree career support helped transition data scientist tech mahindra salary hike upgrad online power learning powered lakh careers', 'kunal shah credit card bill payment platform cred gave users chance win free food swiggy one year pranav kaushik delhi techie bagged reward spending cred coins users get one cred coin per rupee bill paid used avail rewards brands like ixigo bookmyshow ubereats cult fit', 'new zealand defeated india wickets fourth odi hamilton thursday win first match five match odi series india lost international match rohit sharma captaincy consecutive victories dating back march match witnessed india getting seventh lowest total odi cricket history', 'aegon life iterm insurance plan customers enjoy tax benefits premiums paid save taxes plan provides life cover age years also customers options insure critical illnesses disability accidental death benefit rider life cover age years', 'speaking sexual harassment allegations rajkumar hirani sonam kapoor said known hirani many years true metoo movement get derailed metoo movement always believe woman case need reserve judgment added hirani accused assistant worked sanju']\n"
     ]
    }
   ],
   "source": [
    "clean_text = []\n",
    "for s in data['text']:\n",
    "    clean_text.append(preprocess_sentence(s))\n",
    "\n",
    "print('text 전처리 후:', clean_text[:5])"
   ]
  },
  {
   "cell_type": "markdown",
   "id": "5dcc7f81",
   "metadata": {},
   "source": [
    "__전체 headlines 데이터 전처리__"
   ]
  },
  {
   "cell_type": "code",
   "execution_count": 13,
   "id": "a5d12582",
   "metadata": {},
   "outputs": [
    {
     "name": "stdout",
     "output_type": "stream",
     "text": [
      "headlines 전처리 후: ['upgrad learner switches to career in ml al with salary hike', 'delhi techie wins free food from swiggy for one year on cred', 'new zealand end rohit sharma led india match winning streak', 'aegon life iterm insurance plan helps customers save tax', 'have known hirani for yrs what if metoo claims are not true sonam']\n"
     ]
    }
   ],
   "source": [
    "clean_headlines=[]\n",
    "for s in data['headlines']:\n",
    "    clean_headlines.append(preprocess_sentence(s, False))\n",
    "\n",
    "print('headlines 전처리 후:', clean_headlines[:5])"
   ]
  },
  {
   "cell_type": "markdown",
   "id": "67503457",
   "metadata": {},
   "source": [
    "__빈 값이 있는 샘플이 있다면 모두 Null로 대체__"
   ]
  },
  {
   "cell_type": "code",
   "execution_count": 14,
   "id": "326d57e6",
   "metadata": {},
   "outputs": [],
   "source": [
    "data['text']=clean_text\n",
    "data['headlines']=clean_headlines\n",
    "\n",
    "data.replace('', np.nan, inplace=True)"
   ]
  },
  {
   "cell_type": "code",
   "execution_count": 15,
   "id": "49b7cfa1",
   "metadata": {},
   "outputs": [
    {
     "data": {
      "text/plain": [
       "headlines    0\n",
       "text         0\n",
       "dtype: int64"
      ]
     },
     "execution_count": 15,
     "metadata": {},
     "output_type": "execute_result"
    }
   ],
   "source": [
    "data.isnull().sum()"
   ]
  },
  {
   "cell_type": "markdown",
   "id": "807fc8ba",
   "metadata": {},
   "source": [
    "결측치 없음"
   ]
  },
  {
   "cell_type": "code",
   "execution_count": 16,
   "id": "e84b8fc7",
   "metadata": {},
   "outputs": [
    {
     "name": "stdout",
     "output_type": "stream",
     "text": [
      "정제 후 전체 샘플수: 98360\n"
     ]
    }
   ],
   "source": [
    "print('정제 후 전체 샘플수:', len(data))"
   ]
  },
  {
   "cell_type": "markdown",
   "id": "28cf479b",
   "metadata": {},
   "source": [
    "__5. 샘플의 최대 길이 정하기__"
   ]
  },
  {
   "cell_type": "markdown",
   "id": "a137b0fd",
   "metadata": {},
   "source": [
    "text, headlines의 최소, 최대, 평균 길이 구하고 길이 분포 시각화"
   ]
  },
  {
   "cell_type": "code",
   "execution_count": 17,
   "id": "97a7f5b3",
   "metadata": {
    "scrolled": false
   },
   "outputs": [
    {
     "name": "stdout",
     "output_type": "stream",
     "text": [
      "텍스트의 최소 길이 : 1\n",
      "텍스트의 최대 길이 : 60\n",
      "텍스트의 평균 길이 : 35.09968483123221\n",
      "요약의 최소 길이 : 1\n",
      "요약의 최대 길이 : 16\n",
      "요약의 평균 길이 : 9.299532330215534\n"
     ]
    },
    {
     "data": {
      "image/png": "[encoded data removed]",
      "text/plain": [
       "<Figure size 432x288 with 2 Axes>"
      ]
     },
     "metadata": {
      "needs_background": "light"
     },
     "output_type": "display_data"
    },
    {
     "data": {
      "image/png": "[encoded data removed]",
      "text/plain": [
       "<Figure size 432x288 with 1 Axes>"
      ]
     },
     "metadata": {
      "needs_background": "light"
     },
     "output_type": "display_data"
    },
    {
     "data": {
      "image/png": "[encoded data removed]",
      "text/plain": [
       "<Figure size 432x288 with 1 Axes>"
      ]
     },
     "metadata": {
      "needs_background": "light"
     },
     "output_type": "display_data"
    }
   ],
   "source": [
    "import matplotlib.pyplot as plt\n",
    "\n",
    "text_len = [len(s.split()) for s in data['text']]\n",
    "headlines_len = [len(s.split()) for s in data['headlines']]\n",
    "\n",
    "print('텍스트의 최소 길이 : {}'.format(np.min(text_len)))\n",
    "print('텍스트의 최대 길이 : {}'.format(np.max(text_len)))\n",
    "print('텍스트의 평균 길이 : {}'.format(np.mean(text_len)))\n",
    "print('요약의 최소 길이 : {}'.format(np.min(headlines_len)))\n",
    "print('요약의 최대 길이 : {}'.format(np.max(headlines_len)))\n",
    "print('요약의 평균 길이 : {}'.format(np.mean(headlines_len)))\n",
    "\n",
    "plt.subplot(1,2,1)\n",
    "plt.boxplot(text_len)\n",
    "plt.title('text')\n",
    "plt.subplot(1,2,2)\n",
    "plt.boxplot(headlines_len)\n",
    "plt.title('headlines')\n",
    "plt.tight_layout()\n",
    "plt.show()\n",
    "\n",
    "plt.title('text')\n",
    "plt.hist(text_len, bins = 40)\n",
    "plt.xlabel('length of samples')\n",
    "plt.ylabel('number of samples')\n",
    "plt.show()\n",
    "\n",
    "plt.title('headlines')\n",
    "plt.hist(headlines_len, bins = 40)\n",
    "plt.xlabel('length of samples')\n",
    "plt.ylabel('number of samples')\n",
    "plt.show()"
   ]
  },
  {
   "cell_type": "markdown",
   "id": "2618c20a",
   "metadata": {},
   "source": [
    "text와 headline 최대 길이가 60, 16으로 별로 길지 않아 제한하지 않음"
   ]
  },
  {
   "cell_type": "code",
   "execution_count": 18,
   "id": "3248983f",
   "metadata": {},
   "outputs": [],
   "source": [
    "text_max_len = 60\n",
    "headline_max_len = 16"
   ]
  },
  {
   "cell_type": "code",
   "execution_count": 19,
   "id": "4547c8db",
   "metadata": {},
   "outputs": [],
   "source": [
    "def below_threshold_len(max_len, nested_list):\n",
    "    count = 0\n",
    "    for s in nested_list:\n",
    "        if (len(s.split()) <= max_len):\n",
    "            count = count + 1\n",
    "    print('전체 샘플 중 길이가 %s 이하인 샘플 비율: %s'%(max_len, (count / len(nested_list))))"
   ]
  },
  {
   "cell_type": "code",
   "execution_count": 20,
   "id": "bf06e4e6",
   "metadata": {},
   "outputs": [
    {
     "name": "stdout",
     "output_type": "stream",
     "text": [
      "전체 샘플 중 길이가 60 이하인 샘플 비율: 1.0\n",
      "전체 샘플 중 길이가 16 이하인 샘플 비율: 1.0\n"
     ]
    }
   ],
   "source": [
    "below_threshold_len(text_max_len, data['text'])\n",
    "below_threshold_len(headline_max_len, data['headlines'])"
   ]
  },
  {
   "cell_type": "markdown",
   "id": "d848fa81",
   "metadata": {},
   "source": [
    "__정해진 길이보다 긴 데이터 제외__"
   ]
  },
  {
   "cell_type": "code",
   "execution_count": 21,
   "id": "621a015f",
   "metadata": {},
   "outputs": [
    {
     "name": "stdout",
     "output_type": "stream",
     "text": [
      "전체 샘플수 : 98360\n"
     ]
    }
   ],
   "source": [
    "data = data[data['text'].apply(lambda x: len(x.split()) <= text_max_len)]\n",
    "data = data[data['headlines'].apply(lambda x: len(x.split()) <= headline_max_len)]\n",
    "print('전체 샘플수 :', (len(data)))"
   ]
  },
  {
   "cell_type": "markdown",
   "id": "285d36f5",
   "metadata": {},
   "source": [
    "__6. headlines 데이터에 시작 토큰, 종료 토큰 추가__"
   ]
  },
  {
   "cell_type": "code",
   "execution_count": 22,
   "id": "26d9adc3",
   "metadata": {},
   "outputs": [
    {
     "data": {
      "text/html": [
       "<div>\n",
       "<style scoped>\n",
       "    .dataframe tbody tr th:only-of-type {\n",
       "        vertical-align: middle;\n",
       "    }\n",
       "\n",
       "    .dataframe tbody tr th {\n",
       "        vertical-align: top;\n",
       "    }\n",
       "\n",
       "    .dataframe thead th {\n",
       "        text-align: right;\n",
       "    }\n",
       "</style>\n",
       "<table border=\"1\" class=\"dataframe\">\n",
       "  <thead>\n",
       "    <tr style=\"text-align: right;\">\n",
       "      <th></th>\n",
       "      <th>headlines</th>\n",
       "      <th>text</th>\n",
       "      <th>decoder_input</th>\n",
       "      <th>decoder_output</th>\n",
       "    </tr>\n",
       "  </thead>\n",
       "  <tbody>\n",
       "    <tr>\n",
       "      <th>0</th>\n",
       "      <td>upgrad learner switches to career in ml al wit...</td>\n",
       "      <td>saurav kant alumnus upgrad iiit pg program mac...</td>\n",
       "      <td>sos upgrad learner switches to career in ml al...</td>\n",
       "      <td>upgrad learner switches to career in ml al wit...</td>\n",
       "    </tr>\n",
       "    <tr>\n",
       "      <th>1</th>\n",
       "      <td>delhi techie wins free food from swiggy for on...</td>\n",
       "      <td>kunal shah credit card bill payment platform c...</td>\n",
       "      <td>sos delhi techie wins free food from swiggy fo...</td>\n",
       "      <td>delhi techie wins free food from swiggy for on...</td>\n",
       "    </tr>\n",
       "    <tr>\n",
       "      <th>2</th>\n",
       "      <td>new zealand end rohit sharma led india match w...</td>\n",
       "      <td>new zealand defeated india wickets fourth odi ...</td>\n",
       "      <td>sos new zealand end rohit sharma led india mat...</td>\n",
       "      <td>new zealand end rohit sharma led india match w...</td>\n",
       "    </tr>\n",
       "    <tr>\n",
       "      <th>3</th>\n",
       "      <td>aegon life iterm insurance plan helps customer...</td>\n",
       "      <td>aegon life iterm insurance plan customers enjo...</td>\n",
       "      <td>sos aegon life iterm insurance plan helps cust...</td>\n",
       "      <td>aegon life iterm insurance plan helps customer...</td>\n",
       "    </tr>\n",
       "    <tr>\n",
       "      <th>4</th>\n",
       "      <td>have known hirani for yrs what if metoo claims...</td>\n",
       "      <td>speaking sexual harassment allegations rajkuma...</td>\n",
       "      <td>sos have known hirani for yrs what if metoo cl...</td>\n",
       "      <td>have known hirani for yrs what if metoo claims...</td>\n",
       "    </tr>\n",
       "  </tbody>\n",
       "</table>\n",
       "</div>"
      ],
      "text/plain": [
       "                                           headlines  \\\n",
       "0  upgrad learner switches to career in ml al wit...   \n",
       "1  delhi techie wins free food from swiggy for on...   \n",
       "2  new zealand end rohit sharma led india match w...   \n",
       "3  aegon life iterm insurance plan helps customer...   \n",
       "4  have known hirani for yrs what if metoo claims...   \n",
       "\n",
       "                                                text  \\\n",
       "0  saurav kant alumnus upgrad iiit pg program mac...   \n",
       "1  kunal shah credit card bill payment platform c...   \n",
       "2  new zealand defeated india wickets fourth odi ...   \n",
       "3  aegon life iterm insurance plan customers enjo...   \n",
       "4  speaking sexual harassment allegations rajkuma...   \n",
       "\n",
       "                                       decoder_input  \\\n",
       "0  sos upgrad learner switches to career in ml al...   \n",
       "1  sos delhi techie wins free food from swiggy fo...   \n",
       "2  sos new zealand end rohit sharma led india mat...   \n",
       "3  sos aegon life iterm insurance plan helps cust...   \n",
       "4  sos have known hirani for yrs what if metoo cl...   \n",
       "\n",
       "                                      decoder_output  \n",
       "0  upgrad learner switches to career in ml al wit...  \n",
       "1  delhi techie wins free food from swiggy for on...  \n",
       "2  new zealand end rohit sharma led india match w...  \n",
       "3  aegon life iterm insurance plan helps customer...  \n",
       "4  have known hirani for yrs what if metoo claims...  "
      ]
     },
     "execution_count": 22,
     "metadata": {},
     "output_type": "execute_result"
    }
   ],
   "source": [
    "data['decoder_input'] = data['headlines'].apply(lambda x : 'sos ' + x)\n",
    "data['decoder_output'] = data['headlines'].apply(lambda x : x + ' eos')\n",
    "data.head()"
   ]
  },
  {
   "cell_type": "markdown",
   "id": "ab2acc3d",
   "metadata": {},
   "source": [
    "__7. 인코더의 입력, 디코더의 입출력을 각가 numpy 타입으로 저장__"
   ]
  },
  {
   "cell_type": "code",
   "execution_count": 23,
   "id": "6f43612c",
   "metadata": {},
   "outputs": [],
   "source": [
    "encoder_input = np.array(data['text'])\n",
    "decoder_input = np.array(data['decoder_input'])\n",
    "decoder_target = np.array(data['decoder_output'])"
   ]
  },
  {
   "cell_type": "code",
   "execution_count": 24,
   "id": "bfaa2ee2",
   "metadata": {},
   "outputs": [
    {
     "name": "stdout",
     "output_type": "stream",
     "text": [
      "encoder input의 shape: (98360,)\n",
      "decoder input(target)의 shape: (98360,)\n"
     ]
    }
   ],
   "source": [
    "print('encoder input의 shape:', encoder_input.shape)\n",
    "print('decoder input(target)의 shape:', decoder_input.shape)"
   ]
  },
  {
   "cell_type": "markdown",
   "id": "5b186f69",
   "metadata": {},
   "source": [
    "__8. 샘플 섞은 후 훈련과 테스트 데이터 분리(8:2)__"
   ]
  },
  {
   "cell_type": "markdown",
   "id": "f8f0ecc7",
   "metadata": {},
   "source": [
    "encoder_input_train, encoder_input_test, decoder_input_train, decoder_input_test, decoder_target_train, decoder_target_test = train_test_split(encoder_input, decoder_input, decoder_target,\n",
    "random_state=42,\n",
    "test_size=0.2)\n",
    "print('훈련 데이터의 개수 :', len(encoder_input_train))\n",
    "print('훈련 레이블의 개수 :', len(decoder_input_train))\n",
    "print('테스트 데이터의 개수 :', len(encoder_input_test))\n",
    "print('테스트 레이블의 개수 :', len(decoder_input_test))"
   ]
  },
  {
   "cell_type": "code",
   "execution_count": 25,
   "id": "5e67423d",
   "metadata": {},
   "outputs": [],
   "source": [
    "indices = np.arange(encoder_input.shape[0])\n",
    "np.random.shuffle(indices)\n",
    "\n",
    "encoder_input = encoder_input[indices]\n",
    "decoder_input = decoder_input[indices]\n",
    "decoder_target = decoder_target[indices]"
   ]
  },
  {
   "cell_type": "code",
   "execution_count": 26,
   "id": "8e3520c7",
   "metadata": {
    "scrolled": true
   },
   "outputs": [
    {
     "data": {
      "text/plain": [
       "'sos th us prez shakes hands with each passenger on his flight'"
      ]
     },
     "execution_count": 26,
     "metadata": {},
     "output_type": "execute_result"
    }
   ],
   "source": [
    "decoder_input[50]"
   ]
  },
  {
   "cell_type": "code",
   "execution_count": 27,
   "id": "03bdce71",
   "metadata": {},
   "outputs": [
    {
     "data": {
      "text/plain": [
       "'th us prez shakes hands with each passenger on his flight eos'"
      ]
     },
     "execution_count": 27,
     "metadata": {},
     "output_type": "execute_result"
    }
   ],
   "source": [
    "decoder_target[50]"
   ]
  },
  {
   "cell_type": "code",
   "execution_count": 28,
   "id": "fac76f28",
   "metadata": {},
   "outputs": [
    {
     "name": "stdout",
     "output_type": "stream",
     "text": [
      "테스트 데이터의 수 : 19672\n"
     ]
    }
   ],
   "source": [
    "n_of_val = int(len(encoder_input)*0.2)\n",
    "print('테스트 데이터의 수 :', n_of_val)"
   ]
  },
  {
   "cell_type": "code",
   "execution_count": 29,
   "id": "96dc75f5",
   "metadata": {},
   "outputs": [
    {
     "name": "stdout",
     "output_type": "stream",
     "text": [
      "훈련 데이터의 개수 : 78688\n",
      "훈련 레이블의 개수 : 78688\n",
      "테스트 데이터의 개수 : 19672\n",
      "테스트 레이블의 개수 : 19672\n"
     ]
    }
   ],
   "source": [
    "encoder_input_train = encoder_input[:-n_of_val]\n",
    "decoder_input_train = decoder_input[:-n_of_val]\n",
    "decoder_target_train = decoder_target[:-n_of_val]\n",
    "\n",
    "encoder_input_test = encoder_input[-n_of_val:]\n",
    "decoder_input_test = decoder_input[-n_of_val:]\n",
    "decoder_target_test = decoder_target[-n_of_val:]\n",
    "\n",
    "print('훈련 데이터의 개수 :', len(encoder_input_train))\n",
    "print('훈련 레이블의 개수 :', len(decoder_input_train))\n",
    "print('테스트 데이터의 개수 :', len(encoder_input_test))\n",
    "print('테스트 레이블의 개수 :', len(decoder_input_test))"
   ]
  },
  {
   "cell_type": "markdown",
   "id": "5e6d6b51",
   "metadata": {},
   "source": [
    "__9. encoder 데이터 단어집합(vocabulary) 생성 및 정수 인코딩__"
   ]
  },
  {
   "cell_type": "code",
   "execution_count": 30,
   "id": "470ea2be",
   "metadata": {},
   "outputs": [],
   "source": [
    "src_tokenizer = Tokenizer()\n",
    "# 단어 집합 생성과 동시에 고유 정수 부여\n",
    "src_tokenizer.fit_on_texts(encoder_input_train)"
   ]
  },
  {
   "cell_type": "code",
   "execution_count": 31,
   "id": "5fbfff18",
   "metadata": {},
   "outputs": [
    {
     "data": {
      "text/plain": [
       "69655"
      ]
     },
     "execution_count": 31,
     "metadata": {},
     "output_type": "execute_result"
    }
   ],
   "source": [
    "len(src_tokenizer.word_index)"
   ]
  },
  {
   "cell_type": "markdown",
   "id": "11753f8a",
   "metadata": {},
   "source": [
    "text 학습 데이터 내에서 빈도수 7회 미만인 단어의 비중은?"
   ]
  },
  {
   "cell_type": "code",
   "execution_count": 32,
   "id": "77fb729b",
   "metadata": {},
   "outputs": [
    {
     "name": "stdout",
     "output_type": "stream",
     "text": [
      "단어집합 내의 단어 개수: 69655\n",
      "빈도수 6 번 이하인 희귀 단어 개수: 47507\n",
      "단어집합 - 희귀단어시, 단어 집합 내의 단어 개수: 22148\n",
      "단어집합 내 희귀 단어 비율: 68.20328763190008\n",
      "전체 단어 빈도 중 희귀 단어 등장 비율: 3.491385865432662\n"
     ]
    }
   ],
   "source": [
    "threshold=7\n",
    "total_count = len(src_tokenizer.word_index)\n",
    "rare_count = 0\n",
    "total_freq = 0\n",
    "rare_freq = 0\n",
    "\n",
    "for key, value in src_tokenizer.word_counts.items():\n",
    "    total_freq = total_freq + value\n",
    "    \n",
    "    if (value < threshold):\n",
    "        rare_count = rare_count + 1\n",
    "        rare_freq = rare_freq + value\n",
    "        \n",
    "print('단어집합 내의 단어 개수:', total_count)\n",
    "print('빈도수 %s 번 이하인 희귀 단어 개수: %s'%(threshold-1, rare_count))\n",
    "print('단어집합 - 희귀단어시, 단어 집합 내의 단어 개수: %s'%(total_count - rare_count))\n",
    "print('단어집합 내 희귀 단어 비율:', (rare_count / total_count)*100)\n",
    "print('전체 단어 빈도 중 희귀 단어 등장 비율:', (rare_freq / total_freq)*100)"
   ]
  },
  {
   "cell_type": "markdown",
   "id": "137ac4ed",
   "metadata": {},
   "source": [
    "희귀 단어가 전체 단어의 약 68 %를 차지하지만, 희귀 단어 등장 빈도는 약 3.5 % 밖에 되지 않음. 등장 빈도 7회 미만인 단어는 정수 인코딩 하지 않고, 훈련 데이터에서 제거"
   ]
  },
  {
   "cell_type": "code",
   "execution_count": 33,
   "id": "72ebc581",
   "metadata": {},
   "outputs": [],
   "source": [
    "src_vocab = 22000\n",
    "src_tokenizer_2 = Tokenizer(num_words=src_vocab)\n",
    "src_tokenizer_2.fit_on_texts(encoder_input_train)"
   ]
  },
  {
   "cell_type": "markdown",
   "id": "06dd1828",
   "metadata": {},
   "source": [
    "encoder_input_train과 test를 정수 시퀀스로 변환"
   ]
  },
  {
   "cell_type": "code",
   "execution_count": 34,
   "id": "28242746",
   "metadata": {},
   "outputs": [
    {
     "name": "stdout",
     "output_type": "stream",
     "text": [
      "[904, 169, 1, 368, 55, 1317, 541, 12, 862, 394, 294, 288, 1007, 6618, 271, 395, 9146, 17468, 624, 1917, 4, 904, 1, 659, 2703, 456, 145, 908, 1202]\n",
      "[119, 419, 4187, 720, 11860, 7227, 5, 16, 122, 41, 2770, 136, 5777, 935, 136, 560, 451, 6149, 2473, 500, 1172, 1424, 949, 41, 19, 455, 652, 2501, 2473, 11860, 1, 167, 20, 190, 527, 400, 1496, 67, 2473]\n"
     ]
    }
   ],
   "source": [
    "encoder_input_train = src_tokenizer_2.texts_to_sequences(encoder_input_train)\n",
    "encoder_input_test = src_tokenizer_2.texts_to_sequences(encoder_input_test)\n",
    "print(encoder_input_train[0])\n",
    "print(encoder_input_test[0])"
   ]
  },
  {
   "cell_type": "markdown",
   "id": "f1d961e5",
   "metadata": {},
   "source": [
    "__10. decoder 데이터 단어집합(vocabulary) 생성 및 정수 인코딩__"
   ]
  },
  {
   "cell_type": "code",
   "execution_count": 35,
   "id": "3b9e7c7f",
   "metadata": {},
   "outputs": [],
   "source": [
    "tar_tokenizer = Tokenizer()\n",
    "tar_tokenizer.fit_on_texts(decoder_input_train)"
   ]
  },
  {
   "cell_type": "code",
   "execution_count": 36,
   "id": "b7ec2d52",
   "metadata": {},
   "outputs": [
    {
     "name": "stdout",
     "output_type": "stream",
     "text": [
      "단어집합 내의 단어 개수: 30042\n",
      "빈도수 6 번 이하인 희귀 단어 개수: 20521\n",
      "단어집합 - 희귀단어시, 단어 집합 내의 단어 개수: 9521\n",
      "단어집합 내 희귀 단어 비율: 68.30770254976366\n",
      "전체 단어 빈도 중 희귀 단어 등장 비율: 5.292172947634614\n"
     ]
    }
   ],
   "source": [
    "threshold = 7\n",
    "total_count = len(tar_tokenizer.word_index) \n",
    "rare_count = 0 \n",
    "total_freq = 0 \n",
    "rare_freq = 0 \n",
    "\n",
    "for key, value in tar_tokenizer.word_counts.items():\n",
    "    total_freq = total_freq + value\n",
    "\n",
    "    if(value < threshold):\n",
    "        rare_count = rare_count + 1\n",
    "        rare_freq = rare_freq + value\n",
    "\n",
    "print('단어집합 내의 단어 개수:', total_count)\n",
    "print('빈도수 %s 번 이하인 희귀 단어 개수: %s'%(threshold-1, rare_count))\n",
    "print('단어집합 - 희귀단어시, 단어 집합 내의 단어 개수: %s'%(total_count - rare_count))\n",
    "print('단어집합 내 희귀 단어 비율:', (rare_count / total_count)*100)\n",
    "print('전체 단어 빈도 중 희귀 단어 등장 비율:', (rare_freq / total_freq)*100)"
   ]
  },
  {
   "cell_type": "code",
   "execution_count": 37,
   "id": "04c6f6d9",
   "metadata": {},
   "outputs": [],
   "source": [
    "tar_vocab = 9500\n",
    "tar_tokenizer = Tokenizer(num_words=tar_vocab) \n",
    "tar_tokenizer.fit_on_texts(decoder_input_train)\n",
    "tar_tokenizer.fit_on_texts(decoder_target_train)"
   ]
  },
  {
   "cell_type": "code",
   "execution_count": 38,
   "id": "1895aead",
   "metadata": {},
   "outputs": [
    {
     "data": {
      "text/plain": [
       "30043"
      ]
     },
     "execution_count": 38,
     "metadata": {},
     "output_type": "execute_result"
    }
   ],
   "source": [
    "len(tar_tokenizer.word_index)"
   ]
  },
  {
   "cell_type": "code",
   "execution_count": 39,
   "id": "a8e3e1a4",
   "metadata": {},
   "outputs": [
    {
     "name": "stdout",
     "output_type": "stream",
     "text": [
      "input\n",
      "input  [[1, 4, 49, 271, 97, 49, 426, 183, 1600, 559, 410, 398], [1, 30, 323, 179, 11, 1957, 1500, 13, 5006], [1, 511, 1929, 133, 680, 2304, 858, 2475], [1, 45, 284, 133, 4270, 3, 166, 2104, 4, 1895], [1, 31, 10, 1179, 2681, 17, 769, 184]]\n",
      "target\n",
      "decoder  [[4, 49, 271, 97, 49, 426, 183, 1600, 559, 410, 398, 2], [30, 323, 179, 11, 1957, 1500, 13, 5006, 2], [511, 1929, 133, 680, 2304, 858, 2475, 2], [45, 284, 133, 4270, 3, 166, 2104, 4, 1895, 2], [31, 10, 1179, 2681, 17, 769, 184, 2]]\n"
     ]
    }
   ],
   "source": [
    "# 텍스트 시퀀스를 정수 시퀀스로 변환\n",
    "decoder_input_train = tar_tokenizer.texts_to_sequences(decoder_input_train) \n",
    "decoder_target_train = tar_tokenizer.texts_to_sequences(decoder_target_train)\n",
    "decoder_input_test = tar_tokenizer.texts_to_sequences(decoder_input_test)\n",
    "decoder_target_test = tar_tokenizer.texts_to_sequences(decoder_target_test)\n",
    "\n",
    "# 잘 변환되었는지 확인\n",
    "print('input')\n",
    "print('input ',decoder_input_train[:5])\n",
    "print('target')\n",
    "print('decoder ',decoder_target_train[:5])"
   ]
  },
  {
   "cell_type": "markdown",
   "id": "70ed2351",
   "metadata": {},
   "source": [
    "decoder train과 test에서 headlines 길이가 1인 경우(sos나 eos만 포함) 해당 샘플 삭제"
   ]
  },
  {
   "cell_type": "code",
   "execution_count": 40,
   "id": "70723bc5",
   "metadata": {},
   "outputs": [
    {
     "name": "stdout",
     "output_type": "stream",
     "text": [
      "삭제할 훈련 데이터의 개수 : 0\n",
      "삭제할 테스트 데이터의 개수 : 0\n"
     ]
    }
   ],
   "source": [
    "drop_train = [index for index, sentence in enumerate(decoder_input_train) if len(sentence) == 1]\n",
    "drop_test = [index for index, sentence in enumerate(decoder_input_test) if len(sentence) == 1]\n",
    "print('삭제할 훈련 데이터의 개수 :', len(drop_train))\n",
    "print('삭제할 테스트 데이터의 개수 :', len(drop_test))"
   ]
  },
  {
   "cell_type": "markdown",
   "id": "c33203e9",
   "metadata": {},
   "source": [
    "__11. 패딩 넣기__"
   ]
  },
  {
   "cell_type": "code",
   "execution_count": 41,
   "id": "175510fc",
   "metadata": {},
   "outputs": [
    {
     "name": "stdout",
     "output_type": "stream",
     "text": [
      "[   1 1977 3613   52   28 2962  173    3 2302    0    0    0    0    0\n",
      "    0    0]\n"
     ]
    }
   ],
   "source": [
    "text_max_len = 60\n",
    "headline_max_len = 16\n",
    "\n",
    "encoder_input_train = pad_sequences(encoder_input_train, maxlen=text_max_len, padding='post')\n",
    "encoder_input_test = pad_sequences(encoder_input_test, maxlen=text_max_len, padding='post')\n",
    "decoder_input_train = pad_sequences(decoder_input_train, maxlen=headline_max_len, padding='post')\n",
    "decoder_target_train = pad_sequences(decoder_target_train, maxlen=headline_max_len, padding='post')\n",
    "decoder_input_test = pad_sequences(decoder_input_test, maxlen=headline_max_len, padding='post')\n",
    "decoder_target_test = pad_sequences(decoder_target_test, maxlen=headline_max_len, padding='post')\n",
    "print(decoder_input_test[0])"
   ]
  },
  {
   "cell_type": "markdown",
   "id": "a4527bfe",
   "metadata": {},
   "source": [
    "## Step 3. 어텐션 메커니즘 사용하기 (추상적 요약)\n",
    "일반적인 seq2seq보다는 어텐션 메커니즘을 사용한 seq2seq를 사용하는 것이 더 나은 성능을 얻을 수 있어요. 실습 내용을 참고하여 어텐션 메커니즘을 사용한 seq2seq를 설계해 보세요."
   ]
  },
  {
   "cell_type": "markdown",
   "id": "dd43dd6e",
   "metadata": {},
   "source": [
    "__1. 모델 설계하기__\n",
    "* 1.1 인코더 설계"
   ]
  },
  {
   "cell_type": "code",
   "execution_count": 42,
   "id": "0462d183",
   "metadata": {},
   "outputs": [],
   "source": [
    "from tensorflow.keras.layers import Input, LSTM, Embedding, Dense, Concatenate, TimeDistributed\n",
    "from tensorflow.keras.models import Model\n",
    "from tensorflow.keras.callbacks import EarlyStopping, ModelCheckpoint\n",
    "\n",
    "embedding_dim = 128\n",
    "hidden_size = 256\n",
    "\n",
    "src_vocab = 22000\n",
    "tar_vocab = 9500\n",
    "\n",
    "# 인코더 입력 크기 지정\n",
    "encoder_inputs = Input(shape=(text_max_len,))\n",
    "\n",
    "enc_emb = Embedding(src_vocab, embedding_dim)(encoder_inputs)\n",
    "\n",
    "encoder_lstm1 = LSTM(hidden_size, return_sequences=True, return_state=True, dropout=0.4)\n",
    "encoder_output1, state_h1, state_c1 = encoder_lstm1(enc_emb)\n",
    "\n",
    "encoder_lstm2 = LSTM(hidden_size, return_sequences=True, return_state=True, dropout=0.4)\n",
    "encoder_output2, state_h2, state_c2 = encoder_lstm2(encoder_output1)\n",
    "\n",
    "encoder_lstm3 = LSTM(hidden_size, return_state=True, return_sequences=True, dropout=0.4)\n",
    "encoder_outputs, state_h, state_c= encoder_lstm3(encoder_output2)"
   ]
  },
  {
   "cell_type": "markdown",
   "id": "64adf059",
   "metadata": {},
   "source": [
    "* 1.2 디코더 설계"
   ]
  },
  {
   "cell_type": "code",
   "execution_count": 43,
   "id": "10f2c615",
   "metadata": {},
   "outputs": [],
   "source": [
    "decoder_inputs = Input(shape=(None,))\n",
    "\n",
    "dec_emb_layer = Embedding(tar_vocab, embedding_dim)\n",
    "dec_emb = dec_emb_layer(decoder_inputs)\n",
    "\n",
    "decoder_lstm = LSTM(hidden_size, return_sequences=True, return_state=True, dropout=0.4)\n",
    "decoder_outputs, _, _ = decoder_lstm(dec_emb, initial_state=[state_h, state_c])"
   ]
  },
  {
   "cell_type": "markdown",
   "id": "f577d192",
   "metadata": {},
   "source": [
    "* 1.3 디코더 출력층 설계"
   ]
  },
  {
   "cell_type": "code",
   "execution_count": 44,
   "id": "72911b8e",
   "metadata": {},
   "outputs": [
    {
     "name": "stdout",
     "output_type": "stream",
     "text": [
      "Model: \"model\"\n",
      "__________________________________________________________________________________________________\n",
      "Layer (type)                    Output Shape         Param #     Connected to                     \n",
      "==================================================================================================\n",
      "input_1 (InputLayer)            [(None, 60)]         0                                            \n",
      "__________________________________________________________________________________________________\n",
      "embedding (Embedding)           (None, 60, 128)      2816000     input_1[0][0]                    \n",
      "__________________________________________________________________________________________________\n",
      "lstm (LSTM)                     [(None, 60, 256), (N 394240      embedding[0][0]                  \n",
      "__________________________________________________________________________________________________\n",
      "input_2 (InputLayer)            [(None, None)]       0                                            \n",
      "__________________________________________________________________________________________________\n",
      "lstm_1 (LSTM)                   [(None, 60, 256), (N 525312      lstm[0][0]                       \n",
      "__________________________________________________________________________________________________\n",
      "embedding_1 (Embedding)         (None, None, 128)    1216000     input_2[0][0]                    \n",
      "__________________________________________________________________________________________________\n",
      "lstm_2 (LSTM)                   [(None, 60, 256), (N 525312      lstm_1[0][0]                     \n",
      "__________________________________________________________________________________________________\n",
      "lstm_3 (LSTM)                   [(None, None, 256),  394240      embedding_1[0][0]                \n",
      "                                                                 lstm_2[0][1]                     \n",
      "                                                                 lstm_2[0][2]                     \n",
      "__________________________________________________________________________________________________\n",
      "dense (Dense)                   (None, None, 9500)   2441500     lstm_3[0][0]                     \n",
      "==================================================================================================\n",
      "Total params: 8,312,604\n",
      "Trainable params: 8,312,604\n",
      "Non-trainable params: 0\n",
      "__________________________________________________________________________________________________\n"
     ]
    }
   ],
   "source": [
    "decoder_softmax_layer = Dense(tar_vocab, activation='softmax')\n",
    "decoder_softmax_outputs = decoder_softmax_layer(decoder_outputs)\n",
    "\n",
    "model = Model([encoder_inputs, decoder_inputs], decoder_softmax_outputs)\n",
    "model.summary()"
   ]
  },
  {
   "cell_type": "code",
   "execution_count": 45,
   "id": "f26e1eac",
   "metadata": {},
   "outputs": [
    {
     "data": {
      "image/png": "[encoded data removed]",
      "text/plain": [
       "<IPython.core.display.Image object>"
      ]
     },
     "execution_count": 45,
     "metadata": {},
     "output_type": "execute_result"
    }
   ],
   "source": [
    "from tensorflow import keras\n",
    "keras.utils.plot_model(model, show_shapes=True)"
   ]
  },
  {
   "cell_type": "markdown",
   "id": "84a123d5",
   "metadata": {},
   "source": [
    "__2. 어텐션 메커니즘 구현__"
   ]
  },
  {
   "cell_type": "code",
   "execution_count": 46,
   "id": "89ed187b",
   "metadata": {},
   "outputs": [
    {
     "name": "stdout",
     "output_type": "stream",
     "text": [
      "Model: \"model_1\"\n",
      "__________________________________________________________________________________________________\n",
      "Layer (type)                    Output Shape         Param #     Connected to                     \n",
      "==================================================================================================\n",
      "input_1 (InputLayer)            [(None, 60)]         0                                            \n",
      "__________________________________________________________________________________________________\n",
      "embedding (Embedding)           (None, 60, 128)      2816000     input_1[0][0]                    \n",
      "__________________________________________________________________________________________________\n",
      "lstm (LSTM)                     [(None, 60, 256), (N 394240      embedding[0][0]                  \n",
      "__________________________________________________________________________________________________\n",
      "input_2 (InputLayer)            [(None, None)]       0                                            \n",
      "__________________________________________________________________________________________________\n",
      "lstm_1 (LSTM)                   [(None, 60, 256), (N 525312      lstm[0][0]                       \n",
      "__________________________________________________________________________________________________\n",
      "embedding_1 (Embedding)         (None, None, 128)    1216000     input_2[0][0]                    \n",
      "__________________________________________________________________________________________________\n",
      "lstm_2 (LSTM)                   [(None, 60, 256), (N 525312      lstm_1[0][0]                     \n",
      "__________________________________________________________________________________________________\n",
      "lstm_3 (LSTM)                   [(None, None, 256),  394240      embedding_1[0][0]                \n",
      "                                                                 lstm_2[0][1]                     \n",
      "                                                                 lstm_2[0][2]                     \n",
      "__________________________________________________________________________________________________\n",
      "attention_layer (AdditiveAttent (None, None, 256)    256         lstm_3[0][0]                     \n",
      "                                                                 lstm_2[0][0]                     \n",
      "__________________________________________________________________________________________________\n",
      "concat_layer (Concatenate)      (None, None, 512)    0           lstm_3[0][0]                     \n",
      "                                                                 attention_layer[0][0]            \n",
      "__________________________________________________________________________________________________\n",
      "dense_1 (Dense)                 (None, None, 9500)   4873500     concat_layer[0][0]               \n",
      "==================================================================================================\n",
      "Total params: 10,744,860\n",
      "Trainable params: 10,744,860\n",
      "Non-trainable params: 0\n",
      "__________________________________________________________________________________________________\n"
     ]
    }
   ],
   "source": [
    "from tensorflow.keras.layers import AdditiveAttention\n",
    "\n",
    "attn_layer = AdditiveAttention(name='attention_layer')\n",
    "\n",
    "attn_out = attn_layer([decoder_outputs, encoder_outputs])\n",
    "\n",
    "# attention 결과와 decoder의 hidden state들을 연결\n",
    "decoder_concat_input = Concatenate(axis=-1, name='concat_layer')([decoder_outputs, attn_out])\n",
    "\n",
    "decoder_softmax_layer = Dense(tar_vocab, activation='softmax')\n",
    "decoder_softmax_outputs = decoder_softmax_layer(decoder_concat_input)\n",
    "\n",
    "model = Model([encoder_inputs, decoder_inputs], decoder_softmax_outputs)\n",
    "model.summary()"
   ]
  },
  {
   "cell_type": "code",
   "execution_count": 47,
   "id": "e9febb0f",
   "metadata": {},
   "outputs": [
    {
     "data": {
      "image/png": "[encoded data removed]",
      "text/plain": [
       "<IPython.core.display.Image object>"
      ]
     },
     "execution_count": 47,
     "metadata": {},
     "output_type": "execute_result"
    }
   ],
   "source": [
    "from tensorflow import keras\n",
    "keras.utils.plot_model(model, show_shapes=True)"
   ]
  },
  {
   "cell_type": "markdown",
   "id": "9afa7fd8",
   "metadata": {},
   "source": [
    "__3. 모델 훈련하기__"
   ]
  },
  {
   "cell_type": "code",
   "execution_count": 48,
   "id": "cd3850ed",
   "metadata": {},
   "outputs": [
    {
     "name": "stdout",
     "output_type": "stream",
     "text": [
      "Epoch 1/100\n",
      "308/308 [==============================] - 65s 145ms/step - loss: 4.2549 - val_loss: 3.8792\n",
      "Epoch 2/100\n",
      "308/308 [==============================] - 42s 137ms/step - loss: 3.7618 - val_loss: 3.6015\n",
      "Epoch 3/100\n",
      "308/308 [==============================] - 43s 138ms/step - loss: 3.5142 - val_loss: 3.4131\n",
      "Epoch 4/100\n",
      "308/308 [==============================] - 42s 138ms/step - loss: 3.3245 - val_loss: 3.2681\n",
      "Epoch 5/100\n",
      "308/308 [==============================] - 43s 139ms/step - loss: 3.1671 - val_loss: 3.1585\n",
      "Epoch 6/100\n",
      "308/308 [==============================] - 42s 138ms/step - loss: 3.0362 - val_loss: 3.0765\n",
      "Epoch 7/100\n",
      "308/308 [==============================] - 43s 138ms/step - loss: 2.9238 - val_loss: 3.0131\n",
      "Epoch 8/100\n",
      "308/308 [==============================] - 43s 138ms/step - loss: 2.8284 - val_loss: 2.9573\n",
      "Epoch 9/100\n",
      "308/308 [==============================] - 43s 138ms/step - loss: 2.7435 - val_loss: 2.9124\n",
      "Epoch 10/100\n",
      "308/308 [==============================] - 43s 139ms/step - loss: 2.6687 - val_loss: 2.8745\n",
      "Epoch 11/100\n",
      "308/308 [==============================] - 43s 138ms/step - loss: 2.6021 - val_loss: 2.8509\n",
      "Epoch 12/100\n",
      "308/308 [==============================] - 43s 138ms/step - loss: 2.5408 - val_loss: 2.8173\n",
      "Epoch 13/100\n",
      "308/308 [==============================] - 43s 138ms/step - loss: 2.4860 - val_loss: 2.7978\n",
      "Epoch 14/100\n",
      "308/308 [==============================] - 43s 139ms/step - loss: 2.4341 - val_loss: 2.7884\n",
      "Epoch 15/100\n",
      "308/308 [==============================] - 42s 138ms/step - loss: 2.3880 - val_loss: 2.7701\n",
      "Epoch 16/100\n",
      "308/308 [==============================] - 43s 139ms/step - loss: 2.3450 - val_loss: 2.7643\n",
      "Epoch 17/100\n",
      "308/308 [==============================] - 42s 138ms/step - loss: 2.3030 - val_loss: 2.7512\n",
      "Epoch 18/100\n",
      "308/308 [==============================] - 43s 139ms/step - loss: 2.2631 - val_loss: 2.7386\n",
      "Epoch 19/100\n",
      "308/308 [==============================] - 43s 139ms/step - loss: 2.2287 - val_loss: 2.7365\n",
      "Epoch 20/100\n",
      "308/308 [==============================] - 43s 139ms/step - loss: 2.1960 - val_loss: 2.7322\n",
      "Epoch 21/100\n",
      "308/308 [==============================] - 43s 139ms/step - loss: 2.1628 - val_loss: 2.7256\n",
      "Epoch 22/100\n",
      "308/308 [==============================] - 43s 138ms/step - loss: 2.1291 - val_loss: 2.7284\n",
      "Epoch 23/100\n",
      "308/308 [==============================] - 43s 139ms/step - loss: 2.1013 - val_loss: 2.7190\n",
      "Epoch 24/100\n",
      "308/308 [==============================] - 43s 138ms/step - loss: 2.0736 - val_loss: 2.7203\n",
      "Epoch 25/100\n",
      "308/308 [==============================] - 43s 139ms/step - loss: 2.0498 - val_loss: 2.7156\n",
      "Epoch 26/100\n",
      "308/308 [==============================] - 43s 139ms/step - loss: 2.0255 - val_loss: 2.7205\n",
      "Epoch 27/100\n",
      "308/308 [==============================] - 43s 138ms/step - loss: 2.0023 - val_loss: 2.7205\n",
      "Epoch 28/100\n",
      "308/308 [==============================] - 43s 138ms/step - loss: 1.9800 - val_loss: 2.7195\n",
      "Epoch 29/100\n",
      "308/308 [==============================] - 43s 139ms/step - loss: 1.9580 - val_loss: 2.7221\n",
      "Epoch 30/100\n",
      "308/308 [==============================] - 43s 138ms/step - loss: 1.9368 - val_loss: 2.7253\n",
      "Epoch 00030: early stopping\n"
     ]
    }
   ],
   "source": [
    "model.compile(optimizer='rmsprop', loss='sparse_categorical_crossentropy')\n",
    "es = EarlyStopping(monitor='val_loss', patience=5, verbose=1)\n",
    "history = model.fit(x=[encoder_input_train, decoder_input_train], y=decoder_target_train, \n",
    "                   validation_data=([encoder_input_test, decoder_input_test], decoder_target_test),\n",
    "                   batch_size=256, callbacks=[es], epochs=100)"
   ]
  },
  {
   "cell_type": "code",
   "execution_count": 60,
   "id": "52ddb59f",
   "metadata": {},
   "outputs": [
    {
     "data": {
      "image/png": "[encoded data removed]",
      "text/plain": [
       "<Figure size 432x288 with 1 Axes>"
      ]
     },
     "metadata": {
      "needs_background": "light"
     },
     "output_type": "display_data"
    }
   ],
   "source": [
    "plt.plot(history.history['loss'], label='train')\n",
    "plt.plot(history.history['val_loss'], label='test')\n",
    "plt.legend()\n",
    "plt.show()"
   ]
  },
  {
   "cell_type": "markdown",
   "id": "0d97ff24",
   "metadata": {},
   "source": [
    "__4. 인퍼런스 모델 구현__"
   ]
  },
  {
   "cell_type": "code",
   "execution_count": 61,
   "id": "c0a1f67d",
   "metadata": {},
   "outputs": [],
   "source": [
    "src_index_to_word = src_tokenizer.index_word\n",
    "tar_word_to_index = tar_tokenizer.word_index\n",
    "tar_index_to_word = tar_tokenizer.index_word"
   ]
  },
  {
   "cell_type": "markdown",
   "id": "56f665ac",
   "metadata": {},
   "source": [
    "정답 문장이 없는 인퍼런스 단계에서는 만들어야 할 문장의 길이만큼 디코더가 반복 구조로 동작해야 하기 때문에 인퍼런스를 위한 모델 설계를 별도로 해주어야 함"
   ]
  },
  {
   "cell_type": "code",
   "execution_count": 62,
   "id": "2d7256df",
   "metadata": {},
   "outputs": [],
   "source": [
    "# encoder 설계\n",
    "encoder_model = Model(inputs=encoder_inputs, outputs=[encoder_outputs, state_h, state_c])\n",
    "\n",
    "# 이전 시점의 상태를 저장하는 텐서\n",
    "decoder_state_input_h = Input(shape=(hidden_size,))\n",
    "decoder_state_input_c = Input(shape=(hidden_size,))\n",
    "\n",
    "dec_emb2 = dec_emb_layer(decoder_inputs)\n",
    "\n",
    "decoder_outputs2, state_h2, state_c2 = decoder_lstm(dec_emb2, initial_state=[decoder_state_input_h, decoder_state_input_c])"
   ]
  },
  {
   "cell_type": "markdown",
   "id": "c58b99c5",
   "metadata": {},
   "source": [
    "__어텐션 메커니즘을 사용하는 출력층 설계__"
   ]
  },
  {
   "cell_type": "code",
   "execution_count": 63,
   "id": "20880e2b",
   "metadata": {},
   "outputs": [],
   "source": [
    "# 어텐션 함수\n",
    "decoder_hidden_state_input = Input(shape=(text_max_len, hidden_size))\n",
    "attn_out_inf = attn_layer([decoder_outputs2, decoder_hidden_state_input])\n",
    "decoder_inf_concat = Concatenate(axis=-1, name='concat')([decoder_outputs2, attn_out_inf])\n",
    "\n",
    "# 디코더 출력층\n",
    "decoder_outputs2 = decoder_softmax_layer(decoder_inf_concat)\n",
    "\n",
    "# 최종 디코더 모델\n",
    "decoder_model = Model([decoder_inputs] + [decoder_hidden_state_input,decoder_state_input_h, decoder_state_input_c],\n",
    "    [decoder_outputs2] + [state_h2, state_c2])"
   ]
  },
  {
   "cell_type": "markdown",
   "id": "1717efc3",
   "metadata": {},
   "source": [
    "__인퍼런스 단계에서 단어 시퀀스 완성하는 함수 생성__"
   ]
  },
  {
   "cell_type": "code",
   "execution_count": 64,
   "id": "96728661",
   "metadata": {},
   "outputs": [],
   "source": [
    "def decode_sequence(input_seq):\n",
    "    e_out, e_h, e_c = encoder_model.predict(input_seq)\n",
    "    \n",
    "    target_seq = np.zeros((1,1))\n",
    "    target_seq[0,0] = tar_word_to_index['sos']\n",
    "    \n",
    "    stop_condition = False\n",
    "    decoded_sentence=''\n",
    "    while not stop_condition:\n",
    "        output_tokens, h, c = decoder_model.predict([target_seq] + [e_out, e_h, e_c])\n",
    "        sampled_token_index = np.argmax(output_tokens[0, -1, :])\n",
    "        sampled_token = tar_index_to_word[sampled_token_index]\n",
    "        \n",
    "        if (sampled_token!='eos'):\n",
    "            decoded_sentence += ' ' + sampled_token\n",
    "        \n",
    "        if (sampled_token == 'eos' or len(decoded_sentence.split())>=(headline_max_len-1)):\n",
    "            stop_condition = True\n",
    "            \n",
    "        target_seq = np.zeros((1,1))\n",
    "        target_seq[0,0] = sampled_token_index\n",
    "        \n",
    "        e_h, e_c = h, c\n",
    "        \n",
    "    return decoded_sentence"
   ]
  },
  {
   "cell_type": "markdown",
   "id": "1539670c",
   "metadata": {},
   "source": [
    "## Step 4. 실제 결과와 요약문 비교하기 (추상적 요약)"
   ]
  },
  {
   "cell_type": "code",
   "execution_count": 65,
   "id": "eb082830",
   "metadata": {},
   "outputs": [],
   "source": [
    "def seq2text(input_seq):\n",
    "    temp=''\n",
    "    for i in input_seq:\n",
    "        if (i!=0):\n",
    "            temp = temp + src_index_to_word[i] + ' '\n",
    "    return temp\n",
    "\n",
    "def seq2headline(input_seq):\n",
    "    temp=''\n",
    "    for i in input_seq:\n",
    "        if ((i!=0 and i!=tar_word_to_index['sos']) and i!=tar_word_to_index['eos']):\n",
    "            temp = temp + tar_index_to_word[i] + ' '\n",
    "    return temp"
   ]
  },
  {
   "cell_type": "code",
   "execution_count": 72,
   "id": "6a8d063d",
   "metadata": {
    "scrolled": true
   },
   "outputs": [
    {
     "name": "stdout",
     "output_type": "stream",
     "text": [
      "원문 : armed fan face covered black cloth brandishing long iron bar rushed onto pitch croatian football league game attempt attack match referee earlier match play halted several minutes fireworks set home fan \n",
      "실제 요약 : video armed fan invades pitch to attack football referee \n",
      "예측 요약 :  fan throws football as fan city for fan city\n",
      "\n",
      "\n",
      "원문 : kkr rounder andre russell slammed sixes knock csk ipl tuesday russell holds record highest score number seven batsman ipl overtaking csk dwayne bravo run record russell also became first batsman slam six sixes csk chennai ipl \n",
      "실제 요약 : russell hits records top ipl score by no batsman \n",
      "예측 요약 :  csk score csk st ipl highest score scorer in ipl\n",
      "\n",
      "\n",
      "원문 : indian batsman shikhar dhawan said performance tour south africa helped earn contract bcci dhawan scored two half centuries one century odi series win south africa said dream come true perform like south africa \n",
      "실제 요약 : south africa performance helped me win cr contract dhawan \n",
      "예측 요약 :  dhawan has been an captain but dhawan\n",
      "\n",
      "\n",
      "원문 : bjp president amit shah wednesday met actress madhuri dixit mumbai part party sampark programme maharashtra chief minister devendra fadnavis also present meeting shah also scheduled meet shiv sena chief uddhav thackeray whose party said ally bjp polls \n",
      "실제 요약 : bjp president amit shah meets madhuri dixit in mumbai \n",
      "예측 요약 :  amit shah to be held for shah rukh khan in mumbai\n",
      "\n",
      "\n"
     ]
    }
   ],
   "source": [
    "for i in [7, 77, 777, 7777]:\n",
    "    print(\"원문 :\", seq2text(encoder_input_test[i]))\n",
    "    print(\"실제 요약 :\", seq2headline(decoder_input_test[i]))\n",
    "    print(\"예측 요약 :\", decode_sequence(encoder_input_test[i].reshape(1, text_max_len)))\n",
    "    print(\"\\n\")"
   ]
  },
  {
   "cell_type": "markdown",
   "id": "9d936363",
   "metadata": {},
   "source": [
    "## Step 5. Summa을 이용해서 추출적 요약해보기"
   ]
  },
  {
   "cell_type": "code",
   "execution_count": 56,
   "id": "c3b1930d",
   "metadata": {},
   "outputs": [],
   "source": [
    "import requests\n",
    "from summa.summarizer import summarize"
   ]
  },
  {
   "cell_type": "code",
   "execution_count": 57,
   "id": "9a7c80ae",
   "metadata": {},
   "outputs": [],
   "source": [
    "urllib.request.urlretrieve(\"https://raw.githubusercontent.com/sunnysai12345/News_Summary/master/news_summary_more.csv\", filename=\"news_summary_more.csv\")\n",
    "data = pd.read_csv('news_summary_more.csv', encoding='iso-8859-1')"
   ]
  },
  {
   "cell_type": "code",
   "execution_count": 68,
   "id": "be12681c",
   "metadata": {
    "scrolled": false
   },
   "outputs": [
    {
     "name": "stdout",
     "output_type": "stream",
     "text": [
      "원본 텍스트:  Government officials on Wednesday said that a swine flu outbreak has killed 76 people this year in Rajasthan. Colder weather has worsened the seasonal outbreak of the H1N1 virus in the country, officials added. Rajasthan recorded more than a third of all swine flu deaths in India with Jodhpur being the worst affected area in the state, officials said.\n",
      "원본 요약 텍스트:  Swine flu outbreak kills 76 in Rajasthan\n",
      "추출적 요약 텍스트:  Government officials on Wednesday said that a swine flu outbreak has killed 76 people this year in Rajasthan.\n",
      "\n",
      "\n",
      "원본 텍스트:  World number one Novak Djokovic defeated Lucas Pouille in the semi-final to reach Australian Open men's singles final for the seventh time. The six-time Australian Open champion won the match with a scoreline of 6-0, 6-2, 6-2 in 83 minutes. Djokovic will face world number two Rafael Nadal in the summit clash in a repeat of the 2012 final. \n",
      "원본 요약 텍스트:  World no. 1 Djokovic to face world no. 2 Nadal in Aus Open final\n",
      "추출적 요약 텍스트:  World number one Novak Djokovic defeated Lucas Pouille in the semi-final to reach Australian Open men's singles final for the seventh time.\n",
      "\n",
      "\n",
      "원본 텍스트:  Jet Airways cancelled at least 14 flights to various destinations on Sunday after some of its pilots reported \"sick\" over non-payment of their dues, as per reports. The airline has been defaulting on payment of salaries since August due to cash crunch. In a statement, Jet Airways said flights were cancelled due to \"unforeseen operational circumstance, and not pilot non-cooperation.\"\n",
      "원본 요약 텍스트:  Jet Airways cancels 14 flights as pilots call in 'sick': Reports\n",
      "추출적 요약 텍스트:  Jet Airways cancelled at least 14 flights to various destinations on Sunday after some of its pilots reported \"sick\" over non-payment of their dues, as per reports.\n",
      "\n",
      "\n"
     ]
    }
   ],
   "source": [
    "from summa.summarizer import summarize\n",
    "\n",
    "for i in [77,777,7777]:\n",
    "    print('원본 텍스트: ', data['text'][i])\n",
    "    print('원본 요약 텍스트: ', data['headlines'][i])\n",
    "    print('추출적 요약 텍스트: ', summarize(data['text'][i], ratio=0.25, words=15))\n",
    "    print(\"\\n\")"
   ]
  },
  {
   "cell_type": "markdown",
   "id": "a55a1d1f",
   "metadata": {},
   "source": [
    "[추상적 요약]\n",
    "* 팬들은 팬시를 위해 축구를 팬시로 던집니다\n",
    "* csk 점수 csk stip ipl에서 가장 높은 점수를 받은 사람\n",
    "* 다완은 주장이었지만 다완은\n",
    "* 뭄바이에서 샤루크 칸을 위해 열릴 아미샤\n",
    "\n",
    "[추출적 요약 텍스트]\n",
    "\n",
    "* 수요일 정부 관리들은 올해 라자스탄에서 돼지 독감이 발생해 76명이 사망했다고 말했습니다.\n",
    "* 세계 랭킹 1위 노박 조코비치가 준결승에서 루카스 푸일을 꺾고 7번째 호주 오픈 남자 단식 결승에 올랐습니다.\n",
    "* 보도에 따르면 제트 에어웨이즈는 일부 조종사들이 회비 미납에 대해 \"아프다\"고 보고한 후 일요일 다양한 목적지로 가는 최소 14편의 항공편을 취소했습니다.\n",
    "\n",
    "\n",
    "__문법 완성도와 핵심단어 포함 측면 모두 추출적 요약이 우수하다.__"
   ]
  }
 ],
 "metadata": {
  "kernelspec": {
   "display_name": "Python 3 (ipykernel)",
   "language": "python",
   "name": "python3"
  },
  "language_info": {
   "codemirror_mode": {
    "name": "ipython",
    "version": 3
   },
   "file_extension": ".py",
   "mimetype": "text/x-python",
   "name": "python",
   "nbconvert_exporter": "python",
   "pygments_lexer": "ipython3",
   "version": "3.9.7"
  }
 },
 "nbformat": 4,
 "nbformat_minor": 5
}
