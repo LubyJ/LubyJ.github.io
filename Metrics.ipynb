{
 "cells": [
  {
   "cell_type": "markdown",
   "id": "b094111c",
   "metadata": {},
   "source": [
    "### 오차행렬과 정확도(Accuracy), 정밀도(Precision), 재현율(Recall)"
   ]
  },
  {
   "cell_type": "markdown",
   "id": "0a38fc2b",
   "metadata": {},
   "source": [
    "<img src='https://user-images.githubusercontent.com/127171630/226164529-732bdf8b-295d-4362-98d3-233430507c3e.png'> "
   ]
  },
  {
   "cell_type": "markdown",
   "id": "0948d118",
   "metadata": {},
   "source": [
    "__정밀도(precision)__"
   ]
  },
  {
   "cell_type": "markdown",
   "id": "034dd890",
   "metadata": {},
   "source": [
    "* model이 True라고 분류한 것중, 진짜 True인게 몇개인지"
   ]
  },
  {
   "cell_type": "markdown",
   "id": "5c89d9ea",
   "metadata": {},
   "source": [
    "__재현율(Recall)__"
   ]
  },
  {
   "cell_type": "markdown",
   "id": "bcf02285",
   "metadata": {},
   "source": [
    "* True인 샘플군이 있는데, 이 중 모델이 몇개나 True라고 맞추는지"
   ]
  },
  {
   "cell_type": "markdown",
   "id": "e020ffe8",
   "metadata": {},
   "source": [
    "__F1 score__"
   ]
  },
  {
   "cell_type": "markdown",
   "id": "9cae814a",
   "metadata": {},
   "source": [
    "* 정밀도와 재현율의 조화 평균으로 정밀도와 재현율이 비슷할 수록 F1 score도 높아짐\n",
    "* 0 ~ 1 값을 가지며 일반적으로 f1 score가 높을수록 분류기 성능이 좋다고 할 수 있음."
   ]
  },
  {
   "cell_type": "markdown",
   "id": "27ba6f24",
   "metadata": {},
   "source": [
    "<img src='https://user-images.githubusercontent.com/127171630/226164892-ef548de7-f558-4bea-8b7f-56b722dd9149.png'>"
   ]
  },
  {
   "cell_type": "markdown",
   "id": "e93c5c23",
   "metadata": {},
   "source": [
    "__ROC 곡선(Receiver Operating Characteristtic curve)__"
   ]
  },
  {
   "cell_type": "markdown",
   "id": "c4fa6840",
   "metadata": {},
   "source": [
    "* FPR에 대한 TPR의 곡선\n",
    "    - FPR(False Positive Rate) : 실제 음성인데 양성으로 오분류\n",
    "    - TPR(True Positivie Rate) : 실제양성이고 양성으로 잘 분류"
   ]
  },
  {
   "cell_type": "markdown",
   "id": "b57faec7",
   "metadata": {},
   "source": [
    "<img src='https://user-images.githubusercontent.com/127171630/226165110-b56f53ea-e6ee-4e98-98f0-f7992d074458.png'>"
   ]
  },
  {
   "cell_type": "markdown",
   "id": "3bab0838",
   "metadata": {},
   "source": [
    "* ROC 곡선의 x축은 FPR(허위양성비율), y축은 TPR(참 양성 비율=재현율)이며 곡선이 원점에서 멀면 멀수록 성능이 좋음을 의미함.\n",
    "* AUC는 Area Under the ROC Curve의 줄임말로, ROC 커브와 직선 사이의 면적을 의미함. AUC 값의 범위는 0 ~ 1 이며 값이 클수록 예측 정확도가 높다고 할 수 있음."
   ]
  },
  {
   "cell_type": "markdown",
   "id": "3e39c6ba",
   "metadata": {},
   "source": []
  }
 ],
 "metadata": {
  "kernelspec": {
   "display_name": "Python 3 (ipykernel)",
   "language": "python",
   "name": "python3"
  },
  "language_info": {
   "codemirror_mode": {
    "name": "ipython",
    "version": 3
   },
   "file_extension": ".py",
   "mimetype": "text/x-python",
   "name": "python",
   "nbconvert_exporter": "python",
   "pygments_lexer": "ipython3",
   "version": "3.11.2"
  }
 },
 "nbformat": 4,
 "nbformat_minor": 5
}
