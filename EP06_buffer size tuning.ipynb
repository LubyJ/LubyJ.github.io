{
 "cells": [
  {
   "cell_type": "markdown",
   "id": "55553d2b",
   "metadata": {},
   "source": [
    "### 데이터 읽어오기"
   ]
  },
  {
   "cell_type": "code",
   "execution_count": 1,
   "id": "3b279e29",
   "metadata": {},
   "outputs": [],
   "source": [
    "import glob\n",
    "import os, re\n",
    "txt_file_path = os.getenv('HOME')+'/aiffel/lyricist/data/lyrics/*' \n",
    "txt_list = glob.glob(txt_file_path)\n",
    "\n",
    "raw_corpus = []\n",
    "\n",
    "for txt_file in txt_list:\n",
    "    with open(txt_file, \"r\") as f:\n",
    "        raw = f.read().splitlines()\n",
    "        raw_corpus.extend(raw)"
   ]
  },
  {
   "cell_type": "markdown",
   "id": "e0812abe",
   "metadata": {},
   "source": [
    "### 데이터 정제"
   ]
  },
  {
   "cell_type": "code",
   "execution_count": 2,
   "id": "d9bd21a9",
   "metadata": {},
   "outputs": [
    {
     "data": {
      "text/plain": [
       "['<start> you ever want something <end>',\n",
       " '<start> that you know you shouldn t have <end>',\n",
       " '<start> the more you know you shouldn t have it , <end>',\n",
       " '<start> the more you want it <end>',\n",
       " '<start> and then one day you get it , <end>']"
      ]
     },
     "execution_count": 2,
     "metadata": {},
     "output_type": "execute_result"
    }
   ],
   "source": [
    "def preprocess_sentence(sentence):\n",
    "    sentence = sentence.lower().strip()\n",
    "    sentence = re.sub(f\"([?.!,¿])\", r\" \\1 \", sentence)\n",
    "    sentence = re.sub(r'[\" \"]+', \" \", sentence) # 3\n",
    "    sentence = re.sub(r\"[^a-zA-Z?.!,¿]+\", \" \", sentence) # 4\n",
    "    sentence = sentence.strip() # 5\n",
    "    sentence = '<start> ' + sentence + ' <end>' # 6\n",
    "    return sentence\n",
    "\n",
    "corpus = []\n",
    "\n",
    "for sentence in raw_corpus:\n",
    "    if len(sentence) == 0: continue\n",
    "    if sentence[-1] == \"]\": continue\n",
    "        \n",
    "    preprocessed_sentence = preprocess_sentence(sentence)\n",
    "    corpus.append(preprocessed_sentence)\n",
    "    \n",
    "corpus[:5]"
   ]
  },
  {
   "cell_type": "markdown",
   "id": "2b5d1236",
   "metadata": {},
   "source": [
    "### 데이터셋 토큰화"
   ]
  },
  {
   "cell_type": "code",
   "execution_count": 3,
   "id": "0382725b",
   "metadata": {},
   "outputs": [
    {
     "name": "stdout",
     "output_type": "stream",
     "text": [
      "[[  2   7 156 ...   0   0   0]\n",
      " [  2  17   7 ...   0   0   0]\n",
      " [  2   6  98 ...   0   0   0]\n",
      " ...\n",
      " [  2 310   1 ...   0   0   0]\n",
      " [  2 729   5 ...   0   0   0]\n",
      " [  2 729   5 ...   0   0   0]] <keras_preprocessing.text.Tokenizer object at 0x7fee067d9100>\n"
     ]
    }
   ],
   "source": [
    "import tensorflow as tf\n",
    "def tokenize(corpus):\n",
    "    tokenizer = tf.keras.preprocessing.text.Tokenizer(num_words=12000,\n",
    "                                                     filters=' ',\n",
    "                                                     oov_token='<unk>')\n",
    "    tokenizer.fit_on_texts(corpus)\n",
    "    tensor = tokenizer.texts_to_sequences(corpus)\n",
    "    tensor = tf.keras.preprocessing.sequence.pad_sequences(tensor,\n",
    "                                                          padding='post',\n",
    "                                                          maxlen=20)\n",
    "    print(tensor, tokenizer)\n",
    "    return tensor, tokenizer\n",
    "\n",
    "tensor, tokenizer = tokenize(corpus)"
   ]
  },
  {
   "cell_type": "markdown",
   "id": "82a4c959",
   "metadata": {},
   "source": [
    "### 평가 데이터셋 분리"
   ]
  },
  {
   "cell_type": "code",
   "execution_count": 4,
   "id": "f25eac4a",
   "metadata": {},
   "outputs": [],
   "source": [
    "# source, target input 생성\n",
    "src_input = tensor[:,:-1]\n",
    "tgt_input = tensor[:, 1:]\n",
    "\n",
    "from sklearn.model_selection import train_test_split\n",
    "enc_train, enc_val, dec_train, dec_val = train_test_split(src_input, tgt_input, \n",
    "                                                          test_size=0.2,\n",
    "                                                         random_state=2023)"
   ]
  },
  {
   "cell_type": "markdown",
   "id": "25d76195",
   "metadata": {},
   "source": [
    "### train_dataset 객체 생성\n",
    "---\n",
    "<span style='color:red'> __BUFFER_SIZE 조절__ </span>\n",
    "1. train_dataset 크기보다 10배 큰 값\n",
    "2. train_dataset 크기보다 0.1배 작은 값\n",
    "3. train_dataset 크기와 같은 값\n",
    "\n",
    "* train_dataset의 BUFFER만 바꿈"
   ]
  },
  {
   "cell_type": "code",
   "execution_count": 5,
   "id": "b8762b6f",
   "metadata": {},
   "outputs": [
    {
     "name": "stdout",
     "output_type": "stream",
     "text": [
      "139790\n"
     ]
    }
   ],
   "source": [
    "print(len(enc_train))"
   ]
  },
  {
   "cell_type": "markdown",
   "id": "718987b6",
   "metadata": {},
   "source": [
    "#### 1. train_dataset 크기보다 10배 큰 값"
   ]
  },
  {
   "cell_type": "code",
   "execution_count": 6,
   "id": "dacefb5e",
   "metadata": {},
   "outputs": [
    {
     "data": {
      "text/plain": [
       "<BatchDataset shapes: ((256, 19), (256, 19)), types: (tf.int32, tf.int32)>"
      ]
     },
     "execution_count": 6,
     "metadata": {},
     "output_type": "execute_result"
    }
   ],
   "source": [
    "BUFFER_SIZE = 1397900\n",
    "BATCH_SIZE = 256\n",
    "steps_per_epoch = len(src_input) // BATCH_SIZE\n",
    "\n",
    "VOCAB_SIZE = tokenizer.num_words + 1   \n",
    "\n",
    "train_dataset = tf.data.Dataset.from_tensor_slices((enc_train, dec_train))\n",
    "train_dataset = train_dataset.shuffle(BUFFER_SIZE)\n",
    "train_dataset = train_dataset.batch(BATCH_SIZE, drop_remainder=True)\n",
    "train_dataset"
   ]
  },
  {
   "cell_type": "markdown",
   "id": "78c3b441",
   "metadata": {},
   "source": [
    "### val_dataset 객체 생성"
   ]
  },
  {
   "cell_type": "code",
   "execution_count": 7,
   "id": "2b628b48",
   "metadata": {},
   "outputs": [
    {
     "data": {
      "text/plain": [
       "<BatchDataset shapes: ((256, 19), (256, 19)), types: (tf.int32, tf.int32)>"
      ]
     },
     "execution_count": 7,
     "metadata": {},
     "output_type": "execute_result"
    }
   ],
   "source": [
    "BUFFER_SIZE = len(src_input)\n",
    "BATCH_SIZE = 256\n",
    "steps_per_epoch = len(src_input) // BATCH_SIZE\n",
    "\n",
    "VOCAB_SIZE = tokenizer.num_words + 1   \n",
    "\n",
    "val_dataset = tf.data.Dataset.from_tensor_slices((enc_val, dec_val))\n",
    "val_dataset = val_dataset.shuffle(BUFFER_SIZE)\n",
    "val_dataset = val_dataset.batch(BATCH_SIZE, drop_remainder=True)\n",
    "val_dataset"
   ]
  },
  {
   "cell_type": "markdown",
   "id": "196a2210",
   "metadata": {},
   "source": [
    "### 모델 생성"
   ]
  },
  {
   "cell_type": "code",
   "execution_count": 8,
   "id": "d43aab8e",
   "metadata": {},
   "outputs": [],
   "source": [
    "class TextGenerator(tf.keras.Model):\n",
    "    def __init__(self, vocab_size, embedding_size, hidden_size):\n",
    "        super().__init__()\n",
    "        self.embedding = tf.keras.layers.Embedding(vocab_size, embedding_size)\n",
    "        self.rnn_1 = tf.keras.layers.LSTM(hidden_size, return_sequences=True)\n",
    "        self.rnn_2 = tf.keras.layers.LSTM(hidden_size, return_sequences=True)\n",
    "        self.linear = tf.keras.layers.Dense(vocab_size)\n",
    "        \n",
    "    def call(self,x):\n",
    "        out = self.embedding(x)\n",
    "        out = self.rnn_1(out)\n",
    "        out = self.rnn_2(out)\n",
    "        out = self.linear(out)\n",
    "        \n",
    "        return out\n",
    "    \n",
    "embedding_size = 256\n",
    "hidden_size = 1024 \n",
    "model = TextGenerator(tokenizer.num_words + 1, embedding_size , hidden_size) "
   ]
  },
  {
   "cell_type": "markdown",
   "id": "b28e6254",
   "metadata": {},
   "source": [
    "### 모델 학습"
   ]
  },
  {
   "cell_type": "code",
   "execution_count": 9,
   "id": "4f435dab",
   "metadata": {},
   "outputs": [
    {
     "name": "stdout",
     "output_type": "stream",
     "text": [
      "Epoch 1/10\n",
      "546/546 [==============================] - 134s 234ms/step - loss: 2.8875 - val_loss: 2.5750\n",
      "Epoch 2/10\n",
      "546/546 [==============================] - 131s 239ms/step - loss: 2.4863 - val_loss: 2.4294\n",
      "Epoch 3/10\n",
      "546/546 [==============================] - 131s 239ms/step - loss: 2.3526 - val_loss: 2.3348\n",
      "Epoch 4/10\n",
      "546/546 [==============================] - 131s 239ms/step - loss: 2.2524 - val_loss: 2.2686\n",
      "Epoch 5/10\n",
      "546/546 [==============================] - 131s 240ms/step - loss: 2.1679 - val_loss: 2.2148\n",
      "Epoch 6/10\n",
      "546/546 [==============================] - 131s 240ms/step - loss: 2.0908 - val_loss: 2.1706\n",
      "Epoch 7/10\n",
      "546/546 [==============================] - 131s 240ms/step - loss: 2.0190 - val_loss: 2.1301\n",
      "Epoch 8/10\n",
      "546/546 [==============================] - 131s 240ms/step - loss: 1.9509 - val_loss: 2.0984\n",
      "Epoch 9/10\n",
      "546/546 [==============================] - 131s 240ms/step - loss: 1.8850 - val_loss: 2.0689\n",
      "Epoch 10/10\n",
      "546/546 [==============================] - 131s 240ms/step - loss: 1.8229 - val_loss: 2.0474\n"
     ]
    }
   ],
   "source": [
    "optimizer = tf.keras.optimizers.Adam()\n",
    "loss = tf.keras.losses.SparseCategoricalCrossentropy(from_logits=True,\n",
    "                                                    reduction='none')\n",
    "model.compile(loss=loss, optimizer=optimizer)\n",
    "history = model.fit(train_dataset, epochs=10, validation_data=val_dataset)"
   ]
  },
  {
   "cell_type": "code",
   "execution_count": 10,
   "id": "045348db",
   "metadata": {},
   "outputs": [
    {
     "data": {
      "image/png": "[encoded data removed]",
      "text/plain": [
       "<Figure size 432x288 with 2 Axes>"
      ]
     },
     "metadata": {
      "needs_background": "light"
     },
     "output_type": "display_data"
    }
   ],
   "source": [
    "import matplotlib.pyplot as plt\n",
    "\n",
    "fig, loss_ax = plt.subplots()\n",
    "\n",
    "acc_ax = loss_ax.twinx()\n",
    "\n",
    "loss_ax.plot(history.history['loss'], 'y', label='train loss')\n",
    "loss_ax.plot(history.history['val_loss'], 'r', label='val loss')\n",
    "loss_ax.set_xlabel('epoch')\n",
    "loss_ax.set_ylabel('loss')\n",
    "loss_ax.legend(loc='best')\n",
    "plt.show()"
   ]
  },
  {
   "cell_type": "markdown",
   "id": "a1a1da3d",
   "metadata": {},
   "source": [
    "---"
   ]
  },
  {
   "cell_type": "markdown",
   "id": "4a9eb6eb",
   "metadata": {},
   "source": [
    "#### 2. train_dataset 크기보다 0.1배 작은 값"
   ]
  },
  {
   "cell_type": "code",
   "execution_count": 11,
   "id": "6ee33486",
   "metadata": {},
   "outputs": [
    {
     "data": {
      "text/plain": [
       "<BatchDataset shapes: ((256, 19), (256, 19)), types: (tf.int32, tf.int32)>"
      ]
     },
     "execution_count": 11,
     "metadata": {},
     "output_type": "execute_result"
    }
   ],
   "source": [
    "BUFFER_SIZE = 13979\n",
    "BATCH_SIZE = 256\n",
    "steps_per_epoch = len(src_input) // BATCH_SIZE\n",
    "\n",
    "VOCAB_SIZE = tokenizer.num_words + 1   \n",
    "\n",
    "train_dataset2 = tf.data.Dataset.from_tensor_slices((enc_train, dec_train))\n",
    "train_dataset2 = train_dataset2.shuffle(BUFFER_SIZE)\n",
    "train_dataset2 = train_dataset2.batch(BATCH_SIZE, drop_remainder=True)\n",
    "train_dataset2"
   ]
  },
  {
   "cell_type": "code",
   "execution_count": 12,
   "id": "19ae97b0",
   "metadata": {},
   "outputs": [
    {
     "name": "stdout",
     "output_type": "stream",
     "text": [
      "Epoch 1/10\n",
      "546/546 [==============================] - 149s 273ms/step - loss: 1.7632 - val_loss: 2.0272\n",
      "Epoch 2/10\n",
      "546/546 [==============================] - 286s 525ms/step - loss: 1.7064 - val_loss: 2.0107\n",
      "Epoch 3/10\n",
      "546/546 [==============================] - 258s 472ms/step - loss: 1.6510 - val_loss: 1.9976\n",
      "Epoch 4/10\n",
      "546/546 [==============================] - 258s 473ms/step - loss: 1.5969 - val_loss: 1.9862\n",
      "Epoch 5/10\n",
      "546/546 [==============================] - 294s 538ms/step - loss: 1.5444 - val_loss: 1.9779\n",
      "Epoch 6/10\n",
      "546/546 [==============================] - 294s 538ms/step - loss: 1.4938 - val_loss: 1.9717\n",
      "Epoch 7/10\n",
      "546/546 [==============================] - 294s 538ms/step - loss: 1.4447 - val_loss: 1.9694\n",
      "Epoch 8/10\n",
      "546/546 [==============================] - 294s 538ms/step - loss: 1.3973 - val_loss: 1.9657\n",
      "Epoch 9/10\n",
      "546/546 [==============================] - 294s 538ms/step - loss: 1.3512 - val_loss: 1.9665\n",
      "Epoch 10/10\n",
      "546/546 [==============================] - 294s 538ms/step - loss: 1.3069 - val_loss: 1.9666\n"
     ]
    }
   ],
   "source": [
    "history = model.fit(train_dataset2, epochs=10, validation_data=val_dataset)"
   ]
  },
  {
   "cell_type": "code",
   "execution_count": 13,
   "id": "93b6179d",
   "metadata": {},
   "outputs": [
    {
     "data": {
      "image/png": "[encoded data removed]",
      "text/plain": [
       "<Figure size 432x288 with 2 Axes>"
      ]
     },
     "metadata": {
      "needs_background": "light"
     },
     "output_type": "display_data"
    }
   ],
   "source": [
    "import matplotlib.pyplot as plt\n",
    "\n",
    "fig, loss_ax = plt.subplots()\n",
    "\n",
    "acc_ax = loss_ax.twinx()\n",
    "\n",
    "loss_ax.plot(history.history['loss'], 'y', label='train loss')\n",
    "loss_ax.plot(history.history['val_loss'], 'r', label='val loss')\n",
    "loss_ax.set_xlabel('epoch')\n",
    "loss_ax.set_ylabel('loss')\n",
    "loss_ax.legend(loc='best')\n",
    "plt.show()"
   ]
  },
  {
   "cell_type": "markdown",
   "id": "5af8c25c",
   "metadata": {},
   "source": [
    "Buffer_size로 training dataset 개수보다 10배 작은 값을 사용했을 때, overfitting이 심하게 발생하는 것을 알 수 있음."
   ]
  },
  {
   "cell_type": "markdown",
   "id": "49b0b36e",
   "metadata": {},
   "source": [
    "---"
   ]
  },
  {
   "cell_type": "markdown",
   "id": "6ee5a9cf",
   "metadata": {},
   "source": [
    "#### 3. train_dataset 크기와 같은 값"
   ]
  },
  {
   "cell_type": "code",
   "execution_count": 14,
   "id": "2888e4d8",
   "metadata": {},
   "outputs": [
    {
     "data": {
      "text/plain": [
       "<BatchDataset shapes: ((256, 19), (256, 19)), types: (tf.int32, tf.int32)>"
      ]
     },
     "execution_count": 14,
     "metadata": {},
     "output_type": "execute_result"
    }
   ],
   "source": [
    "BUFFER_SIZE = 139790\n",
    "BATCH_SIZE = 256\n",
    "steps_per_epoch = len(src_input) // BATCH_SIZE\n",
    "\n",
    "VOCAB_SIZE = tokenizer.num_words + 1   \n",
    "\n",
    "train_dataset3 = tf.data.Dataset.from_tensor_slices((enc_train, dec_train))\n",
    "train_dataset3 = train_dataset3.shuffle(BUFFER_SIZE)\n",
    "train_dataset3 = train_dataset3.batch(BATCH_SIZE, drop_remainder=True)\n",
    "train_dataset3"
   ]
  },
  {
   "cell_type": "code",
   "execution_count": 15,
   "id": "3786d972",
   "metadata": {},
   "outputs": [
    {
     "name": "stdout",
     "output_type": "stream",
     "text": [
      "Epoch 1/10\n",
      "546/546 [==============================] - 227s 416ms/step - loss: 1.2699 - val_loss: 1.9640\n",
      "Epoch 2/10\n",
      "546/546 [==============================] - 275s 504ms/step - loss: 1.2271 - val_loss: 1.9694\n",
      "Epoch 3/10\n",
      "546/546 [==============================] - 276s 505ms/step - loss: 1.1864 - val_loss: 1.9725\n",
      "Epoch 4/10\n",
      "546/546 [==============================] - 276s 504ms/step - loss: 1.1485 - val_loss: 1.9779\n",
      "Epoch 5/10\n",
      "546/546 [==============================] - 276s 505ms/step - loss: 1.1112 - val_loss: 1.9866\n",
      "Epoch 6/10\n",
      "546/546 [==============================] - 275s 504ms/step - loss: 1.0769 - val_loss: 1.9955\n",
      "Epoch 7/10\n",
      "546/546 [==============================] - 258s 473ms/step - loss: 1.0436 - val_loss: 2.0037\n",
      "Epoch 8/10\n",
      "546/546 [==============================] - 275s 503ms/step - loss: 1.0127 - val_loss: 2.0173\n",
      "Epoch 9/10\n",
      "546/546 [==============================] - 275s 504ms/step - loss: 0.9828 - val_loss: 2.0237\n",
      "Epoch 10/10\n",
      "546/546 [==============================] - 275s 504ms/step - loss: 0.9551 - val_loss: 2.0398\n"
     ]
    }
   ],
   "source": [
    "history = model.fit(train_dataset3, epochs=10, validation_data=val_dataset)"
   ]
  },
  {
   "cell_type": "code",
   "execution_count": 16,
   "id": "e922646d",
   "metadata": {},
   "outputs": [
    {
     "data": {
      "image/png": "[encoded data removed]",
      "text/plain": [
       "<Figure size 432x288 with 2 Axes>"
      ]
     },
     "metadata": {
      "needs_background": "light"
     },
     "output_type": "display_data"
    }
   ],
   "source": [
    "import matplotlib.pyplot as plt\n",
    "\n",
    "fig, loss_ax = plt.subplots()\n",
    "\n",
    "acc_ax = loss_ax.twinx()\n",
    "\n",
    "loss_ax.plot(history.history['loss'], 'y', label='train loss')\n",
    "loss_ax.plot(history.history['val_loss'], 'r', label='val loss')\n",
    "loss_ax.set_xlabel('epoch')\n",
    "loss_ax.set_ylabel('loss')\n",
    "loss_ax.legend(loc='best')\n",
    "plt.show()"
   ]
  },
  {
   "cell_type": "markdown",
   "id": "7c23a1fa",
   "metadata": {},
   "source": [
    "train_dataset 크기와 같은 값을 buffer_size로 설정한 경우에도 overfitting이 심하게 발생한 것을 알 수 있다.\n",
    "\n",
    "train_dataset크기보다 큰 값을 buffer_size로 설정해야 데이터를 적절히 shuffle하여 ordering되어있거나 패턴화된 데이터를 가지고 학습할 수 있음을 알 수 있다."
   ]
  }
 ],
 "metadata": {
  "kernelspec": {
   "display_name": "Python 3 (ipykernel)",
   "language": "python",
   "name": "python3"
  },
  "language_info": {
   "codemirror_mode": {
    "name": "ipython",
    "version": 3
   },
   "file_extension": ".py",
   "mimetype": "text/x-python",
   "name": "python",
   "nbconvert_exporter": "python",
   "pygments_lexer": "ipython3",
   "version": "3.9.7"
  }
 },
 "nbformat": 4,
 "nbformat_minor": 5
}
